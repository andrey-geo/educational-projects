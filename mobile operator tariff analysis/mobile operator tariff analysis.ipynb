{
 "cells": [
  {
   "cell_type": "markdown",
   "metadata": {},
   "source": [
    "**Определение перспективного тарифа для телеком-компании**\n",
    "---"
   ]
  },
  {
   "cell_type": "markdown",
   "metadata": {},
   "source": [
    "_____\n",
    "**Описание исследования.**\n",
    "\n",
    "Компания «Мегалайн» — федеральный оператор сотовой связи, предлагает два тарифных плана: «Смарт» и «Ультра». Чтобы скорректировать рекламный бюджет, коммерческий департамент хочет понять, какой тариф приносит больше денег.\n",
    "_____\n",
    "**Цель исследования.**\n",
    "    \n",
    "Необходимо провести предварительный анализ тарифов на небольшой выборке клиентов. В нашем распоряжении данные 500 пользователей «Мегалайна»: кто они, откуда, каким тарифом пользуются, сколько звонков и сообщений каждый отправил за 2018 год. Нужно проанализировать поведение клиентов и сделать вывод — какой тариф лучше.\n",
    "    \n",
    "_____\n",
    "**Задачи исследования.**\n",
    "\n",
    "- Определить сколько минут разговора, сколько сообщений и какой объём интернет-трафика требуется пользователям каждого тарифа в месяц;\n",
    "- Рассчитать среднее количество, дисперсию и стандартное отклонение;\n",
    "- Построить гистограммы и описать распределения этих парраметров;\n",
    "- Проверить гипотезы:\n",
    " * средняя выручка пользователей тарифов «Ультра» и «Смарт» различаются;\n",
    " * средняя выручка пользователей из Москвы отличается от выручки пользователей из других регионов.\n",
    "\n",
    "_____\n",
    "**Исходные данные.**\n",
    "    \n",
    "- Таблица users (информация о пользователях);\n",
    "- Таблица calls (информация о звонках);\n",
    "- Таблица messages (информация о сообщениях);\n",
    "- Таблица internet (информация об интернет-сессиях);\n",
    "- Таблица tariffs (информация о тарифах).\n"
   ]
  },
  {
   "cell_type": "markdown",
   "metadata": {},
   "source": [
    "## Изучение данных из файла"
   ]
  },
  {
   "cell_type": "code",
   "execution_count": 1,
   "metadata": {},
   "outputs": [],
   "source": [
    "import pandas as pd\n",
    "import matplotlib.pyplot as plt\n",
    "import seaborn as sns\n",
    "from scipy import stats as st\n",
    "from math import factorial \n",
    "import numpy as np\n",
    "import math\n",
    "\n",
    "calls = pd.read_csv('calls.csv')\n",
    "internet = pd.read_csv('internet.csv', index_col = 0)\n",
    "messages = pd.read_csv('messages.csv')\n",
    "tariffs = pd.read_csv('tariffs.csv')\n",
    "users = pd.read_csv('users.csv')\n",
    "\n",
    "import warnings\n",
    "warnings.filterwarnings(\"ignore\")\n",
    "pd.set_option('display.float_format', '{:.2f}'.format)"
   ]
  },
  {
   "cell_type": "code",
   "execution_count": 2,
   "metadata": {},
   "outputs": [],
   "source": [
    "def inform(data): # объявим функцию для вывода первых строк и общей информации о файле\n",
    "    display(data.head())\n",
    "    print(data.info())"
   ]
  },
  {
   "cell_type": "code",
   "execution_count": 3,
   "metadata": {},
   "outputs": [
    {
     "data": {
      "text/html": [
       "<div>\n",
       "<style scoped>\n",
       "    .dataframe tbody tr th:only-of-type {\n",
       "        vertical-align: middle;\n",
       "    }\n",
       "\n",
       "    .dataframe tbody tr th {\n",
       "        vertical-align: top;\n",
       "    }\n",
       "\n",
       "    .dataframe thead th {\n",
       "        text-align: right;\n",
       "    }\n",
       "</style>\n",
       "<table border=\"1\" class=\"dataframe\">\n",
       "  <thead>\n",
       "    <tr style=\"text-align: right;\">\n",
       "      <th></th>\n",
       "      <th>id</th>\n",
       "      <th>call_date</th>\n",
       "      <th>duration</th>\n",
       "      <th>user_id</th>\n",
       "    </tr>\n",
       "  </thead>\n",
       "  <tbody>\n",
       "    <tr>\n",
       "      <th>0</th>\n",
       "      <td>1000_0</td>\n",
       "      <td>2018-07-25</td>\n",
       "      <td>0.00</td>\n",
       "      <td>1000</td>\n",
       "    </tr>\n",
       "    <tr>\n",
       "      <th>1</th>\n",
       "      <td>1000_1</td>\n",
       "      <td>2018-08-17</td>\n",
       "      <td>0.00</td>\n",
       "      <td>1000</td>\n",
       "    </tr>\n",
       "    <tr>\n",
       "      <th>2</th>\n",
       "      <td>1000_2</td>\n",
       "      <td>2018-06-11</td>\n",
       "      <td>2.85</td>\n",
       "      <td>1000</td>\n",
       "    </tr>\n",
       "    <tr>\n",
       "      <th>3</th>\n",
       "      <td>1000_3</td>\n",
       "      <td>2018-09-21</td>\n",
       "      <td>13.80</td>\n",
       "      <td>1000</td>\n",
       "    </tr>\n",
       "    <tr>\n",
       "      <th>4</th>\n",
       "      <td>1000_4</td>\n",
       "      <td>2018-12-15</td>\n",
       "      <td>5.18</td>\n",
       "      <td>1000</td>\n",
       "    </tr>\n",
       "  </tbody>\n",
       "</table>\n",
       "</div>"
      ],
      "text/plain": [
       "       id   call_date  duration  user_id\n",
       "0  1000_0  2018-07-25      0.00     1000\n",
       "1  1000_1  2018-08-17      0.00     1000\n",
       "2  1000_2  2018-06-11      2.85     1000\n",
       "3  1000_3  2018-09-21     13.80     1000\n",
       "4  1000_4  2018-12-15      5.18     1000"
      ]
     },
     "metadata": {},
     "output_type": "display_data"
    },
    {
     "name": "stdout",
     "output_type": "stream",
     "text": [
      "<class 'pandas.core.frame.DataFrame'>\n",
      "RangeIndex: 202607 entries, 0 to 202606\n",
      "Data columns (total 4 columns):\n",
      " #   Column     Non-Null Count   Dtype  \n",
      "---  ------     --------------   -----  \n",
      " 0   id         202607 non-null  object \n",
      " 1   call_date  202607 non-null  object \n",
      " 2   duration   202607 non-null  float64\n",
      " 3   user_id    202607 non-null  int64  \n",
      "dtypes: float64(1), int64(1), object(2)\n",
      "memory usage: 6.2+ MB\n",
      "None\n"
     ]
    }
   ],
   "source": [
    "inform(calls)"
   ]
  },
  {
   "cell_type": "code",
   "execution_count": 4,
   "metadata": {
    "scrolled": false
   },
   "outputs": [
    {
     "data": {
      "text/html": [
       "<div>\n",
       "<style scoped>\n",
       "    .dataframe tbody tr th:only-of-type {\n",
       "        vertical-align: middle;\n",
       "    }\n",
       "\n",
       "    .dataframe tbody tr th {\n",
       "        vertical-align: top;\n",
       "    }\n",
       "\n",
       "    .dataframe thead th {\n",
       "        text-align: right;\n",
       "    }\n",
       "</style>\n",
       "<table border=\"1\" class=\"dataframe\">\n",
       "  <thead>\n",
       "    <tr style=\"text-align: right;\">\n",
       "      <th></th>\n",
       "      <th>id</th>\n",
       "      <th>mb_used</th>\n",
       "      <th>session_date</th>\n",
       "      <th>user_id</th>\n",
       "    </tr>\n",
       "  </thead>\n",
       "  <tbody>\n",
       "    <tr>\n",
       "      <th>0</th>\n",
       "      <td>1000_0</td>\n",
       "      <td>112.95</td>\n",
       "      <td>2018-11-25</td>\n",
       "      <td>1000</td>\n",
       "    </tr>\n",
       "    <tr>\n",
       "      <th>1</th>\n",
       "      <td>1000_1</td>\n",
       "      <td>1052.81</td>\n",
       "      <td>2018-09-07</td>\n",
       "      <td>1000</td>\n",
       "    </tr>\n",
       "    <tr>\n",
       "      <th>2</th>\n",
       "      <td>1000_2</td>\n",
       "      <td>1197.26</td>\n",
       "      <td>2018-06-25</td>\n",
       "      <td>1000</td>\n",
       "    </tr>\n",
       "    <tr>\n",
       "      <th>3</th>\n",
       "      <td>1000_3</td>\n",
       "      <td>550.27</td>\n",
       "      <td>2018-08-22</td>\n",
       "      <td>1000</td>\n",
       "    </tr>\n",
       "    <tr>\n",
       "      <th>4</th>\n",
       "      <td>1000_4</td>\n",
       "      <td>302.56</td>\n",
       "      <td>2018-09-24</td>\n",
       "      <td>1000</td>\n",
       "    </tr>\n",
       "  </tbody>\n",
       "</table>\n",
       "</div>"
      ],
      "text/plain": [
       "       id  mb_used session_date  user_id\n",
       "0  1000_0   112.95   2018-11-25     1000\n",
       "1  1000_1  1052.81   2018-09-07     1000\n",
       "2  1000_2  1197.26   2018-06-25     1000\n",
       "3  1000_3   550.27   2018-08-22     1000\n",
       "4  1000_4   302.56   2018-09-24     1000"
      ]
     },
     "metadata": {},
     "output_type": "display_data"
    },
    {
     "name": "stdout",
     "output_type": "stream",
     "text": [
      "<class 'pandas.core.frame.DataFrame'>\n",
      "Int64Index: 149396 entries, 0 to 149395\n",
      "Data columns (total 4 columns):\n",
      " #   Column        Non-Null Count   Dtype  \n",
      "---  ------        --------------   -----  \n",
      " 0   id            149396 non-null  object \n",
      " 1   mb_used       149396 non-null  float64\n",
      " 2   session_date  149396 non-null  object \n",
      " 3   user_id       149396 non-null  int64  \n",
      "dtypes: float64(1), int64(1), object(2)\n",
      "memory usage: 5.7+ MB\n",
      "None\n"
     ]
    }
   ],
   "source": [
    "inform(internet)"
   ]
  },
  {
   "cell_type": "code",
   "execution_count": 5,
   "metadata": {},
   "outputs": [
    {
     "data": {
      "text/html": [
       "<div>\n",
       "<style scoped>\n",
       "    .dataframe tbody tr th:only-of-type {\n",
       "        vertical-align: middle;\n",
       "    }\n",
       "\n",
       "    .dataframe tbody tr th {\n",
       "        vertical-align: top;\n",
       "    }\n",
       "\n",
       "    .dataframe thead th {\n",
       "        text-align: right;\n",
       "    }\n",
       "</style>\n",
       "<table border=\"1\" class=\"dataframe\">\n",
       "  <thead>\n",
       "    <tr style=\"text-align: right;\">\n",
       "      <th></th>\n",
       "      <th>id</th>\n",
       "      <th>message_date</th>\n",
       "      <th>user_id</th>\n",
       "    </tr>\n",
       "  </thead>\n",
       "  <tbody>\n",
       "    <tr>\n",
       "      <th>0</th>\n",
       "      <td>1000_0</td>\n",
       "      <td>2018-06-27</td>\n",
       "      <td>1000</td>\n",
       "    </tr>\n",
       "    <tr>\n",
       "      <th>1</th>\n",
       "      <td>1000_1</td>\n",
       "      <td>2018-10-08</td>\n",
       "      <td>1000</td>\n",
       "    </tr>\n",
       "    <tr>\n",
       "      <th>2</th>\n",
       "      <td>1000_2</td>\n",
       "      <td>2018-08-04</td>\n",
       "      <td>1000</td>\n",
       "    </tr>\n",
       "    <tr>\n",
       "      <th>3</th>\n",
       "      <td>1000_3</td>\n",
       "      <td>2018-06-16</td>\n",
       "      <td>1000</td>\n",
       "    </tr>\n",
       "    <tr>\n",
       "      <th>4</th>\n",
       "      <td>1000_4</td>\n",
       "      <td>2018-12-05</td>\n",
       "      <td>1000</td>\n",
       "    </tr>\n",
       "  </tbody>\n",
       "</table>\n",
       "</div>"
      ],
      "text/plain": [
       "       id message_date  user_id\n",
       "0  1000_0   2018-06-27     1000\n",
       "1  1000_1   2018-10-08     1000\n",
       "2  1000_2   2018-08-04     1000\n",
       "3  1000_3   2018-06-16     1000\n",
       "4  1000_4   2018-12-05     1000"
      ]
     },
     "metadata": {},
     "output_type": "display_data"
    },
    {
     "name": "stdout",
     "output_type": "stream",
     "text": [
      "<class 'pandas.core.frame.DataFrame'>\n",
      "RangeIndex: 123036 entries, 0 to 123035\n",
      "Data columns (total 3 columns):\n",
      " #   Column        Non-Null Count   Dtype \n",
      "---  ------        --------------   ----- \n",
      " 0   id            123036 non-null  object\n",
      " 1   message_date  123036 non-null  object\n",
      " 2   user_id       123036 non-null  int64 \n",
      "dtypes: int64(1), object(2)\n",
      "memory usage: 2.8+ MB\n",
      "None\n"
     ]
    }
   ],
   "source": [
    "inform(messages)"
   ]
  },
  {
   "cell_type": "code",
   "execution_count": 6,
   "metadata": {
    "scrolled": false
   },
   "outputs": [
    {
     "data": {
      "text/html": [
       "<div>\n",
       "<style scoped>\n",
       "    .dataframe tbody tr th:only-of-type {\n",
       "        vertical-align: middle;\n",
       "    }\n",
       "\n",
       "    .dataframe tbody tr th {\n",
       "        vertical-align: top;\n",
       "    }\n",
       "\n",
       "    .dataframe thead th {\n",
       "        text-align: right;\n",
       "    }\n",
       "</style>\n",
       "<table border=\"1\" class=\"dataframe\">\n",
       "  <thead>\n",
       "    <tr style=\"text-align: right;\">\n",
       "      <th></th>\n",
       "      <th>user_id</th>\n",
       "      <th>age</th>\n",
       "      <th>churn_date</th>\n",
       "      <th>city</th>\n",
       "      <th>first_name</th>\n",
       "      <th>last_name</th>\n",
       "      <th>reg_date</th>\n",
       "      <th>tariff</th>\n",
       "    </tr>\n",
       "  </thead>\n",
       "  <tbody>\n",
       "    <tr>\n",
       "      <th>0</th>\n",
       "      <td>1000</td>\n",
       "      <td>52</td>\n",
       "      <td>NaN</td>\n",
       "      <td>Краснодар</td>\n",
       "      <td>Рафаил</td>\n",
       "      <td>Верещагин</td>\n",
       "      <td>2018-05-25</td>\n",
       "      <td>ultra</td>\n",
       "    </tr>\n",
       "    <tr>\n",
       "      <th>1</th>\n",
       "      <td>1001</td>\n",
       "      <td>41</td>\n",
       "      <td>NaN</td>\n",
       "      <td>Москва</td>\n",
       "      <td>Иван</td>\n",
       "      <td>Ежов</td>\n",
       "      <td>2018-11-01</td>\n",
       "      <td>smart</td>\n",
       "    </tr>\n",
       "    <tr>\n",
       "      <th>2</th>\n",
       "      <td>1002</td>\n",
       "      <td>59</td>\n",
       "      <td>NaN</td>\n",
       "      <td>Стерлитамак</td>\n",
       "      <td>Евгений</td>\n",
       "      <td>Абрамович</td>\n",
       "      <td>2018-06-17</td>\n",
       "      <td>smart</td>\n",
       "    </tr>\n",
       "    <tr>\n",
       "      <th>3</th>\n",
       "      <td>1003</td>\n",
       "      <td>23</td>\n",
       "      <td>NaN</td>\n",
       "      <td>Москва</td>\n",
       "      <td>Белла</td>\n",
       "      <td>Белякова</td>\n",
       "      <td>2018-08-17</td>\n",
       "      <td>ultra</td>\n",
       "    </tr>\n",
       "    <tr>\n",
       "      <th>4</th>\n",
       "      <td>1004</td>\n",
       "      <td>68</td>\n",
       "      <td>NaN</td>\n",
       "      <td>Новокузнецк</td>\n",
       "      <td>Татьяна</td>\n",
       "      <td>Авдеенко</td>\n",
       "      <td>2018-05-14</td>\n",
       "      <td>ultra</td>\n",
       "    </tr>\n",
       "  </tbody>\n",
       "</table>\n",
       "</div>"
      ],
      "text/plain": [
       "   user_id  age churn_date         city first_name  last_name    reg_date  \\\n",
       "0     1000   52        NaN    Краснодар     Рафаил  Верещагин  2018-05-25   \n",
       "1     1001   41        NaN       Москва       Иван       Ежов  2018-11-01   \n",
       "2     1002   59        NaN  Стерлитамак    Евгений  Абрамович  2018-06-17   \n",
       "3     1003   23        NaN       Москва      Белла   Белякова  2018-08-17   \n",
       "4     1004   68        NaN  Новокузнецк    Татьяна   Авдеенко  2018-05-14   \n",
       "\n",
       "  tariff  \n",
       "0  ultra  \n",
       "1  smart  \n",
       "2  smart  \n",
       "3  ultra  \n",
       "4  ultra  "
      ]
     },
     "metadata": {},
     "output_type": "display_data"
    },
    {
     "name": "stdout",
     "output_type": "stream",
     "text": [
      "<class 'pandas.core.frame.DataFrame'>\n",
      "RangeIndex: 500 entries, 0 to 499\n",
      "Data columns (total 8 columns):\n",
      " #   Column      Non-Null Count  Dtype \n",
      "---  ------      --------------  ----- \n",
      " 0   user_id     500 non-null    int64 \n",
      " 1   age         500 non-null    int64 \n",
      " 2   churn_date  38 non-null     object\n",
      " 3   city        500 non-null    object\n",
      " 4   first_name  500 non-null    object\n",
      " 5   last_name   500 non-null    object\n",
      " 6   reg_date    500 non-null    object\n",
      " 7   tariff      500 non-null    object\n",
      "dtypes: int64(2), object(6)\n",
      "memory usage: 31.4+ KB\n",
      "None\n"
     ]
    }
   ],
   "source": [
    "inform(users)"
   ]
  },
  {
   "cell_type": "code",
   "execution_count": 7,
   "metadata": {},
   "outputs": [
    {
     "data": {
      "text/html": [
       "<div>\n",
       "<style scoped>\n",
       "    .dataframe tbody tr th:only-of-type {\n",
       "        vertical-align: middle;\n",
       "    }\n",
       "\n",
       "    .dataframe tbody tr th {\n",
       "        vertical-align: top;\n",
       "    }\n",
       "\n",
       "    .dataframe thead th {\n",
       "        text-align: right;\n",
       "    }\n",
       "</style>\n",
       "<table border=\"1\" class=\"dataframe\">\n",
       "  <thead>\n",
       "    <tr style=\"text-align: right;\">\n",
       "      <th></th>\n",
       "      <th>messages_included</th>\n",
       "      <th>mb_per_month_included</th>\n",
       "      <th>minutes_included</th>\n",
       "      <th>rub_monthly_fee</th>\n",
       "      <th>rub_per_gb</th>\n",
       "      <th>rub_per_message</th>\n",
       "      <th>rub_per_minute</th>\n",
       "      <th>tariff_name</th>\n",
       "    </tr>\n",
       "  </thead>\n",
       "  <tbody>\n",
       "    <tr>\n",
       "      <th>0</th>\n",
       "      <td>50</td>\n",
       "      <td>15360</td>\n",
       "      <td>500</td>\n",
       "      <td>550</td>\n",
       "      <td>200</td>\n",
       "      <td>3</td>\n",
       "      <td>3</td>\n",
       "      <td>smart</td>\n",
       "    </tr>\n",
       "    <tr>\n",
       "      <th>1</th>\n",
       "      <td>1000</td>\n",
       "      <td>30720</td>\n",
       "      <td>3000</td>\n",
       "      <td>1950</td>\n",
       "      <td>150</td>\n",
       "      <td>1</td>\n",
       "      <td>1</td>\n",
       "      <td>ultra</td>\n",
       "    </tr>\n",
       "  </tbody>\n",
       "</table>\n",
       "</div>"
      ],
      "text/plain": [
       "   messages_included  mb_per_month_included  minutes_included  \\\n",
       "0                 50                  15360               500   \n",
       "1               1000                  30720              3000   \n",
       "\n",
       "   rub_monthly_fee  rub_per_gb  rub_per_message  rub_per_minute tariff_name  \n",
       "0              550         200                3               3       smart  \n",
       "1             1950         150                1               1       ultra  "
      ]
     },
     "metadata": {},
     "output_type": "display_data"
    },
    {
     "name": "stdout",
     "output_type": "stream",
     "text": [
      "<class 'pandas.core.frame.DataFrame'>\n",
      "RangeIndex: 2 entries, 0 to 1\n",
      "Data columns (total 8 columns):\n",
      " #   Column                 Non-Null Count  Dtype \n",
      "---  ------                 --------------  ----- \n",
      " 0   messages_included      2 non-null      int64 \n",
      " 1   mb_per_month_included  2 non-null      int64 \n",
      " 2   minutes_included       2 non-null      int64 \n",
      " 3   rub_monthly_fee        2 non-null      int64 \n",
      " 4   rub_per_gb             2 non-null      int64 \n",
      " 5   rub_per_message        2 non-null      int64 \n",
      " 6   rub_per_minute         2 non-null      int64 \n",
      " 7   tariff_name            2 non-null      object\n",
      "dtypes: int64(7), object(1)\n",
      "memory usage: 256.0+ bytes\n",
      "None\n"
     ]
    }
   ],
   "source": [
    "inform(tariffs)"
   ]
  },
  {
   "cell_type": "markdown",
   "metadata": {},
   "source": [
    "### Вывод"
   ]
  },
  {
   "cell_type": "markdown",
   "metadata": {},
   "source": [
    "У нас в распоряжении данные о пользователях сотовой связи. В пяти таблицах представлены данные о 500 пользователях и о их звонках, сообщениях, интернет тарфике и о тарифах, которыми они пользуются."
   ]
  },
  {
   "cell_type": "markdown",
   "metadata": {},
   "source": [
    "Описание данных:  \n",
    "\n",
    "Таблица `users` (информация о пользователях):\n",
    "- user_id — уникальный идентификатор пользователя\n",
    "- first_name — имя пользователя\n",
    "- last_name — фамилия пользователя\n",
    "- age — возраст пользователя (годы)\n",
    "- reg_date — дата подключения тарифа (день, месяц, год)\n",
    "- churn_date — дата прекращения пользования тарифом (если значение пропущено, то тариф ещё действовал на момент выгрузки данных)\n",
    "- city — город проживания пользователя\n",
    "- tarif — название тарифного плана  \n",
    "\n",
    "Таблица `calls` (информация о звонках):\n",
    "- id — уникальный номер звонка\n",
    "- call_date — дата звонка\n",
    "- duration — длительность звонка в минутах\n",
    "- user_id — идентификатор пользователя, сделавшего звонок  \n",
    "\n",
    "Таблица `messages` (информация о сообщениях):\n",
    "- id — уникальный номер сообщения\n",
    "- message_date — дата сообщения\n",
    "- user_id — идентификатор пользователя, отправившего сообщение  \n",
    "\n",
    "Таблица `internet` (информация об интернет-сессиях):\n",
    "- id — уникальный номер сессии\n",
    "- mb_used — объём потраченного за сессию интернет-трафика (в мегабайтах)\n",
    "- session_date — дата интернет-сессии\n",
    "- user_id — идентификатор пользователя  \n",
    "\n",
    "Таблица `tariffs` (информация о тарифах):\n",
    "- tariff_name — название тарифа\n",
    "- rub_monthly_fee — ежемесячная абонентская плата в рублях\n",
    "- minutes_included — количество минут разговора в месяц, включённых в абонентскую плату\n",
    "- messages_included — количество сообщений в месяц, включённых в абонентскую плату\n",
    "- mb_per_month_included — объём интернет-трафика, включённого в абонентскую плату (в мегабайтах)\n",
    "- rub_per_minute — стоимость минуты разговора сверх тарифного пакета (например, если в тарифе 100 минут разговора в месяц, то со 101 минуты будет взиматься плата)\n",
    "- rub_per_message — стоимость отправки сообщения сверх тарифного пакета\n",
    "- rub_per_gb — стоимость дополнительного гигабайта интернет-трафика сверх тарифного пакета (1 гигабайт = 1024 мегабайта)"
   ]
  },
  {
   "cell_type": "markdown",
   "metadata": {},
   "source": [
    "В некотрых столбцах необходимо изменить тип данных, убрать ошибки."
   ]
  },
  {
   "cell_type": "markdown",
   "metadata": {},
   "source": [
    "## Предобработка данных"
   ]
  },
  {
   "cell_type": "markdown",
   "metadata": {},
   "source": [
    "### Замена типа данных"
   ]
  },
  {
   "cell_type": "markdown",
   "metadata": {},
   "source": [
    "**Обработаем таблицу со звонками пользователей**"
   ]
  },
  {
   "cell_type": "markdown",
   "metadata": {},
   "source": [
    "Приведем значения в столбце \"дата звонка\" к типу datetime:"
   ]
  },
  {
   "cell_type": "code",
   "execution_count": 8,
   "metadata": {},
   "outputs": [],
   "source": [
    "calls['call_date'] = pd.to_datetime(calls['call_date'], format='%Y-%m-%d')"
   ]
  },
  {
   "cell_type": "markdown",
   "metadata": {},
   "source": [
    "Округлим минуты до целого. Так как оператор всегда округляет секунды до минут, т.е. любая дробная часть превращается в дополнительную минуту. Применим метод math.ceil(), который округляет число в большую сторону."
   ]
  },
  {
   "cell_type": "code",
   "execution_count": 9,
   "metadata": {},
   "outputs": [],
   "source": [
    "calls['duration'] = calls['duration'].apply(lambda x : math.ceil(x))"
   ]
  },
  {
   "cell_type": "code",
   "execution_count": 10,
   "metadata": {},
   "outputs": [
    {
     "data": {
      "text/html": [
       "<div>\n",
       "<style scoped>\n",
       "    .dataframe tbody tr th:only-of-type {\n",
       "        vertical-align: middle;\n",
       "    }\n",
       "\n",
       "    .dataframe tbody tr th {\n",
       "        vertical-align: top;\n",
       "    }\n",
       "\n",
       "    .dataframe thead th {\n",
       "        text-align: right;\n",
       "    }\n",
       "</style>\n",
       "<table border=\"1\" class=\"dataframe\">\n",
       "  <thead>\n",
       "    <tr style=\"text-align: right;\">\n",
       "      <th></th>\n",
       "      <th>id</th>\n",
       "      <th>call_date</th>\n",
       "      <th>duration</th>\n",
       "      <th>user_id</th>\n",
       "    </tr>\n",
       "  </thead>\n",
       "  <tbody>\n",
       "    <tr>\n",
       "      <th>0</th>\n",
       "      <td>1000_0</td>\n",
       "      <td>2018-07-25</td>\n",
       "      <td>0</td>\n",
       "      <td>1000</td>\n",
       "    </tr>\n",
       "    <tr>\n",
       "      <th>1</th>\n",
       "      <td>1000_1</td>\n",
       "      <td>2018-08-17</td>\n",
       "      <td>0</td>\n",
       "      <td>1000</td>\n",
       "    </tr>\n",
       "    <tr>\n",
       "      <th>2</th>\n",
       "      <td>1000_2</td>\n",
       "      <td>2018-06-11</td>\n",
       "      <td>3</td>\n",
       "      <td>1000</td>\n",
       "    </tr>\n",
       "    <tr>\n",
       "      <th>3</th>\n",
       "      <td>1000_3</td>\n",
       "      <td>2018-09-21</td>\n",
       "      <td>14</td>\n",
       "      <td>1000</td>\n",
       "    </tr>\n",
       "    <tr>\n",
       "      <th>4</th>\n",
       "      <td>1000_4</td>\n",
       "      <td>2018-12-15</td>\n",
       "      <td>6</td>\n",
       "      <td>1000</td>\n",
       "    </tr>\n",
       "  </tbody>\n",
       "</table>\n",
       "</div>"
      ],
      "text/plain": [
       "       id  call_date  duration  user_id\n",
       "0  1000_0 2018-07-25         0     1000\n",
       "1  1000_1 2018-08-17         0     1000\n",
       "2  1000_2 2018-06-11         3     1000\n",
       "3  1000_3 2018-09-21        14     1000\n",
       "4  1000_4 2018-12-15         6     1000"
      ]
     },
     "execution_count": 10,
     "metadata": {},
     "output_type": "execute_result"
    }
   ],
   "source": [
    "calls.head() # Проверим как округлились значения"
   ]
  },
  {
   "cell_type": "markdown",
   "metadata": {},
   "source": [
    "**Обработаем таблицу с интернет сессиями пользователей**"
   ]
  },
  {
   "cell_type": "markdown",
   "metadata": {},
   "source": [
    "Приведем значения в столбце \"дата интернет сессии\" к типу datetime:"
   ]
  },
  {
   "cell_type": "code",
   "execution_count": 11,
   "metadata": {},
   "outputs": [],
   "source": [
    "internet['session_date'] = pd.to_datetime(internet['session_date'], format='%Y-%m-%d')"
   ]
  },
  {
   "cell_type": "code",
   "execution_count": 12,
   "metadata": {},
   "outputs": [
    {
     "data": {
      "text/html": [
       "<div>\n",
       "<style scoped>\n",
       "    .dataframe tbody tr th:only-of-type {\n",
       "        vertical-align: middle;\n",
       "    }\n",
       "\n",
       "    .dataframe tbody tr th {\n",
       "        vertical-align: top;\n",
       "    }\n",
       "\n",
       "    .dataframe thead th {\n",
       "        text-align: right;\n",
       "    }\n",
       "</style>\n",
       "<table border=\"1\" class=\"dataframe\">\n",
       "  <thead>\n",
       "    <tr style=\"text-align: right;\">\n",
       "      <th></th>\n",
       "      <th>id</th>\n",
       "      <th>mb_used</th>\n",
       "      <th>session_date</th>\n",
       "      <th>user_id</th>\n",
       "    </tr>\n",
       "  </thead>\n",
       "  <tbody>\n",
       "    <tr>\n",
       "      <th>0</th>\n",
       "      <td>1000_0</td>\n",
       "      <td>112.95</td>\n",
       "      <td>2018-11-25</td>\n",
       "      <td>1000</td>\n",
       "    </tr>\n",
       "    <tr>\n",
       "      <th>1</th>\n",
       "      <td>1000_1</td>\n",
       "      <td>1052.81</td>\n",
       "      <td>2018-09-07</td>\n",
       "      <td>1000</td>\n",
       "    </tr>\n",
       "    <tr>\n",
       "      <th>2</th>\n",
       "      <td>1000_2</td>\n",
       "      <td>1197.26</td>\n",
       "      <td>2018-06-25</td>\n",
       "      <td>1000</td>\n",
       "    </tr>\n",
       "    <tr>\n",
       "      <th>3</th>\n",
       "      <td>1000_3</td>\n",
       "      <td>550.27</td>\n",
       "      <td>2018-08-22</td>\n",
       "      <td>1000</td>\n",
       "    </tr>\n",
       "    <tr>\n",
       "      <th>4</th>\n",
       "      <td>1000_4</td>\n",
       "      <td>302.56</td>\n",
       "      <td>2018-09-24</td>\n",
       "      <td>1000</td>\n",
       "    </tr>\n",
       "  </tbody>\n",
       "</table>\n",
       "</div>"
      ],
      "text/plain": [
       "       id  mb_used session_date  user_id\n",
       "0  1000_0   112.95   2018-11-25     1000\n",
       "1  1000_1  1052.81   2018-09-07     1000\n",
       "2  1000_2  1197.26   2018-06-25     1000\n",
       "3  1000_3   550.27   2018-08-22     1000\n",
       "4  1000_4   302.56   2018-09-24     1000"
      ]
     },
     "execution_count": 12,
     "metadata": {},
     "output_type": "execute_result"
    }
   ],
   "source": [
    "internet.head() # Посмотрим как округлились данные в столбце с объемом трафика."
   ]
  },
  {
   "cell_type": "markdown",
   "metadata": {},
   "source": [
    "**Обработаем таблицу с сообщениями пользователей**"
   ]
  },
  {
   "cell_type": "markdown",
   "metadata": {},
   "source": [
    "Приведем значения в столбце \"дата сообщения\" к типу datetime:"
   ]
  },
  {
   "cell_type": "code",
   "execution_count": 13,
   "metadata": {},
   "outputs": [],
   "source": [
    "messages['message_date'] = pd.to_datetime(messages['message_date'], format='%Y-%m-%d')"
   ]
  },
  {
   "cell_type": "code",
   "execution_count": 14,
   "metadata": {},
   "outputs": [
    {
     "name": "stdout",
     "output_type": "stream",
     "text": [
      "<class 'pandas.core.frame.DataFrame'>\n",
      "RangeIndex: 123036 entries, 0 to 123035\n",
      "Data columns (total 3 columns):\n",
      " #   Column        Non-Null Count   Dtype         \n",
      "---  ------        --------------   -----         \n",
      " 0   id            123036 non-null  object        \n",
      " 1   message_date  123036 non-null  datetime64[ns]\n",
      " 2   user_id       123036 non-null  int64         \n",
      "dtypes: datetime64[ns](1), int64(1), object(1)\n",
      "memory usage: 2.8+ MB\n"
     ]
    }
   ],
   "source": [
    "messages.info()"
   ]
  },
  {
   "cell_type": "markdown",
   "metadata": {},
   "source": [
    "**Обработаем таблицу с информацией о пользователях**"
   ]
  },
  {
   "cell_type": "markdown",
   "metadata": {},
   "source": [
    "Приведем значения в столбце \"дата подключения к тарифу\" к типу datetime:"
   ]
  },
  {
   "cell_type": "code",
   "execution_count": 15,
   "metadata": {},
   "outputs": [],
   "source": [
    "users['reg_date'] = pd.to_datetime(users['reg_date'], format='%Y-%m-%d')"
   ]
  },
  {
   "cell_type": "code",
   "execution_count": 16,
   "metadata": {},
   "outputs": [
    {
     "name": "stdout",
     "output_type": "stream",
     "text": [
      "<class 'pandas.core.frame.DataFrame'>\n",
      "RangeIndex: 500 entries, 0 to 499\n",
      "Data columns (total 8 columns):\n",
      " #   Column      Non-Null Count  Dtype         \n",
      "---  ------      --------------  -----         \n",
      " 0   user_id     500 non-null    int64         \n",
      " 1   age         500 non-null    int64         \n",
      " 2   churn_date  38 non-null     object        \n",
      " 3   city        500 non-null    object        \n",
      " 4   first_name  500 non-null    object        \n",
      " 5   last_name   500 non-null    object        \n",
      " 6   reg_date    500 non-null    datetime64[ns]\n",
      " 7   tariff      500 non-null    object        \n",
      "dtypes: datetime64[ns](1), int64(2), object(5)\n",
      "memory usage: 31.4+ KB\n"
     ]
    }
   ],
   "source": [
    "users.info()"
   ]
  },
  {
   "cell_type": "markdown",
   "metadata": {},
   "source": [
    "В столбце `churn_date` (Дата прекращения пользования тарифа) есть пропущенные значения, но мы знаем что пропущенные значения означают что тариф еще действует."
   ]
  },
  {
   "cell_type": "markdown",
   "metadata": {},
   "source": [
    "### Подсчет дополнительных параметров"
   ]
  },
  {
   "cell_type": "markdown",
   "metadata": {},
   "source": [
    "**Нам необходимо посчитать для каждого пользователя количество сделанных звонков и израсходованных минут разговора по месяцам. Эти данные мы возьмем из таблицы `calls`.**"
   ]
  },
  {
   "cell_type": "markdown",
   "metadata": {},
   "source": [
    "Добавим столбец с месяцем звонка в таблице."
   ]
  },
  {
   "cell_type": "code",
   "execution_count": 17,
   "metadata": {},
   "outputs": [],
   "source": [
    "calls['month'] = calls['call_date'].dt.month "
   ]
  },
  {
   "cell_type": "markdown",
   "metadata": {},
   "source": [
    "Создадим сводную таблицу по пользователям и месяцу."
   ]
  },
  {
   "cell_type": "code",
   "execution_count": 18,
   "metadata": {
    "scrolled": false
   },
   "outputs": [
    {
     "data": {
      "text/html": [
       "<div>\n",
       "<style scoped>\n",
       "    .dataframe tbody tr th:only-of-type {\n",
       "        vertical-align: middle;\n",
       "    }\n",
       "\n",
       "    .dataframe tbody tr th {\n",
       "        vertical-align: top;\n",
       "    }\n",
       "\n",
       "    .dataframe thead th {\n",
       "        text-align: right;\n",
       "    }\n",
       "</style>\n",
       "<table border=\"1\" class=\"dataframe\">\n",
       "  <thead>\n",
       "    <tr style=\"text-align: right;\">\n",
       "      <th></th>\n",
       "      <th>user_id</th>\n",
       "      <th>month</th>\n",
       "      <th>calls_count</th>\n",
       "      <th>calls_duration</th>\n",
       "    </tr>\n",
       "  </thead>\n",
       "  <tbody>\n",
       "    <tr>\n",
       "      <th>0</th>\n",
       "      <td>1000</td>\n",
       "      <td>5</td>\n",
       "      <td>22</td>\n",
       "      <td>159</td>\n",
       "    </tr>\n",
       "    <tr>\n",
       "      <th>1</th>\n",
       "      <td>1000</td>\n",
       "      <td>6</td>\n",
       "      <td>43</td>\n",
       "      <td>172</td>\n",
       "    </tr>\n",
       "    <tr>\n",
       "      <th>2</th>\n",
       "      <td>1000</td>\n",
       "      <td>7</td>\n",
       "      <td>47</td>\n",
       "      <td>340</td>\n",
       "    </tr>\n",
       "    <tr>\n",
       "      <th>3</th>\n",
       "      <td>1000</td>\n",
       "      <td>8</td>\n",
       "      <td>52</td>\n",
       "      <td>408</td>\n",
       "    </tr>\n",
       "    <tr>\n",
       "      <th>4</th>\n",
       "      <td>1000</td>\n",
       "      <td>9</td>\n",
       "      <td>58</td>\n",
       "      <td>466</td>\n",
       "    </tr>\n",
       "    <tr>\n",
       "      <th>...</th>\n",
       "      <td>...</td>\n",
       "      <td>...</td>\n",
       "      <td>...</td>\n",
       "      <td>...</td>\n",
       "    </tr>\n",
       "    <tr>\n",
       "      <th>3169</th>\n",
       "      <td>1498</td>\n",
       "      <td>10</td>\n",
       "      <td>41</td>\n",
       "      <td>247</td>\n",
       "    </tr>\n",
       "    <tr>\n",
       "      <th>3170</th>\n",
       "      <td>1499</td>\n",
       "      <td>9</td>\n",
       "      <td>9</td>\n",
       "      <td>70</td>\n",
       "    </tr>\n",
       "    <tr>\n",
       "      <th>3171</th>\n",
       "      <td>1499</td>\n",
       "      <td>10</td>\n",
       "      <td>68</td>\n",
       "      <td>449</td>\n",
       "    </tr>\n",
       "    <tr>\n",
       "      <th>3172</th>\n",
       "      <td>1499</td>\n",
       "      <td>11</td>\n",
       "      <td>74</td>\n",
       "      <td>612</td>\n",
       "    </tr>\n",
       "    <tr>\n",
       "      <th>3173</th>\n",
       "      <td>1499</td>\n",
       "      <td>12</td>\n",
       "      <td>69</td>\n",
       "      <td>492</td>\n",
       "    </tr>\n",
       "  </tbody>\n",
       "</table>\n",
       "<p>3174 rows × 4 columns</p>\n",
       "</div>"
      ],
      "text/plain": [
       "      user_id  month  calls_count  calls_duration\n",
       "0        1000      5           22             159\n",
       "1        1000      6           43             172\n",
       "2        1000      7           47             340\n",
       "3        1000      8           52             408\n",
       "4        1000      9           58             466\n",
       "...       ...    ...          ...             ...\n",
       "3169     1498     10           41             247\n",
       "3170     1499      9            9              70\n",
       "3171     1499     10           68             449\n",
       "3172     1499     11           74             612\n",
       "3173     1499     12           69             492\n",
       "\n",
       "[3174 rows x 4 columns]"
      ]
     },
     "execution_count": 18,
     "metadata": {},
     "output_type": "execute_result"
    }
   ],
   "source": [
    "calls_pivot = calls.pivot_table(index=['user_id','month'], values='duration', aggfunc=['count', 'sum'])\n",
    "calls_pivot = calls_pivot.reset_index()\n",
    "calls_pivot.columns = ['user_id','month', 'calls_count', 'calls_duration']\n",
    "calls_pivot "
   ]
  },
  {
   "cell_type": "markdown",
   "metadata": {},
   "source": [
    "**Аналогичную сводную таблицу сделаем для таблицы с интернет трафиком и количеством сообщений**"
   ]
  },
  {
   "cell_type": "code",
   "execution_count": 19,
   "metadata": {},
   "outputs": [],
   "source": [
    "internet['month'] = internet['session_date'].dt.month"
   ]
  },
  {
   "cell_type": "code",
   "execution_count": 20,
   "metadata": {
    "scrolled": false
   },
   "outputs": [
    {
     "data": {
      "text/html": [
       "<div>\n",
       "<style scoped>\n",
       "    .dataframe tbody tr th:only-of-type {\n",
       "        vertical-align: middle;\n",
       "    }\n",
       "\n",
       "    .dataframe tbody tr th {\n",
       "        vertical-align: top;\n",
       "    }\n",
       "\n",
       "    .dataframe thead th {\n",
       "        text-align: right;\n",
       "    }\n",
       "</style>\n",
       "<table border=\"1\" class=\"dataframe\">\n",
       "  <thead>\n",
       "    <tr style=\"text-align: right;\">\n",
       "      <th></th>\n",
       "      <th>user_id</th>\n",
       "      <th>month</th>\n",
       "      <th>mb_used</th>\n",
       "    </tr>\n",
       "  </thead>\n",
       "  <tbody>\n",
       "    <tr>\n",
       "      <th>0</th>\n",
       "      <td>1000</td>\n",
       "      <td>5</td>\n",
       "      <td>2253.49</td>\n",
       "    </tr>\n",
       "    <tr>\n",
       "      <th>1</th>\n",
       "      <td>1000</td>\n",
       "      <td>6</td>\n",
       "      <td>23233.77</td>\n",
       "    </tr>\n",
       "    <tr>\n",
       "      <th>2</th>\n",
       "      <td>1000</td>\n",
       "      <td>7</td>\n",
       "      <td>14003.64</td>\n",
       "    </tr>\n",
       "    <tr>\n",
       "      <th>3</th>\n",
       "      <td>1000</td>\n",
       "      <td>8</td>\n",
       "      <td>14055.93</td>\n",
       "    </tr>\n",
       "    <tr>\n",
       "      <th>4</th>\n",
       "      <td>1000</td>\n",
       "      <td>9</td>\n",
       "      <td>14568.91</td>\n",
       "    </tr>\n",
       "    <tr>\n",
       "      <th>...</th>\n",
       "      <td>...</td>\n",
       "      <td>...</td>\n",
       "      <td>...</td>\n",
       "    </tr>\n",
       "    <tr>\n",
       "      <th>3198</th>\n",
       "      <td>1498</td>\n",
       "      <td>10</td>\n",
       "      <td>20579.36</td>\n",
       "    </tr>\n",
       "    <tr>\n",
       "      <th>3199</th>\n",
       "      <td>1499</td>\n",
       "      <td>9</td>\n",
       "      <td>1845.75</td>\n",
       "    </tr>\n",
       "    <tr>\n",
       "      <th>3200</th>\n",
       "      <td>1499</td>\n",
       "      <td>10</td>\n",
       "      <td>17788.51</td>\n",
       "    </tr>\n",
       "    <tr>\n",
       "      <th>3201</th>\n",
       "      <td>1499</td>\n",
       "      <td>11</td>\n",
       "      <td>17963.31</td>\n",
       "    </tr>\n",
       "    <tr>\n",
       "      <th>3202</th>\n",
       "      <td>1499</td>\n",
       "      <td>12</td>\n",
       "      <td>13055.58</td>\n",
       "    </tr>\n",
       "  </tbody>\n",
       "</table>\n",
       "<p>3203 rows × 3 columns</p>\n",
       "</div>"
      ],
      "text/plain": [
       "      user_id  month  mb_used\n",
       "0        1000      5  2253.49\n",
       "1        1000      6 23233.77\n",
       "2        1000      7 14003.64\n",
       "3        1000      8 14055.93\n",
       "4        1000      9 14568.91\n",
       "...       ...    ...      ...\n",
       "3198     1498     10 20579.36\n",
       "3199     1499      9  1845.75\n",
       "3200     1499     10 17788.51\n",
       "3201     1499     11 17963.31\n",
       "3202     1499     12 13055.58\n",
       "\n",
       "[3203 rows x 3 columns]"
      ]
     },
     "execution_count": 20,
     "metadata": {},
     "output_type": "execute_result"
    }
   ],
   "source": [
    "internet_pivot = internet.pivot_table(index=['user_id','month'], values='mb_used', aggfunc='sum')\n",
    "internet_pivot = internet_pivot.reset_index()\n",
    "internet_pivot "
   ]
  },
  {
   "cell_type": "code",
   "execution_count": 21,
   "metadata": {},
   "outputs": [],
   "source": [
    "messages['month'] = messages['message_date'].dt.month"
   ]
  },
  {
   "cell_type": "code",
   "execution_count": 22,
   "metadata": {
    "scrolled": false
   },
   "outputs": [
    {
     "data": {
      "text/html": [
       "<div>\n",
       "<style scoped>\n",
       "    .dataframe tbody tr th:only-of-type {\n",
       "        vertical-align: middle;\n",
       "    }\n",
       "\n",
       "    .dataframe tbody tr th {\n",
       "        vertical-align: top;\n",
       "    }\n",
       "\n",
       "    .dataframe thead th {\n",
       "        text-align: right;\n",
       "    }\n",
       "</style>\n",
       "<table border=\"1\" class=\"dataframe\">\n",
       "  <thead>\n",
       "    <tr style=\"text-align: right;\">\n",
       "      <th></th>\n",
       "      <th>user_id</th>\n",
       "      <th>month</th>\n",
       "      <th>sms_count</th>\n",
       "    </tr>\n",
       "  </thead>\n",
       "  <tbody>\n",
       "    <tr>\n",
       "      <th>0</th>\n",
       "      <td>1000</td>\n",
       "      <td>5</td>\n",
       "      <td>22</td>\n",
       "    </tr>\n",
       "    <tr>\n",
       "      <th>1</th>\n",
       "      <td>1000</td>\n",
       "      <td>6</td>\n",
       "      <td>60</td>\n",
       "    </tr>\n",
       "    <tr>\n",
       "      <th>2</th>\n",
       "      <td>1000</td>\n",
       "      <td>7</td>\n",
       "      <td>75</td>\n",
       "    </tr>\n",
       "    <tr>\n",
       "      <th>3</th>\n",
       "      <td>1000</td>\n",
       "      <td>8</td>\n",
       "      <td>81</td>\n",
       "    </tr>\n",
       "    <tr>\n",
       "      <th>4</th>\n",
       "      <td>1000</td>\n",
       "      <td>9</td>\n",
       "      <td>57</td>\n",
       "    </tr>\n",
       "    <tr>\n",
       "      <th>...</th>\n",
       "      <td>...</td>\n",
       "      <td>...</td>\n",
       "      <td>...</td>\n",
       "    </tr>\n",
       "    <tr>\n",
       "      <th>2712</th>\n",
       "      <td>1498</td>\n",
       "      <td>10</td>\n",
       "      <td>42</td>\n",
       "    </tr>\n",
       "    <tr>\n",
       "      <th>2713</th>\n",
       "      <td>1499</td>\n",
       "      <td>9</td>\n",
       "      <td>11</td>\n",
       "    </tr>\n",
       "    <tr>\n",
       "      <th>2714</th>\n",
       "      <td>1499</td>\n",
       "      <td>10</td>\n",
       "      <td>48</td>\n",
       "    </tr>\n",
       "    <tr>\n",
       "      <th>2715</th>\n",
       "      <td>1499</td>\n",
       "      <td>11</td>\n",
       "      <td>59</td>\n",
       "    </tr>\n",
       "    <tr>\n",
       "      <th>2716</th>\n",
       "      <td>1499</td>\n",
       "      <td>12</td>\n",
       "      <td>66</td>\n",
       "    </tr>\n",
       "  </tbody>\n",
       "</table>\n",
       "<p>2717 rows × 3 columns</p>\n",
       "</div>"
      ],
      "text/plain": [
       "      user_id  month  sms_count\n",
       "0        1000      5         22\n",
       "1        1000      6         60\n",
       "2        1000      7         75\n",
       "3        1000      8         81\n",
       "4        1000      9         57\n",
       "...       ...    ...        ...\n",
       "2712     1498     10         42\n",
       "2713     1499      9         11\n",
       "2714     1499     10         48\n",
       "2715     1499     11         59\n",
       "2716     1499     12         66\n",
       "\n",
       "[2717 rows x 3 columns]"
      ]
     },
     "execution_count": 22,
     "metadata": {},
     "output_type": "execute_result"
    }
   ],
   "source": [
    "messages_pivot = messages.pivot_table(index=['user_id','month'], values='id', aggfunc='count')\n",
    "messages_pivot = messages_pivot.reset_index()\n",
    "messages_pivot.set_axis(['user_id','month','sms_count'],axis = 'columns',inplace = True)\n",
    "messages_pivot"
   ]
  },
  {
   "cell_type": "markdown",
   "metadata": {},
   "source": [
    "**Объединим три таблицы с подсчетами в одну общую. Способ объединения будем использовать 'outer', чтобы не потерять данные. Так как пользователи по-разному пользуются интернетом, звонками, сообщениями и в разные периоды могут чем-то не пользоваться. Важно собрать данные из всех таблиц.**"
   ]
  },
  {
   "cell_type": "code",
   "execution_count": 23,
   "metadata": {},
   "outputs": [],
   "source": [
    "calls_internet = calls_pivot.merge(internet_pivot, on = ['user_id','month'], how='outer')"
   ]
  },
  {
   "cell_type": "code",
   "execution_count": 24,
   "metadata": {},
   "outputs": [],
   "source": [
    "calls_internet_sms = calls_internet.merge(messages_pivot, on = ['user_id','month'], how='outer')"
   ]
  },
  {
   "cell_type": "code",
   "execution_count": 25,
   "metadata": {},
   "outputs": [
    {
     "data": {
      "text/html": [
       "<div>\n",
       "<style scoped>\n",
       "    .dataframe tbody tr th:only-of-type {\n",
       "        vertical-align: middle;\n",
       "    }\n",
       "\n",
       "    .dataframe tbody tr th {\n",
       "        vertical-align: top;\n",
       "    }\n",
       "\n",
       "    .dataframe thead th {\n",
       "        text-align: right;\n",
       "    }\n",
       "</style>\n",
       "<table border=\"1\" class=\"dataframe\">\n",
       "  <thead>\n",
       "    <tr style=\"text-align: right;\">\n",
       "      <th></th>\n",
       "      <th>user_id</th>\n",
       "      <th>month</th>\n",
       "      <th>calls_count</th>\n",
       "      <th>calls_duration</th>\n",
       "      <th>mb_used</th>\n",
       "      <th>sms_count</th>\n",
       "    </tr>\n",
       "  </thead>\n",
       "  <tbody>\n",
       "    <tr>\n",
       "      <th>0</th>\n",
       "      <td>1000</td>\n",
       "      <td>5</td>\n",
       "      <td>22.00</td>\n",
       "      <td>159.00</td>\n",
       "      <td>2253.49</td>\n",
       "      <td>22.00</td>\n",
       "    </tr>\n",
       "    <tr>\n",
       "      <th>1</th>\n",
       "      <td>1000</td>\n",
       "      <td>6</td>\n",
       "      <td>43.00</td>\n",
       "      <td>172.00</td>\n",
       "      <td>23233.77</td>\n",
       "      <td>60.00</td>\n",
       "    </tr>\n",
       "    <tr>\n",
       "      <th>2</th>\n",
       "      <td>1000</td>\n",
       "      <td>7</td>\n",
       "      <td>47.00</td>\n",
       "      <td>340.00</td>\n",
       "      <td>14003.64</td>\n",
       "      <td>75.00</td>\n",
       "    </tr>\n",
       "    <tr>\n",
       "      <th>3</th>\n",
       "      <td>1000</td>\n",
       "      <td>8</td>\n",
       "      <td>52.00</td>\n",
       "      <td>408.00</td>\n",
       "      <td>14055.93</td>\n",
       "      <td>81.00</td>\n",
       "    </tr>\n",
       "    <tr>\n",
       "      <th>4</th>\n",
       "      <td>1000</td>\n",
       "      <td>9</td>\n",
       "      <td>58.00</td>\n",
       "      <td>466.00</td>\n",
       "      <td>14568.91</td>\n",
       "      <td>57.00</td>\n",
       "    </tr>\n",
       "    <tr>\n",
       "      <th>...</th>\n",
       "      <td>...</td>\n",
       "      <td>...</td>\n",
       "      <td>...</td>\n",
       "      <td>...</td>\n",
       "      <td>...</td>\n",
       "      <td>...</td>\n",
       "    </tr>\n",
       "    <tr>\n",
       "      <th>3209</th>\n",
       "      <td>1489</td>\n",
       "      <td>8</td>\n",
       "      <td>0.00</td>\n",
       "      <td>0.00</td>\n",
       "      <td>11050.56</td>\n",
       "      <td>17.00</td>\n",
       "    </tr>\n",
       "    <tr>\n",
       "      <th>3210</th>\n",
       "      <td>1489</td>\n",
       "      <td>9</td>\n",
       "      <td>0.00</td>\n",
       "      <td>0.00</td>\n",
       "      <td>17206.30</td>\n",
       "      <td>32.00</td>\n",
       "    </tr>\n",
       "    <tr>\n",
       "      <th>3211</th>\n",
       "      <td>1489</td>\n",
       "      <td>10</td>\n",
       "      <td>0.00</td>\n",
       "      <td>0.00</td>\n",
       "      <td>19559.44</td>\n",
       "      <td>21.00</td>\n",
       "    </tr>\n",
       "    <tr>\n",
       "      <th>3212</th>\n",
       "      <td>1489</td>\n",
       "      <td>11</td>\n",
       "      <td>0.00</td>\n",
       "      <td>0.00</td>\n",
       "      <td>17491.56</td>\n",
       "      <td>20.00</td>\n",
       "    </tr>\n",
       "    <tr>\n",
       "      <th>3213</th>\n",
       "      <td>1489</td>\n",
       "      <td>12</td>\n",
       "      <td>0.00</td>\n",
       "      <td>0.00</td>\n",
       "      <td>17322.51</td>\n",
       "      <td>35.00</td>\n",
       "    </tr>\n",
       "  </tbody>\n",
       "</table>\n",
       "<p>3214 rows × 6 columns</p>\n",
       "</div>"
      ],
      "text/plain": [
       "      user_id  month  calls_count  calls_duration  mb_used  sms_count\n",
       "0        1000      5        22.00          159.00  2253.49      22.00\n",
       "1        1000      6        43.00          172.00 23233.77      60.00\n",
       "2        1000      7        47.00          340.00 14003.64      75.00\n",
       "3        1000      8        52.00          408.00 14055.93      81.00\n",
       "4        1000      9        58.00          466.00 14568.91      57.00\n",
       "...       ...    ...          ...             ...      ...        ...\n",
       "3209     1489      8         0.00            0.00 11050.56      17.00\n",
       "3210     1489      9         0.00            0.00 17206.30      32.00\n",
       "3211     1489     10         0.00            0.00 19559.44      21.00\n",
       "3212     1489     11         0.00            0.00 17491.56      20.00\n",
       "3213     1489     12         0.00            0.00 17322.51      35.00\n",
       "\n",
       "[3214 rows x 6 columns]"
      ]
     },
     "execution_count": 25,
     "metadata": {},
     "output_type": "execute_result"
    }
   ],
   "source": [
    "calls_internet_sms = calls_internet_sms.fillna(0)\n",
    "calls_internet_sms"
   ]
  },
  {
   "cell_type": "markdown",
   "metadata": {},
   "source": [
    "Переведем использованный трафик в месяц в Гб и округлим в большую сторону в соответствии с политикой оператора."
   ]
  },
  {
   "cell_type": "code",
   "execution_count": 26,
   "metadata": {
    "scrolled": false
   },
   "outputs": [
    {
     "data": {
      "text/html": [
       "<div>\n",
       "<style scoped>\n",
       "    .dataframe tbody tr th:only-of-type {\n",
       "        vertical-align: middle;\n",
       "    }\n",
       "\n",
       "    .dataframe tbody tr th {\n",
       "        vertical-align: top;\n",
       "    }\n",
       "\n",
       "    .dataframe thead th {\n",
       "        text-align: right;\n",
       "    }\n",
       "</style>\n",
       "<table border=\"1\" class=\"dataframe\">\n",
       "  <thead>\n",
       "    <tr style=\"text-align: right;\">\n",
       "      <th></th>\n",
       "      <th>user_id</th>\n",
       "      <th>month</th>\n",
       "      <th>calls_count</th>\n",
       "      <th>calls_duration</th>\n",
       "      <th>mb_used</th>\n",
       "      <th>sms_count</th>\n",
       "    </tr>\n",
       "  </thead>\n",
       "  <tbody>\n",
       "    <tr>\n",
       "      <th>0</th>\n",
       "      <td>1000</td>\n",
       "      <td>5</td>\n",
       "      <td>22.00</td>\n",
       "      <td>159.00</td>\n",
       "      <td>3</td>\n",
       "      <td>22.00</td>\n",
       "    </tr>\n",
       "    <tr>\n",
       "      <th>1</th>\n",
       "      <td>1000</td>\n",
       "      <td>6</td>\n",
       "      <td>43.00</td>\n",
       "      <td>172.00</td>\n",
       "      <td>23</td>\n",
       "      <td>60.00</td>\n",
       "    </tr>\n",
       "    <tr>\n",
       "      <th>2</th>\n",
       "      <td>1000</td>\n",
       "      <td>7</td>\n",
       "      <td>47.00</td>\n",
       "      <td>340.00</td>\n",
       "      <td>14</td>\n",
       "      <td>75.00</td>\n",
       "    </tr>\n",
       "    <tr>\n",
       "      <th>3</th>\n",
       "      <td>1000</td>\n",
       "      <td>8</td>\n",
       "      <td>52.00</td>\n",
       "      <td>408.00</td>\n",
       "      <td>14</td>\n",
       "      <td>81.00</td>\n",
       "    </tr>\n",
       "    <tr>\n",
       "      <th>4</th>\n",
       "      <td>1000</td>\n",
       "      <td>9</td>\n",
       "      <td>58.00</td>\n",
       "      <td>466.00</td>\n",
       "      <td>15</td>\n",
       "      <td>57.00</td>\n",
       "    </tr>\n",
       "    <tr>\n",
       "      <th>...</th>\n",
       "      <td>...</td>\n",
       "      <td>...</td>\n",
       "      <td>...</td>\n",
       "      <td>...</td>\n",
       "      <td>...</td>\n",
       "      <td>...</td>\n",
       "    </tr>\n",
       "    <tr>\n",
       "      <th>3209</th>\n",
       "      <td>1489</td>\n",
       "      <td>8</td>\n",
       "      <td>0.00</td>\n",
       "      <td>0.00</td>\n",
       "      <td>11</td>\n",
       "      <td>17.00</td>\n",
       "    </tr>\n",
       "    <tr>\n",
       "      <th>3210</th>\n",
       "      <td>1489</td>\n",
       "      <td>9</td>\n",
       "      <td>0.00</td>\n",
       "      <td>0.00</td>\n",
       "      <td>17</td>\n",
       "      <td>32.00</td>\n",
       "    </tr>\n",
       "    <tr>\n",
       "      <th>3211</th>\n",
       "      <td>1489</td>\n",
       "      <td>10</td>\n",
       "      <td>0.00</td>\n",
       "      <td>0.00</td>\n",
       "      <td>20</td>\n",
       "      <td>21.00</td>\n",
       "    </tr>\n",
       "    <tr>\n",
       "      <th>3212</th>\n",
       "      <td>1489</td>\n",
       "      <td>11</td>\n",
       "      <td>0.00</td>\n",
       "      <td>0.00</td>\n",
       "      <td>18</td>\n",
       "      <td>20.00</td>\n",
       "    </tr>\n",
       "    <tr>\n",
       "      <th>3213</th>\n",
       "      <td>1489</td>\n",
       "      <td>12</td>\n",
       "      <td>0.00</td>\n",
       "      <td>0.00</td>\n",
       "      <td>17</td>\n",
       "      <td>35.00</td>\n",
       "    </tr>\n",
       "  </tbody>\n",
       "</table>\n",
       "<p>3214 rows × 6 columns</p>\n",
       "</div>"
      ],
      "text/plain": [
       "      user_id  month  calls_count  calls_duration  mb_used  sms_count\n",
       "0        1000      5        22.00          159.00        3      22.00\n",
       "1        1000      6        43.00          172.00       23      60.00\n",
       "2        1000      7        47.00          340.00       14      75.00\n",
       "3        1000      8        52.00          408.00       14      81.00\n",
       "4        1000      9        58.00          466.00       15      57.00\n",
       "...       ...    ...          ...             ...      ...        ...\n",
       "3209     1489      8         0.00            0.00       11      17.00\n",
       "3210     1489      9         0.00            0.00       17      32.00\n",
       "3211     1489     10         0.00            0.00       20      21.00\n",
       "3212     1489     11         0.00            0.00       18      20.00\n",
       "3213     1489     12         0.00            0.00       17      35.00\n",
       "\n",
       "[3214 rows x 6 columns]"
      ]
     },
     "execution_count": 26,
     "metadata": {},
     "output_type": "execute_result"
    }
   ],
   "source": [
    "calls_internet_sms['mb_used'] = calls_internet_sms['mb_used'].apply(lambda x : math.ceil(x / 1024)) \n",
    "calls_internet_sms"
   ]
  },
  {
   "cell_type": "code",
   "execution_count": 27,
   "metadata": {},
   "outputs": [
    {
     "data": {
      "text/html": [
       "<div>\n",
       "<style scoped>\n",
       "    .dataframe tbody tr th:only-of-type {\n",
       "        vertical-align: middle;\n",
       "    }\n",
       "\n",
       "    .dataframe tbody tr th {\n",
       "        vertical-align: top;\n",
       "    }\n",
       "\n",
       "    .dataframe thead th {\n",
       "        text-align: right;\n",
       "    }\n",
       "</style>\n",
       "<table border=\"1\" class=\"dataframe\">\n",
       "  <thead>\n",
       "    <tr style=\"text-align: right;\">\n",
       "      <th></th>\n",
       "      <th>user_id</th>\n",
       "      <th>month</th>\n",
       "      <th>calls_count</th>\n",
       "      <th>calls_duration</th>\n",
       "      <th>gb_used</th>\n",
       "      <th>sms_count</th>\n",
       "    </tr>\n",
       "  </thead>\n",
       "  <tbody>\n",
       "    <tr>\n",
       "      <th>0</th>\n",
       "      <td>1000</td>\n",
       "      <td>5</td>\n",
       "      <td>22.00</td>\n",
       "      <td>159.00</td>\n",
       "      <td>3</td>\n",
       "      <td>22.00</td>\n",
       "    </tr>\n",
       "    <tr>\n",
       "      <th>1</th>\n",
       "      <td>1000</td>\n",
       "      <td>6</td>\n",
       "      <td>43.00</td>\n",
       "      <td>172.00</td>\n",
       "      <td>23</td>\n",
       "      <td>60.00</td>\n",
       "    </tr>\n",
       "    <tr>\n",
       "      <th>2</th>\n",
       "      <td>1000</td>\n",
       "      <td>7</td>\n",
       "      <td>47.00</td>\n",
       "      <td>340.00</td>\n",
       "      <td>14</td>\n",
       "      <td>75.00</td>\n",
       "    </tr>\n",
       "    <tr>\n",
       "      <th>3</th>\n",
       "      <td>1000</td>\n",
       "      <td>8</td>\n",
       "      <td>52.00</td>\n",
       "      <td>408.00</td>\n",
       "      <td>14</td>\n",
       "      <td>81.00</td>\n",
       "    </tr>\n",
       "    <tr>\n",
       "      <th>4</th>\n",
       "      <td>1000</td>\n",
       "      <td>9</td>\n",
       "      <td>58.00</td>\n",
       "      <td>466.00</td>\n",
       "      <td>15</td>\n",
       "      <td>57.00</td>\n",
       "    </tr>\n",
       "    <tr>\n",
       "      <th>...</th>\n",
       "      <td>...</td>\n",
       "      <td>...</td>\n",
       "      <td>...</td>\n",
       "      <td>...</td>\n",
       "      <td>...</td>\n",
       "      <td>...</td>\n",
       "    </tr>\n",
       "    <tr>\n",
       "      <th>3209</th>\n",
       "      <td>1489</td>\n",
       "      <td>8</td>\n",
       "      <td>0.00</td>\n",
       "      <td>0.00</td>\n",
       "      <td>11</td>\n",
       "      <td>17.00</td>\n",
       "    </tr>\n",
       "    <tr>\n",
       "      <th>3210</th>\n",
       "      <td>1489</td>\n",
       "      <td>9</td>\n",
       "      <td>0.00</td>\n",
       "      <td>0.00</td>\n",
       "      <td>17</td>\n",
       "      <td>32.00</td>\n",
       "    </tr>\n",
       "    <tr>\n",
       "      <th>3211</th>\n",
       "      <td>1489</td>\n",
       "      <td>10</td>\n",
       "      <td>0.00</td>\n",
       "      <td>0.00</td>\n",
       "      <td>20</td>\n",
       "      <td>21.00</td>\n",
       "    </tr>\n",
       "    <tr>\n",
       "      <th>3212</th>\n",
       "      <td>1489</td>\n",
       "      <td>11</td>\n",
       "      <td>0.00</td>\n",
       "      <td>0.00</td>\n",
       "      <td>18</td>\n",
       "      <td>20.00</td>\n",
       "    </tr>\n",
       "    <tr>\n",
       "      <th>3213</th>\n",
       "      <td>1489</td>\n",
       "      <td>12</td>\n",
       "      <td>0.00</td>\n",
       "      <td>0.00</td>\n",
       "      <td>17</td>\n",
       "      <td>35.00</td>\n",
       "    </tr>\n",
       "  </tbody>\n",
       "</table>\n",
       "<p>3214 rows × 6 columns</p>\n",
       "</div>"
      ],
      "text/plain": [
       "      user_id  month  calls_count  calls_duration  gb_used  sms_count\n",
       "0        1000      5        22.00          159.00        3      22.00\n",
       "1        1000      6        43.00          172.00       23      60.00\n",
       "2        1000      7        47.00          340.00       14      75.00\n",
       "3        1000      8        52.00          408.00       14      81.00\n",
       "4        1000      9        58.00          466.00       15      57.00\n",
       "...       ...    ...          ...             ...      ...        ...\n",
       "3209     1489      8         0.00            0.00       11      17.00\n",
       "3210     1489      9         0.00            0.00       17      32.00\n",
       "3211     1489     10         0.00            0.00       20      21.00\n",
       "3212     1489     11         0.00            0.00       18      20.00\n",
       "3213     1489     12         0.00            0.00       17      35.00\n",
       "\n",
       "[3214 rows x 6 columns]"
      ]
     },
     "execution_count": 27,
     "metadata": {},
     "output_type": "execute_result"
    }
   ],
   "source": [
    "calls_internet_sms = calls_internet_sms.rename(columns={'mb_used': 'gb_used'})\n",
    "calls_internet_sms"
   ]
  },
  {
   "cell_type": "markdown",
   "metadata": {},
   "source": [
    "**Чтобы подсчитать выручку по каждому пользователю нам нужно название тарифа и информация о тарифе.**"
   ]
  },
  {
   "cell_type": "markdown",
   "metadata": {},
   "source": [
    "Создадим таблицу 'user_id - tariff' и присоединим ее к нашей таблице ."
   ]
  },
  {
   "cell_type": "code",
   "execution_count": 28,
   "metadata": {},
   "outputs": [],
   "source": [
    "user_tariff = users.loc[:, ['user_id', 'tariff']]"
   ]
  },
  {
   "cell_type": "code",
   "execution_count": 29,
   "metadata": {},
   "outputs": [],
   "source": [
    "calls_internet_sms_t = calls_internet_sms.merge(user_tariff, on = 'user_id', how='left')"
   ]
  },
  {
   "cell_type": "code",
   "execution_count": 30,
   "metadata": {
    "scrolled": true
   },
   "outputs": [
    {
     "name": "stdout",
     "output_type": "stream",
     "text": [
      "<class 'pandas.core.frame.DataFrame'>\n",
      "Int64Index: 3214 entries, 0 to 3213\n",
      "Data columns (total 7 columns):\n",
      " #   Column          Non-Null Count  Dtype  \n",
      "---  ------          --------------  -----  \n",
      " 0   user_id         3214 non-null   int64  \n",
      " 1   month           3214 non-null   int64  \n",
      " 2   calls_count     3214 non-null   float64\n",
      " 3   calls_duration  3214 non-null   float64\n",
      " 4   gb_used         3214 non-null   int64  \n",
      " 5   sms_count       3214 non-null   float64\n",
      " 6   tariff          3214 non-null   object \n",
      "dtypes: float64(3), int64(3), object(1)\n",
      "memory usage: 200.9+ KB\n"
     ]
    }
   ],
   "source": [
    "calls_internet_sms_t.info()"
   ]
  },
  {
   "cell_type": "code",
   "execution_count": 31,
   "metadata": {},
   "outputs": [
    {
     "data": {
      "text/html": [
       "<div>\n",
       "<style scoped>\n",
       "    .dataframe tbody tr th:only-of-type {\n",
       "        vertical-align: middle;\n",
       "    }\n",
       "\n",
       "    .dataframe tbody tr th {\n",
       "        vertical-align: top;\n",
       "    }\n",
       "\n",
       "    .dataframe thead th {\n",
       "        text-align: right;\n",
       "    }\n",
       "</style>\n",
       "<table border=\"1\" class=\"dataframe\">\n",
       "  <thead>\n",
       "    <tr style=\"text-align: right;\">\n",
       "      <th></th>\n",
       "      <th>messages_included</th>\n",
       "      <th>mb_per_month_included</th>\n",
       "      <th>minutes_included</th>\n",
       "      <th>rub_monthly_fee</th>\n",
       "      <th>rub_per_gb</th>\n",
       "      <th>rub_per_message</th>\n",
       "      <th>rub_per_minute</th>\n",
       "      <th>tariff_name</th>\n",
       "    </tr>\n",
       "  </thead>\n",
       "  <tbody>\n",
       "    <tr>\n",
       "      <th>0</th>\n",
       "      <td>50</td>\n",
       "      <td>15360</td>\n",
       "      <td>500</td>\n",
       "      <td>550</td>\n",
       "      <td>200</td>\n",
       "      <td>3</td>\n",
       "      <td>3</td>\n",
       "      <td>smart</td>\n",
       "    </tr>\n",
       "    <tr>\n",
       "      <th>1</th>\n",
       "      <td>1000</td>\n",
       "      <td>30720</td>\n",
       "      <td>3000</td>\n",
       "      <td>1950</td>\n",
       "      <td>150</td>\n",
       "      <td>1</td>\n",
       "      <td>1</td>\n",
       "      <td>ultra</td>\n",
       "    </tr>\n",
       "  </tbody>\n",
       "</table>\n",
       "</div>"
      ],
      "text/plain": [
       "   messages_included  mb_per_month_included  minutes_included  \\\n",
       "0                 50                  15360               500   \n",
       "1               1000                  30720              3000   \n",
       "\n",
       "   rub_monthly_fee  rub_per_gb  rub_per_message  rub_per_minute tariff_name  \n",
       "0              550         200                3               3       smart  \n",
       "1             1950         150                1               1       ultra  "
      ]
     },
     "execution_count": 31,
     "metadata": {},
     "output_type": "execute_result"
    }
   ],
   "source": [
    "tariffs"
   ]
  },
  {
   "cell_type": "markdown",
   "metadata": {},
   "source": [
    "Округлим Мб в данных о тарифах в Гб, чтобы можно было сравнивать параметры."
   ]
  },
  {
   "cell_type": "code",
   "execution_count": 32,
   "metadata": {},
   "outputs": [
    {
     "data": {
      "text/html": [
       "<div>\n",
       "<style scoped>\n",
       "    .dataframe tbody tr th:only-of-type {\n",
       "        vertical-align: middle;\n",
       "    }\n",
       "\n",
       "    .dataframe tbody tr th {\n",
       "        vertical-align: top;\n",
       "    }\n",
       "\n",
       "    .dataframe thead th {\n",
       "        text-align: right;\n",
       "    }\n",
       "</style>\n",
       "<table border=\"1\" class=\"dataframe\">\n",
       "  <thead>\n",
       "    <tr style=\"text-align: right;\">\n",
       "      <th></th>\n",
       "      <th>messages_included</th>\n",
       "      <th>gb_per_month_included</th>\n",
       "      <th>minutes_included</th>\n",
       "      <th>rub_monthly_fee</th>\n",
       "      <th>rub_per_gb</th>\n",
       "      <th>rub_per_message</th>\n",
       "      <th>rub_per_minute</th>\n",
       "      <th>tariff_name</th>\n",
       "    </tr>\n",
       "  </thead>\n",
       "  <tbody>\n",
       "    <tr>\n",
       "      <th>0</th>\n",
       "      <td>50</td>\n",
       "      <td>15.00</td>\n",
       "      <td>500</td>\n",
       "      <td>550</td>\n",
       "      <td>200</td>\n",
       "      <td>3</td>\n",
       "      <td>3</td>\n",
       "      <td>smart</td>\n",
       "    </tr>\n",
       "    <tr>\n",
       "      <th>1</th>\n",
       "      <td>1000</td>\n",
       "      <td>30.00</td>\n",
       "      <td>3000</td>\n",
       "      <td>1950</td>\n",
       "      <td>150</td>\n",
       "      <td>1</td>\n",
       "      <td>1</td>\n",
       "      <td>ultra</td>\n",
       "    </tr>\n",
       "  </tbody>\n",
       "</table>\n",
       "</div>"
      ],
      "text/plain": [
       "   messages_included  gb_per_month_included  minutes_included  \\\n",
       "0                 50                  15.00               500   \n",
       "1               1000                  30.00              3000   \n",
       "\n",
       "   rub_monthly_fee  rub_per_gb  rub_per_message  rub_per_minute tariff_name  \n",
       "0              550         200                3               3       smart  \n",
       "1             1950         150                1               1       ultra  "
      ]
     },
     "execution_count": 32,
     "metadata": {},
     "output_type": "execute_result"
    }
   ],
   "source": [
    "tariffs['mb_per_month_included'] = tariffs['mb_per_month_included'] / 1024\n",
    "tariffs = tariffs.rename(columns={'mb_per_month_included': 'gb_per_month_included'})\n",
    "tariffs"
   ]
  },
  {
   "cell_type": "markdown",
   "metadata": {},
   "source": [
    "Присоединим данные о тарифе к таблице с расчетами."
   ]
  },
  {
   "cell_type": "code",
   "execution_count": 33,
   "metadata": {},
   "outputs": [
    {
     "data": {
      "text/html": [
       "<div>\n",
       "<style scoped>\n",
       "    .dataframe tbody tr th:only-of-type {\n",
       "        vertical-align: middle;\n",
       "    }\n",
       "\n",
       "    .dataframe tbody tr th {\n",
       "        vertical-align: top;\n",
       "    }\n",
       "\n",
       "    .dataframe thead th {\n",
       "        text-align: right;\n",
       "    }\n",
       "</style>\n",
       "<table border=\"1\" class=\"dataframe\">\n",
       "  <thead>\n",
       "    <tr style=\"text-align: right;\">\n",
       "      <th></th>\n",
       "      <th>user_id</th>\n",
       "      <th>month</th>\n",
       "      <th>calls_count</th>\n",
       "      <th>calls_duration</th>\n",
       "      <th>gb_used</th>\n",
       "      <th>sms_count</th>\n",
       "      <th>tariff</th>\n",
       "      <th>messages_included</th>\n",
       "      <th>gb_per_month_included</th>\n",
       "      <th>minutes_included</th>\n",
       "      <th>rub_monthly_fee</th>\n",
       "      <th>rub_per_gb</th>\n",
       "      <th>rub_per_message</th>\n",
       "      <th>rub_per_minute</th>\n",
       "      <th>tariff_name</th>\n",
       "    </tr>\n",
       "  </thead>\n",
       "  <tbody>\n",
       "    <tr>\n",
       "      <th>0</th>\n",
       "      <td>1000</td>\n",
       "      <td>5</td>\n",
       "      <td>22.00</td>\n",
       "      <td>159.00</td>\n",
       "      <td>3</td>\n",
       "      <td>22.00</td>\n",
       "      <td>ultra</td>\n",
       "      <td>1000</td>\n",
       "      <td>30.00</td>\n",
       "      <td>3000</td>\n",
       "      <td>1950</td>\n",
       "      <td>150</td>\n",
       "      <td>1</td>\n",
       "      <td>1</td>\n",
       "      <td>ultra</td>\n",
       "    </tr>\n",
       "    <tr>\n",
       "      <th>1</th>\n",
       "      <td>1000</td>\n",
       "      <td>6</td>\n",
       "      <td>43.00</td>\n",
       "      <td>172.00</td>\n",
       "      <td>23</td>\n",
       "      <td>60.00</td>\n",
       "      <td>ultra</td>\n",
       "      <td>1000</td>\n",
       "      <td>30.00</td>\n",
       "      <td>3000</td>\n",
       "      <td>1950</td>\n",
       "      <td>150</td>\n",
       "      <td>1</td>\n",
       "      <td>1</td>\n",
       "      <td>ultra</td>\n",
       "    </tr>\n",
       "    <tr>\n",
       "      <th>2</th>\n",
       "      <td>1000</td>\n",
       "      <td>7</td>\n",
       "      <td>47.00</td>\n",
       "      <td>340.00</td>\n",
       "      <td>14</td>\n",
       "      <td>75.00</td>\n",
       "      <td>ultra</td>\n",
       "      <td>1000</td>\n",
       "      <td>30.00</td>\n",
       "      <td>3000</td>\n",
       "      <td>1950</td>\n",
       "      <td>150</td>\n",
       "      <td>1</td>\n",
       "      <td>1</td>\n",
       "      <td>ultra</td>\n",
       "    </tr>\n",
       "    <tr>\n",
       "      <th>3</th>\n",
       "      <td>1000</td>\n",
       "      <td>8</td>\n",
       "      <td>52.00</td>\n",
       "      <td>408.00</td>\n",
       "      <td>14</td>\n",
       "      <td>81.00</td>\n",
       "      <td>ultra</td>\n",
       "      <td>1000</td>\n",
       "      <td>30.00</td>\n",
       "      <td>3000</td>\n",
       "      <td>1950</td>\n",
       "      <td>150</td>\n",
       "      <td>1</td>\n",
       "      <td>1</td>\n",
       "      <td>ultra</td>\n",
       "    </tr>\n",
       "    <tr>\n",
       "      <th>4</th>\n",
       "      <td>1000</td>\n",
       "      <td>9</td>\n",
       "      <td>58.00</td>\n",
       "      <td>466.00</td>\n",
       "      <td>15</td>\n",
       "      <td>57.00</td>\n",
       "      <td>ultra</td>\n",
       "      <td>1000</td>\n",
       "      <td>30.00</td>\n",
       "      <td>3000</td>\n",
       "      <td>1950</td>\n",
       "      <td>150</td>\n",
       "      <td>1</td>\n",
       "      <td>1</td>\n",
       "      <td>ultra</td>\n",
       "    </tr>\n",
       "    <tr>\n",
       "      <th>...</th>\n",
       "      <td>...</td>\n",
       "      <td>...</td>\n",
       "      <td>...</td>\n",
       "      <td>...</td>\n",
       "      <td>...</td>\n",
       "      <td>...</td>\n",
       "      <td>...</td>\n",
       "      <td>...</td>\n",
       "      <td>...</td>\n",
       "      <td>...</td>\n",
       "      <td>...</td>\n",
       "      <td>...</td>\n",
       "      <td>...</td>\n",
       "      <td>...</td>\n",
       "      <td>...</td>\n",
       "    </tr>\n",
       "    <tr>\n",
       "      <th>3209</th>\n",
       "      <td>1489</td>\n",
       "      <td>8</td>\n",
       "      <td>0.00</td>\n",
       "      <td>0.00</td>\n",
       "      <td>11</td>\n",
       "      <td>17.00</td>\n",
       "      <td>smart</td>\n",
       "      <td>50</td>\n",
       "      <td>15.00</td>\n",
       "      <td>500</td>\n",
       "      <td>550</td>\n",
       "      <td>200</td>\n",
       "      <td>3</td>\n",
       "      <td>3</td>\n",
       "      <td>smart</td>\n",
       "    </tr>\n",
       "    <tr>\n",
       "      <th>3210</th>\n",
       "      <td>1489</td>\n",
       "      <td>9</td>\n",
       "      <td>0.00</td>\n",
       "      <td>0.00</td>\n",
       "      <td>17</td>\n",
       "      <td>32.00</td>\n",
       "      <td>smart</td>\n",
       "      <td>50</td>\n",
       "      <td>15.00</td>\n",
       "      <td>500</td>\n",
       "      <td>550</td>\n",
       "      <td>200</td>\n",
       "      <td>3</td>\n",
       "      <td>3</td>\n",
       "      <td>smart</td>\n",
       "    </tr>\n",
       "    <tr>\n",
       "      <th>3211</th>\n",
       "      <td>1489</td>\n",
       "      <td>10</td>\n",
       "      <td>0.00</td>\n",
       "      <td>0.00</td>\n",
       "      <td>20</td>\n",
       "      <td>21.00</td>\n",
       "      <td>smart</td>\n",
       "      <td>50</td>\n",
       "      <td>15.00</td>\n",
       "      <td>500</td>\n",
       "      <td>550</td>\n",
       "      <td>200</td>\n",
       "      <td>3</td>\n",
       "      <td>3</td>\n",
       "      <td>smart</td>\n",
       "    </tr>\n",
       "    <tr>\n",
       "      <th>3212</th>\n",
       "      <td>1489</td>\n",
       "      <td>11</td>\n",
       "      <td>0.00</td>\n",
       "      <td>0.00</td>\n",
       "      <td>18</td>\n",
       "      <td>20.00</td>\n",
       "      <td>smart</td>\n",
       "      <td>50</td>\n",
       "      <td>15.00</td>\n",
       "      <td>500</td>\n",
       "      <td>550</td>\n",
       "      <td>200</td>\n",
       "      <td>3</td>\n",
       "      <td>3</td>\n",
       "      <td>smart</td>\n",
       "    </tr>\n",
       "    <tr>\n",
       "      <th>3213</th>\n",
       "      <td>1489</td>\n",
       "      <td>12</td>\n",
       "      <td>0.00</td>\n",
       "      <td>0.00</td>\n",
       "      <td>17</td>\n",
       "      <td>35.00</td>\n",
       "      <td>smart</td>\n",
       "      <td>50</td>\n",
       "      <td>15.00</td>\n",
       "      <td>500</td>\n",
       "      <td>550</td>\n",
       "      <td>200</td>\n",
       "      <td>3</td>\n",
       "      <td>3</td>\n",
       "      <td>smart</td>\n",
       "    </tr>\n",
       "  </tbody>\n",
       "</table>\n",
       "<p>3214 rows × 15 columns</p>\n",
       "</div>"
      ],
      "text/plain": [
       "      user_id  month  calls_count  calls_duration  gb_used  sms_count tariff  \\\n",
       "0        1000      5        22.00          159.00        3      22.00  ultra   \n",
       "1        1000      6        43.00          172.00       23      60.00  ultra   \n",
       "2        1000      7        47.00          340.00       14      75.00  ultra   \n",
       "3        1000      8        52.00          408.00       14      81.00  ultra   \n",
       "4        1000      9        58.00          466.00       15      57.00  ultra   \n",
       "...       ...    ...          ...             ...      ...        ...    ...   \n",
       "3209     1489      8         0.00            0.00       11      17.00  smart   \n",
       "3210     1489      9         0.00            0.00       17      32.00  smart   \n",
       "3211     1489     10         0.00            0.00       20      21.00  smart   \n",
       "3212     1489     11         0.00            0.00       18      20.00  smart   \n",
       "3213     1489     12         0.00            0.00       17      35.00  smart   \n",
       "\n",
       "      messages_included  gb_per_month_included  minutes_included  \\\n",
       "0                  1000                  30.00              3000   \n",
       "1                  1000                  30.00              3000   \n",
       "2                  1000                  30.00              3000   \n",
       "3                  1000                  30.00              3000   \n",
       "4                  1000                  30.00              3000   \n",
       "...                 ...                    ...               ...   \n",
       "3209                 50                  15.00               500   \n",
       "3210                 50                  15.00               500   \n",
       "3211                 50                  15.00               500   \n",
       "3212                 50                  15.00               500   \n",
       "3213                 50                  15.00               500   \n",
       "\n",
       "      rub_monthly_fee  rub_per_gb  rub_per_message  rub_per_minute tariff_name  \n",
       "0                1950         150                1               1       ultra  \n",
       "1                1950         150                1               1       ultra  \n",
       "2                1950         150                1               1       ultra  \n",
       "3                1950         150                1               1       ultra  \n",
       "4                1950         150                1               1       ultra  \n",
       "...               ...         ...              ...             ...         ...  \n",
       "3209              550         200                3               3       smart  \n",
       "3210              550         200                3               3       smart  \n",
       "3211              550         200                3               3       smart  \n",
       "3212              550         200                3               3       smart  \n",
       "3213              550         200                3               3       smart  \n",
       "\n",
       "[3214 rows x 15 columns]"
      ]
     },
     "execution_count": 33,
     "metadata": {},
     "output_type": "execute_result"
    }
   ],
   "source": [
    "cis = calls_internet_sms_t.merge(tariffs, left_on='tariff', right_on='tariff_name', how='left')\n",
    "cis"
   ]
  },
  {
   "cell_type": "markdown",
   "metadata": {},
   "source": [
    "Создадим функцию для подсчета выручки по каждому пользователю. Посчитаем абонентскую плату и стоимость сверхлимитных минут, гб, смс, если они были."
   ]
  },
  {
   "cell_type": "code",
   "execution_count": 34,
   "metadata": {},
   "outputs": [],
   "source": [
    "def income(df):\n",
    "    \n",
    "    result = df['rub_monthly_fee']            \n",
    "    \n",
    "    if df['calls_duration'] > df['minutes_included']:\n",
    "        result = result + ((df['calls_duration'] - df['minutes_included']) * df['rub_per_minute'])\n",
    "    \n",
    "    if df['gb_used'] > df['gb_per_month_included']:\n",
    "        result = result + ((df['gb_used'] - df['gb_per_month_included']) * df['rub_per_gb'])\n",
    "    \n",
    "    if df['sms_count'] > df['messages_included']:\n",
    "        result = result + ((df['sms_count'] - df['messages_included']) * df['rub_per_message'])\n",
    "    return result"
   ]
  },
  {
   "cell_type": "markdown",
   "metadata": {},
   "source": [
    "Добавим новый столбец с выручкой по каждому клиенту и месяцу."
   ]
  },
  {
   "cell_type": "code",
   "execution_count": 35,
   "metadata": {},
   "outputs": [],
   "source": [
    "cis['income'] = cis.apply(income, axis=1)"
   ]
  },
  {
   "cell_type": "code",
   "execution_count": 36,
   "metadata": {},
   "outputs": [
    {
     "data": {
      "text/html": [
       "<div>\n",
       "<style scoped>\n",
       "    .dataframe tbody tr th:only-of-type {\n",
       "        vertical-align: middle;\n",
       "    }\n",
       "\n",
       "    .dataframe tbody tr th {\n",
       "        vertical-align: top;\n",
       "    }\n",
       "\n",
       "    .dataframe thead th {\n",
       "        text-align: right;\n",
       "    }\n",
       "</style>\n",
       "<table border=\"1\" class=\"dataframe\">\n",
       "  <thead>\n",
       "    <tr style=\"text-align: right;\">\n",
       "      <th></th>\n",
       "      <th>user_id</th>\n",
       "      <th>month</th>\n",
       "      <th>calls_count</th>\n",
       "      <th>calls_duration</th>\n",
       "      <th>gb_used</th>\n",
       "      <th>sms_count</th>\n",
       "      <th>tariff</th>\n",
       "      <th>messages_included</th>\n",
       "      <th>gb_per_month_included</th>\n",
       "      <th>minutes_included</th>\n",
       "      <th>rub_monthly_fee</th>\n",
       "      <th>rub_per_gb</th>\n",
       "      <th>rub_per_message</th>\n",
       "      <th>rub_per_minute</th>\n",
       "      <th>tariff_name</th>\n",
       "      <th>income</th>\n",
       "    </tr>\n",
       "  </thead>\n",
       "  <tbody>\n",
       "    <tr>\n",
       "      <th>0</th>\n",
       "      <td>1000</td>\n",
       "      <td>5</td>\n",
       "      <td>22.00</td>\n",
       "      <td>159.00</td>\n",
       "      <td>3</td>\n",
       "      <td>22.00</td>\n",
       "      <td>ultra</td>\n",
       "      <td>1000</td>\n",
       "      <td>30.00</td>\n",
       "      <td>3000</td>\n",
       "      <td>1950</td>\n",
       "      <td>150</td>\n",
       "      <td>1</td>\n",
       "      <td>1</td>\n",
       "      <td>ultra</td>\n",
       "      <td>1950.00</td>\n",
       "    </tr>\n",
       "    <tr>\n",
       "      <th>1</th>\n",
       "      <td>1000</td>\n",
       "      <td>6</td>\n",
       "      <td>43.00</td>\n",
       "      <td>172.00</td>\n",
       "      <td>23</td>\n",
       "      <td>60.00</td>\n",
       "      <td>ultra</td>\n",
       "      <td>1000</td>\n",
       "      <td>30.00</td>\n",
       "      <td>3000</td>\n",
       "      <td>1950</td>\n",
       "      <td>150</td>\n",
       "      <td>1</td>\n",
       "      <td>1</td>\n",
       "      <td>ultra</td>\n",
       "      <td>1950.00</td>\n",
       "    </tr>\n",
       "    <tr>\n",
       "      <th>2</th>\n",
       "      <td>1000</td>\n",
       "      <td>7</td>\n",
       "      <td>47.00</td>\n",
       "      <td>340.00</td>\n",
       "      <td>14</td>\n",
       "      <td>75.00</td>\n",
       "      <td>ultra</td>\n",
       "      <td>1000</td>\n",
       "      <td>30.00</td>\n",
       "      <td>3000</td>\n",
       "      <td>1950</td>\n",
       "      <td>150</td>\n",
       "      <td>1</td>\n",
       "      <td>1</td>\n",
       "      <td>ultra</td>\n",
       "      <td>1950.00</td>\n",
       "    </tr>\n",
       "    <tr>\n",
       "      <th>3</th>\n",
       "      <td>1000</td>\n",
       "      <td>8</td>\n",
       "      <td>52.00</td>\n",
       "      <td>408.00</td>\n",
       "      <td>14</td>\n",
       "      <td>81.00</td>\n",
       "      <td>ultra</td>\n",
       "      <td>1000</td>\n",
       "      <td>30.00</td>\n",
       "      <td>3000</td>\n",
       "      <td>1950</td>\n",
       "      <td>150</td>\n",
       "      <td>1</td>\n",
       "      <td>1</td>\n",
       "      <td>ultra</td>\n",
       "      <td>1950.00</td>\n",
       "    </tr>\n",
       "    <tr>\n",
       "      <th>4</th>\n",
       "      <td>1000</td>\n",
       "      <td>9</td>\n",
       "      <td>58.00</td>\n",
       "      <td>466.00</td>\n",
       "      <td>15</td>\n",
       "      <td>57.00</td>\n",
       "      <td>ultra</td>\n",
       "      <td>1000</td>\n",
       "      <td>30.00</td>\n",
       "      <td>3000</td>\n",
       "      <td>1950</td>\n",
       "      <td>150</td>\n",
       "      <td>1</td>\n",
       "      <td>1</td>\n",
       "      <td>ultra</td>\n",
       "      <td>1950.00</td>\n",
       "    </tr>\n",
       "    <tr>\n",
       "      <th>5</th>\n",
       "      <td>1000</td>\n",
       "      <td>10</td>\n",
       "      <td>57.00</td>\n",
       "      <td>350.00</td>\n",
       "      <td>15</td>\n",
       "      <td>73.00</td>\n",
       "      <td>ultra</td>\n",
       "      <td>1000</td>\n",
       "      <td>30.00</td>\n",
       "      <td>3000</td>\n",
       "      <td>1950</td>\n",
       "      <td>150</td>\n",
       "      <td>1</td>\n",
       "      <td>1</td>\n",
       "      <td>ultra</td>\n",
       "      <td>1950.00</td>\n",
       "    </tr>\n",
       "    <tr>\n",
       "      <th>6</th>\n",
       "      <td>1000</td>\n",
       "      <td>11</td>\n",
       "      <td>43.00</td>\n",
       "      <td>338.00</td>\n",
       "      <td>15</td>\n",
       "      <td>58.00</td>\n",
       "      <td>ultra</td>\n",
       "      <td>1000</td>\n",
       "      <td>30.00</td>\n",
       "      <td>3000</td>\n",
       "      <td>1950</td>\n",
       "      <td>150</td>\n",
       "      <td>1</td>\n",
       "      <td>1</td>\n",
       "      <td>ultra</td>\n",
       "      <td>1950.00</td>\n",
       "    </tr>\n",
       "    <tr>\n",
       "      <th>7</th>\n",
       "      <td>1000</td>\n",
       "      <td>12</td>\n",
       "      <td>46.00</td>\n",
       "      <td>333.00</td>\n",
       "      <td>10</td>\n",
       "      <td>70.00</td>\n",
       "      <td>ultra</td>\n",
       "      <td>1000</td>\n",
       "      <td>30.00</td>\n",
       "      <td>3000</td>\n",
       "      <td>1950</td>\n",
       "      <td>150</td>\n",
       "      <td>1</td>\n",
       "      <td>1</td>\n",
       "      <td>ultra</td>\n",
       "      <td>1950.00</td>\n",
       "    </tr>\n",
       "    <tr>\n",
       "      <th>8</th>\n",
       "      <td>1001</td>\n",
       "      <td>11</td>\n",
       "      <td>59.00</td>\n",
       "      <td>430.00</td>\n",
       "      <td>18</td>\n",
       "      <td>0.00</td>\n",
       "      <td>smart</td>\n",
       "      <td>50</td>\n",
       "      <td>15.00</td>\n",
       "      <td>500</td>\n",
       "      <td>550</td>\n",
       "      <td>200</td>\n",
       "      <td>3</td>\n",
       "      <td>3</td>\n",
       "      <td>smart</td>\n",
       "      <td>1150.00</td>\n",
       "    </tr>\n",
       "    <tr>\n",
       "      <th>9</th>\n",
       "      <td>1001</td>\n",
       "      <td>12</td>\n",
       "      <td>63.00</td>\n",
       "      <td>414.00</td>\n",
       "      <td>14</td>\n",
       "      <td>0.00</td>\n",
       "      <td>smart</td>\n",
       "      <td>50</td>\n",
       "      <td>15.00</td>\n",
       "      <td>500</td>\n",
       "      <td>550</td>\n",
       "      <td>200</td>\n",
       "      <td>3</td>\n",
       "      <td>3</td>\n",
       "      <td>smart</td>\n",
       "      <td>550.00</td>\n",
       "    </tr>\n",
       "  </tbody>\n",
       "</table>\n",
       "</div>"
      ],
      "text/plain": [
       "   user_id  month  calls_count  calls_duration  gb_used  sms_count tariff  \\\n",
       "0     1000      5        22.00          159.00        3      22.00  ultra   \n",
       "1     1000      6        43.00          172.00       23      60.00  ultra   \n",
       "2     1000      7        47.00          340.00       14      75.00  ultra   \n",
       "3     1000      8        52.00          408.00       14      81.00  ultra   \n",
       "4     1000      9        58.00          466.00       15      57.00  ultra   \n",
       "5     1000     10        57.00          350.00       15      73.00  ultra   \n",
       "6     1000     11        43.00          338.00       15      58.00  ultra   \n",
       "7     1000     12        46.00          333.00       10      70.00  ultra   \n",
       "8     1001     11        59.00          430.00       18       0.00  smart   \n",
       "9     1001     12        63.00          414.00       14       0.00  smart   \n",
       "\n",
       "   messages_included  gb_per_month_included  minutes_included  \\\n",
       "0               1000                  30.00              3000   \n",
       "1               1000                  30.00              3000   \n",
       "2               1000                  30.00              3000   \n",
       "3               1000                  30.00              3000   \n",
       "4               1000                  30.00              3000   \n",
       "5               1000                  30.00              3000   \n",
       "6               1000                  30.00              3000   \n",
       "7               1000                  30.00              3000   \n",
       "8                 50                  15.00               500   \n",
       "9                 50                  15.00               500   \n",
       "\n",
       "   rub_monthly_fee  rub_per_gb  rub_per_message  rub_per_minute tariff_name  \\\n",
       "0             1950         150                1               1       ultra   \n",
       "1             1950         150                1               1       ultra   \n",
       "2             1950         150                1               1       ultra   \n",
       "3             1950         150                1               1       ultra   \n",
       "4             1950         150                1               1       ultra   \n",
       "5             1950         150                1               1       ultra   \n",
       "6             1950         150                1               1       ultra   \n",
       "7             1950         150                1               1       ultra   \n",
       "8              550         200                3               3       smart   \n",
       "9              550         200                3               3       smart   \n",
       "\n",
       "   income  \n",
       "0 1950.00  \n",
       "1 1950.00  \n",
       "2 1950.00  \n",
       "3 1950.00  \n",
       "4 1950.00  \n",
       "5 1950.00  \n",
       "6 1950.00  \n",
       "7 1950.00  \n",
       "8 1150.00  \n",
       "9  550.00  "
      ]
     },
     "execution_count": 36,
     "metadata": {},
     "output_type": "execute_result"
    }
   ],
   "source": [
    "cis.head(10)"
   ]
  },
  {
   "cell_type": "markdown",
   "metadata": {},
   "source": [
    "Получили таблицу с данными об использовании услуг связи и выручке по каждому пользователю в разрезе месяцев."
   ]
  },
  {
   "cell_type": "markdown",
   "metadata": {},
   "source": [
    "## Анализ данных"
   ]
  },
  {
   "cell_type": "markdown",
   "metadata": {},
   "source": [
    "Проанализируем пользователей этих тарифов. Посмотрим сколько минут разговора, сколько сообщений и какой объём интернет-трафика требуется пользователям каждого тарифа в месяц."
   ]
  },
  {
   "cell_type": "markdown",
   "metadata": {},
   "source": [
    "Для этого построим сводную таблицу по тарифу и пользователю. Посчитаем медианное значение по всем мясяцам каждого показателя. Возьмем медиану чтобы исключить влияние выбросов."
   ]
  },
  {
   "cell_type": "code",
   "execution_count": 37,
   "metadata": {},
   "outputs": [
    {
     "data": {
      "text/html": [
       "<div>\n",
       "<style scoped>\n",
       "    .dataframe tbody tr th:only-of-type {\n",
       "        vertical-align: middle;\n",
       "    }\n",
       "\n",
       "    .dataframe tbody tr th {\n",
       "        vertical-align: top;\n",
       "    }\n",
       "\n",
       "    .dataframe thead th {\n",
       "        text-align: right;\n",
       "    }\n",
       "</style>\n",
       "<table border=\"1\" class=\"dataframe\">\n",
       "  <thead>\n",
       "    <tr style=\"text-align: right;\">\n",
       "      <th></th>\n",
       "      <th>tariff</th>\n",
       "      <th>user_id</th>\n",
       "      <th>calls_duration</th>\n",
       "      <th>gb_used</th>\n",
       "      <th>sms_count</th>\n",
       "    </tr>\n",
       "  </thead>\n",
       "  <tbody>\n",
       "    <tr>\n",
       "      <th>0</th>\n",
       "      <td>smart</td>\n",
       "      <td>1001</td>\n",
       "      <td>422.00</td>\n",
       "      <td>16.00</td>\n",
       "      <td>0.00</td>\n",
       "    </tr>\n",
       "    <tr>\n",
       "      <th>1</th>\n",
       "      <td>smart</td>\n",
       "      <td>1002</td>\n",
       "      <td>214.00</td>\n",
       "      <td>18.00</td>\n",
       "      <td>11.00</td>\n",
       "    </tr>\n",
       "    <tr>\n",
       "      <th>2</th>\n",
       "      <td>smart</td>\n",
       "      <td>1005</td>\n",
       "      <td>593.50</td>\n",
       "      <td>8.00</td>\n",
       "      <td>49.00</td>\n",
       "    </tr>\n",
       "    <tr>\n",
       "      <th>3</th>\n",
       "      <td>smart</td>\n",
       "      <td>1006</td>\n",
       "      <td>356.00</td>\n",
       "      <td>16.00</td>\n",
       "      <td>0.00</td>\n",
       "    </tr>\n",
       "    <tr>\n",
       "      <th>4</th>\n",
       "      <td>smart</td>\n",
       "      <td>1007</td>\n",
       "      <td>480.00</td>\n",
       "      <td>15.00</td>\n",
       "      <td>26.00</td>\n",
       "    </tr>\n",
       "    <tr>\n",
       "      <th>5</th>\n",
       "      <td>smart</td>\n",
       "      <td>1008</td>\n",
       "      <td>339.00</td>\n",
       "      <td>13.00</td>\n",
       "      <td>56.00</td>\n",
       "    </tr>\n",
       "    <tr>\n",
       "      <th>6</th>\n",
       "      <td>smart</td>\n",
       "      <td>1009</td>\n",
       "      <td>221.00</td>\n",
       "      <td>18.00</td>\n",
       "      <td>12.00</td>\n",
       "    </tr>\n",
       "    <tr>\n",
       "      <th>7</th>\n",
       "      <td>smart</td>\n",
       "      <td>1010</td>\n",
       "      <td>245.00</td>\n",
       "      <td>16.00</td>\n",
       "      <td>0.00</td>\n",
       "    </tr>\n",
       "    <tr>\n",
       "      <th>8</th>\n",
       "      <td>smart</td>\n",
       "      <td>1011</td>\n",
       "      <td>454.50</td>\n",
       "      <td>18.50</td>\n",
       "      <td>12.50</td>\n",
       "    </tr>\n",
       "    <tr>\n",
       "      <th>9</th>\n",
       "      <td>smart</td>\n",
       "      <td>1012</td>\n",
       "      <td>226.50</td>\n",
       "      <td>22.00</td>\n",
       "      <td>14.50</td>\n",
       "    </tr>\n",
       "  </tbody>\n",
       "</table>\n",
       "</div>"
      ],
      "text/plain": [
       "  tariff  user_id  calls_duration  gb_used  sms_count\n",
       "0  smart     1001          422.00    16.00       0.00\n",
       "1  smart     1002          214.00    18.00      11.00\n",
       "2  smart     1005          593.50     8.00      49.00\n",
       "3  smart     1006          356.00    16.00       0.00\n",
       "4  smart     1007          480.00    15.00      26.00\n",
       "5  smart     1008          339.00    13.00      56.00\n",
       "6  smart     1009          221.00    18.00      12.00\n",
       "7  smart     1010          245.00    16.00       0.00\n",
       "8  smart     1011          454.50    18.50      12.50\n",
       "9  smart     1012          226.50    22.00      14.50"
      ]
     },
     "execution_count": 37,
     "metadata": {},
     "output_type": "execute_result"
    }
   ],
   "source": [
    "df_hist = cis.pivot_table(index=['tariff','user_id'], values=['calls_duration','gb_used', 'sms_count'], aggfunc='median')\n",
    "df_hist = df_hist.reset_index()\n",
    "df_hist.head(10)"
   ]
  },
  {
   "cell_type": "markdown",
   "metadata": {},
   "source": [
    "Посмотрим на основные параметры пользователей всех тарифов."
   ]
  },
  {
   "cell_type": "code",
   "execution_count": 38,
   "metadata": {},
   "outputs": [
    {
     "data": {
      "text/html": [
       "<div>\n",
       "<style scoped>\n",
       "    .dataframe tbody tr th:only-of-type {\n",
       "        vertical-align: middle;\n",
       "    }\n",
       "\n",
       "    .dataframe tbody tr th {\n",
       "        vertical-align: top;\n",
       "    }\n",
       "\n",
       "    .dataframe thead th {\n",
       "        text-align: right;\n",
       "    }\n",
       "</style>\n",
       "<table border=\"1\" class=\"dataframe\">\n",
       "  <thead>\n",
       "    <tr style=\"text-align: right;\">\n",
       "      <th></th>\n",
       "      <th>calls_duration</th>\n",
       "      <th>gb_used</th>\n",
       "      <th>sms_count</th>\n",
       "    </tr>\n",
       "  </thead>\n",
       "  <tbody>\n",
       "    <tr>\n",
       "      <th>count</th>\n",
       "      <td>498</td>\n",
       "      <td>498</td>\n",
       "      <td>498</td>\n",
       "    </tr>\n",
       "    <tr>\n",
       "      <th>mean</th>\n",
       "      <td>473</td>\n",
       "      <td>18</td>\n",
       "      <td>41</td>\n",
       "    </tr>\n",
       "    <tr>\n",
       "      <th>std</th>\n",
       "      <td>220</td>\n",
       "      <td>6</td>\n",
       "      <td>37</td>\n",
       "    </tr>\n",
       "    <tr>\n",
       "      <th>min</th>\n",
       "      <td>0</td>\n",
       "      <td>0</td>\n",
       "      <td>0</td>\n",
       "    </tr>\n",
       "    <tr>\n",
       "      <th>25%</th>\n",
       "      <td>325</td>\n",
       "      <td>14</td>\n",
       "      <td>12</td>\n",
       "    </tr>\n",
       "    <tr>\n",
       "      <th>50%</th>\n",
       "      <td>462</td>\n",
       "      <td>18</td>\n",
       "      <td>32</td>\n",
       "    </tr>\n",
       "    <tr>\n",
       "      <th>75%</th>\n",
       "      <td>591</td>\n",
       "      <td>21</td>\n",
       "      <td>60</td>\n",
       "    </tr>\n",
       "    <tr>\n",
       "      <th>max</th>\n",
       "      <td>1273</td>\n",
       "      <td>39</td>\n",
       "      <td>197</td>\n",
       "    </tr>\n",
       "  </tbody>\n",
       "</table>\n",
       "</div>"
      ],
      "text/plain": [
       "       calls_duration  gb_used  sms_count\n",
       "count             498      498        498\n",
       "mean              473       18         41\n",
       "std               220        6         37\n",
       "min                 0        0          0\n",
       "25%               325       14         12\n",
       "50%               462       18         32\n",
       "75%               591       21         60\n",
       "max              1273       39        197"
      ]
     },
     "execution_count": 38,
     "metadata": {},
     "output_type": "execute_result"
    }
   ],
   "source": [
    "pd.set_option('display.float_format', '{:.0f}'.format)\n",
    "df_hist.loc[:,['calls_duration','gb_used', 'sms_count']].describe()"
   ]
  },
  {
   "cell_type": "markdown",
   "metadata": {},
   "source": [
    "Видим что в среднем пользователи в месяц выговаривают 473 минуты, отправляют 41 смс и тратят 18 Гб интернет трафика. Но большинство укладываются в 590 минут, 21 Гб и 60 смс. Среднее значение минут и смс больше медианы этих значений,  значит распределения значений скошены вправо. А вот среднее и медиана использованных Гб равны, т.е. они распределены равномерно в обе стороны.  \n",
    "\n",
    "А теперь посмотрим как пользуются услугами связи пользователи разных тарифов:"
   ]
  },
  {
   "cell_type": "code",
   "execution_count": 39,
   "metadata": {
    "scrolled": true
   },
   "outputs": [
    {
     "name": "stdout",
     "output_type": "stream",
     "text": [
      "Средние значения длительности звонков, потребления трафика и количества сообщений:\n"
     ]
    },
    {
     "data": {
      "text/html": [
       "<div>\n",
       "<style scoped>\n",
       "    .dataframe tbody tr th:only-of-type {\n",
       "        vertical-align: middle;\n",
       "    }\n",
       "\n",
       "    .dataframe tbody tr th {\n",
       "        vertical-align: top;\n",
       "    }\n",
       "\n",
       "    .dataframe thead th {\n",
       "        text-align: right;\n",
       "    }\n",
       "</style>\n",
       "<table border=\"1\" class=\"dataframe\">\n",
       "  <thead>\n",
       "    <tr style=\"text-align: right;\">\n",
       "      <th></th>\n",
       "      <th>calls_duration</th>\n",
       "      <th>gb_used</th>\n",
       "      <th>sms_count</th>\n",
       "    </tr>\n",
       "    <tr>\n",
       "      <th>tariff</th>\n",
       "      <th></th>\n",
       "      <th></th>\n",
       "      <th></th>\n",
       "    </tr>\n",
       "  </thead>\n",
       "  <tbody>\n",
       "    <tr>\n",
       "      <th>smart</th>\n",
       "      <td>437</td>\n",
       "      <td>17</td>\n",
       "      <td>34</td>\n",
       "    </tr>\n",
       "    <tr>\n",
       "      <th>ultra</th>\n",
       "      <td>558</td>\n",
       "      <td>20</td>\n",
       "      <td>57</td>\n",
       "    </tr>\n",
       "  </tbody>\n",
       "</table>\n",
       "</div>"
      ],
      "text/plain": [
       "        calls_duration  gb_used  sms_count\n",
       "tariff                                    \n",
       "smart              437       17         34\n",
       "ultra              558       20         57"
      ]
     },
     "execution_count": 39,
     "metadata": {},
     "output_type": "execute_result"
    }
   ],
   "source": [
    "print('Средние значения длительности звонков, потребления трафика и количества сообщений:')\n",
    "df_hist.pivot_table(index='tariff', values=['calls_duration','gb_used', 'sms_count'], aggfunc='mean')"
   ]
  },
  {
   "cell_type": "markdown",
   "metadata": {},
   "source": [
    "Пользователи тарифа \"Смарт\" в среднем укладываются в лимит 500 мин и 50 сообщений, но лимита интернет трафика (15Гб) им не хватает, в среднем они используют 17 Гб. Похоже тариф smart был создан с расчетом на превышение пользователями лимитов.  \n",
    "\n",
    "А вот пользователям тарифа \"Ультра\" требуется чуть больше минут, Гб и сообщенний, чем пользователям \"Смарт\", но они в среднем не используют свой лимит по полной. В среднем пользователи тарифа \"Ультра\" почти не используют лимит минут 558 из 3000, чуть лучше используют лимит смс 57 из 100, и лучше всего потребляют интернет 20 из 30 Гб."
   ]
  },
  {
   "cell_type": "code",
   "execution_count": 40,
   "metadata": {},
   "outputs": [
    {
     "name": "stdout",
     "output_type": "stream",
     "text": [
      "Стандартное отклонение параметров длительности звонков, потребления трафика и количества сообщений:\n"
     ]
    },
    {
     "data": {
      "text/html": [
       "<div>\n",
       "<style scoped>\n",
       "    .dataframe tbody tr th:only-of-type {\n",
       "        vertical-align: middle;\n",
       "    }\n",
       "\n",
       "    .dataframe tbody tr th {\n",
       "        vertical-align: top;\n",
       "    }\n",
       "\n",
       "    .dataframe thead th {\n",
       "        text-align: right;\n",
       "    }\n",
       "</style>\n",
       "<table border=\"1\" class=\"dataframe\">\n",
       "  <thead>\n",
       "    <tr style=\"text-align: right;\">\n",
       "      <th></th>\n",
       "      <th>calls_duration</th>\n",
       "      <th>gb_used</th>\n",
       "      <th>sms_count</th>\n",
       "    </tr>\n",
       "    <tr>\n",
       "      <th>tariff</th>\n",
       "      <th></th>\n",
       "      <th></th>\n",
       "      <th></th>\n",
       "    </tr>\n",
       "  </thead>\n",
       "  <tbody>\n",
       "    <tr>\n",
       "      <th>smart</th>\n",
       "      <td>160</td>\n",
       "      <td>4</td>\n",
       "      <td>28</td>\n",
       "    </tr>\n",
       "    <tr>\n",
       "      <th>ultra</th>\n",
       "      <td>304</td>\n",
       "      <td>9</td>\n",
       "      <td>49</td>\n",
       "    </tr>\n",
       "  </tbody>\n",
       "</table>\n",
       "</div>"
      ],
      "text/plain": [
       "        calls_duration  gb_used  sms_count\n",
       "tariff                                    \n",
       "smart              160        4         28\n",
       "ultra              304        9         49"
      ]
     },
     "execution_count": 40,
     "metadata": {},
     "output_type": "execute_result"
    }
   ],
   "source": [
    "print('Стандартное отклонение параметров длительности звонков, потребления трафика и количества сообщений:')\n",
    "df_hist.pivot_table(index='tariff', values=['calls_duration','gb_used', 'sms_count'], aggfunc='std')"
   ]
  },
  {
   "cell_type": "markdown",
   "metadata": {},
   "source": [
    "Разброс значений по тарифу \"Ультра\" больше чем разброс значений по тарифу \"Смарт\"."
   ]
  },
  {
   "cell_type": "code",
   "execution_count": 41,
   "metadata": {},
   "outputs": [
    {
     "data": {
      "text/html": [
       "<div>\n",
       "<style scoped>\n",
       "    .dataframe tbody tr th:only-of-type {\n",
       "        vertical-align: middle;\n",
       "    }\n",
       "\n",
       "    .dataframe tbody tr th {\n",
       "        vertical-align: top;\n",
       "    }\n",
       "\n",
       "    .dataframe thead th {\n",
       "        text-align: right;\n",
       "    }\n",
       "</style>\n",
       "<table border=\"1\" class=\"dataframe\">\n",
       "  <thead>\n",
       "    <tr style=\"text-align: right;\">\n",
       "      <th></th>\n",
       "      <th>calls_duration</th>\n",
       "      <th>gb_used</th>\n",
       "      <th>sms_count</th>\n",
       "    </tr>\n",
       "    <tr>\n",
       "      <th>tariff</th>\n",
       "      <th></th>\n",
       "      <th></th>\n",
       "      <th></th>\n",
       "    </tr>\n",
       "  </thead>\n",
       "  <tbody>\n",
       "    <tr>\n",
       "      <th>smart</th>\n",
       "      <td>25685</td>\n",
       "      <td>17</td>\n",
       "      <td>785</td>\n",
       "    </tr>\n",
       "    <tr>\n",
       "      <th>ultra</th>\n",
       "      <td>92291</td>\n",
       "      <td>76</td>\n",
       "      <td>2424</td>\n",
       "    </tr>\n",
       "  </tbody>\n",
       "</table>\n",
       "</div>"
      ],
      "text/plain": [
       "        calls_duration  gb_used  sms_count\n",
       "tariff                                    \n",
       "smart            25685       17        785\n",
       "ultra            92291       76       2424"
      ]
     },
     "execution_count": 41,
     "metadata": {},
     "output_type": "execute_result"
    }
   ],
   "source": [
    "df_hist.pivot_table(index='tariff', values=['calls_duration','gb_used', 'sms_count'], aggfunc=np.var)"
   ]
  },
  {
   "cell_type": "markdown",
   "metadata": {},
   "source": [
    "Если стандартное отклонение выборок по тарифам отличается, то и дисперсия тоже будет. Ведь корень из дисперсии равен стандартному отклонению."
   ]
  },
  {
   "cell_type": "markdown",
   "metadata": {},
   "source": [
    "**Построим гистограммы для этих параметров.**"
   ]
  },
  {
   "cell_type": "code",
   "execution_count": 42,
   "metadata": {},
   "outputs": [
    {
     "data": {
      "image/png": "[encoded data removed]",
      "text/plain": [
       "<Figure size 432x288 with 1 Axes>"
      ]
     },
     "metadata": {
      "needs_background": "light"
     },
     "output_type": "display_data"
    },
    {
     "data": {
      "image/png": "[encoded data removed]",
      "text/plain": [
       "<Figure size 432x288 with 1 Axes>"
      ]
     },
     "metadata": {
      "needs_background": "light"
     },
     "output_type": "display_data"
    },
    {
     "data": {
      "image/png": "[encoded data removed]",
      "text/plain": [
       "<Figure size 432x288 with 1 Axes>"
      ]
     },
     "metadata": {
      "needs_background": "light"
     },
     "output_type": "display_data"
    }
   ],
   "source": [
    "parameters = ['calls_duration','gb_used', 'sms_count']\n",
    "for parameter in parameters:    \n",
    "    df_hist.plot(kind='hist', y=parameter, grid=True, title=f\"Распределение параметра {parameter}\")\n",
    "    plt.show()"
   ]
  },
  {
   "cell_type": "markdown",
   "metadata": {},
   "source": [
    "Распределение параметров длительность звонков и потребление трафика стремятся к нормальному распределению. Теперь мы видим что распределения длительности звонков и количества сообщений скошенны вправо. А среднее и медиана использованного трафика, как помним, практически равны."
   ]
  },
  {
   "cell_type": "markdown",
   "metadata": {},
   "source": [
    "Сравним как распределяются эти параметры в разрезе тарифов:"
   ]
  },
  {
   "cell_type": "code",
   "execution_count": 43,
   "metadata": {},
   "outputs": [
    {
     "data": {
      "image/png": "[encoded data removed]",
      "text/plain": [
       "<Figure size 792x360 with 1 Axes>"
      ]
     },
     "metadata": {},
     "output_type": "display_data"
    },
    {
     "data": {
      "image/png": "[encoded data removed]",
      "text/plain": [
       "<Figure size 792x360 with 1 Axes>"
      ]
     },
     "metadata": {},
     "output_type": "display_data"
    },
    {
     "data": {
      "image/png": "[encoded data removed]",
      "text/plain": [
       "<Figure size 792x360 with 1 Axes>"
      ]
     },
     "metadata": {},
     "output_type": "display_data"
    }
   ],
   "source": [
    "parameters = ['calls_duration','gb_used', 'sms_count']\n",
    "sns.set_theme(style=\"whitegrid\")\n",
    "for parameter in parameters:    \n",
    "    plt.figure(figsize=(11,5))\n",
    "    sns.histplot(data=df_hist, x=parameter, hue='tariff')    \n",
    "    plt.title(f\"Распределение {parameter} на тарифах\")\n",
    "    plt.show()"
   ]
  },
  {
   "cell_type": "markdown",
   "metadata": {},
   "source": [
    "Пользователи тарифа \"Ультра\" больше разговаривают . Гораздо лучше они пользуются интернетом самые частые значения от 16 до 23 Гб. Пользователи тарифа \"Смарт\" тоже любят интернет и тратят от 15 до 20 Гб в месяц, несмотря на лимит 15Гб. Сообщениями пользователи не особо пользуются и как правило укладываются в лимит сообщений: 50 смс для тарифа \"Смарт\", 100 смс для тарифа \"Ультра\"."
   ]
  },
  {
   "cell_type": "markdown",
   "metadata": {},
   "source": [
    "**Выясним какой тариф приносит больше денег**"
   ]
  },
  {
   "cell_type": "markdown",
   "metadata": {},
   "source": [
    "Посмотрим на разброс выручек пользователей разных тарифов. Построим диаграммы размаха."
   ]
  },
  {
   "cell_type": "code",
   "execution_count": 44,
   "metadata": {},
   "outputs": [
    {
     "data": {
      "image/png": "[encoded data removed]",
      "text/plain": [
       "<Figure size 864x288 with 1 Axes>"
      ]
     },
     "metadata": {},
     "output_type": "display_data"
    }
   ],
   "source": [
    "plt.figure(figsize=(12,4))\n",
    "sns.boxplot(x=cis['income'], y=cis['tariff'])\n",
    "plt.title('Диаграмма размаха выручки пользователей')\n",
    "plt.show()"
   ]
  },
  {
   "cell_type": "markdown",
   "metadata": {},
   "source": [
    "Мы видим, что достаточно мало пользователей тарифа \"Ультра\" приносят выручку больше абонентской платы - 1950, т.е. редко превышают лимиты по своему тарифу. Абонентская плата тарифа \"Смарт\" гораздо ниже - 550 руб, но и пользователи гораздо чаще превышают лимиты тарифа. А 75% значений лежит ниже 2000 руб. Но межквартильный размах смещен вправо и в нормальное распределение попадает достаточное много выручки выше 3000.  \n",
    "Другими словами мы можем сказать что тариф \"Смарт\" для оператора более выгоден так как на этом тарифе будут пользователи, которые платят больше чем пользователи тарифа \"Ультра\". И скорее всего пользователей тарифа \"Смарт\", как более дешевого, должно быть больше."
   ]
  },
  {
   "cell_type": "markdown",
   "metadata": {},
   "source": [
    "## Проверка гипотез"
   ]
  },
  {
   "cell_type": "markdown",
   "metadata": {},
   "source": [
    "### Двустороння проверка: средняя выручка пользователей тарифов «Ультра» и «Смарт» различаются"
   ]
  },
  {
   "cell_type": "markdown",
   "metadata": {},
   "source": [
    "<p>Введем основную и альтернативные гипотезы:</p>\n",
    "\n",
    "$\\begin{equation*}\n",
    " \\begin{cases}\n",
    "   H_0 :\\text{Средняя выручка пользователей тарифов «Ультра» и «Смарт» одинакова}\\\\\n",
    "   H_1 :\\text{Средняя выручка пользователей тарифов «Ультра» и «Смарт» отличается}\n",
    " \\end{cases}\n",
    "\\end{equation*}$\n",
    "\n",
    "\n",
    "Уровень значимости: $\\alpha = 0.05$\n",
    "\n",
    "Посчитаем p-value, используя ttest из библиотеки scipy для сравнения средних двух выборок.\n",
    "\n",
    "Если p-value будет меньше выбранного уровня значимости $\\alpha = 0.05$, то нулевую гипотезу о равенстве средних отвергнем. Иначе сделаем вывод, что данные не позволили нам отвергнуть нулевую гипотезу."
   ]
  },
  {
   "cell_type": "markdown",
   "metadata": {},
   "source": [
    "Подготовим две выборки. Выручка в месяц по каждому пользователю тарифов «Ультра» и «Смарт»."
   ]
  },
  {
   "cell_type": "code",
   "execution_count": 45,
   "metadata": {},
   "outputs": [],
   "source": [
    "income_smart = cis[cis['tariff'] == 'smart']['income']\n",
    "income_ultra = cis[cis['tariff'] == 'ultra']['income']"
   ]
  },
  {
   "cell_type": "markdown",
   "metadata": {},
   "source": [
    "Мы сравниваем группы пользователей и мы знаем, что эти группы отличаются по всем другим параметрам. Соответственно, у нас есть серьезный повод сомневаться, что дисперсии данных выборок равны. Поэтому при использовании метода параметру equal_var передадим 'False'."
   ]
  },
  {
   "cell_type": "code",
   "execution_count": 46,
   "metadata": {},
   "outputs": [
    {
     "name": "stdout",
     "output_type": "stream",
     "text": [
      "p-значение:  4.2606313931076085e-250\n",
      "Отвергаем нулевую гипотезу\n"
     ]
    }
   ],
   "source": [
    "alpha = .05\n",
    "\n",
    "results = st.ttest_ind(income_smart, income_ultra, equal_var=False)\n",
    "\n",
    "print('p-значение: ', results.pvalue)\n",
    "\n",
    "if results.pvalue < alpha:\n",
    "    print(\"Отвергаем нулевую гипотезу\")\n",
    "else:\n",
    "    print(\"Не получилось отвергнуть нулевую гипотезу\")"
   ]
  },
  {
   "cell_type": "markdown",
   "metadata": {},
   "source": [
    "Вероятность что средние выручки равны слишком мала, поэтому мы можем сказать, что средняя выручка пользователей тарифов отличается."
   ]
  },
  {
   "cell_type": "markdown",
   "metadata": {},
   "source": [
    "### Двустороння проверка: средняя выручка пользователей из Москвы отличается от выручки пользователей из других регионов."
   ]
  },
  {
   "cell_type": "markdown",
   "metadata": {},
   "source": [
    "Подготовим две выборки. Выручка в месяц пользователей из Москвы и выручка в месяц пользователей из других регионов."
   ]
  },
  {
   "cell_type": "markdown",
   "metadata": {},
   "source": [
    "Добавим к нашей таблице, содержащей выручку по пользователям и месяцам, город проживания пользователя.  \n",
    "Сделаем срезы с нужными столбцами и объединим их."
   ]
  },
  {
   "cell_type": "code",
   "execution_count": 47,
   "metadata": {},
   "outputs": [],
   "source": [
    "user_income = cis.loc[:,['user_id','month', 'income']]\n",
    "user_city = users.loc[:,['user_id','city']]"
   ]
  },
  {
   "cell_type": "code",
   "execution_count": 48,
   "metadata": {},
   "outputs": [
    {
     "data": {
      "text/html": [
       "<div>\n",
       "<style scoped>\n",
       "    .dataframe tbody tr th:only-of-type {\n",
       "        vertical-align: middle;\n",
       "    }\n",
       "\n",
       "    .dataframe tbody tr th {\n",
       "        vertical-align: top;\n",
       "    }\n",
       "\n",
       "    .dataframe thead th {\n",
       "        text-align: right;\n",
       "    }\n",
       "</style>\n",
       "<table border=\"1\" class=\"dataframe\">\n",
       "  <thead>\n",
       "    <tr style=\"text-align: right;\">\n",
       "      <th></th>\n",
       "      <th>user_id</th>\n",
       "      <th>month</th>\n",
       "      <th>income</th>\n",
       "      <th>city</th>\n",
       "    </tr>\n",
       "  </thead>\n",
       "  <tbody>\n",
       "    <tr>\n",
       "      <th>0</th>\n",
       "      <td>1000</td>\n",
       "      <td>5</td>\n",
       "      <td>1950</td>\n",
       "      <td>Краснодар</td>\n",
       "    </tr>\n",
       "    <tr>\n",
       "      <th>1</th>\n",
       "      <td>1000</td>\n",
       "      <td>6</td>\n",
       "      <td>1950</td>\n",
       "      <td>Краснодар</td>\n",
       "    </tr>\n",
       "    <tr>\n",
       "      <th>2</th>\n",
       "      <td>1000</td>\n",
       "      <td>7</td>\n",
       "      <td>1950</td>\n",
       "      <td>Краснодар</td>\n",
       "    </tr>\n",
       "    <tr>\n",
       "      <th>3</th>\n",
       "      <td>1000</td>\n",
       "      <td>8</td>\n",
       "      <td>1950</td>\n",
       "      <td>Краснодар</td>\n",
       "    </tr>\n",
       "    <tr>\n",
       "      <th>4</th>\n",
       "      <td>1000</td>\n",
       "      <td>9</td>\n",
       "      <td>1950</td>\n",
       "      <td>Краснодар</td>\n",
       "    </tr>\n",
       "    <tr>\n",
       "      <th>5</th>\n",
       "      <td>1000</td>\n",
       "      <td>10</td>\n",
       "      <td>1950</td>\n",
       "      <td>Краснодар</td>\n",
       "    </tr>\n",
       "    <tr>\n",
       "      <th>6</th>\n",
       "      <td>1000</td>\n",
       "      <td>11</td>\n",
       "      <td>1950</td>\n",
       "      <td>Краснодар</td>\n",
       "    </tr>\n",
       "    <tr>\n",
       "      <th>7</th>\n",
       "      <td>1000</td>\n",
       "      <td>12</td>\n",
       "      <td>1950</td>\n",
       "      <td>Краснодар</td>\n",
       "    </tr>\n",
       "    <tr>\n",
       "      <th>8</th>\n",
       "      <td>1001</td>\n",
       "      <td>11</td>\n",
       "      <td>1150</td>\n",
       "      <td>Москва</td>\n",
       "    </tr>\n",
       "    <tr>\n",
       "      <th>9</th>\n",
       "      <td>1001</td>\n",
       "      <td>12</td>\n",
       "      <td>550</td>\n",
       "      <td>Москва</td>\n",
       "    </tr>\n",
       "  </tbody>\n",
       "</table>\n",
       "</div>"
      ],
      "text/plain": [
       "   user_id  month  income       city\n",
       "0     1000      5    1950  Краснодар\n",
       "1     1000      6    1950  Краснодар\n",
       "2     1000      7    1950  Краснодар\n",
       "3     1000      8    1950  Краснодар\n",
       "4     1000      9    1950  Краснодар\n",
       "5     1000     10    1950  Краснодар\n",
       "6     1000     11    1950  Краснодар\n",
       "7     1000     12    1950  Краснодар\n",
       "8     1001     11    1150     Москва\n",
       "9     1001     12     550     Москва"
      ]
     },
     "execution_count": 48,
     "metadata": {},
     "output_type": "execute_result"
    }
   ],
   "source": [
    "user_city_income = user_income.merge(user_city, on = 'user_id', how='left')\n",
    "user_city_income.head(10)"
   ]
  },
  {
   "cell_type": "markdown",
   "metadata": {},
   "source": [
    "Сохраним выручку пользователей из Москвы и пользователей из других регионов."
   ]
  },
  {
   "cell_type": "code",
   "execution_count": 49,
   "metadata": {},
   "outputs": [],
   "source": [
    "user_moscow_income = user_city_income[user_city_income['city'] == 'Москва']['income']\n",
    "user_reg_income = user_city_income[user_city_income['city'] != 'Москва']['income']"
   ]
  },
  {
   "cell_type": "markdown",
   "metadata": {},
   "source": [
    "<p>Введем основную и альтернативные гипотезы:</p>\n",
    "\n",
    "$\\begin{equation*}\n",
    " \\begin{cases}\n",
    "   H_0 :\\text{Средняя выручка пользователей из Москвы и пользователей из других регионов одинакова}\\\\\n",
    "   H_1 :\\text{Средняя выручка пользователей из Москвы и пользователей из других регионов отличается}\n",
    " \\end{cases}\n",
    "\\end{equation*}$\n",
    "\n",
    "\n",
    "Уровень значимости: $\\alpha = 0.05$\n",
    "\n",
    "Посчитаем p-value, используя ttest из библиотеки scipy для сравнения средних двух выборок.\n",
    "\n",
    "Если p-value будет меньше выбранного уровня значимости $\\alpha = 0.05$, то нулевую гипотезу о равенстве средних отвергнем. Иначе сделаем вывод, что данные не позволили нам отвергнуть нулевую гипотезу."
   ]
  },
  {
   "cell_type": "markdown",
   "metadata": {},
   "source": [
    " Пользователи из Москвы отличаются от пользователей из других регионов. Соответственно, у нас есть серьезный повод сомневаться, что дисперсии данных выборок равны. Поэтому при использовании метода параметру equal_var передадим 'False'."
   ]
  },
  {
   "cell_type": "code",
   "execution_count": 50,
   "metadata": {
    "scrolled": true
   },
   "outputs": [
    {
     "name": "stdout",
     "output_type": "stream",
     "text": [
      "p-значение:  0.5257376663729298\n",
      "Не получилось отвергнуть нулевую гипотезу\n"
     ]
    }
   ],
   "source": [
    "alpha = .05\n",
    "\n",
    "results = st.ttest_ind(user_moscow_income, user_reg_income, equal_var=False)\n",
    "\n",
    "print('p-значение: ', results.pvalue)\n",
    "\n",
    "if results.pvalue < alpha:\n",
    "    print(\"Отвергаем нулевую гипотезу\")\n",
    "else:\n",
    "    print(\"Не получилось отвергнуть нулевую гипотезу\")"
   ]
  },
  {
   "cell_type": "markdown",
   "metadata": {},
   "source": [
    "Можем сделать вывод, что средняя выручка пользователей из Москвы и пользователей из других регионов принципиально не отличаются."
   ]
  },
  {
   "cell_type": "markdown",
   "metadata": {},
   "source": [
    "## Общий вывод"
   ]
  },
  {
   "cell_type": "markdown",
   "metadata": {},
   "source": [
    "  Мы проанализировали данные 500 пользователей «Мегалайна», а именно: кто они, откуда, каким тарифом пользуются, сколько звонков и сообщений каждый пользователь отправил за 2018 год.  \n",
    "Анализ позволяет сделать следующие выводы.   \n",
    "  Пользователям тарифа \"Смарт\" не хватает месячного лимита трафика и минут и им приходится платить за дополнительные минуты и Гб. Пользователи тарифа \"Ультра\", как правило, потребляют больше минут и Гб чем пользователи \"Смарт\", но очень редко превышают лимиты тарифа и ограничиваются абонентской платой. Для пользователей обоих тарифов характерно, что сообщениями они  пользуются редко и как правило укладываются в лимит сообщений, установленный их тарифами.  \n",
    "  Поскольку пользователям тарифа \"Смарт\" не хватает лимита услуг и они готовы на дополнительные траты в месяц потенциально они могут приносить больше выручки чем пользователи тарифа \"Ультра\". Также анализ распределения ежемесячной выручки показал что достаточное количество пользователей тарифа \"Смарт\" платят в месяц больше чем пользователи тарифа \"Ультра\". Таким образом, выгоднее вложить рекламный бюджет в тариф \"Смарт\".  \n",
    "  Также удалось выяснить, что средняя выручка пользователей из Москвы и пользователей из других регионов принципиально не отличаются.\n"
   ]
  }
 ],
 "metadata": {
  "ExecuteTimeLog": [
   {
    "duration": 1551,
    "start_time": "2022-01-22T20:11:39.648Z"
   },
   {
    "duration": 11,
    "start_time": "2022-01-22T20:11:43.412Z"
   },
   {
    "duration": 10,
    "start_time": "2022-01-22T20:11:46.289Z"
   },
   {
    "duration": 7,
    "start_time": "2022-01-22T20:12:24.920Z"
   },
   {
    "duration": 10,
    "start_time": "2022-01-22T20:12:53.973Z"
   },
   {
    "duration": 8,
    "start_time": "2022-01-22T20:13:24.153Z"
   },
   {
    "duration": 18,
    "start_time": "2022-01-22T20:13:43.840Z"
   },
   {
    "duration": 9,
    "start_time": "2022-01-22T20:14:03.201Z"
   },
   {
    "duration": 7,
    "start_time": "2022-01-22T20:15:11.233Z"
   },
   {
    "duration": 18,
    "start_time": "2022-01-22T20:16:42.287Z"
   },
   {
    "duration": 7,
    "start_time": "2022-01-22T20:38:08.708Z"
   },
   {
    "duration": 1429,
    "start_time": "2022-01-23T09:15:49.939Z"
   },
   {
    "duration": 20,
    "start_time": "2022-01-23T09:18:27.427Z"
   },
   {
    "duration": 10,
    "start_time": "2022-01-23T09:21:36.704Z"
   },
   {
    "duration": 28,
    "start_time": "2022-01-23T09:22:08.029Z"
   },
   {
    "duration": 8,
    "start_time": "2022-01-23T09:22:09.634Z"
   },
   {
    "duration": 14,
    "start_time": "2022-01-23T09:22:17.780Z"
   },
   {
    "duration": 21,
    "start_time": "2022-01-23T09:23:58.493Z"
   },
   {
    "duration": 9,
    "start_time": "2022-01-23T09:24:02.519Z"
   },
   {
    "duration": 5,
    "start_time": "2022-01-23T09:27:48.739Z"
   },
   {
    "duration": 10,
    "start_time": "2022-01-23T09:27:53.485Z"
   },
   {
    "duration": 4,
    "start_time": "2022-01-23T09:29:16.771Z"
   },
   {
    "duration": 9,
    "start_time": "2022-01-23T09:29:18.962Z"
   },
   {
    "duration": 1678,
    "start_time": "2022-01-23T09:35:22.361Z"
   },
   {
    "duration": 372,
    "start_time": "2022-01-23T09:36:44.113Z"
   },
   {
    "duration": 345,
    "start_time": "2022-01-23T09:37:05.574Z"
   },
   {
    "duration": 349,
    "start_time": "2022-01-23T09:41:39.958Z"
   },
   {
    "duration": 869,
    "start_time": "2022-01-23T09:43:04.662Z"
   },
   {
    "duration": 119,
    "start_time": "2022-01-23T09:49:49.075Z"
   },
   {
    "duration": 10,
    "start_time": "2022-01-23T09:49:55.900Z"
   },
   {
    "duration": 11,
    "start_time": "2022-01-23T09:50:10.588Z"
   },
   {
    "duration": 19,
    "start_time": "2022-01-23T09:57:12.455Z"
   },
   {
    "duration": 360,
    "start_time": "2022-01-23T09:58:12.916Z"
   },
   {
    "duration": 8,
    "start_time": "2022-01-23T09:58:13.277Z"
   },
   {
    "duration": 8,
    "start_time": "2022-01-23T09:58:13.287Z"
   },
   {
    "duration": 16,
    "start_time": "2022-01-23T09:58:13.297Z"
   },
   {
    "duration": 6,
    "start_time": "2022-01-23T09:58:13.314Z"
   },
   {
    "duration": 10,
    "start_time": "2022-01-23T09:58:13.321Z"
   },
   {
    "duration": 6,
    "start_time": "2022-01-23T09:58:13.332Z"
   },
   {
    "duration": 8,
    "start_time": "2022-01-23T09:58:13.340Z"
   },
   {
    "duration": 20,
    "start_time": "2022-01-23T09:58:13.350Z"
   },
   {
    "duration": 24,
    "start_time": "2022-01-23T09:58:13.371Z"
   },
   {
    "duration": 9,
    "start_time": "2022-01-23T09:58:13.396Z"
   },
   {
    "duration": 39,
    "start_time": "2022-01-23T09:58:13.406Z"
   },
   {
    "duration": 86,
    "start_time": "2022-01-23T09:58:13.447Z"
   },
   {
    "duration": 16,
    "start_time": "2022-01-23T09:58:13.535Z"
   },
   {
    "duration": 16,
    "start_time": "2022-01-23T10:03:21.590Z"
   },
   {
    "duration": 8,
    "start_time": "2022-01-23T10:04:24.725Z"
   },
   {
    "duration": 53,
    "start_time": "2022-01-23T10:10:24.987Z"
   },
   {
    "duration": 10,
    "start_time": "2022-01-23T10:10:26.362Z"
   },
   {
    "duration": 64,
    "start_time": "2022-01-23T10:11:12.419Z"
   },
   {
    "duration": 10,
    "start_time": "2022-01-23T10:11:13.717Z"
   },
   {
    "duration": 110,
    "start_time": "2022-01-23T10:21:34.420Z"
   },
   {
    "duration": 13,
    "start_time": "2022-01-23T10:21:35.631Z"
   },
   {
    "duration": 19,
    "start_time": "2022-01-23T10:34:21.670Z"
   },
   {
    "duration": 15,
    "start_time": "2022-01-23T10:34:22.853Z"
   },
   {
    "duration": 61,
    "start_time": "2022-01-23T10:34:35.881Z"
   },
   {
    "duration": 10,
    "start_time": "2022-01-23T10:34:36.976Z"
   },
   {
    "duration": 18,
    "start_time": "2022-01-23T10:35:19.153Z"
   },
   {
    "duration": 7,
    "start_time": "2022-01-23T10:49:52.480Z"
   },
   {
    "duration": 9,
    "start_time": "2022-01-23T10:49:55.913Z"
   },
   {
    "duration": 13,
    "start_time": "2022-01-23T10:51:05.277Z"
   },
   {
    "duration": 7,
    "start_time": "2022-01-23T10:54:34.097Z"
   },
   {
    "duration": 16,
    "start_time": "2022-01-23T10:55:33.992Z"
   },
   {
    "duration": 14,
    "start_time": "2022-01-23T10:55:35.208Z"
   },
   {
    "duration": 8,
    "start_time": "2022-01-23T10:55:39.599Z"
   },
   {
    "duration": 1515,
    "start_time": "2022-01-23T16:10:44.064Z"
   },
   {
    "duration": 12,
    "start_time": "2022-01-23T16:10:45.581Z"
   },
   {
    "duration": 36,
    "start_time": "2022-01-23T16:10:45.596Z"
   },
   {
    "duration": 9,
    "start_time": "2022-01-23T16:10:45.635Z"
   },
   {
    "duration": 21,
    "start_time": "2022-01-23T16:10:45.646Z"
   },
   {
    "duration": 15,
    "start_time": "2022-01-23T16:10:45.669Z"
   },
   {
    "duration": 34,
    "start_time": "2022-01-23T16:10:45.685Z"
   },
   {
    "duration": 38,
    "start_time": "2022-01-23T16:10:45.722Z"
   },
   {
    "duration": 40,
    "start_time": "2022-01-23T16:10:45.761Z"
   },
   {
    "duration": 15,
    "start_time": "2022-01-23T16:10:45.803Z"
   },
   {
    "duration": 6,
    "start_time": "2022-01-23T16:50:21.127Z"
   },
   {
    "duration": 474,
    "start_time": "2022-01-23T16:58:26.674Z"
   },
   {
    "duration": 10,
    "start_time": "2022-01-23T16:58:27.150Z"
   },
   {
    "duration": 55,
    "start_time": "2022-01-23T16:58:27.162Z"
   },
   {
    "duration": 12,
    "start_time": "2022-01-23T16:58:27.219Z"
   },
   {
    "duration": 30,
    "start_time": "2022-01-23T16:58:27.233Z"
   },
   {
    "duration": 14,
    "start_time": "2022-01-23T16:58:27.265Z"
   },
   {
    "duration": 23,
    "start_time": "2022-01-23T16:58:27.281Z"
   },
   {
    "duration": 26,
    "start_time": "2022-01-23T16:58:27.306Z"
   },
   {
    "duration": 22,
    "start_time": "2022-01-23T16:58:27.335Z"
   },
   {
    "duration": 27,
    "start_time": "2022-01-23T16:58:27.360Z"
   },
   {
    "duration": 36,
    "start_time": "2022-01-23T16:58:27.389Z"
   },
   {
    "duration": 110,
    "start_time": "2022-01-23T16:58:27.428Z"
   },
   {
    "duration": 9,
    "start_time": "2022-01-23T16:58:27.540Z"
   },
   {
    "duration": 55,
    "start_time": "2022-01-23T16:58:27.550Z"
   },
   {
    "duration": 12,
    "start_time": "2022-01-23T16:58:27.606Z"
   },
   {
    "duration": 33,
    "start_time": "2022-01-23T16:58:27.620Z"
   },
   {
    "duration": 83,
    "start_time": "2022-01-23T16:58:27.655Z"
   },
   {
    "duration": 9,
    "start_time": "2022-01-23T16:58:27.740Z"
   },
   {
    "duration": 36,
    "start_time": "2022-01-23T16:58:27.751Z"
   },
   {
    "duration": 36,
    "start_time": "2022-01-23T16:58:27.789Z"
   },
   {
    "duration": 26,
    "start_time": "2022-01-23T16:58:27.827Z"
   },
   {
    "duration": 11,
    "start_time": "2022-01-23T16:58:27.855Z"
   },
   {
    "duration": 43,
    "start_time": "2022-01-23T16:58:27.868Z"
   },
   {
    "duration": 35,
    "start_time": "2022-01-23T17:05:07.369Z"
   },
   {
    "duration": 61,
    "start_time": "2022-01-23T17:06:21.960Z"
   },
   {
    "duration": 60,
    "start_time": "2022-01-23T17:07:48.627Z"
   },
   {
    "duration": 23,
    "start_time": "2022-01-23T17:18:08.035Z"
   },
   {
    "duration": 72,
    "start_time": "2022-01-23T17:18:09.647Z"
   },
   {
    "duration": 18,
    "start_time": "2022-01-23T18:27:09.761Z"
   },
   {
    "duration": 48,
    "start_time": "2022-01-23T18:27:11.291Z"
   },
   {
    "duration": 38,
    "start_time": "2022-01-23T18:49:38.749Z"
   },
   {
    "duration": 60,
    "start_time": "2022-01-23T18:49:51.468Z"
   },
   {
    "duration": 72,
    "start_time": "2022-01-23T18:50:40.637Z"
   },
   {
    "duration": 45,
    "start_time": "2022-01-23T18:51:18.171Z"
   },
   {
    "duration": 25,
    "start_time": "2022-01-23T18:56:24.741Z"
   },
   {
    "duration": 14,
    "start_time": "2022-01-23T18:57:18.130Z"
   },
   {
    "duration": 13,
    "start_time": "2022-01-23T18:57:39.839Z"
   },
   {
    "duration": 25,
    "start_time": "2022-01-23T18:58:34.472Z"
   },
   {
    "duration": 323,
    "start_time": "2022-01-23T18:58:37.148Z"
   },
   {
    "duration": 11,
    "start_time": "2022-01-23T19:05:24.101Z"
   },
   {
    "duration": 14,
    "start_time": "2022-01-23T19:05:29.078Z"
   },
   {
    "duration": 11,
    "start_time": "2022-01-23T19:07:14.487Z"
   },
   {
    "duration": 9,
    "start_time": "2022-01-23T19:07:30.909Z"
   },
   {
    "duration": 13,
    "start_time": "2022-01-23T19:07:52.726Z"
   },
   {
    "duration": 11,
    "start_time": "2022-01-23T19:08:02.510Z"
   },
   {
    "duration": 1377,
    "start_time": "2022-01-24T13:45:33.882Z"
   },
   {
    "duration": 10,
    "start_time": "2022-01-24T13:45:35.261Z"
   },
   {
    "duration": 20,
    "start_time": "2022-01-24T13:45:35.273Z"
   },
   {
    "duration": 7,
    "start_time": "2022-01-24T13:45:35.295Z"
   },
   {
    "duration": 16,
    "start_time": "2022-01-24T13:45:35.304Z"
   },
   {
    "duration": 6,
    "start_time": "2022-01-24T13:45:35.322Z"
   },
   {
    "duration": 18,
    "start_time": "2022-01-24T13:45:35.329Z"
   },
   {
    "duration": 9,
    "start_time": "2022-01-24T13:45:35.348Z"
   },
   {
    "duration": 7,
    "start_time": "2022-01-24T13:45:35.360Z"
   },
   {
    "duration": 8,
    "start_time": "2022-01-24T13:45:35.368Z"
   },
   {
    "duration": 47,
    "start_time": "2022-01-24T13:45:35.378Z"
   },
   {
    "duration": 99,
    "start_time": "2022-01-24T13:45:35.426Z"
   },
   {
    "duration": 8,
    "start_time": "2022-01-24T13:45:35.527Z"
   },
   {
    "duration": 17,
    "start_time": "2022-01-24T13:45:35.536Z"
   },
   {
    "duration": 5,
    "start_time": "2022-01-24T13:45:35.555Z"
   },
   {
    "duration": 26,
    "start_time": "2022-01-24T13:45:35.562Z"
   },
   {
    "duration": 79,
    "start_time": "2022-01-24T13:45:35.590Z"
   },
   {
    "duration": 7,
    "start_time": "2022-01-24T13:45:35.671Z"
   },
   {
    "duration": 16,
    "start_time": "2022-01-24T13:45:35.680Z"
   },
   {
    "duration": 16,
    "start_time": "2022-01-24T13:45:35.712Z"
   },
   {
    "duration": 10,
    "start_time": "2022-01-24T13:45:35.729Z"
   },
   {
    "duration": 7,
    "start_time": "2022-01-24T13:45:35.740Z"
   },
   {
    "duration": 13,
    "start_time": "2022-01-24T13:45:35.749Z"
   },
   {
    "duration": 37,
    "start_time": "2022-01-24T13:45:35.764Z"
   },
   {
    "duration": 71,
    "start_time": "2022-01-24T13:45:35.803Z"
   },
   {
    "duration": 17,
    "start_time": "2022-01-24T13:45:35.875Z"
   },
   {
    "duration": 46,
    "start_time": "2022-01-24T13:45:35.895Z"
   },
   {
    "duration": 9,
    "start_time": "2022-01-24T13:45:35.942Z"
   },
   {
    "duration": 13,
    "start_time": "2022-01-24T13:45:35.952Z"
   },
   {
    "duration": 298,
    "start_time": "2022-01-24T13:59:27.553Z"
   },
   {
    "duration": 55,
    "start_time": "2022-01-24T14:01:01.629Z"
   },
   {
    "duration": 52,
    "start_time": "2022-01-24T14:01:39.323Z"
   },
   {
    "duration": 52,
    "start_time": "2022-01-24T14:03:24.922Z"
   },
   {
    "duration": 12,
    "start_time": "2022-01-24T14:04:00.953Z"
   },
   {
    "duration": 7,
    "start_time": "2022-01-24T14:04:37.645Z"
   },
   {
    "duration": 10,
    "start_time": "2022-01-24T14:04:39.162Z"
   },
   {
    "duration": 9,
    "start_time": "2022-01-24T14:05:32.316Z"
   },
   {
    "duration": 15,
    "start_time": "2022-01-24T14:09:06.449Z"
   },
   {
    "duration": 32,
    "start_time": "2022-01-24T14:09:07.800Z"
   },
   {
    "duration": 7,
    "start_time": "2022-01-24T14:12:23.104Z"
   },
   {
    "duration": 12,
    "start_time": "2022-01-24T14:12:27.630Z"
   },
   {
    "duration": 10,
    "start_time": "2022-01-24T14:12:47.952Z"
   },
   {
    "duration": 31,
    "start_time": "2022-01-24T14:16:53.892Z"
   },
   {
    "duration": 7,
    "start_time": "2022-01-24T14:17:00.662Z"
   },
   {
    "duration": 10,
    "start_time": "2022-01-24T14:17:04.342Z"
   },
   {
    "duration": 4,
    "start_time": "2022-01-24T14:18:47.164Z"
   },
   {
    "duration": 6,
    "start_time": "2022-01-24T14:19:29.233Z"
   },
   {
    "duration": 5,
    "start_time": "2022-01-24T14:19:52.764Z"
   },
   {
    "duration": 5,
    "start_time": "2022-01-24T14:21:28.707Z"
   },
   {
    "duration": 5,
    "start_time": "2022-01-24T14:22:24.191Z"
   },
   {
    "duration": 11,
    "start_time": "2022-01-24T14:24:03.356Z"
   },
   {
    "duration": 6,
    "start_time": "2022-01-24T14:28:28.722Z"
   },
   {
    "duration": 4,
    "start_time": "2022-01-24T14:29:09.170Z"
   },
   {
    "duration": 10,
    "start_time": "2022-01-24T14:29:30.033Z"
   },
   {
    "duration": 6,
    "start_time": "2022-01-24T14:30:42.071Z"
   },
   {
    "duration": 7,
    "start_time": "2022-01-24T14:31:39.070Z"
   },
   {
    "duration": 7,
    "start_time": "2022-01-24T14:33:03.199Z"
   },
   {
    "duration": 8,
    "start_time": "2022-01-24T14:34:13.071Z"
   },
   {
    "duration": 7,
    "start_time": "2022-01-24T14:38:50.197Z"
   },
   {
    "duration": 7,
    "start_time": "2022-01-24T14:38:51.677Z"
   },
   {
    "duration": 13,
    "start_time": "2022-01-24T14:38:53.493Z"
   },
   {
    "duration": 10,
    "start_time": "2022-01-24T14:43:16.481Z"
   },
   {
    "duration": 10,
    "start_time": "2022-01-24T14:43:28.267Z"
   },
   {
    "duration": 11,
    "start_time": "2022-01-24T15:03:17.288Z"
   },
   {
    "duration": 11,
    "start_time": "2022-01-24T15:03:32.745Z"
   },
   {
    "duration": 7,
    "start_time": "2022-01-24T16:24:12.370Z"
   },
   {
    "duration": 13,
    "start_time": "2022-01-24T16:28:59.879Z"
   },
   {
    "duration": 6,
    "start_time": "2022-01-24T16:29:59.130Z"
   },
   {
    "duration": 3,
    "start_time": "2022-01-24T16:34:28.767Z"
   },
   {
    "duration": 7,
    "start_time": "2022-01-24T16:34:30.731Z"
   },
   {
    "duration": 13,
    "start_time": "2022-01-24T16:35:27.035Z"
   },
   {
    "duration": 16,
    "start_time": "2022-01-24T16:36:34.267Z"
   },
   {
    "duration": 13,
    "start_time": "2022-01-24T16:42:44.692Z"
   },
   {
    "duration": 14,
    "start_time": "2022-01-24T16:44:06.284Z"
   },
   {
    "duration": 1302,
    "start_time": "2022-01-24T17:35:45.271Z"
   },
   {
    "duration": 11,
    "start_time": "2022-01-24T17:41:09.233Z"
   },
   {
    "duration": 195,
    "start_time": "2022-01-24T17:43:48.374Z"
   },
   {
    "duration": 3,
    "start_time": "2022-01-24T17:44:05.005Z"
   },
   {
    "duration": 20,
    "start_time": "2022-01-24T17:44:08.007Z"
   },
   {
    "duration": 13,
    "start_time": "2022-01-24T17:44:12.983Z"
   },
   {
    "duration": 199,
    "start_time": "2022-01-24T17:48:35.573Z"
   },
   {
    "duration": 6,
    "start_time": "2022-01-24T17:48:42.941Z"
   },
   {
    "duration": 7,
    "start_time": "2022-01-24T17:48:46.197Z"
   },
   {
    "duration": 1171,
    "start_time": "2022-01-24T18:00:00.718Z"
   },
   {
    "duration": 7,
    "start_time": "2022-01-24T18:00:32.001Z"
   },
   {
    "duration": 23,
    "start_time": "2022-01-24T18:03:32.192Z"
   },
   {
    "duration": 11,
    "start_time": "2022-01-24T18:12:07.620Z"
   },
   {
    "duration": 9,
    "start_time": "2022-01-24T18:15:54.768Z"
   },
   {
    "duration": 405,
    "start_time": "2022-01-24T18:22:34.616Z"
   },
   {
    "duration": 8,
    "start_time": "2022-01-24T18:22:35.023Z"
   },
   {
    "duration": 24,
    "start_time": "2022-01-24T18:22:35.033Z"
   },
   {
    "duration": 8,
    "start_time": "2022-01-24T18:22:35.059Z"
   },
   {
    "duration": 19,
    "start_time": "2022-01-24T18:22:35.068Z"
   },
   {
    "duration": 7,
    "start_time": "2022-01-24T18:22:35.112Z"
   },
   {
    "duration": 15,
    "start_time": "2022-01-24T18:22:35.121Z"
   },
   {
    "duration": 10,
    "start_time": "2022-01-24T18:22:35.139Z"
   },
   {
    "duration": 7,
    "start_time": "2022-01-24T18:22:35.151Z"
   },
   {
    "duration": 10,
    "start_time": "2022-01-24T18:22:35.159Z"
   },
   {
    "duration": 61,
    "start_time": "2022-01-24T18:22:35.171Z"
   },
   {
    "duration": 95,
    "start_time": "2022-01-24T18:22:35.233Z"
   },
   {
    "duration": 9,
    "start_time": "2022-01-24T18:22:35.329Z"
   },
   {
    "duration": 17,
    "start_time": "2022-01-24T18:22:35.339Z"
   },
   {
    "duration": 6,
    "start_time": "2022-01-24T18:22:35.358Z"
   },
   {
    "duration": 21,
    "start_time": "2022-01-24T18:22:35.365Z"
   },
   {
    "duration": 86,
    "start_time": "2022-01-24T18:22:35.387Z"
   },
   {
    "duration": 8,
    "start_time": "2022-01-24T18:22:35.475Z"
   },
   {
    "duration": 35,
    "start_time": "2022-01-24T18:22:35.485Z"
   },
   {
    "duration": 17,
    "start_time": "2022-01-24T18:22:35.521Z"
   },
   {
    "duration": 11,
    "start_time": "2022-01-24T18:22:35.539Z"
   },
   {
    "duration": 6,
    "start_time": "2022-01-24T18:22:35.551Z"
   },
   {
    "duration": 7,
    "start_time": "2022-01-24T18:22:35.560Z"
   },
   {
    "duration": 48,
    "start_time": "2022-01-24T18:22:35.569Z"
   },
   {
    "duration": 50,
    "start_time": "2022-01-24T18:22:35.618Z"
   },
   {
    "duration": 18,
    "start_time": "2022-01-24T18:22:35.669Z"
   },
   {
    "duration": 45,
    "start_time": "2022-01-24T18:22:35.689Z"
   },
   {
    "duration": 14,
    "start_time": "2022-01-24T18:22:35.736Z"
   },
   {
    "duration": 30,
    "start_time": "2022-01-24T18:22:35.751Z"
   },
   {
    "duration": 34,
    "start_time": "2022-01-24T18:22:35.783Z"
   },
   {
    "duration": 6,
    "start_time": "2022-01-24T18:22:35.819Z"
   },
   {
    "duration": 12,
    "start_time": "2022-01-24T18:22:35.827Z"
   },
   {
    "duration": 16,
    "start_time": "2022-01-24T18:22:35.841Z"
   },
   {
    "duration": 14,
    "start_time": "2022-01-24T18:22:35.859Z"
   },
   {
    "duration": 39,
    "start_time": "2022-01-24T18:22:35.874Z"
   },
   {
    "duration": 9,
    "start_time": "2022-01-24T18:22:35.915Z"
   },
   {
    "duration": 6,
    "start_time": "2022-01-24T18:22:35.926Z"
   },
   {
    "duration": 8,
    "start_time": "2022-01-24T18:22:35.934Z"
   },
   {
    "duration": 13,
    "start_time": "2022-01-24T18:22:35.944Z"
   },
   {
    "duration": 64,
    "start_time": "2022-01-24T18:22:35.959Z"
   },
   {
    "duration": 4,
    "start_time": "2022-01-24T18:24:53.654Z"
   },
   {
    "duration": 185,
    "start_time": "2022-01-24T18:24:57.934Z"
   },
   {
    "duration": 22,
    "start_time": "2022-01-24T18:25:01.190Z"
   },
   {
    "duration": 7,
    "start_time": "2022-01-24T18:29:51.853Z"
   },
   {
    "duration": 16,
    "start_time": "2022-01-24T18:31:31.995Z"
   },
   {
    "duration": 15,
    "start_time": "2022-01-24T18:31:59.411Z"
   },
   {
    "duration": 15,
    "start_time": "2022-01-24T18:32:12.932Z"
   },
   {
    "duration": 16,
    "start_time": "2022-01-24T18:37:04.515Z"
   },
   {
    "duration": 1905,
    "start_time": "2022-01-24T18:51:05.197Z"
   },
   {
    "duration": 6,
    "start_time": "2022-01-24T18:51:28.022Z"
   },
   {
    "duration": 206,
    "start_time": "2022-01-24T19:18:58.794Z"
   },
   {
    "duration": 19,
    "start_time": "2022-01-24T19:19:51.250Z"
   },
   {
    "duration": 13,
    "start_time": "2022-01-24T19:26:00.961Z"
   },
   {
    "duration": 16,
    "start_time": "2022-01-24T19:26:17.032Z"
   },
   {
    "duration": 219,
    "start_time": "2022-01-24T19:32:55.456Z"
   },
   {
    "duration": 391,
    "start_time": "2022-01-24T19:39:44.165Z"
   },
   {
    "duration": 537,
    "start_time": "2022-01-24T19:45:42.105Z"
   },
   {
    "duration": 384,
    "start_time": "2022-01-24T19:46:09.069Z"
   },
   {
    "duration": 10,
    "start_time": "2022-01-24T19:49:12.617Z"
   },
   {
    "duration": 569,
    "start_time": "2022-01-24T19:49:52.904Z"
   },
   {
    "duration": 627,
    "start_time": "2022-01-24T19:50:15.843Z"
   },
   {
    "duration": 547,
    "start_time": "2022-01-24T19:51:02.393Z"
   },
   {
    "duration": 477,
    "start_time": "2022-01-24T20:04:15.883Z"
   },
   {
    "duration": 12,
    "start_time": "2022-01-24T20:05:33.915Z"
   },
   {
    "duration": 480,
    "start_time": "2022-01-24T20:05:36.500Z"
   },
   {
    "duration": 18,
    "start_time": "2022-01-24T20:05:49.522Z"
   },
   {
    "duration": 459,
    "start_time": "2022-01-24T20:08:23.585Z"
   },
   {
    "duration": 228,
    "start_time": "2022-01-24T20:09:59.415Z"
   },
   {
    "duration": 209,
    "start_time": "2022-01-24T20:10:26.200Z"
   },
   {
    "duration": 12,
    "start_time": "2022-01-24T20:10:54.778Z"
   },
   {
    "duration": 437,
    "start_time": "2022-01-24T20:11:03.009Z"
   },
   {
    "duration": 487,
    "start_time": "2022-01-24T20:12:21.697Z"
   },
   {
    "duration": 462,
    "start_time": "2022-01-24T20:15:23.903Z"
   },
   {
    "duration": 476,
    "start_time": "2022-01-24T20:25:30.331Z"
   },
   {
    "duration": 602,
    "start_time": "2022-01-24T20:29:56.521Z"
   },
   {
    "duration": 590,
    "start_time": "2022-01-24T20:31:49.490Z"
   },
   {
    "duration": 411,
    "start_time": "2022-01-24T20:32:11.001Z"
   },
   {
    "duration": 21,
    "start_time": "2022-01-24T20:40:35.109Z"
   },
   {
    "duration": 1329,
    "start_time": "2022-01-24T20:43:00.231Z"
   },
   {
    "duration": 1384,
    "start_time": "2022-01-25T17:25:53.958Z"
   },
   {
    "duration": 10,
    "start_time": "2022-01-25T17:25:55.344Z"
   },
   {
    "duration": 20,
    "start_time": "2022-01-25T17:25:55.356Z"
   },
   {
    "duration": 8,
    "start_time": "2022-01-25T17:25:55.378Z"
   },
   {
    "duration": 16,
    "start_time": "2022-01-25T17:25:55.387Z"
   },
   {
    "duration": 6,
    "start_time": "2022-01-25T17:25:55.404Z"
   },
   {
    "duration": 13,
    "start_time": "2022-01-25T17:25:55.412Z"
   },
   {
    "duration": 8,
    "start_time": "2022-01-25T17:25:55.427Z"
   },
   {
    "duration": 35,
    "start_time": "2022-01-25T17:25:55.437Z"
   },
   {
    "duration": 6,
    "start_time": "2022-01-25T17:25:55.474Z"
   },
   {
    "duration": 35,
    "start_time": "2022-01-25T17:25:55.482Z"
   },
   {
    "duration": 113,
    "start_time": "2022-01-25T17:25:55.518Z"
   },
   {
    "duration": 8,
    "start_time": "2022-01-25T17:25:55.632Z"
   },
   {
    "duration": 31,
    "start_time": "2022-01-25T17:25:55.641Z"
   },
   {
    "duration": 6,
    "start_time": "2022-01-25T17:25:55.674Z"
   },
   {
    "duration": 26,
    "start_time": "2022-01-25T17:25:55.681Z"
   },
   {
    "duration": 79,
    "start_time": "2022-01-25T17:25:55.709Z"
   },
   {
    "duration": 8,
    "start_time": "2022-01-25T17:25:55.789Z"
   },
   {
    "duration": 13,
    "start_time": "2022-01-25T17:25:55.799Z"
   },
   {
    "duration": 17,
    "start_time": "2022-01-25T17:25:55.814Z"
   },
   {
    "duration": 10,
    "start_time": "2022-01-25T17:25:55.833Z"
   },
   {
    "duration": 29,
    "start_time": "2022-01-25T17:25:55.845Z"
   },
   {
    "duration": 7,
    "start_time": "2022-01-25T17:25:55.877Z"
   },
   {
    "duration": 22,
    "start_time": "2022-01-25T17:25:55.886Z"
   },
   {
    "duration": 84,
    "start_time": "2022-01-25T17:25:55.910Z"
   },
   {
    "duration": 16,
    "start_time": "2022-01-25T17:25:55.996Z"
   },
   {
    "duration": 33,
    "start_time": "2022-01-25T17:25:56.014Z"
   },
   {
    "duration": 31,
    "start_time": "2022-01-25T17:25:56.048Z"
   },
   {
    "duration": 31,
    "start_time": "2022-01-25T17:25:56.081Z"
   },
   {
    "duration": 8,
    "start_time": "2022-01-25T17:25:56.114Z"
   },
   {
    "duration": 7,
    "start_time": "2022-01-25T17:25:56.123Z"
   },
   {
    "duration": 12,
    "start_time": "2022-01-25T17:25:56.131Z"
   },
   {
    "duration": 17,
    "start_time": "2022-01-25T17:25:56.171Z"
   },
   {
    "duration": 13,
    "start_time": "2022-01-25T17:25:56.190Z"
   },
   {
    "duration": 4,
    "start_time": "2022-01-25T17:25:56.204Z"
   },
   {
    "duration": 8,
    "start_time": "2022-01-25T17:25:56.210Z"
   },
   {
    "duration": 9,
    "start_time": "2022-01-25T17:25:56.219Z"
   },
   {
    "duration": 10,
    "start_time": "2022-01-25T17:25:56.229Z"
   },
   {
    "duration": 39,
    "start_time": "2022-01-25T17:25:56.241Z"
   },
   {
    "duration": 24,
    "start_time": "2022-01-25T17:25:56.281Z"
   },
   {
    "duration": 4,
    "start_time": "2022-01-25T17:25:56.307Z"
   },
   {
    "duration": 215,
    "start_time": "2022-01-25T17:25:56.313Z"
   },
   {
    "duration": 21,
    "start_time": "2022-01-25T17:25:56.530Z"
   },
   {
    "duration": 32,
    "start_time": "2022-01-25T17:25:56.553Z"
   },
   {
    "duration": 40,
    "start_time": "2022-01-25T17:25:56.586Z"
   },
   {
    "duration": 77,
    "start_time": "2022-01-25T17:25:56.628Z"
   },
   {
    "duration": 21,
    "start_time": "2022-01-25T17:26:01.394Z"
   },
   {
    "duration": 1022,
    "start_time": "2022-01-25T17:28:51.504Z"
   },
   {
    "duration": 20,
    "start_time": "2022-01-25T17:29:51.571Z"
   },
   {
    "duration": 18,
    "start_time": "2022-01-25T17:31:04.552Z"
   },
   {
    "duration": 7638,
    "start_time": "2022-01-25T17:33:00.977Z"
   },
   {
    "duration": 1142,
    "start_time": "2022-01-25T17:35:55.271Z"
   },
   {
    "duration": 17,
    "start_time": "2022-01-25T17:36:22.232Z"
   },
   {
    "duration": 4,
    "start_time": "2022-01-25T17:37:38.735Z"
   },
   {
    "duration": 5,
    "start_time": "2022-01-25T17:38:31.369Z"
   },
   {
    "duration": 5,
    "start_time": "2022-01-25T17:38:51.533Z"
   },
   {
    "duration": 4,
    "start_time": "2022-01-25T17:41:52.862Z"
   },
   {
    "duration": 4,
    "start_time": "2022-01-25T17:42:02.917Z"
   },
   {
    "duration": 2067,
    "start_time": "2022-01-25T17:49:12.362Z"
   },
   {
    "duration": 8205,
    "start_time": "2022-01-25T17:50:08.301Z"
   },
   {
    "duration": 16,
    "start_time": "2022-01-25T17:51:15.290Z"
   },
   {
    "duration": 29,
    "start_time": "2022-01-25T17:54:14.096Z"
   },
   {
    "duration": 5,
    "start_time": "2022-01-25T18:02:07.170Z"
   },
   {
    "duration": 5,
    "start_time": "2022-01-25T18:03:05.028Z"
   },
   {
    "duration": 6,
    "start_time": "2022-01-25T18:06:20.204Z"
   },
   {
    "duration": 6,
    "start_time": "2022-01-25T18:07:42.014Z"
   },
   {
    "duration": 7,
    "start_time": "2022-01-25T18:08:56.090Z"
   },
   {
    "duration": 1645,
    "start_time": "2022-01-25T18:13:48.407Z"
   },
   {
    "duration": 6,
    "start_time": "2022-01-25T18:49:10.911Z"
   },
   {
    "duration": 4,
    "start_time": "2022-01-25T18:50:09.096Z"
   },
   {
    "duration": 4,
    "start_time": "2022-01-25T18:50:19.613Z"
   },
   {
    "duration": 5,
    "start_time": "2022-01-25T18:50:29.406Z"
   },
   {
    "duration": 4,
    "start_time": "2022-01-25T18:50:55.554Z"
   },
   {
    "duration": 31,
    "start_time": "2022-01-25T18:54:54.504Z"
   },
   {
    "duration": 13,
    "start_time": "2022-01-25T19:00:31.348Z"
   },
   {
    "duration": 14,
    "start_time": "2022-01-25T19:02:37.038Z"
   },
   {
    "duration": 76,
    "start_time": "2022-01-25T19:05:47.344Z"
   },
   {
    "duration": 7,
    "start_time": "2022-01-25T19:21:42.884Z"
   },
   {
    "duration": 11,
    "start_time": "2022-01-25T19:40:33.471Z"
   },
   {
    "duration": 11,
    "start_time": "2022-01-25T19:42:19.197Z"
   },
   {
    "duration": 9,
    "start_time": "2022-01-25T19:55:44.970Z"
   },
   {
    "duration": 4,
    "start_time": "2022-01-25T19:57:52.550Z"
   },
   {
    "duration": 4165,
    "start_time": "2022-01-25T19:57:54.649Z"
   },
   {
    "duration": 296,
    "start_time": "2022-01-25T19:58:56.785Z"
   },
   {
    "duration": 4,
    "start_time": "2022-01-25T19:59:47.545Z"
   },
   {
    "duration": 1901,
    "start_time": "2022-01-26T13:45:33.325Z"
   },
   {
    "duration": 18,
    "start_time": "2022-01-26T13:45:35.228Z"
   },
   {
    "duration": 26,
    "start_time": "2022-01-26T13:45:35.249Z"
   },
   {
    "duration": 10,
    "start_time": "2022-01-26T13:45:35.278Z"
   },
   {
    "duration": 24,
    "start_time": "2022-01-26T13:45:35.291Z"
   },
   {
    "duration": 39,
    "start_time": "2022-01-26T13:45:35.318Z"
   },
   {
    "duration": 32,
    "start_time": "2022-01-26T13:45:35.360Z"
   },
   {
    "duration": 18,
    "start_time": "2022-01-26T13:45:35.396Z"
   },
   {
    "duration": 33,
    "start_time": "2022-01-26T13:45:35.417Z"
   },
   {
    "duration": 12,
    "start_time": "2022-01-26T13:45:35.452Z"
   },
   {
    "duration": 54,
    "start_time": "2022-01-26T13:45:35.467Z"
   },
   {
    "duration": 153,
    "start_time": "2022-01-26T13:45:35.525Z"
   },
   {
    "duration": 12,
    "start_time": "2022-01-26T13:45:35.681Z"
   },
   {
    "duration": 33,
    "start_time": "2022-01-26T13:45:35.696Z"
   },
   {
    "duration": 21,
    "start_time": "2022-01-26T13:45:35.732Z"
   },
   {
    "duration": 38,
    "start_time": "2022-01-26T13:45:35.756Z"
   },
   {
    "duration": 118,
    "start_time": "2022-01-26T13:45:35.797Z"
   },
   {
    "duration": 12,
    "start_time": "2022-01-26T13:45:35.917Z"
   },
   {
    "duration": 28,
    "start_time": "2022-01-26T13:45:35.932Z"
   },
   {
    "duration": 23,
    "start_time": "2022-01-26T13:45:35.963Z"
   },
   {
    "duration": 15,
    "start_time": "2022-01-26T13:45:35.989Z"
   },
   {
    "duration": 8,
    "start_time": "2022-01-26T13:45:36.006Z"
   },
   {
    "duration": 11,
    "start_time": "2022-01-26T13:45:36.051Z"
   },
   {
    "duration": 33,
    "start_time": "2022-01-26T13:45:36.065Z"
   },
   {
    "duration": 108,
    "start_time": "2022-01-26T13:45:36.100Z"
   },
   {
    "duration": 24,
    "start_time": "2022-01-26T13:45:36.211Z"
   },
   {
    "duration": 42,
    "start_time": "2022-01-26T13:45:36.249Z"
   },
   {
    "duration": 20,
    "start_time": "2022-01-26T13:45:36.294Z"
   },
   {
    "duration": 68,
    "start_time": "2022-01-26T13:45:36.316Z"
   },
   {
    "duration": 12,
    "start_time": "2022-01-26T13:45:36.386Z"
   },
   {
    "duration": 16,
    "start_time": "2022-01-26T13:45:36.400Z"
   },
   {
    "duration": 35,
    "start_time": "2022-01-26T13:45:36.418Z"
   },
   {
    "duration": 24,
    "start_time": "2022-01-26T13:45:36.456Z"
   },
   {
    "duration": 29,
    "start_time": "2022-01-26T13:45:36.482Z"
   },
   {
    "duration": 5,
    "start_time": "2022-01-26T13:45:36.513Z"
   },
   {
    "duration": 11,
    "start_time": "2022-01-26T13:45:36.548Z"
   },
   {
    "duration": 9,
    "start_time": "2022-01-26T13:45:36.561Z"
   },
   {
    "duration": 10,
    "start_time": "2022-01-26T13:45:36.573Z"
   },
   {
    "duration": 29,
    "start_time": "2022-01-26T13:45:36.586Z"
   },
   {
    "duration": 65,
    "start_time": "2022-01-26T13:45:36.617Z"
   },
   {
    "duration": 6,
    "start_time": "2022-01-26T13:45:36.684Z"
   },
   {
    "duration": 341,
    "start_time": "2022-01-26T13:45:36.692Z"
   },
   {
    "duration": 22,
    "start_time": "2022-01-26T13:45:37.038Z"
   },
   {
    "duration": 41,
    "start_time": "2022-01-26T13:45:37.064Z"
   },
   {
    "duration": 51,
    "start_time": "2022-01-26T13:45:37.108Z"
   },
   {
    "duration": 21,
    "start_time": "2022-01-26T13:45:37.161Z"
   },
   {
    "duration": 25,
    "start_time": "2022-01-26T13:45:37.185Z"
   },
   {
    "duration": 40,
    "start_time": "2022-01-26T13:45:37.213Z"
   },
   {
    "duration": 13,
    "start_time": "2022-01-26T13:45:37.256Z"
   },
   {
    "duration": 2139,
    "start_time": "2022-01-26T13:45:37.272Z"
   },
   {
    "duration": 10,
    "start_time": "2022-01-26T13:45:39.415Z"
   },
   {
    "duration": 30,
    "start_time": "2022-01-26T13:45:39.428Z"
   },
   {
    "duration": 15,
    "start_time": "2022-01-26T13:45:47.090Z"
   },
   {
    "duration": 15,
    "start_time": "2022-01-26T13:49:37.055Z"
   },
   {
    "duration": 6,
    "start_time": "2022-01-26T13:52:14.583Z"
   },
   {
    "duration": 6,
    "start_time": "2022-01-26T13:52:18.373Z"
   },
   {
    "duration": 21,
    "start_time": "2022-01-26T13:52:23.317Z"
   },
   {
    "duration": 10,
    "start_time": "2022-01-26T13:53:40.085Z"
   },
   {
    "duration": 13,
    "start_time": "2022-01-26T13:56:02.541Z"
   },
   {
    "duration": 8,
    "start_time": "2022-01-26T13:57:01.671Z"
   },
   {
    "duration": 7,
    "start_time": "2022-01-26T13:57:20.564Z"
   },
   {
    "duration": 8,
    "start_time": "2022-01-26T13:57:48.828Z"
   },
   {
    "duration": 7,
    "start_time": "2022-01-26T13:58:22.371Z"
   },
   {
    "duration": 10,
    "start_time": "2022-01-26T14:02:06.803Z"
   },
   {
    "duration": 10,
    "start_time": "2022-01-26T14:02:47.518Z"
   },
   {
    "duration": 11,
    "start_time": "2022-01-26T14:04:06.476Z"
   },
   {
    "duration": 18,
    "start_time": "2022-01-26T14:07:58.057Z"
   },
   {
    "duration": 22,
    "start_time": "2022-01-26T14:08:19.368Z"
   },
   {
    "duration": 17,
    "start_time": "2022-01-26T14:08:55.305Z"
   },
   {
    "duration": 16,
    "start_time": "2022-01-26T14:09:09.279Z"
   },
   {
    "duration": 418,
    "start_time": "2022-01-26T14:20:30.194Z"
   },
   {
    "duration": 8,
    "start_time": "2022-01-26T14:20:42.369Z"
   },
   {
    "duration": 8,
    "start_time": "2022-01-26T14:20:47.146Z"
   },
   {
    "duration": 27,
    "start_time": "2022-01-26T15:29:52.229Z"
   },
   {
    "duration": 37,
    "start_time": "2022-01-26T15:30:00.117Z"
   },
   {
    "duration": 27,
    "start_time": "2022-01-26T15:30:48.357Z"
   },
   {
    "duration": 26,
    "start_time": "2022-01-26T15:32:42.924Z"
   },
   {
    "duration": 11,
    "start_time": "2022-01-26T15:53:29.478Z"
   },
   {
    "duration": 24,
    "start_time": "2022-01-26T15:55:18.421Z"
   },
   {
    "duration": 1054,
    "start_time": "2022-01-26T16:02:02.867Z"
   },
   {
    "duration": 10,
    "start_time": "2022-01-26T16:20:14.604Z"
   },
   {
    "duration": 412,
    "start_time": "2022-01-26T17:28:09.834Z"
   },
   {
    "duration": 451,
    "start_time": "2022-01-26T17:29:00.473Z"
   },
   {
    "duration": 396,
    "start_time": "2022-01-26T17:29:53.953Z"
   },
   {
    "duration": 255,
    "start_time": "2022-01-26T17:31:04.312Z"
   },
   {
    "duration": 300,
    "start_time": "2022-01-26T17:31:16.143Z"
   },
   {
    "duration": 125,
    "start_time": "2022-01-26T17:40:13.965Z"
   },
   {
    "duration": 248,
    "start_time": "2022-01-26T17:43:31.930Z"
   },
   {
    "duration": 262,
    "start_time": "2022-01-26T17:45:18.650Z"
   },
   {
    "duration": 531,
    "start_time": "2022-01-26T17:49:26.921Z"
   },
   {
    "duration": 523,
    "start_time": "2022-01-26T17:50:17.729Z"
   },
   {
    "duration": 550,
    "start_time": "2022-01-26T17:50:28.329Z"
   },
   {
    "duration": 627,
    "start_time": "2022-01-26T17:52:58.298Z"
   },
   {
    "duration": 661,
    "start_time": "2022-01-26T17:54:01.303Z"
   },
   {
    "duration": 567,
    "start_time": "2022-01-26T17:54:13.287Z"
   },
   {
    "duration": 352,
    "start_time": "2022-01-26T17:54:36.343Z"
   },
   {
    "duration": 289,
    "start_time": "2022-01-26T17:55:32.862Z"
   },
   {
    "duration": 570,
    "start_time": "2022-01-26T19:42:15.724Z"
   },
   {
    "duration": 11,
    "start_time": "2022-01-26T19:42:16.296Z"
   },
   {
    "duration": 29,
    "start_time": "2022-01-26T19:42:16.310Z"
   },
   {
    "duration": 12,
    "start_time": "2022-01-26T19:42:16.342Z"
   },
   {
    "duration": 32,
    "start_time": "2022-01-26T19:42:16.356Z"
   },
   {
    "duration": 11,
    "start_time": "2022-01-26T19:42:16.390Z"
   },
   {
    "duration": 19,
    "start_time": "2022-01-26T19:42:16.404Z"
   },
   {
    "duration": 15,
    "start_time": "2022-01-26T19:42:16.450Z"
   },
   {
    "duration": 9,
    "start_time": "2022-01-26T19:42:16.468Z"
   },
   {
    "duration": 10,
    "start_time": "2022-01-26T19:42:16.480Z"
   },
   {
    "duration": 73,
    "start_time": "2022-01-26T19:42:16.493Z"
   },
   {
    "duration": 145,
    "start_time": "2022-01-26T19:42:16.569Z"
   },
   {
    "duration": 13,
    "start_time": "2022-01-26T19:42:16.716Z"
   },
   {
    "duration": 35,
    "start_time": "2022-01-26T19:42:16.732Z"
   },
   {
    "duration": 10,
    "start_time": "2022-01-26T19:42:16.769Z"
   },
   {
    "duration": 34,
    "start_time": "2022-01-26T19:42:16.781Z"
   },
   {
    "duration": 131,
    "start_time": "2022-01-26T19:42:16.817Z"
   },
   {
    "duration": 12,
    "start_time": "2022-01-26T19:42:16.951Z"
   },
   {
    "duration": 22,
    "start_time": "2022-01-26T19:42:16.965Z"
   },
   {
    "duration": 23,
    "start_time": "2022-01-26T19:42:16.989Z"
   },
   {
    "duration": 41,
    "start_time": "2022-01-26T19:42:17.014Z"
   },
   {
    "duration": 17,
    "start_time": "2022-01-26T19:42:17.058Z"
   },
   {
    "duration": 11,
    "start_time": "2022-01-26T19:42:17.082Z"
   },
   {
    "duration": 59,
    "start_time": "2022-01-26T19:42:17.096Z"
   },
   {
    "duration": 77,
    "start_time": "2022-01-26T19:42:17.157Z"
   },
   {
    "duration": 29,
    "start_time": "2022-01-26T19:42:17.248Z"
   },
   {
    "duration": 38,
    "start_time": "2022-01-26T19:42:17.279Z"
   },
   {
    "duration": 44,
    "start_time": "2022-01-26T19:42:17.319Z"
   },
   {
    "duration": 45,
    "start_time": "2022-01-26T19:42:17.366Z"
   },
   {
    "duration": 45,
    "start_time": "2022-01-26T19:42:17.413Z"
   },
   {
    "duration": 9,
    "start_time": "2022-01-26T19:42:17.461Z"
   },
   {
    "duration": 14,
    "start_time": "2022-01-26T19:42:17.473Z"
   },
   {
    "duration": 22,
    "start_time": "2022-01-26T19:42:17.490Z"
   },
   {
    "duration": 51,
    "start_time": "2022-01-26T19:42:17.514Z"
   },
   {
    "duration": 5,
    "start_time": "2022-01-26T19:42:17.567Z"
   },
   {
    "duration": 12,
    "start_time": "2022-01-26T19:42:17.574Z"
   },
   {
    "duration": 11,
    "start_time": "2022-01-26T19:42:17.588Z"
   },
   {
    "duration": 53,
    "start_time": "2022-01-26T19:42:17.601Z"
   },
   {
    "duration": 17,
    "start_time": "2022-01-26T19:42:17.657Z"
   },
   {
    "duration": 39,
    "start_time": "2022-01-26T19:42:17.676Z"
   },
   {
    "duration": 5,
    "start_time": "2022-01-26T19:42:17.718Z"
   },
   {
    "duration": 341,
    "start_time": "2022-01-26T19:42:17.749Z"
   },
   {
    "duration": 18,
    "start_time": "2022-01-26T19:42:18.093Z"
   },
   {
    "duration": 51,
    "start_time": "2022-01-26T19:42:18.114Z"
   },
   {
    "duration": 27,
    "start_time": "2022-01-26T19:42:18.167Z"
   },
   {
    "duration": 20,
    "start_time": "2022-01-26T19:42:18.197Z"
   },
   {
    "duration": 46,
    "start_time": "2022-01-26T19:42:18.220Z"
   },
   {
    "duration": 11,
    "start_time": "2022-01-26T19:42:18.269Z"
   },
   {
    "duration": 12,
    "start_time": "2022-01-26T19:42:18.282Z"
   },
   {
    "duration": 54,
    "start_time": "2022-01-26T19:42:18.296Z"
   },
   {
    "duration": 1090,
    "start_time": "2022-01-26T19:42:18.352Z"
   },
   {
    "duration": 2176,
    "start_time": "2022-01-26T19:42:19.449Z"
   },
   {
    "duration": 312,
    "start_time": "2022-01-26T19:42:21.627Z"
   },
   {
    "duration": 10,
    "start_time": "2022-01-26T19:42:21.949Z"
   },
   {
    "duration": 20,
    "start_time": "2022-01-26T19:42:21.962Z"
   },
   {
    "duration": 11,
    "start_time": "2022-01-26T19:42:21.985Z"
   },
   {
    "duration": 24,
    "start_time": "2022-01-26T19:42:21.998Z"
   },
   {
    "duration": 27,
    "start_time": "2022-01-26T19:42:22.024Z"
   },
   {
    "duration": 15,
    "start_time": "2022-01-26T19:42:22.054Z"
   },
   {
    "duration": 1976,
    "start_time": "2022-02-04T13:37:43.918Z"
   },
   {
    "duration": 16,
    "start_time": "2022-02-04T13:37:45.897Z"
   },
   {
    "duration": 26,
    "start_time": "2022-02-04T13:37:45.916Z"
   },
   {
    "duration": 11,
    "start_time": "2022-02-04T13:37:45.945Z"
   },
   {
    "duration": 24,
    "start_time": "2022-02-04T13:37:45.959Z"
   },
   {
    "duration": 46,
    "start_time": "2022-02-04T13:37:45.985Z"
   },
   {
    "duration": 21,
    "start_time": "2022-02-04T13:37:46.033Z"
   },
   {
    "duration": 15,
    "start_time": "2022-02-04T13:37:46.059Z"
   },
   {
    "duration": 53,
    "start_time": "2022-02-04T13:37:46.077Z"
   },
   {
    "duration": 13,
    "start_time": "2022-02-04T13:37:46.132Z"
   },
   {
    "duration": 44,
    "start_time": "2022-02-04T13:37:46.147Z"
   },
   {
    "duration": 180,
    "start_time": "2022-02-04T13:37:46.194Z"
   },
   {
    "duration": 12,
    "start_time": "2022-02-04T13:37:46.376Z"
   },
   {
    "duration": 42,
    "start_time": "2022-02-04T13:37:46.392Z"
   },
   {
    "duration": 10,
    "start_time": "2022-02-04T13:37:46.437Z"
   },
   {
    "duration": 34,
    "start_time": "2022-02-04T13:37:46.450Z"
   },
   {
    "duration": 139,
    "start_time": "2022-02-04T13:37:46.487Z"
   },
   {
    "duration": 14,
    "start_time": "2022-02-04T13:37:46.628Z"
   },
   {
    "duration": 19,
    "start_time": "2022-02-04T13:37:46.645Z"
   },
   {
    "duration": 61,
    "start_time": "2022-02-04T13:37:46.667Z"
   },
   {
    "duration": 17,
    "start_time": "2022-02-04T13:37:46.731Z"
   },
   {
    "duration": 5,
    "start_time": "2022-02-04T13:37:46.751Z"
   },
   {
    "duration": 8,
    "start_time": "2022-02-04T13:37:46.762Z"
   },
   {
    "duration": 67,
    "start_time": "2022-02-04T13:37:46.773Z"
   },
   {
    "duration": 90,
    "start_time": "2022-02-04T13:37:46.842Z"
   },
   {
    "duration": 24,
    "start_time": "2022-02-04T13:37:46.934Z"
   },
   {
    "duration": 66,
    "start_time": "2022-02-04T13:37:46.961Z"
   },
   {
    "duration": 20,
    "start_time": "2022-02-04T13:37:47.029Z"
   },
   {
    "duration": 42,
    "start_time": "2022-02-04T13:37:47.052Z"
   },
   {
    "duration": 36,
    "start_time": "2022-02-04T13:37:47.096Z"
   },
   {
    "duration": 9,
    "start_time": "2022-02-04T13:37:47.135Z"
   },
   {
    "duration": 15,
    "start_time": "2022-02-04T13:37:47.147Z"
   },
   {
    "duration": 24,
    "start_time": "2022-02-04T13:37:47.164Z"
   },
   {
    "duration": 22,
    "start_time": "2022-02-04T13:37:47.224Z"
   },
   {
    "duration": 6,
    "start_time": "2022-02-04T13:37:47.249Z"
   },
   {
    "duration": 11,
    "start_time": "2022-02-04T13:37:47.257Z"
   },
   {
    "duration": 9,
    "start_time": "2022-02-04T13:37:47.271Z"
   },
   {
    "duration": 50,
    "start_time": "2022-02-04T13:37:47.283Z"
   },
   {
    "duration": 21,
    "start_time": "2022-02-04T13:37:47.335Z"
   },
   {
    "duration": 39,
    "start_time": "2022-02-04T13:37:47.358Z"
   },
   {
    "duration": 6,
    "start_time": "2022-02-04T13:37:47.423Z"
   },
   {
    "duration": 340,
    "start_time": "2022-02-04T13:37:47.432Z"
   },
   {
    "duration": 21,
    "start_time": "2022-02-04T13:37:47.774Z"
   },
   {
    "duration": 46,
    "start_time": "2022-02-04T13:37:47.798Z"
   },
   {
    "duration": 31,
    "start_time": "2022-02-04T13:37:47.847Z"
   },
   {
    "duration": 50,
    "start_time": "2022-02-04T13:37:47.880Z"
   },
   {
    "duration": 20,
    "start_time": "2022-02-04T13:37:47.932Z"
   },
   {
    "duration": 9,
    "start_time": "2022-02-04T13:37:47.955Z"
   },
   {
    "duration": 10,
    "start_time": "2022-02-04T13:37:47.967Z"
   },
   {
    "duration": 11,
    "start_time": "2022-02-04T13:37:48.024Z"
   },
   {
    "duration": 1099,
    "start_time": "2022-02-04T13:37:48.037Z"
   },
   {
    "duration": 2286,
    "start_time": "2022-02-04T13:37:49.138Z"
   },
   {
    "duration": 301,
    "start_time": "2022-02-04T13:37:51.426Z"
   },
   {
    "duration": 9,
    "start_time": "2022-02-04T13:37:51.730Z"
   },
   {
    "duration": 10,
    "start_time": "2022-02-04T13:37:51.741Z"
   },
   {
    "duration": 6,
    "start_time": "2022-02-04T13:37:51.754Z"
   },
   {
    "duration": 17,
    "start_time": "2022-02-04T13:37:51.762Z"
   },
   {
    "duration": 46,
    "start_time": "2022-02-04T13:37:51.781Z"
   },
   {
    "duration": 7,
    "start_time": "2022-02-04T13:37:51.830Z"
   },
   {
    "duration": 24,
    "start_time": "2022-02-04T13:57:46.550Z"
   },
   {
    "duration": 25,
    "start_time": "2022-02-04T14:00:47.565Z"
   },
   {
    "duration": 21,
    "start_time": "2022-02-04T14:07:21.082Z"
   },
   {
    "duration": 2152,
    "start_time": "2022-02-04T14:12:57.992Z"
   },
   {
    "duration": 171,
    "start_time": "2022-02-04T14:14:56.632Z"
   },
   {
    "duration": 248,
    "start_time": "2022-02-04T14:15:05.592Z"
   },
   {
    "duration": 2130,
    "start_time": "2022-02-04T14:15:12.463Z"
   },
   {
    "duration": 2050,
    "start_time": "2022-02-04T14:15:34.560Z"
   },
   {
    "duration": 2106,
    "start_time": "2022-02-04T14:16:54.872Z"
   },
   {
    "duration": 2412,
    "start_time": "2022-02-04T14:17:16.542Z"
   },
   {
    "duration": 2094,
    "start_time": "2022-02-04T14:24:44.535Z"
   },
   {
    "duration": 15,
    "start_time": "2022-02-04T14:24:46.632Z"
   },
   {
    "duration": 29,
    "start_time": "2022-02-04T14:24:46.650Z"
   },
   {
    "duration": 11,
    "start_time": "2022-02-04T14:24:46.682Z"
   },
   {
    "duration": 24,
    "start_time": "2022-02-04T14:24:46.723Z"
   },
   {
    "duration": 10,
    "start_time": "2022-02-04T14:24:46.749Z"
   },
   {
    "duration": 20,
    "start_time": "2022-02-04T14:24:46.761Z"
   },
   {
    "duration": 46,
    "start_time": "2022-02-04T14:24:46.785Z"
   },
   {
    "duration": 9,
    "start_time": "2022-02-04T14:24:46.835Z"
   },
   {
    "duration": 12,
    "start_time": "2022-02-04T14:24:46.846Z"
   },
   {
    "duration": 75,
    "start_time": "2022-02-04T14:24:46.861Z"
   },
   {
    "duration": 146,
    "start_time": "2022-02-04T14:24:46.938Z"
   },
   {
    "duration": 11,
    "start_time": "2022-02-04T14:24:47.087Z"
   },
   {
    "duration": 41,
    "start_time": "2022-02-04T14:24:47.100Z"
   },
   {
    "duration": 10,
    "start_time": "2022-02-04T14:24:47.143Z"
   },
   {
    "duration": 36,
    "start_time": "2022-02-04T14:24:47.156Z"
   },
   {
    "duration": 122,
    "start_time": "2022-02-04T14:24:47.194Z"
   },
   {
    "duration": 12,
    "start_time": "2022-02-04T14:24:47.324Z"
   },
   {
    "duration": 19,
    "start_time": "2022-02-04T14:24:47.338Z"
   },
   {
    "duration": 26,
    "start_time": "2022-02-04T14:24:47.360Z"
   },
   {
    "duration": 15,
    "start_time": "2022-02-04T14:24:47.423Z"
   },
   {
    "duration": 6,
    "start_time": "2022-02-04T14:24:47.440Z"
   },
   {
    "duration": 11,
    "start_time": "2022-02-04T14:24:47.452Z"
   },
   {
    "duration": 65,
    "start_time": "2022-02-04T14:24:47.466Z"
   },
   {
    "duration": 91,
    "start_time": "2022-02-04T14:24:47.534Z"
   },
   {
    "duration": 24,
    "start_time": "2022-02-04T14:24:47.627Z"
   },
   {
    "duration": 44,
    "start_time": "2022-02-04T14:24:47.653Z"
   },
   {
    "duration": 40,
    "start_time": "2022-02-04T14:24:47.699Z"
   },
   {
    "duration": 42,
    "start_time": "2022-02-04T14:24:47.741Z"
   },
   {
    "duration": 40,
    "start_time": "2022-02-04T14:24:47.785Z"
   },
   {
    "duration": 10,
    "start_time": "2022-02-04T14:24:47.828Z"
   },
   {
    "duration": 18,
    "start_time": "2022-02-04T14:24:47.840Z"
   },
   {
    "duration": 24,
    "start_time": "2022-02-04T14:24:47.861Z"
   },
   {
    "duration": 50,
    "start_time": "2022-02-04T14:24:47.887Z"
   },
   {
    "duration": 5,
    "start_time": "2022-02-04T14:24:47.939Z"
   },
   {
    "duration": 11,
    "start_time": "2022-02-04T14:24:47.946Z"
   },
   {
    "duration": 10,
    "start_time": "2022-02-04T14:24:47.959Z"
   },
   {
    "duration": 11,
    "start_time": "2022-02-04T14:24:47.972Z"
   },
   {
    "duration": 21,
    "start_time": "2022-02-04T14:24:48.024Z"
   },
   {
    "duration": 35,
    "start_time": "2022-02-04T14:24:48.048Z"
   },
   {
    "duration": 6,
    "start_time": "2022-02-04T14:24:48.085Z"
   },
   {
    "duration": 410,
    "start_time": "2022-02-04T14:24:48.093Z"
   },
   {
    "duration": 37,
    "start_time": "2022-02-04T14:24:48.506Z"
   },
   {
    "duration": 27,
    "start_time": "2022-02-04T14:24:48.546Z"
   },
   {
    "duration": 56,
    "start_time": "2022-02-04T14:24:48.575Z"
   },
   {
    "duration": 22,
    "start_time": "2022-02-04T14:24:48.633Z"
   },
   {
    "duration": 34,
    "start_time": "2022-02-04T14:24:48.658Z"
   },
   {
    "duration": 31,
    "start_time": "2022-02-04T14:24:48.695Z"
   },
   {
    "duration": 13,
    "start_time": "2022-02-04T14:24:48.729Z"
   },
   {
    "duration": 25,
    "start_time": "2022-02-04T14:24:48.745Z"
   },
   {
    "duration": 1033,
    "start_time": "2022-02-04T14:24:48.772Z"
   },
   {
    "duration": 2130,
    "start_time": "2022-02-04T14:24:49.808Z"
   },
   {
    "duration": 305,
    "start_time": "2022-02-04T14:24:51.940Z"
   },
   {
    "duration": 8,
    "start_time": "2022-02-04T14:24:52.247Z"
   },
   {
    "duration": 10,
    "start_time": "2022-02-04T14:24:52.257Z"
   },
   {
    "duration": 7,
    "start_time": "2022-02-04T14:24:52.269Z"
   },
   {
    "duration": 46,
    "start_time": "2022-02-04T14:24:52.278Z"
   },
   {
    "duration": 7,
    "start_time": "2022-02-04T14:24:52.327Z"
   },
   {
    "duration": 13,
    "start_time": "2022-02-04T14:24:52.336Z"
   }
  ],
  "kernelspec": {
   "display_name": "Python 3 (ipykernel)",
   "language": "python",
   "name": "python3"
  },
  "language_info": {
   "codemirror_mode": {
    "name": "ipython",
    "version": 3
   },
   "file_extension": ".py",
   "mimetype": "text/x-python",
   "name": "python",
   "nbconvert_exporter": "python",
   "pygments_lexer": "ipython3",
   "version": "3.9.7"
  },
  "toc": {
   "base_numbering": 1,
   "nav_menu": {},
   "number_sections": true,
   "sideBar": true,
   "skip_h1_title": true,
   "title_cell": "Table of Contents",
   "title_sidebar": "Contents",
   "toc_cell": false,
   "toc_position": {
    "height": "calc(100% - 180px)",
    "left": "10px",
    "top": "150px",
    "width": "289.6px"
   },
   "toc_section_display": true,
   "toc_window_display": false
  }
 },
 "nbformat": 4,
 "nbformat_minor": 2
}
