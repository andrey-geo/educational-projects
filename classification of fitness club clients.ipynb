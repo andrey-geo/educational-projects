{
 "cells": [
  {
   "cell_type": "markdown",
   "metadata": {},
   "source": [
    "#   Определение стратегии взаимодействия с клиентами фитнес-центров\n",
    "**Описание проекта**   \n",
    "Необходимо разработать стратегию взаимодействия с клиентами сети фитнес клубов на основе аналитических данных. \n",
    "Определить основные рекомендации по повышению качества работы с клиентами. \n",
    "____\n",
    " **Исходные данные:**  \n",
    " - файл, который содержит данные о клиентах на месяц до оттока и факт оттока на определённый месяц.\n",
    "   \n",
    "___\n",
    " **Цель проекта:**  \n",
    " - Научиться прогнозировать вероятность оттока (на уровне следующего месяца) для каждого клиента;\n",
    " - Сформировать типичные портреты клиентов: выделить несколько наиболее ярких групп и охарактеризовать их основные свойства;\n",
    " - Сформулировать основные выводы и предложить рекомендации для стратегии взаимодействия с клиентами и их удержания."
   ]
  },
  {
   "cell_type": "code",
   "execution_count": 1,
   "metadata": {},
   "outputs": [],
   "source": [
    "import pandas as pd\n",
    "import seaborn as sns\n",
    "import matplotlib.pyplot as plt\n",
    "from sklearn.preprocessing import StandardScaler\n",
    "from sklearn.model_selection import train_test_split\n",
    "from sklearn.linear_model import LogisticRegression\n",
    "from sklearn.ensemble import RandomForestClassifier\n",
    "from sklearn.metrics import accuracy_score, precision_score, recall_score, f1_score\n",
    "from scipy.cluster.hierarchy import dendrogram, linkage\n",
    "from sklearn.cluster import KMeans\n",
    "\n",
    "import warnings\n",
    "warnings.filterwarnings(\"ignore\")\n",
    "pd.set_option('display.max_colwidth', None)\n",
    "pd.set_option('display.float_format', '{:.2f}'.format)"
   ]
  },
  {
   "cell_type": "markdown",
   "metadata": {},
   "source": [
    "# Загрузка данных"
   ]
  },
  {
   "cell_type": "code",
   "execution_count": 2,
   "metadata": {},
   "outputs": [],
   "source": [
    "gym_churn = pd.read_csv('gym_churn.csv')"
   ]
  },
  {
   "cell_type": "code",
   "execution_count": 3,
   "metadata": {},
   "outputs": [
    {
     "data": {
      "text/html": [
       "<div>\n",
       "<style scoped>\n",
       "    .dataframe tbody tr th:only-of-type {\n",
       "        vertical-align: middle;\n",
       "    }\n",
       "\n",
       "    .dataframe tbody tr th {\n",
       "        vertical-align: top;\n",
       "    }\n",
       "\n",
       "    .dataframe thead th {\n",
       "        text-align: right;\n",
       "    }\n",
       "</style>\n",
       "<table border=\"1\" class=\"dataframe\">\n",
       "  <thead>\n",
       "    <tr style=\"text-align: right;\">\n",
       "      <th></th>\n",
       "      <th>gender</th>\n",
       "      <th>Near_Location</th>\n",
       "      <th>Partner</th>\n",
       "      <th>Promo_friends</th>\n",
       "      <th>Phone</th>\n",
       "      <th>Contract_period</th>\n",
       "      <th>Group_visits</th>\n",
       "      <th>Age</th>\n",
       "      <th>Avg_additional_charges_total</th>\n",
       "      <th>Month_to_end_contract</th>\n",
       "      <th>Lifetime</th>\n",
       "      <th>Avg_class_frequency_total</th>\n",
       "      <th>Avg_class_frequency_current_month</th>\n",
       "      <th>Churn</th>\n",
       "    </tr>\n",
       "  </thead>\n",
       "  <tbody>\n",
       "    <tr>\n",
       "      <th>0</th>\n",
       "      <td>1</td>\n",
       "      <td>1</td>\n",
       "      <td>1</td>\n",
       "      <td>1</td>\n",
       "      <td>0</td>\n",
       "      <td>6</td>\n",
       "      <td>1</td>\n",
       "      <td>29</td>\n",
       "      <td>14.23</td>\n",
       "      <td>5.00</td>\n",
       "      <td>3</td>\n",
       "      <td>0.02</td>\n",
       "      <td>0.00</td>\n",
       "      <td>0</td>\n",
       "    </tr>\n",
       "    <tr>\n",
       "      <th>1</th>\n",
       "      <td>0</td>\n",
       "      <td>1</td>\n",
       "      <td>0</td>\n",
       "      <td>0</td>\n",
       "      <td>1</td>\n",
       "      <td>12</td>\n",
       "      <td>1</td>\n",
       "      <td>31</td>\n",
       "      <td>113.20</td>\n",
       "      <td>12.00</td>\n",
       "      <td>7</td>\n",
       "      <td>1.92</td>\n",
       "      <td>1.91</td>\n",
       "      <td>0</td>\n",
       "    </tr>\n",
       "    <tr>\n",
       "      <th>2</th>\n",
       "      <td>0</td>\n",
       "      <td>1</td>\n",
       "      <td>1</td>\n",
       "      <td>0</td>\n",
       "      <td>1</td>\n",
       "      <td>1</td>\n",
       "      <td>0</td>\n",
       "      <td>28</td>\n",
       "      <td>129.45</td>\n",
       "      <td>1.00</td>\n",
       "      <td>2</td>\n",
       "      <td>1.86</td>\n",
       "      <td>1.74</td>\n",
       "      <td>0</td>\n",
       "    </tr>\n",
       "    <tr>\n",
       "      <th>3</th>\n",
       "      <td>0</td>\n",
       "      <td>1</td>\n",
       "      <td>1</td>\n",
       "      <td>1</td>\n",
       "      <td>1</td>\n",
       "      <td>12</td>\n",
       "      <td>1</td>\n",
       "      <td>33</td>\n",
       "      <td>62.67</td>\n",
       "      <td>12.00</td>\n",
       "      <td>2</td>\n",
       "      <td>3.21</td>\n",
       "      <td>3.36</td>\n",
       "      <td>0</td>\n",
       "    </tr>\n",
       "    <tr>\n",
       "      <th>4</th>\n",
       "      <td>1</td>\n",
       "      <td>1</td>\n",
       "      <td>1</td>\n",
       "      <td>1</td>\n",
       "      <td>1</td>\n",
       "      <td>1</td>\n",
       "      <td>0</td>\n",
       "      <td>26</td>\n",
       "      <td>198.36</td>\n",
       "      <td>1.00</td>\n",
       "      <td>3</td>\n",
       "      <td>1.11</td>\n",
       "      <td>1.12</td>\n",
       "      <td>0</td>\n",
       "    </tr>\n",
       "  </tbody>\n",
       "</table>\n",
       "</div>"
      ],
      "text/plain": [
       "   gender  Near_Location  Partner  Promo_friends  Phone  Contract_period  \\\n",
       "0       1              1        1              1      0                6   \n",
       "1       0              1        0              0      1               12   \n",
       "2       0              1        1              0      1                1   \n",
       "3       0              1        1              1      1               12   \n",
       "4       1              1        1              1      1                1   \n",
       "\n",
       "   Group_visits  Age  Avg_additional_charges_total  Month_to_end_contract  \\\n",
       "0             1   29                         14.23                   5.00   \n",
       "1             1   31                        113.20                  12.00   \n",
       "2             0   28                        129.45                   1.00   \n",
       "3             1   33                         62.67                  12.00   \n",
       "4             0   26                        198.36                   1.00   \n",
       "\n",
       "   Lifetime  Avg_class_frequency_total  Avg_class_frequency_current_month  \\\n",
       "0         3                       0.02                               0.00   \n",
       "1         7                       1.92                               1.91   \n",
       "2         2                       1.86                               1.74   \n",
       "3         2                       3.21                               3.36   \n",
       "4         3                       1.11                               1.12   \n",
       "\n",
       "   Churn  \n",
       "0      0  \n",
       "1      0  \n",
       "2      0  \n",
       "3      0  \n",
       "4      0  "
      ]
     },
     "execution_count": 3,
     "metadata": {},
     "output_type": "execute_result"
    }
   ],
   "source": [
    "gym_churn.head()"
   ]
  },
  {
   "cell_type": "markdown",
   "metadata": {},
   "source": [
    "**Описание данных**  \n",
    "\n",
    "Данные клиента за предыдущий до проверки факта оттока месяц:\n",
    "- `gender` — пол;\n",
    "- `Near_Location` — проживание или работа в районе, где находится фитнес-центр;\n",
    "- `Partner` — сотрудник компании-партнёра клуба (сотрудничество с компаниями, чьи сотрудники могут получать скидки на абонемент — в таком случае фитнес-центр хранит информацию о работодателе клиента);\n",
    "- `Promo_friends` — факт первоначальной записи в рамках акции «приведи друга» (использовал промо-код от знакомого при оплате первого абонемента);\n",
    "- `Phone` — наличие контактного телефона;\n",
    "- `Age` — возраст;\n",
    "- `Lifetime` — время с момента первого обращения в фитнес-центр (в месяцах).\n",
    "\n",
    "Информация на основе журнала посещений, покупок и информация о текущем статусе абонемента клиента:\n",
    "\n",
    "- `Contract_period` — длительность текущего действующего абонемента (месяц, 6 месяцев, год);\n",
    "- `Month_to_end_contract` — срок до окончания текущего действующего абонемента (в месяцах);\n",
    "- `Group_visits` — факт посещения групповых занятий;\n",
    "- `Avg_class_frequency_total` — средняя частота посещений в неделю за все время с начала действия абонемента;\n",
    "- `Avg_class_frequency_current_month` — средняя частота посещений в неделю за предыдущий месяц;\n",
    "- `Avg_additional_charges_total` — суммарная выручка от других услуг фитнес-центра: кафе, спорттовары, косметический и массажный салон.\n",
    "- `Churn` — факт оттока в текущем месяце."
   ]
  },
  {
   "cell_type": "markdown",
   "metadata": {},
   "source": [
    "# Исследовательский анализ данных (EDA)"
   ]
  },
  {
   "cell_type": "markdown",
   "metadata": {},
   "source": [
    "## Посмотрим общую информацию"
   ]
  },
  {
   "cell_type": "code",
   "execution_count": 4,
   "metadata": {},
   "outputs": [
    {
     "name": "stdout",
     "output_type": "stream",
     "text": [
      "<class 'pandas.core.frame.DataFrame'>\n",
      "RangeIndex: 4000 entries, 0 to 3999\n",
      "Data columns (total 14 columns):\n",
      " #   Column                             Non-Null Count  Dtype  \n",
      "---  ------                             --------------  -----  \n",
      " 0   gender                             4000 non-null   int64  \n",
      " 1   Near_Location                      4000 non-null   int64  \n",
      " 2   Partner                            4000 non-null   int64  \n",
      " 3   Promo_friends                      4000 non-null   int64  \n",
      " 4   Phone                              4000 non-null   int64  \n",
      " 5   Contract_period                    4000 non-null   int64  \n",
      " 6   Group_visits                       4000 non-null   int64  \n",
      " 7   Age                                4000 non-null   int64  \n",
      " 8   Avg_additional_charges_total       4000 non-null   float64\n",
      " 9   Month_to_end_contract              4000 non-null   float64\n",
      " 10  Lifetime                           4000 non-null   int64  \n",
      " 11  Avg_class_frequency_total          4000 non-null   float64\n",
      " 12  Avg_class_frequency_current_month  4000 non-null   float64\n",
      " 13  Churn                              4000 non-null   int64  \n",
      "dtypes: float64(4), int64(10)\n",
      "memory usage: 437.6 KB\n"
     ]
    }
   ],
   "source": [
    "gym_churn.info()"
   ]
  },
  {
   "cell_type": "markdown",
   "metadata": {},
   "source": [
    "**Вывод**  \n",
    "\n",
    "- В датафрейме 4000 строк и 14 колонок (13 признаков и целевая переменная); \n",
    "- Пропусков в данных нет; \n",
    "- Все переменные имеют числовой тип данных. Но есть и категориальные данные, только они уже преобразованы в числовые значения. "
   ]
  },
  {
   "cell_type": "markdown",
   "metadata": {},
   "source": [
    "## Посмотрим на статистики числовых переменных:"
   ]
  },
  {
   "cell_type": "code",
   "execution_count": 5,
   "metadata": {},
   "outputs": [
    {
     "data": {
      "text/html": [
       "<div>\n",
       "<style scoped>\n",
       "    .dataframe tbody tr th:only-of-type {\n",
       "        vertical-align: middle;\n",
       "    }\n",
       "\n",
       "    .dataframe tbody tr th {\n",
       "        vertical-align: top;\n",
       "    }\n",
       "\n",
       "    .dataframe thead th {\n",
       "        text-align: right;\n",
       "    }\n",
       "</style>\n",
       "<table border=\"1\" class=\"dataframe\">\n",
       "  <thead>\n",
       "    <tr style=\"text-align: right;\">\n",
       "      <th></th>\n",
       "      <th>gender</th>\n",
       "      <th>Near_Location</th>\n",
       "      <th>Partner</th>\n",
       "      <th>Promo_friends</th>\n",
       "      <th>Phone</th>\n",
       "      <th>Contract_period</th>\n",
       "      <th>Group_visits</th>\n",
       "      <th>Age</th>\n",
       "      <th>Avg_additional_charges_total</th>\n",
       "    </tr>\n",
       "  </thead>\n",
       "  <tbody>\n",
       "    <tr>\n",
       "      <th>count</th>\n",
       "      <td>4000.00</td>\n",
       "      <td>4000.00</td>\n",
       "      <td>4000.00</td>\n",
       "      <td>4000.00</td>\n",
       "      <td>4000.00</td>\n",
       "      <td>4000.00</td>\n",
       "      <td>4000.00</td>\n",
       "      <td>4000.00</td>\n",
       "      <td>4000.00</td>\n",
       "    </tr>\n",
       "    <tr>\n",
       "      <th>mean</th>\n",
       "      <td>0.51</td>\n",
       "      <td>0.85</td>\n",
       "      <td>0.49</td>\n",
       "      <td>0.31</td>\n",
       "      <td>0.90</td>\n",
       "      <td>4.68</td>\n",
       "      <td>0.41</td>\n",
       "      <td>29.18</td>\n",
       "      <td>146.94</td>\n",
       "    </tr>\n",
       "    <tr>\n",
       "      <th>std</th>\n",
       "      <td>0.50</td>\n",
       "      <td>0.36</td>\n",
       "      <td>0.50</td>\n",
       "      <td>0.46</td>\n",
       "      <td>0.30</td>\n",
       "      <td>4.55</td>\n",
       "      <td>0.49</td>\n",
       "      <td>3.26</td>\n",
       "      <td>96.36</td>\n",
       "    </tr>\n",
       "    <tr>\n",
       "      <th>min</th>\n",
       "      <td>0.00</td>\n",
       "      <td>0.00</td>\n",
       "      <td>0.00</td>\n",
       "      <td>0.00</td>\n",
       "      <td>0.00</td>\n",
       "      <td>1.00</td>\n",
       "      <td>0.00</td>\n",
       "      <td>18.00</td>\n",
       "      <td>0.15</td>\n",
       "    </tr>\n",
       "    <tr>\n",
       "      <th>25%</th>\n",
       "      <td>0.00</td>\n",
       "      <td>1.00</td>\n",
       "      <td>0.00</td>\n",
       "      <td>0.00</td>\n",
       "      <td>1.00</td>\n",
       "      <td>1.00</td>\n",
       "      <td>0.00</td>\n",
       "      <td>27.00</td>\n",
       "      <td>68.87</td>\n",
       "    </tr>\n",
       "    <tr>\n",
       "      <th>50%</th>\n",
       "      <td>1.00</td>\n",
       "      <td>1.00</td>\n",
       "      <td>0.00</td>\n",
       "      <td>0.00</td>\n",
       "      <td>1.00</td>\n",
       "      <td>1.00</td>\n",
       "      <td>0.00</td>\n",
       "      <td>29.00</td>\n",
       "      <td>136.22</td>\n",
       "    </tr>\n",
       "    <tr>\n",
       "      <th>75%</th>\n",
       "      <td>1.00</td>\n",
       "      <td>1.00</td>\n",
       "      <td>1.00</td>\n",
       "      <td>1.00</td>\n",
       "      <td>1.00</td>\n",
       "      <td>6.00</td>\n",
       "      <td>1.00</td>\n",
       "      <td>31.00</td>\n",
       "      <td>210.95</td>\n",
       "    </tr>\n",
       "    <tr>\n",
       "      <th>max</th>\n",
       "      <td>1.00</td>\n",
       "      <td>1.00</td>\n",
       "      <td>1.00</td>\n",
       "      <td>1.00</td>\n",
       "      <td>1.00</td>\n",
       "      <td>12.00</td>\n",
       "      <td>1.00</td>\n",
       "      <td>41.00</td>\n",
       "      <td>552.59</td>\n",
       "    </tr>\n",
       "  </tbody>\n",
       "</table>\n",
       "</div>"
      ],
      "text/plain": [
       "       gender  Near_Location  Partner  Promo_friends   Phone  Contract_period  \\\n",
       "count 4000.00        4000.00  4000.00        4000.00 4000.00          4000.00   \n",
       "mean     0.51           0.85     0.49           0.31    0.90             4.68   \n",
       "std      0.50           0.36     0.50           0.46    0.30             4.55   \n",
       "min      0.00           0.00     0.00           0.00    0.00             1.00   \n",
       "25%      0.00           1.00     0.00           0.00    1.00             1.00   \n",
       "50%      1.00           1.00     0.00           0.00    1.00             1.00   \n",
       "75%      1.00           1.00     1.00           1.00    1.00             6.00   \n",
       "max      1.00           1.00     1.00           1.00    1.00            12.00   \n",
       "\n",
       "       Group_visits     Age  Avg_additional_charges_total  \n",
       "count       4000.00 4000.00                       4000.00  \n",
       "mean           0.41   29.18                        146.94  \n",
       "std            0.49    3.26                         96.36  \n",
       "min            0.00   18.00                          0.15  \n",
       "25%            0.00   27.00                         68.87  \n",
       "50%            0.00   29.00                        136.22  \n",
       "75%            1.00   31.00                        210.95  \n",
       "max            1.00   41.00                        552.59  "
      ]
     },
     "execution_count": 5,
     "metadata": {},
     "output_type": "execute_result"
    }
   ],
   "source": [
    "gym_churn.iloc[:, 0:9].describe() # выводим столбцы отдельно чтобы уместить по ширине страницы"
   ]
  },
  {
   "cell_type": "code",
   "execution_count": 6,
   "metadata": {},
   "outputs": [
    {
     "data": {
      "text/html": [
       "<div>\n",
       "<style scoped>\n",
       "    .dataframe tbody tr th:only-of-type {\n",
       "        vertical-align: middle;\n",
       "    }\n",
       "\n",
       "    .dataframe tbody tr th {\n",
       "        vertical-align: top;\n",
       "    }\n",
       "\n",
       "    .dataframe thead th {\n",
       "        text-align: right;\n",
       "    }\n",
       "</style>\n",
       "<table border=\"1\" class=\"dataframe\">\n",
       "  <thead>\n",
       "    <tr style=\"text-align: right;\">\n",
       "      <th></th>\n",
       "      <th>Month_to_end_contract</th>\n",
       "      <th>Lifetime</th>\n",
       "      <th>Avg_class_frequency_total</th>\n",
       "      <th>Avg_class_frequency_current_month</th>\n",
       "      <th>Churn</th>\n",
       "    </tr>\n",
       "  </thead>\n",
       "  <tbody>\n",
       "    <tr>\n",
       "      <th>count</th>\n",
       "      <td>4000.00</td>\n",
       "      <td>4000.00</td>\n",
       "      <td>4000.00</td>\n",
       "      <td>4000.00</td>\n",
       "      <td>4000.00</td>\n",
       "    </tr>\n",
       "    <tr>\n",
       "      <th>mean</th>\n",
       "      <td>4.32</td>\n",
       "      <td>3.72</td>\n",
       "      <td>1.88</td>\n",
       "      <td>1.77</td>\n",
       "      <td>0.27</td>\n",
       "    </tr>\n",
       "    <tr>\n",
       "      <th>std</th>\n",
       "      <td>4.19</td>\n",
       "      <td>3.75</td>\n",
       "      <td>0.97</td>\n",
       "      <td>1.05</td>\n",
       "      <td>0.44</td>\n",
       "    </tr>\n",
       "    <tr>\n",
       "      <th>min</th>\n",
       "      <td>1.00</td>\n",
       "      <td>0.00</td>\n",
       "      <td>0.00</td>\n",
       "      <td>0.00</td>\n",
       "      <td>0.00</td>\n",
       "    </tr>\n",
       "    <tr>\n",
       "      <th>25%</th>\n",
       "      <td>1.00</td>\n",
       "      <td>1.00</td>\n",
       "      <td>1.18</td>\n",
       "      <td>0.96</td>\n",
       "      <td>0.00</td>\n",
       "    </tr>\n",
       "    <tr>\n",
       "      <th>50%</th>\n",
       "      <td>1.00</td>\n",
       "      <td>3.00</td>\n",
       "      <td>1.83</td>\n",
       "      <td>1.72</td>\n",
       "      <td>0.00</td>\n",
       "    </tr>\n",
       "    <tr>\n",
       "      <th>75%</th>\n",
       "      <td>6.00</td>\n",
       "      <td>5.00</td>\n",
       "      <td>2.54</td>\n",
       "      <td>2.51</td>\n",
       "      <td>1.00</td>\n",
       "    </tr>\n",
       "    <tr>\n",
       "      <th>max</th>\n",
       "      <td>12.00</td>\n",
       "      <td>31.00</td>\n",
       "      <td>6.02</td>\n",
       "      <td>6.15</td>\n",
       "      <td>1.00</td>\n",
       "    </tr>\n",
       "  </tbody>\n",
       "</table>\n",
       "</div>"
      ],
      "text/plain": [
       "       Month_to_end_contract  Lifetime  Avg_class_frequency_total  \\\n",
       "count                4000.00   4000.00                    4000.00   \n",
       "mean                    4.32      3.72                       1.88   \n",
       "std                     4.19      3.75                       0.97   \n",
       "min                     1.00      0.00                       0.00   \n",
       "25%                     1.00      1.00                       1.18   \n",
       "50%                     1.00      3.00                       1.83   \n",
       "75%                     6.00      5.00                       2.54   \n",
       "max                    12.00     31.00                       6.02   \n",
       "\n",
       "       Avg_class_frequency_current_month   Churn  \n",
       "count                            4000.00 4000.00  \n",
       "mean                                1.77    0.27  \n",
       "std                                 1.05    0.44  \n",
       "min                                 0.00    0.00  \n",
       "25%                                 0.96    0.00  \n",
       "50%                                 1.72    0.00  \n",
       "75%                                 2.51    1.00  \n",
       "max                                 6.15    1.00  "
      ]
     },
     "execution_count": 6,
     "metadata": {},
     "output_type": "execute_result"
    }
   ],
   "source": [
    "gym_churn.iloc[:, 9:].describe()"
   ]
  },
  {
   "cell_type": "markdown",
   "metadata": {},
   "source": [
    "Почти половина признаков категориальные. Анамалий в переменных не наблюдается. Яркий выбросов тоже нет.    \n",
    "Целевая переменная имеет среднее значение 0,27, то есть 27% значений имеет класс \"1\". Другими словами в датесете присутствует дисбаланс классов, при обучении модели это стоит учитывать."
   ]
  },
  {
   "cell_type": "code",
   "execution_count": 7,
   "metadata": {},
   "outputs": [],
   "source": [
    "gym_churn['Month_to_end_contract'] = gym_churn['Month_to_end_contract'].astype('int') # изменим тип на целочисленный"
   ]
  },
  {
   "cell_type": "markdown",
   "metadata": {},
   "source": [
    "Подробнее посмотрим на средние значения признаков."
   ]
  },
  {
   "cell_type": "markdown",
   "metadata": {},
   "source": [
    "## Изучим средние значения признаков в двух группах (ушел/остался)"
   ]
  },
  {
   "cell_type": "code",
   "execution_count": 8,
   "metadata": {},
   "outputs": [
    {
     "data": {
      "text/html": [
       "<style type=\"text/css\">\n",
       "#T_be4a2_row0_col0, #T_be4a2_row1_col1, #T_be4a2_row2_col1, #T_be4a2_row3_col1, #T_be4a2_row4_col1, #T_be4a2_row5_col1, #T_be4a2_row6_col1, #T_be4a2_row7_col1, #T_be4a2_row8_col1, #T_be4a2_row9_col1, #T_be4a2_row10_col1, #T_be4a2_row11_col1, #T_be4a2_row12_col1 {\n",
       "  background-color: #f7fbff;\n",
       "  color: #000000;\n",
       "}\n",
       "#T_be4a2_row0_col1, #T_be4a2_row1_col0, #T_be4a2_row2_col0, #T_be4a2_row3_col0, #T_be4a2_row4_col0, #T_be4a2_row5_col0, #T_be4a2_row6_col0, #T_be4a2_row7_col0, #T_be4a2_row8_col0, #T_be4a2_row9_col0, #T_be4a2_row10_col0, #T_be4a2_row11_col0, #T_be4a2_row12_col0 {\n",
       "  background-color: #58a1cf;\n",
       "  color: #f1f1f1;\n",
       "}\n",
       "</style>\n",
       "<table id=\"T_be4a2_\">\n",
       "  <thead>\n",
       "    <tr>\n",
       "      <th class=\"index_name level0\" >Churn</th>\n",
       "      <th class=\"col_heading level0 col0\" >stay</th>\n",
       "      <th class=\"col_heading level0 col1\" >gone</th>\n",
       "    </tr>\n",
       "  </thead>\n",
       "  <tbody>\n",
       "    <tr>\n",
       "      <th id=\"T_be4a2_level0_row0\" class=\"row_heading level0 row0\" >gender</th>\n",
       "      <td id=\"T_be4a2_row0_col0\" class=\"data row0 col0\" >0.51</td>\n",
       "      <td id=\"T_be4a2_row0_col1\" class=\"data row0 col1\" >0.51</td>\n",
       "    </tr>\n",
       "    <tr>\n",
       "      <th id=\"T_be4a2_level0_row1\" class=\"row_heading level0 row1\" >Near_Location</th>\n",
       "      <td id=\"T_be4a2_row1_col0\" class=\"data row1 col0\" >0.87</td>\n",
       "      <td id=\"T_be4a2_row1_col1\" class=\"data row1 col1\" >0.77</td>\n",
       "    </tr>\n",
       "    <tr>\n",
       "      <th id=\"T_be4a2_level0_row2\" class=\"row_heading level0 row2\" >Partner</th>\n",
       "      <td id=\"T_be4a2_row2_col0\" class=\"data row2 col0\" >0.53</td>\n",
       "      <td id=\"T_be4a2_row2_col1\" class=\"data row2 col1\" >0.36</td>\n",
       "    </tr>\n",
       "    <tr>\n",
       "      <th id=\"T_be4a2_level0_row3\" class=\"row_heading level0 row3\" >Promo_friends</th>\n",
       "      <td id=\"T_be4a2_row3_col0\" class=\"data row3 col0\" >0.35</td>\n",
       "      <td id=\"T_be4a2_row3_col1\" class=\"data row3 col1\" >0.18</td>\n",
       "    </tr>\n",
       "    <tr>\n",
       "      <th id=\"T_be4a2_level0_row4\" class=\"row_heading level0 row4\" >Phone</th>\n",
       "      <td id=\"T_be4a2_row4_col0\" class=\"data row4 col0\" >0.90</td>\n",
       "      <td id=\"T_be4a2_row4_col1\" class=\"data row4 col1\" >0.90</td>\n",
       "    </tr>\n",
       "    <tr>\n",
       "      <th id=\"T_be4a2_level0_row5\" class=\"row_heading level0 row5\" >Contract_period</th>\n",
       "      <td id=\"T_be4a2_row5_col0\" class=\"data row5 col0\" >5.75</td>\n",
       "      <td id=\"T_be4a2_row5_col1\" class=\"data row5 col1\" >1.73</td>\n",
       "    </tr>\n",
       "    <tr>\n",
       "      <th id=\"T_be4a2_level0_row6\" class=\"row_heading level0 row6\" >Group_visits</th>\n",
       "      <td id=\"T_be4a2_row6_col0\" class=\"data row6 col0\" >0.46</td>\n",
       "      <td id=\"T_be4a2_row6_col1\" class=\"data row6 col1\" >0.27</td>\n",
       "    </tr>\n",
       "    <tr>\n",
       "      <th id=\"T_be4a2_level0_row7\" class=\"row_heading level0 row7\" >Age</th>\n",
       "      <td id=\"T_be4a2_row7_col0\" class=\"data row7 col0\" >29.98</td>\n",
       "      <td id=\"T_be4a2_row7_col1\" class=\"data row7 col1\" >26.99</td>\n",
       "    </tr>\n",
       "    <tr>\n",
       "      <th id=\"T_be4a2_level0_row8\" class=\"row_heading level0 row8\" >Avg_additional_charges_total</th>\n",
       "      <td id=\"T_be4a2_row8_col0\" class=\"data row8 col0\" >158.45</td>\n",
       "      <td id=\"T_be4a2_row8_col1\" class=\"data row8 col1\" >115.08</td>\n",
       "    </tr>\n",
       "    <tr>\n",
       "      <th id=\"T_be4a2_level0_row9\" class=\"row_heading level0 row9\" >Month_to_end_contract</th>\n",
       "      <td id=\"T_be4a2_row9_col0\" class=\"data row9 col0\" >5.28</td>\n",
       "      <td id=\"T_be4a2_row9_col1\" class=\"data row9 col1\" >1.66</td>\n",
       "    </tr>\n",
       "    <tr>\n",
       "      <th id=\"T_be4a2_level0_row10\" class=\"row_heading level0 row10\" >Lifetime</th>\n",
       "      <td id=\"T_be4a2_row10_col0\" class=\"data row10 col0\" >4.71</td>\n",
       "      <td id=\"T_be4a2_row10_col1\" class=\"data row10 col1\" >0.99</td>\n",
       "    </tr>\n",
       "    <tr>\n",
       "      <th id=\"T_be4a2_level0_row11\" class=\"row_heading level0 row11\" >Avg_class_frequency_total</th>\n",
       "      <td id=\"T_be4a2_row11_col0\" class=\"data row11 col0\" >2.02</td>\n",
       "      <td id=\"T_be4a2_row11_col1\" class=\"data row11 col1\" >1.47</td>\n",
       "    </tr>\n",
       "    <tr>\n",
       "      <th id=\"T_be4a2_level0_row12\" class=\"row_heading level0 row12\" >Avg_class_frequency_current_month</th>\n",
       "      <td id=\"T_be4a2_row12_col0\" class=\"data row12 col0\" >2.03</td>\n",
       "      <td id=\"T_be4a2_row12_col1\" class=\"data row12 col1\" >1.04</td>\n",
       "    </tr>\n",
       "  </tbody>\n",
       "</table>\n"
      ],
      "text/plain": [
       "<pandas.io.formats.style.Styler at 0x142388e4850>"
      ]
     },
     "execution_count": 8,
     "metadata": {},
     "output_type": "execute_result"
    }
   ],
   "source": [
    "gym_mean = gym_churn.groupby('Churn').agg('mean')\n",
    "gym_mean.rename(index={0:'stay',1:'gone'}, inplace=True)\n",
    "gym_mean.T.style.format(\"{:.2f}\").background_gradient(cmap='Blues', axis=1,high=0.8)"
   ]
  },
  {
   "cell_type": "markdown",
   "metadata": {},
   "source": [
    "По некоторым признакам средние значения сильно отличаются в зависимости от группы. А по некоторым почти не отличаются. Средние значения большинства признаков выше в группе клиентов, которые остались (`stay`).  \n",
    "Здесь можно сделать первые предположения о влиянии признаков: Средняя частота посещения, Возраст, Срок абонемента, Время с 1-го посещения могут оказывать влияние на целевую переменную. Напротив признаки: Пол, Наличие контактного телефона и Близость фитнес клуба практические не оказывают влияние."
   ]
  },
  {
   "cell_type": "markdown",
   "metadata": {},
   "source": [
    "## Построим гистограммы и изучим распределения признаков в разрезе групп."
   ]
  },
  {
   "cell_type": "markdown",
   "metadata": {},
   "source": [
    "Разделим наши данные на признаки (матрица X) и целевую переменную (y)"
   ]
  },
  {
   "cell_type": "code",
   "execution_count": 9,
   "metadata": {},
   "outputs": [],
   "source": [
    "X = gym_churn.drop('Churn', axis=1)\n",
    "y = gym_churn['Churn']"
   ]
  },
  {
   "cell_type": "markdown",
   "metadata": {},
   "source": [
    "Построим графики:"
   ]
  },
  {
   "cell_type": "code",
   "execution_count": 10,
   "metadata": {},
   "outputs": [],
   "source": [
    "features=list(X.columns) #список признаков"
   ]
  },
  {
   "cell_type": "code",
   "execution_count": 11,
   "metadata": {},
   "outputs": [
    {
     "data": {
      "image/png": "[encoded data removed]",
      "text/plain": [
       "<Figure size 1296x1440 with 15 Axes>"
      ]
     },
     "metadata": {
      "needs_background": "light"
     },
     "output_type": "display_data"
    }
   ],
   "source": [
    "fig, axs = plt.subplots(5, 3, figsize=(18,20), constrained_layout=True, sharex=False, sharey=False)\n",
    "fig.suptitle(\"Распределение признаков\", fontsize=16)\n",
    "for ax, feature in zip(axs.flat, features):\n",
    "    sns.histplot(data=gym_churn, x=gym_churn[feature], hue='Churn', kde=True, ax=ax)\n",
    "    ax.set_xlabel(None)\n",
    "    ax.set_ylabel(None) \n",
    "    ax.set_title(feature)"
   ]
  },
  {
   "cell_type": "markdown",
   "metadata": {},
   "source": [
    "Из всех числовых переменных нормальное распределение имеет, пожалуй, только возраст. И близко к нормальному распределению средняя частота посещений (за предыдущий месяц и за весь период). Кроме того очень схожее распределение двух признаков, средняя частота посещений за последний месяц и за весь период почти не отличаются. Также похожи признаки Срок абонемента и Срок до конца абонемента. "
   ]
  },
  {
   "cell_type": "markdown",
   "metadata": {},
   "source": [
    "Разница в распределении признака в зависимости от группы клиента(ушел/остался) наблюдается у признаков: Средняя частота посещения, Возраст, Срок абонемента, Время с 1-го посещения. Как и в случае сосредними значениями у признаки: Пол, Наличие контактного телефона и Близость фитнес клуба практические не наблюдается серьезной разницы в распределениях в зависимости от группы коиента (ушел/остался)."
   ]
  },
  {
   "cell_type": "markdown",
   "metadata": {},
   "source": [
    "## Построим матрицу корреляций и heatmap."
   ]
  },
  {
   "cell_type": "code",
   "execution_count": 12,
   "metadata": {},
   "outputs": [
    {
     "data": {
      "text/html": [
       "<div>\n",
       "<style scoped>\n",
       "    .dataframe tbody tr th:only-of-type {\n",
       "        vertical-align: middle;\n",
       "    }\n",
       "\n",
       "    .dataframe tbody tr th {\n",
       "        vertical-align: top;\n",
       "    }\n",
       "\n",
       "    .dataframe thead th {\n",
       "        text-align: right;\n",
       "    }\n",
       "</style>\n",
       "<table border=\"1\" class=\"dataframe\">\n",
       "  <thead>\n",
       "    <tr style=\"text-align: right;\">\n",
       "      <th></th>\n",
       "      <th>gender</th>\n",
       "      <th>Near_Location</th>\n",
       "      <th>Partner</th>\n",
       "      <th>Promo_friends</th>\n",
       "      <th>Phone</th>\n",
       "      <th>Contract_period</th>\n",
       "      <th>Group_visits</th>\n",
       "      <th>Age</th>\n",
       "      <th>Avg_additional_charges_total</th>\n",
       "      <th>Month_to_end_contract</th>\n",
       "      <th>Lifetime</th>\n",
       "      <th>Avg_class_frequency_total</th>\n",
       "      <th>Avg_class_frequency_current_month</th>\n",
       "      <th>Churn</th>\n",
       "    </tr>\n",
       "  </thead>\n",
       "  <tbody>\n",
       "    <tr>\n",
       "      <th>gender</th>\n",
       "      <td>1.00</td>\n",
       "      <td>0.01</td>\n",
       "      <td>-0.01</td>\n",
       "      <td>-0.01</td>\n",
       "      <td>-0.01</td>\n",
       "      <td>0.00</td>\n",
       "      <td>0.02</td>\n",
       "      <td>0.01</td>\n",
       "      <td>-0.01</td>\n",
       "      <td>-0.00</td>\n",
       "      <td>0.01</td>\n",
       "      <td>0.01</td>\n",
       "      <td>0.01</td>\n",
       "      <td>0.00</td>\n",
       "    </tr>\n",
       "    <tr>\n",
       "      <th>Near_Location</th>\n",
       "      <td>0.01</td>\n",
       "      <td>1.00</td>\n",
       "      <td>-0.01</td>\n",
       "      <td>0.21</td>\n",
       "      <td>-0.02</td>\n",
       "      <td>0.15</td>\n",
       "      <td>0.15</td>\n",
       "      <td>0.06</td>\n",
       "      <td>0.04</td>\n",
       "      <td>0.14</td>\n",
       "      <td>0.07</td>\n",
       "      <td>0.04</td>\n",
       "      <td>0.06</td>\n",
       "      <td>-0.13</td>\n",
       "    </tr>\n",
       "    <tr>\n",
       "      <th>Partner</th>\n",
       "      <td>-0.01</td>\n",
       "      <td>-0.01</td>\n",
       "      <td>1.00</td>\n",
       "      <td>0.45</td>\n",
       "      <td>0.01</td>\n",
       "      <td>0.31</td>\n",
       "      <td>0.02</td>\n",
       "      <td>0.05</td>\n",
       "      <td>0.02</td>\n",
       "      <td>0.29</td>\n",
       "      <td>0.06</td>\n",
       "      <td>0.02</td>\n",
       "      <td>0.05</td>\n",
       "      <td>-0.16</td>\n",
       "    </tr>\n",
       "    <tr>\n",
       "      <th>Promo_friends</th>\n",
       "      <td>-0.01</td>\n",
       "      <td>0.21</td>\n",
       "      <td>0.45</td>\n",
       "      <td>1.00</td>\n",
       "      <td>0.00</td>\n",
       "      <td>0.24</td>\n",
       "      <td>0.12</td>\n",
       "      <td>0.05</td>\n",
       "      <td>0.04</td>\n",
       "      <td>0.24</td>\n",
       "      <td>0.07</td>\n",
       "      <td>0.03</td>\n",
       "      <td>0.05</td>\n",
       "      <td>-0.16</td>\n",
       "    </tr>\n",
       "    <tr>\n",
       "      <th>Phone</th>\n",
       "      <td>-0.01</td>\n",
       "      <td>-0.02</td>\n",
       "      <td>0.01</td>\n",
       "      <td>0.00</td>\n",
       "      <td>1.00</td>\n",
       "      <td>-0.01</td>\n",
       "      <td>-0.01</td>\n",
       "      <td>-0.01</td>\n",
       "      <td>0.01</td>\n",
       "      <td>-0.01</td>\n",
       "      <td>-0.02</td>\n",
       "      <td>0.01</td>\n",
       "      <td>0.01</td>\n",
       "      <td>-0.00</td>\n",
       "    </tr>\n",
       "    <tr>\n",
       "      <th>Contract_period</th>\n",
       "      <td>0.00</td>\n",
       "      <td>0.15</td>\n",
       "      <td>0.31</td>\n",
       "      <td>0.24</td>\n",
       "      <td>-0.01</td>\n",
       "      <td>1.00</td>\n",
       "      <td>0.17</td>\n",
       "      <td>0.14</td>\n",
       "      <td>0.11</td>\n",
       "      <td>0.97</td>\n",
       "      <td>0.17</td>\n",
       "      <td>0.10</td>\n",
       "      <td>0.16</td>\n",
       "      <td>-0.39</td>\n",
       "    </tr>\n",
       "    <tr>\n",
       "      <th>Group_visits</th>\n",
       "      <td>0.02</td>\n",
       "      <td>0.15</td>\n",
       "      <td>0.02</td>\n",
       "      <td>0.12</td>\n",
       "      <td>-0.01</td>\n",
       "      <td>0.17</td>\n",
       "      <td>1.00</td>\n",
       "      <td>0.08</td>\n",
       "      <td>0.03</td>\n",
       "      <td>0.16</td>\n",
       "      <td>0.08</td>\n",
       "      <td>0.06</td>\n",
       "      <td>0.08</td>\n",
       "      <td>-0.18</td>\n",
       "    </tr>\n",
       "    <tr>\n",
       "      <th>Age</th>\n",
       "      <td>0.01</td>\n",
       "      <td>0.06</td>\n",
       "      <td>0.05</td>\n",
       "      <td>0.05</td>\n",
       "      <td>-0.01</td>\n",
       "      <td>0.14</td>\n",
       "      <td>0.08</td>\n",
       "      <td>1.00</td>\n",
       "      <td>0.08</td>\n",
       "      <td>0.13</td>\n",
       "      <td>0.16</td>\n",
       "      <td>0.12</td>\n",
       "      <td>0.18</td>\n",
       "      <td>-0.40</td>\n",
       "    </tr>\n",
       "    <tr>\n",
       "      <th>Avg_additional_charges_total</th>\n",
       "      <td>-0.01</td>\n",
       "      <td>0.04</td>\n",
       "      <td>0.02</td>\n",
       "      <td>0.04</td>\n",
       "      <td>0.01</td>\n",
       "      <td>0.11</td>\n",
       "      <td>0.03</td>\n",
       "      <td>0.08</td>\n",
       "      <td>1.00</td>\n",
       "      <td>0.11</td>\n",
       "      <td>0.08</td>\n",
       "      <td>0.04</td>\n",
       "      <td>0.08</td>\n",
       "      <td>-0.20</td>\n",
       "    </tr>\n",
       "    <tr>\n",
       "      <th>Month_to_end_contract</th>\n",
       "      <td>-0.00</td>\n",
       "      <td>0.14</td>\n",
       "      <td>0.29</td>\n",
       "      <td>0.24</td>\n",
       "      <td>-0.01</td>\n",
       "      <td>0.97</td>\n",
       "      <td>0.16</td>\n",
       "      <td>0.13</td>\n",
       "      <td>0.11</td>\n",
       "      <td>1.00</td>\n",
       "      <td>0.16</td>\n",
       "      <td>0.09</td>\n",
       "      <td>0.15</td>\n",
       "      <td>-0.38</td>\n",
       "    </tr>\n",
       "    <tr>\n",
       "      <th>Lifetime</th>\n",
       "      <td>0.01</td>\n",
       "      <td>0.07</td>\n",
       "      <td>0.06</td>\n",
       "      <td>0.07</td>\n",
       "      <td>-0.02</td>\n",
       "      <td>0.17</td>\n",
       "      <td>0.08</td>\n",
       "      <td>0.16</td>\n",
       "      <td>0.08</td>\n",
       "      <td>0.16</td>\n",
       "      <td>1.00</td>\n",
       "      <td>0.11</td>\n",
       "      <td>0.18</td>\n",
       "      <td>-0.44</td>\n",
       "    </tr>\n",
       "    <tr>\n",
       "      <th>Avg_class_frequency_total</th>\n",
       "      <td>0.01</td>\n",
       "      <td>0.04</td>\n",
       "      <td>0.02</td>\n",
       "      <td>0.03</td>\n",
       "      <td>0.01</td>\n",
       "      <td>0.10</td>\n",
       "      <td>0.06</td>\n",
       "      <td>0.12</td>\n",
       "      <td>0.04</td>\n",
       "      <td>0.09</td>\n",
       "      <td>0.11</td>\n",
       "      <td>1.00</td>\n",
       "      <td>0.95</td>\n",
       "      <td>-0.25</td>\n",
       "    </tr>\n",
       "    <tr>\n",
       "      <th>Avg_class_frequency_current_month</th>\n",
       "      <td>0.01</td>\n",
       "      <td>0.06</td>\n",
       "      <td>0.05</td>\n",
       "      <td>0.05</td>\n",
       "      <td>0.01</td>\n",
       "      <td>0.16</td>\n",
       "      <td>0.08</td>\n",
       "      <td>0.18</td>\n",
       "      <td>0.08</td>\n",
       "      <td>0.15</td>\n",
       "      <td>0.18</td>\n",
       "      <td>0.95</td>\n",
       "      <td>1.00</td>\n",
       "      <td>-0.41</td>\n",
       "    </tr>\n",
       "    <tr>\n",
       "      <th>Churn</th>\n",
       "      <td>0.00</td>\n",
       "      <td>-0.13</td>\n",
       "      <td>-0.16</td>\n",
       "      <td>-0.16</td>\n",
       "      <td>-0.00</td>\n",
       "      <td>-0.39</td>\n",
       "      <td>-0.18</td>\n",
       "      <td>-0.40</td>\n",
       "      <td>-0.20</td>\n",
       "      <td>-0.38</td>\n",
       "      <td>-0.44</td>\n",
       "      <td>-0.25</td>\n",
       "      <td>-0.41</td>\n",
       "      <td>1.00</td>\n",
       "    </tr>\n",
       "  </tbody>\n",
       "</table>\n",
       "</div>"
      ],
      "text/plain": [
       "                                   gender  Near_Location  Partner  \\\n",
       "gender                               1.00           0.01    -0.01   \n",
       "Near_Location                        0.01           1.00    -0.01   \n",
       "Partner                             -0.01          -0.01     1.00   \n",
       "Promo_friends                       -0.01           0.21     0.45   \n",
       "Phone                               -0.01          -0.02     0.01   \n",
       "Contract_period                      0.00           0.15     0.31   \n",
       "Group_visits                         0.02           0.15     0.02   \n",
       "Age                                  0.01           0.06     0.05   \n",
       "Avg_additional_charges_total        -0.01           0.04     0.02   \n",
       "Month_to_end_contract               -0.00           0.14     0.29   \n",
       "Lifetime                             0.01           0.07     0.06   \n",
       "Avg_class_frequency_total            0.01           0.04     0.02   \n",
       "Avg_class_frequency_current_month    0.01           0.06     0.05   \n",
       "Churn                                0.00          -0.13    -0.16   \n",
       "\n",
       "                                   Promo_friends  Phone  Contract_period  \\\n",
       "gender                                     -0.01  -0.01             0.00   \n",
       "Near_Location                               0.21  -0.02             0.15   \n",
       "Partner                                     0.45   0.01             0.31   \n",
       "Promo_friends                               1.00   0.00             0.24   \n",
       "Phone                                       0.00   1.00            -0.01   \n",
       "Contract_period                             0.24  -0.01             1.00   \n",
       "Group_visits                                0.12  -0.01             0.17   \n",
       "Age                                         0.05  -0.01             0.14   \n",
       "Avg_additional_charges_total                0.04   0.01             0.11   \n",
       "Month_to_end_contract                       0.24  -0.01             0.97   \n",
       "Lifetime                                    0.07  -0.02             0.17   \n",
       "Avg_class_frequency_total                   0.03   0.01             0.10   \n",
       "Avg_class_frequency_current_month           0.05   0.01             0.16   \n",
       "Churn                                      -0.16  -0.00            -0.39   \n",
       "\n",
       "                                   Group_visits   Age  \\\n",
       "gender                                     0.02  0.01   \n",
       "Near_Location                              0.15  0.06   \n",
       "Partner                                    0.02  0.05   \n",
       "Promo_friends                              0.12  0.05   \n",
       "Phone                                     -0.01 -0.01   \n",
       "Contract_period                            0.17  0.14   \n",
       "Group_visits                               1.00  0.08   \n",
       "Age                                        0.08  1.00   \n",
       "Avg_additional_charges_total               0.03  0.08   \n",
       "Month_to_end_contract                      0.16  0.13   \n",
       "Lifetime                                   0.08  0.16   \n",
       "Avg_class_frequency_total                  0.06  0.12   \n",
       "Avg_class_frequency_current_month          0.08  0.18   \n",
       "Churn                                     -0.18 -0.40   \n",
       "\n",
       "                                   Avg_additional_charges_total  \\\n",
       "gender                                                    -0.01   \n",
       "Near_Location                                              0.04   \n",
       "Partner                                                    0.02   \n",
       "Promo_friends                                              0.04   \n",
       "Phone                                                      0.01   \n",
       "Contract_period                                            0.11   \n",
       "Group_visits                                               0.03   \n",
       "Age                                                        0.08   \n",
       "Avg_additional_charges_total                               1.00   \n",
       "Month_to_end_contract                                      0.11   \n",
       "Lifetime                                                   0.08   \n",
       "Avg_class_frequency_total                                  0.04   \n",
       "Avg_class_frequency_current_month                          0.08   \n",
       "Churn                                                     -0.20   \n",
       "\n",
       "                                   Month_to_end_contract  Lifetime  \\\n",
       "gender                                             -0.00      0.01   \n",
       "Near_Location                                       0.14      0.07   \n",
       "Partner                                             0.29      0.06   \n",
       "Promo_friends                                       0.24      0.07   \n",
       "Phone                                              -0.01     -0.02   \n",
       "Contract_period                                     0.97      0.17   \n",
       "Group_visits                                        0.16      0.08   \n",
       "Age                                                 0.13      0.16   \n",
       "Avg_additional_charges_total                        0.11      0.08   \n",
       "Month_to_end_contract                               1.00      0.16   \n",
       "Lifetime                                            0.16      1.00   \n",
       "Avg_class_frequency_total                           0.09      0.11   \n",
       "Avg_class_frequency_current_month                   0.15      0.18   \n",
       "Churn                                              -0.38     -0.44   \n",
       "\n",
       "                                   Avg_class_frequency_total  \\\n",
       "gender                                                  0.01   \n",
       "Near_Location                                           0.04   \n",
       "Partner                                                 0.02   \n",
       "Promo_friends                                           0.03   \n",
       "Phone                                                   0.01   \n",
       "Contract_period                                         0.10   \n",
       "Group_visits                                            0.06   \n",
       "Age                                                     0.12   \n",
       "Avg_additional_charges_total                            0.04   \n",
       "Month_to_end_contract                                   0.09   \n",
       "Lifetime                                                0.11   \n",
       "Avg_class_frequency_total                               1.00   \n",
       "Avg_class_frequency_current_month                       0.95   \n",
       "Churn                                                  -0.25   \n",
       "\n",
       "                                   Avg_class_frequency_current_month  Churn  \n",
       "gender                                                          0.01   0.00  \n",
       "Near_Location                                                   0.06  -0.13  \n",
       "Partner                                                         0.05  -0.16  \n",
       "Promo_friends                                                   0.05  -0.16  \n",
       "Phone                                                           0.01  -0.00  \n",
       "Contract_period                                                 0.16  -0.39  \n",
       "Group_visits                                                    0.08  -0.18  \n",
       "Age                                                             0.18  -0.40  \n",
       "Avg_additional_charges_total                                    0.08  -0.20  \n",
       "Month_to_end_contract                                           0.15  -0.38  \n",
       "Lifetime                                                        0.18  -0.44  \n",
       "Avg_class_frequency_total                                       0.95  -0.25  \n",
       "Avg_class_frequency_current_month                               1.00  -0.41  \n",
       "Churn                                                          -0.41   1.00  "
      ]
     },
     "execution_count": 12,
     "metadata": {},
     "output_type": "execute_result"
    }
   ],
   "source": [
    "cm = gym_churn.corr()\n",
    "cm"
   ]
  },
  {
   "cell_type": "code",
   "execution_count": 13,
   "metadata": {},
   "outputs": [
    {
     "data": {
      "image/png": "[encoded data removed]",
      "text/plain": [
       "<Figure size 1008x576 with 2 Axes>"
      ]
     },
     "metadata": {
      "needs_background": "light"
     },
     "output_type": "display_data"
    }
   ],
   "source": [
    "plt.figure(figsize=(14,8))\n",
    "sns.heatmap(cm, annot=True, fmt='.1f', square=True, center=0);"
   ]
  },
  {
   "cell_type": "markdown",
   "metadata": {},
   "source": [
    "Ни один признак не имеет сильной корреляции с целевой переменной. Как мы и предпологали более выраженное влияние (слабая корреляция) имеют признаки:\n",
    "- Средняя частота посещения за предыдущий месяц; \n",
    "- Возраст; \n",
    "- Срок абонемента;\n",
    "- Срок до окончания абонемента;\n",
    "- Время с 1-го посещения.   \n",
    "\n",
    "Остальные признаки имееют очень слабую корреляцию либо отстутсвие корреляции."
   ]
  },
  {
   "cell_type": "markdown",
   "metadata": {},
   "source": [
    "Сильно коррелируют между собой признаки Средняя частота посещения за предыдущий месяц и за весь период. А также признаки Срок абонемента и Срок до окончания абонемента. Большинство клиентов (больше половины) имеют месячный абонемент и срок окончания соответственно у большинства тоже месяц. Для линейных моделей взаимная корреляция нежелательна.  \n",
    "В данном случае тот факт, что большинство клиентов имеют месячный абонемент влияет на взаимозависимость этих признаков. Возможно в будущем если доля клиентов с месячным абонементом будет уменьшаться, то признаки Средняя посещаемость в последний месяц и Срок до окончания абонемента смогут рассказать об оттоке чуть больше.   \n",
    "Для построения модели регрегрессии удалим взаимозависимые признаки. Для модели Случайный лес мультиколлинеарность не повлияет на эффективность прогнозирования модели.  "
   ]
  },
  {
   "cell_type": "markdown",
   "metadata": {},
   "source": [
    "# Построим модель прогнозирования оттока клиентов"
   ]
  },
  {
   "cell_type": "markdown",
   "metadata": {},
   "source": [
    "Наша задача построить модель бинарной классификации клиентов, где целевой признак — факт оттока клиента в следующем месяце. Для этого подойдут следующие алгоритмы: Логистическая регрессия, Случайный лес.  "
   ]
  },
  {
   "cell_type": "markdown",
   "metadata": {},
   "source": [
    "Мы решаем задачу прогнозирования оттока на уровне конкретного клиента на горизонте следующего месяца. То есть наши наблюдения не складываются в последовательный временной ряд, поэтому будем использовать случайное разбиение выборки."
   ]
  },
  {
   "cell_type": "markdown",
   "metadata": {},
   "source": [
    "**Модель LogisticRegression**"
   ]
  },
  {
   "cell_type": "code",
   "execution_count": 14,
   "metadata": {},
   "outputs": [],
   "source": [
    "X_part = gym_churn.drop(['Churn', 'Avg_class_frequency_total', 'Month_to_end_contract'], axis=1) #удаляем взаимозависимые признаки\n",
    "y = gym_churn['Churn']"
   ]
  },
  {
   "cell_type": "code",
   "execution_count": 15,
   "metadata": {},
   "outputs": [],
   "source": [
    "# разделяем модель на обучающую и валидационную выборку.\n",
    "X_train, X_test, y_train, y_test = train_test_split(X_part, y, stratify=y, test_size=0.2, random_state=0)"
   ]
  },
  {
   "cell_type": "code",
   "execution_count": 16,
   "metadata": {},
   "outputs": [],
   "source": [
    "# проведем стандартизацию для линейной модели\n",
    "scaler = StandardScaler() \n",
    "X_train_st = scaler.fit_transform(X_train)\n",
    "X_test_st = scaler.transform(X_test)"
   ]
  },
  {
   "cell_type": "code",
   "execution_count": 17,
   "metadata": {},
   "outputs": [],
   "source": [
    "model_lr = LogisticRegression(solver='liblinear', random_state=0)\n",
    "model_lr.fit(X_train_st, y_train)\n",
    "\n",
    "predictions_lr = model_lr.predict(X_test_st)\n",
    "probabilities_lr = model_lr.predict_proba(X_test_st)[:, 1]"
   ]
  },
  {
   "cell_type": "markdown",
   "metadata": {},
   "source": [
    "**Модель RandomForestClassifier**"
   ]
  },
  {
   "cell_type": "code",
   "execution_count": 18,
   "metadata": {},
   "outputs": [],
   "source": [
    "X = gym_churn.drop('Churn', axis=1) # для модели Случайный лес будем использовать все признаки"
   ]
  },
  {
   "cell_type": "code",
   "execution_count": 19,
   "metadata": {},
   "outputs": [],
   "source": [
    "# разделяем модель на обучающую и валидационную выборки\n",
    "X_train, X_test, y_train, y_test = train_test_split(X, y, stratify=y, test_size=0.2, random_state=0)"
   ]
  },
  {
   "cell_type": "code",
   "execution_count": 20,
   "metadata": {},
   "outputs": [],
   "source": [
    "model_rf = RandomForestClassifier(n_estimators = 100, random_state=0)\n",
    "model_rf.fit(X_train, y_train)\n",
    "\n",
    "predictions_rf = model_rf.predict(X_test)\n",
    "probabilities_rf = model_rf.predict_proba(X_test)[:, 1]"
   ]
  },
  {
   "cell_type": "markdown",
   "metadata": {},
   "source": [
    "**Выбор модели для прогнозирования**"
   ]
  },
  {
   "cell_type": "code",
   "execution_count": 21,
   "metadata": {
    "scrolled": true
   },
   "outputs": [
    {
     "name": "stdout",
     "output_type": "stream",
     "text": [
      "Метрики для моделей:\n",
      "Логистическая регрессия - Accuracy:0.92 Precision:0.85 Recall:0.84\n",
      "          Случайный лес - Accuracy:0.92 Precision:0.88 Recall:0.83\n"
     ]
    }
   ],
   "source": [
    "print('Метрики для моделей:')\n",
    "print(f\"Логистическая регрессия - Accuracy:{accuracy_score(y_test, predictions_lr):.2f} Precision:{precision_score(y_test, predictions_lr):.2f} Recall:{recall_score(y_test, predictions_lr):.2f}\")\n",
    "print(f\"          Случайный лес - Accuracy:{accuracy_score(y_test, predictions_rf):.2f} Precision:{precision_score(y_test, predictions_rf):.2f} Recall:{recall_score(y_test, predictions_rf):.2f}\")"
   ]
  },
  {
   "cell_type": "markdown",
   "metadata": {},
   "source": [
    "При данных параметрах чуть лучше метрики у модели Случайный лес. "
   ]
  },
  {
   "cell_type": "markdown",
   "metadata": {},
   "source": [
    "Метрики показываю не плохие результаты.   \n",
    "Мы прогнозируем вероятность оттока клиента в следующем месяце. Нам не так страшно, если модель спрогнозирует факт оттока клиента, который на самом деле не хотел уходить, нежели если мы пропустим клиента, который действительно собирается уходить (для нас более негативный сценарий). Поэтому метрика `Recall` для нас более приоритетна. Попробуем сместить порог вероятности вниз. "
   ]
  },
  {
   "cell_type": "code",
   "execution_count": 22,
   "metadata": {},
   "outputs": [],
   "source": [
    "threshold = 0.3\n",
    "custom_predictions = [0 if i < threshold else 1 for i in probabilities_rf]"
   ]
  },
  {
   "cell_type": "code",
   "execution_count": 23,
   "metadata": {},
   "outputs": [
    {
     "name": "stdout",
     "output_type": "stream",
     "text": [
      "Метрики для модели Случайный лес с заниженным порогом:\n",
      "Accuracy: 0.91\n",
      "Precision: 0.77\n",
      "Recall: 0.92\n"
     ]
    }
   ],
   "source": [
    "print('Метрики для модели Случайный лес с заниженным порогом:')\n",
    "print('Accuracy: {:.2f}'.format(accuracy_score(y_test, custom_predictions)))\n",
    "print('Precision: {:.2f}'.format(precision_score(y_test, custom_predictions)))\n",
    "print('Recall: {:.2f}'.format(recall_score(y_test, custom_predictions)))"
   ]
  },
  {
   "cell_type": "markdown",
   "metadata": {},
   "source": [
    "Как мы и хотели полнота прогноза повысилась. И естественно снизилась точность прогноза. Для нашей бизнес-задачи это более подходящие настройки. Мы можем более детально настроить полноту исходя из потребностей бизнеса."
   ]
  },
  {
   "cell_type": "markdown",
   "metadata": {},
   "source": [
    "**Посмотрим на важность признаков выбранной модели**"
   ]
  },
  {
   "cell_type": "code",
   "execution_count": 24,
   "metadata": {},
   "outputs": [
    {
     "data": {
      "text/html": [
       "<div>\n",
       "<style scoped>\n",
       "    .dataframe tbody tr th:only-of-type {\n",
       "        vertical-align: middle;\n",
       "    }\n",
       "\n",
       "    .dataframe tbody tr th {\n",
       "        vertical-align: top;\n",
       "    }\n",
       "\n",
       "    .dataframe thead th {\n",
       "        text-align: right;\n",
       "    }\n",
       "</style>\n",
       "<table border=\"1\" class=\"dataframe\">\n",
       "  <thead>\n",
       "    <tr style=\"text-align: right;\">\n",
       "      <th></th>\n",
       "      <th>feature</th>\n",
       "      <th>feature_importances</th>\n",
       "    </tr>\n",
       "  </thead>\n",
       "  <tbody>\n",
       "    <tr>\n",
       "      <th>10</th>\n",
       "      <td>Lifetime</td>\n",
       "      <td>0.27</td>\n",
       "    </tr>\n",
       "    <tr>\n",
       "      <th>12</th>\n",
       "      <td>Avg_class_frequency_current_month</td>\n",
       "      <td>0.18</td>\n",
       "    </tr>\n",
       "    <tr>\n",
       "      <th>11</th>\n",
       "      <td>Avg_class_frequency_total</td>\n",
       "      <td>0.14</td>\n",
       "    </tr>\n",
       "    <tr>\n",
       "      <th>7</th>\n",
       "      <td>Age</td>\n",
       "      <td>0.12</td>\n",
       "    </tr>\n",
       "    <tr>\n",
       "      <th>8</th>\n",
       "      <td>Avg_additional_charges_total</td>\n",
       "      <td>0.09</td>\n",
       "    </tr>\n",
       "    <tr>\n",
       "      <th>9</th>\n",
       "      <td>Month_to_end_contract</td>\n",
       "      <td>0.07</td>\n",
       "    </tr>\n",
       "    <tr>\n",
       "      <th>5</th>\n",
       "      <td>Contract_period</td>\n",
       "      <td>0.07</td>\n",
       "    </tr>\n",
       "    <tr>\n",
       "      <th>6</th>\n",
       "      <td>Group_visits</td>\n",
       "      <td>0.02</td>\n",
       "    </tr>\n",
       "    <tr>\n",
       "      <th>0</th>\n",
       "      <td>gender</td>\n",
       "      <td>0.01</td>\n",
       "    </tr>\n",
       "    <tr>\n",
       "      <th>2</th>\n",
       "      <td>Partner</td>\n",
       "      <td>0.01</td>\n",
       "    </tr>\n",
       "    <tr>\n",
       "      <th>3</th>\n",
       "      <td>Promo_friends</td>\n",
       "      <td>0.01</td>\n",
       "    </tr>\n",
       "    <tr>\n",
       "      <th>1</th>\n",
       "      <td>Near_Location</td>\n",
       "      <td>0.01</td>\n",
       "    </tr>\n",
       "    <tr>\n",
       "      <th>4</th>\n",
       "      <td>Phone</td>\n",
       "      <td>0.01</td>\n",
       "    </tr>\n",
       "  </tbody>\n",
       "</table>\n",
       "</div>"
      ],
      "text/plain": [
       "                              feature  feature_importances\n",
       "10                           Lifetime                 0.27\n",
       "12  Avg_class_frequency_current_month                 0.18\n",
       "11          Avg_class_frequency_total                 0.14\n",
       "7                                 Age                 0.12\n",
       "8        Avg_additional_charges_total                 0.09\n",
       "9               Month_to_end_contract                 0.07\n",
       "5                     Contract_period                 0.07\n",
       "6                        Group_visits                 0.02\n",
       "0                              gender                 0.01\n",
       "2                             Partner                 0.01\n",
       "3                       Promo_friends                 0.01\n",
       "1                       Near_Location                 0.01\n",
       "4                               Phone                 0.01"
      ]
     },
     "execution_count": 24,
     "metadata": {},
     "output_type": "execute_result"
    }
   ],
   "source": [
    "df = pd.DataFrame({\"feature\": list(X.columns), \"feature_importances\": list(model_rf.feature_importances_)})\n",
    "df.sort_values('feature_importances',  ascending=False)"
   ]
  },
  {
   "cell_type": "markdown",
   "metadata": {},
   "source": [
    "В целом все достаточно логично. Признаки Время с 1-го посещения, Средняя частота посещения за предыдущий месяц и за все время, Возраст имеют большее влияние на прогноз."
   ]
  },
  {
   "cell_type": "markdown",
   "metadata": {},
   "source": [
    "# Проведем кластеризацию клиентов"
   ]
  },
  {
   "cell_type": "markdown",
   "metadata": {},
   "source": [
    "Проведем сегментацию клиентов. Выделим целевые группы клиентов с помощью алгоритма K-Means.  \n",
    "Для начала оценим количество кластеров с помощью построения Дендограммы."
   ]
  },
  {
   "cell_type": "markdown",
   "metadata": {},
   "source": [
    "## Построим матрицу расстояний и Дендограмму"
   ]
  },
  {
   "cell_type": "code",
   "execution_count": 25,
   "metadata": {},
   "outputs": [],
   "source": [
    "X_sc = scaler.fit_transform(X) # Стандартизируем наши исходные данные признаки (без столбца отток) \n",
    "linked = linkage(X_sc, method = 'ward') # Построим матрицу расстояний функцией linkage() на стандартизованной матрице признаков"
   ]
  },
  {
   "cell_type": "code",
   "execution_count": 26,
   "metadata": {},
   "outputs": [
    {
     "data": {
      "image/png": "[encoded data removed]",
      "text/plain": [
       "<Figure size 1080x720 with 1 Axes>"
      ]
     },
     "metadata": {
      "needs_background": "light"
     },
     "output_type": "display_data"
    }
   ],
   "source": [
    "plt.figure(figsize=(15, 10))  \n",
    "dendrogram(linked, orientation='top') #Построим Дендограмму\n",
    "plt.title('Дендограмма')\n",
    "plt.show()"
   ]
  },
  {
   "cell_type": "markdown",
   "metadata": {},
   "source": [
    "Четыре разных цвета на графике. Можно выделить 4 кластера. По предварительной договоренности будем использовать 5 кластеров."
   ]
  },
  {
   "cell_type": "markdown",
   "metadata": {},
   "source": [
    "## Моделирование KMeans"
   ]
  },
  {
   "cell_type": "code",
   "execution_count": 27,
   "metadata": {},
   "outputs": [],
   "source": [
    "km = KMeans(n_clusters=5, random_state=0)\n",
    "labels = km.fit_predict(X_sc)"
   ]
  },
  {
   "cell_type": "code",
   "execution_count": 28,
   "metadata": {},
   "outputs": [],
   "source": [
    "X['clusters'] = labels # сохраняем метки кластера в поле нашего датасета"
   ]
  },
  {
   "cell_type": "markdown",
   "metadata": {},
   "source": [
    "## Оценим признаки распределенные по кластерам"
   ]
  },
  {
   "cell_type": "markdown",
   "metadata": {},
   "source": [
    "**Посмотрим на средние значения признаков для кластеров**"
   ]
  },
  {
   "cell_type": "code",
   "execution_count": 29,
   "metadata": {},
   "outputs": [
    {
     "data": {
      "text/html": [
       "<style type=\"text/css\">\n",
       "#T_ff41f_row0_col0 {\n",
       "  background-color: #e7f6e2;\n",
       "  color: #000000;\n",
       "}\n",
       "#T_ff41f_row0_col1 {\n",
       "  background-color: #c9eac2;\n",
       "  color: #000000;\n",
       "}\n",
       "#T_ff41f_row0_col2, #T_ff41f_row8_col2 {\n",
       "  background-color: #eef8ea;\n",
       "  color: #000000;\n",
       "}\n",
       "#T_ff41f_row0_col3, #T_ff41f_row1_col2, #T_ff41f_row2_col3, #T_ff41f_row3_col2, #T_ff41f_row4_col1, #T_ff41f_row5_col3, #T_ff41f_row6_col2, #T_ff41f_row7_col3, #T_ff41f_row8_col3, #T_ff41f_row9_col3, #T_ff41f_row10_col3, #T_ff41f_row11_col3, #T_ff41f_row12_col3 {\n",
       "  background-color: #f7fcf5;\n",
       "  color: #000000;\n",
       "}\n",
       "#T_ff41f_row0_col4, #T_ff41f_row4_col4, #T_ff41f_row7_col4, #T_ff41f_row12_col4 {\n",
       "  background-color: #75c477;\n",
       "  color: #000000;\n",
       "}\n",
       "#T_ff41f_row1_col0 {\n",
       "  background-color: #7cc87c;\n",
       "  color: #000000;\n",
       "}\n",
       "#T_ff41f_row1_col1 {\n",
       "  background-color: #8dd08a;\n",
       "  color: #000000;\n",
       "}\n",
       "#T_ff41f_row1_col3, #T_ff41f_row2_col0, #T_ff41f_row3_col0, #T_ff41f_row4_col0, #T_ff41f_row4_col2, #T_ff41f_row4_col3, #T_ff41f_row5_col0, #T_ff41f_row6_col0, #T_ff41f_row8_col4, #T_ff41f_row9_col0, #T_ff41f_row10_col4, #T_ff41f_row11_col4 {\n",
       "  background-color: #73c476;\n",
       "  color: #000000;\n",
       "}\n",
       "#T_ff41f_row1_col4, #T_ff41f_row8_col0 {\n",
       "  background-color: #79c67a;\n",
       "  color: #000000;\n",
       "}\n",
       "#T_ff41f_row2_col1 {\n",
       "  background-color: #e2f4dd;\n",
       "  color: #000000;\n",
       "}\n",
       "#T_ff41f_row2_col2 {\n",
       "  background-color: #e4f5df;\n",
       "  color: #000000;\n",
       "}\n",
       "#T_ff41f_row2_col4 {\n",
       "  background-color: #f6fcf4;\n",
       "  color: #000000;\n",
       "}\n",
       "#T_ff41f_row3_col1, #T_ff41f_row11_col0 {\n",
       "  background-color: #ccebc6;\n",
       "  color: #000000;\n",
       "}\n",
       "#T_ff41f_row3_col3, #T_ff41f_row9_col1 {\n",
       "  background-color: #dcf2d7;\n",
       "  color: #000000;\n",
       "}\n",
       "#T_ff41f_row3_col4 {\n",
       "  background-color: #def2d9;\n",
       "  color: #000000;\n",
       "}\n",
       "#T_ff41f_row5_col1 {\n",
       "  background-color: #ddf2d8;\n",
       "  color: #000000;\n",
       "}\n",
       "#T_ff41f_row5_col2, #T_ff41f_row9_col2 {\n",
       "  background-color: #f4fbf2;\n",
       "  color: #000000;\n",
       "}\n",
       "#T_ff41f_row5_col4 {\n",
       "  background-color: #f1faee;\n",
       "  color: #000000;\n",
       "}\n",
       "#T_ff41f_row6_col1 {\n",
       "  background-color: #b1e0ab;\n",
       "  color: #000000;\n",
       "}\n",
       "#T_ff41f_row6_col3, #T_ff41f_row12_col1 {\n",
       "  background-color: #d5efcf;\n",
       "  color: #000000;\n",
       "}\n",
       "#T_ff41f_row6_col4 {\n",
       "  background-color: #99d595;\n",
       "  color: #000000;\n",
       "}\n",
       "#T_ff41f_row7_col0 {\n",
       "  background-color: #81ca81;\n",
       "  color: #000000;\n",
       "}\n",
       "#T_ff41f_row7_col1 {\n",
       "  background-color: #bbe4b4;\n",
       "  color: #000000;\n",
       "}\n",
       "#T_ff41f_row7_col2, #T_ff41f_row10_col2 {\n",
       "  background-color: #ecf8e8;\n",
       "  color: #000000;\n",
       "}\n",
       "#T_ff41f_row8_col1 {\n",
       "  background-color: #d2edcc;\n",
       "  color: #000000;\n",
       "}\n",
       "#T_ff41f_row9_col4 {\n",
       "  background-color: #f2faef;\n",
       "  color: #000000;\n",
       "}\n",
       "#T_ff41f_row10_col0 {\n",
       "  background-color: #80ca80;\n",
       "  color: #000000;\n",
       "}\n",
       "#T_ff41f_row10_col1 {\n",
       "  background-color: #b7e2b1;\n",
       "  color: #000000;\n",
       "}\n",
       "#T_ff41f_row11_col1 {\n",
       "  background-color: #d7efd1;\n",
       "  color: #000000;\n",
       "}\n",
       "#T_ff41f_row11_col2, #T_ff41f_row12_col2 {\n",
       "  background-color: #e5f5e0;\n",
       "  color: #000000;\n",
       "}\n",
       "#T_ff41f_row12_col0 {\n",
       "  background-color: #c3e7bc;\n",
       "  color: #000000;\n",
       "}\n",
       "</style>\n",
       "<table id=\"T_ff41f_\">\n",
       "  <thead>\n",
       "    <tr>\n",
       "      <th class=\"index_name level0\" >clusters</th>\n",
       "      <th class=\"col_heading level0 col0\" >0</th>\n",
       "      <th class=\"col_heading level0 col1\" >1</th>\n",
       "      <th class=\"col_heading level0 col2\" >2</th>\n",
       "      <th class=\"col_heading level0 col3\" >3</th>\n",
       "      <th class=\"col_heading level0 col4\" >4</th>\n",
       "    </tr>\n",
       "  </thead>\n",
       "  <tbody>\n",
       "    <tr>\n",
       "      <th id=\"T_ff41f_level0_row0\" class=\"row_heading level0 row0\" >gender</th>\n",
       "      <td id=\"T_ff41f_row0_col0\" class=\"data row0 col0\" >0.50</td>\n",
       "      <td id=\"T_ff41f_row0_col1\" class=\"data row0 col1\" >0.52</td>\n",
       "      <td id=\"T_ff41f_row0_col2\" class=\"data row0 col2\" >0.50</td>\n",
       "      <td id=\"T_ff41f_row0_col3\" class=\"data row0 col3\" >0.49</td>\n",
       "      <td id=\"T_ff41f_row0_col4\" class=\"data row0 col4\" >0.56</td>\n",
       "    </tr>\n",
       "    <tr>\n",
       "      <th id=\"T_ff41f_level0_row1\" class=\"row_heading level0 row1\" >Near_Location</th>\n",
       "      <td id=\"T_ff41f_row1_col0\" class=\"data row1 col0\" >0.96</td>\n",
       "      <td id=\"T_ff41f_row1_col1\" class=\"data row1 col1\" >0.86</td>\n",
       "      <td id=\"T_ff41f_row1_col2\" class=\"data row1 col2\" >0.00</td>\n",
       "      <td id=\"T_ff41f_row1_col3\" class=\"data row1 col3\" >1.00</td>\n",
       "      <td id=\"T_ff41f_row1_col4\" class=\"data row1 col4\" >0.98</td>\n",
       "    </tr>\n",
       "    <tr>\n",
       "      <th id=\"T_ff41f_level0_row2\" class=\"row_heading level0 row2\" >Partner</th>\n",
       "      <td id=\"T_ff41f_row2_col0\" class=\"data row2 col0\" >0.78</td>\n",
       "      <td id=\"T_ff41f_row2_col1\" class=\"data row2 col1\" >0.47</td>\n",
       "      <td id=\"T_ff41f_row2_col2\" class=\"data row2 col2\" >0.46</td>\n",
       "      <td id=\"T_ff41f_row2_col3\" class=\"data row2 col3\" >0.35</td>\n",
       "      <td id=\"T_ff41f_row2_col4\" class=\"data row2 col4\" >0.36</td>\n",
       "    </tr>\n",
       "    <tr>\n",
       "      <th id=\"T_ff41f_level0_row3\" class=\"row_heading level0 row3\" >Promo_friends</th>\n",
       "      <td id=\"T_ff41f_row3_col0\" class=\"data row3 col0\" >0.57</td>\n",
       "      <td id=\"T_ff41f_row3_col1\" class=\"data row3 col1\" >0.31</td>\n",
       "      <td id=\"T_ff41f_row3_col2\" class=\"data row3 col2\" >0.08</td>\n",
       "      <td id=\"T_ff41f_row3_col3\" class=\"data row3 col3\" >0.24</td>\n",
       "      <td id=\"T_ff41f_row3_col4\" class=\"data row3 col4\" >0.23</td>\n",
       "    </tr>\n",
       "    <tr>\n",
       "      <th id=\"T_ff41f_level0_row4\" class=\"row_heading level0 row4\" >Phone</th>\n",
       "      <td id=\"T_ff41f_row4_col0\" class=\"data row4 col0\" >1.00</td>\n",
       "      <td id=\"T_ff41f_row4_col1\" class=\"data row4 col1\" >0.00</td>\n",
       "      <td id=\"T_ff41f_row4_col2\" class=\"data row4 col2\" >1.00</td>\n",
       "      <td id=\"T_ff41f_row4_col3\" class=\"data row4 col3\" >1.00</td>\n",
       "      <td id=\"T_ff41f_row4_col4\" class=\"data row4 col4\" >1.00</td>\n",
       "    </tr>\n",
       "    <tr>\n",
       "      <th id=\"T_ff41f_level0_row5\" class=\"row_heading level0 row5\" >Contract_period</th>\n",
       "      <td id=\"T_ff41f_row5_col0\" class=\"data row5 col0\" >10.89</td>\n",
       "      <td id=\"T_ff41f_row5_col1\" class=\"data row5 col1\" >4.79</td>\n",
       "      <td id=\"T_ff41f_row5_col2\" class=\"data row5 col2\" >2.35</td>\n",
       "      <td id=\"T_ff41f_row5_col3\" class=\"data row5 col3\" >1.95</td>\n",
       "      <td id=\"T_ff41f_row5_col4\" class=\"data row5 col4\" >2.67</td>\n",
       "    </tr>\n",
       "    <tr>\n",
       "      <th id=\"T_ff41f_level0_row6\" class=\"row_heading level0 row6\" >Group_visits</th>\n",
       "      <td id=\"T_ff41f_row6_col0\" class=\"data row6 col0\" >0.54</td>\n",
       "      <td id=\"T_ff41f_row6_col1\" class=\"data row6 col1\" >0.43</td>\n",
       "      <td id=\"T_ff41f_row6_col2\" class=\"data row6 col2\" >0.22</td>\n",
       "      <td id=\"T_ff41f_row6_col3\" class=\"data row6 col3\" >0.34</td>\n",
       "      <td id=\"T_ff41f_row6_col4\" class=\"data row6 col4\" >0.47</td>\n",
       "    </tr>\n",
       "    <tr>\n",
       "      <th id=\"T_ff41f_level0_row7\" class=\"row_heading level0 row7\" >Age</th>\n",
       "      <td id=\"T_ff41f_row7_col0\" class=\"data row7 col0\" >29.98</td>\n",
       "      <td id=\"T_ff41f_row7_col1\" class=\"data row7 col1\" >29.30</td>\n",
       "      <td id=\"T_ff41f_row7_col2\" class=\"data row7 col2\" >28.48</td>\n",
       "      <td id=\"T_ff41f_row7_col3\" class=\"data row7 col3\" >28.17</td>\n",
       "      <td id=\"T_ff41f_row7_col4\" class=\"data row7 col4\" >30.13</td>\n",
       "    </tr>\n",
       "    <tr>\n",
       "      <th id=\"T_ff41f_level0_row8\" class=\"row_heading level0 row8\" >Avg_additional_charges_total</th>\n",
       "      <td id=\"T_ff41f_row8_col0\" class=\"data row8 col0\" >160.76</td>\n",
       "      <td id=\"T_ff41f_row8_col1\" class=\"data row8 col1\" >143.96</td>\n",
       "      <td id=\"T_ff41f_row8_col2\" class=\"data row8 col2\" >135.46</td>\n",
       "      <td id=\"T_ff41f_row8_col3\" class=\"data row8 col3\" >131.62</td>\n",
       "      <td id=\"T_ff41f_row8_col4\" class=\"data row8 col4\" >161.66</td>\n",
       "    </tr>\n",
       "    <tr>\n",
       "      <th id=\"T_ff41f_level0_row9\" class=\"row_heading level0 row9\" >Month_to_end_contract</th>\n",
       "      <td id=\"T_ff41f_row9_col0\" class=\"data row9 col0\" >9.95</td>\n",
       "      <td id=\"T_ff41f_row9_col1\" class=\"data row9 col1\" >4.48</td>\n",
       "      <td id=\"T_ff41f_row9_col2\" class=\"data row9 col2\" >2.20</td>\n",
       "      <td id=\"T_ff41f_row9_col3\" class=\"data row9 col3\" >1.86</td>\n",
       "      <td id=\"T_ff41f_row9_col4\" class=\"data row9 col4\" >2.46</td>\n",
       "    </tr>\n",
       "    <tr>\n",
       "      <th id=\"T_ff41f_level0_row10\" class=\"row_heading level0 row10\" >Lifetime</th>\n",
       "      <td id=\"T_ff41f_row10_col0\" class=\"data row10 col0\" >4.74</td>\n",
       "      <td id=\"T_ff41f_row10_col1\" class=\"data row10 col1\" >3.92</td>\n",
       "      <td id=\"T_ff41f_row10_col2\" class=\"data row10 col2\" >2.81</td>\n",
       "      <td id=\"T_ff41f_row10_col3\" class=\"data row10 col3\" >2.44</td>\n",
       "      <td id=\"T_ff41f_row10_col4\" class=\"data row10 col4\" >4.90</td>\n",
       "    </tr>\n",
       "    <tr>\n",
       "      <th id=\"T_ff41f_level0_row11\" class=\"row_heading level0 row11\" >Avg_class_frequency_total</th>\n",
       "      <td id=\"T_ff41f_row11_col0\" class=\"data row11 col0\" >1.98</td>\n",
       "      <td id=\"T_ff41f_row11_col1\" class=\"data row11 col1\" >1.85</td>\n",
       "      <td id=\"T_ff41f_row11_col2\" class=\"data row11 col2\" >1.66</td>\n",
       "      <td id=\"T_ff41f_row11_col3\" class=\"data row11 col3\" >1.25</td>\n",
       "      <td id=\"T_ff41f_row11_col4\" class=\"data row11 col4\" >2.85</td>\n",
       "    </tr>\n",
       "    <tr>\n",
       "      <th id=\"T_ff41f_level0_row12\" class=\"row_heading level0 row12\" >Avg_class_frequency_current_month</th>\n",
       "      <td id=\"T_ff41f_row12_col0\" class=\"data row12 col0\" >1.97</td>\n",
       "      <td id=\"T_ff41f_row12_col1\" class=\"data row12 col1\" >1.72</td>\n",
       "      <td id=\"T_ff41f_row12_col2\" class=\"data row12 col2\" >1.48</td>\n",
       "      <td id=\"T_ff41f_row12_col3\" class=\"data row12 col3\" >1.01</td>\n",
       "      <td id=\"T_ff41f_row12_col4\" class=\"data row12 col4\" >2.85</td>\n",
       "    </tr>\n",
       "  </tbody>\n",
       "</table>\n"
      ],
      "text/plain": [
       "<pandas.io.formats.style.Styler at 0x14243616e80>"
      ]
     },
     "execution_count": 29,
     "metadata": {},
     "output_type": "execute_result"
    }
   ],
   "source": [
    "mean_feature = X.groupby('clusters').agg('mean')\n",
    "mean_feature.T.style.format(\"{:.2f}\").background_gradient(cmap='Greens', axis=1, high=1)"
   ]
  },
  {
   "cell_type": "markdown",
   "metadata": {},
   "source": [
    "Мы видим что средние признаки для кластеров \"0\" и \"4\" выделяются. Также мы видим что средние значения отдельных признаков почти не меняются по кластерам."
   ]
  },
  {
   "cell_type": "markdown",
   "metadata": {},
   "source": [
    "**Построим распределения признаков для кластеров**"
   ]
  },
  {
   "cell_type": "code",
   "execution_count": 30,
   "metadata": {},
   "outputs": [
    {
     "data": {
      "image/png": "[encoded data removed]",
      "text/plain": [
       "<Figure size 1296x1440 with 15 Axes>"
      ]
     },
     "metadata": {
      "needs_background": "light"
     },
     "output_type": "display_data"
    }
   ],
   "source": [
    "ig, axs = plt.subplots(5, 3, figsize=(18,20), constrained_layout=True, sharex=False, sharey=False)\n",
    "fig.suptitle(\"Распределение признаков по кластерам\", fontsize=16)\n",
    "for ax, feature in zip(axs.flat, features):\n",
    "    sns.boxplot(data=X, y=X[feature], x='clusters', palette=\"Set3\", ax=ax)\n",
    "    ax.set_xlabel(None)\n",
    "    ax.set_ylabel(None) \n",
    "    ax.set_title(feature)"
   ]
  },
  {
   "cell_type": "markdown",
   "metadata": {},
   "source": [
    "По распределению можно сделать такие же выводы как и после сравнения средних значений. Мы видим что для признаков Пол, Наличие контактного телефона, Близость фитнес клуба, Посещения групповых занятий распределения для большинства либо для всех кластеров не отличаются.  \n",
    "А более разнообразные распределения по кластерам наблюдаются по признакам, которые оказывали более сильное влияние на прогноз оттока."
   ]
  },
  {
   "cell_type": "markdown",
   "metadata": {},
   "source": [
    "На основании данных распределений можно выделить группу клиентов (кластеры \"0\" и \"4\"). Этим клиентам как правило характерно:\n",
    "- Раньше остальных начали посещать фитнес-клуб;\n",
    "- Средняя посещаемость гораздо выше (больше 2-х раз в неделю);\n",
    "- Они старше остальных клиентов( больше 30лет);\n",
    "- В среднем больше тратят на прочие услуги фитнес-клуба;\n",
    "- Срок абонемента чаще 6 или 12 месяцев.\n",
    "\n",
    "Напротив, сегменты \"3\" и \"2\" не такие активные, это как правило новички, у них месячный абонемент и они как првило моложе.   \n",
    "А сегмент \"1\" это что-то среднее между \"3\",\"2\" и \"0\",\"4\". Также клиенты сегмент \"1\" не оставляют номер телефона, тогда холодные продажи для них не подойдут."
   ]
  },
  {
   "cell_type": "markdown",
   "metadata": {},
   "source": [
    "Посмотрим на количество клиентов в сегментах."
   ]
  },
  {
   "cell_type": "code",
   "execution_count": 31,
   "metadata": {},
   "outputs": [
    {
     "data": {
      "text/plain": [
       "clusters\n",
       "0    1010\n",
       "1     385\n",
       "2     505\n",
       "3    1262\n",
       "4     838\n",
       "Name: gender, dtype: int64"
      ]
     },
     "execution_count": 31,
     "metadata": {},
     "output_type": "execute_result"
    }
   ],
   "source": [
    "X.groupby('clusters')['gender'].agg('count')"
   ]
  },
  {
   "cell_type": "markdown",
   "metadata": {},
   "source": [
    "Сегмент \"1\" не многочисленный. Основная часть клиентов распределена между сегментами  \"3\",\"2\" и \"0\",\"4\"."
   ]
  },
  {
   "cell_type": "markdown",
   "metadata": {},
   "source": [
    "**Посчитаем долю оттока для каждого кластера**"
   ]
  },
  {
   "cell_type": "code",
   "execution_count": 32,
   "metadata": {},
   "outputs": [
    {
     "data": {
      "text/html": [
       "<style type=\"text/css\">\n",
       "</style>\n",
       "<table id=\"T_f2364_\">\n",
       "  <thead>\n",
       "    <tr>\n",
       "      <th class=\"blank level0\" >&nbsp;</th>\n",
       "      <th class=\"col_heading level0 col0\" >clusters</th>\n",
       "      <th class=\"col_heading level0 col1\" >churn_share</th>\n",
       "    </tr>\n",
       "  </thead>\n",
       "  <tbody>\n",
       "    <tr>\n",
       "      <th id=\"T_f2364_level0_row0\" class=\"row_heading level0 row0\" >0</th>\n",
       "      <td id=\"T_f2364_row0_col0\" class=\"data row0 col0\" >0</td>\n",
       "      <td id=\"T_f2364_row0_col1\" class=\"data row0 col1\" >2.77%</td>\n",
       "    </tr>\n",
       "    <tr>\n",
       "      <th id=\"T_f2364_level0_row1\" class=\"row_heading level0 row1\" >4</th>\n",
       "      <td id=\"T_f2364_row1_col0\" class=\"data row1 col0\" >4</td>\n",
       "      <td id=\"T_f2364_row1_col1\" class=\"data row1 col1\" >6.80%</td>\n",
       "    </tr>\n",
       "    <tr>\n",
       "      <th id=\"T_f2364_level0_row2\" class=\"row_heading level0 row2\" >1</th>\n",
       "      <td id=\"T_f2364_row2_col0\" class=\"data row2 col0\" >1</td>\n",
       "      <td id=\"T_f2364_row2_col1\" class=\"data row2 col1\" >26.75%</td>\n",
       "    </tr>\n",
       "    <tr>\n",
       "      <th id=\"T_f2364_level0_row3\" class=\"row_heading level0 row3\" >2</th>\n",
       "      <td id=\"T_f2364_row3_col0\" class=\"data row3 col0\" >2</td>\n",
       "      <td id=\"T_f2364_row3_col1\" class=\"data row3 col1\" >44.36%</td>\n",
       "    </tr>\n",
       "    <tr>\n",
       "      <th id=\"T_f2364_level0_row4\" class=\"row_heading level0 row4\" >3</th>\n",
       "      <td id=\"T_f2364_row4_col0\" class=\"data row4 col0\" >3</td>\n",
       "      <td id=\"T_f2364_row4_col1\" class=\"data row4 col1\" >51.43%</td>\n",
       "    </tr>\n",
       "  </tbody>\n",
       "</table>\n"
      ],
      "text/plain": [
       "<pandas.io.formats.style.Styler at 0x1423dd1ca90>"
      ]
     },
     "execution_count": 32,
     "metadata": {},
     "output_type": "execute_result"
    }
   ],
   "source": [
    "gym_churn['clusters'] = labels\n",
    "gym_churn.groupby('clusters')['Churn'].agg('mean').reset_index().rename(\n",
    "    columns={'Churn': 'churn_share'}).sort_values('churn_share').style.format(\"{:.2%}\", subset=['churn_share'])"
   ]
  },
  {
   "cell_type": "markdown",
   "metadata": {},
   "source": [
    "Доли оттока для кластеров \"0\" и \"4\" достаточно низкие (3% и 7% соответственно) по сравнению с другими кластерами. То есть эти группы пользователей более надежны в плане оттока. А клиенты кластеров \"3\" и \"2\" наоборот склонны к оттоку."
   ]
  },
  {
   "cell_type": "markdown",
   "metadata": {},
   "source": [
    "# Выводы и базовые рекомендации"
   ]
  },
  {
   "cell_type": "markdown",
   "metadata": {},
   "source": [
    "Мы подобрали оптимальную модель для прогнозирования, которая с достаточно большой полнотой обнаруживает вероятности оттока клиента.  \n",
    "Выделили основные сегменты клиентов и определили основные признаки влияющие на отток: Время с 1-го посещения, Средняя частота посещения за предыдущий месяц и за все время, Возраст, Выручка прочих услуг за все время посещения."
   ]
  },
  {
   "cell_type": "markdown",
   "metadata": {},
   "source": [
    "На основании проведенного анализа можно сформулировать следующие рекомендации:\n",
    "- Больше всего доля оттока среди новичков, тех кто впервые купили месячный абонемент. Стоит более детально исследовать этот момент. Почему после пробного месяца они не остаются? Исследовать вовлеченность, удовлетворенность, процесс адаптации в фитнес-клубе;\n",
    "- Стимулировать продажу более длительных абонементов (6, 12 мес). Скидки, дополнительные привелегии, выгоды для держателей таких абонементов;\n",
    "- Клиенты после 30 лет меньше подвержены оттоку. При привлечении новых клиентов стоит больше ориенттироваться на людей возростной категории от 30 до 35 лет."
   ]
  }
 ],
 "metadata": {
  "ExecuteTimeLog": [
   {
    "duration": 135,
    "start_time": "2022-05-15T11:15:23.675Z"
   },
   {
    "duration": 1636,
    "start_time": "2022-05-15T11:30:54.587Z"
   },
   {
    "duration": 21,
    "start_time": "2022-05-15T11:31:41.243Z"
   },
   {
    "duration": 12,
    "start_time": "2022-05-15T11:31:58.909Z"
   },
   {
    "duration": 11,
    "start_time": "2022-05-15T11:32:56.797Z"
   },
   {
    "duration": 38,
    "start_time": "2022-05-15T11:33:06.554Z"
   },
   {
    "duration": 33,
    "start_time": "2022-05-15T12:09:50.506Z"
   },
   {
    "duration": 19,
    "start_time": "2022-05-15T12:11:21.319Z"
   },
   {
    "duration": 25,
    "start_time": "2022-05-15T12:15:03.976Z"
   },
   {
    "duration": 29,
    "start_time": "2022-05-15T12:15:11.262Z"
   },
   {
    "duration": 109,
    "start_time": "2022-05-15T12:15:33.685Z"
   },
   {
    "duration": 14,
    "start_time": "2022-05-15T12:15:50.983Z"
   },
   {
    "duration": 18,
    "start_time": "2022-05-15T12:16:02.519Z"
   },
   {
    "duration": 11,
    "start_time": "2022-05-15T12:24:53.150Z"
   },
   {
    "duration": 10,
    "start_time": "2022-05-15T12:25:07.107Z"
   },
   {
    "duration": 5,
    "start_time": "2022-05-15T13:56:09.669Z"
   },
   {
    "duration": 8229,
    "start_time": "2022-05-15T13:56:11.552Z"
   },
   {
    "duration": 643,
    "start_time": "2022-05-15T14:19:06.838Z"
   },
   {
    "duration": 248,
    "start_time": "2022-05-15T14:27:41.589Z"
   },
   {
    "duration": 286,
    "start_time": "2022-05-15T14:28:02.790Z"
   },
   {
    "duration": 3279,
    "start_time": "2022-05-15T14:31:48.285Z"
   },
   {
    "duration": 20,
    "start_time": "2022-05-15T14:52:06.180Z"
   },
   {
    "duration": 9,
    "start_time": "2022-05-15T14:52:25.655Z"
   },
   {
    "duration": 14,
    "start_time": "2022-05-15T14:52:46.758Z"
   },
   {
    "duration": 1220,
    "start_time": "2022-05-15T14:53:06.063Z"
   },
   {
    "duration": 1198,
    "start_time": "2022-05-15T14:53:53.398Z"
   },
   {
    "duration": 1243,
    "start_time": "2022-05-15T14:54:48.408Z"
   },
   {
    "duration": 83,
    "start_time": "2022-05-15T16:11:56.393Z"
   },
   {
    "duration": 32,
    "start_time": "2022-05-15T16:12:32.195Z"
   },
   {
    "duration": 4,
    "start_time": "2022-05-15T19:32:53.677Z"
   },
   {
    "duration": 7573,
    "start_time": "2022-05-15T19:37:58.355Z"
   },
   {
    "duration": 5114,
    "start_time": "2022-05-15T19:56:19.677Z"
   },
   {
    "duration": 44,
    "start_time": "2022-05-16T14:12:18.990Z"
   },
   {
    "duration": 1868,
    "start_time": "2022-05-16T14:12:37.066Z"
   },
   {
    "duration": 21,
    "start_time": "2022-05-16T14:12:38.936Z"
   },
   {
    "duration": 13,
    "start_time": "2022-05-16T14:12:38.958Z"
   },
   {
    "duration": 32,
    "start_time": "2022-05-16T14:12:38.972Z"
   },
   {
    "duration": 26,
    "start_time": "2022-05-16T14:12:39.006Z"
   },
   {
    "duration": 18,
    "start_time": "2022-05-16T14:12:39.033Z"
   },
   {
    "duration": 6,
    "start_time": "2022-05-16T14:12:44.109Z"
   },
   {
    "duration": 6,
    "start_time": "2022-05-16T14:18:40.931Z"
   },
   {
    "duration": 56,
    "start_time": "2022-05-16T14:21:09.779Z"
   },
   {
    "duration": 3,
    "start_time": "2022-05-16T14:24:38.543Z"
   },
   {
    "duration": 3,
    "start_time": "2022-05-16T14:25:57.305Z"
   },
   {
    "duration": 4441,
    "start_time": "2022-05-16T14:26:22.864Z"
   },
   {
    "duration": 5,
    "start_time": "2022-05-16T18:10:36.628Z"
   },
   {
    "duration": 10,
    "start_time": "2022-05-16T18:10:36.635Z"
   },
   {
    "duration": 14,
    "start_time": "2022-05-16T18:10:36.646Z"
   },
   {
    "duration": 72,
    "start_time": "2022-05-16T18:10:36.662Z"
   },
   {
    "duration": 0,
    "start_time": "2022-05-16T18:10:36.735Z"
   },
   {
    "duration": 5,
    "start_time": "2022-05-16T18:30:21.172Z"
   },
   {
    "duration": 9,
    "start_time": "2022-05-16T18:30:25.814Z"
   },
   {
    "duration": 12,
    "start_time": "2022-05-16T18:30:29.257Z"
   },
   {
    "duration": 7,
    "start_time": "2022-05-16T18:30:32.082Z"
   },
   {
    "duration": 8,
    "start_time": "2022-05-16T18:30:36.502Z"
   },
   {
    "duration": 3,
    "start_time": "2022-05-16T19:10:24.167Z"
   },
   {
    "duration": 8,
    "start_time": "2022-05-16T19:10:26.090Z"
   },
   {
    "duration": 435,
    "start_time": "2022-05-16T19:31:12.634Z"
   },
   {
    "duration": 6,
    "start_time": "2022-05-16T19:31:15.566Z"
   },
   {
    "duration": 10,
    "start_time": "2022-05-16T19:48:56.189Z"
   },
   {
    "duration": 10,
    "start_time": "2022-05-16T19:51:04.855Z"
   },
   {
    "duration": 10,
    "start_time": "2022-05-16T19:51:37.654Z"
   },
   {
    "duration": 9,
    "start_time": "2022-05-16T19:55:25.019Z"
   },
   {
    "duration": 8,
    "start_time": "2022-05-16T19:56:48.645Z"
   },
   {
    "duration": 8,
    "start_time": "2022-05-16T19:57:03.948Z"
   },
   {
    "duration": 2016,
    "start_time": "2022-05-18T11:41:37.744Z"
   },
   {
    "duration": 55,
    "start_time": "2022-05-18T11:41:39.763Z"
   },
   {
    "duration": 15,
    "start_time": "2022-05-18T11:41:39.820Z"
   },
   {
    "duration": 15,
    "start_time": "2022-05-18T11:41:39.837Z"
   },
   {
    "duration": 39,
    "start_time": "2022-05-18T11:41:39.854Z"
   },
   {
    "duration": 30,
    "start_time": "2022-05-18T11:41:39.895Z"
   },
   {
    "duration": 4,
    "start_time": "2022-05-18T11:41:39.927Z"
   },
   {
    "duration": 98,
    "start_time": "2022-05-18T11:41:39.933Z"
   },
   {
    "duration": 4,
    "start_time": "2022-05-18T11:55:28.728Z"
   },
   {
    "duration": 6,
    "start_time": "2022-05-18T11:55:33.651Z"
   },
   {
    "duration": 10,
    "start_time": "2022-05-18T11:55:36.396Z"
   },
   {
    "duration": 14,
    "start_time": "2022-05-18T11:56:18.938Z"
   },
   {
    "duration": 4,
    "start_time": "2022-05-18T12:01:52.000Z"
   },
   {
    "duration": 5,
    "start_time": "2022-05-18T12:01:53.134Z"
   },
   {
    "duration": 420,
    "start_time": "2022-05-18T12:01:55.911Z"
   },
   {
    "duration": 10,
    "start_time": "2022-05-18T12:02:01.589Z"
   },
   {
    "duration": 4,
    "start_time": "2022-05-18T12:05:43.801Z"
   },
   {
    "duration": 8,
    "start_time": "2022-05-18T12:05:45.509Z"
   },
   {
    "duration": 3,
    "start_time": "2022-05-18T12:09:57.534Z"
   },
   {
    "duration": 14,
    "start_time": "2022-05-18T12:09:58.561Z"
   },
   {
    "duration": 189,
    "start_time": "2022-05-18T12:11:04.736Z"
   },
   {
    "duration": 20,
    "start_time": "2022-05-18T12:12:26.397Z"
   },
   {
    "duration": 6,
    "start_time": "2022-05-18T13:13:51.542Z"
   },
   {
    "duration": 104,
    "start_time": "2022-05-18T13:13:51.550Z"
   },
   {
    "duration": 16,
    "start_time": "2022-05-18T13:13:51.655Z"
   },
   {
    "duration": 59,
    "start_time": "2022-05-18T13:13:51.680Z"
   },
   {
    "duration": 41,
    "start_time": "2022-05-18T13:13:51.740Z"
   },
   {
    "duration": 50,
    "start_time": "2022-05-18T13:13:51.782Z"
   },
   {
    "duration": 5,
    "start_time": "2022-05-18T13:13:51.834Z"
   },
   {
    "duration": 40,
    "start_time": "2022-05-18T13:13:51.841Z"
   },
   {
    "duration": 5,
    "start_time": "2022-05-18T13:13:51.884Z"
   },
   {
    "duration": 35,
    "start_time": "2022-05-18T13:13:51.891Z"
   },
   {
    "duration": 7668,
    "start_time": "2022-05-18T13:13:51.929Z"
   },
   {
    "duration": 39,
    "start_time": "2022-05-18T13:13:59.603Z"
   },
   {
    "duration": 1878,
    "start_time": "2022-05-18T13:13:59.645Z"
   },
   {
    "duration": 5,
    "start_time": "2022-05-18T13:14:01.525Z"
   },
   {
    "duration": 32,
    "start_time": "2022-05-18T13:14:01.536Z"
   },
   {
    "duration": 81,
    "start_time": "2022-05-18T13:14:01.575Z"
   },
   {
    "duration": 56,
    "start_time": "2022-05-18T13:14:01.658Z"
   },
   {
    "duration": 35,
    "start_time": "2022-05-18T13:14:01.716Z"
   },
   {
    "duration": 101,
    "start_time": "2022-05-18T13:14:01.753Z"
   },
   {
    "duration": 650,
    "start_time": "2022-05-18T13:14:01.857Z"
   },
   {
    "duration": 15,
    "start_time": "2022-05-18T13:14:02.509Z"
   },
   {
    "duration": 109,
    "start_time": "2022-05-18T13:14:02.526Z"
   },
   {
    "duration": 20,
    "start_time": "2022-05-18T13:14:02.637Z"
   },
   {
    "duration": 27,
    "start_time": "2022-05-18T13:14:02.661Z"
   },
   {
    "duration": 1088,
    "start_time": "2022-05-18T13:14:02.689Z"
   },
   {
    "duration": 156069,
    "start_time": "2022-05-18T13:14:03.785Z"
   },
   {
    "duration": 1447,
    "start_time": "2022-05-18T13:16:39.856Z"
   },
   {
    "duration": 67,
    "start_time": "2022-05-18T13:16:41.305Z"
   },
   {
    "duration": 68,
    "start_time": "2022-05-18T13:16:41.375Z"
   },
   {
    "duration": 3896,
    "start_time": "2022-05-18T13:16:41.445Z"
   },
   {
    "duration": 7,
    "start_time": "2022-05-18T13:16:45.343Z"
   },
   {
    "duration": 31,
    "start_time": "2022-05-18T13:16:45.366Z"
   },
   {
    "duration": 27,
    "start_time": "2022-05-18T13:25:30.855Z"
   },
   {
    "duration": 18,
    "start_time": "2022-05-18T13:27:45.058Z"
   },
   {
    "duration": 2713,
    "start_time": "2022-05-19T13:29:20.480Z"
   },
   {
    "duration": 166,
    "start_time": "2022-05-19T13:29:23.196Z"
   },
   {
    "duration": 32,
    "start_time": "2022-05-19T13:29:23.363Z"
   },
   {
    "duration": 21,
    "start_time": "2022-05-19T13:29:23.406Z"
   },
   {
    "duration": 102,
    "start_time": "2022-05-19T13:29:23.478Z"
   },
   {
    "duration": 31,
    "start_time": "2022-05-19T13:29:23.587Z"
   },
   {
    "duration": 3,
    "start_time": "2022-05-19T13:29:23.620Z"
   },
   {
    "duration": 172,
    "start_time": "2022-05-19T13:29:23.625Z"
   },
   {
    "duration": 10,
    "start_time": "2022-05-19T13:29:23.798Z"
   },
   {
    "duration": 9,
    "start_time": "2022-05-19T13:29:23.813Z"
   },
   {
    "duration": 13192,
    "start_time": "2022-05-19T13:29:23.823Z"
   },
   {
    "duration": 72,
    "start_time": "2022-05-19T13:29:37.017Z"
   },
   {
    "duration": 3296,
    "start_time": "2022-05-19T13:29:37.090Z"
   },
   {
    "duration": 7,
    "start_time": "2022-05-19T13:29:40.393Z"
   },
   {
    "duration": 21,
    "start_time": "2022-05-19T13:29:40.402Z"
   },
   {
    "duration": 61,
    "start_time": "2022-05-19T13:29:40.425Z"
   },
   {
    "duration": 38,
    "start_time": "2022-05-19T13:29:40.487Z"
   },
   {
    "duration": 3,
    "start_time": "2022-05-19T13:29:40.527Z"
   },
   {
    "duration": 50,
    "start_time": "2022-05-19T13:29:40.532Z"
   },
   {
    "duration": 2808,
    "start_time": "2022-05-19T13:29:40.583Z"
   },
   {
    "duration": 12,
    "start_time": "2022-05-19T13:29:43.392Z"
   },
   {
    "duration": 15,
    "start_time": "2022-05-19T13:29:43.405Z"
   },
   {
    "duration": 66,
    "start_time": "2022-05-19T13:29:43.422Z"
   },
   {
    "duration": 30,
    "start_time": "2022-05-19T13:29:43.501Z"
   },
   {
    "duration": 1632,
    "start_time": "2022-05-19T13:29:43.580Z"
   },
   {
    "duration": 302868,
    "start_time": "2022-05-19T13:29:45.221Z"
   },
   {
    "duration": 1588,
    "start_time": "2022-05-19T13:34:48.091Z"
   },
   {
    "duration": 10,
    "start_time": "2022-05-19T13:34:49.681Z"
   },
   {
    "duration": 195,
    "start_time": "2022-05-19T13:34:49.693Z"
   },
   {
    "duration": 8401,
    "start_time": "2022-05-19T13:34:49.899Z"
   },
   {
    "duration": 7,
    "start_time": "2022-05-19T13:34:58.302Z"
   },
   {
    "duration": 73,
    "start_time": "2022-05-19T13:34:58.310Z"
   },
   {
    "duration": 1718,
    "start_time": "2022-05-19T15:30:12.343Z"
   },
   {
    "duration": 50,
    "start_time": "2022-05-19T15:30:14.063Z"
   },
   {
    "duration": 12,
    "start_time": "2022-05-19T15:30:14.115Z"
   },
   {
    "duration": 14,
    "start_time": "2022-05-19T15:30:14.128Z"
   },
   {
    "duration": 28,
    "start_time": "2022-05-19T15:30:14.143Z"
   },
   {
    "duration": 18,
    "start_time": "2022-05-19T15:30:14.173Z"
   },
   {
    "duration": 3,
    "start_time": "2022-05-19T15:30:14.193Z"
   },
   {
    "duration": 68,
    "start_time": "2022-05-19T15:30:14.197Z"
   },
   {
    "duration": 3,
    "start_time": "2022-05-19T15:30:14.266Z"
   },
   {
    "duration": 5,
    "start_time": "2022-05-19T15:30:14.271Z"
   },
   {
    "duration": 4815,
    "start_time": "2022-05-19T15:30:14.277Z"
   },
   {
    "duration": 16,
    "start_time": "2022-05-19T15:30:19.093Z"
   },
   {
    "duration": 1279,
    "start_time": "2022-05-19T15:30:19.110Z"
   },
   {
    "duration": 4,
    "start_time": "2022-05-19T15:30:20.391Z"
   },
   {
    "duration": 12,
    "start_time": "2022-05-19T15:30:20.396Z"
   },
   {
    "duration": 9,
    "start_time": "2022-05-19T15:30:20.409Z"
   },
   {
    "duration": 9,
    "start_time": "2022-05-19T15:30:20.419Z"
   },
   {
    "duration": 4,
    "start_time": "2022-05-19T15:30:20.429Z"
   },
   {
    "duration": 28,
    "start_time": "2022-05-19T15:30:20.434Z"
   },
   {
    "duration": 351,
    "start_time": "2022-05-19T15:30:20.464Z"
   },
   {
    "duration": 15,
    "start_time": "2022-05-19T15:30:20.817Z"
   },
   {
    "duration": 3,
    "start_time": "2022-05-19T15:30:20.835Z"
   },
   {
    "duration": 24,
    "start_time": "2022-05-19T15:30:20.840Z"
   },
   {
    "duration": 4,
    "start_time": "2022-05-19T15:43:24.885Z"
   },
   {
    "duration": 25,
    "start_time": "2022-05-19T15:43:24.892Z"
   },
   {
    "duration": 10,
    "start_time": "2022-05-19T15:43:24.919Z"
   },
   {
    "duration": 11,
    "start_time": "2022-05-19T15:43:24.931Z"
   },
   {
    "duration": 31,
    "start_time": "2022-05-19T15:43:24.944Z"
   },
   {
    "duration": 28,
    "start_time": "2022-05-19T15:43:24.977Z"
   },
   {
    "duration": 4,
    "start_time": "2022-05-19T15:43:25.007Z"
   },
   {
    "duration": 47,
    "start_time": "2022-05-19T15:43:25.013Z"
   },
   {
    "duration": 4,
    "start_time": "2022-05-19T15:43:25.061Z"
   },
   {
    "duration": 7,
    "start_time": "2022-05-19T15:43:25.066Z"
   },
   {
    "duration": 5203,
    "start_time": "2022-05-19T15:43:25.074Z"
   },
   {
    "duration": 15,
    "start_time": "2022-05-19T15:43:30.279Z"
   },
   {
    "duration": 1374,
    "start_time": "2022-05-19T15:43:30.296Z"
   },
   {
    "duration": 4,
    "start_time": "2022-05-19T15:43:31.673Z"
   },
   {
    "duration": 29,
    "start_time": "2022-05-19T15:43:31.679Z"
   },
   {
    "duration": 26,
    "start_time": "2022-05-19T15:43:31.710Z"
   },
   {
    "duration": 25,
    "start_time": "2022-05-19T15:43:31.738Z"
   },
   {
    "duration": 33,
    "start_time": "2022-05-19T15:43:31.765Z"
   },
   {
    "duration": 31,
    "start_time": "2022-05-19T15:43:31.800Z"
   },
   {
    "duration": 377,
    "start_time": "2022-05-19T15:43:31.833Z"
   },
   {
    "duration": 8,
    "start_time": "2022-05-19T15:43:32.212Z"
   },
   {
    "duration": 31,
    "start_time": "2022-05-19T15:43:32.222Z"
   },
   {
    "duration": 16,
    "start_time": "2022-05-19T15:43:32.254Z"
   }
  ],
  "kernelspec": {
   "display_name": "Python 3 (ipykernel)",
   "language": "python",
   "name": "python3"
  },
  "language_info": {
   "codemirror_mode": {
    "name": "ipython",
    "version": 3
   },
   "file_extension": ".py",
   "mimetype": "text/x-python",
   "name": "python",
   "nbconvert_exporter": "python",
   "pygments_lexer": "ipython3",
   "version": "3.9.7"
  },
  "toc": {
   "base_numbering": "1",
   "nav_menu": {},
   "number_sections": true,
   "sideBar": true,
   "skip_h1_title": false,
   "title_cell": "Table of Contents",
   "title_sidebar": "Contents",
   "toc_cell": false,
   "toc_position": {
    "height": "calc(100% - 180px)",
    "left": "10px",
    "top": "150px",
    "width": "301.903px"
   },
   "toc_section_display": true,
   "toc_window_display": false
  }
 },
 "nbformat": 4,
 "nbformat_minor": 2
}
