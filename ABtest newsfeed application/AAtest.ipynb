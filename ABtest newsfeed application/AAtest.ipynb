{
 "cells": [
  {
   "cell_type": "markdown",
   "id": "9d193bfd-4375-4c8d-be2e-f61c2097e857",
   "metadata": {},
   "source": [
    "# Проведение АА-теста"
   ]
  },
  {
   "cell_type": "markdown",
   "id": "82cb2582-c877-4fd3-b438-6d368cd41b02",
   "metadata": {},
   "source": [
    "**Загрузим из базы данные 2 и 3 экспериментальных групп за период с '2022-05-17' по '2022-05-23'**"
   ]
  },
  {
   "cell_type": "code",
   "execution_count": 1,
   "id": "220dc025-4c23-4c55-ae79-75eadd6692b9",
   "metadata": {},
   "outputs": [
    {
     "data": {
      "text/html": [
       "<div>\n",
       "<style scoped>\n",
       "    .dataframe tbody tr th:only-of-type {\n",
       "        vertical-align: middle;\n",
       "    }\n",
       "\n",
       "    .dataframe tbody tr th {\n",
       "        vertical-align: top;\n",
       "    }\n",
       "\n",
       "    .dataframe thead th {\n",
       "        text-align: right;\n",
       "    }\n",
       "</style>\n",
       "<table border=\"1\" class=\"dataframe\">\n",
       "  <thead>\n",
       "    <tr style=\"text-align: right;\">\n",
       "      <th></th>\n",
       "      <th>exp_group</th>\n",
       "      <th>user_id</th>\n",
       "      <th>likes</th>\n",
       "      <th>views</th>\n",
       "      <th>ctr</th>\n",
       "    </tr>\n",
       "  </thead>\n",
       "  <tbody>\n",
       "    <tr>\n",
       "      <th>0</th>\n",
       "      <td>3</td>\n",
       "      <td>115383</td>\n",
       "      <td>11</td>\n",
       "      <td>36</td>\n",
       "      <td>0.305556</td>\n",
       "    </tr>\n",
       "    <tr>\n",
       "      <th>1</th>\n",
       "      <td>3</td>\n",
       "      <td>123580</td>\n",
       "      <td>15</td>\n",
       "      <td>92</td>\n",
       "      <td>0.163043</td>\n",
       "    </tr>\n",
       "    <tr>\n",
       "      <th>2</th>\n",
       "      <td>2</td>\n",
       "      <td>131473</td>\n",
       "      <td>26</td>\n",
       "      <td>148</td>\n",
       "      <td>0.175676</td>\n",
       "    </tr>\n",
       "    <tr>\n",
       "      <th>3</th>\n",
       "      <td>2</td>\n",
       "      <td>23985</td>\n",
       "      <td>12</td>\n",
       "      <td>66</td>\n",
       "      <td>0.181818</td>\n",
       "    </tr>\n",
       "    <tr>\n",
       "      <th>4</th>\n",
       "      <td>2</td>\n",
       "      <td>24523</td>\n",
       "      <td>17</td>\n",
       "      <td>120</td>\n",
       "      <td>0.141667</td>\n",
       "    </tr>\n",
       "  </tbody>\n",
       "</table>\n",
       "</div>"
      ],
      "text/plain": [
       "   exp_group  user_id  likes  views       ctr\n",
       "0          3   115383     11     36  0.305556\n",
       "1          3   123580     15     92  0.163043\n",
       "2          2   131473     26    148  0.175676\n",
       "3          2    23985     12     66  0.181818\n",
       "4          2    24523     17    120  0.141667"
      ]
     },
     "execution_count": 1,
     "metadata": {},
     "output_type": "execute_result"
    }
   ],
   "source": [
    "import pandas as pd\n",
    "import pandahouse as ph\n",
    "import numpy as np\n",
    "import seaborn as sns\n",
    "import matplotlib.pyplot as plt\n",
    "from scipy import stats\n",
    "\n",
    "connection = {'host': 'https://clickhouse.lab.karpov.courses',\n",
    "                      'database':'simulator_20220620',\n",
    "                      'user':'***', \n",
    "                      'password':'***'\n",
    "                     }\n",
    "\n",
    "q = \"\"\"\n",
    "SELECT exp_group,\n",
    "user_id,\n",
    "sum(action = 'like') as likes,\n",
    "sum(action = 'view') as views,\n",
    "likes/views as ctr\n",
    "FROM {db}.feed_actions\n",
    "WHERE toDate(time) between '2022-05-17' and '2022-05-23'\n",
    "and exp_group in (2,3)\n",
    "GROUP BY exp_group, user_id\n",
    "\"\"\"\n",
    "df = ph.read_clickhouse(q, connection=connection)\n",
    "df.head()"
   ]
  },
  {
   "cell_type": "code",
   "execution_count": 2,
   "id": "856b33f8-8671-4118-9d2a-aa53d0fc9f17",
   "metadata": {},
   "outputs": [
    {
     "data": {
      "text/html": [
       "<div>\n",
       "<style scoped>\n",
       "    .dataframe tbody tr th:only-of-type {\n",
       "        vertical-align: middle;\n",
       "    }\n",
       "\n",
       "    .dataframe tbody tr th {\n",
       "        vertical-align: top;\n",
       "    }\n",
       "\n",
       "    .dataframe thead th {\n",
       "        text-align: right;\n",
       "    }\n",
       "</style>\n",
       "<table border=\"1\" class=\"dataframe\">\n",
       "  <thead>\n",
       "    <tr style=\"text-align: right;\">\n",
       "      <th></th>\n",
       "      <th>exp_group</th>\n",
       "      <th>user_id</th>\n",
       "    </tr>\n",
       "  </thead>\n",
       "  <tbody>\n",
       "    <tr>\n",
       "      <th>0</th>\n",
       "      <td>2</td>\n",
       "      <td>8480</td>\n",
       "    </tr>\n",
       "    <tr>\n",
       "      <th>1</th>\n",
       "      <td>3</td>\n",
       "      <td>8569</td>\n",
       "    </tr>\n",
       "  </tbody>\n",
       "</table>\n",
       "</div>"
      ],
      "text/plain": [
       "   exp_group  user_id\n",
       "0          2     8480\n",
       "1          3     8569"
      ]
     },
     "execution_count": 2,
     "metadata": {},
     "output_type": "execute_result"
    }
   ],
   "source": [
    "df.groupby('exp_group', as_index=False)['user_id'].count()"
   ]
  },
  {
   "cell_type": "markdown",
   "id": "92ece7cd-ee56-41d6-94ad-bc8e66140efa",
   "metadata": {},
   "source": [
    "Количество пользователей в группах отличается не значительно.  \n",
    "Проверим нет ли пересечений между группами:"
   ]
  },
  {
   "cell_type": "code",
   "execution_count": 3,
   "id": "1e6bb16a-4cfc-4e2c-91d4-05ac0c925db0",
   "metadata": {},
   "outputs": [
    {
     "name": "stdout",
     "output_type": "stream",
     "text": [
      "Количество пользователей, попавших в обе группы: 0\n"
     ]
    }
   ],
   "source": [
    "users_a = set(df[df['exp_group']==2]['user_id'])\n",
    "users_b = set(df[df['exp_group']==3]['user_id'])\n",
    "diff_vis = [x for x in users_a if x in users_b]\n",
    "print('Количество пользователей, попавших в обе группы:', len(diff_vis))"
   ]
  },
  {
   "cell_type": "markdown",
   "id": "88dc228f-9a92-4adf-9d82-ce71f66ad11a",
   "metadata": {},
   "source": [
    "**Проведем симуляцию 10000 АА-тестов**"
   ]
  },
  {
   "cell_type": "code",
   "execution_count": 4,
   "id": "20ae3c37-0957-481e-811a-e2ce31998c39",
   "metadata": {},
   "outputs": [],
   "source": [
    "# сохраним показатель ctr каждой группы в отдельные переменные\n",
    "eg_2 = df[df['exp_group']==2]['ctr']\n",
    "eg_3 = df[df['exp_group']==3]['ctr']"
   ]
  },
  {
   "cell_type": "code",
   "execution_count": 5,
   "id": "d58eff8e-2fba-41bf-8a1a-aa127975d190",
   "metadata": {},
   "outputs": [],
   "source": [
    "pvalues = []\n",
    "\n",
    "for i in range(10000):\n",
    "    p_value = stats.ttest_ind(np.random.choice(eg_2, 500, replace=True), # на каждой итерации сформируем подвыборки с повторением в 500 юзеров\n",
    "                np.random.choice(eg_3, 500, replace=True),               # и сравненим эти подвыборки t-testом\n",
    "                equal_var=False)[1]\n",
    "    pvalues.append(p_value)                                              # получившиеся значения p_value будем сохранять в список"
   ]
  },
  {
   "cell_type": "markdown",
   "id": "42bd67db-79e0-4c2e-9548-d79058b25a85",
   "metadata": {},
   "source": [
    "**Построим гистограмму распределения получившихся 10000 p-values**"
   ]
  },
  {
   "cell_type": "code",
   "execution_count": 6,
   "id": "b96d7efb-d6e2-40d6-82b7-dbb670fa7564",
   "metadata": {},
   "outputs": [
    {
     "data": {
      "image/png": "[encoded data removed]",
      "text/plain": [
       "<Figure size 720x432 with 1 Axes>"
      ]
     },
     "metadata": {
      "needs_background": "light"
     },
     "output_type": "display_data"
    }
   ],
   "source": [
    "plt.figure(figsize=(10,6))\n",
    "sns.histplot(pvalues)\n",
    "plt.show()"
   ]
  },
  {
   "cell_type": "markdown",
   "id": "d98cf7ed-120a-4688-a5ae-357c044e6410",
   "metadata": {},
   "source": [
    "Равномерное распределение "
   ]
  },
  {
   "cell_type": "markdown",
   "id": "994f36ee-3b93-4de2-bd69-7ab5df88dcd8",
   "metadata": {},
   "source": [
    "**Посчитаем, какой процент p values оказался меньше либо равен 0.05**"
   ]
  },
  {
   "cell_type": "code",
   "execution_count": 7,
   "id": "6bf9276a-c003-4048-a005-6bad2653010e",
   "metadata": {},
   "outputs": [],
   "source": [
    "part = len(list(filter(lambda x: x <= 0.05, pvalues))) / len(pvalues)"
   ]
  },
  {
   "cell_type": "code",
   "execution_count": 8,
   "id": "5db68e52-5b30-4a36-b8f0-81b01289a195",
   "metadata": {},
   "outputs": [
    {
     "name": "stdout",
     "output_type": "stream",
     "text": [
      "В результате сравнения подвыборок t-testом в 5.48% случаев у нас получились статистически значимые различия между группами\n"
     ]
    }
   ],
   "source": [
    "print(f'В результате сравнения подвыборок t-testом в {part:.2%} случаев у нас получились статистически значимые различия между группами')"
   ]
  },
  {
   "cell_type": "markdown",
   "id": "7ccfbc7e-27da-4a8d-b20f-28409d9ca419",
   "metadata": {},
   "source": [
    "**Вывод по АА-тесту:**"
   ]
  },
  {
   "cell_type": "markdown",
   "id": "51d44ead-1a46-4e64-93f6-6e890789aa44",
   "metadata": {},
   "source": [
    "Полученный результат позволяет нам сделать вывод о том, что наша система сплитования работает корректно. Из 10000 тестов приблизительно в 5% случаев мы получали значимые различия."
   ]
  }
 ],
 "metadata": {
  "kernelspec": {
   "display_name": "Python 3 (ipykernel)",
   "language": "python",
   "name": "python3"
  },
  "language_info": {
   "codemirror_mode": {
    "name": "ipython",
    "version": 3
   },
   "file_extension": ".py",
   "mimetype": "text/x-python",
   "name": "python",
   "nbconvert_exporter": "python",
   "pygments_lexer": "ipython3",
   "version": "3.8.10"
  }
 },
 "nbformat": 4,
 "nbformat_minor": 5
}
