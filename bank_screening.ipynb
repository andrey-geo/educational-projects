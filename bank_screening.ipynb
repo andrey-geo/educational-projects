{
 "cells": [
  {
   "cell_type": "markdown",
   "metadata": {},
   "source": [
    "# Исследование надёжности заёмщиков\n",
    "\n",
    "Заказчик — кредитный отдел банка. Нужно разобраться, влияет ли семейное положение и количество детей клиента на факт погашения кредита в срок. Входные данные от банка — статистика о платёжеспособности клиентов.\n",
    "\n",
    "Результаты исследования будут учтены при построении модели **кредитного скоринга** — специальной системы, которая оценивает способность потенциального заёмщика вернуть кредит банку."
   ]
  },
  {
   "cell_type": "markdown",
   "metadata": {},
   "source": [
    "1. [Обзор данных](#start)\n",
    "2. [Предобработка данных](#preprocessing)  \n",
    "    2.1 [Обработка пропусков](#nan)  \n",
    "    2.2 [Замена типа данных](#tipdan)  \n",
    "    2.3 [Обработка дубликатов](#dubli)  \n",
    "    2.4 [Лемматизация](#lemma)  \n",
    "    2.5 [Категоризация данных](#katd)\n",
    "3. [Ответьте на вопросы](#answer)\n",
    "4. [Общий вывод](#conclusion)"
   ]
  },
  {
   "cell_type": "markdown",
   "metadata": {},
   "source": [
    "## Обзор данных<a id=\"start\"></a>"
   ]
  },
  {
   "cell_type": "markdown",
   "metadata": {},
   "source": [
    "Откроем файл с данными и изучим общую информацию."
   ]
  },
  {
   "cell_type": "code",
   "execution_count": 335,
   "metadata": {},
   "outputs": [],
   "source": [
    "import pandas as pd\n",
    "data = pd.read_csv('/datasets/data.csv') # чтение файла с данными и сохранение в data\n",
    "pd.set_option('display.float_format', '{:.2f}'.format) # установим формат для типа float, для более приятного отображения\n",
    "\n",
    "from pymystem3 import Mystem # импортируем библиотеку pymystem3\n",
    "m = Mystem()\n",
    "\n",
    "from collections import Counter\n",
    "\n",
    "import seaborn\n",
    "import warnings\n",
    "warnings.filterwarnings(\"ignore\")\n",
    "pd.set_option('display.max_colwidth', None)"
   ]
  },
  {
   "cell_type": "code",
   "execution_count": 336,
   "metadata": {},
   "outputs": [
    {
     "name": "stdout",
     "output_type": "stream",
     "text": [
      "<class 'pandas.core.frame.DataFrame'>\n",
      "RangeIndex: 21525 entries, 0 to 21524\n",
      "Data columns (total 12 columns):\n",
      "children            21525 non-null int64\n",
      "days_employed       19351 non-null float64\n",
      "dob_years           21525 non-null int64\n",
      "education           21525 non-null object\n",
      "education_id        21525 non-null int64\n",
      "family_status       21525 non-null object\n",
      "family_status_id    21525 non-null int64\n",
      "gender              21525 non-null object\n",
      "income_type         21525 non-null object\n",
      "debt                21525 non-null int64\n",
      "total_income        19351 non-null float64\n",
      "purpose             21525 non-null object\n",
      "dtypes: float64(2), int64(5), object(5)\n",
      "memory usage: 2.0+ MB\n"
     ]
    }
   ],
   "source": [
    "data.info() # получение общей информации о данных в таблице"
   ]
  },
  {
   "cell_type": "code",
   "execution_count": 337,
   "metadata": {},
   "outputs": [
    {
     "data": {
      "text/html": [
       "<div>\n",
       "<style scoped>\n",
       "    .dataframe tbody tr th:only-of-type {\n",
       "        vertical-align: middle;\n",
       "    }\n",
       "\n",
       "    .dataframe tbody tr th {\n",
       "        vertical-align: top;\n",
       "    }\n",
       "\n",
       "    .dataframe thead th {\n",
       "        text-align: right;\n",
       "    }\n",
       "</style>\n",
       "<table border=\"1\" class=\"dataframe\">\n",
       "  <thead>\n",
       "    <tr style=\"text-align: right;\">\n",
       "      <th></th>\n",
       "      <th>children</th>\n",
       "      <th>days_employed</th>\n",
       "      <th>dob_years</th>\n",
       "      <th>education</th>\n",
       "      <th>education_id</th>\n",
       "      <th>family_status</th>\n",
       "      <th>family_status_id</th>\n",
       "      <th>gender</th>\n",
       "      <th>income_type</th>\n",
       "      <th>debt</th>\n",
       "      <th>total_income</th>\n",
       "      <th>purpose</th>\n",
       "    </tr>\n",
       "  </thead>\n",
       "  <tbody>\n",
       "    <tr>\n",
       "      <td>0</td>\n",
       "      <td>1</td>\n",
       "      <td>-8437.67</td>\n",
       "      <td>42</td>\n",
       "      <td>высшее</td>\n",
       "      <td>0</td>\n",
       "      <td>женат / замужем</td>\n",
       "      <td>0</td>\n",
       "      <td>F</td>\n",
       "      <td>сотрудник</td>\n",
       "      <td>0</td>\n",
       "      <td>253875.64</td>\n",
       "      <td>покупка жилья</td>\n",
       "    </tr>\n",
       "    <tr>\n",
       "      <td>1</td>\n",
       "      <td>1</td>\n",
       "      <td>-4024.80</td>\n",
       "      <td>36</td>\n",
       "      <td>среднее</td>\n",
       "      <td>1</td>\n",
       "      <td>женат / замужем</td>\n",
       "      <td>0</td>\n",
       "      <td>F</td>\n",
       "      <td>сотрудник</td>\n",
       "      <td>0</td>\n",
       "      <td>112080.01</td>\n",
       "      <td>приобретение автомобиля</td>\n",
       "    </tr>\n",
       "    <tr>\n",
       "      <td>2</td>\n",
       "      <td>0</td>\n",
       "      <td>-5623.42</td>\n",
       "      <td>33</td>\n",
       "      <td>Среднее</td>\n",
       "      <td>1</td>\n",
       "      <td>женат / замужем</td>\n",
       "      <td>0</td>\n",
       "      <td>M</td>\n",
       "      <td>сотрудник</td>\n",
       "      <td>0</td>\n",
       "      <td>145885.95</td>\n",
       "      <td>покупка жилья</td>\n",
       "    </tr>\n",
       "    <tr>\n",
       "      <td>3</td>\n",
       "      <td>3</td>\n",
       "      <td>-4124.75</td>\n",
       "      <td>32</td>\n",
       "      <td>среднее</td>\n",
       "      <td>1</td>\n",
       "      <td>женат / замужем</td>\n",
       "      <td>0</td>\n",
       "      <td>M</td>\n",
       "      <td>сотрудник</td>\n",
       "      <td>0</td>\n",
       "      <td>267628.55</td>\n",
       "      <td>дополнительное образование</td>\n",
       "    </tr>\n",
       "    <tr>\n",
       "      <td>4</td>\n",
       "      <td>0</td>\n",
       "      <td>340266.07</td>\n",
       "      <td>53</td>\n",
       "      <td>среднее</td>\n",
       "      <td>1</td>\n",
       "      <td>гражданский брак</td>\n",
       "      <td>1</td>\n",
       "      <td>F</td>\n",
       "      <td>пенсионер</td>\n",
       "      <td>0</td>\n",
       "      <td>158616.08</td>\n",
       "      <td>сыграть свадьбу</td>\n",
       "    </tr>\n",
       "    <tr>\n",
       "      <td>5</td>\n",
       "      <td>0</td>\n",
       "      <td>-926.19</td>\n",
       "      <td>27</td>\n",
       "      <td>высшее</td>\n",
       "      <td>0</td>\n",
       "      <td>гражданский брак</td>\n",
       "      <td>1</td>\n",
       "      <td>M</td>\n",
       "      <td>компаньон</td>\n",
       "      <td>0</td>\n",
       "      <td>255763.57</td>\n",
       "      <td>покупка жилья</td>\n",
       "    </tr>\n",
       "    <tr>\n",
       "      <td>6</td>\n",
       "      <td>0</td>\n",
       "      <td>-2879.20</td>\n",
       "      <td>43</td>\n",
       "      <td>высшее</td>\n",
       "      <td>0</td>\n",
       "      <td>женат / замужем</td>\n",
       "      <td>0</td>\n",
       "      <td>F</td>\n",
       "      <td>компаньон</td>\n",
       "      <td>0</td>\n",
       "      <td>240525.97</td>\n",
       "      <td>операции с жильем</td>\n",
       "    </tr>\n",
       "    <tr>\n",
       "      <td>7</td>\n",
       "      <td>0</td>\n",
       "      <td>-152.78</td>\n",
       "      <td>50</td>\n",
       "      <td>СРЕДНЕЕ</td>\n",
       "      <td>1</td>\n",
       "      <td>женат / замужем</td>\n",
       "      <td>0</td>\n",
       "      <td>M</td>\n",
       "      <td>сотрудник</td>\n",
       "      <td>0</td>\n",
       "      <td>135823.93</td>\n",
       "      <td>образование</td>\n",
       "    </tr>\n",
       "    <tr>\n",
       "      <td>8</td>\n",
       "      <td>2</td>\n",
       "      <td>-6929.87</td>\n",
       "      <td>35</td>\n",
       "      <td>ВЫСШЕЕ</td>\n",
       "      <td>0</td>\n",
       "      <td>гражданский брак</td>\n",
       "      <td>1</td>\n",
       "      <td>F</td>\n",
       "      <td>сотрудник</td>\n",
       "      <td>0</td>\n",
       "      <td>95856.83</td>\n",
       "      <td>на проведение свадьбы</td>\n",
       "    </tr>\n",
       "    <tr>\n",
       "      <td>9</td>\n",
       "      <td>0</td>\n",
       "      <td>-2188.76</td>\n",
       "      <td>41</td>\n",
       "      <td>среднее</td>\n",
       "      <td>1</td>\n",
       "      <td>женат / замужем</td>\n",
       "      <td>0</td>\n",
       "      <td>M</td>\n",
       "      <td>сотрудник</td>\n",
       "      <td>0</td>\n",
       "      <td>144425.94</td>\n",
       "      <td>покупка жилья для семьи</td>\n",
       "    </tr>\n",
       "  </tbody>\n",
       "</table>\n",
       "</div>"
      ],
      "text/plain": [
       "   children  days_employed  dob_years education  education_id  \\\n",
       "0         1       -8437.67         42    высшее             0   \n",
       "1         1       -4024.80         36   среднее             1   \n",
       "2         0       -5623.42         33   Среднее             1   \n",
       "3         3       -4124.75         32   среднее             1   \n",
       "4         0      340266.07         53   среднее             1   \n",
       "5         0        -926.19         27    высшее             0   \n",
       "6         0       -2879.20         43    высшее             0   \n",
       "7         0        -152.78         50   СРЕДНЕЕ             1   \n",
       "8         2       -6929.87         35    ВЫСШЕЕ             0   \n",
       "9         0       -2188.76         41   среднее             1   \n",
       "\n",
       "      family_status  family_status_id gender income_type  debt  total_income  \\\n",
       "0   женат / замужем                 0      F   сотрудник     0     253875.64   \n",
       "1   женат / замужем                 0      F   сотрудник     0     112080.01   \n",
       "2   женат / замужем                 0      M   сотрудник     0     145885.95   \n",
       "3   женат / замужем                 0      M   сотрудник     0     267628.55   \n",
       "4  гражданский брак                 1      F   пенсионер     0     158616.08   \n",
       "5  гражданский брак                 1      M   компаньон     0     255763.57   \n",
       "6   женат / замужем                 0      F   компаньон     0     240525.97   \n",
       "7   женат / замужем                 0      M   сотрудник     0     135823.93   \n",
       "8  гражданский брак                 1      F   сотрудник     0      95856.83   \n",
       "9   женат / замужем                 0      M   сотрудник     0     144425.94   \n",
       "\n",
       "                      purpose  \n",
       "0               покупка жилья  \n",
       "1     приобретение автомобиля  \n",
       "2               покупка жилья  \n",
       "3  дополнительное образование  \n",
       "4             сыграть свадьбу  \n",
       "5               покупка жилья  \n",
       "6           операции с жильем  \n",
       "7                 образование  \n",
       "8       на проведение свадьбы  \n",
       "9     покупка жилья для семьи  "
      ]
     },
     "execution_count": 337,
     "metadata": {},
     "output_type": "execute_result"
    }
   ],
   "source": [
    "data.head(10) # получение первых 10 строк таблицы"
   ]
  },
  {
   "cell_type": "markdown",
   "metadata": {},
   "source": [
    "**Вывод**"
   ]
  },
  {
   "cell_type": "markdown",
   "metadata": {},
   "source": [
    "Итак, в таблице 12 столбцов. В столбцах встречаются различные типы данных: int64, float64, object.\n",
    "\n",
    "Согласно документации к данным:\n",
    "- children — количество детей в семье\n",
    "- days_employed — общий трудовой стаж в днях\n",
    "- dob_years — возраст клиента в годах\n",
    "- education — уровень образования клиента\n",
    "- education_id — идентификатор уровня образования\n",
    "- family_status — семейное положение\n",
    "- family_status_id — идентификатор семейного положения\n",
    "- gender — пол клиента\n",
    "- income_type — тип занятости\n",
    "- debt — имел ли задолженность по возврату кредитов\n",
    "- total_income — ежемесячный доход\n",
    "- purpose — цель получения кредита"
   ]
  },
  {
   "cell_type": "markdown",
   "metadata": {},
   "source": [
    "В каждой строке таблицы — данные о заемщике банка. \n",
    "\n",
    "Предварительно можно утверждать, что, данных достаточно для исследования. Но встречаются пропуски, в некотрых столбцах необходимо изменить тип данных, обработать дубликаты и провести категоризацию данных. Помимо того встречаются отрицательные значения в столбце с количеством дней стажа.\n",
    "\n",
    "Прежде чем приступать к вычислениям и анализу, нужно устранить проблемы в данных."
   ]
  },
  {
   "cell_type": "markdown",
   "metadata": {},
   "source": [
    "## Предобработка данных <a id=\"preprocessing\"></a>"
   ]
  },
  {
   "cell_type": "markdown",
   "metadata": {},
   "source": [
    "### Обработка пропусков <a id=\"nan\"></a>"
   ]
  },
  {
   "cell_type": "markdown",
   "metadata": {},
   "source": [
    "#### Посмотрим в каких столбцах есть пропуски"
   ]
  },
  {
   "cell_type": "markdown",
   "metadata": {},
   "source": [
    "Посчитаем, сколько в таблице пропущенных значений."
   ]
  },
  {
   "cell_type": "code",
   "execution_count": 338,
   "metadata": {},
   "outputs": [
    {
     "data": {
      "text/plain": [
       "children               0\n",
       "days_employed       2174\n",
       "dob_years              0\n",
       "education              0\n",
       "education_id           0\n",
       "family_status          0\n",
       "family_status_id       0\n",
       "gender                 0\n",
       "income_type            0\n",
       "debt                   0\n",
       "total_income        2174\n",
       "purpose                0\n",
       "dtype: int64"
      ]
     },
     "execution_count": 338,
     "metadata": {},
     "output_type": "execute_result"
    }
   ],
   "source": [
    "data.isna().sum() # используем метод isna() для поиска пропусков и метод sum() для подсчета их количества."
   ]
  },
  {
   "cell_type": "markdown",
   "metadata": {},
   "source": [
    "Мы видим что пропуски присутствуют в двух столбцах: `days_employed` и `total_income` (трудовой стаж и ежемесячный доход). Причем количество пропусков совпадает. "
   ]
  },
  {
   "cell_type": "markdown",
   "metadata": {},
   "source": [
    "Проверим совпадают ли пропуски в данных столбцах:"
   ]
  },
  {
   "cell_type": "code",
   "execution_count": 339,
   "metadata": {
    "scrolled": true
   },
   "outputs": [
    {
     "data": {
      "text/plain": [
       "children            2174\n",
       "days_employed          0\n",
       "dob_years           2174\n",
       "education           2174\n",
       "education_id        2174\n",
       "family_status       2174\n",
       "family_status_id    2174\n",
       "gender              2174\n",
       "income_type         2174\n",
       "debt                2174\n",
       "total_income           0\n",
       "purpose             2174\n",
       "dtype: int64"
      ]
     },
     "execution_count": 339,
     "metadata": {},
     "output_type": "execute_result"
    }
   ],
   "source": [
    "data[(data['days_employed'].isna()) & (data['total_income'].isna())].count()  # отфильтруем по двум условиям"
   ]
  },
  {
   "cell_type": "markdown",
   "metadata": {},
   "source": [
    "Мы видим что каждому пропуску в строке по столбцу со стажем соответствует пропуск в столбце с ежемесячным доходом. Скорее всего причина пропуска техническая ошибка выгрузки данных. Маловероятно что такое количество пользователей не заполняли  именно два этих значения. К тому же пропуски переменной не зависят от значений других переменных (возраст, уровень образования, тип занятости). "
   ]
  },
  {
   "cell_type": "markdown",
   "metadata": {},
   "source": [
    "Удаление\\игнорирование пропусков в столбце `ежемесячный доход` не представляется возможным. Так как нам предстоит проверить взаимосвязь между уровнем дохода и возвратом кредита в срок. И доля пропусков достаточно большая 10.1% (2174/21525), что может повлиять на вывод. \n",
    "Пропуски в столбце `общий трудовой стаж в днях` тоже постараемся заполнить. Возможно будем использовать эти данные для заполнения пропусков в столбце `ежемесячный доход`.\n",
    "Данные в этих столбцах — количественные переменные. Пропуски в таких переменных заполняют характерными значениями."
   ]
  },
  {
   "cell_type": "markdown",
   "metadata": {},
   "source": [
    "#### Заполним пропуски в стобце `общий трудовой стаж в днях`. \n",
    "Как мы видели ранее в столбце встречаются отрицательные значения. Скорее всего стаж вычислялся как разница двух дат и возможно были допущены ошибки при их заполнении.  \n",
    "Избавимся от отрицательных значений. И после переведем дни стажа в годы:"
   ]
  },
  {
   "cell_type": "code",
   "execution_count": 340,
   "metadata": {
    "scrolled": true
   },
   "outputs": [
    {
     "data": {
      "text/html": [
       "<div>\n",
       "<style scoped>\n",
       "    .dataframe tbody tr th:only-of-type {\n",
       "        vertical-align: middle;\n",
       "    }\n",
       "\n",
       "    .dataframe tbody tr th {\n",
       "        vertical-align: top;\n",
       "    }\n",
       "\n",
       "    .dataframe thead th {\n",
       "        text-align: right;\n",
       "    }\n",
       "</style>\n",
       "<table border=\"1\" class=\"dataframe\">\n",
       "  <thead>\n",
       "    <tr style=\"text-align: right;\">\n",
       "      <th></th>\n",
       "      <th>children</th>\n",
       "      <th>days_employed</th>\n",
       "      <th>dob_years</th>\n",
       "      <th>education</th>\n",
       "      <th>education_id</th>\n",
       "      <th>family_status</th>\n",
       "      <th>family_status_id</th>\n",
       "      <th>gender</th>\n",
       "      <th>income_type</th>\n",
       "      <th>debt</th>\n",
       "      <th>total_income</th>\n",
       "      <th>purpose</th>\n",
       "    </tr>\n",
       "  </thead>\n",
       "  <tbody>\n",
       "    <tr>\n",
       "      <td>0</td>\n",
       "      <td>1</td>\n",
       "      <td>23.12</td>\n",
       "      <td>42</td>\n",
       "      <td>высшее</td>\n",
       "      <td>0</td>\n",
       "      <td>женат / замужем</td>\n",
       "      <td>0</td>\n",
       "      <td>F</td>\n",
       "      <td>сотрудник</td>\n",
       "      <td>0</td>\n",
       "      <td>253875.64</td>\n",
       "      <td>покупка жилья</td>\n",
       "    </tr>\n",
       "    <tr>\n",
       "      <td>1</td>\n",
       "      <td>1</td>\n",
       "      <td>11.03</td>\n",
       "      <td>36</td>\n",
       "      <td>среднее</td>\n",
       "      <td>1</td>\n",
       "      <td>женат / замужем</td>\n",
       "      <td>0</td>\n",
       "      <td>F</td>\n",
       "      <td>сотрудник</td>\n",
       "      <td>0</td>\n",
       "      <td>112080.01</td>\n",
       "      <td>приобретение автомобиля</td>\n",
       "    </tr>\n",
       "    <tr>\n",
       "      <td>2</td>\n",
       "      <td>0</td>\n",
       "      <td>15.41</td>\n",
       "      <td>33</td>\n",
       "      <td>Среднее</td>\n",
       "      <td>1</td>\n",
       "      <td>женат / замужем</td>\n",
       "      <td>0</td>\n",
       "      <td>M</td>\n",
       "      <td>сотрудник</td>\n",
       "      <td>0</td>\n",
       "      <td>145885.95</td>\n",
       "      <td>покупка жилья</td>\n",
       "    </tr>\n",
       "    <tr>\n",
       "      <td>3</td>\n",
       "      <td>3</td>\n",
       "      <td>11.30</td>\n",
       "      <td>32</td>\n",
       "      <td>среднее</td>\n",
       "      <td>1</td>\n",
       "      <td>женат / замужем</td>\n",
       "      <td>0</td>\n",
       "      <td>M</td>\n",
       "      <td>сотрудник</td>\n",
       "      <td>0</td>\n",
       "      <td>267628.55</td>\n",
       "      <td>дополнительное образование</td>\n",
       "    </tr>\n",
       "    <tr>\n",
       "      <td>4</td>\n",
       "      <td>0</td>\n",
       "      <td>932.24</td>\n",
       "      <td>53</td>\n",
       "      <td>среднее</td>\n",
       "      <td>1</td>\n",
       "      <td>гражданский брак</td>\n",
       "      <td>1</td>\n",
       "      <td>F</td>\n",
       "      <td>пенсионер</td>\n",
       "      <td>0</td>\n",
       "      <td>158616.08</td>\n",
       "      <td>сыграть свадьбу</td>\n",
       "    </tr>\n",
       "  </tbody>\n",
       "</table>\n",
       "</div>"
      ],
      "text/plain": [
       "   children  days_employed  dob_years education  education_id  \\\n",
       "0         1          23.12         42    высшее             0   \n",
       "1         1          11.03         36   среднее             1   \n",
       "2         0          15.41         33   Среднее             1   \n",
       "3         3          11.30         32   среднее             1   \n",
       "4         0         932.24         53   среднее             1   \n",
       "\n",
       "      family_status  family_status_id gender income_type  debt  total_income  \\\n",
       "0   женат / замужем                 0      F   сотрудник     0     253875.64   \n",
       "1   женат / замужем                 0      F   сотрудник     0     112080.01   \n",
       "2   женат / замужем                 0      M   сотрудник     0     145885.95   \n",
       "3   женат / замужем                 0      M   сотрудник     0     267628.55   \n",
       "4  гражданский брак                 1      F   пенсионер     0     158616.08   \n",
       "\n",
       "                      purpose  \n",
       "0               покупка жилья  \n",
       "1     приобретение автомобиля  \n",
       "2               покупка жилья  \n",
       "3  дополнительное образование  \n",
       "4             сыграть свадьбу  "
      ]
     },
     "execution_count": 340,
     "metadata": {},
     "output_type": "execute_result"
    }
   ],
   "source": [
    "data['days_employed'] = data['days_employed'].abs() # получаем абсолютное значение в столбце\n",
    "data['days_employed'] = data['days_employed'] / 365 # переводим стаж из дней в годы\n",
    "\n",
    "data.head()"
   ]
  },
  {
   "cell_type": "markdown",
   "metadata": {},
   "source": [
    "После обработки замечаем интересные значения. Так в некоторых строках указан стаж 932 года. Вероятно в этих строках изначально был указан стаж не в днях. Выведем строки в которых стаж больше 75 лет."
   ]
  },
  {
   "cell_type": "code",
   "execution_count": 341,
   "metadata": {},
   "outputs": [
    {
     "data": {
      "text/html": [
       "<div>\n",
       "<style scoped>\n",
       "    .dataframe tbody tr th:only-of-type {\n",
       "        vertical-align: middle;\n",
       "    }\n",
       "\n",
       "    .dataframe tbody tr th {\n",
       "        vertical-align: top;\n",
       "    }\n",
       "\n",
       "    .dataframe thead th {\n",
       "        text-align: right;\n",
       "    }\n",
       "</style>\n",
       "<table border=\"1\" class=\"dataframe\">\n",
       "  <thead>\n",
       "    <tr style=\"text-align: right;\">\n",
       "      <th></th>\n",
       "      <th>children</th>\n",
       "      <th>days_employed</th>\n",
       "      <th>dob_years</th>\n",
       "      <th>education</th>\n",
       "      <th>education_id</th>\n",
       "      <th>family_status</th>\n",
       "      <th>family_status_id</th>\n",
       "      <th>gender</th>\n",
       "      <th>income_type</th>\n",
       "      <th>debt</th>\n",
       "      <th>total_income</th>\n",
       "      <th>purpose</th>\n",
       "    </tr>\n",
       "  </thead>\n",
       "  <tbody>\n",
       "    <tr>\n",
       "      <td>4</td>\n",
       "      <td>0</td>\n",
       "      <td>932.24</td>\n",
       "      <td>53</td>\n",
       "      <td>среднее</td>\n",
       "      <td>1</td>\n",
       "      <td>гражданский брак</td>\n",
       "      <td>1</td>\n",
       "      <td>F</td>\n",
       "      <td>пенсионер</td>\n",
       "      <td>0</td>\n",
       "      <td>158616.08</td>\n",
       "      <td>сыграть свадьбу</td>\n",
       "    </tr>\n",
       "    <tr>\n",
       "      <td>18</td>\n",
       "      <td>0</td>\n",
       "      <td>1096.66</td>\n",
       "      <td>53</td>\n",
       "      <td>среднее</td>\n",
       "      <td>1</td>\n",
       "      <td>вдовец / вдова</td>\n",
       "      <td>2</td>\n",
       "      <td>F</td>\n",
       "      <td>пенсионер</td>\n",
       "      <td>0</td>\n",
       "      <td>56823.78</td>\n",
       "      <td>на покупку подержанного автомобиля</td>\n",
       "    </tr>\n",
       "    <tr>\n",
       "      <td>24</td>\n",
       "      <td>1</td>\n",
       "      <td>927.54</td>\n",
       "      <td>57</td>\n",
       "      <td>среднее</td>\n",
       "      <td>1</td>\n",
       "      <td>Не женат / не замужем</td>\n",
       "      <td>4</td>\n",
       "      <td>F</td>\n",
       "      <td>пенсионер</td>\n",
       "      <td>0</td>\n",
       "      <td>290547.24</td>\n",
       "      <td>операции с коммерческой недвижимостью</td>\n",
       "    </tr>\n",
       "    <tr>\n",
       "      <td>25</td>\n",
       "      <td>0</td>\n",
       "      <td>996.02</td>\n",
       "      <td>67</td>\n",
       "      <td>среднее</td>\n",
       "      <td>1</td>\n",
       "      <td>женат / замужем</td>\n",
       "      <td>0</td>\n",
       "      <td>M</td>\n",
       "      <td>пенсионер</td>\n",
       "      <td>0</td>\n",
       "      <td>55112.76</td>\n",
       "      <td>покупка недвижимости</td>\n",
       "    </tr>\n",
       "    <tr>\n",
       "      <td>30</td>\n",
       "      <td>1</td>\n",
       "      <td>919.40</td>\n",
       "      <td>62</td>\n",
       "      <td>среднее</td>\n",
       "      <td>1</td>\n",
       "      <td>женат / замужем</td>\n",
       "      <td>0</td>\n",
       "      <td>F</td>\n",
       "      <td>пенсионер</td>\n",
       "      <td>0</td>\n",
       "      <td>171456.07</td>\n",
       "      <td>операции с коммерческой недвижимостью</td>\n",
       "    </tr>\n",
       "  </tbody>\n",
       "</table>\n",
       "</div>"
      ],
      "text/plain": [
       "    children  days_employed  dob_years education  education_id  \\\n",
       "4          0         932.24         53   среднее             1   \n",
       "18         0        1096.66         53   среднее             1   \n",
       "24         1         927.54         57   среднее             1   \n",
       "25         0         996.02         67   среднее             1   \n",
       "30         1         919.40         62   среднее             1   \n",
       "\n",
       "            family_status  family_status_id gender income_type  debt  \\\n",
       "4        гражданский брак                 1      F   пенсионер     0   \n",
       "18         вдовец / вдова                 2      F   пенсионер     0   \n",
       "24  Не женат / не замужем                 4      F   пенсионер     0   \n",
       "25        женат / замужем                 0      M   пенсионер     0   \n",
       "30        женат / замужем                 0      F   пенсионер     0   \n",
       "\n",
       "    total_income                                purpose  \n",
       "4      158616.08                        сыграть свадьбу  \n",
       "18      56823.78     на покупку подержанного автомобиля  \n",
       "24     290547.24  операции с коммерческой недвижимостью  \n",
       "25      55112.76                   покупка недвижимости  \n",
       "30     171456.07  операции с коммерческой недвижимостью  "
      ]
     },
     "execution_count": 341,
     "metadata": {},
     "output_type": "execute_result"
    }
   ],
   "source": [
    "data[data['days_employed'] > 75].head() # 75 - максимальный возраст в выборке"
   ]
  },
  {
   "cell_type": "markdown",
   "metadata": {},
   "source": [
    "Видим что 900 лет это не предел. Заметим что большинство заемщиков в этой выборке имеют тип занятости \"пенсионер\". "
   ]
  },
  {
   "cell_type": "code",
   "execution_count": 342,
   "metadata": {},
   "outputs": [
    {
     "data": {
      "text/plain": [
       "пенсионер      3443\n",
       "безработный       2\n",
       "Name: income_type, dtype: int64"
      ]
     },
     "execution_count": 342,
     "metadata": {},
     "output_type": "execute_result"
    }
   ],
   "source": [
    "data[data['days_employed'] > 75]['income_type'].value_counts()"
   ]
  },
  {
   "cell_type": "markdown",
   "metadata": {},
   "source": [
    "Посмотрим сколько строк с аномально большим стажем:"
   ]
  },
  {
   "cell_type": "code",
   "execution_count": 343,
   "metadata": {},
   "outputs": [
    {
     "data": {
      "text/plain": [
       "('Количество строк с аномальным стажем:', 3445)"
      ]
     },
     "execution_count": 343,
     "metadata": {},
     "output_type": "execute_result"
    }
   ],
   "source": [
    "'Количество строк с аномальным стажем:', data[data['days_employed'] > 75]['days_employed'].count() "
   ]
  },
  {
   "cell_type": "markdown",
   "metadata": {},
   "source": [
    "Сравним количество этих строк с количеством пенсионеров: "
   ]
  },
  {
   "cell_type": "code",
   "execution_count": 344,
   "metadata": {},
   "outputs": [
    {
     "data": {
      "text/plain": [
       "('Количество пенсионеров:', 3856)"
      ]
     },
     "execution_count": 344,
     "metadata": {},
     "output_type": "execute_result"
    }
   ],
   "source": [
    "'Количество пенсионеров:', data[data['income_type'] == 'пенсионер']['income_type'].count()"
   ]
  },
  {
   "cell_type": "markdown",
   "metadata": {},
   "source": [
    "Выходит почти 90% данных по стажу у пенсионеров указаны с ошибкой."
   ]
  },
  {
   "cell_type": "markdown",
   "metadata": {},
   "source": [
    "Количество таких строк достаточно большое, удалить не получиться.  \n",
    "Предположим что в этих строках указан стаж в часах. Проверим - разделим текущие значения на 24:"
   ]
  },
  {
   "cell_type": "code",
   "execution_count": 345,
   "metadata": {
    "scrolled": true
   },
   "outputs": [
    {
     "data": {
      "text/html": [
       "<div>\n",
       "<style scoped>\n",
       "    .dataframe tbody tr th:only-of-type {\n",
       "        vertical-align: middle;\n",
       "    }\n",
       "\n",
       "    .dataframe tbody tr th {\n",
       "        vertical-align: top;\n",
       "    }\n",
       "\n",
       "    .dataframe thead th {\n",
       "        text-align: right;\n",
       "    }\n",
       "</style>\n",
       "<table border=\"1\" class=\"dataframe\">\n",
       "  <thead>\n",
       "    <tr style=\"text-align: right;\">\n",
       "      <th></th>\n",
       "      <th>children</th>\n",
       "      <th>days_employed</th>\n",
       "      <th>dob_years</th>\n",
       "      <th>education</th>\n",
       "      <th>education_id</th>\n",
       "      <th>family_status</th>\n",
       "      <th>family_status_id</th>\n",
       "      <th>gender</th>\n",
       "      <th>income_type</th>\n",
       "      <th>debt</th>\n",
       "      <th>total_income</th>\n",
       "      <th>purpose</th>\n",
       "    </tr>\n",
       "  </thead>\n",
       "  <tbody>\n",
       "    <tr>\n",
       "      <td>4</td>\n",
       "      <td>0</td>\n",
       "      <td>38.84</td>\n",
       "      <td>53</td>\n",
       "      <td>среднее</td>\n",
       "      <td>1</td>\n",
       "      <td>гражданский брак</td>\n",
       "      <td>1</td>\n",
       "      <td>F</td>\n",
       "      <td>пенсионер</td>\n",
       "      <td>0</td>\n",
       "      <td>158616.08</td>\n",
       "      <td>сыграть свадьбу</td>\n",
       "    </tr>\n",
       "    <tr>\n",
       "      <td>12</td>\n",
       "      <td>0</td>\n",
       "      <td>nan</td>\n",
       "      <td>65</td>\n",
       "      <td>среднее</td>\n",
       "      <td>1</td>\n",
       "      <td>гражданский брак</td>\n",
       "      <td>1</td>\n",
       "      <td>M</td>\n",
       "      <td>пенсионер</td>\n",
       "      <td>0</td>\n",
       "      <td>nan</td>\n",
       "      <td>сыграть свадьбу</td>\n",
       "    </tr>\n",
       "    <tr>\n",
       "      <td>18</td>\n",
       "      <td>0</td>\n",
       "      <td>45.69</td>\n",
       "      <td>53</td>\n",
       "      <td>среднее</td>\n",
       "      <td>1</td>\n",
       "      <td>вдовец / вдова</td>\n",
       "      <td>2</td>\n",
       "      <td>F</td>\n",
       "      <td>пенсионер</td>\n",
       "      <td>0</td>\n",
       "      <td>56823.78</td>\n",
       "      <td>на покупку подержанного автомобиля</td>\n",
       "    </tr>\n",
       "    <tr>\n",
       "      <td>24</td>\n",
       "      <td>1</td>\n",
       "      <td>38.65</td>\n",
       "      <td>57</td>\n",
       "      <td>среднее</td>\n",
       "      <td>1</td>\n",
       "      <td>Не женат / не замужем</td>\n",
       "      <td>4</td>\n",
       "      <td>F</td>\n",
       "      <td>пенсионер</td>\n",
       "      <td>0</td>\n",
       "      <td>290547.24</td>\n",
       "      <td>операции с коммерческой недвижимостью</td>\n",
       "    </tr>\n",
       "    <tr>\n",
       "      <td>25</td>\n",
       "      <td>0</td>\n",
       "      <td>41.50</td>\n",
       "      <td>67</td>\n",
       "      <td>среднее</td>\n",
       "      <td>1</td>\n",
       "      <td>женат / замужем</td>\n",
       "      <td>0</td>\n",
       "      <td>M</td>\n",
       "      <td>пенсионер</td>\n",
       "      <td>0</td>\n",
       "      <td>55112.76</td>\n",
       "      <td>покупка недвижимости</td>\n",
       "    </tr>\n",
       "  </tbody>\n",
       "</table>\n",
       "</div>"
      ],
      "text/plain": [
       "    children  days_employed  dob_years education  education_id  \\\n",
       "4          0          38.84         53   среднее             1   \n",
       "12         0            nan         65   среднее             1   \n",
       "18         0          45.69         53   среднее             1   \n",
       "24         1          38.65         57   среднее             1   \n",
       "25         0          41.50         67   среднее             1   \n",
       "\n",
       "            family_status  family_status_id gender income_type  debt  \\\n",
       "4        гражданский брак                 1      F   пенсионер     0   \n",
       "12       гражданский брак                 1      M   пенсионер     0   \n",
       "18         вдовец / вдова                 2      F   пенсионер     0   \n",
       "24  Не женат / не замужем                 4      F   пенсионер     0   \n",
       "25        женат / замужем                 0      M   пенсионер     0   \n",
       "\n",
       "    total_income                                purpose  \n",
       "4      158616.08                        сыграть свадьбу  \n",
       "12           nan                        сыграть свадьбу  \n",
       "18      56823.78     на покупку подержанного автомобиля  \n",
       "24     290547.24  операции с коммерческой недвижимостью  \n",
       "25      55112.76                   покупка недвижимости  "
      ]
     },
     "execution_count": 345,
     "metadata": {},
     "output_type": "execute_result"
    }
   ],
   "source": [
    "data.loc[data['days_employed'] > 75,'days_employed'] /= 24 # переводим стаж из дней в годы\n",
    "\n",
    "data[data['income_type'] == 'пенсионер'].head()"
   ]
  },
  {
   "cell_type": "markdown",
   "metadata": {},
   "source": [
    "Теперь стаж по этим заемщикам выглядит на первый взгляд вполне правдоподобно. Если учитывать высокий возраст пенсионеров и стаж 38-42 лет."
   ]
  },
  {
   "cell_type": "markdown",
   "metadata": {},
   "source": [
    "Соотнесем расчитанный таким образом стаж с возрастом всех \"пенсионеров\" в выборке: "
   ]
  },
  {
   "cell_type": "code",
   "execution_count": 346,
   "metadata": {},
   "outputs": [
    {
     "name": "stderr",
     "output_type": "stream",
     "text": [
      "/opt/conda/lib/python3.7/site-packages/ipykernel_launcher.py:4: FutureWarning: using a dict on a Series for aggregation\n",
      "is deprecated and will be removed in a future version. Use                 named aggregation instead.\n",
      "\n",
      "    >>> grouper.agg(name_1=func_1, name_2=func_2)\n",
      "\n",
      "  after removing the cwd from sys.path.\n"
     ]
    },
    {
     "data": {
      "text/html": [
       "<div>\n",
       "<style scoped>\n",
       "    .dataframe tbody tr th:only-of-type {\n",
       "        vertical-align: middle;\n",
       "    }\n",
       "\n",
       "    .dataframe tbody tr th {\n",
       "        vertical-align: top;\n",
       "    }\n",
       "\n",
       "    .dataframe thead tr th {\n",
       "        text-align: left;\n",
       "    }\n",
       "\n",
       "    .dataframe thead tr:last-of-type th {\n",
       "        text-align: right;\n",
       "    }\n",
       "</style>\n",
       "<table border=\"1\" class=\"dataframe\">\n",
       "  <thead>\n",
       "    <tr>\n",
       "      <th></th>\n",
       "      <th colspan=\"4\" halign=\"left\">days_employed</th>\n",
       "    </tr>\n",
       "    <tr>\n",
       "      <th></th>\n",
       "      <th>mean</th>\n",
       "      <th>max</th>\n",
       "      <th>min</th>\n",
       "      <th>count</th>\n",
       "    </tr>\n",
       "    <tr>\n",
       "      <th>dob_years</th>\n",
       "      <th></th>\n",
       "      <th></th>\n",
       "      <th></th>\n",
       "      <th></th>\n",
       "    </tr>\n",
       "  </thead>\n",
       "  <tbody>\n",
       "    <tr>\n",
       "      <td>0</td>\n",
       "      <td>41.39</td>\n",
       "      <td>45.78</td>\n",
       "      <td>37.85</td>\n",
       "      <td>17</td>\n",
       "    </tr>\n",
       "    <tr>\n",
       "      <td>22</td>\n",
       "      <td>38.22</td>\n",
       "      <td>38.22</td>\n",
       "      <td>38.22</td>\n",
       "      <td>1</td>\n",
       "    </tr>\n",
       "    <tr>\n",
       "      <td>24</td>\n",
       "      <td>nan</td>\n",
       "      <td>nan</td>\n",
       "      <td>nan</td>\n",
       "      <td>0</td>\n",
       "    </tr>\n",
       "    <tr>\n",
       "      <td>26</td>\n",
       "      <td>43.02</td>\n",
       "      <td>44.45</td>\n",
       "      <td>41.59</td>\n",
       "      <td>2</td>\n",
       "    </tr>\n",
       "    <tr>\n",
       "      <td>27</td>\n",
       "      <td>41.33</td>\n",
       "      <td>43.32</td>\n",
       "      <td>37.65</td>\n",
       "      <td>3</td>\n",
       "    </tr>\n",
       "    <tr>\n",
       "      <td>28</td>\n",
       "      <td>39.99</td>\n",
       "      <td>39.99</td>\n",
       "      <td>39.99</td>\n",
       "      <td>1</td>\n",
       "    </tr>\n",
       "    <tr>\n",
       "      <td>31</td>\n",
       "      <td>nan</td>\n",
       "      <td>nan</td>\n",
       "      <td>nan</td>\n",
       "      <td>0</td>\n",
       "    </tr>\n",
       "    <tr>\n",
       "      <td>32</td>\n",
       "      <td>38.74</td>\n",
       "      <td>40.30</td>\n",
       "      <td>37.54</td>\n",
       "      <td>3</td>\n",
       "    </tr>\n",
       "    <tr>\n",
       "      <td>33</td>\n",
       "      <td>41.74</td>\n",
       "      <td>45.42</td>\n",
       "      <td>38.06</td>\n",
       "      <td>2</td>\n",
       "    </tr>\n",
       "    <tr>\n",
       "      <td>34</td>\n",
       "      <td>44.07</td>\n",
       "      <td>45.38</td>\n",
       "      <td>42.07</td>\n",
       "      <td>3</td>\n",
       "    </tr>\n",
       "    <tr>\n",
       "      <td>35</td>\n",
       "      <td>41.04</td>\n",
       "      <td>41.04</td>\n",
       "      <td>41.04</td>\n",
       "      <td>1</td>\n",
       "    </tr>\n",
       "    <tr>\n",
       "      <td>36</td>\n",
       "      <td>41.89</td>\n",
       "      <td>43.06</td>\n",
       "      <td>40.46</td>\n",
       "      <td>3</td>\n",
       "    </tr>\n",
       "    <tr>\n",
       "      <td>37</td>\n",
       "      <td>41.14</td>\n",
       "      <td>43.82</td>\n",
       "      <td>38.69</td>\n",
       "      <td>5</td>\n",
       "    </tr>\n",
       "    <tr>\n",
       "      <td>38</td>\n",
       "      <td>41.67</td>\n",
       "      <td>45.09</td>\n",
       "      <td>38.26</td>\n",
       "      <td>8</td>\n",
       "    </tr>\n",
       "    <tr>\n",
       "      <td>39</td>\n",
       "      <td>43.04</td>\n",
       "      <td>45.58</td>\n",
       "      <td>41.41</td>\n",
       "      <td>4</td>\n",
       "    </tr>\n",
       "    <tr>\n",
       "      <td>40</td>\n",
       "      <td>42.16</td>\n",
       "      <td>45.46</td>\n",
       "      <td>38.03</td>\n",
       "      <td>7</td>\n",
       "    </tr>\n",
       "    <tr>\n",
       "      <td>41</td>\n",
       "      <td>41.64</td>\n",
       "      <td>45.28</td>\n",
       "      <td>37.53</td>\n",
       "      <td>6</td>\n",
       "    </tr>\n",
       "    <tr>\n",
       "      <td>42</td>\n",
       "      <td>41.43</td>\n",
       "      <td>45.73</td>\n",
       "      <td>38.40</td>\n",
       "      <td>9</td>\n",
       "    </tr>\n",
       "    <tr>\n",
       "      <td>43</td>\n",
       "      <td>40.96</td>\n",
       "      <td>45.25</td>\n",
       "      <td>38.32</td>\n",
       "      <td>9</td>\n",
       "    </tr>\n",
       "    <tr>\n",
       "      <td>44</td>\n",
       "      <td>41.31</td>\n",
       "      <td>44.58</td>\n",
       "      <td>37.55</td>\n",
       "      <td>10</td>\n",
       "    </tr>\n",
       "    <tr>\n",
       "      <td>45</td>\n",
       "      <td>41.54</td>\n",
       "      <td>45.40</td>\n",
       "      <td>38.06</td>\n",
       "      <td>10</td>\n",
       "    </tr>\n",
       "    <tr>\n",
       "      <td>46</td>\n",
       "      <td>42.53</td>\n",
       "      <td>45.73</td>\n",
       "      <td>37.64</td>\n",
       "      <td>13</td>\n",
       "    </tr>\n",
       "    <tr>\n",
       "      <td>47</td>\n",
       "      <td>41.97</td>\n",
       "      <td>45.72</td>\n",
       "      <td>38.13</td>\n",
       "      <td>13</td>\n",
       "    </tr>\n",
       "    <tr>\n",
       "      <td>48</td>\n",
       "      <td>43.16</td>\n",
       "      <td>45.61</td>\n",
       "      <td>40.32</td>\n",
       "      <td>20</td>\n",
       "    </tr>\n",
       "    <tr>\n",
       "      <td>49</td>\n",
       "      <td>41.45</td>\n",
       "      <td>45.77</td>\n",
       "      <td>37.72</td>\n",
       "      <td>30</td>\n",
       "    </tr>\n",
       "    <tr>\n",
       "      <td>50</td>\n",
       "      <td>41.42</td>\n",
       "      <td>45.80</td>\n",
       "      <td>37.57</td>\n",
       "      <td>61</td>\n",
       "    </tr>\n",
       "    <tr>\n",
       "      <td>51</td>\n",
       "      <td>41.04</td>\n",
       "      <td>45.61</td>\n",
       "      <td>37.54</td>\n",
       "      <td>73</td>\n",
       "    </tr>\n",
       "    <tr>\n",
       "      <td>52</td>\n",
       "      <td>41.57</td>\n",
       "      <td>45.82</td>\n",
       "      <td>37.77</td>\n",
       "      <td>95</td>\n",
       "    </tr>\n",
       "    <tr>\n",
       "      <td>53</td>\n",
       "      <td>41.34</td>\n",
       "      <td>45.78</td>\n",
       "      <td>37.61</td>\n",
       "      <td>105</td>\n",
       "    </tr>\n",
       "    <tr>\n",
       "      <td>54</td>\n",
       "      <td>41.66</td>\n",
       "      <td>45.84</td>\n",
       "      <td>37.54</td>\n",
       "      <td>145</td>\n",
       "    </tr>\n",
       "    <tr>\n",
       "      <td>55</td>\n",
       "      <td>41.79</td>\n",
       "      <td>45.84</td>\n",
       "      <td>37.54</td>\n",
       "      <td>162</td>\n",
       "    </tr>\n",
       "    <tr>\n",
       "      <td>56</td>\n",
       "      <td>41.78</td>\n",
       "      <td>45.86</td>\n",
       "      <td>37.53</td>\n",
       "      <td>184</td>\n",
       "    </tr>\n",
       "    <tr>\n",
       "      <td>57</td>\n",
       "      <td>41.78</td>\n",
       "      <td>45.84</td>\n",
       "      <td>37.55</td>\n",
       "      <td>212</td>\n",
       "    </tr>\n",
       "    <tr>\n",
       "      <td>58</td>\n",
       "      <td>41.56</td>\n",
       "      <td>45.84</td>\n",
       "      <td>37.55</td>\n",
       "      <td>208</td>\n",
       "    </tr>\n",
       "    <tr>\n",
       "      <td>59</td>\n",
       "      <td>41.65</td>\n",
       "      <td>45.85</td>\n",
       "      <td>37.56</td>\n",
       "      <td>254</td>\n",
       "    </tr>\n",
       "    <tr>\n",
       "      <td>60</td>\n",
       "      <td>41.58</td>\n",
       "      <td>45.85</td>\n",
       "      <td>37.55</td>\n",
       "      <td>243</td>\n",
       "    </tr>\n",
       "    <tr>\n",
       "      <td>61</td>\n",
       "      <td>41.50</td>\n",
       "      <td>45.85</td>\n",
       "      <td>37.56</td>\n",
       "      <td>214</td>\n",
       "    </tr>\n",
       "    <tr>\n",
       "      <td>62</td>\n",
       "      <td>41.74</td>\n",
       "      <td>45.83</td>\n",
       "      <td>37.53</td>\n",
       "      <td>235</td>\n",
       "    </tr>\n",
       "    <tr>\n",
       "      <td>63</td>\n",
       "      <td>41.74</td>\n",
       "      <td>45.85</td>\n",
       "      <td>37.64</td>\n",
       "      <td>192</td>\n",
       "    </tr>\n",
       "    <tr>\n",
       "      <td>64</td>\n",
       "      <td>41.70</td>\n",
       "      <td>45.83</td>\n",
       "      <td>37.62</td>\n",
       "      <td>179</td>\n",
       "    </tr>\n",
       "    <tr>\n",
       "      <td>65</td>\n",
       "      <td>41.85</td>\n",
       "      <td>45.81</td>\n",
       "      <td>37.63</td>\n",
       "      <td>136</td>\n",
       "    </tr>\n",
       "    <tr>\n",
       "      <td>66</td>\n",
       "      <td>41.91</td>\n",
       "      <td>45.82</td>\n",
       "      <td>37.56</td>\n",
       "      <td>139</td>\n",
       "    </tr>\n",
       "    <tr>\n",
       "      <td>67</td>\n",
       "      <td>41.42</td>\n",
       "      <td>45.82</td>\n",
       "      <td>37.73</td>\n",
       "      <td>132</td>\n",
       "    </tr>\n",
       "    <tr>\n",
       "      <td>68</td>\n",
       "      <td>41.92</td>\n",
       "      <td>45.84</td>\n",
       "      <td>37.60</td>\n",
       "      <td>80</td>\n",
       "    </tr>\n",
       "    <tr>\n",
       "      <td>69</td>\n",
       "      <td>41.72</td>\n",
       "      <td>45.86</td>\n",
       "      <td>37.62</td>\n",
       "      <td>74</td>\n",
       "    </tr>\n",
       "    <tr>\n",
       "      <td>70</td>\n",
       "      <td>41.61</td>\n",
       "      <td>45.81</td>\n",
       "      <td>37.69</td>\n",
       "      <td>54</td>\n",
       "    </tr>\n",
       "    <tr>\n",
       "      <td>71</td>\n",
       "      <td>41.91</td>\n",
       "      <td>45.63</td>\n",
       "      <td>37.60</td>\n",
       "      <td>48</td>\n",
       "    </tr>\n",
       "    <tr>\n",
       "      <td>72</td>\n",
       "      <td>42.03</td>\n",
       "      <td>45.66</td>\n",
       "      <td>37.53</td>\n",
       "      <td>28</td>\n",
       "    </tr>\n",
       "    <tr>\n",
       "      <td>73</td>\n",
       "      <td>41.73</td>\n",
       "      <td>45.61</td>\n",
       "      <td>38.44</td>\n",
       "      <td>6</td>\n",
       "    </tr>\n",
       "    <tr>\n",
       "      <td>74</td>\n",
       "      <td>41.07</td>\n",
       "      <td>43.40</td>\n",
       "      <td>38.99</td>\n",
       "      <td>4</td>\n",
       "    </tr>\n",
       "  </tbody>\n",
       "</table>\n",
       "</div>"
      ],
      "text/plain": [
       "          days_employed                  \n",
       "                   mean   max   min count\n",
       "dob_years                                \n",
       "0                 41.39 45.78 37.85    17\n",
       "22                38.22 38.22 38.22     1\n",
       "24                  nan   nan   nan     0\n",
       "26                43.02 44.45 41.59     2\n",
       "27                41.33 43.32 37.65     3\n",
       "28                39.99 39.99 39.99     1\n",
       "31                  nan   nan   nan     0\n",
       "32                38.74 40.30 37.54     3\n",
       "33                41.74 45.42 38.06     2\n",
       "34                44.07 45.38 42.07     3\n",
       "35                41.04 41.04 41.04     1\n",
       "36                41.89 43.06 40.46     3\n",
       "37                41.14 43.82 38.69     5\n",
       "38                41.67 45.09 38.26     8\n",
       "39                43.04 45.58 41.41     4\n",
       "40                42.16 45.46 38.03     7\n",
       "41                41.64 45.28 37.53     6\n",
       "42                41.43 45.73 38.40     9\n",
       "43                40.96 45.25 38.32     9\n",
       "44                41.31 44.58 37.55    10\n",
       "45                41.54 45.40 38.06    10\n",
       "46                42.53 45.73 37.64    13\n",
       "47                41.97 45.72 38.13    13\n",
       "48                43.16 45.61 40.32    20\n",
       "49                41.45 45.77 37.72    30\n",
       "50                41.42 45.80 37.57    61\n",
       "51                41.04 45.61 37.54    73\n",
       "52                41.57 45.82 37.77    95\n",
       "53                41.34 45.78 37.61   105\n",
       "54                41.66 45.84 37.54   145\n",
       "55                41.79 45.84 37.54   162\n",
       "56                41.78 45.86 37.53   184\n",
       "57                41.78 45.84 37.55   212\n",
       "58                41.56 45.84 37.55   208\n",
       "59                41.65 45.85 37.56   254\n",
       "60                41.58 45.85 37.55   243\n",
       "61                41.50 45.85 37.56   214\n",
       "62                41.74 45.83 37.53   235\n",
       "63                41.74 45.85 37.64   192\n",
       "64                41.70 45.83 37.62   179\n",
       "65                41.85 45.81 37.63   136\n",
       "66                41.91 45.82 37.56   139\n",
       "67                41.42 45.82 37.73   132\n",
       "68                41.92 45.84 37.60    80\n",
       "69                41.72 45.86 37.62    74\n",
       "70                41.61 45.81 37.69    54\n",
       "71                41.91 45.63 37.60    48\n",
       "72                42.03 45.66 37.53    28\n",
       "73                41.73 45.61 38.44     6\n",
       "74                41.07 43.40 38.99     4"
      ]
     },
     "execution_count": 346,
     "metadata": {},
     "output_type": "execute_result"
    }
   ],
   "source": [
    "data_pensioner = data[data['income_type'] == 'пенсионер'] # отфильтруем таблицу \n",
    "\n",
    "# сгруппируем по годам \"пенсионеров\" и выведем статистику по стажу:\n",
    "data_pensioner.groupby('dob_years')['days_employed'].agg({'days_employed':['mean', 'max', 'min','count']})   "
   ]
  },
  {
   "cell_type": "markdown",
   "metadata": {},
   "source": [
    "Как видим из сгруппированной таблицы стаж по годам практически не меняется. И если для пенсионеров возрастом выше 60 лет вполне нормально иметь стаж 41 год, то для пенсионеров младше это является недопустимым.  \n",
    "Помимо того встречаются молодые пенсионеры (от 22 до 40 лет), а также у 17 человек указан возраст 0.  \n",
    "\n",
    "На основании этого можно сделлать вывод о том, что указанные аномально большие данные стажа в этих строках преобразовать в приемлемый вид не получается и они являются некорректными, по крайней меры для половины значений. Похоже на техническую ошибку так как у большинства заемщиков значения стажа очень похожи.   \n",
    "Можно заполнить пропуски стажа и заменить аномальные значения стажа медианой. Но точность данных стажа снизится, а пропуски ежемесячного дохода можно заполнить с помощью других переменных.  \n",
    "Для заполнения пропусков в столбце ежемесячный доход вместо `стажа` будем использовать данные по `возрасту` и еще нескольких переменных."
   ]
  },
  {
   "cell_type": "markdown",
   "metadata": {},
   "source": [
    "Заполним пропуски стажа медианой с группировкой по семейному статусу:"
   ]
  },
  {
   "cell_type": "code",
   "execution_count": 347,
   "metadata": {},
   "outputs": [],
   "source": [
    "for family in data['family_status'].unique():\n",
    "    median = data.loc[data['family_status'] == family, 'days_employed'].median()\n",
    "    data.loc[(data['days_employed'].isna()) & (data['family_status'] == family), 'days_employed'] = median"
   ]
  },
  {
   "cell_type": "code",
   "execution_count": 348,
   "metadata": {},
   "outputs": [
    {
     "data": {
      "text/plain": [
       "('Количество пропусков после:', 0)"
      ]
     },
     "execution_count": 348,
     "metadata": {},
     "output_type": "execute_result"
    }
   ],
   "source": [
    "'Количество пропусков после:', data['days_employed'].isna().sum()"
   ]
  },
  {
   "cell_type": "markdown",
   "metadata": {},
   "source": [
    "После преобразования стажа из дней в годы, логичным будет переименовать столбец `days_employed` в `years_employed`. \n"
   ]
  },
  {
   "cell_type": "code",
   "execution_count": 349,
   "metadata": {},
   "outputs": [],
   "source": [
    "data = data.rename(columns={'days_employed':'years_employed'})"
   ]
  },
  {
   "cell_type": "markdown",
   "metadata": {},
   "source": [
    "#### Заполним пропуски в столбце `ежемесячный доход`. \n",
    "Для заполнения пропусков логичным будет ориентироваться на `тип занятости`, `пол клиента` и `возраст клиента`. От этих переменных зависит уровень ежемесячного дохода."
   ]
  },
  {
   "cell_type": "markdown",
   "metadata": {},
   "source": [
    "**Начнем с возраста клиента**:"
   ]
  },
  {
   "cell_type": "markdown",
   "metadata": {},
   "source": [
    "Как мы видели ранее, в столбце возраст встречаются значения \"0\", что по сути является неявным пропуском либо ошибкой заполнения.  \n",
    "Посмотрим сколько таких значений в данных:"
   ]
  },
  {
   "cell_type": "code",
   "execution_count": 350,
   "metadata": {
    "scrolled": true
   },
   "outputs": [
    {
     "data": {
      "text/plain": [
       "(\"Количество клиентов с возрастом '0':\", 101)"
      ]
     },
     "execution_count": 350,
     "metadata": {},
     "output_type": "execute_result"
    }
   ],
   "source": [
    "\"Количество клиентов с возрастом '0':\", data[data['dob_years'] == 0]['dob_years'].count()"
   ]
  },
  {
   "cell_type": "markdown",
   "metadata": {},
   "source": [
    "Всего 101 значение. Можно заменить эти значения медианой по типу занятости ,семейному статусу. и скорее всего это будет не очень корректно. Но их настолько мало что они не сильно повлияют на конечный расчет. Будем игнорировать их при расчете медианы по доходу."
   ]
  },
  {
   "cell_type": "markdown",
   "metadata": {},
   "source": [
    "Чтобы нам не расчитывать медину по каждому \"году\" возраста сформируем категории по возрастным группам:"
   ]
  },
  {
   "cell_type": "code",
   "execution_count": 351,
   "metadata": {},
   "outputs": [],
   "source": [
    "def age_group(age): # объявлем функцию, которая возвращает возврастную группу по значению возраста\n",
    "                # разделяем на 6 возрастных групп: \"до 25\", \"от 25 до 35\", \"от 35 до 45\",\"от 45 до 55\"\"от 55 до 65\" \"cвыше 65\".\n",
    "    if age <= 25:        \n",
    "        return 'до_25'\n",
    "    if age <= 35:\n",
    "        return 'от_25_до_35'\n",
    "    if age <= 45:\n",
    "        return 'от_35_до_45'\n",
    "    if age <= 55:\n",
    "        return 'от_45_до_55'\n",
    "    if age <= 65:\n",
    "        return 'от_55_до_65'\n",
    "    return 'выше_65' "
   ]
  },
  {
   "cell_type": "code",
   "execution_count": 352,
   "metadata": {},
   "outputs": [
    {
     "data": {
      "text/plain": [
       "'от_45_до_55'"
      ]
     },
     "execution_count": 352,
     "metadata": {},
     "output_type": "execute_result"
    }
   ],
   "source": [
    "age_group(50) # проверим работу функции"
   ]
  },
  {
   "cell_type": "code",
   "execution_count": 353,
   "metadata": {},
   "outputs": [
    {
     "data": {
      "text/plain": [
       "'до_25'"
      ]
     },
     "execution_count": 353,
     "metadata": {},
     "output_type": "execute_result"
    }
   ],
   "source": [
    "age_group(23) # проверим работу функции"
   ]
  },
  {
   "cell_type": "markdown",
   "metadata": {},
   "source": [
    "Добаляем новый столбец \"Возрастная группа\""
   ]
  },
  {
   "cell_type": "code",
   "execution_count": 354,
   "metadata": {},
   "outputs": [
    {
     "data": {
      "text/html": [
       "<div>\n",
       "<style scoped>\n",
       "    .dataframe tbody tr th:only-of-type {\n",
       "        vertical-align: middle;\n",
       "    }\n",
       "\n",
       "    .dataframe tbody tr th {\n",
       "        vertical-align: top;\n",
       "    }\n",
       "\n",
       "    .dataframe thead th {\n",
       "        text-align: right;\n",
       "    }\n",
       "</style>\n",
       "<table border=\"1\" class=\"dataframe\">\n",
       "  <thead>\n",
       "    <tr style=\"text-align: right;\">\n",
       "      <th></th>\n",
       "      <th>dob_years</th>\n",
       "      <th>age_group</th>\n",
       "    </tr>\n",
       "  </thead>\n",
       "  <tbody>\n",
       "    <tr>\n",
       "      <td>0</td>\n",
       "      <td>42</td>\n",
       "      <td>от_35_до_45</td>\n",
       "    </tr>\n",
       "    <tr>\n",
       "      <td>1</td>\n",
       "      <td>36</td>\n",
       "      <td>от_35_до_45</td>\n",
       "    </tr>\n",
       "    <tr>\n",
       "      <td>2</td>\n",
       "      <td>33</td>\n",
       "      <td>от_25_до_35</td>\n",
       "    </tr>\n",
       "    <tr>\n",
       "      <td>3</td>\n",
       "      <td>32</td>\n",
       "      <td>от_25_до_35</td>\n",
       "    </tr>\n",
       "    <tr>\n",
       "      <td>4</td>\n",
       "      <td>53</td>\n",
       "      <td>от_45_до_55</td>\n",
       "    </tr>\n",
       "    <tr>\n",
       "      <td>5</td>\n",
       "      <td>27</td>\n",
       "      <td>от_25_до_35</td>\n",
       "    </tr>\n",
       "    <tr>\n",
       "      <td>6</td>\n",
       "      <td>43</td>\n",
       "      <td>от_35_до_45</td>\n",
       "    </tr>\n",
       "    <tr>\n",
       "      <td>7</td>\n",
       "      <td>50</td>\n",
       "      <td>от_45_до_55</td>\n",
       "    </tr>\n",
       "    <tr>\n",
       "      <td>8</td>\n",
       "      <td>35</td>\n",
       "      <td>от_25_до_35</td>\n",
       "    </tr>\n",
       "    <tr>\n",
       "      <td>9</td>\n",
       "      <td>41</td>\n",
       "      <td>от_35_до_45</td>\n",
       "    </tr>\n",
       "  </tbody>\n",
       "</table>\n",
       "</div>"
      ],
      "text/plain": [
       "   dob_years    age_group\n",
       "0         42  от_35_до_45\n",
       "1         36  от_35_до_45\n",
       "2         33  от_25_до_35\n",
       "3         32  от_25_до_35\n",
       "4         53  от_45_до_55\n",
       "5         27  от_25_до_35\n",
       "6         43  от_35_до_45\n",
       "7         50  от_45_до_55\n",
       "8         35  от_25_до_35\n",
       "9         41  от_35_до_45"
      ]
     },
     "execution_count": 354,
     "metadata": {},
     "output_type": "execute_result"
    }
   ],
   "source": [
    "data['age_group'] = data['dob_years'].apply(age_group)  \n",
    "\n",
    "data.loc[:, ['dob_years', 'age_group']].head(10)       # Проверим как добавился новый столбец"
   ]
  },
  {
   "cell_type": "markdown",
   "metadata": {},
   "source": [
    "**Проверим столбец \"тип занятости\":**"
   ]
  },
  {
   "cell_type": "markdown",
   "metadata": {},
   "source": [
    "Выводим уникальные значения в столбце занятость и их количество."
   ]
  },
  {
   "cell_type": "code",
   "execution_count": 355,
   "metadata": {},
   "outputs": [
    {
     "data": {
      "text/plain": [
       "сотрудник          11119\n",
       "компаньон           5085\n",
       "пенсионер           3856\n",
       "госслужащий         1459\n",
       "безработный            2\n",
       "предприниматель        2\n",
       "студент                1\n",
       "в декрете              1\n",
       "Name: income_type, dtype: int64"
      ]
     },
     "execution_count": 355,
     "metadata": {},
     "output_type": "execute_result"
    }
   ],
   "source": [
    "data['income_type'].value_counts() "
   ]
  },
  {
   "cell_type": "markdown",
   "metadata": {},
   "source": [
    "Тип занятости \"предприниматель\" можно объединить с \"компаньон\". По сути компаньон это совладелец бизнеса как и предприниматель который владеет бизнесом."
   ]
  },
  {
   "cell_type": "code",
   "execution_count": 356,
   "metadata": {},
   "outputs": [],
   "source": [
    "data['income_type'] = data['income_type'].replace('предприниматель', 'компаньон') # заменяем значения в столбце тип занятости"
   ]
  },
  {
   "cell_type": "code",
   "execution_count": 357,
   "metadata": {
    "scrolled": true
   },
   "outputs": [
    {
     "data": {
      "text/plain": [
       "сотрудник      11119\n",
       "компаньон       5087\n",
       "пенсионер       3856\n",
       "госслужащий     1459\n",
       "безработный        2\n",
       "студент            1\n",
       "в декрете          1\n",
       "Name: income_type, dtype: int64"
      ]
     },
     "execution_count": 357,
     "metadata": {},
     "output_type": "execute_result"
    }
   ],
   "source": [
    "data['income_type'].value_counts() # проверяем как прошла замена"
   ]
  },
  {
   "cell_type": "markdown",
   "metadata": {},
   "source": [
    "**Посмотрим столбец \"пол клиента\":**"
   ]
  },
  {
   "cell_type": "markdown",
   "metadata": {},
   "source": [
    "Выводим уникальные значения в столбце пол клиента и их количество."
   ]
  },
  {
   "cell_type": "code",
   "execution_count": 358,
   "metadata": {
    "scrolled": true
   },
   "outputs": [
    {
     "data": {
      "text/plain": [
       "F      14236\n",
       "M       7288\n",
       "XNA        1\n",
       "Name: gender, dtype: int64"
      ]
     },
     "execution_count": 358,
     "metadata": {},
     "output_type": "execute_result"
    }
   ],
   "source": [
    "data['gender'].value_counts() "
   ]
  },
  {
   "cell_type": "markdown",
   "metadata": {},
   "source": [
    "Значение \"XNA\" в столбце пол клиента всего одно. Определить пол по другим данным в таблице не получится. Но удалять его не будем. Убирем его при расчетах."
   ]
  },
  {
   "cell_type": "markdown",
   "metadata": {},
   "source": [
    "**Теперь все готово для расчета медианы дохода по трем переменным.**"
   ]
  },
  {
   "cell_type": "markdown",
   "metadata": {},
   "source": [
    "Сформируем сводную таблицу по строкам `тип занятости` и `возрастная группа`. По столбцам  `пол клиента`. В значениях будет медиана ежемесячного дохода."
   ]
  },
  {
   "cell_type": "code",
   "execution_count": 359,
   "metadata": {},
   "outputs": [
    {
     "data": {
      "text/html": [
       "<div>\n",
       "<style scoped>\n",
       "    .dataframe tbody tr th:only-of-type {\n",
       "        vertical-align: middle;\n",
       "    }\n",
       "\n",
       "    .dataframe tbody tr th {\n",
       "        vertical-align: top;\n",
       "    }\n",
       "\n",
       "    .dataframe thead th {\n",
       "        text-align: right;\n",
       "    }\n",
       "</style>\n",
       "<table border=\"1\" class=\"dataframe\">\n",
       "  <thead>\n",
       "    <tr style=\"text-align: right;\">\n",
       "      <th></th>\n",
       "      <th>income_type</th>\n",
       "      <th>age_group</th>\n",
       "      <th>gender</th>\n",
       "      <th>total_income</th>\n",
       "    </tr>\n",
       "  </thead>\n",
       "  <tbody>\n",
       "    <tr>\n",
       "      <td>0</td>\n",
       "      <td>безработный</td>\n",
       "      <td>от_25_до_35</td>\n",
       "      <td>M</td>\n",
       "      <td>59956.99</td>\n",
       "    </tr>\n",
       "    <tr>\n",
       "      <td>1</td>\n",
       "      <td>безработный</td>\n",
       "      <td>от_35_до_45</td>\n",
       "      <td>F</td>\n",
       "      <td>202722.51</td>\n",
       "    </tr>\n",
       "    <tr>\n",
       "      <td>2</td>\n",
       "      <td>в декрете</td>\n",
       "      <td>от_35_до_45</td>\n",
       "      <td>F</td>\n",
       "      <td>53829.13</td>\n",
       "    </tr>\n",
       "    <tr>\n",
       "      <td>3</td>\n",
       "      <td>госслужащий</td>\n",
       "      <td>выше_65</td>\n",
       "      <td>F</td>\n",
       "      <td>163060.54</td>\n",
       "    </tr>\n",
       "    <tr>\n",
       "      <td>4</td>\n",
       "      <td>госслужащий</td>\n",
       "      <td>выше_65</td>\n",
       "      <td>M</td>\n",
       "      <td>173045.86</td>\n",
       "    </tr>\n",
       "    <tr>\n",
       "      <td>5</td>\n",
       "      <td>госслужащий</td>\n",
       "      <td>до_25</td>\n",
       "      <td>F</td>\n",
       "      <td>135659.90</td>\n",
       "    </tr>\n",
       "    <tr>\n",
       "      <td>6</td>\n",
       "      <td>госслужащий</td>\n",
       "      <td>до_25</td>\n",
       "      <td>M</td>\n",
       "      <td>152474.69</td>\n",
       "    </tr>\n",
       "    <tr>\n",
       "      <td>7</td>\n",
       "      <td>госслужащий</td>\n",
       "      <td>от_25_до_35</td>\n",
       "      <td>F</td>\n",
       "      <td>131796.54</td>\n",
       "    </tr>\n",
       "    <tr>\n",
       "      <td>8</td>\n",
       "      <td>госслужащий</td>\n",
       "      <td>от_25_до_35</td>\n",
       "      <td>M</td>\n",
       "      <td>202125.19</td>\n",
       "    </tr>\n",
       "    <tr>\n",
       "      <td>9</td>\n",
       "      <td>госслужащий</td>\n",
       "      <td>от_35_до_45</td>\n",
       "      <td>F</td>\n",
       "      <td>135671.04</td>\n",
       "    </tr>\n",
       "    <tr>\n",
       "      <td>10</td>\n",
       "      <td>госслужащий</td>\n",
       "      <td>от_35_до_45</td>\n",
       "      <td>M</td>\n",
       "      <td>187670.05</td>\n",
       "    </tr>\n",
       "    <tr>\n",
       "      <td>11</td>\n",
       "      <td>госслужащий</td>\n",
       "      <td>от_45_до_55</td>\n",
       "      <td>F</td>\n",
       "      <td>141705.82</td>\n",
       "    </tr>\n",
       "    <tr>\n",
       "      <td>12</td>\n",
       "      <td>госслужащий</td>\n",
       "      <td>от_45_до_55</td>\n",
       "      <td>M</td>\n",
       "      <td>175870.14</td>\n",
       "    </tr>\n",
       "    <tr>\n",
       "      <td>13</td>\n",
       "      <td>госслужащий</td>\n",
       "      <td>от_55_до_65</td>\n",
       "      <td>F</td>\n",
       "      <td>144998.40</td>\n",
       "    </tr>\n",
       "    <tr>\n",
       "      <td>14</td>\n",
       "      <td>госслужащий</td>\n",
       "      <td>от_55_до_65</td>\n",
       "      <td>M</td>\n",
       "      <td>176380.88</td>\n",
       "    </tr>\n",
       "    <tr>\n",
       "      <td>15</td>\n",
       "      <td>компаньон</td>\n",
       "      <td>выше_65</td>\n",
       "      <td>F</td>\n",
       "      <td>183123.53</td>\n",
       "    </tr>\n",
       "    <tr>\n",
       "      <td>16</td>\n",
       "      <td>компаньон</td>\n",
       "      <td>выше_65</td>\n",
       "      <td>M</td>\n",
       "      <td>203055.99</td>\n",
       "    </tr>\n",
       "    <tr>\n",
       "      <td>17</td>\n",
       "      <td>компаньон</td>\n",
       "      <td>до_25</td>\n",
       "      <td>F</td>\n",
       "      <td>131550.38</td>\n",
       "    </tr>\n",
       "    <tr>\n",
       "      <td>18</td>\n",
       "      <td>компаньон</td>\n",
       "      <td>до_25</td>\n",
       "      <td>M</td>\n",
       "      <td>162502.65</td>\n",
       "    </tr>\n",
       "    <tr>\n",
       "      <td>19</td>\n",
       "      <td>компаньон</td>\n",
       "      <td>от_25_до_35</td>\n",
       "      <td>F</td>\n",
       "      <td>157843.96</td>\n",
       "    </tr>\n",
       "    <tr>\n",
       "      <td>20</td>\n",
       "      <td>компаньон</td>\n",
       "      <td>от_25_до_35</td>\n",
       "      <td>M</td>\n",
       "      <td>198292.58</td>\n",
       "    </tr>\n",
       "    <tr>\n",
       "      <td>21</td>\n",
       "      <td>компаньон</td>\n",
       "      <td>от_35_до_45</td>\n",
       "      <td>F</td>\n",
       "      <td>164416.34</td>\n",
       "    </tr>\n",
       "    <tr>\n",
       "      <td>22</td>\n",
       "      <td>компаньон</td>\n",
       "      <td>от_35_до_45</td>\n",
       "      <td>M</td>\n",
       "      <td>203580.78</td>\n",
       "    </tr>\n",
       "    <tr>\n",
       "      <td>23</td>\n",
       "      <td>компаньон</td>\n",
       "      <td>от_45_до_55</td>\n",
       "      <td>F</td>\n",
       "      <td>167468.10</td>\n",
       "    </tr>\n",
       "    <tr>\n",
       "      <td>24</td>\n",
       "      <td>компаньон</td>\n",
       "      <td>от_45_до_55</td>\n",
       "      <td>M</td>\n",
       "      <td>206945.29</td>\n",
       "    </tr>\n",
       "    <tr>\n",
       "      <td>25</td>\n",
       "      <td>компаньон</td>\n",
       "      <td>от_55_до_65</td>\n",
       "      <td>F</td>\n",
       "      <td>166395.50</td>\n",
       "    </tr>\n",
       "    <tr>\n",
       "      <td>26</td>\n",
       "      <td>компаньон</td>\n",
       "      <td>от_55_до_65</td>\n",
       "      <td>M</td>\n",
       "      <td>192535.12</td>\n",
       "    </tr>\n",
       "    <tr>\n",
       "      <td>27</td>\n",
       "      <td>пенсионер</td>\n",
       "      <td>выше_65</td>\n",
       "      <td>F</td>\n",
       "      <td>104239.38</td>\n",
       "    </tr>\n",
       "    <tr>\n",
       "      <td>28</td>\n",
       "      <td>пенсионер</td>\n",
       "      <td>выше_65</td>\n",
       "      <td>M</td>\n",
       "      <td>114351.29</td>\n",
       "    </tr>\n",
       "    <tr>\n",
       "      <td>29</td>\n",
       "      <td>пенсионер</td>\n",
       "      <td>до_25</td>\n",
       "      <td>F</td>\n",
       "      <td>89368.60</td>\n",
       "    </tr>\n",
       "    <tr>\n",
       "      <td>30</td>\n",
       "      <td>пенсионер</td>\n",
       "      <td>от_25_до_35</td>\n",
       "      <td>F</td>\n",
       "      <td>93680.53</td>\n",
       "    </tr>\n",
       "    <tr>\n",
       "      <td>31</td>\n",
       "      <td>пенсионер</td>\n",
       "      <td>от_25_до_35</td>\n",
       "      <td>M</td>\n",
       "      <td>97961.99</td>\n",
       "    </tr>\n",
       "    <tr>\n",
       "      <td>32</td>\n",
       "      <td>пенсионер</td>\n",
       "      <td>от_35_до_45</td>\n",
       "      <td>F</td>\n",
       "      <td>121280.83</td>\n",
       "    </tr>\n",
       "    <tr>\n",
       "      <td>33</td>\n",
       "      <td>пенсионер</td>\n",
       "      <td>от_35_до_45</td>\n",
       "      <td>M</td>\n",
       "      <td>146601.78</td>\n",
       "    </tr>\n",
       "    <tr>\n",
       "      <td>34</td>\n",
       "      <td>пенсионер</td>\n",
       "      <td>от_45_до_55</td>\n",
       "      <td>F</td>\n",
       "      <td>116898.85</td>\n",
       "    </tr>\n",
       "    <tr>\n",
       "      <td>35</td>\n",
       "      <td>пенсионер</td>\n",
       "      <td>от_45_до_55</td>\n",
       "      <td>M</td>\n",
       "      <td>165409.42</td>\n",
       "    </tr>\n",
       "    <tr>\n",
       "      <td>36</td>\n",
       "      <td>пенсионер</td>\n",
       "      <td>от_55_до_65</td>\n",
       "      <td>F</td>\n",
       "      <td>119372.53</td>\n",
       "    </tr>\n",
       "    <tr>\n",
       "      <td>37</td>\n",
       "      <td>пенсионер</td>\n",
       "      <td>от_55_до_65</td>\n",
       "      <td>M</td>\n",
       "      <td>128747.68</td>\n",
       "    </tr>\n",
       "    <tr>\n",
       "      <td>38</td>\n",
       "      <td>сотрудник</td>\n",
       "      <td>выше_65</td>\n",
       "      <td>F</td>\n",
       "      <td>149561.90</td>\n",
       "    </tr>\n",
       "    <tr>\n",
       "      <td>39</td>\n",
       "      <td>сотрудник</td>\n",
       "      <td>выше_65</td>\n",
       "      <td>M</td>\n",
       "      <td>208213.38</td>\n",
       "    </tr>\n",
       "    <tr>\n",
       "      <td>40</td>\n",
       "      <td>сотрудник</td>\n",
       "      <td>до_25</td>\n",
       "      <td>F</td>\n",
       "      <td>111122.46</td>\n",
       "    </tr>\n",
       "    <tr>\n",
       "      <td>41</td>\n",
       "      <td>сотрудник</td>\n",
       "      <td>до_25</td>\n",
       "      <td>M</td>\n",
       "      <td>148146.12</td>\n",
       "    </tr>\n",
       "    <tr>\n",
       "      <td>42</td>\n",
       "      <td>сотрудник</td>\n",
       "      <td>от_25_до_35</td>\n",
       "      <td>F</td>\n",
       "      <td>129991.30</td>\n",
       "    </tr>\n",
       "    <tr>\n",
       "      <td>43</td>\n",
       "      <td>сотрудник</td>\n",
       "      <td>от_25_до_35</td>\n",
       "      <td>M</td>\n",
       "      <td>160552.64</td>\n",
       "    </tr>\n",
       "    <tr>\n",
       "      <td>44</td>\n",
       "      <td>сотрудник</td>\n",
       "      <td>от_35_до_45</td>\n",
       "      <td>F</td>\n",
       "      <td>133832.22</td>\n",
       "    </tr>\n",
       "    <tr>\n",
       "      <td>45</td>\n",
       "      <td>сотрудник</td>\n",
       "      <td>от_35_до_45</td>\n",
       "      <td>M</td>\n",
       "      <td>168111.08</td>\n",
       "    </tr>\n",
       "    <tr>\n",
       "      <td>46</td>\n",
       "      <td>сотрудник</td>\n",
       "      <td>от_45_до_55</td>\n",
       "      <td>F</td>\n",
       "      <td>130913.93</td>\n",
       "    </tr>\n",
       "    <tr>\n",
       "      <td>47</td>\n",
       "      <td>сотрудник</td>\n",
       "      <td>от_45_до_55</td>\n",
       "      <td>M</td>\n",
       "      <td>158583.34</td>\n",
       "    </tr>\n",
       "    <tr>\n",
       "      <td>48</td>\n",
       "      <td>сотрудник</td>\n",
       "      <td>от_55_до_65</td>\n",
       "      <td>F</td>\n",
       "      <td>140631.33</td>\n",
       "    </tr>\n",
       "    <tr>\n",
       "      <td>49</td>\n",
       "      <td>сотрудник</td>\n",
       "      <td>от_55_до_65</td>\n",
       "      <td>M</td>\n",
       "      <td>163139.69</td>\n",
       "    </tr>\n",
       "    <tr>\n",
       "      <td>50</td>\n",
       "      <td>студент</td>\n",
       "      <td>до_25</td>\n",
       "      <td>M</td>\n",
       "      <td>98201.63</td>\n",
       "    </tr>\n",
       "  </tbody>\n",
       "</table>\n",
       "</div>"
      ],
      "text/plain": [
       "    income_type    age_group gender  total_income\n",
       "0   безработный  от_25_до_35      M      59956.99\n",
       "1   безработный  от_35_до_45      F     202722.51\n",
       "2     в декрете  от_35_до_45      F      53829.13\n",
       "3   госслужащий      выше_65      F     163060.54\n",
       "4   госслужащий      выше_65      M     173045.86\n",
       "5   госслужащий        до_25      F     135659.90\n",
       "6   госслужащий        до_25      M     152474.69\n",
       "7   госслужащий  от_25_до_35      F     131796.54\n",
       "8   госслужащий  от_25_до_35      M     202125.19\n",
       "9   госслужащий  от_35_до_45      F     135671.04\n",
       "10  госслужащий  от_35_до_45      M     187670.05\n",
       "11  госслужащий  от_45_до_55      F     141705.82\n",
       "12  госслужащий  от_45_до_55      M     175870.14\n",
       "13  госслужащий  от_55_до_65      F     144998.40\n",
       "14  госслужащий  от_55_до_65      M     176380.88\n",
       "15    компаньон      выше_65      F     183123.53\n",
       "16    компаньон      выше_65      M     203055.99\n",
       "17    компаньон        до_25      F     131550.38\n",
       "18    компаньон        до_25      M     162502.65\n",
       "19    компаньон  от_25_до_35      F     157843.96\n",
       "20    компаньон  от_25_до_35      M     198292.58\n",
       "21    компаньон  от_35_до_45      F     164416.34\n",
       "22    компаньон  от_35_до_45      M     203580.78\n",
       "23    компаньон  от_45_до_55      F     167468.10\n",
       "24    компаньон  от_45_до_55      M     206945.29\n",
       "25    компаньон  от_55_до_65      F     166395.50\n",
       "26    компаньон  от_55_до_65      M     192535.12\n",
       "27    пенсионер      выше_65      F     104239.38\n",
       "28    пенсионер      выше_65      M     114351.29\n",
       "29    пенсионер        до_25      F      89368.60\n",
       "30    пенсионер  от_25_до_35      F      93680.53\n",
       "31    пенсионер  от_25_до_35      M      97961.99\n",
       "32    пенсионер  от_35_до_45      F     121280.83\n",
       "33    пенсионер  от_35_до_45      M     146601.78\n",
       "34    пенсионер  от_45_до_55      F     116898.85\n",
       "35    пенсионер  от_45_до_55      M     165409.42\n",
       "36    пенсионер  от_55_до_65      F     119372.53\n",
       "37    пенсионер  от_55_до_65      M     128747.68\n",
       "38    сотрудник      выше_65      F     149561.90\n",
       "39    сотрудник      выше_65      M     208213.38\n",
       "40    сотрудник        до_25      F     111122.46\n",
       "41    сотрудник        до_25      M     148146.12\n",
       "42    сотрудник  от_25_до_35      F     129991.30\n",
       "43    сотрудник  от_25_до_35      M     160552.64\n",
       "44    сотрудник  от_35_до_45      F     133832.22\n",
       "45    сотрудник  от_35_до_45      M     168111.08\n",
       "46    сотрудник  от_45_до_55      F     130913.93\n",
       "47    сотрудник  от_45_до_55      M     158583.34\n",
       "48    сотрудник  от_55_до_65      F     140631.33\n",
       "49    сотрудник  от_55_до_65      M     163139.69\n",
       "50      студент        до_25      M      98201.63"
      ]
     },
     "execution_count": 359,
     "metadata": {},
     "output_type": "execute_result"
    }
   ],
   "source": [
    "data_p = data[(data['dob_years'] != 0) & (data['gender'] != 'XNA')]\n",
    "\n",
    "data_pivot = data_p.pivot_table(index=['income_type', 'age_group', 'gender'], values='total_income',\n",
    "                              aggfunc='median')\n",
    "data_pivot_ri = data_pivot.reset_index() # убирем мультииндекс чтобы ссылаться на таблицу по столбцам\n",
    "\n",
    "data_pivot_ri.head(10)"
   ]
  },
  {
   "cell_type": "markdown",
   "metadata": {},
   "source": [
    "Создадим функцию fill_income(), которая вернет медиану из сводной таблицы в зависимости от 3 параметров:  \n",
    "`тип занятости`, `возрастная группа` и `пол клиента`."
   ]
  },
  {
   "cell_type": "code",
   "execution_count": 360,
   "metadata": {},
   "outputs": [],
   "source": [
    "def fill_income(income_type, age_group, gender):\n",
    "    for i in range(len(data_pivot_ri)):\n",
    "        if (data_pivot_ri.loc[i,'income_type'] == income_type) & (data_pivot_ri.loc[i,'age_group'] == age_group) & (data_pivot_ri.loc[i,'gender'] == gender):\n",
    "            return data_pivot_ri.loc[i,'total_income']"
   ]
  },
  {
   "cell_type": "code",
   "execution_count": 361,
   "metadata": {},
   "outputs": [
    {
     "data": {
      "text/plain": [
       "129991.30336401633"
      ]
     },
     "execution_count": 361,
     "metadata": {},
     "output_type": "execute_result"
    }
   ],
   "source": [
    "a = 'сотрудник'  # Проверим как работает функция\n",
    "b = 'от_25_до_35'\n",
    "c = 'F'\n",
    "fill_income(a, b, c)"
   ]
  },
  {
   "cell_type": "markdown",
   "metadata": {},
   "source": [
    "С помощью цикла и функции заполним пустые значения в столбце `ежемесячный доход`."
   ]
  },
  {
   "cell_type": "code",
   "execution_count": 362,
   "metadata": {},
   "outputs": [],
   "source": [
    "fata = data[data['total_income'].isna()].index # сохраняем в список индексы пропущенных строк\n",
    "                                        # Перебираем индексы пропусков и передаем в функцию значения столбцов.\n",
    "                                        # Затем функция возвращает соответствующее значение из сводной.              \n",
    "for i in fata:      \n",
    "    data.loc[i,'total_income'] = fill_income(data.loc[i, 'income_type'], data.loc[i, 'age_group'], data.loc[i, 'gender'])"
   ]
  },
  {
   "cell_type": "code",
   "execution_count": 363,
   "metadata": {},
   "outputs": [
    {
     "data": {
      "text/plain": [
       "('Количество пропусков после:', 0)"
      ]
     },
     "execution_count": 363,
     "metadata": {},
     "output_type": "execute_result"
    }
   ],
   "source": [
    "'Количество пропусков после:', data['total_income'].isna().sum()"
   ]
  },
  {
   "cell_type": "markdown",
   "metadata": {},
   "source": [
    "**Посмотрим на столбец `количество детей`:**  \n",
    "Данные по детям нам в дальнейшем пригодятся для анализа."
   ]
  },
  {
   "cell_type": "code",
   "execution_count": 364,
   "metadata": {},
   "outputs": [
    {
     "data": {
      "text/plain": [
       " 0     14149\n",
       " 1      4818\n",
       " 2      2055\n",
       " 3       330\n",
       " 20       76\n",
       "-1        47\n",
       " 4        41\n",
       " 5         9\n",
       "Name: children, dtype: int64"
      ]
     },
     "execution_count": 364,
     "metadata": {},
     "output_type": "execute_result"
    }
   ],
   "source": [
    "data['children'].value_counts()"
   ]
  },
  {
   "cell_type": "markdown",
   "metadata": {},
   "source": [
    "Мы видим отрицательные значения что является ошибкой. Возможно технилогической. Также обращает внимание большое количество детей \"20\" у 76 клиентов. Вероятно человеческий фактор. Но так как наш вопрос о влиянии наличия детей, а не количества на возврат кредита, то оставим это без изменений.  \n",
    "Избавимся от отрицательных значений. "
   ]
  },
  {
   "cell_type": "code",
   "execution_count": 365,
   "metadata": {},
   "outputs": [],
   "source": [
    "data['children'] = data['children'].abs()"
   ]
  },
  {
   "cell_type": "code",
   "execution_count": 366,
   "metadata": {},
   "outputs": [
    {
     "data": {
      "text/plain": [
       "0     14149\n",
       "1      4865\n",
       "2      2055\n",
       "3       330\n",
       "20       76\n",
       "4        41\n",
       "5         9\n",
       "Name: children, dtype: int64"
      ]
     },
     "execution_count": 366,
     "metadata": {},
     "output_type": "execute_result"
    }
   ],
   "source": [
    "data['children'].value_counts()"
   ]
  },
  {
   "cell_type": "markdown",
   "metadata": {},
   "source": [
    "Отрицательных значений нет, все в порядке."
   ]
  },
  {
   "cell_type": "markdown",
   "metadata": {},
   "source": [
    "**Вывод**"
   ]
  },
  {
   "cell_type": "markdown",
   "metadata": {},
   "source": [
    "Мы обнаружили пропуски в двух столбцах. В столбце `общий трудовой стаж в днях` исправили отрицательные значения, обнаружили аномально высокие значенния стажа и в итоге отказались от использования данных этого столбца, т.к. ошибок было очень много.  \n",
    "В столбце `ежемесячный доход` заменили пустые значения медианой рассчитаной по трем переменным: `тип занятости`, `пол клиента` и `возраст клиента`.  \n",
    "Избавились от отрицательных значений в столбце `количество детей`."
   ]
  },
  {
   "cell_type": "markdown",
   "metadata": {},
   "source": [
    "### Замена типа данных <a id=\"tipdan\"></a>"
   ]
  },
  {
   "cell_type": "markdown",
   "metadata": {},
   "source": [
    "Заменим в столбце `ежемесячный доход` тип данных вещественный `float` на целочисленный `int`:"
   ]
  },
  {
   "cell_type": "code",
   "execution_count": 367,
   "metadata": {},
   "outputs": [],
   "source": [
    "data['total_income'] = data['total_income'].astype('int')"
   ]
  },
  {
   "cell_type": "markdown",
   "metadata": {},
   "source": [
    "Заменим в столбце `трудовой стаж` тип данных вещественный `float` на целочисленный `int`:"
   ]
  },
  {
   "cell_type": "code",
   "execution_count": 368,
   "metadata": {},
   "outputs": [],
   "source": [
    "data['years_employed'] = data['years_employed'].astype('int')"
   ]
  },
  {
   "cell_type": "markdown",
   "metadata": {},
   "source": [
    "Преобразуем числа в столбце `debt` в тип `bool`:"
   ]
  },
  {
   "cell_type": "code",
   "execution_count": 369,
   "metadata": {},
   "outputs": [],
   "source": [
    "data['debt'] = data['debt'].astype('bool')"
   ]
  },
  {
   "cell_type": "markdown",
   "metadata": {},
   "source": [
    "Проверим наши преобразования:"
   ]
  },
  {
   "cell_type": "code",
   "execution_count": 370,
   "metadata": {},
   "outputs": [
    {
     "name": "stdout",
     "output_type": "stream",
     "text": [
      "<class 'pandas.core.frame.DataFrame'>\n",
      "RangeIndex: 21525 entries, 0 to 21524\n",
      "Data columns (total 13 columns):\n",
      "children            21525 non-null int64\n",
      "years_employed      21525 non-null int64\n",
      "dob_years           21525 non-null int64\n",
      "education           21525 non-null object\n",
      "education_id        21525 non-null int64\n",
      "family_status       21525 non-null object\n",
      "family_status_id    21525 non-null int64\n",
      "gender              21525 non-null object\n",
      "income_type         21525 non-null object\n",
      "debt                21525 non-null bool\n",
      "total_income        21525 non-null int64\n",
      "purpose             21525 non-null object\n",
      "age_group           21525 non-null object\n",
      "dtypes: bool(1), int64(6), object(6)\n",
      "memory usage: 2.0+ MB\n"
     ]
    }
   ],
   "source": [
    "data.info()"
   ]
  },
  {
   "cell_type": "markdown",
   "metadata": {},
   "source": [
    "**Вывод**"
   ]
  },
  {
   "cell_type": "markdown",
   "metadata": {},
   "source": [
    "Для замены типа данных был использован универсальный метод astype(). Метод astype() позволяет нам четко указать тип, который мы хотим получить. А также он подходит для числовых типов данных."
   ]
  },
  {
   "cell_type": "markdown",
   "metadata": {},
   "source": [
    "### Обработка дубликатов <a id=\"dubli\"></a>"
   ]
  },
  {
   "cell_type": "markdown",
   "metadata": {},
   "source": [
    "Чтобы учесть все явные дубликаты, необходимо проверить есть ли в строковых столбцах различия по регистру. Если такие строки окажутся, все символы в строке привидем к нижнему регистру вызовом метода lower():"
   ]
  },
  {
   "cell_type": "markdown",
   "metadata": {},
   "source": [
    "Проверим значения в столбцах типа object: `education` , `family_status`, `purpose`. Остальные столбцы типа object мы смотрели. В них регистр единый."
   ]
  },
  {
   "cell_type": "markdown",
   "metadata": {},
   "source": [
    "В данном столбце `education` явно необходимо привести регистр в порядок:"
   ]
  },
  {
   "cell_type": "code",
   "execution_count": 371,
   "metadata": {
    "scrolled": true
   },
   "outputs": [
    {
     "data": {
      "text/plain": [
       "среднее                13750\n",
       "высшее                  4718\n",
       "СРЕДНЕЕ                  772\n",
       "Среднее                  711\n",
       "неоконченное высшее      668\n",
       "ВЫСШЕЕ                   274\n",
       "Высшее                   268\n",
       "начальное                250\n",
       "Неоконченное высшее       47\n",
       "НЕОКОНЧЕННОЕ ВЫСШЕЕ       29\n",
       "НАЧАЛЬНОЕ                 17\n",
       "Начальное                 15\n",
       "ученая степень             4\n",
       "Ученая степень             1\n",
       "УЧЕНАЯ СТЕПЕНЬ             1\n",
       "Name: education, dtype: int64"
      ]
     },
     "execution_count": 371,
     "metadata": {},
     "output_type": "execute_result"
    }
   ],
   "source": [
    "data['education'].value_counts() "
   ]
  },
  {
   "cell_type": "markdown",
   "metadata": {},
   "source": [
    "Приводим к единому регистру значения в столбце \"уровень образования\":"
   ]
  },
  {
   "cell_type": "code",
   "execution_count": 372,
   "metadata": {},
   "outputs": [],
   "source": [
    "data['education'] = data['education'].str.lower() "
   ]
  },
  {
   "cell_type": "markdown",
   "metadata": {},
   "source": [
    "Теперь уровень образование в едином регистре:"
   ]
  },
  {
   "cell_type": "code",
   "execution_count": 373,
   "metadata": {},
   "outputs": [
    {
     "data": {
      "text/plain": [
       "среднее                15233\n",
       "высшее                  5260\n",
       "неоконченное высшее      744\n",
       "начальное                282\n",
       "ученая степень             6\n",
       "Name: education, dtype: int64"
      ]
     },
     "execution_count": 373,
     "metadata": {},
     "output_type": "execute_result"
    }
   ],
   "source": [
    "data['education'].value_counts() "
   ]
  },
  {
   "cell_type": "markdown",
   "metadata": {},
   "source": [
    "В столбце семейный статус с регистром все в порядке, неявных дубликатов нет."
   ]
  },
  {
   "cell_type": "code",
   "execution_count": 374,
   "metadata": {},
   "outputs": [
    {
     "data": {
      "text/plain": [
       "женат / замужем          12380\n",
       "гражданский брак          4177\n",
       "Не женат / не замужем     2813\n",
       "в разводе                 1195\n",
       "вдовец / вдова             960\n",
       "Name: family_status, dtype: int64"
      ]
     },
     "execution_count": 374,
     "metadata": {},
     "output_type": "execute_result"
    }
   ],
   "source": [
    "data['family_status'].value_counts() "
   ]
  },
  {
   "cell_type": "markdown",
   "metadata": {},
   "source": [
    "В столбце цель кредита с регистром все в порядке. Но данные явно стоит приводить к категориям. Займемся этим позже в следующем пункте."
   ]
  },
  {
   "cell_type": "code",
   "execution_count": 375,
   "metadata": {
    "scrolled": false
   },
   "outputs": [
    {
     "data": {
      "text/plain": [
       "свадьба                                   797\n",
       "на проведение свадьбы                     777\n",
       "сыграть свадьбу                           774\n",
       "операции с недвижимостью                  676\n",
       "покупка коммерческой недвижимости         664\n",
       "операции с жильем                         653\n",
       "покупка жилья для сдачи                   653\n",
       "операции с коммерческой недвижимостью     651\n",
       "жилье                                     647\n",
       "покупка жилья                             647\n",
       "покупка жилья для семьи                   641\n",
       "строительство собственной недвижимости    635\n",
       "недвижимость                              634\n",
       "операции со своей недвижимостью           630\n",
       "строительство жилой недвижимости          626\n",
       "покупка недвижимости                      624\n",
       "строительство недвижимости                620\n",
       "покупка своего жилья                      620\n",
       "ремонт жилью                              612\n",
       "покупка жилой недвижимости                607\n",
       "на покупку своего автомобиля              505\n",
       "заняться высшим образованием              496\n",
       "автомобиль                                495\n",
       "сделка с подержанным автомобилем          489\n",
       "свой автомобиль                           480\n",
       "на покупку подержанного автомобиля        479\n",
       "автомобили                                478\n",
       "на покупку автомобиля                     472\n",
       "приобретение автомобиля                   462\n",
       "дополнительное образование                462\n",
       "сделка с автомобилем                      455\n",
       "высшее образование                        453\n",
       "получение дополнительного образования     447\n",
       "образование                               447\n",
       "получение образования                     443\n",
       "профильное образование                    436\n",
       "получение высшего образования             426\n",
       "заняться образованием                     412\n",
       "Name: purpose, dtype: int64"
      ]
     },
     "execution_count": 375,
     "metadata": {},
     "output_type": "execute_result"
    }
   ],
   "source": [
    "data['purpose'].value_counts() "
   ]
  },
  {
   "cell_type": "markdown",
   "metadata": {},
   "source": [
    "Выведем количество явных дубликатов:"
   ]
  },
  {
   "cell_type": "code",
   "execution_count": 376,
   "metadata": {},
   "outputs": [
    {
     "data": {
      "text/plain": [
       "71"
      ]
     },
     "execution_count": 376,
     "metadata": {},
     "output_type": "execute_result"
    }
   ],
   "source": [
    "f'Количество дубликатов: {data.duplicated().sum()}'"
   ]
  },
  {
   "cell_type": "markdown",
   "metadata": {},
   "source": [
    "Удалим явные дубликаты из таблицы."
   ]
  },
  {
   "cell_type": "code",
   "execution_count": 377,
   "metadata": {},
   "outputs": [],
   "source": [
    "data = data.drop_duplicates().reset_index(drop=True) # с удалением старых индексов и формированием новых"
   ]
  },
  {
   "cell_type": "code",
   "execution_count": 378,
   "metadata": {},
   "outputs": [
    {
     "data": {
      "text/plain": [
       "('Количество дубликатов после удаления:', 0)"
      ]
     },
     "execution_count": 378,
     "metadata": {},
     "output_type": "execute_result"
    }
   ],
   "source": [
    "'Количество дубликатов после удаления:', data.duplicated().sum()"
   ]
  },
  {
   "cell_type": "markdown",
   "metadata": {},
   "source": [
    "**Вывод**"
   ]
  },
  {
   "cell_type": "markdown",
   "metadata": {},
   "source": [
    "Для поиска явных дубликатов использовался метод duplicated(). Привели к единому регистру значения в столбце `уровень образования`.  \n",
    "Чтобы найти неявные дубликаты просматривали уникальные значения в столбце. Причиной появления явных дубликатов может быть ошибка выгрузки данных.  \n",
    "Для поиска уникальных значений использовалися метод value_counts(). "
   ]
  },
  {
   "cell_type": "markdown",
   "metadata": {},
   "source": [
    "### Лемматизация <a id=\"lemma\"></a>"
   ]
  },
  {
   "cell_type": "markdown",
   "metadata": {},
   "source": [
    "Лемматизируем  значения из столбца `цель получения кредита`:"
   ]
  },
  {
   "cell_type": "code",
   "execution_count": 379,
   "metadata": {},
   "outputs": [],
   "source": [
    "lemmas_purpose = []                             # пройдемся по всем строкам столбца\n",
    "for i in range(len(data)):                      # сохраним в списке результаты лематизации значений\n",
    "    lemmas = m.lemmatize(data.loc[i,'purpose'])\n",
    "    lemmas_purpose.append(lemmas)"
   ]
  },
  {
   "cell_type": "markdown",
   "metadata": {},
   "source": [
    "В результате получился список списков. Преобразуем все в один список:"
   ]
  },
  {
   "cell_type": "code",
   "execution_count": 380,
   "metadata": {},
   "outputs": [],
   "source": [
    "lemmas_purpose_long = []\n",
    "for row in lemmas_purpose:\n",
    "    for word in row:\n",
    "        lemmas_purpose_long.append(word)\n",
    "             "
   ]
  },
  {
   "cell_type": "markdown",
   "metadata": {},
   "source": [
    "Подсчитаем число упоминаний лемматизированных слов в столбце `цель получения кредита`:"
   ]
  },
  {
   "cell_type": "code",
   "execution_count": 381,
   "metadata": {},
   "outputs": [
    {
     "data": {
      "text/plain": [
       "Counter({'покупка': 5897,\n",
       "         ' ': 33570,\n",
       "         'жилье': 4460,\n",
       "         '\\n': 21454,\n",
       "         'приобретение': 461,\n",
       "         'автомобиль': 4306,\n",
       "         'дополнительный': 906,\n",
       "         'образование': 4013,\n",
       "         'сыграть': 765,\n",
       "         'свадьба': 2324,\n",
       "         'операция': 2604,\n",
       "         'с': 2918,\n",
       "         'на': 2222,\n",
       "         'проведение': 768,\n",
       "         'для': 1289,\n",
       "         'семья': 638,\n",
       "         'недвижимость': 6351,\n",
       "         'коммерческий': 1311,\n",
       "         'жилой': 1230,\n",
       "         'строительство': 1878,\n",
       "         'собственный': 635,\n",
       "         'подержать': 478,\n",
       "         'свой': 2230,\n",
       "         'со': 627,\n",
       "         'заниматься': 904,\n",
       "         'сделка': 941,\n",
       "         'подержанный': 486,\n",
       "         'получение': 1314,\n",
       "         'высокий': 1374,\n",
       "         'профильный': 436,\n",
       "         'сдача': 651,\n",
       "         'ремонт': 607})"
      ]
     },
     "execution_count": 381,
     "metadata": {},
     "output_type": "execute_result"
    }
   ],
   "source": [
    "Counter(lemmas_purpose_long)"
   ]
  },
  {
   "cell_type": "markdown",
   "metadata": {},
   "source": [
    "**Вывод**"
   ]
  },
  {
   "cell_type": "markdown",
   "metadata": {},
   "source": [
    "Провели лемматизацию с помощью билиотеки `pymystem3`. После подсчитали число упоминаний слов, что позволяет выявить популярные слова в столбце `цель получения кредита`."
   ]
  },
  {
   "cell_type": "markdown",
   "metadata": {},
   "source": [
    "### Категоризация данных <a id=\"katd\"></a>"
   ]
  },
  {
   "cell_type": "markdown",
   "metadata": {},
   "source": [
    "В таблице есть два столбца `уровень образования клиента` и `семейное положение`. Для каждого из них имеется столбец с идентификатором. Выделим словарь для каждого параметра."
   ]
  },
  {
   "cell_type": "markdown",
   "metadata": {},
   "source": [
    "Создадим таблицу где каждому типу `образования` соответствеут идентификатор. А потом удалим из нее дубликаты."
   ]
  },
  {
   "cell_type": "code",
   "execution_count": 382,
   "metadata": {},
   "outputs": [
    {
     "data": {
      "text/html": [
       "<div>\n",
       "<style scoped>\n",
       "    .dataframe tbody tr th:only-of-type {\n",
       "        vertical-align: middle;\n",
       "    }\n",
       "\n",
       "    .dataframe tbody tr th {\n",
       "        vertical-align: top;\n",
       "    }\n",
       "\n",
       "    .dataframe thead th {\n",
       "        text-align: right;\n",
       "    }\n",
       "</style>\n",
       "<table border=\"1\" class=\"dataframe\">\n",
       "  <thead>\n",
       "    <tr style=\"text-align: right;\">\n",
       "      <th></th>\n",
       "      <th>education</th>\n",
       "      <th>education_id</th>\n",
       "    </tr>\n",
       "  </thead>\n",
       "  <tbody>\n",
       "    <tr>\n",
       "      <td>0</td>\n",
       "      <td>высшее</td>\n",
       "      <td>0</td>\n",
       "    </tr>\n",
       "    <tr>\n",
       "      <td>1</td>\n",
       "      <td>среднее</td>\n",
       "      <td>1</td>\n",
       "    </tr>\n",
       "    <tr>\n",
       "      <td>2</td>\n",
       "      <td>неоконченное высшее</td>\n",
       "      <td>2</td>\n",
       "    </tr>\n",
       "    <tr>\n",
       "      <td>3</td>\n",
       "      <td>начальное</td>\n",
       "      <td>3</td>\n",
       "    </tr>\n",
       "    <tr>\n",
       "      <td>4</td>\n",
       "      <td>ученая степень</td>\n",
       "      <td>4</td>\n",
       "    </tr>\n",
       "  </tbody>\n",
       "</table>\n",
       "</div>"
      ],
      "text/plain": [
       "             education  education_id\n",
       "0               высшее             0\n",
       "1              среднее             1\n",
       "2  неоконченное высшее             2\n",
       "3            начальное             3\n",
       "4       ученая степень             4"
      ]
     },
     "execution_count": 382,
     "metadata": {},
     "output_type": "execute_result"
    }
   ],
   "source": [
    "education_dict = data[['education','education_id']]\n",
    "education_dict = education_dict.drop_duplicates().reset_index(drop=True)\n",
    "education_dict"
   ]
  },
  {
   "cell_type": "markdown",
   "metadata": {},
   "source": [
    "Создадим словаль и для параметра `семейное положение`:"
   ]
  },
  {
   "cell_type": "code",
   "execution_count": 383,
   "metadata": {
    "scrolled": true
   },
   "outputs": [
    {
     "data": {
      "text/html": [
       "<div>\n",
       "<style scoped>\n",
       "    .dataframe tbody tr th:only-of-type {\n",
       "        vertical-align: middle;\n",
       "    }\n",
       "\n",
       "    .dataframe tbody tr th {\n",
       "        vertical-align: top;\n",
       "    }\n",
       "\n",
       "    .dataframe thead th {\n",
       "        text-align: right;\n",
       "    }\n",
       "</style>\n",
       "<table border=\"1\" class=\"dataframe\">\n",
       "  <thead>\n",
       "    <tr style=\"text-align: right;\">\n",
       "      <th></th>\n",
       "      <th>family_status</th>\n",
       "      <th>family_status_id</th>\n",
       "    </tr>\n",
       "  </thead>\n",
       "  <tbody>\n",
       "    <tr>\n",
       "      <td>0</td>\n",
       "      <td>женат / замужем</td>\n",
       "      <td>0</td>\n",
       "    </tr>\n",
       "    <tr>\n",
       "      <td>1</td>\n",
       "      <td>гражданский брак</td>\n",
       "      <td>1</td>\n",
       "    </tr>\n",
       "    <tr>\n",
       "      <td>2</td>\n",
       "      <td>вдовец / вдова</td>\n",
       "      <td>2</td>\n",
       "    </tr>\n",
       "    <tr>\n",
       "      <td>3</td>\n",
       "      <td>в разводе</td>\n",
       "      <td>3</td>\n",
       "    </tr>\n",
       "    <tr>\n",
       "      <td>4</td>\n",
       "      <td>Не женат / не замужем</td>\n",
       "      <td>4</td>\n",
       "    </tr>\n",
       "  </tbody>\n",
       "</table>\n",
       "</div>"
      ],
      "text/plain": [
       "           family_status  family_status_id\n",
       "0        женат / замужем                 0\n",
       "1       гражданский брак                 1\n",
       "2         вдовец / вдова                 2\n",
       "3              в разводе                 3\n",
       "4  Не женат / не замужем                 4"
      ]
     },
     "execution_count": 383,
     "metadata": {},
     "output_type": "execute_result"
    }
   ],
   "source": [
    "family_status_dict = data[['family_status','family_status_id']]\n",
    "family_status_dict = family_status_dict.drop_duplicates().reset_index(drop=True)\n",
    "family_status_dict"
   ]
  },
  {
   "cell_type": "markdown",
   "metadata": {},
   "source": [
    "**Для дальнейшего исследования нам понадобиться сравнивать уровень дохода и возврат кредита в срок. Поэтому сгруппируем данные дохода.** "
   ]
  },
  {
   "cell_type": "markdown",
   "metadata": {},
   "source": [
    "Посмотрим на статистические данные столбца `ежемесячный доход`, посмотрим как распределены уровни дохода:"
   ]
  },
  {
   "cell_type": "code",
   "execution_count": 384,
   "metadata": {},
   "outputs": [
    {
     "data": {
      "text/plain": [
       "count     21454.00\n",
       "mean     165369.29\n",
       "std       98299.74\n",
       "min       20667.00\n",
       "25%      107103.75\n",
       "50%      144229.50\n",
       "75%      198024.75\n",
       "max     2265604.00\n",
       "Name: total_income, dtype: float64"
      ]
     },
     "execution_count": 384,
     "metadata": {},
     "output_type": "execute_result"
    }
   ],
   "source": [
    "data['total_income'].describe()"
   ]
  },
  {
   "cell_type": "markdown",
   "metadata": {},
   "source": [
    "С помощью функции сгруппирем данные:"
   ]
  },
  {
   "cell_type": "code",
   "execution_count": 385,
   "metadata": {},
   "outputs": [],
   "source": [
    "def income_group(income): # объявлем функцию, которая возвращает группу по значению ежемесячного дохода\n",
    "                          # разделяем на 6 групп дохода: от 0 до 250 000 с шагом 50 000 и свыше 250 000.\n",
    "    if income <= 50000:        \n",
    "        return 'до 50 тыс'\n",
    "    if income <= 100000:\n",
    "        return 'от_ 50_до_100 тыс'\n",
    "    if income <= 150000:\n",
    "        return 'от_100_до_150 тыс'\n",
    "    if income <= 200000:\n",
    "        return 'от_150_до_200 тыс'\n",
    "    if income <= 250000:\n",
    "        return 'от_200_до_250 тыс'\n",
    "    return 'свыше_250 тыс' "
   ]
  },
  {
   "cell_type": "markdown",
   "metadata": {},
   "source": [
    "Проверим как работает функция:"
   ]
  },
  {
   "cell_type": "code",
   "execution_count": 386,
   "metadata": {},
   "outputs": [
    {
     "data": {
      "text/plain": [
       "'от_100_до_150 тыс'"
      ]
     },
     "execution_count": 386,
     "metadata": {},
     "output_type": "execute_result"
    }
   ],
   "source": [
    "income_group(112080) "
   ]
  },
  {
   "cell_type": "code",
   "execution_count": 387,
   "metadata": {},
   "outputs": [
    {
     "data": {
      "text/plain": [
       "'до 50 тыс'"
      ]
     },
     "execution_count": 387,
     "metadata": {},
     "output_type": "execute_result"
    }
   ],
   "source": [
    "income_group(45000) "
   ]
  },
  {
   "cell_type": "code",
   "execution_count": 388,
   "metadata": {},
   "outputs": [
    {
     "data": {
      "text/html": [
       "<div>\n",
       "<style scoped>\n",
       "    .dataframe tbody tr th:only-of-type {\n",
       "        vertical-align: middle;\n",
       "    }\n",
       "\n",
       "    .dataframe tbody tr th {\n",
       "        vertical-align: top;\n",
       "    }\n",
       "\n",
       "    .dataframe thead th {\n",
       "        text-align: right;\n",
       "    }\n",
       "</style>\n",
       "<table border=\"1\" class=\"dataframe\">\n",
       "  <thead>\n",
       "    <tr style=\"text-align: right;\">\n",
       "      <th></th>\n",
       "      <th>total_income</th>\n",
       "      <th>income_group</th>\n",
       "    </tr>\n",
       "  </thead>\n",
       "  <tbody>\n",
       "    <tr>\n",
       "      <td>0</td>\n",
       "      <td>253875</td>\n",
       "      <td>свыше_250 тыс</td>\n",
       "    </tr>\n",
       "    <tr>\n",
       "      <td>1</td>\n",
       "      <td>112080</td>\n",
       "      <td>от_100_до_150 тыс</td>\n",
       "    </tr>\n",
       "    <tr>\n",
       "      <td>2</td>\n",
       "      <td>145885</td>\n",
       "      <td>от_100_до_150 тыс</td>\n",
       "    </tr>\n",
       "    <tr>\n",
       "      <td>3</td>\n",
       "      <td>267628</td>\n",
       "      <td>свыше_250 тыс</td>\n",
       "    </tr>\n",
       "    <tr>\n",
       "      <td>4</td>\n",
       "      <td>158616</td>\n",
       "      <td>от_150_до_200 тыс</td>\n",
       "    </tr>\n",
       "    <tr>\n",
       "      <td>5</td>\n",
       "      <td>255763</td>\n",
       "      <td>свыше_250 тыс</td>\n",
       "    </tr>\n",
       "    <tr>\n",
       "      <td>6</td>\n",
       "      <td>240525</td>\n",
       "      <td>от_200_до_250 тыс</td>\n",
       "    </tr>\n",
       "    <tr>\n",
       "      <td>7</td>\n",
       "      <td>135823</td>\n",
       "      <td>от_100_до_150 тыс</td>\n",
       "    </tr>\n",
       "    <tr>\n",
       "      <td>8</td>\n",
       "      <td>95856</td>\n",
       "      <td>от_ 50_до_100 тыс</td>\n",
       "    </tr>\n",
       "    <tr>\n",
       "      <td>9</td>\n",
       "      <td>144425</td>\n",
       "      <td>от_100_до_150 тыс</td>\n",
       "    </tr>\n",
       "  </tbody>\n",
       "</table>\n",
       "</div>"
      ],
      "text/plain": [
       "   total_income       income_group\n",
       "0        253875      свыше_250 тыс\n",
       "1        112080  от_100_до_150 тыс\n",
       "2        145885  от_100_до_150 тыс\n",
       "3        267628      свыше_250 тыс\n",
       "4        158616  от_150_до_200 тыс\n",
       "5        255763      свыше_250 тыс\n",
       "6        240525  от_200_до_250 тыс\n",
       "7        135823  от_100_до_150 тыс\n",
       "8         95856  от_ 50_до_100 тыс\n",
       "9        144425  от_100_до_150 тыс"
      ]
     },
     "execution_count": 388,
     "metadata": {},
     "output_type": "execute_result"
    }
   ],
   "source": [
    "data['income_group'] = data['total_income'].apply(income_group) # Добаляем новый столбец \"Уровень дохода\"\n",
    "\n",
    "data.loc[:, ['total_income', 'income_group']].head(10)       # Проверим как добавился новый столбец"
   ]
  },
  {
   "cell_type": "markdown",
   "metadata": {},
   "source": [
    "**Также нам понадобиться сравнивать цель кредита и возврат кредита в срок. Поэтому классифицируем цели кредита.**"
   ]
  },
  {
   "cell_type": "markdown",
   "metadata": {},
   "source": [
    "Чтобы класифицировать цели кредита по группам применим лемматизацию к данным столбца `purpose`."
   ]
  },
  {
   "cell_type": "markdown",
   "metadata": {},
   "source": [
    "Создадим функцию которая будет принимать текст и лемматизировать его, потом сравнивать результат лемматизации с условиями и возвращать Группу для целей кредита:"
   ]
  },
  {
   "cell_type": "code",
   "execution_count": 389,
   "metadata": {},
   "outputs": [],
   "source": [
    "def lemmatize_group(text):\n",
    "    lemma = m.lemmatize(text)       # На основе лемматизации из пункта 2.4 выделим 6 групп.\n",
    "    if 'образование' in lemma:      # Как правило в банках цели Ремонт, Свадьба могут объединять в одну группу \"на личные нужды\"\n",
    "        return 'Образование'        # но мы в этом проекте выделим их в отдельные группы.\n",
    "    if 'ремонт' in lemma:\n",
    "        return 'Ремонт'\n",
    "    if 'автомобиль' in lemma:\n",
    "        return 'Автомобиль'\n",
    "    if 'строительство' in lemma:\n",
    "        return 'Строительство'\n",
    "    if 'недвижимость' in lemma:\n",
    "        return 'Недвижимость'\n",
    "    if 'свадьба' in lemma:\n",
    "        return 'Свадьба'\n",
    "    if 'жилье' in lemma:\n",
    "        return 'Недвижимость'\n",
    "    return 'группа не определена, необходимо добавить условие' # добавим вывод такой строки на случай \n",
    "                                                               # если ни одно из условий не отработает"
   ]
  },
  {
   "cell_type": "markdown",
   "metadata": {},
   "source": [
    "Добавим новый столбец к основным данным с группами целей кредита:"
   ]
  },
  {
   "cell_type": "code",
   "execution_count": 390,
   "metadata": {},
   "outputs": [],
   "source": [
    "data['purpose_group'] = data['purpose'].apply(lemmatize_group)"
   ]
  },
  {
   "cell_type": "code",
   "execution_count": 391,
   "metadata": {},
   "outputs": [
    {
     "data": {
      "text/html": [
       "<div>\n",
       "<style scoped>\n",
       "    .dataframe tbody tr th:only-of-type {\n",
       "        vertical-align: middle;\n",
       "    }\n",
       "\n",
       "    .dataframe tbody tr th {\n",
       "        vertical-align: top;\n",
       "    }\n",
       "\n",
       "    .dataframe thead th {\n",
       "        text-align: right;\n",
       "    }\n",
       "</style>\n",
       "<table border=\"1\" class=\"dataframe\">\n",
       "  <thead>\n",
       "    <tr style=\"text-align: right;\">\n",
       "      <th></th>\n",
       "      <th>purpose</th>\n",
       "      <th>purpose_group</th>\n",
       "    </tr>\n",
       "  </thead>\n",
       "  <tbody>\n",
       "    <tr>\n",
       "      <td>0</td>\n",
       "      <td>покупка жилья</td>\n",
       "      <td>Недвижимость</td>\n",
       "    </tr>\n",
       "    <tr>\n",
       "      <td>1</td>\n",
       "      <td>приобретение автомобиля</td>\n",
       "      <td>Автомобиль</td>\n",
       "    </tr>\n",
       "    <tr>\n",
       "      <td>2</td>\n",
       "      <td>покупка жилья</td>\n",
       "      <td>Недвижимость</td>\n",
       "    </tr>\n",
       "    <tr>\n",
       "      <td>3</td>\n",
       "      <td>дополнительное образование</td>\n",
       "      <td>Образование</td>\n",
       "    </tr>\n",
       "    <tr>\n",
       "      <td>4</td>\n",
       "      <td>сыграть свадьбу</td>\n",
       "      <td>Свадьба</td>\n",
       "    </tr>\n",
       "    <tr>\n",
       "      <td>5</td>\n",
       "      <td>покупка жилья</td>\n",
       "      <td>Недвижимость</td>\n",
       "    </tr>\n",
       "    <tr>\n",
       "      <td>6</td>\n",
       "      <td>операции с жильем</td>\n",
       "      <td>Недвижимость</td>\n",
       "    </tr>\n",
       "    <tr>\n",
       "      <td>7</td>\n",
       "      <td>образование</td>\n",
       "      <td>Образование</td>\n",
       "    </tr>\n",
       "    <tr>\n",
       "      <td>8</td>\n",
       "      <td>на проведение свадьбы</td>\n",
       "      <td>Свадьба</td>\n",
       "    </tr>\n",
       "    <tr>\n",
       "      <td>9</td>\n",
       "      <td>покупка жилья для семьи</td>\n",
       "      <td>Недвижимость</td>\n",
       "    </tr>\n",
       "  </tbody>\n",
       "</table>\n",
       "</div>"
      ],
      "text/plain": [
       "                      purpose purpose_group\n",
       "0               покупка жилья  Недвижимость\n",
       "1     приобретение автомобиля    Автомобиль\n",
       "2               покупка жилья  Недвижимость\n",
       "3  дополнительное образование   Образование\n",
       "4             сыграть свадьбу       Свадьба\n",
       "5               покупка жилья  Недвижимость\n",
       "6           операции с жильем  Недвижимость\n",
       "7                 образование   Образование\n",
       "8       на проведение свадьбы       Свадьба\n",
       "9     покупка жилья для семьи  Недвижимость"
      ]
     },
     "execution_count": 391,
     "metadata": {},
     "output_type": "execute_result"
    }
   ],
   "source": [
    "data.loc[:, ['purpose', 'purpose_group']].head(10)"
   ]
  },
  {
   "cell_type": "markdown",
   "metadata": {},
   "source": [
    "Проверим все ли условия в функции отработали, не осталось ли строк с неопределенной группой."
   ]
  },
  {
   "cell_type": "code",
   "execution_count": 392,
   "metadata": {},
   "outputs": [
    {
     "data": {
      "text/plain": [
       "Недвижимость     8326\n",
       "Автомобиль       4306\n",
       "Образование      4013\n",
       "Свадьба          2324\n",
       "Строительство    1878\n",
       "Ремонт            607\n",
       "Name: purpose_group, dtype: int64"
      ]
     },
     "execution_count": 392,
     "metadata": {},
     "output_type": "execute_result"
    }
   ],
   "source": [
    "data['purpose_group'].value_counts() # все отлично, все группы определены"
   ]
  },
  {
   "cell_type": "markdown",
   "metadata": {},
   "source": [
    "Разделим заемщиков на две группы: \"Есть дети\" (есть хотя бы один ребенок), \"Нет детей\"."
   ]
  },
  {
   "cell_type": "code",
   "execution_count": 393,
   "metadata": {},
   "outputs": [],
   "source": [
    "def having_children(children): # объявлем функцию, которая определяет наличие детей\n",
    "                               # разделяем на 2 группы:  \"Есть дети\"  и \"Нет детей\".\n",
    "    if children != 0:        \n",
    "        return 'Есть дети'\n",
    "    return 'Нет детей'"
   ]
  },
  {
   "cell_type": "code",
   "execution_count": 394,
   "metadata": {},
   "outputs": [
    {
     "data": {
      "text/html": [
       "<div>\n",
       "<style scoped>\n",
       "    .dataframe tbody tr th:only-of-type {\n",
       "        vertical-align: middle;\n",
       "    }\n",
       "\n",
       "    .dataframe tbody tr th {\n",
       "        vertical-align: top;\n",
       "    }\n",
       "\n",
       "    .dataframe thead th {\n",
       "        text-align: right;\n",
       "    }\n",
       "</style>\n",
       "<table border=\"1\" class=\"dataframe\">\n",
       "  <thead>\n",
       "    <tr style=\"text-align: right;\">\n",
       "      <th></th>\n",
       "      <th>children</th>\n",
       "      <th>having_childr</th>\n",
       "    </tr>\n",
       "  </thead>\n",
       "  <tbody>\n",
       "    <tr>\n",
       "      <td>0</td>\n",
       "      <td>1</td>\n",
       "      <td>Есть дети</td>\n",
       "    </tr>\n",
       "    <tr>\n",
       "      <td>1</td>\n",
       "      <td>1</td>\n",
       "      <td>Есть дети</td>\n",
       "    </tr>\n",
       "    <tr>\n",
       "      <td>2</td>\n",
       "      <td>0</td>\n",
       "      <td>Нет детей</td>\n",
       "    </tr>\n",
       "    <tr>\n",
       "      <td>3</td>\n",
       "      <td>3</td>\n",
       "      <td>Есть дети</td>\n",
       "    </tr>\n",
       "    <tr>\n",
       "      <td>4</td>\n",
       "      <td>0</td>\n",
       "      <td>Нет детей</td>\n",
       "    </tr>\n",
       "    <tr>\n",
       "      <td>5</td>\n",
       "      <td>0</td>\n",
       "      <td>Нет детей</td>\n",
       "    </tr>\n",
       "    <tr>\n",
       "      <td>6</td>\n",
       "      <td>0</td>\n",
       "      <td>Нет детей</td>\n",
       "    </tr>\n",
       "    <tr>\n",
       "      <td>7</td>\n",
       "      <td>0</td>\n",
       "      <td>Нет детей</td>\n",
       "    </tr>\n",
       "    <tr>\n",
       "      <td>8</td>\n",
       "      <td>2</td>\n",
       "      <td>Есть дети</td>\n",
       "    </tr>\n",
       "    <tr>\n",
       "      <td>9</td>\n",
       "      <td>0</td>\n",
       "      <td>Нет детей</td>\n",
       "    </tr>\n",
       "  </tbody>\n",
       "</table>\n",
       "</div>"
      ],
      "text/plain": [
       "   children having_childr\n",
       "0         1     Есть дети\n",
       "1         1     Есть дети\n",
       "2         0     Нет детей\n",
       "3         3     Есть дети\n",
       "4         0     Нет детей\n",
       "5         0     Нет детей\n",
       "6         0     Нет детей\n",
       "7         0     Нет детей\n",
       "8         2     Есть дети\n",
       "9         0     Нет детей"
      ]
     },
     "execution_count": 394,
     "metadata": {},
     "output_type": "execute_result"
    }
   ],
   "source": [
    "data['having_childr'] = data['children'].apply(having_children)\n",
    "data.loc[:, ['children', 'having_childr']].head(10)"
   ]
  },
  {
   "cell_type": "markdown",
   "metadata": {},
   "source": [
    "**Вывод**"
   ]
  },
  {
   "cell_type": "markdown",
   "metadata": {},
   "source": [
    "Мы выделили два словаря по параметрам `уровень образования клиента` и `семейное положение`. Провели категоризацию по уровню дохада клиентов и целям кредита для дальнейшего анализа."
   ]
  },
  {
   "cell_type": "markdown",
   "metadata": {},
   "source": [
    "## Ответьте на вопросы <a id=\"answer\"></a>"
   ]
  },
  {
   "cell_type": "markdown",
   "metadata": {},
   "source": [
    "**- Есть ли зависимость между наличием детей и возвратом кредита в срок?**"
   ]
  },
  {
   "cell_type": "code",
   "execution_count": 395,
   "metadata": {},
   "outputs": [],
   "source": [
    "pd.set_option('display.float_format', '{:.1%}'.format) # для красивого отображения процентов"
   ]
  },
  {
   "cell_type": "markdown",
   "metadata": {},
   "source": [
    "Выведем сводную таблицу по двум группам и посчитаем количество имевшихся задолженностей по возврату кредитов, а также количество всех кредитов."
   ]
  },
  {
   "cell_type": "code",
   "execution_count": 396,
   "metadata": {},
   "outputs": [
    {
     "data": {
      "text/html": [
       "<div>\n",
       "<style scoped>\n",
       "    .dataframe tbody tr th:only-of-type {\n",
       "        vertical-align: middle;\n",
       "    }\n",
       "\n",
       "    .dataframe tbody tr th {\n",
       "        vertical-align: top;\n",
       "    }\n",
       "\n",
       "    .dataframe thead tr th {\n",
       "        text-align: left;\n",
       "    }\n",
       "\n",
       "    .dataframe thead tr:last-of-type th {\n",
       "        text-align: right;\n",
       "    }\n",
       "</style>\n",
       "<table border=\"1\" class=\"dataframe\">\n",
       "  <thead>\n",
       "    <tr>\n",
       "      <th></th>\n",
       "      <th>sum</th>\n",
       "      <th>count</th>\n",
       "      <th>ratio</th>\n",
       "    </tr>\n",
       "    <tr>\n",
       "      <th></th>\n",
       "      <th>debt</th>\n",
       "      <th>debt</th>\n",
       "      <th></th>\n",
       "    </tr>\n",
       "    <tr>\n",
       "      <th>having_childr</th>\n",
       "      <th></th>\n",
       "      <th></th>\n",
       "      <th></th>\n",
       "    </tr>\n",
       "  </thead>\n",
       "  <tbody>\n",
       "    <tr>\n",
       "      <td>Есть дети</td>\n",
       "      <td>678</td>\n",
       "      <td>7363</td>\n",
       "      <td>9.2%</td>\n",
       "    </tr>\n",
       "    <tr>\n",
       "      <td>Нет детей</td>\n",
       "      <td>1063</td>\n",
       "      <td>14091</td>\n",
       "      <td>7.5%</td>\n",
       "    </tr>\n",
       "    <tr>\n",
       "      <td>All</td>\n",
       "      <td>1741</td>\n",
       "      <td>21454</td>\n",
       "      <td>8.1%</td>\n",
       "    </tr>\n",
       "  </tbody>\n",
       "</table>\n",
       "</div>"
      ],
      "text/plain": [
       "                sum  count ratio\n",
       "               debt   debt      \n",
       "having_childr                   \n",
       "Есть дети       678   7363  9.2%\n",
       "Нет детей      1063  14091  7.5%\n",
       "All            1741  21454  8.1%"
      ]
     },
     "execution_count": 396,
     "metadata": {},
     "output_type": "execute_result"
    }
   ],
   "source": [
    "data_pivot_children = data.pivot_table(index=['having_childr'], values='debt',\n",
    "                              aggfunc=['sum', 'count'], margins=True)\n",
    "data_pivot_children['ratio'] = data_pivot_children['sum'] / data_pivot_children['count'] # добавим долю возврата кредита\n",
    "\n",
    "data_pivot_children['sum'] = data_pivot_children['sum'].astype(int) # меняю тип т.к. при суммировании 'bool' получается 'float'\n",
    "\n",
    "data_pivot_children"
   ]
  },
  {
   "cell_type": "markdown",
   "metadata": {},
   "source": [
    "Значение в столбце `ratio` показывает долю кредитов, по которым имелась задолженность. Мы делим количество задолженностей по возврату на общее количество кредитов."
   ]
  },
  {
   "cell_type": "markdown",
   "metadata": {},
   "source": [
    "**Вывод**"
   ]
  },
  {
   "cell_type": "markdown",
   "metadata": {},
   "source": [
    "Как мы видим из сводной таблицы: наличие детей влияет на возврат кредита. Но это влияние не сильно выраженное. Доля просрочек у заемщиков с детьми выше на 1.7% чем у заемщиков без детей и на 1.1% выше доли просрочек по всем заемщикам."
   ]
  },
  {
   "cell_type": "markdown",
   "metadata": {},
   "source": [
    "**- Есть ли зависимость между семейным положением и возвратом кредита в срок?**"
   ]
  },
  {
   "cell_type": "markdown",
   "metadata": {},
   "source": [
    "Аналогичные операции производим с параметром `семейное положение`:"
   ]
  },
  {
   "cell_type": "code",
   "execution_count": 397,
   "metadata": {},
   "outputs": [
    {
     "data": {
      "text/html": [
       "<div>\n",
       "<style scoped>\n",
       "    .dataframe tbody tr th:only-of-type {\n",
       "        vertical-align: middle;\n",
       "    }\n",
       "\n",
       "    .dataframe tbody tr th {\n",
       "        vertical-align: top;\n",
       "    }\n",
       "\n",
       "    .dataframe thead tr th {\n",
       "        text-align: left;\n",
       "    }\n",
       "\n",
       "    .dataframe thead tr:last-of-type th {\n",
       "        text-align: right;\n",
       "    }\n",
       "</style>\n",
       "<table border=\"1\" class=\"dataframe\">\n",
       "  <thead>\n",
       "    <tr>\n",
       "      <th></th>\n",
       "      <th>sum</th>\n",
       "      <th>count</th>\n",
       "      <th>ratio</th>\n",
       "    </tr>\n",
       "    <tr>\n",
       "      <th></th>\n",
       "      <th>debt</th>\n",
       "      <th>debt</th>\n",
       "      <th></th>\n",
       "    </tr>\n",
       "    <tr>\n",
       "      <th>family_status</th>\n",
       "      <th></th>\n",
       "      <th></th>\n",
       "      <th></th>\n",
       "    </tr>\n",
       "  </thead>\n",
       "  <tbody>\n",
       "    <tr>\n",
       "      <td>Не женат / не замужем</td>\n",
       "      <td>274</td>\n",
       "      <td>2810</td>\n",
       "      <td>9.8%</td>\n",
       "    </tr>\n",
       "    <tr>\n",
       "      <td>гражданский брак</td>\n",
       "      <td>388</td>\n",
       "      <td>4151</td>\n",
       "      <td>9.3%</td>\n",
       "    </tr>\n",
       "    <tr>\n",
       "      <td>женат / замужем</td>\n",
       "      <td>931</td>\n",
       "      <td>12339</td>\n",
       "      <td>7.5%</td>\n",
       "    </tr>\n",
       "    <tr>\n",
       "      <td>в разводе</td>\n",
       "      <td>85</td>\n",
       "      <td>1195</td>\n",
       "      <td>7.1%</td>\n",
       "    </tr>\n",
       "    <tr>\n",
       "      <td>вдовец / вдова</td>\n",
       "      <td>63</td>\n",
       "      <td>959</td>\n",
       "      <td>6.6%</td>\n",
       "    </tr>\n",
       "  </tbody>\n",
       "</table>\n",
       "</div>"
      ],
      "text/plain": [
       "                       sum  count ratio\n",
       "                      debt   debt      \n",
       "family_status                          \n",
       "Не женат / не замужем  274   2810  9.8%\n",
       "гражданский брак       388   4151  9.3%\n",
       "женат / замужем        931  12339  7.5%\n",
       "в разводе               85   1195  7.1%\n",
       "вдовец / вдова          63    959  6.6%"
      ]
     },
     "execution_count": 397,
     "metadata": {},
     "output_type": "execute_result"
    }
   ],
   "source": [
    "data_pivot_family = data.pivot_table(index=['family_status'], values='debt',\n",
    "                              aggfunc=['sum', 'count'])\n",
    "data_pivot_family['ratio'] = data_pivot_family['sum'] / data_pivot_family['count']\n",
    "data_pivot_family['sum'] = data_pivot_family['sum'].astype(int) # меняю тип т.к. при суммировании 'bool' получается 'float'\n",
    "\n",
    "data_pivot_family.sort_values(by = 'ratio', ascending = False)"
   ]
  },
  {
   "cell_type": "markdown",
   "metadata": {},
   "source": [
    "**Вывод**"
   ]
  },
  {
   "cell_type": "markdown",
   "metadata": {},
   "source": [
    "Как мы видим семейный статус не значительно оказывает влиянние на просрочку по кредиту. Чуть хуже возвращают кредиты Не женатые\\ Не замужние и те кто живут в Гражданском браке. А меньше всего проблем с кредитом у вдов и вдовцов."
   ]
  },
  {
   "cell_type": "markdown",
   "metadata": {},
   "source": [
    "**- Есть ли зависимость между уровнем дохода и возвратом кредита в срок?**"
   ]
  },
  {
   "cell_type": "code",
   "execution_count": 398,
   "metadata": {},
   "outputs": [
    {
     "data": {
      "text/html": [
       "<div>\n",
       "<style scoped>\n",
       "    .dataframe tbody tr th:only-of-type {\n",
       "        vertical-align: middle;\n",
       "    }\n",
       "\n",
       "    .dataframe tbody tr th {\n",
       "        vertical-align: top;\n",
       "    }\n",
       "\n",
       "    .dataframe thead tr th {\n",
       "        text-align: left;\n",
       "    }\n",
       "\n",
       "    .dataframe thead tr:last-of-type th {\n",
       "        text-align: right;\n",
       "    }\n",
       "</style>\n",
       "<table border=\"1\" class=\"dataframe\">\n",
       "  <thead>\n",
       "    <tr>\n",
       "      <th></th>\n",
       "      <th>sum</th>\n",
       "      <th>count</th>\n",
       "      <th>ratio</th>\n",
       "    </tr>\n",
       "    <tr>\n",
       "      <th></th>\n",
       "      <th>debt</th>\n",
       "      <th>debt</th>\n",
       "      <th></th>\n",
       "    </tr>\n",
       "    <tr>\n",
       "      <th>income_group</th>\n",
       "      <th></th>\n",
       "      <th></th>\n",
       "      <th></th>\n",
       "    </tr>\n",
       "  </thead>\n",
       "  <tbody>\n",
       "    <tr>\n",
       "      <td>от_150_до_200 тыс</td>\n",
       "      <td>440</td>\n",
       "      <td>4913</td>\n",
       "      <td>9.0%</td>\n",
       "    </tr>\n",
       "    <tr>\n",
       "      <td>от_100_до_150 тыс</td>\n",
       "      <td>582</td>\n",
       "      <td>6906</td>\n",
       "      <td>8.4%</td>\n",
       "    </tr>\n",
       "    <tr>\n",
       "      <td>от_ 50_до_100 тыс</td>\n",
       "      <td>331</td>\n",
       "      <td>4096</td>\n",
       "      <td>8.1%</td>\n",
       "    </tr>\n",
       "    <tr>\n",
       "      <td>от_200_до_250 тыс</td>\n",
       "      <td>171</td>\n",
       "      <td>2355</td>\n",
       "      <td>7.3%</td>\n",
       "    </tr>\n",
       "    <tr>\n",
       "      <td>свыше_250 тыс</td>\n",
       "      <td>194</td>\n",
       "      <td>2812</td>\n",
       "      <td>6.9%</td>\n",
       "    </tr>\n",
       "    <tr>\n",
       "      <td>до 50 тыс</td>\n",
       "      <td>23</td>\n",
       "      <td>372</td>\n",
       "      <td>6.2%</td>\n",
       "    </tr>\n",
       "  </tbody>\n",
       "</table>\n",
       "</div>"
      ],
      "text/plain": [
       "                   sum count ratio\n",
       "                  debt  debt      \n",
       "income_group                      \n",
       "от_150_до_200 тыс  440  4913  9.0%\n",
       "от_100_до_150 тыс  582  6906  8.4%\n",
       "от_ 50_до_100 тыс  331  4096  8.1%\n",
       "от_200_до_250 тыс  171  2355  7.3%\n",
       "свыше_250 тыс      194  2812  6.9%\n",
       "до 50 тыс           23   372  6.2%"
      ]
     },
     "execution_count": 398,
     "metadata": {},
     "output_type": "execute_result"
    }
   ],
   "source": [
    "data_pivot_income = data.pivot_table(index=['income_group'], values='debt',\n",
    "                              aggfunc=['sum', 'count'])\n",
    "data_pivot_income['ratio'] = data_pivot_income['sum'] / data_pivot_income['count']\n",
    "data_pivot_income['sum'] = data_pivot_income['sum'].astype(int) # меняю тип т.к. при суммировании 'bool' получается 'float'\n",
    "data_pivot_income.sort_values(by = 'ratio', ascending = False)"
   ]
  },
  {
   "cell_type": "markdown",
   "metadata": {},
   "source": [
    "В данном случае можно построить диаграмму по уровню дохода и посмотреть как меяется доля просрочек от уровня дохода:"
   ]
  },
  {
   "cell_type": "code",
   "execution_count": 399,
   "metadata": {},
   "outputs": [
    {
     "data": {
      "text/plain": [
       "('Гистограмма распределения доли просрочек по уровню дохода',\n",
       " <matplotlib.axes._subplots.AxesSubplot at 0x7f503d87b690>)"
      ]
     },
     "execution_count": 399,
     "metadata": {},
     "output_type": "execute_result"
    },
    {
     "data": {
      "image/png": "[encoded data removed]",
      "text/plain": [
       "<Figure size 432x288 with 1 Axes>"
      ]
     },
     "metadata": {
      "needs_background": "light"
     },
     "output_type": "display_data"
    }
   ],
   "source": [
    "import seaborn\n",
    "income_level = ['0-50', '50-100', '100-150', '150-200', '200-250', '>250'] \n",
    "'Гистограмма распределения доли просрочек по уровню дохода', seaborn.barplot(x=income_level, y=data_pivot_income['ratio']\n",
    "                                                                             , color='blue')"
   ]
  },
  {
   "cell_type": "markdown",
   "metadata": {},
   "source": [
    "**Вывод**"
   ]
  },
  {
   "cell_type": "markdown",
   "metadata": {},
   "source": [
    "Как мы видим на графике при росте уровня дохода от 50 тысяч до 200 тысяч доля просрочек растет, а после 200 тысяч снижается. Больше всего задолженностей по кредиту среди заемщиков с уровнем дохода от 150 до 200 тысяч.  \n",
    "Но меньше всего просрочек у людей с ежемесячным доходом до 50 тысяч и у людей с доходом свыше 250 тысяч. "
   ]
  },
  {
   "cell_type": "markdown",
   "metadata": {},
   "source": [
    "**- Как разные цели кредита влияют на его возврат в срок?**"
   ]
  },
  {
   "cell_type": "markdown",
   "metadata": {},
   "source": [
    "Аналогично сформируем сводную таблицу по `целям кредита`."
   ]
  },
  {
   "cell_type": "code",
   "execution_count": 400,
   "metadata": {},
   "outputs": [
    {
     "data": {
      "text/html": [
       "<div>\n",
       "<style scoped>\n",
       "    .dataframe tbody tr th:only-of-type {\n",
       "        vertical-align: middle;\n",
       "    }\n",
       "\n",
       "    .dataframe tbody tr th {\n",
       "        vertical-align: top;\n",
       "    }\n",
       "\n",
       "    .dataframe thead tr th {\n",
       "        text-align: left;\n",
       "    }\n",
       "\n",
       "    .dataframe thead tr:last-of-type th {\n",
       "        text-align: right;\n",
       "    }\n",
       "</style>\n",
       "<table border=\"1\" class=\"dataframe\">\n",
       "  <thead>\n",
       "    <tr>\n",
       "      <th></th>\n",
       "      <th>sum</th>\n",
       "      <th>count</th>\n",
       "      <th>ratio</th>\n",
       "    </tr>\n",
       "    <tr>\n",
       "      <th></th>\n",
       "      <th>debt</th>\n",
       "      <th>debt</th>\n",
       "      <th></th>\n",
       "    </tr>\n",
       "    <tr>\n",
       "      <th>purpose_group</th>\n",
       "      <th></th>\n",
       "      <th></th>\n",
       "      <th></th>\n",
       "    </tr>\n",
       "  </thead>\n",
       "  <tbody>\n",
       "    <tr>\n",
       "      <td>Автомобиль</td>\n",
       "      <td>403</td>\n",
       "      <td>4306</td>\n",
       "      <td>9.4%</td>\n",
       "    </tr>\n",
       "    <tr>\n",
       "      <td>Образование</td>\n",
       "      <td>370</td>\n",
       "      <td>4013</td>\n",
       "      <td>9.2%</td>\n",
       "    </tr>\n",
       "    <tr>\n",
       "      <td>Свадьба</td>\n",
       "      <td>186</td>\n",
       "      <td>2324</td>\n",
       "      <td>8.0%</td>\n",
       "    </tr>\n",
       "    <tr>\n",
       "      <td>Строительство</td>\n",
       "      <td>144</td>\n",
       "      <td>1878</td>\n",
       "      <td>7.7%</td>\n",
       "    </tr>\n",
       "    <tr>\n",
       "      <td>Недвижимость</td>\n",
       "      <td>603</td>\n",
       "      <td>8326</td>\n",
       "      <td>7.2%</td>\n",
       "    </tr>\n",
       "    <tr>\n",
       "      <td>Ремонт</td>\n",
       "      <td>35</td>\n",
       "      <td>607</td>\n",
       "      <td>5.8%</td>\n",
       "    </tr>\n",
       "  </tbody>\n",
       "</table>\n",
       "</div>"
      ],
      "text/plain": [
       "               sum count ratio\n",
       "              debt  debt      \n",
       "purpose_group                 \n",
       "Автомобиль     403  4306  9.4%\n",
       "Образование    370  4013  9.2%\n",
       "Свадьба        186  2324  8.0%\n",
       "Строительство  144  1878  7.7%\n",
       "Недвижимость   603  8326  7.2%\n",
       "Ремонт          35   607  5.8%"
      ]
     },
     "execution_count": 400,
     "metadata": {},
     "output_type": "execute_result"
    }
   ],
   "source": [
    "data_pivot_purpose = data.pivot_table(index=['purpose_group'], values='debt',\n",
    "                              aggfunc=['sum', 'count'])\n",
    "data_pivot_purpose['ratio'] = data_pivot_purpose['sum'] / data_pivot_purpose['count']\n",
    "data_pivot_purpose['sum'] = data_pivot_purpose['sum'].astype(int) # меняю тип т.к. при суммировании 'bool' получается 'float'\n",
    "data_pivot_purpose.sort_values(by = 'ratio', ascending = False) "
   ]
  },
  {
   "cell_type": "markdown",
   "metadata": {},
   "source": [
    "**Вывод**"
   ]
  },
  {
   "cell_type": "markdown",
   "metadata": {},
   "source": [
    "Мы видим что доля просрочек в зависимости от целей кредита меняется. Но варьируется в пределах 4%. Больше всего просрочек у тех кто берет кредит на Автомобиль и Образование. Меньше всего проблем с кредитом у тех кто занимает на ремонт."
   ]
  },
  {
   "cell_type": "markdown",
   "metadata": {},
   "source": [
    "## Общий вывод<a id=\"conclusion\"></a>"
   ]
  },
  {
   "cell_type": "markdown",
   "metadata": {},
   "source": [
    "Много вопросов возникает к качеству предоставленных данных. Достаточной много пропусков и технологических ошибок. Что не может не влиять на качество исследования. Заказчику стоит уделить больше внимание качеству данных.  \n",
    "Часть ошибок мы постарались устранить и провести исследование.\n",
    "\n",
    "**Мы провели исследование надёжности заёмщиков.**  \n",
    "\n",
    "Выявили зависимость между возвратом кредита в срок и:\n",
    "- наличием детей;\n",
    "- семейным положением;\n",
    "- уровнем дохода.\n",
    "Наличие детей немного усложняет возврат кредита. Семейным заемщикам чуть легче возвращать кредит чем тем кто без супруга. А достаточно средний уровень дохода не гарантирует возврат кредита в срок.\n",
    "\n",
    "Увидели как разные цели кредита влияют на его возврат в срок. Автолюбителям сложней возвращать кредит.  "
   ]
  }
 ],
 "metadata": {
  "ExecuteTimeLog": [
   {
    "duration": 846,
    "start_time": "2021-12-17T15:44:40.879Z"
   },
   {
    "duration": 103,
    "start_time": "2021-12-17T15:44:49.001Z"
   },
   {
    "duration": 77,
    "start_time": "2021-12-17T15:45:14.117Z"
   },
   {
    "duration": 67,
    "start_time": "2021-12-17T16:28:24.475Z"
   },
   {
    "duration": 15,
    "start_time": "2021-12-17T16:28:29.672Z"
   },
   {
    "duration": 19,
    "start_time": "2021-12-17T16:40:04.020Z"
   },
   {
    "duration": 13,
    "start_time": "2021-12-17T17:08:11.444Z"
   },
   {
    "duration": 366,
    "start_time": "2021-12-17T17:20:20.741Z"
   },
   {
    "duration": 10,
    "start_time": "2021-12-17T17:21:18.473Z"
   },
   {
    "duration": 10,
    "start_time": "2021-12-17T17:24:39.644Z"
   },
   {
    "duration": 409,
    "start_time": "2021-12-18T06:11:45.186Z"
   },
   {
    "duration": 649,
    "start_time": "2021-12-18T06:12:16.441Z"
   },
   {
    "duration": 11,
    "start_time": "2021-12-18T06:12:17.092Z"
   },
   {
    "duration": 18,
    "start_time": "2021-12-18T06:12:17.105Z"
   },
   {
    "duration": 10,
    "start_time": "2021-12-18T06:12:17.124Z"
   },
   {
    "duration": 353,
    "start_time": "2021-12-18T06:12:32.265Z"
   },
   {
    "duration": 22,
    "start_time": "2021-12-18T06:13:07.132Z"
   },
   {
    "duration": 14,
    "start_time": "2021-12-18T06:14:02.047Z"
   },
   {
    "duration": 15,
    "start_time": "2021-12-18T06:15:13.667Z"
   },
   {
    "duration": 63,
    "start_time": "2021-12-18T13:03:17.023Z"
   },
   {
    "duration": 59,
    "start_time": "2021-12-18T13:03:36.289Z"
   },
   {
    "duration": 200,
    "start_time": "2021-12-18T15:59:42.779Z"
   },
   {
    "duration": 615,
    "start_time": "2021-12-18T16:00:02.589Z"
   },
   {
    "duration": 10,
    "start_time": "2021-12-18T16:00:03.206Z"
   },
   {
    "duration": 19,
    "start_time": "2021-12-18T16:00:03.218Z"
   },
   {
    "duration": 9,
    "start_time": "2021-12-18T16:00:03.238Z"
   },
   {
    "duration": 14,
    "start_time": "2021-12-18T16:00:03.248Z"
   },
   {
    "duration": 9,
    "start_time": "2021-12-18T16:00:18.586Z"
   },
   {
    "duration": 59,
    "start_time": "2021-12-18T16:04:06.068Z"
   },
   {
    "duration": 7,
    "start_time": "2021-12-18T16:04:12.996Z"
   },
   {
    "duration": 7,
    "start_time": "2021-12-18T16:06:59.227Z"
   },
   {
    "duration": 58,
    "start_time": "2021-12-18T16:23:22.907Z"
   },
   {
    "duration": 201,
    "start_time": "2021-12-18T16:23:33.198Z"
   },
   {
    "duration": 178,
    "start_time": "2021-12-18T16:27:05.147Z"
   },
   {
    "duration": 157,
    "start_time": "2021-12-18T16:27:54.771Z"
   },
   {
    "duration": 171,
    "start_time": "2021-12-18T16:43:18.331Z"
   },
   {
    "duration": 15,
    "start_time": "2021-12-18T16:43:45.321Z"
   },
   {
    "duration": 14,
    "start_time": "2021-12-18T16:44:26.894Z"
   },
   {
    "duration": 15,
    "start_time": "2021-12-18T17:00:37.831Z"
   },
   {
    "duration": 15,
    "start_time": "2021-12-18T17:02:30.040Z"
   },
   {
    "duration": 46,
    "start_time": "2021-12-18T17:03:19.115Z"
   },
   {
    "duration": 10,
    "start_time": "2021-12-18T17:03:19.163Z"
   },
   {
    "duration": 12,
    "start_time": "2021-12-18T17:03:19.176Z"
   },
   {
    "duration": 9,
    "start_time": "2021-12-18T17:03:19.190Z"
   },
   {
    "duration": 13,
    "start_time": "2021-12-18T17:03:19.200Z"
   },
   {
    "duration": 13,
    "start_time": "2021-12-18T17:03:22.134Z"
   },
   {
    "duration": 9,
    "start_time": "2021-12-18T17:12:49.073Z"
   },
   {
    "duration": 7,
    "start_time": "2021-12-18T17:14:09.130Z"
   },
   {
    "duration": 8,
    "start_time": "2021-12-18T17:14:49.530Z"
   },
   {
    "duration": 15,
    "start_time": "2021-12-18T17:15:00.186Z"
   },
   {
    "duration": 60,
    "start_time": "2021-12-18T17:18:58.608Z"
   },
   {
    "duration": 856,
    "start_time": "2021-12-18T17:19:41.216Z"
   },
   {
    "duration": 60,
    "start_time": "2021-12-18T17:20:11.224Z"
   },
   {
    "duration": 56,
    "start_time": "2021-12-18T17:20:25.593Z"
   },
   {
    "duration": 60,
    "start_time": "2021-12-18T17:20:53.759Z"
   },
   {
    "duration": 7,
    "start_time": "2021-12-18T17:21:07.027Z"
   },
   {
    "duration": 69,
    "start_time": "2021-12-18T17:23:15.419Z"
   },
   {
    "duration": 68,
    "start_time": "2021-12-18T17:23:34.581Z"
   },
   {
    "duration": 59,
    "start_time": "2021-12-18T17:23:54.805Z"
   },
   {
    "duration": 57,
    "start_time": "2021-12-18T17:24:14.631Z"
   },
   {
    "duration": 6,
    "start_time": "2021-12-18T17:41:02.017Z"
   },
   {
    "duration": 6,
    "start_time": "2021-12-18T17:41:26.511Z"
   },
   {
    "duration": 63,
    "start_time": "2021-12-18T17:41:38.919Z"
   },
   {
    "duration": 7,
    "start_time": "2021-12-18T17:42:03.455Z"
   },
   {
    "duration": 15,
    "start_time": "2021-12-18T17:46:25.906Z"
   },
   {
    "duration": 196,
    "start_time": "2021-12-18T18:01:16.238Z"
   },
   {
    "duration": 204,
    "start_time": "2021-12-18T18:04:03.737Z"
   },
   {
    "duration": 204,
    "start_time": "2021-12-18T18:28:56.763Z"
   },
   {
    "duration": 15,
    "start_time": "2021-12-18T18:32:07.013Z"
   },
   {
    "duration": 17,
    "start_time": "2021-12-18T18:34:40.881Z"
   },
   {
    "duration": 8,
    "start_time": "2021-12-18T18:39:18.714Z"
   },
   {
    "duration": 14,
    "start_time": "2021-12-18T18:40:16.555Z"
   },
   {
    "duration": 1295,
    "start_time": "2021-12-18T18:42:25.634Z"
   },
   {
    "duration": 11,
    "start_time": "2021-12-18T18:42:57.609Z"
   },
   {
    "duration": 12,
    "start_time": "2021-12-18T18:44:34.419Z"
   },
   {
    "duration": 11,
    "start_time": "2021-12-18T18:45:09.360Z"
   },
   {
    "duration": 14,
    "start_time": "2021-12-18T18:45:24.778Z"
   },
   {
    "duration": 19,
    "start_time": "2021-12-18T18:48:15.991Z"
   },
   {
    "duration": 191,
    "start_time": "2021-12-18T20:25:15.139Z"
   },
   {
    "duration": 3,
    "start_time": "2021-12-18T20:38:21.247Z"
   },
   {
    "duration": 3,
    "start_time": "2021-12-18T20:38:37.915Z"
   },
   {
    "duration": 8,
    "start_time": "2021-12-18T20:40:19.042Z"
   },
   {
    "duration": 19,
    "start_time": "2021-12-18T20:40:51.995Z"
   },
   {
    "duration": 23,
    "start_time": "2021-12-18T20:42:21.026Z"
   },
   {
    "duration": 21,
    "start_time": "2021-12-18T20:49:11.244Z"
   },
   {
    "duration": 23,
    "start_time": "2021-12-18T20:49:40.015Z"
   },
   {
    "duration": 217,
    "start_time": "2021-12-18T20:56:20.507Z"
   },
   {
    "duration": 13,
    "start_time": "2021-12-18T20:59:27.276Z"
   },
   {
    "duration": 22,
    "start_time": "2021-12-18T20:59:35.668Z"
   },
   {
    "duration": 10,
    "start_time": "2021-12-18T20:59:56.644Z"
   },
   {
    "duration": 21,
    "start_time": "2021-12-18T20:59:59.094Z"
   },
   {
    "duration": 21,
    "start_time": "2021-12-18T21:02:07.355Z"
   },
   {
    "duration": 21,
    "start_time": "2021-12-18T21:03:34.627Z"
   },
   {
    "duration": 1441,
    "start_time": "2021-12-19T07:10:09.667Z"
   },
   {
    "duration": 10,
    "start_time": "2021-12-19T07:10:11.110Z"
   },
   {
    "duration": 17,
    "start_time": "2021-12-19T07:10:11.122Z"
   },
   {
    "duration": 9,
    "start_time": "2021-12-19T07:10:11.141Z"
   },
   {
    "duration": 14,
    "start_time": "2021-12-19T07:10:11.151Z"
   },
   {
    "duration": 32,
    "start_time": "2021-12-19T07:10:11.166Z"
   },
   {
    "duration": 11,
    "start_time": "2021-12-19T07:10:11.199Z"
   },
   {
    "duration": 5,
    "start_time": "2021-12-19T07:10:11.212Z"
   },
   {
    "duration": 16,
    "start_time": "2021-12-19T07:10:11.218Z"
   },
   {
    "duration": 2,
    "start_time": "2021-12-19T07:10:11.236Z"
   },
   {
    "duration": 5,
    "start_time": "2021-12-19T07:10:11.240Z"
   },
   {
    "duration": 50,
    "start_time": "2021-12-19T07:10:11.246Z"
   },
   {
    "duration": 10,
    "start_time": "2021-12-19T07:10:11.297Z"
   },
   {
    "duration": 276,
    "start_time": "2021-12-19T07:10:16.163Z"
   },
   {
    "duration": 21,
    "start_time": "2021-12-19T07:10:30.337Z"
   },
   {
    "duration": 18,
    "start_time": "2021-12-19T07:13:27.708Z"
   },
   {
    "duration": 18,
    "start_time": "2021-12-19T07:13:47.020Z"
   },
   {
    "duration": 17,
    "start_time": "2021-12-19T07:20:24.546Z"
   },
   {
    "duration": 23,
    "start_time": "2021-12-19T07:22:14.801Z"
   },
   {
    "duration": 22,
    "start_time": "2021-12-19T07:23:05.545Z"
   },
   {
    "duration": 25,
    "start_time": "2021-12-19T07:25:27.831Z"
   },
   {
    "duration": 25,
    "start_time": "2021-12-19T07:28:12.086Z"
   },
   {
    "duration": 26,
    "start_time": "2021-12-19T07:32:57.524Z"
   },
   {
    "duration": 25,
    "start_time": "2021-12-19T07:34:06.872Z"
   },
   {
    "duration": 271,
    "start_time": "2021-12-19T07:37:10.387Z"
   },
   {
    "duration": 46,
    "start_time": "2021-12-19T07:43:05.111Z"
   },
   {
    "duration": 9,
    "start_time": "2021-12-19T07:43:05.158Z"
   },
   {
    "duration": 10,
    "start_time": "2021-12-19T07:43:05.169Z"
   },
   {
    "duration": 9,
    "start_time": "2021-12-19T07:43:05.181Z"
   },
   {
    "duration": 13,
    "start_time": "2021-12-19T07:43:05.192Z"
   },
   {
    "duration": 11,
    "start_time": "2021-12-19T07:43:05.206Z"
   },
   {
    "duration": 14,
    "start_time": "2021-12-19T07:43:05.218Z"
   },
   {
    "duration": 5,
    "start_time": "2021-12-19T07:43:05.233Z"
   },
   {
    "duration": 15,
    "start_time": "2021-12-19T07:43:05.240Z"
   },
   {
    "duration": 3,
    "start_time": "2021-12-19T07:43:05.256Z"
   },
   {
    "duration": 28,
    "start_time": "2021-12-19T07:43:05.260Z"
   },
   {
    "duration": 21,
    "start_time": "2021-12-19T07:43:05.289Z"
   },
   {
    "duration": 26,
    "start_time": "2021-12-19T07:45:05.575Z"
   },
   {
    "duration": 10,
    "start_time": "2021-12-19T07:45:14.505Z"
   },
   {
    "duration": 25,
    "start_time": "2021-12-19T07:45:17.209Z"
   },
   {
    "duration": 30,
    "start_time": "2021-12-19T07:50:46.190Z"
   },
   {
    "duration": 23,
    "start_time": "2021-12-19T07:52:04.581Z"
   },
   {
    "duration": 22,
    "start_time": "2021-12-19T07:57:20.067Z"
   },
   {
    "duration": -193,
    "start_time": "2021-12-19T09:32:37.475Z"
   },
   {
    "duration": 23,
    "start_time": "2021-12-19T09:34:34.920Z"
   },
   {
    "duration": 80,
    "start_time": "2021-12-19T09:34:52.000Z"
   },
   {
    "duration": 83,
    "start_time": "2021-12-19T09:35:10.806Z"
   },
   {
    "duration": -193,
    "start_time": "2021-12-19T09:35:31.382Z"
   },
   {
    "duration": 6445,
    "start_time": "2021-12-19T09:35:31.680Z"
   },
   {
    "duration": 6064,
    "start_time": "2021-12-19T09:39:29.029Z"
   },
   {
    "duration": 7794,
    "start_time": "2021-12-19T09:39:50.934Z"
   },
   {
    "duration": 6004,
    "start_time": "2021-12-19T09:40:44.939Z"
   },
   {
    "duration": 107,
    "start_time": "2021-12-19T09:43:11.995Z"
   },
   {
    "duration": 5866,
    "start_time": "2021-12-19T09:43:20.860Z"
   },
   {
    "duration": 6091,
    "start_time": "2021-12-19T09:44:10.029Z"
   },
   {
    "duration": 6164,
    "start_time": "2021-12-19T09:44:47.411Z"
   },
   {
    "duration": 6223,
    "start_time": "2021-12-19T09:45:37.747Z"
   },
   {
    "duration": 6737,
    "start_time": "2021-12-19T09:47:02.459Z"
   },
   {
    "duration": 5923,
    "start_time": "2021-12-19T09:47:15.019Z"
   },
   {
    "duration": 4,
    "start_time": "2021-12-19T09:48:52.657Z"
   },
   {
    "duration": 6319,
    "start_time": "2021-12-19T09:52:13.527Z"
   },
   {
    "duration": 27,
    "start_time": "2021-12-19T10:08:49.082Z"
   },
   {
    "duration": 6325,
    "start_time": "2021-12-19T10:11:56.624Z"
   },
   {
    "duration": 4,
    "start_time": "2021-12-19T10:12:30.225Z"
   },
   {
    "duration": 244,
    "start_time": "2021-12-19T10:15:07.573Z"
   },
   {
    "duration": 3,
    "start_time": "2021-12-19T10:15:18.214Z"
   },
   {
    "duration": 6309,
    "start_time": "2021-12-19T10:15:19.967Z"
   },
   {
    "duration": 4,
    "start_time": "2021-12-19T10:15:52.286Z"
   },
   {
    "duration": 5,
    "start_time": "2021-12-19T10:15:53.592Z"
   },
   {
    "duration": 237,
    "start_time": "2021-12-19T10:35:38.767Z"
   },
   {
    "duration": 242,
    "start_time": "2021-12-19T10:36:16.951Z"
   },
   {
    "duration": 235,
    "start_time": "2021-12-19T10:40:05.085Z"
   },
   {
    "duration": 7627,
    "start_time": "2021-12-19T10:42:58.300Z"
   },
   {
    "duration": 4,
    "start_time": "2021-12-19T10:45:29.667Z"
   },
   {
    "duration": 14,
    "start_time": "2021-12-19T10:47:54.123Z"
   },
   {
    "duration": 44,
    "start_time": "2021-12-19T10:48:11.742Z"
   },
   {
    "duration": 9,
    "start_time": "2021-12-19T10:48:11.788Z"
   },
   {
    "duration": 23,
    "start_time": "2021-12-19T10:48:11.798Z"
   },
   {
    "duration": 45,
    "start_time": "2021-12-19T10:48:11.822Z"
   },
   {
    "duration": 8,
    "start_time": "2021-12-19T10:48:11.868Z"
   },
   {
    "duration": 38,
    "start_time": "2021-12-19T10:48:11.878Z"
   },
   {
    "duration": 13,
    "start_time": "2021-12-19T10:48:11.917Z"
   },
   {
    "duration": 10,
    "start_time": "2021-12-19T10:48:11.931Z"
   },
   {
    "duration": 15,
    "start_time": "2021-12-19T10:48:11.943Z"
   },
   {
    "duration": 35,
    "start_time": "2021-12-19T10:48:11.959Z"
   },
   {
    "duration": 12,
    "start_time": "2021-12-19T10:48:11.996Z"
   },
   {
    "duration": 32,
    "start_time": "2021-12-19T10:48:12.009Z"
   },
   {
    "duration": 28,
    "start_time": "2021-12-19T10:48:12.042Z"
   },
   {
    "duration": 29,
    "start_time": "2021-12-19T10:48:12.071Z"
   },
   {
    "duration": 34,
    "start_time": "2021-12-19T10:48:12.101Z"
   },
   {
    "duration": 7,
    "start_time": "2021-12-19T10:48:12.137Z"
   },
   {
    "duration": 21,
    "start_time": "2021-12-19T10:48:12.145Z"
   },
   {
    "duration": 7708,
    "start_time": "2021-12-19T10:49:45.941Z"
   },
   {
    "duration": 250,
    "start_time": "2021-12-19T11:17:04.458Z"
   },
   {
    "duration": 236,
    "start_time": "2021-12-19T13:08:51.337Z"
   },
   {
    "duration": 228,
    "start_time": "2021-12-19T13:19:19.605Z"
   },
   {
    "duration": 241,
    "start_time": "2021-12-19T13:25:50.050Z"
   },
   {
    "duration": 226,
    "start_time": "2021-12-19T13:26:02.955Z"
   },
   {
    "duration": 239,
    "start_time": "2021-12-19T13:28:49.853Z"
   },
   {
    "duration": 471,
    "start_time": "2021-12-19T13:32:51.065Z"
   },
   {
    "duration": 239,
    "start_time": "2021-12-19T14:47:48.844Z"
   },
   {
    "duration": 4,
    "start_time": "2021-12-19T16:06:41.718Z"
   },
   {
    "duration": 7869,
    "start_time": "2021-12-19T16:42:13.927Z"
   },
   {
    "duration": 9,
    "start_time": "2021-12-19T17:03:47.558Z"
   },
   {
    "duration": 6,
    "start_time": "2021-12-19T17:04:03.758Z"
   },
   {
    "duration": 6,
    "start_time": "2021-12-19T17:05:11.200Z"
   },
   {
    "duration": 11,
    "start_time": "2021-12-19T17:07:09.061Z"
   },
   {
    "duration": 13,
    "start_time": "2021-12-19T17:07:32.068Z"
   },
   {
    "duration": 7,
    "start_time": "2021-12-19T17:24:00.200Z"
   },
   {
    "duration": 9,
    "start_time": "2021-12-19T17:24:16.054Z"
   },
   {
    "duration": 7,
    "start_time": "2021-12-19T17:38:32.713Z"
   },
   {
    "duration": 7,
    "start_time": "2021-12-19T17:38:50.678Z"
   },
   {
    "duration": 5,
    "start_time": "2021-12-19T17:39:31.320Z"
   },
   {
    "duration": 7,
    "start_time": "2021-12-19T17:39:34.824Z"
   },
   {
    "duration": 7,
    "start_time": "2021-12-19T17:45:19.938Z"
   },
   {
    "duration": 17,
    "start_time": "2021-12-19T17:51:12.364Z"
   },
   {
    "duration": 14,
    "start_time": "2021-12-19T18:10:29.321Z"
   },
   {
    "duration": 17,
    "start_time": "2021-12-19T18:11:03.263Z"
   },
   {
    "duration": 19,
    "start_time": "2021-12-19T18:15:55.466Z"
   },
   {
    "duration": 450,
    "start_time": "2021-12-20T07:13:23.230Z"
   },
   {
    "duration": 681,
    "start_time": "2021-12-20T07:13:35.174Z"
   },
   {
    "duration": 11,
    "start_time": "2021-12-20T07:13:35.857Z"
   },
   {
    "duration": 18,
    "start_time": "2021-12-20T07:13:35.870Z"
   },
   {
    "duration": 32,
    "start_time": "2021-12-20T07:13:35.889Z"
   },
   {
    "duration": 9,
    "start_time": "2021-12-20T07:13:35.923Z"
   },
   {
    "duration": 14,
    "start_time": "2021-12-20T07:13:35.933Z"
   },
   {
    "duration": 16,
    "start_time": "2021-12-20T07:13:35.949Z"
   },
   {
    "duration": 12,
    "start_time": "2021-12-20T07:13:35.967Z"
   },
   {
    "duration": 29,
    "start_time": "2021-12-20T07:13:35.982Z"
   },
   {
    "duration": 20,
    "start_time": "2021-12-20T07:13:36.013Z"
   },
   {
    "duration": 3,
    "start_time": "2021-12-20T07:13:36.034Z"
   },
   {
    "duration": 14,
    "start_time": "2021-12-20T07:13:36.039Z"
   },
   {
    "duration": 23,
    "start_time": "2021-12-20T07:13:36.054Z"
   },
   {
    "duration": 29,
    "start_time": "2021-12-20T07:13:36.079Z"
   },
   {
    "duration": 31,
    "start_time": "2021-12-20T07:13:36.110Z"
   },
   {
    "duration": 3,
    "start_time": "2021-12-20T07:13:36.142Z"
   },
   {
    "duration": 8,
    "start_time": "2021-12-20T07:13:36.146Z"
   },
   {
    "duration": 8211,
    "start_time": "2021-12-20T07:13:36.156Z"
   },
   {
    "duration": 14,
    "start_time": "2021-12-20T07:13:44.368Z"
   },
   {
    "duration": 22,
    "start_time": "2021-12-20T07:13:44.384Z"
   },
   {
    "duration": 4,
    "start_time": "2021-12-20T07:13:44.408Z"
   },
   {
    "duration": 9,
    "start_time": "2021-12-20T07:13:44.413Z"
   },
   {
    "duration": 8,
    "start_time": "2021-12-20T07:13:44.423Z"
   },
   {
    "duration": 21,
    "start_time": "2021-12-20T07:13:44.432Z"
   },
   {
    "duration": 23,
    "start_time": "2021-12-20T07:14:00.108Z"
   },
   {
    "duration": 14487,
    "start_time": "2021-12-20T08:04:53.285Z"
   },
   {
    "duration": 8907,
    "start_time": "2021-12-20T08:05:33.775Z"
   },
   {
    "duration": 8,
    "start_time": "2021-12-20T08:06:05.064Z"
   },
   {
    "duration": 15,
    "start_time": "2021-12-20T08:07:26.336Z"
   },
   {
    "duration": 352,
    "start_time": "2021-12-20T08:11:08.000Z"
   },
   {
    "duration": 6,
    "start_time": "2021-12-20T08:11:19.326Z"
   },
   {
    "duration": 7,
    "start_time": "2021-12-20T08:12:16.522Z"
   },
   {
    "duration": 24,
    "start_time": "2021-12-20T08:12:32.995Z"
   },
   {
    "duration": 7,
    "start_time": "2021-12-20T08:12:36.542Z"
   },
   {
    "duration": 7,
    "start_time": "2021-12-20T08:13:19.039Z"
   },
   {
    "duration": 976,
    "start_time": "2021-12-20T08:14:05.544Z"
   },
   {
    "duration": 862,
    "start_time": "2021-12-20T08:14:29.274Z"
   },
   {
    "duration": 14,
    "start_time": "2021-12-20T08:15:18.977Z"
   },
   {
    "duration": 31,
    "start_time": "2021-12-20T08:17:51.326Z"
   },
   {
    "duration": 13,
    "start_time": "2021-12-20T08:17:56.897Z"
   },
   {
    "duration": 4,
    "start_time": "2021-12-20T08:19:23.345Z"
   },
   {
    "duration": 4,
    "start_time": "2021-12-20T08:19:48.932Z"
   },
   {
    "duration": 4,
    "start_time": "2021-12-20T08:20:39.842Z"
   },
   {
    "duration": 4,
    "start_time": "2021-12-20T08:20:53.416Z"
   },
   {
    "duration": 4,
    "start_time": "2021-12-20T08:21:03.320Z"
   },
   {
    "duration": 17,
    "start_time": "2021-12-20T08:23:42.664Z"
   },
   {
    "duration": 16,
    "start_time": "2021-12-20T08:24:02.455Z"
   },
   {
    "duration": 4,
    "start_time": "2021-12-20T08:25:50.113Z"
   },
   {
    "duration": 1087,
    "start_time": "2021-12-20T08:50:38.367Z"
   },
   {
    "duration": 52,
    "start_time": "2021-12-20T09:08:40.525Z"
   },
   {
    "duration": 10,
    "start_time": "2021-12-20T09:08:40.579Z"
   },
   {
    "duration": 11,
    "start_time": "2021-12-20T09:08:40.592Z"
   },
   {
    "duration": 27,
    "start_time": "2021-12-20T09:08:40.605Z"
   },
   {
    "duration": 9,
    "start_time": "2021-12-20T09:08:40.634Z"
   },
   {
    "duration": 12,
    "start_time": "2021-12-20T09:08:40.645Z"
   },
   {
    "duration": 11,
    "start_time": "2021-12-20T09:08:40.659Z"
   },
   {
    "duration": 36,
    "start_time": "2021-12-20T09:08:40.672Z"
   },
   {
    "duration": 7,
    "start_time": "2021-12-20T09:08:40.710Z"
   },
   {
    "duration": 18,
    "start_time": "2021-12-20T09:08:40.719Z"
   },
   {
    "duration": 3,
    "start_time": "2021-12-20T09:08:40.739Z"
   },
   {
    "duration": 8,
    "start_time": "2021-12-20T09:08:40.743Z"
   },
   {
    "duration": 21,
    "start_time": "2021-12-20T09:08:40.753Z"
   },
   {
    "duration": 40,
    "start_time": "2021-12-20T09:08:40.776Z"
   },
   {
    "duration": 33,
    "start_time": "2021-12-20T09:08:48.349Z"
   },
   {
    "duration": 3,
    "start_time": "2021-12-20T09:09:21.064Z"
   },
   {
    "duration": 9889,
    "start_time": "2021-12-20T09:09:25.943Z"
   },
   {
    "duration": 4,
    "start_time": "2021-12-20T09:09:39.361Z"
   },
   {
    "duration": 965,
    "start_time": "2021-12-20T09:09:55.898Z"
   },
   {
    "duration": 4,
    "start_time": "2021-12-20T09:11:20.938Z"
   },
   {
    "duration": 8,
    "start_time": "2021-12-20T09:11:24.247Z"
   },
   {
    "duration": 24,
    "start_time": "2021-12-20T09:11:43.230Z"
   },
   {
    "duration": 47,
    "start_time": "2021-12-20T09:14:41.960Z"
   },
   {
    "duration": 56,
    "start_time": "2021-12-20T09:16:18.305Z"
   },
   {
    "duration": 56,
    "start_time": "2021-12-20T09:17:25.893Z"
   },
   {
    "duration": 54,
    "start_time": "2021-12-20T09:18:21.207Z"
   },
   {
    "duration": 26,
    "start_time": "2021-12-20T09:18:45.985Z"
   },
   {
    "duration": 25,
    "start_time": "2021-12-20T09:19:31.467Z"
   },
   {
    "duration": 26,
    "start_time": "2021-12-20T09:20:42.716Z"
   },
   {
    "duration": 18,
    "start_time": "2021-12-20T09:21:14.007Z"
   },
   {
    "duration": 22,
    "start_time": "2021-12-20T09:22:07.269Z"
   },
   {
    "duration": 21,
    "start_time": "2021-12-20T09:22:50.084Z"
   },
   {
    "duration": 31,
    "start_time": "2021-12-20T09:50:26.589Z"
   },
   {
    "duration": 2859,
    "start_time": "2021-12-20T14:20:09.576Z"
   },
   {
    "duration": 15,
    "start_time": "2021-12-20T14:20:12.437Z"
   },
   {
    "duration": 27,
    "start_time": "2021-12-20T14:20:12.456Z"
   },
   {
    "duration": 45,
    "start_time": "2021-12-20T14:20:12.486Z"
   },
   {
    "duration": 38,
    "start_time": "2021-12-20T14:20:12.533Z"
   },
   {
    "duration": 19,
    "start_time": "2021-12-20T14:20:12.573Z"
   },
   {
    "duration": 20,
    "start_time": "2021-12-20T14:20:12.594Z"
   },
   {
    "duration": 50,
    "start_time": "2021-12-20T14:20:12.618Z"
   },
   {
    "duration": 7,
    "start_time": "2021-12-20T14:20:12.671Z"
   },
   {
    "duration": 25,
    "start_time": "2021-12-20T14:20:12.680Z"
   },
   {
    "duration": 4,
    "start_time": "2021-12-20T14:20:12.707Z"
   },
   {
    "duration": 8,
    "start_time": "2021-12-20T14:20:12.713Z"
   },
   {
    "duration": 30,
    "start_time": "2021-12-20T14:20:12.760Z"
   },
   {
    "duration": 17,
    "start_time": "2021-12-20T14:20:12.792Z"
   },
   {
    "duration": 71,
    "start_time": "2021-12-20T14:20:12.812Z"
   },
   {
    "duration": 4,
    "start_time": "2021-12-20T14:20:12.885Z"
   },
   {
    "duration": 8,
    "start_time": "2021-12-20T14:20:12.891Z"
   },
   {
    "duration": 1659,
    "start_time": "2021-12-20T14:20:12.902Z"
   },
   {
    "duration": 12,
    "start_time": "2021-12-20T14:20:30.045Z"
   },
   {
    "duration": 44,
    "start_time": "2021-12-20T14:20:35.647Z"
   },
   {
    "duration": 10,
    "start_time": "2021-12-20T14:20:52.112Z"
   },
   {
    "duration": 6,
    "start_time": "2021-12-20T14:21:00.248Z"
   },
   {
    "duration": 10,
    "start_time": "2021-12-20T14:21:08.800Z"
   },
   {
    "duration": 9,
    "start_time": "2021-12-20T14:21:16.689Z"
   },
   {
    "duration": 5,
    "start_time": "2021-12-20T14:22:51.456Z"
   },
   {
    "duration": 5,
    "start_time": "2021-12-20T14:22:55.311Z"
   },
   {
    "duration": 30,
    "start_time": "2021-12-20T14:23:27.450Z"
   },
   {
    "duration": 16,
    "start_time": "2021-12-20T14:26:23.398Z"
   },
   {
    "duration": 11,
    "start_time": "2021-12-20T14:31:19.542Z"
   },
   {
    "duration": 11,
    "start_time": "2021-12-20T14:31:40.756Z"
   },
   {
    "duration": 30,
    "start_time": "2021-12-20T14:35:06.993Z"
   },
   {
    "duration": 34,
    "start_time": "2021-12-20T14:38:00.611Z"
   },
   {
    "duration": 10838,
    "start_time": "2021-12-20T15:14:51.482Z"
   },
   {
    "duration": 10893,
    "start_time": "2021-12-20T15:16:54.731Z"
   },
   {
    "duration": 9816,
    "start_time": "2021-12-20T15:18:03.348Z"
   },
   {
    "duration": 160,
    "start_time": "2021-12-20T15:26:57.544Z"
   },
   {
    "duration": 41,
    "start_time": "2021-12-20T15:27:11.841Z"
   },
   {
    "duration": 17,
    "start_time": "2021-12-20T15:27:42.159Z"
   },
   {
    "duration": 37,
    "start_time": "2021-12-20T15:32:16.663Z"
   },
   {
    "duration": 17211,
    "start_time": "2021-12-20T15:41:39.333Z"
   },
   {
    "duration": 36,
    "start_time": "2021-12-20T15:44:42.263Z"
   },
   {
    "duration": 2929,
    "start_time": "2021-12-20T15:46:20.458Z"
   },
   {
    "duration": 451,
    "start_time": "2021-12-20T16:37:52.181Z"
   },
   {
    "duration": 393,
    "start_time": "2021-12-20T16:38:24.596Z"
   },
   {
    "duration": 8,
    "start_time": "2021-12-20T16:39:05.788Z"
   },
   {
    "duration": 1933,
    "start_time": "2021-12-20T16:43:28.032Z"
   },
   {
    "duration": 4,
    "start_time": "2021-12-20T16:44:17.539Z"
   },
   {
    "duration": 7,
    "start_time": "2021-12-20T16:44:20.626Z"
   },
   {
    "duration": 3669,
    "start_time": "2021-12-20T16:50:17.467Z"
   },
   {
    "duration": 41,
    "start_time": "2021-12-20T16:50:24.385Z"
   },
   {
    "duration": 45,
    "start_time": "2021-12-20T17:00:56.540Z"
   },
   {
    "duration": 25,
    "start_time": "2021-12-20T17:03:09.684Z"
   },
   {
    "duration": 11,
    "start_time": "2021-12-20T17:12:01.768Z"
   },
   {
    "duration": -103,
    "start_time": "2021-12-20T17:12:36.144Z"
   },
   {
    "duration": 9870,
    "start_time": "2021-12-20T17:12:37.087Z"
   },
   {
    "duration": 15,
    "start_time": "2021-12-20T17:13:26.207Z"
   },
   {
    "duration": 11,
    "start_time": "2021-12-20T17:13:58.831Z"
   },
   {
    "duration": 10,
    "start_time": "2021-12-20T17:15:13.104Z"
   },
   {
    "duration": 370,
    "start_time": "2021-12-20T17:45:53.160Z"
   },
   {
    "duration": 63,
    "start_time": "2021-12-20T17:47:23.000Z"
   },
   {
    "duration": 16,
    "start_time": "2021-12-20T17:47:23.065Z"
   },
   {
    "duration": 17,
    "start_time": "2021-12-20T17:47:23.084Z"
   },
   {
    "duration": 72,
    "start_time": "2021-12-20T17:47:23.104Z"
   },
   {
    "duration": 12,
    "start_time": "2021-12-20T17:47:23.179Z"
   },
   {
    "duration": 19,
    "start_time": "2021-12-20T17:47:23.193Z"
   },
   {
    "duration": 46,
    "start_time": "2021-12-20T17:47:23.215Z"
   },
   {
    "duration": 19,
    "start_time": "2021-12-20T17:47:23.265Z"
   },
   {
    "duration": 8,
    "start_time": "2021-12-20T17:47:23.286Z"
   },
   {
    "duration": 9,
    "start_time": "2021-12-20T17:47:23.297Z"
   },
   {
    "duration": 79,
    "start_time": "2021-12-20T17:47:23.308Z"
   },
   {
    "duration": 40,
    "start_time": "2021-12-20T17:47:27.459Z"
   },
   {
    "duration": 361,
    "start_time": "2021-12-20T17:48:33.557Z"
   },
   {
    "duration": 38,
    "start_time": "2021-12-20T17:49:06.418Z"
   },
   {
    "duration": 462,
    "start_time": "2021-12-20T18:13:44.646Z"
   },
   {
    "duration": 48,
    "start_time": "2021-12-20T18:14:54.913Z"
   },
   {
    "duration": 71,
    "start_time": "2021-12-20T18:15:45.972Z"
   },
   {
    "duration": 16,
    "start_time": "2021-12-20T18:15:46.061Z"
   },
   {
    "duration": 19,
    "start_time": "2021-12-20T18:15:46.080Z"
   },
   {
    "duration": 91,
    "start_time": "2021-12-20T18:15:46.102Z"
   },
   {
    "duration": 14,
    "start_time": "2021-12-20T18:15:46.195Z"
   },
   {
    "duration": 18,
    "start_time": "2021-12-20T18:15:46.212Z"
   },
   {
    "duration": 27,
    "start_time": "2021-12-20T18:15:46.260Z"
   },
   {
    "duration": 22,
    "start_time": "2021-12-20T18:15:46.292Z"
   },
   {
    "duration": 43,
    "start_time": "2021-12-20T18:15:46.318Z"
   },
   {
    "duration": 11,
    "start_time": "2021-12-20T18:15:46.364Z"
   },
   {
    "duration": 29,
    "start_time": "2021-12-20T18:15:46.377Z"
   },
   {
    "duration": 103,
    "start_time": "2021-12-20T18:15:46.409Z"
   },
   {
    "duration": 5,
    "start_time": "2021-12-20T18:15:46.515Z"
   },
   {
    "duration": 11,
    "start_time": "2021-12-20T18:15:46.523Z"
   },
   {
    "duration": 45,
    "start_time": "2021-12-20T18:15:46.560Z"
   },
   {
    "duration": 17,
    "start_time": "2021-12-20T18:15:46.608Z"
   },
   {
    "duration": 69,
    "start_time": "2021-12-20T18:15:46.628Z"
   },
   {
    "duration": 5,
    "start_time": "2021-12-20T18:15:46.700Z"
   },
   {
    "duration": 14,
    "start_time": "2021-12-20T18:15:46.707Z"
   },
   {
    "duration": 1862,
    "start_time": "2021-12-20T18:15:46.724Z"
   },
   {
    "duration": 13,
    "start_time": "2021-12-20T18:15:48.590Z"
   },
   {
    "duration": 74,
    "start_time": "2021-12-20T18:15:48.606Z"
   },
   {
    "duration": 10,
    "start_time": "2021-12-20T18:15:48.685Z"
   },
   {
    "duration": 6,
    "start_time": "2021-12-20T18:15:48.697Z"
   },
   {
    "duration": 12,
    "start_time": "2021-12-20T18:15:48.705Z"
   },
   {
    "duration": 47,
    "start_time": "2021-12-20T18:15:48.720Z"
   },
   {
    "duration": 5,
    "start_time": "2021-12-20T18:15:48.770Z"
   },
   {
    "duration": 19,
    "start_time": "2021-12-20T18:15:48.778Z"
   },
   {
    "duration": 62,
    "start_time": "2021-12-20T18:15:48.799Z"
   },
   {
    "duration": 18,
    "start_time": "2021-12-20T18:15:48.864Z"
   },
   {
    "duration": 76,
    "start_time": "2021-12-20T18:15:48.885Z"
   },
   {
    "duration": 39,
    "start_time": "2021-12-20T18:38:04.108Z"
   },
   {
    "duration": 5,
    "start_time": "2021-12-20T18:39:11.991Z"
   },
   {
    "duration": 7,
    "start_time": "2021-12-20T18:39:42.654Z"
   },
   {
    "duration": 4357,
    "start_time": "2021-12-20T18:39:51.105Z"
   },
   {
    "duration": 28,
    "start_time": "2021-12-20T18:39:59.087Z"
   },
   {
    "duration": 14,
    "start_time": "2021-12-20T18:40:19.750Z"
   },
   {
    "duration": 48,
    "start_time": "2021-12-20T18:40:25.439Z"
   },
   {
    "duration": 391,
    "start_time": "2021-12-20T18:45:46.612Z"
   },
   {
    "duration": 61,
    "start_time": "2021-12-20T18:54:30.314Z"
   },
   {
    "duration": 37,
    "start_time": "2021-12-20T18:59:28.724Z"
   },
   {
    "duration": 484,
    "start_time": "2021-12-20T18:59:54.184Z"
   },
   {
    "duration": 475,
    "start_time": "2021-12-20T19:00:22.416Z"
   },
   {
    "duration": 552,
    "start_time": "2021-12-20T19:03:13.599Z"
   },
   {
    "duration": 436,
    "start_time": "2021-12-20T19:03:33.882Z"
   },
   {
    "duration": 14,
    "start_time": "2021-12-20T19:03:46.318Z"
   },
   {
    "duration": 123,
    "start_time": "2021-12-20T19:07:25.545Z"
   },
   {
    "duration": 26,
    "start_time": "2021-12-20T19:08:16.902Z"
   },
   {
    "duration": 13,
    "start_time": "2021-12-20T19:09:48.332Z"
   },
   {
    "duration": 24,
    "start_time": "2021-12-20T19:14:27.418Z"
   },
   {
    "duration": 32,
    "start_time": "2021-12-20T19:15:22.995Z"
   },
   {
    "duration": 30,
    "start_time": "2021-12-20T19:19:14.768Z"
   },
   {
    "duration": 64,
    "start_time": "2021-12-20T19:20:41.115Z"
   },
   {
    "duration": 14,
    "start_time": "2021-12-20T19:20:41.182Z"
   },
   {
    "duration": 19,
    "start_time": "2021-12-20T19:20:41.199Z"
   },
   {
    "duration": 66,
    "start_time": "2021-12-20T19:20:41.221Z"
   },
   {
    "duration": 12,
    "start_time": "2021-12-20T19:20:41.290Z"
   },
   {
    "duration": 19,
    "start_time": "2021-12-20T19:20:41.304Z"
   },
   {
    "duration": 42,
    "start_time": "2021-12-20T19:20:41.326Z"
   },
   {
    "duration": 20,
    "start_time": "2021-12-20T19:20:41.371Z"
   },
   {
    "duration": 9,
    "start_time": "2021-12-20T19:20:41.393Z"
   },
   {
    "duration": 9,
    "start_time": "2021-12-20T19:20:41.404Z"
   },
   {
    "duration": 66,
    "start_time": "2021-12-20T19:20:41.416Z"
   },
   {
    "duration": 37,
    "start_time": "2021-12-20T19:20:48.776Z"
   },
   {
    "duration": 16,
    "start_time": "2021-12-20T19:23:42.367Z"
   },
   {
    "duration": 30,
    "start_time": "2021-12-20T19:24:11.611Z"
   },
   {
    "duration": 123,
    "start_time": "2021-12-20T19:54:33.849Z"
   },
   {
    "duration": 370,
    "start_time": "2021-12-20T19:54:46.979Z"
   },
   {
    "duration": 365,
    "start_time": "2021-12-20T19:56:22.497Z"
   },
   {
    "duration": 364,
    "start_time": "2021-12-20T19:56:41.875Z"
   },
   {
    "duration": 68,
    "start_time": "2021-12-20T19:57:28.408Z"
   },
   {
    "duration": 138,
    "start_time": "2021-12-20T19:57:28.479Z"
   },
   {
    "duration": 96,
    "start_time": "2021-12-20T19:57:28.621Z"
   },
   {
    "duration": 85,
    "start_time": "2021-12-20T19:57:28.720Z"
   },
   {
    "duration": 14,
    "start_time": "2021-12-20T19:57:28.808Z"
   },
   {
    "duration": 102,
    "start_time": "2021-12-20T19:57:28.825Z"
   },
   {
    "duration": 108,
    "start_time": "2021-12-20T19:57:28.930Z"
   },
   {
    "duration": 108,
    "start_time": "2021-12-20T19:57:29.040Z"
   },
   {
    "duration": 57,
    "start_time": "2021-12-20T19:57:29.151Z"
   },
   {
    "duration": 400,
    "start_time": "2021-12-20T19:57:32.895Z"
   },
   {
    "duration": 373,
    "start_time": "2021-12-20T19:58:20.192Z"
   },
   {
    "duration": 377,
    "start_time": "2021-12-20T19:59:16.321Z"
   },
   {
    "duration": 10,
    "start_time": "2021-12-20T19:59:47.945Z"
   },
   {
    "duration": 11,
    "start_time": "2021-12-20T20:08:00.028Z"
   },
   {
    "duration": 31,
    "start_time": "2021-12-20T20:09:51.720Z"
   },
   {
    "duration": 417,
    "start_time": "2021-12-21T14:13:22.039Z"
   },
   {
    "duration": 853,
    "start_time": "2021-12-21T14:13:30.782Z"
   },
   {
    "duration": 17,
    "start_time": "2021-12-21T14:13:31.638Z"
   },
   {
    "duration": 30,
    "start_time": "2021-12-21T14:13:31.660Z"
   },
   {
    "duration": 25,
    "start_time": "2021-12-21T14:13:31.693Z"
   },
   {
    "duration": 18,
    "start_time": "2021-12-21T14:13:31.721Z"
   },
   {
    "duration": 37,
    "start_time": "2021-12-21T14:13:31.741Z"
   },
   {
    "duration": 20,
    "start_time": "2021-12-21T14:13:31.781Z"
   },
   {
    "duration": 19,
    "start_time": "2021-12-21T14:13:31.804Z"
   },
   {
    "duration": 41,
    "start_time": "2021-12-21T14:13:31.826Z"
   },
   {
    "duration": 9,
    "start_time": "2021-12-21T14:13:31.869Z"
   },
   {
    "duration": 25,
    "start_time": "2021-12-21T14:13:31.881Z"
   },
   {
    "duration": 70,
    "start_time": "2021-12-21T14:13:31.909Z"
   },
   {
    "duration": 60,
    "start_time": "2021-12-21T14:13:31.982Z"
   },
   {
    "duration": 35,
    "start_time": "2021-12-21T14:13:42.749Z"
   },
   {
    "duration": 11,
    "start_time": "2021-12-21T14:14:25.157Z"
   },
   {
    "duration": 8,
    "start_time": "2021-12-21T14:14:44.541Z"
   },
   {
    "duration": 168,
    "start_time": "2021-12-21T14:15:59.845Z"
   },
   {
    "duration": 121,
    "start_time": "2021-12-21T14:16:38.564Z"
   },
   {
    "duration": 131,
    "start_time": "2021-12-21T14:17:25.517Z"
   },
   {
    "duration": 8,
    "start_time": "2021-12-21T14:17:49.796Z"
   },
   {
    "duration": 68,
    "start_time": "2021-12-21T14:39:46.373Z"
   },
   {
    "duration": 20,
    "start_time": "2021-12-21T14:39:46.444Z"
   },
   {
    "duration": 26,
    "start_time": "2021-12-21T14:39:46.468Z"
   },
   {
    "duration": 13,
    "start_time": "2021-12-21T14:39:46.498Z"
   },
   {
    "duration": 57,
    "start_time": "2021-12-21T14:39:46.514Z"
   },
   {
    "duration": 20,
    "start_time": "2021-12-21T14:39:46.573Z"
   },
   {
    "duration": 25,
    "start_time": "2021-12-21T14:39:46.596Z"
   },
   {
    "duration": 36,
    "start_time": "2021-12-21T14:39:46.624Z"
   },
   {
    "duration": 10,
    "start_time": "2021-12-21T14:39:46.664Z"
   },
   {
    "duration": 11,
    "start_time": "2021-12-21T14:39:46.677Z"
   },
   {
    "duration": 25,
    "start_time": "2021-12-21T14:39:46.690Z"
   },
   {
    "duration": 29,
    "start_time": "2021-12-21T14:39:46.760Z"
   },
   {
    "duration": 11,
    "start_time": "2021-12-21T14:39:46.792Z"
   },
   {
    "duration": 84,
    "start_time": "2021-12-21T14:39:46.806Z"
   },
   {
    "duration": 7,
    "start_time": "2021-12-21T14:39:46.893Z"
   },
   {
    "duration": 5,
    "start_time": "2021-12-21T14:39:46.903Z"
   },
   {
    "duration": 9,
    "start_time": "2021-12-21T14:39:46.910Z"
   },
   {
    "duration": 62,
    "start_time": "2021-12-21T14:39:46.921Z"
   },
   {
    "duration": 10,
    "start_time": "2021-12-21T14:39:46.985Z"
   },
   {
    "duration": 12,
    "start_time": "2021-12-21T14:39:46.997Z"
   },
   {
    "duration": 16,
    "start_time": "2021-12-21T14:39:47.011Z"
   },
   {
    "duration": 34,
    "start_time": "2021-12-21T14:39:47.030Z"
   },
   {
    "duration": 42,
    "start_time": "2021-12-21T14:39:47.069Z"
   },
   {
    "duration": 4,
    "start_time": "2021-12-21T14:39:47.114Z"
   },
   {
    "duration": 10,
    "start_time": "2021-12-21T14:39:47.120Z"
   },
   {
    "duration": 4333,
    "start_time": "2021-12-21T14:39:47.160Z"
   },
   {
    "duration": 7,
    "start_time": "2021-12-21T14:39:51.496Z"
   },
   {
    "duration": 70,
    "start_time": "2021-12-21T14:44:59.280Z"
   },
   {
    "duration": 15,
    "start_time": "2021-12-21T14:44:59.353Z"
   },
   {
    "duration": 18,
    "start_time": "2021-12-21T14:44:59.371Z"
   },
   {
    "duration": 12,
    "start_time": "2021-12-21T14:44:59.391Z"
   },
   {
    "duration": 20,
    "start_time": "2021-12-21T14:44:59.405Z"
   },
   {
    "duration": 19,
    "start_time": "2021-12-21T14:44:59.459Z"
   },
   {
    "duration": 20,
    "start_time": "2021-12-21T14:44:59.480Z"
   },
   {
    "duration": 10,
    "start_time": "2021-12-21T14:44:59.502Z"
   },
   {
    "duration": 50,
    "start_time": "2021-12-21T14:44:59.516Z"
   },
   {
    "duration": 10,
    "start_time": "2021-12-21T14:44:59.569Z"
   },
   {
    "duration": 25,
    "start_time": "2021-12-21T14:44:59.582Z"
   },
   {
    "duration": 63,
    "start_time": "2021-12-21T14:44:59.609Z"
   },
   {
    "duration": 9,
    "start_time": "2021-12-21T14:44:59.676Z"
   },
   {
    "duration": 84,
    "start_time": "2021-12-21T14:44:59.687Z"
   },
   {
    "duration": 9,
    "start_time": "2021-12-21T14:44:59.773Z"
   },
   {
    "duration": 6,
    "start_time": "2021-12-21T14:44:59.784Z"
   },
   {
    "duration": 8,
    "start_time": "2021-12-21T14:44:59.792Z"
   },
   {
    "duration": 59,
    "start_time": "2021-12-21T14:44:59.802Z"
   },
   {
    "duration": 12,
    "start_time": "2021-12-21T14:44:59.863Z"
   },
   {
    "duration": 10,
    "start_time": "2021-12-21T14:44:59.877Z"
   },
   {
    "duration": 10,
    "start_time": "2021-12-21T14:44:59.890Z"
   },
   {
    "duration": 12,
    "start_time": "2021-12-21T14:44:59.903Z"
   },
   {
    "duration": 46,
    "start_time": "2021-12-21T14:45:19.441Z"
   },
   {
    "duration": 10,
    "start_time": "2021-12-21T15:24:26.753Z"
   },
   {
    "duration": 74,
    "start_time": "2021-12-21T15:38:27.284Z"
   },
   {
    "duration": 16,
    "start_time": "2021-12-21T15:38:27.362Z"
   },
   {
    "duration": 19,
    "start_time": "2021-12-21T15:38:27.381Z"
   },
   {
    "duration": 12,
    "start_time": "2021-12-21T15:38:27.403Z"
   },
   {
    "duration": 52,
    "start_time": "2021-12-21T15:38:27.417Z"
   },
   {
    "duration": 19,
    "start_time": "2021-12-21T15:38:27.472Z"
   },
   {
    "duration": 19,
    "start_time": "2021-12-21T15:38:27.493Z"
   },
   {
    "duration": 49,
    "start_time": "2021-12-21T15:38:27.514Z"
   },
   {
    "duration": 9,
    "start_time": "2021-12-21T15:38:27.570Z"
   },
   {
    "duration": 10,
    "start_time": "2021-12-21T15:38:27.582Z"
   },
   {
    "duration": 24,
    "start_time": "2021-12-21T15:38:27.595Z"
   },
   {
    "duration": 29,
    "start_time": "2021-12-21T15:38:27.660Z"
   },
   {
    "duration": 8,
    "start_time": "2021-12-21T15:38:27.691Z"
   },
   {
    "duration": 8,
    "start_time": "2021-12-21T15:38:27.701Z"
   },
   {
    "duration": 49,
    "start_time": "2021-12-21T15:38:27.712Z"
   },
   {
    "duration": 5,
    "start_time": "2021-12-21T15:38:27.764Z"
   },
   {
    "duration": 7,
    "start_time": "2021-12-21T15:38:27.771Z"
   },
   {
    "duration": 24,
    "start_time": "2021-12-21T15:38:27.780Z"
   },
   {
    "duration": 9,
    "start_time": "2021-12-21T15:38:27.807Z"
   },
   {
    "duration": 45,
    "start_time": "2021-12-21T15:38:27.818Z"
   },
   {
    "duration": 12,
    "start_time": "2021-12-21T15:38:27.865Z"
   },
   {
    "duration": 11,
    "start_time": "2021-12-21T15:38:27.879Z"
   },
   {
    "duration": 78,
    "start_time": "2021-12-21T15:38:27.892Z"
   },
   {
    "duration": 5,
    "start_time": "2021-12-21T15:38:27.972Z"
   },
   {
    "duration": 11,
    "start_time": "2021-12-21T15:38:27.979Z"
   },
   {
    "duration": 4322,
    "start_time": "2021-12-21T15:38:27.993Z"
   },
   {
    "duration": 6,
    "start_time": "2021-12-21T15:38:32.321Z"
   },
   {
    "duration": 421,
    "start_time": "2021-12-21T15:53:42.472Z"
   },
   {
    "duration": 7,
    "start_time": "2021-12-21T15:54:54.615Z"
   },
   {
    "duration": 19,
    "start_time": "2021-12-21T15:55:01.864Z"
   },
   {
    "duration": 16,
    "start_time": "2021-12-21T15:55:41.353Z"
   },
   {
    "duration": 19,
    "start_time": "2021-12-21T15:56:21.441Z"
   },
   {
    "duration": 9,
    "start_time": "2021-12-21T15:56:36.699Z"
   },
   {
    "duration": 5,
    "start_time": "2021-12-21T15:57:17.215Z"
   },
   {
    "duration": 19,
    "start_time": "2021-12-21T15:57:26.024Z"
   },
   {
    "duration": 17,
    "start_time": "2021-12-21T15:57:37.143Z"
   },
   {
    "duration": 29,
    "start_time": "2021-12-21T16:16:41.142Z"
   },
   {
    "duration": 56,
    "start_time": "2021-12-21T16:17:11.499Z"
   },
   {
    "duration": 29,
    "start_time": "2021-12-21T16:21:18.608Z"
   },
   {
    "duration": 56,
    "start_time": "2021-12-21T16:24:56.702Z"
   },
   {
    "duration": 25,
    "start_time": "2021-12-21T16:25:36.318Z"
   },
   {
    "duration": 89,
    "start_time": "2021-12-21T16:25:39.695Z"
   },
   {
    "duration": 9727,
    "start_time": "2021-12-21T16:47:20.127Z"
   },
   {
    "duration": 11230,
    "start_time": "2021-12-21T16:47:55.840Z"
   },
   {
    "duration": 12,
    "start_time": "2021-12-21T16:48:22.536Z"
   },
   {
    "duration": 65,
    "start_time": "2021-12-21T16:48:52.234Z"
   },
   {
    "duration": 14,
    "start_time": "2021-12-21T16:48:52.301Z"
   },
   {
    "duration": 52,
    "start_time": "2021-12-21T16:48:52.318Z"
   },
   {
    "duration": 23,
    "start_time": "2021-12-21T16:48:52.374Z"
   },
   {
    "duration": 28,
    "start_time": "2021-12-21T16:48:52.400Z"
   },
   {
    "duration": 20,
    "start_time": "2021-12-21T16:48:52.459Z"
   },
   {
    "duration": 21,
    "start_time": "2021-12-21T16:48:52.481Z"
   },
   {
    "duration": 11,
    "start_time": "2021-12-21T16:48:52.505Z"
   },
   {
    "duration": 11,
    "start_time": "2021-12-21T16:48:52.558Z"
   },
   {
    "duration": 10,
    "start_time": "2021-12-21T16:48:52.573Z"
   },
   {
    "duration": 26,
    "start_time": "2021-12-21T16:48:52.585Z"
   },
   {
    "duration": 70,
    "start_time": "2021-12-21T16:48:52.613Z"
   },
   {
    "duration": 10,
    "start_time": "2021-12-21T16:48:52.686Z"
   },
   {
    "duration": 8,
    "start_time": "2021-12-21T16:48:52.699Z"
   },
   {
    "duration": 53,
    "start_time": "2021-12-21T16:48:52.709Z"
   },
   {
    "duration": 4,
    "start_time": "2021-12-21T16:48:52.765Z"
   },
   {
    "duration": 9,
    "start_time": "2021-12-21T16:48:52.772Z"
   },
   {
    "duration": 34,
    "start_time": "2021-12-21T16:48:52.784Z"
   },
   {
    "duration": 45,
    "start_time": "2021-12-21T16:48:52.821Z"
   },
   {
    "duration": 7,
    "start_time": "2021-12-21T16:48:52.868Z"
   },
   {
    "duration": 11,
    "start_time": "2021-12-21T16:48:52.878Z"
   },
   {
    "duration": 10,
    "start_time": "2021-12-21T16:48:52.891Z"
   },
   {
    "duration": 82,
    "start_time": "2021-12-21T16:48:52.904Z"
   },
   {
    "duration": 5,
    "start_time": "2021-12-21T16:48:52.989Z"
   },
   {
    "duration": 11,
    "start_time": "2021-12-21T16:48:52.996Z"
   },
   {
    "duration": 4474,
    "start_time": "2021-12-21T16:48:53.010Z"
   },
   {
    "duration": 7,
    "start_time": "2021-12-21T16:48:57.489Z"
   },
   {
    "duration": 7,
    "start_time": "2021-12-21T16:48:57.499Z"
   },
   {
    "duration": 59,
    "start_time": "2021-12-21T16:48:57.509Z"
   },
   {
    "duration": 18,
    "start_time": "2021-12-21T16:49:02.190Z"
   },
   {
    "duration": 10,
    "start_time": "2021-12-21T16:51:40.432Z"
   },
   {
    "duration": 12,
    "start_time": "2021-12-21T16:51:45.461Z"
   },
   {
    "duration": 11,
    "start_time": "2021-12-21T16:51:51.462Z"
   },
   {
    "duration": 11,
    "start_time": "2021-12-21T16:52:47.447Z"
   },
   {
    "duration": 24,
    "start_time": "2021-12-21T16:59:03.446Z"
   },
   {
    "duration": 53,
    "start_time": "2021-12-21T16:59:10.072Z"
   },
   {
    "duration": 26,
    "start_time": "2021-12-21T17:01:01.851Z"
   },
   {
    "duration": 74,
    "start_time": "2021-12-21T17:18:43.596Z"
   },
   {
    "duration": 15,
    "start_time": "2021-12-21T17:18:43.673Z"
   },
   {
    "duration": 20,
    "start_time": "2021-12-21T17:18:43.691Z"
   },
   {
    "duration": 51,
    "start_time": "2021-12-21T17:18:43.715Z"
   },
   {
    "duration": 23,
    "start_time": "2021-12-21T17:18:43.768Z"
   },
   {
    "duration": 19,
    "start_time": "2021-12-21T17:18:43.793Z"
   },
   {
    "duration": 52,
    "start_time": "2021-12-21T17:18:43.814Z"
   },
   {
    "duration": 12,
    "start_time": "2021-12-21T17:18:43.871Z"
   },
   {
    "duration": 15,
    "start_time": "2021-12-21T17:18:43.886Z"
   },
   {
    "duration": 13,
    "start_time": "2021-12-21T17:18:43.904Z"
   },
   {
    "duration": 61,
    "start_time": "2021-12-21T17:18:43.920Z"
   },
   {
    "duration": 30,
    "start_time": "2021-12-21T17:18:43.984Z"
   },
   {
    "duration": 7,
    "start_time": "2021-12-21T17:18:44.017Z"
   },
   {
    "duration": 9,
    "start_time": "2021-12-21T17:18:44.059Z"
   },
   {
    "duration": 10,
    "start_time": "2021-12-21T17:18:44.071Z"
   },
   {
    "duration": 5,
    "start_time": "2021-12-21T17:18:44.084Z"
   },
   {
    "duration": 8,
    "start_time": "2021-12-21T17:18:44.092Z"
   },
   {
    "duration": 67,
    "start_time": "2021-12-21T17:18:44.103Z"
   },
   {
    "duration": 11,
    "start_time": "2021-12-21T17:18:44.172Z"
   },
   {
    "duration": 9,
    "start_time": "2021-12-21T17:18:44.185Z"
   },
   {
    "duration": 17,
    "start_time": "2021-12-21T17:18:44.197Z"
   },
   {
    "duration": 12,
    "start_time": "2021-12-21T17:18:44.216Z"
   },
   {
    "duration": 45,
    "start_time": "2021-12-21T17:18:44.263Z"
   },
   {
    "duration": 5,
    "start_time": "2021-12-21T17:18:44.312Z"
   },
   {
    "duration": 16,
    "start_time": "2021-12-21T17:18:44.319Z"
   },
   {
    "duration": 4607,
    "start_time": "2021-12-21T17:18:44.359Z"
   },
   {
    "duration": 7,
    "start_time": "2021-12-21T17:18:48.968Z"
   },
   {
    "duration": 6,
    "start_time": "2021-12-21T17:18:48.977Z"
   },
   {
    "duration": 17,
    "start_time": "2021-12-21T17:18:48.985Z"
   },
   {
    "duration": 11,
    "start_time": "2021-12-21T17:18:49.004Z"
   },
   {
    "duration": 57,
    "start_time": "2021-12-21T17:18:49.018Z"
   },
   {
    "duration": 13,
    "start_time": "2021-12-21T17:18:49.078Z"
   },
   {
    "duration": 11,
    "start_time": "2021-12-21T17:18:49.093Z"
   },
   {
    "duration": 66,
    "start_time": "2021-12-21T17:18:49.106Z"
   },
   {
    "duration": 31,
    "start_time": "2021-12-21T17:18:49.174Z"
   },
   {
    "duration": 27,
    "start_time": "2021-12-21T17:18:49.208Z"
   },
   {
    "duration": 11,
    "start_time": "2021-12-21T17:58:32.363Z"
   },
   {
    "duration": 119,
    "start_time": "2021-12-21T17:58:35.563Z"
   },
   {
    "duration": 383,
    "start_time": "2021-12-21T18:00:32.010Z"
   },
   {
    "duration": 927,
    "start_time": "2021-12-21T18:00:54.723Z"
   },
   {
    "duration": 6,
    "start_time": "2021-12-21T18:02:42.089Z"
   },
   {
    "duration": 6,
    "start_time": "2021-12-21T18:02:55.713Z"
   },
   {
    "duration": 5594,
    "start_time": "2021-12-21T18:08:36.802Z"
   },
   {
    "duration": 256,
    "start_time": "2021-12-21T18:08:44.784Z"
   },
   {
    "duration": 375,
    "start_time": "2021-12-21T18:09:37.055Z"
   },
   {
    "duration": 7,
    "start_time": "2021-12-21T18:09:57.241Z"
   },
   {
    "duration": 6,
    "start_time": "2021-12-21T18:16:14.677Z"
   },
   {
    "duration": 571,
    "start_time": "2021-12-21T18:16:42.381Z"
   },
   {
    "duration": 83,
    "start_time": "2021-12-21T18:36:22.966Z"
   },
   {
    "duration": 4567,
    "start_time": "2021-12-21T18:36:54.000Z"
   },
   {
    "duration": 47,
    "start_time": "2021-12-21T18:45:44.417Z"
   },
   {
    "duration": 19,
    "start_time": "2021-12-21T18:46:44.844Z"
   },
   {
    "duration": 439,
    "start_time": "2021-12-21T18:58:38.974Z"
   },
   {
    "duration": 18,
    "start_time": "2021-12-21T18:58:53.708Z"
   },
   {
    "duration": 434,
    "start_time": "2021-12-21T19:02:08.883Z"
   },
   {
    "duration": 16,
    "start_time": "2021-12-21T19:02:27.988Z"
   },
   {
    "duration": 17,
    "start_time": "2021-12-21T19:06:07.266Z"
   },
   {
    "duration": 19,
    "start_time": "2021-12-21T19:41:41.548Z"
   },
   {
    "duration": 818,
    "start_time": "2021-12-22T07:03:38.097Z"
   },
   {
    "duration": 15,
    "start_time": "2021-12-22T07:03:38.917Z"
   },
   {
    "duration": 41,
    "start_time": "2021-12-22T07:03:38.936Z"
   },
   {
    "duration": 14,
    "start_time": "2021-12-22T07:03:38.980Z"
   },
   {
    "duration": 20,
    "start_time": "2021-12-22T07:03:38.996Z"
   },
   {
    "duration": 60,
    "start_time": "2021-12-22T07:03:39.019Z"
   },
   {
    "duration": 18,
    "start_time": "2021-12-22T07:03:39.082Z"
   },
   {
    "duration": 11,
    "start_time": "2021-12-22T07:03:39.104Z"
   },
   {
    "duration": 8,
    "start_time": "2021-12-22T07:03:39.118Z"
   },
   {
    "duration": 13,
    "start_time": "2021-12-22T07:03:39.169Z"
   },
   {
    "duration": 27,
    "start_time": "2021-12-22T07:03:39.184Z"
   },
   {
    "duration": 63,
    "start_time": "2021-12-22T07:03:39.214Z"
   },
   {
    "duration": 10,
    "start_time": "2021-12-22T07:03:39.280Z"
   },
   {
    "duration": 9,
    "start_time": "2021-12-22T07:03:39.293Z"
   },
   {
    "duration": 10,
    "start_time": "2021-12-22T07:03:39.305Z"
   },
   {
    "duration": 4,
    "start_time": "2021-12-22T07:03:39.363Z"
   },
   {
    "duration": 6,
    "start_time": "2021-12-22T07:03:39.371Z"
   },
   {
    "duration": 24,
    "start_time": "2021-12-22T07:03:39.379Z"
   },
   {
    "duration": 10,
    "start_time": "2021-12-22T07:03:39.406Z"
   },
   {
    "duration": 48,
    "start_time": "2021-12-22T07:03:39.419Z"
   },
   {
    "duration": 12,
    "start_time": "2021-12-22T07:03:39.470Z"
   },
   {
    "duration": 12,
    "start_time": "2021-12-22T07:03:39.485Z"
   },
   {
    "duration": 81,
    "start_time": "2021-12-22T07:03:39.504Z"
   },
   {
    "duration": 5,
    "start_time": "2021-12-22T07:03:39.589Z"
   },
   {
    "duration": 881,
    "start_time": "2021-12-22T07:03:39.597Z"
   },
   {
    "duration": -1377,
    "start_time": "2021-12-22T07:03:41.858Z"
   },
   {
    "duration": -1380,
    "start_time": "2021-12-22T07:03:41.863Z"
   },
   {
    "duration": -1383,
    "start_time": "2021-12-22T07:03:41.867Z"
   },
   {
    "duration": -1384,
    "start_time": "2021-12-22T07:03:41.870Z"
   },
   {
    "duration": -1385,
    "start_time": "2021-12-22T07:03:41.872Z"
   },
   {
    "duration": -1387,
    "start_time": "2021-12-22T07:03:41.875Z"
   },
   {
    "duration": -1388,
    "start_time": "2021-12-22T07:03:41.878Z"
   },
   {
    "duration": -1390,
    "start_time": "2021-12-22T07:03:41.881Z"
   },
   {
    "duration": -1394,
    "start_time": "2021-12-22T07:03:41.886Z"
   },
   {
    "duration": -1395,
    "start_time": "2021-12-22T07:03:41.889Z"
   },
   {
    "duration": -1397,
    "start_time": "2021-12-22T07:03:41.892Z"
   },
   {
    "duration": -1397,
    "start_time": "2021-12-22T07:03:41.894Z"
   },
   {
    "duration": -1399,
    "start_time": "2021-12-22T07:03:41.897Z"
   },
   {
    "duration": -1401,
    "start_time": "2021-12-22T07:03:41.900Z"
   },
   {
    "duration": -1401,
    "start_time": "2021-12-22T07:03:41.902Z"
   },
   {
    "duration": -1408,
    "start_time": "2021-12-22T07:03:41.910Z"
   },
   {
    "duration": 53,
    "start_time": "2021-12-22T07:05:10.877Z"
   },
   {
    "duration": 38,
    "start_time": "2021-12-22T07:05:10.932Z"
   },
   {
    "duration": 45,
    "start_time": "2021-12-22T07:05:10.973Z"
   },
   {
    "duration": 36,
    "start_time": "2021-12-22T07:05:11.021Z"
   },
   {
    "duration": 47,
    "start_time": "2021-12-22T07:05:11.062Z"
   },
   {
    "duration": 29,
    "start_time": "2021-12-22T07:05:11.112Z"
   },
   {
    "duration": 39,
    "start_time": "2021-12-22T07:05:11.143Z"
   },
   {
    "duration": 32,
    "start_time": "2021-12-22T07:05:11.185Z"
   },
   {
    "duration": 22,
    "start_time": "2021-12-22T07:05:11.221Z"
   },
   {
    "duration": 37,
    "start_time": "2021-12-22T07:05:11.246Z"
   },
   {
    "duration": 43,
    "start_time": "2021-12-22T07:05:11.286Z"
   },
   {
    "duration": 27,
    "start_time": "2021-12-22T07:05:11.331Z"
   },
   {
    "duration": 7,
    "start_time": "2021-12-22T07:05:11.360Z"
   },
   {
    "duration": 11,
    "start_time": "2021-12-22T07:05:11.369Z"
   },
   {
    "duration": 22,
    "start_time": "2021-12-22T07:05:11.383Z"
   },
   {
    "duration": 18,
    "start_time": "2021-12-22T07:05:11.408Z"
   },
   {
    "duration": 28,
    "start_time": "2021-12-22T07:05:11.429Z"
   },
   {
    "duration": 54,
    "start_time": "2021-12-22T07:05:11.460Z"
   },
   {
    "duration": 36,
    "start_time": "2021-12-22T07:05:11.517Z"
   },
   {
    "duration": 7,
    "start_time": "2021-12-22T07:05:11.556Z"
   },
   {
    "duration": 13,
    "start_time": "2021-12-22T07:05:11.565Z"
   },
   {
    "duration": 14,
    "start_time": "2021-12-22T07:05:11.581Z"
   },
   {
    "duration": 43,
    "start_time": "2021-12-22T07:05:11.597Z"
   },
   {
    "duration": 21,
    "start_time": "2021-12-22T07:05:11.642Z"
   },
   {
    "duration": 8,
    "start_time": "2021-12-22T07:05:11.667Z"
   },
   {
    "duration": 4284,
    "start_time": "2021-12-22T07:05:11.679Z"
   },
   {
    "duration": 7,
    "start_time": "2021-12-22T07:05:15.969Z"
   },
   {
    "duration": 5,
    "start_time": "2021-12-22T07:05:15.979Z"
   },
   {
    "duration": 17,
    "start_time": "2021-12-22T07:05:15.986Z"
   },
   {
    "duration": 10,
    "start_time": "2021-12-22T07:05:16.005Z"
   },
   {
    "duration": 59,
    "start_time": "2021-12-22T07:05:16.017Z"
   },
   {
    "duration": 11,
    "start_time": "2021-12-22T07:05:16.079Z"
   },
   {
    "duration": 12,
    "start_time": "2021-12-22T07:05:16.093Z"
   },
   {
    "duration": 11,
    "start_time": "2021-12-22T07:05:16.107Z"
   },
   {
    "duration": 62,
    "start_time": "2021-12-22T07:05:16.121Z"
   },
   {
    "duration": 31,
    "start_time": "2021-12-22T07:05:16.186Z"
   },
   {
    "duration": 51,
    "start_time": "2021-12-22T07:05:16.220Z"
   },
   {
    "duration": 11,
    "start_time": "2021-12-22T07:05:16.273Z"
   },
   {
    "duration": 6442,
    "start_time": "2021-12-22T07:05:16.287Z"
   },
   {
    "duration": 55,
    "start_time": "2021-12-22T07:05:22.732Z"
   },
   {
    "duration": 34,
    "start_time": "2021-12-22T07:05:22.790Z"
   },
   {
    "duration": 26,
    "start_time": "2021-12-22T07:05:47.367Z"
   },
   {
    "duration": 16,
    "start_time": "2021-12-22T07:07:34.006Z"
   },
   {
    "duration": 15,
    "start_time": "2021-12-22T07:10:34.665Z"
   },
   {
    "duration": 48,
    "start_time": "2021-12-22T07:28:24.335Z"
   },
   {
    "duration": 11,
    "start_time": "2021-12-22T07:28:42.709Z"
   },
   {
    "duration": 17,
    "start_time": "2021-12-22T07:53:06.678Z"
   },
   {
    "duration": 6,
    "start_time": "2021-12-22T07:56:38.822Z"
   },
   {
    "duration": 5,
    "start_time": "2021-12-22T07:56:42.071Z"
   },
   {
    "duration": 26,
    "start_time": "2021-12-22T07:56:53.364Z"
   },
   {
    "duration": 5,
    "start_time": "2021-12-22T08:03:18.370Z"
   },
   {
    "duration": 318,
    "start_time": "2021-12-22T08:29:35.888Z"
   },
   {
    "duration": 4,
    "start_time": "2021-12-22T08:40:08.059Z"
   },
   {
    "duration": 3630,
    "start_time": "2021-12-22T08:40:10.190Z"
   },
   {
    "duration": 22,
    "start_time": "2021-12-22T08:40:16.262Z"
   },
   {
    "duration": 7389,
    "start_time": "2021-12-22T09:08:19.394Z"
   },
   {
    "duration": 6,
    "start_time": "2021-12-22T09:10:51.148Z"
   },
   {
    "duration": 5,
    "start_time": "2021-12-22T09:11:42.043Z"
   },
   {
    "duration": 3666,
    "start_time": "2021-12-22T09:11:45.667Z"
   },
   {
    "duration": 16,
    "start_time": "2021-12-22T09:11:53.019Z"
   },
   {
    "duration": 13,
    "start_time": "2021-12-22T09:13:51.548Z"
   },
   {
    "duration": 8,
    "start_time": "2021-12-22T09:46:06.555Z"
   },
   {
    "duration": 48,
    "start_time": "2021-12-22T09:48:17.045Z"
   },
   {
    "duration": 8,
    "start_time": "2021-12-22T09:52:40.791Z"
   },
   {
    "duration": 5,
    "start_time": "2021-12-22T09:56:55.494Z"
   },
   {
    "duration": 8,
    "start_time": "2021-12-22T09:57:02.058Z"
   },
   {
    "duration": 15,
    "start_time": "2021-12-22T10:02:08.556Z"
   },
   {
    "duration": 18,
    "start_time": "2021-12-22T10:02:17.328Z"
   },
   {
    "duration": 31,
    "start_time": "2021-12-22T10:04:33.237Z"
   },
   {
    "duration": 18,
    "start_time": "2021-12-22T10:11:18.105Z"
   },
   {
    "duration": 299,
    "start_time": "2021-12-22T10:12:22.108Z"
   },
   {
    "duration": 841,
    "start_time": "2021-12-22T10:16:34.687Z"
   },
   {
    "duration": 19,
    "start_time": "2021-12-22T10:16:59.340Z"
   },
   {
    "duration": 30,
    "start_time": "2021-12-22T10:17:15.425Z"
   },
   {
    "duration": 17,
    "start_time": "2021-12-22T10:17:24.730Z"
   },
   {
    "duration": 35,
    "start_time": "2021-12-22T10:19:17.538Z"
   },
   {
    "duration": 38,
    "start_time": "2021-12-22T10:20:33.024Z"
   },
   {
    "duration": 59,
    "start_time": "2021-12-22T10:22:02.184Z"
   },
   {
    "duration": 117,
    "start_time": "2021-12-22T10:31:10.785Z"
   },
   {
    "duration": 61,
    "start_time": "2021-12-22T10:33:35.780Z"
   },
   {
    "duration": 4,
    "start_time": "2021-12-22T10:38:36.354Z"
   },
   {
    "duration": 29,
    "start_time": "2021-12-22T10:38:41.651Z"
   },
   {
    "duration": 30,
    "start_time": "2021-12-22T10:38:57.521Z"
   },
   {
    "duration": 19,
    "start_time": "2021-12-22T10:39:00.993Z"
   },
   {
    "duration": 61,
    "start_time": "2021-12-22T10:39:12.194Z"
   },
   {
    "duration": 58,
    "start_time": "2021-12-22T10:39:18.162Z"
   },
   {
    "duration": 59,
    "start_time": "2021-12-22T10:39:21.963Z"
   },
   {
    "duration": 35,
    "start_time": "2021-12-22T10:40:14.609Z"
   },
   {
    "duration": 4,
    "start_time": "2021-12-22T10:41:25.122Z"
   },
   {
    "duration": 38,
    "start_time": "2021-12-22T10:41:25.129Z"
   },
   {
    "duration": 60,
    "start_time": "2021-12-22T10:41:25.170Z"
   },
   {
    "duration": 78,
    "start_time": "2021-12-22T10:41:25.233Z"
   },
   {
    "duration": 75,
    "start_time": "2021-12-22T10:41:25.315Z"
   },
   {
    "duration": 4,
    "start_time": "2021-12-22T10:55:05.441Z"
   },
   {
    "duration": 28,
    "start_time": "2021-12-22T10:55:08.548Z"
   },
   {
    "duration": 40,
    "start_time": "2021-12-22T10:55:43.015Z"
   },
   {
    "duration": 57,
    "start_time": "2021-12-22T10:56:20.635Z"
   },
   {
    "duration": 9759,
    "start_time": "2021-12-22T11:36:08.081Z"
   },
   {
    "duration": 7373,
    "start_time": "2021-12-22T11:42:26.569Z"
   },
   {
    "duration": 286,
    "start_time": "2021-12-22T11:42:57.267Z"
   },
   {
    "duration": 316,
    "start_time": "2021-12-22T11:46:03.033Z"
   },
   {
    "duration": 7744,
    "start_time": "2021-12-22T11:47:42.247Z"
   },
   {
    "duration": 6,
    "start_time": "2021-12-22T11:47:55.486Z"
   },
   {
    "duration": 292,
    "start_time": "2021-12-22T11:49:41.750Z"
   },
   {
    "duration": 394,
    "start_time": "2021-12-22T11:54:54.941Z"
   },
   {
    "duration": 785,
    "start_time": "2021-12-22T12:00:14.252Z"
   },
   {
    "duration": 294,
    "start_time": "2021-12-22T12:05:52.593Z"
   },
   {
    "duration": 52,
    "start_time": "2021-12-22T12:20:18.388Z"
   },
   {
    "duration": 292,
    "start_time": "2021-12-22T12:20:24.579Z"
   },
   {
    "duration": 894,
    "start_time": "2021-12-22T12:32:19.846Z"
   },
   {
    "duration": 277,
    "start_time": "2021-12-22T12:32:31.214Z"
   },
   {
    "duration": 462,
    "start_time": "2021-12-22T12:33:02.758Z"
   },
   {
    "duration": 299,
    "start_time": "2021-12-22T12:33:13.519Z"
   },
   {
    "duration": 341,
    "start_time": "2021-12-22T12:33:24.246Z"
   },
   {
    "duration": 6,
    "start_time": "2021-12-22T12:37:59.205Z"
   },
   {
    "duration": 21,
    "start_time": "2021-12-22T12:38:04.501Z"
   },
   {
    "duration": 51,
    "start_time": "2021-12-22T12:38:14.837Z"
   },
   {
    "duration": 406,
    "start_time": "2021-12-22T12:38:23.197Z"
   },
   {
    "duration": 288,
    "start_time": "2021-12-22T12:46:22.744Z"
   },
   {
    "duration": 97,
    "start_time": "2021-12-22T12:48:45.369Z"
   },
   {
    "duration": 64,
    "start_time": "2021-12-22T12:49:24.783Z"
   },
   {
    "duration": 291,
    "start_time": "2021-12-22T12:49:29.816Z"
   },
   {
    "duration": 44,
    "start_time": "2021-12-22T12:49:50.873Z"
   },
   {
    "duration": 425,
    "start_time": "2021-12-22T12:50:30.552Z"
   },
   {
    "duration": 266,
    "start_time": "2021-12-22T12:50:42.486Z"
   },
   {
    "duration": 100,
    "start_time": "2021-12-22T13:37:58.787Z"
   },
   {
    "duration": 19,
    "start_time": "2021-12-22T13:37:58.891Z"
   },
   {
    "duration": 57,
    "start_time": "2021-12-22T13:37:58.913Z"
   },
   {
    "duration": 12,
    "start_time": "2021-12-22T13:37:58.979Z"
   },
   {
    "duration": 19,
    "start_time": "2021-12-22T13:37:58.995Z"
   },
   {
    "duration": 60,
    "start_time": "2021-12-22T13:37:59.018Z"
   },
   {
    "duration": 20,
    "start_time": "2021-12-22T13:37:59.081Z"
   },
   {
    "duration": 10,
    "start_time": "2021-12-22T13:37:59.105Z"
   },
   {
    "duration": 10,
    "start_time": "2021-12-22T13:37:59.118Z"
   },
   {
    "duration": 46,
    "start_time": "2021-12-22T13:37:59.130Z"
   },
   {
    "duration": 36,
    "start_time": "2021-12-22T13:37:59.178Z"
   },
   {
    "duration": 69,
    "start_time": "2021-12-22T13:37:59.216Z"
   },
   {
    "duration": 12,
    "start_time": "2021-12-22T13:37:59.288Z"
   },
   {
    "duration": 10,
    "start_time": "2021-12-22T13:37:59.304Z"
   },
   {
    "duration": 13,
    "start_time": "2021-12-22T13:37:59.318Z"
   },
   {
    "duration": 5,
    "start_time": "2021-12-22T13:37:59.366Z"
   },
   {
    "duration": 6,
    "start_time": "2021-12-22T13:37:59.382Z"
   },
   {
    "duration": 25,
    "start_time": "2021-12-22T13:37:59.391Z"
   },
   {
    "duration": 10,
    "start_time": "2021-12-22T13:37:59.418Z"
   },
   {
    "duration": 12,
    "start_time": "2021-12-22T13:37:59.470Z"
   },
   {
    "duration": 14,
    "start_time": "2021-12-22T13:37:59.484Z"
   },
   {
    "duration": 14,
    "start_time": "2021-12-22T13:37:59.501Z"
   },
   {
    "duration": 72,
    "start_time": "2021-12-22T13:37:59.522Z"
   },
   {
    "duration": 7,
    "start_time": "2021-12-22T13:37:59.597Z"
   },
   {
    "duration": 12,
    "start_time": "2021-12-22T13:37:59.606Z"
   },
   {
    "duration": 4705,
    "start_time": "2021-12-22T13:37:59.621Z"
   },
   {
    "duration": 8,
    "start_time": "2021-12-22T13:38:04.329Z"
   },
   {
    "duration": 31,
    "start_time": "2021-12-22T13:38:04.340Z"
   },
   {
    "duration": 6,
    "start_time": "2021-12-22T13:38:04.373Z"
   },
   {
    "duration": 14,
    "start_time": "2021-12-22T13:38:04.382Z"
   },
   {
    "duration": 7,
    "start_time": "2021-12-22T13:38:04.399Z"
   },
   {
    "duration": 21,
    "start_time": "2021-12-22T13:38:04.408Z"
   },
   {
    "duration": 50,
    "start_time": "2021-12-22T13:38:04.431Z"
   },
   {
    "duration": 16,
    "start_time": "2021-12-22T13:38:04.483Z"
   },
   {
    "duration": 16,
    "start_time": "2021-12-22T13:38:04.501Z"
   },
   {
    "duration": 12,
    "start_time": "2021-12-22T13:38:04.520Z"
   },
   {
    "duration": 40,
    "start_time": "2021-12-22T13:38:04.534Z"
   },
   {
    "duration": 30,
    "start_time": "2021-12-22T13:38:04.578Z"
   },
   {
    "duration": 65,
    "start_time": "2021-12-22T13:38:04.610Z"
   },
   {
    "duration": 26,
    "start_time": "2021-12-22T13:38:04.678Z"
   },
   {
    "duration": 28,
    "start_time": "2021-12-22T13:38:04.708Z"
   },
   {
    "duration": 6111,
    "start_time": "2021-12-22T13:38:04.739Z"
   },
   {
    "duration": 61,
    "start_time": "2021-12-22T13:38:10.853Z"
   },
   {
    "duration": 21,
    "start_time": "2021-12-22T13:38:10.917Z"
   },
   {
    "duration": 43,
    "start_time": "2021-12-22T13:38:10.941Z"
   },
   {
    "duration": 15,
    "start_time": "2021-12-22T13:38:10.987Z"
   },
   {
    "duration": 12,
    "start_time": "2021-12-22T13:38:11.005Z"
   },
   {
    "duration": 5,
    "start_time": "2021-12-22T13:38:11.020Z"
   },
   {
    "duration": 13,
    "start_time": "2021-12-22T13:38:11.063Z"
   },
   {
    "duration": 5,
    "start_time": "2021-12-22T13:38:11.081Z"
   },
   {
    "duration": 29,
    "start_time": "2021-12-22T13:38:11.088Z"
   },
   {
    "duration": 5,
    "start_time": "2021-12-22T13:38:11.120Z"
   },
   {
    "duration": 4126,
    "start_time": "2021-12-22T13:38:11.127Z"
   },
   {
    "duration": 25,
    "start_time": "2021-12-22T13:38:15.256Z"
   },
   {
    "duration": 14,
    "start_time": "2021-12-22T13:38:15.284Z"
   },
   {
    "duration": 5,
    "start_time": "2021-12-22T13:38:15.300Z"
   },
   {
    "duration": 68,
    "start_time": "2021-12-22T13:38:15.308Z"
   },
   {
    "duration": 4,
    "start_time": "2021-12-22T13:38:15.379Z"
   },
   {
    "duration": 111,
    "start_time": "2021-12-22T13:38:15.386Z"
   },
   {
    "duration": 80,
    "start_time": "2021-12-22T13:38:15.499Z"
   },
   {
    "duration": 40,
    "start_time": "2021-12-22T13:38:15.582Z"
   },
   {
    "duration": 314,
    "start_time": "2021-12-22T13:38:15.625Z"
   },
   {
    "duration": 60,
    "start_time": "2021-12-22T13:38:15.942Z"
   },
   {
    "duration": 18,
    "start_time": "2021-12-22T13:45:28.868Z"
   },
   {
    "duration": 72,
    "start_time": "2021-12-22T13:45:49.056Z"
   },
   {
    "duration": 14,
    "start_time": "2021-12-22T13:45:49.131Z"
   },
   {
    "duration": 30,
    "start_time": "2021-12-22T13:45:49.148Z"
   },
   {
    "duration": 16,
    "start_time": "2021-12-22T13:45:49.184Z"
   },
   {
    "duration": 17,
    "start_time": "2021-12-22T13:45:55.170Z"
   },
   {
    "duration": 302,
    "start_time": "2021-12-22T13:46:57.842Z"
   },
   {
    "duration": 14,
    "start_time": "2021-12-22T13:47:24.401Z"
   },
   {
    "duration": 392,
    "start_time": "2021-12-22T13:52:03.808Z"
   },
   {
    "duration": 97,
    "start_time": "2021-12-22T13:52:51.356Z"
   },
   {
    "duration": 35,
    "start_time": "2021-12-22T13:53:19.086Z"
   },
   {
    "duration": 13,
    "start_time": "2021-12-22T13:55:43.696Z"
   },
   {
    "duration": 11,
    "start_time": "2021-12-22T13:57:01.678Z"
   },
   {
    "duration": 14,
    "start_time": "2021-12-22T13:57:07.990Z"
   },
   {
    "duration": 6,
    "start_time": "2021-12-22T14:07:43.329Z"
   },
   {
    "duration": 314,
    "start_time": "2021-12-22T14:19:33.877Z"
   },
   {
    "duration": 68,
    "start_time": "2021-12-22T14:19:50.421Z"
   },
   {
    "duration": 15,
    "start_time": "2021-12-22T14:19:50.493Z"
   },
   {
    "duration": 52,
    "start_time": "2021-12-22T14:19:50.512Z"
   },
   {
    "duration": 18,
    "start_time": "2021-12-22T14:19:50.569Z"
   },
   {
    "duration": 13,
    "start_time": "2021-12-22T14:19:50.590Z"
   },
   {
    "duration": 74,
    "start_time": "2021-12-22T14:19:50.605Z"
   },
   {
    "duration": 21,
    "start_time": "2021-12-22T14:19:50.685Z"
   },
   {
    "duration": 13,
    "start_time": "2021-12-22T14:19:50.708Z"
   },
   {
    "duration": 40,
    "start_time": "2021-12-22T14:19:50.725Z"
   },
   {
    "duration": 13,
    "start_time": "2021-12-22T14:19:50.770Z"
   },
   {
    "duration": 26,
    "start_time": "2021-12-22T14:19:50.786Z"
   },
   {
    "duration": 74,
    "start_time": "2021-12-22T14:19:50.814Z"
   },
   {
    "duration": 10,
    "start_time": "2021-12-22T14:19:50.890Z"
   },
   {
    "duration": 9,
    "start_time": "2021-12-22T14:19:50.902Z"
   },
   {
    "duration": 5,
    "start_time": "2021-12-22T14:19:50.914Z"
   },
   {
    "duration": 15,
    "start_time": "2021-12-22T14:19:50.922Z"
   },
   {
    "duration": 6,
    "start_time": "2021-12-22T14:19:50.971Z"
   },
   {
    "duration": 29,
    "start_time": "2021-12-22T14:19:50.980Z"
   },
   {
    "duration": 12,
    "start_time": "2021-12-22T14:19:51.011Z"
   },
   {
    "duration": 40,
    "start_time": "2021-12-22T14:19:51.026Z"
   },
   {
    "duration": 14,
    "start_time": "2021-12-22T14:19:51.074Z"
   },
   {
    "duration": 10,
    "start_time": "2021-12-22T14:19:51.090Z"
   },
   {
    "duration": 70,
    "start_time": "2021-12-22T14:19:51.103Z"
   },
   {
    "duration": 6,
    "start_time": "2021-12-22T14:19:51.175Z"
   },
   {
    "duration": 10,
    "start_time": "2021-12-22T14:19:51.183Z"
   },
   {
    "duration": 4607,
    "start_time": "2021-12-22T14:19:51.195Z"
   },
   {
    "duration": 6,
    "start_time": "2021-12-22T14:19:55.809Z"
   },
   {
    "duration": 8,
    "start_time": "2021-12-22T14:19:55.818Z"
   },
   {
    "duration": 4,
    "start_time": "2021-12-22T14:19:55.829Z"
   },
   {
    "duration": 8,
    "start_time": "2021-12-22T14:19:55.875Z"
   },
   {
    "duration": 4,
    "start_time": "2021-12-22T14:19:55.886Z"
   },
   {
    "duration": 23,
    "start_time": "2021-12-22T14:19:55.892Z"
   },
   {
    "duration": 10,
    "start_time": "2021-12-22T14:19:55.917Z"
   },
   {
    "duration": 51,
    "start_time": "2021-12-22T14:19:55.929Z"
   },
   {
    "duration": 15,
    "start_time": "2021-12-22T14:19:55.983Z"
   },
   {
    "duration": 13,
    "start_time": "2021-12-22T14:19:56.001Z"
   },
   {
    "duration": 11,
    "start_time": "2021-12-22T14:19:56.017Z"
   },
   {
    "duration": 62,
    "start_time": "2021-12-22T14:19:56.031Z"
   },
   {
    "duration": 31,
    "start_time": "2021-12-22T14:19:56.096Z"
   },
   {
    "duration": 54,
    "start_time": "2021-12-22T14:19:56.130Z"
   },
   {
    "duration": 29,
    "start_time": "2021-12-22T14:19:56.186Z"
   },
   {
    "duration": 5830,
    "start_time": "2021-12-22T14:19:56.217Z"
   },
   {
    "duration": 59,
    "start_time": "2021-12-22T14:20:02.051Z"
   },
   {
    "duration": 21,
    "start_time": "2021-12-22T14:20:02.113Z"
   },
   {
    "duration": 51,
    "start_time": "2021-12-22T14:20:02.137Z"
   },
   {
    "duration": 18,
    "start_time": "2021-12-22T14:20:02.190Z"
   },
   {
    "duration": 11,
    "start_time": "2021-12-22T14:20:02.210Z"
   },
   {
    "duration": 4,
    "start_time": "2021-12-22T14:20:02.224Z"
   },
   {
    "duration": 38,
    "start_time": "2021-12-22T14:20:02.230Z"
   },
   {
    "duration": 11,
    "start_time": "2021-12-22T14:20:02.270Z"
   },
   {
    "duration": 28,
    "start_time": "2021-12-22T14:20:02.287Z"
   },
   {
    "duration": 6,
    "start_time": "2021-12-22T14:20:02.317Z"
   },
   {
    "duration": 3857,
    "start_time": "2021-12-22T14:20:02.326Z"
   },
   {
    "duration": 22,
    "start_time": "2021-12-22T14:20:06.186Z"
   },
   {
    "duration": 14,
    "start_time": "2021-12-22T14:20:06.211Z"
   },
   {
    "duration": 18,
    "start_time": "2021-12-22T14:20:06.228Z"
   },
   {
    "duration": 46,
    "start_time": "2021-12-22T14:20:06.249Z"
   },
   {
    "duration": 4,
    "start_time": "2021-12-22T14:20:06.297Z"
   },
   {
    "duration": 95,
    "start_time": "2021-12-22T14:20:06.303Z"
   },
   {
    "duration": 71,
    "start_time": "2021-12-22T14:20:06.401Z"
   },
   {
    "duration": 41,
    "start_time": "2021-12-22T14:20:06.475Z"
   },
   {
    "duration": 310,
    "start_time": "2021-12-22T14:20:06.519Z"
   },
   {
    "duration": 63,
    "start_time": "2021-12-22T14:20:06.832Z"
   },
   {
    "duration": 97,
    "start_time": "2021-12-22T14:31:19.514Z"
   },
   {
    "duration": 67,
    "start_time": "2021-12-22T14:54:11.683Z"
   },
   {
    "duration": 20,
    "start_time": "2021-12-22T14:54:11.753Z"
   },
   {
    "duration": 19,
    "start_time": "2021-12-22T14:54:11.776Z"
   },
   {
    "duration": 15,
    "start_time": "2021-12-22T14:54:11.798Z"
   },
   {
    "duration": 59,
    "start_time": "2021-12-22T14:54:11.815Z"
   },
   {
    "duration": 21,
    "start_time": "2021-12-22T14:54:11.877Z"
   },
   {
    "duration": 65,
    "start_time": "2021-12-22T14:54:11.900Z"
   },
   {
    "duration": 11,
    "start_time": "2021-12-22T14:54:11.971Z"
   },
   {
    "duration": 8,
    "start_time": "2021-12-22T14:54:11.985Z"
   },
   {
    "duration": 10,
    "start_time": "2021-12-22T14:54:11.995Z"
   },
   {
    "duration": 69,
    "start_time": "2021-12-22T14:54:12.007Z"
   },
   {
    "duration": 30,
    "start_time": "2021-12-22T14:54:12.078Z"
   },
   {
    "duration": 7,
    "start_time": "2021-12-22T14:54:12.110Z"
   },
   {
    "duration": 8,
    "start_time": "2021-12-22T14:54:12.119Z"
   },
   {
    "duration": 37,
    "start_time": "2021-12-22T14:54:12.129Z"
   },
   {
    "duration": 10,
    "start_time": "2021-12-22T14:54:12.168Z"
   },
   {
    "duration": 5,
    "start_time": "2021-12-22T14:54:12.180Z"
   },
   {
    "duration": 25,
    "start_time": "2021-12-22T14:54:12.188Z"
   },
   {
    "duration": 9,
    "start_time": "2021-12-22T14:54:12.215Z"
   },
   {
    "duration": 6,
    "start_time": "2021-12-22T14:54:12.262Z"
   },
   {
    "duration": 12,
    "start_time": "2021-12-22T14:54:12.270Z"
   },
   {
    "duration": 12,
    "start_time": "2021-12-22T14:54:12.284Z"
   },
   {
    "duration": 76,
    "start_time": "2021-12-22T14:54:12.303Z"
   },
   {
    "duration": 4,
    "start_time": "2021-12-22T14:54:12.384Z"
   },
   {
    "duration": 10,
    "start_time": "2021-12-22T14:54:12.391Z"
   },
   {
    "duration": 4282,
    "start_time": "2021-12-22T14:54:12.403Z"
   },
   {
    "duration": 6,
    "start_time": "2021-12-22T14:54:16.687Z"
   },
   {
    "duration": 13,
    "start_time": "2021-12-22T14:54:16.696Z"
   },
   {
    "duration": 8,
    "start_time": "2021-12-22T14:54:16.712Z"
   },
   {
    "duration": 9,
    "start_time": "2021-12-22T14:54:16.722Z"
   },
   {
    "duration": 29,
    "start_time": "2021-12-22T14:54:16.734Z"
   },
   {
    "duration": 18,
    "start_time": "2021-12-22T14:54:16.765Z"
   },
   {
    "duration": 9,
    "start_time": "2021-12-22T14:54:16.785Z"
   },
   {
    "duration": 15,
    "start_time": "2021-12-22T14:54:16.797Z"
   },
   {
    "duration": 47,
    "start_time": "2021-12-22T14:54:16.815Z"
   },
   {
    "duration": 10,
    "start_time": "2021-12-22T14:54:16.865Z"
   },
   {
    "duration": 14,
    "start_time": "2021-12-22T14:54:16.878Z"
   },
   {
    "duration": 33,
    "start_time": "2021-12-22T14:54:16.894Z"
   },
   {
    "duration": 53,
    "start_time": "2021-12-22T14:54:16.930Z"
   },
   {
    "duration": 25,
    "start_time": "2021-12-22T14:54:16.986Z"
   },
   {
    "duration": 49,
    "start_time": "2021-12-22T14:54:17.013Z"
   },
   {
    "duration": 5732,
    "start_time": "2021-12-22T14:54:17.065Z"
   },
   {
    "duration": 70,
    "start_time": "2021-12-22T14:54:22.800Z"
   },
   {
    "duration": 25,
    "start_time": "2021-12-22T14:54:22.874Z"
   },
   {
    "duration": 18,
    "start_time": "2021-12-22T14:54:22.902Z"
   },
   {
    "duration": 47,
    "start_time": "2021-12-22T14:54:22.923Z"
   },
   {
    "duration": 10,
    "start_time": "2021-12-22T14:54:22.973Z"
   },
   {
    "duration": 4,
    "start_time": "2021-12-22T14:54:22.986Z"
   },
   {
    "duration": 9,
    "start_time": "2021-12-22T14:54:22.993Z"
   },
   {
    "duration": 6,
    "start_time": "2021-12-22T14:54:23.005Z"
   },
   {
    "duration": 70,
    "start_time": "2021-12-22T14:54:23.014Z"
   },
   {
    "duration": 5,
    "start_time": "2021-12-22T14:54:23.086Z"
   },
   {
    "duration": 3883,
    "start_time": "2021-12-22T14:54:23.095Z"
   },
   {
    "duration": 15,
    "start_time": "2021-12-22T14:54:26.982Z"
   },
   {
    "duration": 9,
    "start_time": "2021-12-22T14:54:27.000Z"
   },
   {
    "duration": 4,
    "start_time": "2021-12-22T14:54:27.012Z"
   },
   {
    "duration": 61,
    "start_time": "2021-12-22T14:54:27.019Z"
   },
   {
    "duration": 5,
    "start_time": "2021-12-22T14:54:27.083Z"
   },
   {
    "duration": 80,
    "start_time": "2021-12-22T14:54:27.091Z"
   },
   {
    "duration": 59,
    "start_time": "2021-12-22T14:54:27.174Z"
   },
   {
    "duration": 60,
    "start_time": "2021-12-22T14:54:27.236Z"
   },
   {
    "duration": 295,
    "start_time": "2021-12-22T14:54:27.299Z"
   },
   {
    "duration": 44,
    "start_time": "2021-12-22T14:54:27.597Z"
   },
   {
    "duration": 269,
    "start_time": "2021-12-22T14:59:51.320Z"
   },
   {
    "duration": 308,
    "start_time": "2021-12-22T15:02:01.438Z"
   },
   {
    "duration": 268,
    "start_time": "2021-12-22T15:02:45.980Z"
   },
   {
    "duration": 65,
    "start_time": "2021-12-22T15:13:02.344Z"
   },
   {
    "duration": 19,
    "start_time": "2021-12-22T15:13:02.411Z"
   },
   {
    "duration": 51,
    "start_time": "2021-12-22T15:13:02.434Z"
   },
   {
    "duration": 13,
    "start_time": "2021-12-22T15:13:02.488Z"
   },
   {
    "duration": 62,
    "start_time": "2021-12-22T15:13:02.503Z"
   },
   {
    "duration": 19,
    "start_time": "2021-12-22T15:13:02.567Z"
   },
   {
    "duration": 34,
    "start_time": "2021-12-22T15:13:02.588Z"
   },
   {
    "duration": 38,
    "start_time": "2021-12-22T15:13:02.626Z"
   },
   {
    "duration": 8,
    "start_time": "2021-12-22T15:13:02.667Z"
   },
   {
    "duration": 9,
    "start_time": "2021-12-22T15:13:02.678Z"
   },
   {
    "duration": 24,
    "start_time": "2021-12-22T15:13:02.690Z"
   },
   {
    "duration": 69,
    "start_time": "2021-12-22T15:13:02.716Z"
   },
   {
    "duration": 8,
    "start_time": "2021-12-22T15:13:02.787Z"
   },
   {
    "duration": 11,
    "start_time": "2021-12-22T15:13:02.798Z"
   },
   {
    "duration": 9,
    "start_time": "2021-12-22T15:13:02.813Z"
   },
   {
    "duration": 46,
    "start_time": "2021-12-22T15:13:02.825Z"
   },
   {
    "duration": 9,
    "start_time": "2021-12-22T15:13:02.874Z"
   },
   {
    "duration": 27,
    "start_time": "2021-12-22T15:13:02.887Z"
   },
   {
    "duration": 45,
    "start_time": "2021-12-22T15:13:02.917Z"
   },
   {
    "duration": 7,
    "start_time": "2021-12-22T15:13:02.966Z"
   },
   {
    "duration": 11,
    "start_time": "2021-12-22T15:13:02.976Z"
   },
   {
    "duration": 12,
    "start_time": "2021-12-22T15:13:02.990Z"
   },
   {
    "duration": 87,
    "start_time": "2021-12-22T15:13:03.010Z"
   },
   {
    "duration": 5,
    "start_time": "2021-12-22T15:13:03.102Z"
   },
   {
    "duration": 11,
    "start_time": "2021-12-22T15:13:03.110Z"
   },
   {
    "duration": 4959,
    "start_time": "2021-12-22T15:13:03.124Z"
   },
   {
    "duration": 9,
    "start_time": "2021-12-22T15:13:08.085Z"
   },
   {
    "duration": 12,
    "start_time": "2021-12-22T15:13:08.097Z"
   },
   {
    "duration": 5,
    "start_time": "2021-12-22T15:13:08.112Z"
   },
   {
    "duration": 43,
    "start_time": "2021-12-22T15:13:08.120Z"
   },
   {
    "duration": 7,
    "start_time": "2021-12-22T15:13:08.166Z"
   },
   {
    "duration": 22,
    "start_time": "2021-12-22T15:13:08.176Z"
   },
   {
    "duration": 19,
    "start_time": "2021-12-22T15:13:08.201Z"
   },
   {
    "duration": 45,
    "start_time": "2021-12-22T15:13:08.223Z"
   },
   {
    "duration": 13,
    "start_time": "2021-12-22T15:13:08.271Z"
   },
   {
    "duration": 12,
    "start_time": "2021-12-22T15:13:08.286Z"
   },
   {
    "duration": 14,
    "start_time": "2021-12-22T15:13:08.301Z"
   },
   {
    "duration": 69,
    "start_time": "2021-12-22T15:13:08.317Z"
   },
   {
    "duration": 32,
    "start_time": "2021-12-22T15:13:08.390Z"
   },
   {
    "duration": 53,
    "start_time": "2021-12-22T15:13:08.425Z"
   },
   {
    "duration": 28,
    "start_time": "2021-12-22T15:13:08.481Z"
   },
   {
    "duration": 6028,
    "start_time": "2021-12-22T15:13:08.512Z"
   },
   {
    "duration": 61,
    "start_time": "2021-12-22T15:13:14.543Z"
   },
   {
    "duration": 693,
    "start_time": "2021-12-22T15:13:14.606Z"
   },
   {
    "duration": 18,
    "start_time": "2021-12-22T15:13:15.302Z"
   },
   {
    "duration": 15,
    "start_time": "2021-12-22T15:13:15.322Z"
   },
   {
    "duration": 24,
    "start_time": "2021-12-22T15:13:15.340Z"
   },
   {
    "duration": 6,
    "start_time": "2021-12-22T15:13:15.367Z"
   },
   {
    "duration": 9,
    "start_time": "2021-12-22T15:13:15.376Z"
   },
   {
    "duration": 10,
    "start_time": "2021-12-22T15:13:15.388Z"
   },
   {
    "duration": 74,
    "start_time": "2021-12-22T15:13:15.401Z"
   },
   {
    "duration": 6,
    "start_time": "2021-12-22T15:13:15.478Z"
   },
   {
    "duration": 3951,
    "start_time": "2021-12-22T15:13:15.487Z"
   },
   {
    "duration": 30,
    "start_time": "2021-12-22T15:13:19.441Z"
   },
   {
    "duration": 10,
    "start_time": "2021-12-22T15:13:19.474Z"
   },
   {
    "duration": 4,
    "start_time": "2021-12-22T15:13:19.486Z"
   },
   {
    "duration": 25,
    "start_time": "2021-12-22T15:13:19.492Z"
   },
   {
    "duration": 4,
    "start_time": "2021-12-22T15:13:19.519Z"
   },
   {
    "duration": 91,
    "start_time": "2021-12-22T15:13:19.525Z"
   },
   {
    "duration": 84,
    "start_time": "2021-12-22T15:13:19.618Z"
   },
   {
    "duration": 39,
    "start_time": "2021-12-22T15:13:19.704Z"
   },
   {
    "duration": 283,
    "start_time": "2021-12-22T15:13:19.763Z"
   },
   {
    "duration": 49,
    "start_time": "2021-12-22T15:13:20.048Z"
   },
   {
    "duration": 656,
    "start_time": "2021-12-23T14:24:56.469Z"
   },
   {
    "duration": 10,
    "start_time": "2021-12-23T14:24:57.127Z"
   },
   {
    "duration": 38,
    "start_time": "2021-12-23T14:24:57.139Z"
   },
   {
    "duration": 45,
    "start_time": "2021-12-23T14:24:57.179Z"
   },
   {
    "duration": 10,
    "start_time": "2021-12-23T14:24:57.226Z"
   },
   {
    "duration": 19,
    "start_time": "2021-12-23T14:24:57.238Z"
   },
   {
    "duration": 11,
    "start_time": "2021-12-23T14:24:57.259Z"
   },
   {
    "duration": 21,
    "start_time": "2021-12-23T14:24:57.273Z"
   },
   {
    "duration": 16,
    "start_time": "2021-12-23T14:24:57.296Z"
   },
   {
    "duration": 52,
    "start_time": "2021-12-23T14:24:57.314Z"
   },
   {
    "duration": 25,
    "start_time": "2021-12-23T14:24:57.368Z"
   },
   {
    "duration": 25,
    "start_time": "2021-12-23T14:24:57.395Z"
   },
   {
    "duration": 13,
    "start_time": "2021-12-23T14:24:57.422Z"
   },
   {
    "duration": 29,
    "start_time": "2021-12-23T14:24:57.437Z"
   },
   {
    "duration": 29,
    "start_time": "2021-12-23T14:24:57.468Z"
   },
   {
    "duration": 26,
    "start_time": "2021-12-23T14:24:57.499Z"
   },
   {
    "duration": 25,
    "start_time": "2021-12-23T14:24:57.526Z"
   },
   {
    "duration": 51,
    "start_time": "2021-12-23T14:24:57.553Z"
   },
   {
    "duration": 16,
    "start_time": "2021-12-23T14:24:57.606Z"
   },
   {
    "duration": 22,
    "start_time": "2021-12-23T14:24:57.623Z"
   },
   {
    "duration": 30,
    "start_time": "2021-12-23T14:24:57.646Z"
   },
   {
    "duration": 19,
    "start_time": "2021-12-23T14:24:57.678Z"
   },
   {
    "duration": 37,
    "start_time": "2021-12-23T14:24:57.700Z"
   },
   {
    "duration": 3,
    "start_time": "2021-12-23T14:24:57.739Z"
   },
   {
    "duration": 30,
    "start_time": "2021-12-23T14:24:57.744Z"
   },
   {
    "duration": 2647,
    "start_time": "2021-12-23T14:24:57.776Z"
   },
   {
    "duration": 5,
    "start_time": "2021-12-23T14:25:00.425Z"
   },
   {
    "duration": 9,
    "start_time": "2021-12-23T14:25:00.431Z"
   },
   {
    "duration": 19,
    "start_time": "2021-12-23T14:25:00.441Z"
   },
   {
    "duration": 5,
    "start_time": "2021-12-23T14:25:00.462Z"
   },
   {
    "duration": 3,
    "start_time": "2021-12-23T14:25:00.469Z"
   },
   {
    "duration": 15,
    "start_time": "2021-12-23T14:25:00.474Z"
   },
   {
    "duration": 89,
    "start_time": "2021-12-23T14:27:46.384Z"
   },
   {
    "duration": 3,
    "start_time": "2021-12-23T14:28:19.721Z"
   },
   {
    "duration": 13,
    "start_time": "2021-12-23T14:28:23.464Z"
   },
   {
    "duration": 11,
    "start_time": "2021-12-23T14:28:44.270Z"
   },
   {
    "duration": 80,
    "start_time": "2021-12-23T15:10:16.303Z"
   },
   {
    "duration": 6080,
    "start_time": "2021-12-23T15:10:26.250Z"
   },
   {
    "duration": 9512,
    "start_time": "2021-12-23T15:10:56.791Z"
   },
   {
    "duration": 51,
    "start_time": "2021-12-23T15:11:40.255Z"
   },
   {
    "duration": 13,
    "start_time": "2021-12-23T15:11:40.309Z"
   },
   {
    "duration": 12,
    "start_time": "2021-12-23T15:11:40.324Z"
   },
   {
    "duration": 31,
    "start_time": "2021-12-23T15:11:40.338Z"
   },
   {
    "duration": 11,
    "start_time": "2021-12-23T15:11:40.371Z"
   },
   {
    "duration": 16,
    "start_time": "2021-12-23T15:11:40.384Z"
   },
   {
    "duration": 17,
    "start_time": "2021-12-23T15:11:40.402Z"
   },
   {
    "duration": 40,
    "start_time": "2021-12-23T15:11:40.422Z"
   },
   {
    "duration": 8,
    "start_time": "2021-12-23T15:11:40.464Z"
   },
   {
    "duration": 13,
    "start_time": "2021-12-23T15:11:40.474Z"
   },
   {
    "duration": 20,
    "start_time": "2021-12-23T15:11:40.489Z"
   },
   {
    "duration": 18,
    "start_time": "2021-12-23T15:11:40.511Z"
   },
   {
    "duration": 5,
    "start_time": "2021-12-23T15:11:49.650Z"
   },
   {
    "duration": 29,
    "start_time": "2021-12-23T15:11:59.622Z"
   },
   {
    "duration": 5,
    "start_time": "2021-12-23T15:12:03.174Z"
   },
   {
    "duration": 5,
    "start_time": "2021-12-23T15:12:11.341Z"
   },
   {
    "duration": 31,
    "start_time": "2021-12-23T15:13:50.174Z"
   },
   {
    "duration": 5,
    "start_time": "2021-12-23T15:13:53.808Z"
   },
   {
    "duration": 26,
    "start_time": "2021-12-23T15:14:38.661Z"
   },
   {
    "duration": 4,
    "start_time": "2021-12-23T15:14:42.148Z"
   },
   {
    "duration": 37,
    "start_time": "2021-12-23T15:15:56.805Z"
   },
   {
    "duration": 4,
    "start_time": "2021-12-23T15:17:55.204Z"
   },
   {
    "duration": 50,
    "start_time": "2021-12-23T15:19:01.131Z"
   },
   {
    "duration": 10,
    "start_time": "2021-12-23T15:19:01.183Z"
   },
   {
    "duration": 24,
    "start_time": "2021-12-23T15:19:01.195Z"
   },
   {
    "duration": 29,
    "start_time": "2021-12-23T15:19:01.221Z"
   },
   {
    "duration": 13,
    "start_time": "2021-12-23T15:19:01.252Z"
   },
   {
    "duration": 11,
    "start_time": "2021-12-23T15:19:01.267Z"
   },
   {
    "duration": 15,
    "start_time": "2021-12-23T15:19:01.280Z"
   },
   {
    "duration": 7,
    "start_time": "2021-12-23T15:19:01.297Z"
   },
   {
    "duration": 6,
    "start_time": "2021-12-23T15:19:01.305Z"
   },
   {
    "duration": 9,
    "start_time": "2021-12-23T15:19:01.313Z"
   },
   {
    "duration": 27,
    "start_time": "2021-12-23T15:19:01.324Z"
   },
   {
    "duration": 24,
    "start_time": "2021-12-23T15:19:01.353Z"
   },
   {
    "duration": 30,
    "start_time": "2021-12-23T15:19:01.379Z"
   },
   {
    "duration": 6,
    "start_time": "2021-12-23T15:19:04.419Z"
   },
   {
    "duration": 33,
    "start_time": "2021-12-23T15:21:04.115Z"
   },
   {
    "duration": 9,
    "start_time": "2021-12-23T15:21:05.778Z"
   },
   {
    "duration": 30,
    "start_time": "2021-12-23T15:21:19.921Z"
   },
   {
    "duration": 5,
    "start_time": "2021-12-23T15:21:21.114Z"
   },
   {
    "duration": 50,
    "start_time": "2021-12-23T15:22:05.525Z"
   },
   {
    "duration": 11,
    "start_time": "2021-12-23T15:22:05.577Z"
   },
   {
    "duration": 19,
    "start_time": "2021-12-23T15:22:05.590Z"
   },
   {
    "duration": 20,
    "start_time": "2021-12-23T15:22:05.611Z"
   },
   {
    "duration": 15,
    "start_time": "2021-12-23T15:22:05.632Z"
   },
   {
    "duration": 17,
    "start_time": "2021-12-23T15:22:05.649Z"
   },
   {
    "duration": 18,
    "start_time": "2021-12-23T15:22:05.667Z"
   },
   {
    "duration": 6,
    "start_time": "2021-12-23T15:22:05.687Z"
   },
   {
    "duration": 27,
    "start_time": "2021-12-23T15:22:05.695Z"
   },
   {
    "duration": 17,
    "start_time": "2021-12-23T15:22:05.724Z"
   },
   {
    "duration": 37,
    "start_time": "2021-12-23T15:22:05.743Z"
   },
   {
    "duration": 22,
    "start_time": "2021-12-23T15:22:05.782Z"
   },
   {
    "duration": 42,
    "start_time": "2021-12-23T15:22:05.806Z"
   },
   {
    "duration": 5,
    "start_time": "2021-12-23T15:22:05.849Z"
   },
   {
    "duration": 26,
    "start_time": "2021-12-23T15:22:05.855Z"
   },
   {
    "duration": 28,
    "start_time": "2021-12-23T15:22:05.883Z"
   },
   {
    "duration": 17,
    "start_time": "2021-12-23T15:22:05.912Z"
   },
   {
    "duration": 31,
    "start_time": "2021-12-23T15:22:05.930Z"
   },
   {
    "duration": 14,
    "start_time": "2021-12-23T15:22:05.962Z"
   },
   {
    "duration": 27,
    "start_time": "2021-12-23T15:22:05.977Z"
   },
   {
    "duration": 17,
    "start_time": "2021-12-23T15:22:06.006Z"
   },
   {
    "duration": 13,
    "start_time": "2021-12-23T15:22:06.025Z"
   },
   {
    "duration": 25,
    "start_time": "2021-12-23T15:22:06.041Z"
   },
   {
    "duration": 22,
    "start_time": "2021-12-23T15:22:06.068Z"
   },
   {
    "duration": 32,
    "start_time": "2021-12-23T15:22:06.092Z"
   },
   {
    "duration": 3,
    "start_time": "2021-12-23T15:22:06.126Z"
   },
   {
    "duration": 22,
    "start_time": "2021-12-23T15:22:06.131Z"
   },
   {
    "duration": 2271,
    "start_time": "2021-12-23T15:22:06.154Z"
   },
   {
    "duration": 4,
    "start_time": "2021-12-23T15:22:08.426Z"
   },
   {
    "duration": 13,
    "start_time": "2021-12-23T15:22:08.431Z"
   },
   {
    "duration": 4,
    "start_time": "2021-12-23T15:22:08.446Z"
   },
   {
    "duration": 4,
    "start_time": "2021-12-23T15:22:08.461Z"
   },
   {
    "duration": 7,
    "start_time": "2021-12-23T15:22:08.467Z"
   },
   {
    "duration": 18,
    "start_time": "2021-12-23T15:22:08.476Z"
   },
   {
    "duration": 3,
    "start_time": "2021-12-23T15:22:08.496Z"
   },
   {
    "duration": 11,
    "start_time": "2021-12-23T15:22:14.149Z"
   },
   {
    "duration": 12,
    "start_time": "2021-12-23T15:31:20.769Z"
   },
   {
    "duration": 4,
    "start_time": "2021-12-23T15:35:28.342Z"
   },
   {
    "duration": 4,
    "start_time": "2021-12-23T15:36:41.222Z"
   },
   {
    "duration": 4,
    "start_time": "2021-12-23T15:37:00.174Z"
   },
   {
    "duration": 4,
    "start_time": "2021-12-23T15:37:06.990Z"
   },
   {
    "duration": 4,
    "start_time": "2021-12-23T15:38:27.903Z"
   },
   {
    "duration": 11,
    "start_time": "2021-12-23T15:38:33.518Z"
   },
   {
    "duration": 12,
    "start_time": "2021-12-23T15:38:46.481Z"
   },
   {
    "duration": 50,
    "start_time": "2021-12-23T15:41:45.425Z"
   },
   {
    "duration": 9,
    "start_time": "2021-12-23T15:41:45.477Z"
   },
   {
    "duration": 12,
    "start_time": "2021-12-23T15:41:45.488Z"
   },
   {
    "duration": 13,
    "start_time": "2021-12-23T15:41:45.501Z"
   },
   {
    "duration": 7,
    "start_time": "2021-12-23T15:41:45.516Z"
   },
   {
    "duration": 40,
    "start_time": "2021-12-23T15:41:45.524Z"
   },
   {
    "duration": 12,
    "start_time": "2021-12-23T15:41:45.565Z"
   },
   {
    "duration": 7,
    "start_time": "2021-12-23T15:41:45.579Z"
   },
   {
    "duration": 5,
    "start_time": "2021-12-23T15:41:45.588Z"
   },
   {
    "duration": 10,
    "start_time": "2021-12-23T15:41:45.594Z"
   },
   {
    "duration": 16,
    "start_time": "2021-12-23T15:41:45.605Z"
   },
   {
    "duration": 55,
    "start_time": "2021-12-23T15:41:45.622Z"
   },
   {
    "duration": 27,
    "start_time": "2021-12-23T15:41:45.679Z"
   },
   {
    "duration": 4,
    "start_time": "2021-12-23T15:41:45.708Z"
   },
   {
    "duration": 13,
    "start_time": "2021-12-23T15:41:45.713Z"
   },
   {
    "duration": 34,
    "start_time": "2021-12-23T15:41:45.728Z"
   },
   {
    "duration": 4,
    "start_time": "2021-12-23T15:41:45.763Z"
   },
   {
    "duration": 6,
    "start_time": "2021-12-23T15:41:45.769Z"
   },
   {
    "duration": 8,
    "start_time": "2021-12-23T15:41:45.776Z"
   },
   {
    "duration": 16,
    "start_time": "2021-12-23T15:41:45.786Z"
   },
   {
    "duration": 6,
    "start_time": "2021-12-23T15:41:45.804Z"
   },
   {
    "duration": 6,
    "start_time": "2021-12-23T15:41:45.811Z"
   },
   {
    "duration": 42,
    "start_time": "2021-12-23T15:41:45.821Z"
   },
   {
    "duration": 7,
    "start_time": "2021-12-23T15:41:45.865Z"
   },
   {
    "duration": 33,
    "start_time": "2021-12-23T15:41:45.873Z"
   },
   {
    "duration": 4,
    "start_time": "2021-12-23T15:41:45.907Z"
   },
   {
    "duration": 14,
    "start_time": "2021-12-23T15:41:45.912Z"
   },
   {
    "duration": 2403,
    "start_time": "2021-12-23T15:41:45.928Z"
   },
   {
    "duration": 5,
    "start_time": "2021-12-23T15:41:48.332Z"
   },
   {
    "duration": 8,
    "start_time": "2021-12-23T15:41:48.338Z"
   },
   {
    "duration": 20,
    "start_time": "2021-12-23T15:41:48.347Z"
   },
   {
    "duration": 10,
    "start_time": "2021-12-23T15:41:48.369Z"
   },
   {
    "duration": 6,
    "start_time": "2021-12-23T15:41:48.381Z"
   },
   {
    "duration": 6,
    "start_time": "2021-12-23T15:41:48.389Z"
   },
   {
    "duration": 6,
    "start_time": "2021-12-23T15:41:48.397Z"
   },
   {
    "duration": 15,
    "start_time": "2021-12-23T15:41:48.404Z"
   },
   {
    "duration": 7,
    "start_time": "2021-12-23T15:41:48.421Z"
   },
   {
    "duration": 33,
    "start_time": "2021-12-23T15:41:48.429Z"
   },
   {
    "duration": 9,
    "start_time": "2021-12-23T15:41:48.463Z"
   },
   {
    "duration": 9,
    "start_time": "2021-12-23T15:41:48.473Z"
   },
   {
    "duration": 11,
    "start_time": "2021-12-23T15:41:48.483Z"
   },
   {
    "duration": 20,
    "start_time": "2021-12-23T15:41:48.496Z"
   },
   {
    "duration": 19,
    "start_time": "2021-12-23T15:41:48.517Z"
   },
   {
    "duration": 37,
    "start_time": "2021-12-23T15:41:48.538Z"
   },
   {
    "duration": 7,
    "start_time": "2021-12-23T15:41:48.576Z"
   },
   {
    "duration": 3852,
    "start_time": "2021-12-23T15:41:48.585Z"
   },
   {
    "duration": 38,
    "start_time": "2021-12-23T15:41:52.439Z"
   },
   {
    "duration": 13,
    "start_time": "2021-12-23T15:41:52.479Z"
   },
   {
    "duration": 15,
    "start_time": "2021-12-23T15:41:52.493Z"
   },
   {
    "duration": 13,
    "start_time": "2021-12-23T15:41:52.509Z"
   },
   {
    "duration": 7,
    "start_time": "2021-12-23T15:41:52.523Z"
   },
   {
    "duration": 4,
    "start_time": "2021-12-23T15:41:52.561Z"
   },
   {
    "duration": 9,
    "start_time": "2021-12-23T15:41:52.566Z"
   },
   {
    "duration": 7,
    "start_time": "2021-12-23T15:41:52.577Z"
   },
   {
    "duration": 23,
    "start_time": "2021-12-23T15:41:52.585Z"
   },
   {
    "duration": 3,
    "start_time": "2021-12-23T15:41:52.610Z"
   },
   {
    "duration": 2850,
    "start_time": "2021-12-23T15:41:52.615Z"
   },
   {
    "duration": 12,
    "start_time": "2021-12-23T15:41:55.466Z"
   },
   {
    "duration": 7,
    "start_time": "2021-12-23T15:41:55.479Z"
   },
   {
    "duration": 9,
    "start_time": "2021-12-23T15:41:55.487Z"
   },
   {
    "duration": 20,
    "start_time": "2021-12-23T15:41:55.498Z"
   },
   {
    "duration": 2,
    "start_time": "2021-12-23T15:41:55.520Z"
   },
   {
    "duration": 57,
    "start_time": "2021-12-23T15:41:55.524Z"
   },
   {
    "duration": 40,
    "start_time": "2021-12-23T15:42:28.405Z"
   },
   {
    "duration": 38,
    "start_time": "2021-12-23T15:43:16.391Z"
   },
   {
    "duration": 52,
    "start_time": "2021-12-23T15:43:53.171Z"
   },
   {
    "duration": 12,
    "start_time": "2021-12-23T15:43:53.225Z"
   },
   {
    "duration": 22,
    "start_time": "2021-12-23T15:43:53.240Z"
   },
   {
    "duration": 10,
    "start_time": "2021-12-23T15:43:53.265Z"
   },
   {
    "duration": 20,
    "start_time": "2021-12-23T15:43:53.277Z"
   },
   {
    "duration": 13,
    "start_time": "2021-12-23T15:43:53.298Z"
   },
   {
    "duration": 18,
    "start_time": "2021-12-23T15:43:53.313Z"
   },
   {
    "duration": 27,
    "start_time": "2021-12-23T15:43:53.333Z"
   },
   {
    "duration": 5,
    "start_time": "2021-12-23T15:43:53.362Z"
   },
   {
    "duration": 27,
    "start_time": "2021-12-23T15:43:53.369Z"
   },
   {
    "duration": 20,
    "start_time": "2021-12-23T15:43:53.398Z"
   },
   {
    "duration": 22,
    "start_time": "2021-12-23T15:43:53.420Z"
   },
   {
    "duration": 36,
    "start_time": "2021-12-23T15:43:53.444Z"
   },
   {
    "duration": 4,
    "start_time": "2021-12-23T15:43:53.481Z"
   },
   {
    "duration": 19,
    "start_time": "2021-12-23T15:43:53.487Z"
   },
   {
    "duration": 18,
    "start_time": "2021-12-23T15:43:53.507Z"
   },
   {
    "duration": 7,
    "start_time": "2021-12-23T15:43:53.526Z"
   },
   {
    "duration": 19,
    "start_time": "2021-12-23T15:43:53.535Z"
   },
   {
    "duration": 13,
    "start_time": "2021-12-23T15:43:53.556Z"
   },
   {
    "duration": 24,
    "start_time": "2021-12-23T15:43:53.570Z"
   },
   {
    "duration": 16,
    "start_time": "2021-12-23T15:43:53.595Z"
   },
   {
    "duration": 10,
    "start_time": "2021-12-23T15:43:53.612Z"
   },
   {
    "duration": 16,
    "start_time": "2021-12-23T15:43:53.626Z"
   },
   {
    "duration": 7,
    "start_time": "2021-12-23T15:43:53.645Z"
   },
   {
    "duration": 43,
    "start_time": "2021-12-23T15:43:53.654Z"
   },
   {
    "duration": 3,
    "start_time": "2021-12-23T15:43:53.699Z"
   },
   {
    "duration": 24,
    "start_time": "2021-12-23T15:43:53.703Z"
   },
   {
    "duration": 2304,
    "start_time": "2021-12-23T15:43:53.728Z"
   },
   {
    "duration": 4,
    "start_time": "2021-12-23T15:43:56.034Z"
   },
   {
    "duration": 21,
    "start_time": "2021-12-23T15:43:56.040Z"
   },
   {
    "duration": 4,
    "start_time": "2021-12-23T15:43:56.063Z"
   },
   {
    "duration": 7,
    "start_time": "2021-12-23T15:43:56.068Z"
   },
   {
    "duration": 5,
    "start_time": "2021-12-23T15:43:56.077Z"
   },
   {
    "duration": 5,
    "start_time": "2021-12-23T15:43:56.083Z"
   },
   {
    "duration": 5,
    "start_time": "2021-12-23T15:43:56.089Z"
   },
   {
    "duration": 14,
    "start_time": "2021-12-23T15:43:56.095Z"
   },
   {
    "duration": 6,
    "start_time": "2021-12-23T15:43:56.110Z"
   },
   {
    "duration": 11,
    "start_time": "2021-12-23T15:43:56.118Z"
   },
   {
    "duration": 38,
    "start_time": "2021-12-23T15:43:56.130Z"
   },
   {
    "duration": 12,
    "start_time": "2021-12-23T15:43:56.170Z"
   },
   {
    "duration": 10,
    "start_time": "2021-12-23T15:43:56.184Z"
   },
   {
    "duration": 20,
    "start_time": "2021-12-23T15:43:56.196Z"
   },
   {
    "duration": 19,
    "start_time": "2021-12-23T15:43:56.217Z"
   },
   {
    "duration": 32,
    "start_time": "2021-12-23T15:43:56.237Z"
   },
   {
    "duration": 27,
    "start_time": "2021-12-23T15:43:56.271Z"
   },
   {
    "duration": 3926,
    "start_time": "2021-12-23T15:43:56.300Z"
   },
   {
    "duration": 34,
    "start_time": "2021-12-23T15:44:00.228Z"
   },
   {
    "duration": 15,
    "start_time": "2021-12-23T15:44:00.264Z"
   },
   {
    "duration": 17,
    "start_time": "2021-12-23T15:44:00.281Z"
   },
   {
    "duration": 14,
    "start_time": "2021-12-23T15:44:00.300Z"
   },
   {
    "duration": 8,
    "start_time": "2021-12-23T15:44:00.316Z"
   },
   {
    "duration": 36,
    "start_time": "2021-12-23T15:44:00.326Z"
   },
   {
    "duration": 17,
    "start_time": "2021-12-23T15:44:00.364Z"
   },
   {
    "duration": 14,
    "start_time": "2021-12-23T15:44:00.383Z"
   },
   {
    "duration": 26,
    "start_time": "2021-12-23T15:44:00.399Z"
   },
   {
    "duration": 4,
    "start_time": "2021-12-23T15:44:00.428Z"
   },
   {
    "duration": 3084,
    "start_time": "2021-12-23T15:44:00.434Z"
   },
   {
    "duration": 13,
    "start_time": "2021-12-23T15:44:03.520Z"
   },
   {
    "duration": 6,
    "start_time": "2021-12-23T15:44:03.535Z"
   },
   {
    "duration": 2,
    "start_time": "2021-12-23T15:44:03.560Z"
   },
   {
    "duration": 21,
    "start_time": "2021-12-23T15:44:03.564Z"
   },
   {
    "duration": 3,
    "start_time": "2021-12-23T15:44:03.586Z"
   },
   {
    "duration": 40,
    "start_time": "2021-12-23T15:44:03.590Z"
   },
   {
    "duration": 59,
    "start_time": "2021-12-23T15:44:03.631Z"
   },
   {
    "duration": 22,
    "start_time": "2021-12-23T15:44:03.692Z"
   },
   {
    "duration": 759,
    "start_time": "2021-12-23T15:44:03.716Z"
   },
   {
    "duration": 27,
    "start_time": "2021-12-23T15:44:04.476Z"
   },
   {
    "duration": 5,
    "start_time": "2021-12-23T15:49:10.126Z"
   },
   {
    "duration": 3384,
    "start_time": "2021-12-23T15:50:15.180Z"
   },
   {
    "duration": 39,
    "start_time": "2021-12-23T15:51:01.074Z"
   },
   {
    "duration": 17,
    "start_time": "2021-12-23T15:53:51.732Z"
   },
   {
    "duration": 28,
    "start_time": "2021-12-23T16:07:22.324Z"
   },
   {
    "duration": 6228,
    "start_time": "2021-12-23T16:12:48.928Z"
   },
   {
    "duration": 59,
    "start_time": "2021-12-23T16:14:52.948Z"
   },
   {
    "duration": 31,
    "start_time": "2021-12-23T16:14:53.009Z"
   },
   {
    "duration": 31,
    "start_time": "2021-12-23T16:14:53.043Z"
   },
   {
    "duration": 17,
    "start_time": "2021-12-23T16:14:53.077Z"
   },
   {
    "duration": 12,
    "start_time": "2021-12-23T16:14:53.096Z"
   },
   {
    "duration": 8,
    "start_time": "2021-12-23T16:14:53.109Z"
   },
   {
    "duration": 43,
    "start_time": "2021-12-23T16:14:53.119Z"
   },
   {
    "duration": 14,
    "start_time": "2021-12-23T16:14:53.165Z"
   },
   {
    "duration": 19,
    "start_time": "2021-12-23T16:14:53.181Z"
   },
   {
    "duration": 6,
    "start_time": "2021-12-23T16:14:53.202Z"
   },
   {
    "duration": 7,
    "start_time": "2021-12-23T16:14:53.210Z"
   },
   {
    "duration": 43,
    "start_time": "2021-12-23T16:14:53.218Z"
   },
   {
    "duration": 18,
    "start_time": "2021-12-23T16:14:53.263Z"
   },
   {
    "duration": 25,
    "start_time": "2021-12-23T16:14:53.283Z"
   },
   {
    "duration": 4,
    "start_time": "2021-12-23T16:14:53.310Z"
   },
   {
    "duration": 12,
    "start_time": "2021-12-23T16:14:53.316Z"
   },
   {
    "duration": 35,
    "start_time": "2021-12-23T16:14:53.329Z"
   },
   {
    "duration": 6,
    "start_time": "2021-12-23T16:14:53.366Z"
   },
   {
    "duration": 11,
    "start_time": "2021-12-23T16:14:53.374Z"
   },
   {
    "duration": 8,
    "start_time": "2021-12-23T16:14:53.387Z"
   },
   {
    "duration": 23,
    "start_time": "2021-12-23T16:14:53.396Z"
   },
   {
    "duration": 6,
    "start_time": "2021-12-23T16:14:53.421Z"
   },
   {
    "duration": 11,
    "start_time": "2021-12-23T16:14:53.431Z"
   },
   {
    "duration": 16,
    "start_time": "2021-12-23T16:14:53.444Z"
   },
   {
    "duration": 11,
    "start_time": "2021-12-23T16:14:53.462Z"
   },
   {
    "duration": 37,
    "start_time": "2021-12-23T16:14:53.474Z"
   },
   {
    "duration": 3,
    "start_time": "2021-12-23T16:14:53.513Z"
   },
   {
    "duration": 9,
    "start_time": "2021-12-23T16:14:53.518Z"
   },
   {
    "duration": 2406,
    "start_time": "2021-12-23T16:14:53.529Z"
   },
   {
    "duration": 5,
    "start_time": "2021-12-23T16:14:55.937Z"
   },
   {
    "duration": 18,
    "start_time": "2021-12-23T16:14:55.943Z"
   },
   {
    "duration": 3,
    "start_time": "2021-12-23T16:14:55.963Z"
   },
   {
    "duration": 17,
    "start_time": "2021-12-23T16:14:55.967Z"
   },
   {
    "duration": 3,
    "start_time": "2021-12-23T16:14:55.986Z"
   },
   {
    "duration": 4,
    "start_time": "2021-12-23T16:14:55.991Z"
   },
   {
    "duration": 5,
    "start_time": "2021-12-23T16:14:55.997Z"
   },
   {
    "duration": 13,
    "start_time": "2021-12-23T16:14:56.004Z"
   },
   {
    "duration": 7,
    "start_time": "2021-12-23T16:14:56.019Z"
   },
   {
    "duration": 38,
    "start_time": "2021-12-23T16:14:56.028Z"
   },
   {
    "duration": 11,
    "start_time": "2021-12-23T16:14:56.067Z"
   },
   {
    "duration": 9,
    "start_time": "2021-12-23T16:14:56.079Z"
   },
   {
    "duration": 8,
    "start_time": "2021-12-23T16:14:56.090Z"
   },
   {
    "duration": 19,
    "start_time": "2021-12-23T16:14:56.099Z"
   },
   {
    "duration": 19,
    "start_time": "2021-12-23T16:14:56.119Z"
   },
   {
    "duration": 34,
    "start_time": "2021-12-23T16:14:56.139Z"
   },
   {
    "duration": 4232,
    "start_time": "2021-12-23T16:14:56.175Z"
   },
   {
    "duration": 21,
    "start_time": "2021-12-23T16:15:00.410Z"
   },
   {
    "duration": 37,
    "start_time": "2021-12-23T16:15:00.433Z"
   },
   {
    "duration": 20,
    "start_time": "2021-12-23T16:15:00.472Z"
   },
   {
    "duration": 22,
    "start_time": "2021-12-23T16:15:00.494Z"
   },
   {
    "duration": 10,
    "start_time": "2021-12-23T16:15:00.518Z"
   },
   {
    "duration": 13,
    "start_time": "2021-12-23T16:15:00.530Z"
   },
   {
    "duration": 17,
    "start_time": "2021-12-23T16:15:00.545Z"
   },
   {
    "duration": 16,
    "start_time": "2021-12-23T16:15:00.564Z"
   },
   {
    "duration": 33,
    "start_time": "2021-12-23T16:15:00.582Z"
   },
   {
    "duration": 6,
    "start_time": "2021-12-23T16:15:00.617Z"
   },
   {
    "duration": 2963,
    "start_time": "2021-12-23T16:15:00.624Z"
   },
   {
    "duration": 12,
    "start_time": "2021-12-23T16:15:03.589Z"
   },
   {
    "duration": 7,
    "start_time": "2021-12-23T16:15:03.603Z"
   },
   {
    "duration": 7,
    "start_time": "2021-12-23T16:15:03.612Z"
   },
   {
    "duration": 33,
    "start_time": "2021-12-23T16:15:03.621Z"
   },
   {
    "duration": 3,
    "start_time": "2021-12-23T16:15:03.661Z"
   },
   {
    "duration": 38,
    "start_time": "2021-12-23T16:15:34.568Z"
   },
   {
    "duration": 3,
    "start_time": "2021-12-23T16:18:28.068Z"
   },
   {
    "duration": 41,
    "start_time": "2021-12-23T16:19:09.923Z"
   },
   {
    "duration": 31,
    "start_time": "2021-12-23T16:22:58.526Z"
   },
   {
    "duration": 28,
    "start_time": "2021-12-23T16:23:15.465Z"
   },
   {
    "duration": 32,
    "start_time": "2021-12-23T16:26:17.129Z"
   },
   {
    "duration": 259,
    "start_time": "2021-12-23T16:32:14.259Z"
   },
   {
    "duration": 170,
    "start_time": "2021-12-23T16:33:04.380Z"
   },
   {
    "duration": 29,
    "start_time": "2021-12-23T16:35:25.486Z"
   },
   {
    "duration": 142,
    "start_time": "2021-12-23T16:35:40.632Z"
   },
   {
    "duration": 74,
    "start_time": "2021-12-23T16:53:15.854Z"
   },
   {
    "duration": 53,
    "start_time": "2021-12-23T16:54:03.164Z"
   },
   {
    "duration": 10,
    "start_time": "2021-12-23T16:54:03.219Z"
   },
   {
    "duration": 15,
    "start_time": "2021-12-23T16:54:03.231Z"
   },
   {
    "duration": 16,
    "start_time": "2021-12-23T16:54:03.248Z"
   },
   {
    "duration": 9,
    "start_time": "2021-12-23T16:54:03.265Z"
   },
   {
    "duration": 12,
    "start_time": "2021-12-23T16:54:03.275Z"
   },
   {
    "duration": 12,
    "start_time": "2021-12-23T16:54:03.289Z"
   },
   {
    "duration": 7,
    "start_time": "2021-12-23T16:54:03.304Z"
   },
   {
    "duration": 7,
    "start_time": "2021-12-23T16:54:03.312Z"
   },
   {
    "duration": 8,
    "start_time": "2021-12-23T16:54:03.361Z"
   },
   {
    "duration": 18,
    "start_time": "2021-12-23T16:54:03.371Z"
   },
   {
    "duration": 19,
    "start_time": "2021-12-23T16:54:03.391Z"
   },
   {
    "duration": 61,
    "start_time": "2021-12-23T16:54:03.411Z"
   },
   {
    "duration": 4,
    "start_time": "2021-12-23T16:54:03.474Z"
   },
   {
    "duration": 8,
    "start_time": "2021-12-23T16:54:03.480Z"
   },
   {
    "duration": 5,
    "start_time": "2021-12-23T16:54:03.490Z"
   },
   {
    "duration": 4,
    "start_time": "2021-12-23T16:54:03.496Z"
   },
   {
    "duration": 11,
    "start_time": "2021-12-23T16:54:03.501Z"
   },
   {
    "duration": 10,
    "start_time": "2021-12-23T16:54:03.513Z"
   },
   {
    "duration": 43,
    "start_time": "2021-12-23T16:54:03.524Z"
   },
   {
    "duration": 7,
    "start_time": "2021-12-23T16:54:03.568Z"
   },
   {
    "duration": 6,
    "start_time": "2021-12-23T16:54:03.577Z"
   },
   {
    "duration": 8,
    "start_time": "2021-12-23T16:54:03.586Z"
   },
   {
    "duration": 7,
    "start_time": "2021-12-23T16:54:03.596Z"
   },
   {
    "duration": 58,
    "start_time": "2021-12-23T16:54:03.604Z"
   },
   {
    "duration": 4,
    "start_time": "2021-12-23T16:54:03.663Z"
   },
   {
    "duration": 9,
    "start_time": "2021-12-23T16:54:03.668Z"
   },
   {
    "duration": 2314,
    "start_time": "2021-12-23T16:54:03.679Z"
   },
   {
    "duration": 5,
    "start_time": "2021-12-23T16:54:05.994Z"
   },
   {
    "duration": 13,
    "start_time": "2021-12-23T16:54:06.000Z"
   },
   {
    "duration": 6,
    "start_time": "2021-12-23T16:54:06.014Z"
   },
   {
    "duration": 8,
    "start_time": "2021-12-23T16:54:06.021Z"
   },
   {
    "duration": 4,
    "start_time": "2021-12-23T16:54:06.031Z"
   },
   {
    "duration": 24,
    "start_time": "2021-12-23T16:54:06.037Z"
   },
   {
    "duration": 4,
    "start_time": "2021-12-23T16:54:06.063Z"
   },
   {
    "duration": 14,
    "start_time": "2021-12-23T16:54:06.069Z"
   },
   {
    "duration": 7,
    "start_time": "2021-12-23T16:54:06.084Z"
   },
   {
    "duration": 12,
    "start_time": "2021-12-23T16:54:06.092Z"
   },
   {
    "duration": 10,
    "start_time": "2021-12-23T16:54:06.105Z"
   },
   {
    "duration": 9,
    "start_time": "2021-12-23T16:54:06.116Z"
   },
   {
    "duration": 41,
    "start_time": "2021-12-23T16:54:06.126Z"
   },
   {
    "duration": 22,
    "start_time": "2021-12-23T16:54:06.169Z"
   },
   {
    "duration": 19,
    "start_time": "2021-12-23T16:54:06.192Z"
   },
   {
    "duration": 16,
    "start_time": "2021-12-23T16:54:06.212Z"
   },
   {
    "duration": 4056,
    "start_time": "2021-12-23T16:54:06.229Z"
   },
   {
    "duration": 22,
    "start_time": "2021-12-23T16:54:10.287Z"
   },
   {
    "duration": 17,
    "start_time": "2021-12-23T16:54:10.311Z"
   },
   {
    "duration": 32,
    "start_time": "2021-12-23T16:54:10.330Z"
   },
   {
    "duration": 11,
    "start_time": "2021-12-23T16:54:10.364Z"
   },
   {
    "duration": 7,
    "start_time": "2021-12-23T16:54:10.377Z"
   },
   {
    "duration": 4,
    "start_time": "2021-12-23T16:54:10.386Z"
   },
   {
    "duration": 6,
    "start_time": "2021-12-23T16:54:10.392Z"
   },
   {
    "duration": 5,
    "start_time": "2021-12-23T16:54:10.400Z"
   },
   {
    "duration": 55,
    "start_time": "2021-12-23T16:54:10.406Z"
   },
   {
    "duration": 5,
    "start_time": "2021-12-23T16:54:10.463Z"
   },
   {
    "duration": 2675,
    "start_time": "2021-12-23T16:54:10.470Z"
   },
   {
    "duration": 24,
    "start_time": "2021-12-23T16:54:13.147Z"
   },
   {
    "duration": 6,
    "start_time": "2021-12-23T16:54:13.173Z"
   },
   {
    "duration": 4,
    "start_time": "2021-12-23T16:54:13.181Z"
   },
   {
    "duration": 20,
    "start_time": "2021-12-23T16:54:13.187Z"
   },
   {
    "duration": 2,
    "start_time": "2021-12-23T16:54:13.211Z"
   },
   {
    "duration": 71,
    "start_time": "2021-12-23T16:54:13.215Z"
   },
   {
    "duration": 29,
    "start_time": "2021-12-23T16:54:13.287Z"
   },
   {
    "duration": 44,
    "start_time": "2021-12-23T16:54:13.317Z"
   },
   {
    "duration": 152,
    "start_time": "2021-12-23T16:54:13.363Z"
   },
   {
    "duration": 29,
    "start_time": "2021-12-23T16:54:13.517Z"
   }
  ],
  "kernelspec": {
   "display_name": "Python 3 (ipykernel)",
   "language": "python",
   "name": "python3"
  },
  "language_info": {
   "codemirror_mode": {
    "name": "ipython",
    "version": 3
   },
   "file_extension": ".py",
   "mimetype": "text/x-python",
   "name": "python",
   "nbconvert_exporter": "python",
   "pygments_lexer": "ipython3",
   "version": "3.9.7"
  },
  "toc": {
   "base_numbering": 1,
   "nav_menu": {},
   "number_sections": true,
   "sideBar": true,
   "skip_h1_title": true,
   "title_cell": "Table of Contents",
   "title_sidebar": "Contents",
   "toc_cell": false,
   "toc_position": {},
   "toc_section_display": true,
   "toc_window_display": true
  }
 },
 "nbformat": 4,
 "nbformat_minor": 2
}
