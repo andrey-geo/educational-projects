{
 "cells": [
  {
   "cell_type": "markdown",
   "metadata": {},
   "source": [
    "# Выбор гипотез и анализ A/B-теста.\n",
    "**Описание проекта**   \n",
    "С целью увеличения выручки крупного интернет-магазина совместно с отделом маркетинга подготовлен список гипотез. Необходимо выбрать гипотезу, проанализировать результаты эксперимента. \n",
    "____\n",
    " **Исходные данные:**  \n",
    " - список с кратким описанием гипотез с различными параметрами;\n",
    " - файл с результатами A/B-теста.  \n",
    "___\n",
    " **Цель проекта:**  \n",
    " - Приоритизировать в зависимости от параметров гипотезы из списка;\n",
    " - Проанализировать и сделать вывод по результатам A/B-теста."
   ]
  },
  {
   "cell_type": "code",
   "execution_count": 1,
   "metadata": {},
   "outputs": [],
   "source": [
    "import pandas as pd\n",
    "import numpy as np\n",
    "from datetime import datetime, timedelta\n",
    "import seaborn as sns\n",
    "from matplotlib import pyplot as plt\n",
    "import scipy.stats as stats\n",
    "\n",
    "import warnings\n",
    "warnings.filterwarnings(\"ignore\")\n",
    "pd.set_option('display.max_colwidth', None)\n",
    "pd.set_option('display.float_format', '{:.2f}'.format)"
   ]
  },
  {
   "cell_type": "markdown",
   "metadata": {},
   "source": [
    "# Приоритизация гипотез"
   ]
  },
  {
   "cell_type": "code",
   "execution_count": 2,
   "metadata": {},
   "outputs": [],
   "source": [
    "data = pd.read_csv('/datasets/hypothesis.csv')"
   ]
  },
  {
   "cell_type": "code",
   "execution_count": 3,
   "metadata": {},
   "outputs": [
    {
     "data": {
      "text/html": [
       "<div>\n",
       "<style scoped>\n",
       "    .dataframe tbody tr th:only-of-type {\n",
       "        vertical-align: middle;\n",
       "    }\n",
       "\n",
       "    .dataframe tbody tr th {\n",
       "        vertical-align: top;\n",
       "    }\n",
       "\n",
       "    .dataframe thead th {\n",
       "        text-align: right;\n",
       "    }\n",
       "</style>\n",
       "<table border=\"1\" class=\"dataframe\">\n",
       "  <thead>\n",
       "    <tr style=\"text-align: right;\">\n",
       "      <th></th>\n",
       "      <th>Hypothesis</th>\n",
       "      <th>Reach</th>\n",
       "      <th>Impact</th>\n",
       "      <th>Confidence</th>\n",
       "      <th>Efforts</th>\n",
       "    </tr>\n",
       "  </thead>\n",
       "  <tbody>\n",
       "    <tr>\n",
       "      <th>0</th>\n",
       "      <td>Добавить два новых канала привлечения трафика, что позволит привлекать на 30% больше пользователей</td>\n",
       "      <td>3</td>\n",
       "      <td>10</td>\n",
       "      <td>8</td>\n",
       "      <td>6</td>\n",
       "    </tr>\n",
       "    <tr>\n",
       "      <th>1</th>\n",
       "      <td>Запустить собственную службу доставки, что сократит срок доставки заказов</td>\n",
       "      <td>2</td>\n",
       "      <td>5</td>\n",
       "      <td>4</td>\n",
       "      <td>10</td>\n",
       "    </tr>\n",
       "    <tr>\n",
       "      <th>2</th>\n",
       "      <td>Добавить блоки рекомендаций товаров на сайт интернет магазина, чтобы повысить конверсию и средний чек заказа</td>\n",
       "      <td>8</td>\n",
       "      <td>3</td>\n",
       "      <td>7</td>\n",
       "      <td>3</td>\n",
       "    </tr>\n",
       "    <tr>\n",
       "      <th>3</th>\n",
       "      <td>Изменить структура категорий, что увеличит конверсию, т.к. пользователи быстрее найдут нужный товар</td>\n",
       "      <td>8</td>\n",
       "      <td>3</td>\n",
       "      <td>3</td>\n",
       "      <td>8</td>\n",
       "    </tr>\n",
       "    <tr>\n",
       "      <th>4</th>\n",
       "      <td>Изменить цвет фона главной страницы, чтобы увеличить вовлеченность пользователей</td>\n",
       "      <td>3</td>\n",
       "      <td>1</td>\n",
       "      <td>1</td>\n",
       "      <td>1</td>\n",
       "    </tr>\n",
       "  </tbody>\n",
       "</table>\n",
       "</div>"
      ],
      "text/plain": [
       "                                                                                                     Hypothesis  \\\n",
       "0            Добавить два новых канала привлечения трафика, что позволит привлекать на 30% больше пользователей   \n",
       "1                                     Запустить собственную службу доставки, что сократит срок доставки заказов   \n",
       "2  Добавить блоки рекомендаций товаров на сайт интернет магазина, чтобы повысить конверсию и средний чек заказа   \n",
       "3           Изменить структура категорий, что увеличит конверсию, т.к. пользователи быстрее найдут нужный товар   \n",
       "4                              Изменить цвет фона главной страницы, чтобы увеличить вовлеченность пользователей   \n",
       "\n",
       "   Reach  Impact  Confidence  Efforts  \n",
       "0      3      10           8        6  \n",
       "1      2       5           4       10  \n",
       "2      8       3           7        3  \n",
       "3      8       3           3        8  \n",
       "4      3       1           1        1  "
      ]
     },
     "execution_count": 3,
     "metadata": {},
     "output_type": "execute_result"
    }
   ],
   "source": [
    "data.head()"
   ]
  },
  {
   "cell_type": "markdown",
   "metadata": {},
   "source": [
    "**Описание данных:**  \n",
    "Файл `hypothesis`:\n",
    "- Hypothesis — краткое описание гипотезы;\n",
    "- Reach — охват пользователей по 10-балльной шкале;\n",
    "- Impact — влияние на пользователей по 10-балльной шкале;\n",
    "- Confidence — уверенность в гипотезе по 10-балльной шкале;\n",
    "- Efforts — затраты ресурсов на проверку гипотезы по 10-балльной шкале. Чем больше значение Efforts, тем дороже проверка гипотезы."
   ]
  },
  {
   "cell_type": "code",
   "execution_count": 4,
   "metadata": {},
   "outputs": [],
   "source": [
    "data.columns = data.columns.str.lower() #заменим заглавные буквы на прописные в названии столбцов"
   ]
  },
  {
   "cell_type": "markdown",
   "metadata": {},
   "source": [
    "## Применим фреймворк `ICE` для приоритизации гипотез. Отсортируем их по убыванию приоритета."
   ]
  },
  {
   "cell_type": "code",
   "execution_count": 5,
   "metadata": {},
   "outputs": [],
   "source": [
    "data['ICE'] = (data['confidence'] * data['impact']) / data['efforts']"
   ]
  },
  {
   "cell_type": "code",
   "execution_count": 6,
   "metadata": {},
   "outputs": [
    {
     "data": {
      "text/html": [
       "<div>\n",
       "<style scoped>\n",
       "    .dataframe tbody tr th:only-of-type {\n",
       "        vertical-align: middle;\n",
       "    }\n",
       "\n",
       "    .dataframe tbody tr th {\n",
       "        vertical-align: top;\n",
       "    }\n",
       "\n",
       "    .dataframe thead th {\n",
       "        text-align: right;\n",
       "    }\n",
       "</style>\n",
       "<table border=\"1\" class=\"dataframe\">\n",
       "  <thead>\n",
       "    <tr style=\"text-align: right;\">\n",
       "      <th></th>\n",
       "      <th>hypothesis</th>\n",
       "      <th>ICE</th>\n",
       "    </tr>\n",
       "  </thead>\n",
       "  <tbody>\n",
       "    <tr>\n",
       "      <th>8</th>\n",
       "      <td>Запустить акцию, дающую скидку на товар в день рождения</td>\n",
       "      <td>16.20</td>\n",
       "    </tr>\n",
       "    <tr>\n",
       "      <th>0</th>\n",
       "      <td>Добавить два новых канала привлечения трафика, что позволит привлекать на 30% больше пользователей</td>\n",
       "      <td>13.33</td>\n",
       "    </tr>\n",
       "    <tr>\n",
       "      <th>7</th>\n",
       "      <td>Добавить форму подписки на все основные страницы, чтобы собрать базу клиентов для email-рассылок</td>\n",
       "      <td>11.20</td>\n",
       "    </tr>\n",
       "    <tr>\n",
       "      <th>6</th>\n",
       "      <td>Показать на главной странице баннеры с актуальными акциями и распродажами, чтобы увеличить конверсию</td>\n",
       "      <td>8.00</td>\n",
       "    </tr>\n",
       "    <tr>\n",
       "      <th>2</th>\n",
       "      <td>Добавить блоки рекомендаций товаров на сайт интернет магазина, чтобы повысить конверсию и средний чек заказа</td>\n",
       "      <td>7.00</td>\n",
       "    </tr>\n",
       "    <tr>\n",
       "      <th>1</th>\n",
       "      <td>Запустить собственную службу доставки, что сократит срок доставки заказов</td>\n",
       "      <td>2.00</td>\n",
       "    </tr>\n",
       "    <tr>\n",
       "      <th>5</th>\n",
       "      <td>Добавить страницу отзывов клиентов о магазине, что позволит увеличить количество заказов</td>\n",
       "      <td>1.33</td>\n",
       "    </tr>\n",
       "    <tr>\n",
       "      <th>3</th>\n",
       "      <td>Изменить структура категорий, что увеличит конверсию, т.к. пользователи быстрее найдут нужный товар</td>\n",
       "      <td>1.12</td>\n",
       "    </tr>\n",
       "    <tr>\n",
       "      <th>4</th>\n",
       "      <td>Изменить цвет фона главной страницы, чтобы увеличить вовлеченность пользователей</td>\n",
       "      <td>1.00</td>\n",
       "    </tr>\n",
       "  </tbody>\n",
       "</table>\n",
       "</div>"
      ],
      "text/plain": [
       "                                                                                                     hypothesis  \\\n",
       "8                                                       Запустить акцию, дающую скидку на товар в день рождения   \n",
       "0            Добавить два новых канала привлечения трафика, что позволит привлекать на 30% больше пользователей   \n",
       "7              Добавить форму подписки на все основные страницы, чтобы собрать базу клиентов для email-рассылок   \n",
       "6          Показать на главной странице баннеры с актуальными акциями и распродажами, чтобы увеличить конверсию   \n",
       "2  Добавить блоки рекомендаций товаров на сайт интернет магазина, чтобы повысить конверсию и средний чек заказа   \n",
       "1                                     Запустить собственную службу доставки, что сократит срок доставки заказов   \n",
       "5                      Добавить страницу отзывов клиентов о магазине, что позволит увеличить количество заказов   \n",
       "3           Изменить структура категорий, что увеличит конверсию, т.к. пользователи быстрее найдут нужный товар   \n",
       "4                              Изменить цвет фона главной страницы, чтобы увеличить вовлеченность пользователей   \n",
       "\n",
       "    ICE  \n",
       "8 16.20  \n",
       "0 13.33  \n",
       "7 11.20  \n",
       "6  8.00  \n",
       "2  7.00  \n",
       "1  2.00  \n",
       "5  1.33  \n",
       "3  1.12  \n",
       "4  1.00  "
      ]
     },
     "execution_count": 6,
     "metadata": {},
     "output_type": "execute_result"
    }
   ],
   "source": [
    "data[['hypothesis', 'ICE']].sort_values(by='ICE', ascending=False)  #.style.format({'ICE': '{:.1f}'})"
   ]
  },
  {
   "cell_type": "markdown",
   "metadata": {},
   "source": [
    "## Применим фреймворк `RICE` для приоритизации гипотез. Отсортируем их по убыванию приоритета."
   ]
  },
  {
   "cell_type": "code",
   "execution_count": 7,
   "metadata": {},
   "outputs": [
    {
     "data": {
      "text/html": [
       "<div>\n",
       "<style scoped>\n",
       "    .dataframe tbody tr th:only-of-type {\n",
       "        vertical-align: middle;\n",
       "    }\n",
       "\n",
       "    .dataframe tbody tr th {\n",
       "        vertical-align: top;\n",
       "    }\n",
       "\n",
       "    .dataframe thead th {\n",
       "        text-align: right;\n",
       "    }\n",
       "</style>\n",
       "<table border=\"1\" class=\"dataframe\">\n",
       "  <thead>\n",
       "    <tr style=\"text-align: right;\">\n",
       "      <th></th>\n",
       "      <th>hypothesis</th>\n",
       "      <th>RICE</th>\n",
       "    </tr>\n",
       "  </thead>\n",
       "  <tbody>\n",
       "    <tr>\n",
       "      <th>7</th>\n",
       "      <td>Добавить форму подписки на все основные страницы, чтобы собрать базу клиентов для email-рассылок</td>\n",
       "      <td>112.00</td>\n",
       "    </tr>\n",
       "    <tr>\n",
       "      <th>2</th>\n",
       "      <td>Добавить блоки рекомендаций товаров на сайт интернет магазина, чтобы повысить конверсию и средний чек заказа</td>\n",
       "      <td>56.00</td>\n",
       "    </tr>\n",
       "    <tr>\n",
       "      <th>0</th>\n",
       "      <td>Добавить два новых канала привлечения трафика, что позволит привлекать на 30% больше пользователей</td>\n",
       "      <td>40.00</td>\n",
       "    </tr>\n",
       "    <tr>\n",
       "      <th>6</th>\n",
       "      <td>Показать на главной странице баннеры с актуальными акциями и распродажами, чтобы увеличить конверсию</td>\n",
       "      <td>40.00</td>\n",
       "    </tr>\n",
       "    <tr>\n",
       "      <th>8</th>\n",
       "      <td>Запустить акцию, дающую скидку на товар в день рождения</td>\n",
       "      <td>16.20</td>\n",
       "    </tr>\n",
       "    <tr>\n",
       "      <th>3</th>\n",
       "      <td>Изменить структура категорий, что увеличит конверсию, т.к. пользователи быстрее найдут нужный товар</td>\n",
       "      <td>9.00</td>\n",
       "    </tr>\n",
       "    <tr>\n",
       "      <th>1</th>\n",
       "      <td>Запустить собственную службу доставки, что сократит срок доставки заказов</td>\n",
       "      <td>4.00</td>\n",
       "    </tr>\n",
       "    <tr>\n",
       "      <th>5</th>\n",
       "      <td>Добавить страницу отзывов клиентов о магазине, что позволит увеличить количество заказов</td>\n",
       "      <td>4.00</td>\n",
       "    </tr>\n",
       "    <tr>\n",
       "      <th>4</th>\n",
       "      <td>Изменить цвет фона главной страницы, чтобы увеличить вовлеченность пользователей</td>\n",
       "      <td>3.00</td>\n",
       "    </tr>\n",
       "  </tbody>\n",
       "</table>\n",
       "</div>"
      ],
      "text/plain": [
       "                                                                                                     hypothesis  \\\n",
       "7              Добавить форму подписки на все основные страницы, чтобы собрать базу клиентов для email-рассылок   \n",
       "2  Добавить блоки рекомендаций товаров на сайт интернет магазина, чтобы повысить конверсию и средний чек заказа   \n",
       "0            Добавить два новых канала привлечения трафика, что позволит привлекать на 30% больше пользователей   \n",
       "6          Показать на главной странице баннеры с актуальными акциями и распродажами, чтобы увеличить конверсию   \n",
       "8                                                       Запустить акцию, дающую скидку на товар в день рождения   \n",
       "3           Изменить структура категорий, что увеличит конверсию, т.к. пользователи быстрее найдут нужный товар   \n",
       "1                                     Запустить собственную службу доставки, что сократит срок доставки заказов   \n",
       "5                      Добавить страницу отзывов клиентов о магазине, что позволит увеличить количество заказов   \n",
       "4                              Изменить цвет фона главной страницы, чтобы увеличить вовлеченность пользователей   \n",
       "\n",
       "    RICE  \n",
       "7 112.00  \n",
       "2  56.00  \n",
       "0  40.00  \n",
       "6  40.00  \n",
       "8  16.20  \n",
       "3   9.00  \n",
       "1   4.00  \n",
       "5   4.00  \n",
       "4   3.00  "
      ]
     },
     "execution_count": 7,
     "metadata": {},
     "output_type": "execute_result"
    }
   ],
   "source": [
    "data['RICE'] = (data['confidence'] * data['impact']* data['reach']) / data['efforts']\n",
    "data[['hypothesis', 'RICE']].sort_values(by='RICE', ascending=False)  "
   ]
  },
  {
   "cell_type": "markdown",
   "metadata": {},
   "source": [
    "**Приоритизация гипотез при применении RICE вместо ICE изменилась, так как при расчете RICE дополнительно учитывается такой параметр как `Reach` — скольких пользователей затронет изменение, которое мы хотим внести. С учетом этого праметра гипотезы, которые имеют более широкий охват пользователей получили более высокую оценку.**"
   ]
  },
  {
   "cell_type": "markdown",
   "metadata": {},
   "source": [
    "# Анализ A/B-теста"
   ]
  },
  {
   "cell_type": "markdown",
   "metadata": {},
   "source": [
    "Тестируем гипотезу: \"Добавить блоки рекомендаций товаров на сайт интернет магазина, чтобы повысить конверсию и средний чек заказа\".\n",
    "Мы получили результаты A/B-теста, которые описаны в файлах `orders` и `visitors`. Нам необходимо проанализировать результаты и  принять решение по результатам A/B-теста."
   ]
  },
  {
   "cell_type": "markdown",
   "metadata": {},
   "source": [
    "## Изучение, подготовка данных."
   ]
  },
  {
   "cell_type": "markdown",
   "metadata": {},
   "source": [
    "Загрузим данные и изучим их."
   ]
  },
  {
   "cell_type": "code",
   "execution_count": 8,
   "metadata": {},
   "outputs": [],
   "source": [
    "orders = pd.read_csv('/datasets/orders.csv')\n",
    "visitors = pd.read_csv('/datasets/visitors.csv')"
   ]
  },
  {
   "cell_type": "code",
   "execution_count": 9,
   "metadata": {},
   "outputs": [],
   "source": [
    "def inform(data):\n",
    "    display(data.head())\n",
    "    print(data.info())"
   ]
  },
  {
   "cell_type": "code",
   "execution_count": 10,
   "metadata": {},
   "outputs": [
    {
     "data": {
      "text/html": [
       "<div>\n",
       "<style scoped>\n",
       "    .dataframe tbody tr th:only-of-type {\n",
       "        vertical-align: middle;\n",
       "    }\n",
       "\n",
       "    .dataframe tbody tr th {\n",
       "        vertical-align: top;\n",
       "    }\n",
       "\n",
       "    .dataframe thead th {\n",
       "        text-align: right;\n",
       "    }\n",
       "</style>\n",
       "<table border=\"1\" class=\"dataframe\">\n",
       "  <thead>\n",
       "    <tr style=\"text-align: right;\">\n",
       "      <th></th>\n",
       "      <th>transactionId</th>\n",
       "      <th>visitorId</th>\n",
       "      <th>date</th>\n",
       "      <th>revenue</th>\n",
       "      <th>group</th>\n",
       "    </tr>\n",
       "  </thead>\n",
       "  <tbody>\n",
       "    <tr>\n",
       "      <th>0</th>\n",
       "      <td>3667963787</td>\n",
       "      <td>3312258926</td>\n",
       "      <td>2019-08-15</td>\n",
       "      <td>1650</td>\n",
       "      <td>B</td>\n",
       "    </tr>\n",
       "    <tr>\n",
       "      <th>1</th>\n",
       "      <td>2804400009</td>\n",
       "      <td>3642806036</td>\n",
       "      <td>2019-08-15</td>\n",
       "      <td>730</td>\n",
       "      <td>B</td>\n",
       "    </tr>\n",
       "    <tr>\n",
       "      <th>2</th>\n",
       "      <td>2961555356</td>\n",
       "      <td>4069496402</td>\n",
       "      <td>2019-08-15</td>\n",
       "      <td>400</td>\n",
       "      <td>A</td>\n",
       "    </tr>\n",
       "    <tr>\n",
       "      <th>3</th>\n",
       "      <td>3797467345</td>\n",
       "      <td>1196621759</td>\n",
       "      <td>2019-08-15</td>\n",
       "      <td>9759</td>\n",
       "      <td>B</td>\n",
       "    </tr>\n",
       "    <tr>\n",
       "      <th>4</th>\n",
       "      <td>2282983706</td>\n",
       "      <td>2322279887</td>\n",
       "      <td>2019-08-15</td>\n",
       "      <td>2308</td>\n",
       "      <td>B</td>\n",
       "    </tr>\n",
       "  </tbody>\n",
       "</table>\n",
       "</div>"
      ],
      "text/plain": [
       "   transactionId   visitorId        date  revenue group\n",
       "0     3667963787  3312258926  2019-08-15     1650     B\n",
       "1     2804400009  3642806036  2019-08-15      730     B\n",
       "2     2961555356  4069496402  2019-08-15      400     A\n",
       "3     3797467345  1196621759  2019-08-15     9759     B\n",
       "4     2282983706  2322279887  2019-08-15     2308     B"
      ]
     },
     "metadata": {},
     "output_type": "display_data"
    },
    {
     "name": "stdout",
     "output_type": "stream",
     "text": [
      "<class 'pandas.core.frame.DataFrame'>\n",
      "RangeIndex: 1197 entries, 0 to 1196\n",
      "Data columns (total 5 columns):\n",
      " #   Column         Non-Null Count  Dtype \n",
      "---  ------         --------------  ----- \n",
      " 0   transactionId  1197 non-null   int64 \n",
      " 1   visitorId      1197 non-null   int64 \n",
      " 2   date           1197 non-null   object\n",
      " 3   revenue        1197 non-null   int64 \n",
      " 4   group          1197 non-null   object\n",
      "dtypes: int64(3), object(2)\n",
      "memory usage: 46.9+ KB\n",
      "None\n"
     ]
    }
   ],
   "source": [
    "inform(orders)"
   ]
  },
  {
   "cell_type": "code",
   "execution_count": 11,
   "metadata": {},
   "outputs": [
    {
     "data": {
      "text/html": [
       "<div>\n",
       "<style scoped>\n",
       "    .dataframe tbody tr th:only-of-type {\n",
       "        vertical-align: middle;\n",
       "    }\n",
       "\n",
       "    .dataframe tbody tr th {\n",
       "        vertical-align: top;\n",
       "    }\n",
       "\n",
       "    .dataframe thead th {\n",
       "        text-align: right;\n",
       "    }\n",
       "</style>\n",
       "<table border=\"1\" class=\"dataframe\">\n",
       "  <thead>\n",
       "    <tr style=\"text-align: right;\">\n",
       "      <th></th>\n",
       "      <th>date</th>\n",
       "      <th>group</th>\n",
       "      <th>visitors</th>\n",
       "    </tr>\n",
       "  </thead>\n",
       "  <tbody>\n",
       "    <tr>\n",
       "      <th>0</th>\n",
       "      <td>2019-08-01</td>\n",
       "      <td>A</td>\n",
       "      <td>719</td>\n",
       "    </tr>\n",
       "    <tr>\n",
       "      <th>1</th>\n",
       "      <td>2019-08-02</td>\n",
       "      <td>A</td>\n",
       "      <td>619</td>\n",
       "    </tr>\n",
       "    <tr>\n",
       "      <th>2</th>\n",
       "      <td>2019-08-03</td>\n",
       "      <td>A</td>\n",
       "      <td>507</td>\n",
       "    </tr>\n",
       "    <tr>\n",
       "      <th>3</th>\n",
       "      <td>2019-08-04</td>\n",
       "      <td>A</td>\n",
       "      <td>717</td>\n",
       "    </tr>\n",
       "    <tr>\n",
       "      <th>4</th>\n",
       "      <td>2019-08-05</td>\n",
       "      <td>A</td>\n",
       "      <td>756</td>\n",
       "    </tr>\n",
       "  </tbody>\n",
       "</table>\n",
       "</div>"
      ],
      "text/plain": [
       "         date group  visitors\n",
       "0  2019-08-01     A       719\n",
       "1  2019-08-02     A       619\n",
       "2  2019-08-03     A       507\n",
       "3  2019-08-04     A       717\n",
       "4  2019-08-05     A       756"
      ]
     },
     "metadata": {},
     "output_type": "display_data"
    },
    {
     "name": "stdout",
     "output_type": "stream",
     "text": [
      "<class 'pandas.core.frame.DataFrame'>\n",
      "RangeIndex: 62 entries, 0 to 61\n",
      "Data columns (total 3 columns):\n",
      " #   Column    Non-Null Count  Dtype \n",
      "---  ------    --------------  ----- \n",
      " 0   date      62 non-null     object\n",
      " 1   group     62 non-null     object\n",
      " 2   visitors  62 non-null     int64 \n",
      "dtypes: int64(1), object(2)\n",
      "memory usage: 1.6+ KB\n",
      "None\n"
     ]
    }
   ],
   "source": [
    "inform(visitors)"
   ]
  },
  {
   "cell_type": "markdown",
   "metadata": {},
   "source": [
    "**Описание данных:** \n",
    "\n",
    "Файл `orders`:\n",
    "- transactionId — идентификатор заказа;\n",
    "- visitorId — идентификатор пользователя, совершившего заказ;\n",
    "- date — дата, когда был совершён заказ;\n",
    "- revenue — выручка заказа;\n",
    "- group — группа A/B-теста, в которую попал заказ.  \n",
    "\n",
    "Файл `visitors`:\n",
    "- date — дата;\n",
    "- group — группа A/B-теста;\n",
    "- visitors — количество пользователей в указанную дату в указанной группе A/B-теста"
   ]
  },
  {
   "cell_type": "markdown",
   "metadata": {},
   "source": [
    "**Подготовка данных**"
   ]
  },
  {
   "cell_type": "markdown",
   "metadata": {},
   "source": [
    "Переименуем некоторые столбцы. Приведем в змеиный регистр названия."
   ]
  },
  {
   "cell_type": "code",
   "execution_count": 12,
   "metadata": {},
   "outputs": [
    {
     "data": {
      "text/plain": [
       "Index(['transaction_id', 'visitor_id', 'date', 'revenue', 'group'], dtype='object')"
      ]
     },
     "execution_count": 12,
     "metadata": {},
     "output_type": "execute_result"
    }
   ],
   "source": [
    "orders = orders.rename(columns={'transactionId': 'transaction_id', 'visitorId':'visitor_id'})\n",
    "orders.columns"
   ]
  },
  {
   "cell_type": "markdown",
   "metadata": {},
   "source": [
    "Приведение данных к нужным типам:"
   ]
  },
  {
   "cell_type": "code",
   "execution_count": 13,
   "metadata": {},
   "outputs": [],
   "source": [
    "# преобразование данных времени\n",
    "visitors['date'] = pd.to_datetime(visitors['date']).dt.date\n",
    "orders['date'] = pd.to_datetime(orders['date']).dt.date"
   ]
  },
  {
   "cell_type": "markdown",
   "metadata": {},
   "source": [
    "**Проверим наличие дубликатов**"
   ]
  },
  {
   "cell_type": "code",
   "execution_count": 14,
   "metadata": {},
   "outputs": [
    {
     "data": {
      "text/plain": [
       "0"
      ]
     },
     "execution_count": 14,
     "metadata": {},
     "output_type": "execute_result"
    }
   ],
   "source": [
    "orders.duplicated().sum()"
   ]
  },
  {
   "cell_type": "markdown",
   "metadata": {},
   "source": [
    "**Посмотрим на размер выборок и время провведения теста**"
   ]
  },
  {
   "cell_type": "markdown",
   "metadata": {},
   "source": [
    "По условию задачи тест уже запущен, считаем что размер выборок и длительность теста определены оптимальным образом."
   ]
  },
  {
   "cell_type": "markdown",
   "metadata": {},
   "source": [
    "Тест проводился в течении месяца:"
   ]
  },
  {
   "cell_type": "code",
   "execution_count": 15,
   "metadata": {},
   "outputs": [
    {
     "name": "stdout",
     "output_type": "stream",
     "text": [
      "Период проведения теста:  с 2019-08-01 по 2019-08-31\n"
     ]
    }
   ],
   "source": [
    "print('Период проведения теста:', f\" с {orders['date'].min()} по {orders['date'].max()}\" )"
   ]
  },
  {
   "cell_type": "markdown",
   "metadata": {},
   "source": [
    "Посмотрим на размеры исследуемых выборок."
   ]
  },
  {
   "cell_type": "code",
   "execution_count": 16,
   "metadata": {},
   "outputs": [
    {
     "data": {
      "text/html": [
       "<div>\n",
       "<style scoped>\n",
       "    .dataframe tbody tr th:only-of-type {\n",
       "        vertical-align: middle;\n",
       "    }\n",
       "\n",
       "    .dataframe tbody tr th {\n",
       "        vertical-align: top;\n",
       "    }\n",
       "\n",
       "    .dataframe thead th {\n",
       "        text-align: right;\n",
       "    }\n",
       "</style>\n",
       "<table border=\"1\" class=\"dataframe\">\n",
       "  <thead>\n",
       "    <tr style=\"text-align: right;\">\n",
       "      <th></th>\n",
       "      <th>visitor_id</th>\n",
       "    </tr>\n",
       "    <tr>\n",
       "      <th>group</th>\n",
       "      <th></th>\n",
       "    </tr>\n",
       "  </thead>\n",
       "  <tbody>\n",
       "    <tr>\n",
       "      <th>A</th>\n",
       "      <td>503</td>\n",
       "    </tr>\n",
       "    <tr>\n",
       "      <th>B</th>\n",
       "      <td>586</td>\n",
       "    </tr>\n",
       "  </tbody>\n",
       "</table>\n",
       "</div>"
      ],
      "text/plain": [
       "       visitor_id\n",
       "group            \n",
       "A             503\n",
       "B             586"
      ]
     },
     "execution_count": 16,
     "metadata": {},
     "output_type": "execute_result"
    }
   ],
   "source": [
    "orders.groupby('group').agg({'visitor_id':'nunique'})"
   ]
  },
  {
   "cell_type": "markdown",
   "metadata": {},
   "source": [
    "Размеры выборок достаточно большие, но не равны, что встречается достаточно часто. Это не является критическим нарушением."
   ]
  },
  {
   "cell_type": "markdown",
   "metadata": {},
   "source": [
    "Чтобы получить статистически значимый результат, очень важно исключить влияние групп друг на друга, т.е. пользователь должен быть отнесен строго к одной группе. Проверим это требование."
   ]
  },
  {
   "cell_type": "code",
   "execution_count": 17,
   "metadata": {},
   "outputs": [
    {
     "name": "stdout",
     "output_type": "stream",
     "text": [
      "Количество пользователей, попавших в обе группы: 58\n"
     ]
    }
   ],
   "source": [
    "visitor_a = orders[orders['group'] == 'A']['visitor_id'].unique()\n",
    "visitor_b = orders[orders['group'] == 'B']['visitor_id'].unique()\n",
    "diff_vis = [x for x in visitor_a if x in visitor_b]\n",
    "print('Количество пользователей, попавших в обе группы:', len(diff_vis))"
   ]
  },
  {
   "cell_type": "markdown",
   "metadata": {},
   "source": [
    "А вот это серьезное нарушение.   \n",
    "Мы могли бы удалить данных пользователей из выборок. Но нам необходимо будет оценить конверсию из посетителей. А в таблице `visitors` эти пользователи учтены в общем количестве пользователей за день. Поэтому удаление повлияет на показатель конверсии."
   ]
  },
  {
   "cell_type": "markdown",
   "metadata": {},
   "source": [
    "Ввиду того, что без последствий удалить пользователей из всех выборок не получиться, оставим их. Доля таких пользователей не очень большая, возможно они окажут не сильное влияние на результат. Мы проведем анализ с учетом этих пользователей, но будем иметь ввиду что этот факт может повлиять на результат тестирования."
   ]
  },
  {
   "cell_type": "markdown",
   "metadata": {},
   "source": [
    "## Построим график кумулятивной выручки по группам"
   ]
  },
  {
   "cell_type": "markdown",
   "metadata": {},
   "source": [
    "Подготовим данные для графика."
   ]
  },
  {
   "cell_type": "code",
   "execution_count": 19,
   "metadata": {},
   "outputs": [],
   "source": [
    "# создаем массив уникальных пар значений дат и групп теста\n",
    "datesGroups = orders[['date','group']].drop_duplicates()"
   ]
  },
  {
   "cell_type": "markdown",
   "metadata": {},
   "source": [
    "Соберём агрегированные кумулятивные по дням данные о заказах:"
   ]
  },
  {
   "cell_type": "code",
   "execution_count": 20,
   "metadata": {},
   "outputs": [],
   "source": [
    "ordersAggregated = datesGroups.apply(lambda x: orders[np.logical_and(orders['date'] <= x['date'], orders['group'] == x['group'])]\\\n",
    ".agg({'date' : 'max', 'group' : 'max', 'transaction_id' : 'nunique', 'visitor_id' : 'nunique', 'revenue' : 'sum'}), axis=1).sort_values(by=['date','group'])"
   ]
  },
  {
   "cell_type": "markdown",
   "metadata": {},
   "source": [
    "Аналогично получим агрегированные кумулятивные по дням данные о посетителях:"
   ]
  },
  {
   "cell_type": "code",
   "execution_count": 21,
   "metadata": {},
   "outputs": [],
   "source": [
    "visitorsAggregated = datesGroups.apply(lambda x: visitors[np.logical_and(visitors['date'] <= x['date'], visitors['group'] == x['group'])].agg({'date' : 'max', 'group' : 'max', 'visitors' : 'sum'}), axis=1).sort_values(by=['date','group'])"
   ]
  },
  {
   "cell_type": "markdown",
   "metadata": {},
   "source": [
    "Объединим обе таблицы в одну:"
   ]
  },
  {
   "cell_type": "code",
   "execution_count": 22,
   "metadata": {},
   "outputs": [
    {
     "data": {
      "text/html": [
       "<div>\n",
       "<style scoped>\n",
       "    .dataframe tbody tr th:only-of-type {\n",
       "        vertical-align: middle;\n",
       "    }\n",
       "\n",
       "    .dataframe tbody tr th {\n",
       "        vertical-align: top;\n",
       "    }\n",
       "\n",
       "    .dataframe thead th {\n",
       "        text-align: right;\n",
       "    }\n",
       "</style>\n",
       "<table border=\"1\" class=\"dataframe\">\n",
       "  <thead>\n",
       "    <tr style=\"text-align: right;\">\n",
       "      <th></th>\n",
       "      <th>date</th>\n",
       "      <th>group</th>\n",
       "      <th>orders</th>\n",
       "      <th>buyers</th>\n",
       "      <th>revenue</th>\n",
       "      <th>visitors</th>\n",
       "    </tr>\n",
       "  </thead>\n",
       "  <tbody>\n",
       "    <tr>\n",
       "      <th>0</th>\n",
       "      <td>2019-08-01</td>\n",
       "      <td>A</td>\n",
       "      <td>24</td>\n",
       "      <td>20</td>\n",
       "      <td>148579</td>\n",
       "      <td>719</td>\n",
       "    </tr>\n",
       "    <tr>\n",
       "      <th>1</th>\n",
       "      <td>2019-08-01</td>\n",
       "      <td>B</td>\n",
       "      <td>21</td>\n",
       "      <td>20</td>\n",
       "      <td>101217</td>\n",
       "      <td>713</td>\n",
       "    </tr>\n",
       "    <tr>\n",
       "      <th>2</th>\n",
       "      <td>2019-08-02</td>\n",
       "      <td>A</td>\n",
       "      <td>44</td>\n",
       "      <td>38</td>\n",
       "      <td>242401</td>\n",
       "      <td>1338</td>\n",
       "    </tr>\n",
       "    <tr>\n",
       "      <th>3</th>\n",
       "      <td>2019-08-02</td>\n",
       "      <td>B</td>\n",
       "      <td>45</td>\n",
       "      <td>43</td>\n",
       "      <td>266748</td>\n",
       "      <td>1294</td>\n",
       "    </tr>\n",
       "    <tr>\n",
       "      <th>4</th>\n",
       "      <td>2019-08-03</td>\n",
       "      <td>A</td>\n",
       "      <td>68</td>\n",
       "      <td>62</td>\n",
       "      <td>354874</td>\n",
       "      <td>1845</td>\n",
       "    </tr>\n",
       "  </tbody>\n",
       "</table>\n",
       "</div>"
      ],
      "text/plain": [
       "         date group  orders  buyers  revenue  visitors\n",
       "0  2019-08-01     A      24      20   148579       719\n",
       "1  2019-08-01     B      21      20   101217       713\n",
       "2  2019-08-02     A      44      38   242401      1338\n",
       "3  2019-08-02     B      45      43   266748      1294\n",
       "4  2019-08-03     A      68      62   354874      1845"
      ]
     },
     "execution_count": 22,
     "metadata": {},
     "output_type": "execute_result"
    }
   ],
   "source": [
    "cumulativeData = ordersAggregated.merge(visitorsAggregated, left_on=['date', 'group'], right_on=['date', 'group'])\n",
    "cumulativeData.columns = ['date', 'group', 'orders', 'buyers', 'revenue', 'visitors']\n",
    "\n",
    "cumulativeData.head()"
   ]
  },
  {
   "cell_type": "markdown",
   "metadata": {},
   "source": [
    "Построим графики кумулятивной выручки по дням и группам A/B-тестирования:"
   ]
  },
  {
   "cell_type": "code",
   "execution_count": 23,
   "metadata": {},
   "outputs": [
    {
     "data": {
      "image/png": "[encoded data removed]",
      "text/plain": [
       "<Figure size 576x288 with 1 Axes>"
      ]
     },
     "metadata": {
      "needs_background": "light"
     },
     "output_type": "display_data"
    }
   ],
   "source": [
    "cumulativeRevenueA = cumulativeData[cumulativeData['group']=='A'][['date','revenue', 'orders']]\n",
    "\n",
    "cumulativeRevenueB = cumulativeData[cumulativeData['group']=='B'][['date','revenue', 'orders']]\n",
    "\n",
    "plt.figure(figsize=(8,4))\n",
    "plt.plot(cumulativeRevenueA['date'], cumulativeRevenueA['revenue'], label='A')\n",
    "plt.plot(cumulativeRevenueB['date'], cumulativeRevenueB['revenue'], label='B')\n",
    "plt.legend()\n",
    "plt.ylabel('Сумма выручки, млн')\n",
    "plt.title('Кумулятивная выручка по дням и группам A/B-тестирования')\n",
    "plt.xticks(rotation=35)\n",
    "plt.show()"
   ]
  },
  {
   "cell_type": "markdown",
   "metadata": {},
   "source": [
    "Выручка почти равномерно увеличивается в течение всего теста.\n",
    "Но график выручки группы В имеет резкий рост. Это может сигнализировать о всплеске числа заказов, либо о появлении очень дорогих заказов в выборке."
   ]
  },
  {
   "cell_type": "markdown",
   "metadata": {},
   "source": [
    "## Построим графики среднего чека по группам."
   ]
  },
  {
   "cell_type": "code",
   "execution_count": 24,
   "metadata": {},
   "outputs": [
    {
     "data": {
      "image/png": "[encoded data removed]",
      "text/plain": [
       "<Figure size 576x288 with 1 Axes>"
      ]
     },
     "metadata": {
      "needs_background": "light"
     },
     "output_type": "display_data"
    }
   ],
   "source": [
    "plt.figure(figsize=(8,4))\n",
    "plt.plot(cumulativeRevenueA['date'], cumulativeRevenueA['revenue']/cumulativeRevenueA['orders'], label='A')\n",
    "plt.plot(cumulativeRevenueB['date'], cumulativeRevenueB['revenue']/cumulativeRevenueB['orders'], label='B')\n",
    "plt.ylabel('Средняя сумма заказа')\n",
    "plt.title('График среднего чека по дням и группам A/B-тестирования')\n",
    "plt.legend()\n",
    "plt.xticks(rotation=35)\n",
    "plt.show()"
   ]
  },
  {
   "cell_type": "markdown",
   "metadata": {},
   "source": [
    "Со средним чеком наблюдается выраженный скачок в середине месяца в группе `В`. В один из дней в этой группе появился дорогой заказ или несколько. Мы видим что, после этого скачка средний чек группы `В` стал снижаться, а средний чек группы `А` наооборот стал немного расти. Не будь этого скачка средний чек группы `В` мог оказатся ниже среднего чека группы `А` к концу периода."
   ]
  },
  {
   "cell_type": "markdown",
   "metadata": {},
   "source": [
    "## Построим график относительного различия для среднего чека."
   ]
  },
  {
   "cell_type": "code",
   "execution_count": 25,
   "metadata": {},
   "outputs": [
    {
     "data": {
      "image/png": "[encoded data removed]",
      "text/plain": [
       "<Figure size 576x288 with 1 Axes>"
      ]
     },
     "metadata": {
      "needs_background": "light"
     },
     "output_type": "display_data"
    }
   ],
   "source": [
    "mergedCumulativeRevenue = cumulativeRevenueA.merge(cumulativeRevenueB, left_on='date', right_on='date', how='left', suffixes=['A', 'B'])\n",
    "\n",
    "plt.figure(figsize=(8,4))\n",
    "plt.plot(mergedCumulativeRevenue['date'], (mergedCumulativeRevenue['revenueB']/mergedCumulativeRevenue['ordersB'])/(mergedCumulativeRevenue['revenueA']/mergedCumulativeRevenue['ordersA'])-1)\n",
    "\n",
    "plt.axhline(y=0, color='black', linestyle='--')\n",
    "plt.xticks(rotation=35)\n",
    "plt.title('График относительного различия для среднего чека группы B к группе A')\n",
    "plt.show()"
   ]
  },
  {
   "cell_type": "markdown",
   "metadata": {},
   "source": [
    "Здесь мы также наглядно видим влияние выбросов. График различия между сегментами резко «скачет»."
   ]
  },
  {
   "cell_type": "markdown",
   "metadata": {},
   "source": [
    "## Построим график кумулятивной конверсии по группам."
   ]
  },
  {
   "cell_type": "code",
   "execution_count": 26,
   "metadata": {},
   "outputs": [
    {
     "data": {
      "image/png": "[encoded data removed]",
      "text/plain": [
       "<Figure size 576x288 with 1 Axes>"
      ]
     },
     "metadata": {
      "needs_background": "light"
     },
     "output_type": "display_data"
    }
   ],
   "source": [
    "# считаем кумулятивную конверсию\n",
    "cumulativeData['conversion'] = cumulativeData['orders']/cumulativeData['visitors']\n",
    "\n",
    "cumulativeDataA = cumulativeData[cumulativeData['group']=='A']\n",
    "cumulativeDataB = cumulativeData[cumulativeData['group']=='B']\n",
    "\n",
    "plt.figure(figsize=(8,4))\n",
    "plt.plot(cumulativeDataA['date'], cumulativeDataA['conversion'], label='A')\n",
    "plt.plot(cumulativeDataB['date'], cumulativeDataB['conversion'], label='B')\n",
    "plt.legend()\n",
    "plt.xticks(rotation=35)\n",
    "plt.title('Кумулятивная конверсия по группам')\n",
    "plt.show()"
   ]
  },
  {
   "cell_type": "markdown",
   "metadata": {},
   "source": [
    "Мы видим что конверсия группы `В` после резких колебаний в начале периода стабилизировалась выше конверсии группы `А`."
   ]
  },
  {
   "cell_type": "markdown",
   "metadata": {},
   "source": [
    "## Построим график относительного изменения кумулятивной конверсии группы B к группе A."
   ]
  },
  {
   "cell_type": "code",
   "execution_count": 27,
   "metadata": {},
   "outputs": [
    {
     "data": {
      "image/png": "[encoded data removed]",
      "text/plain": [
       "<Figure size 576x360 with 1 Axes>"
      ]
     },
     "metadata": {
      "needs_background": "light"
     },
     "output_type": "display_data"
    }
   ],
   "source": [
    "mergedCumulativeConversions = cumulativeDataA[['date','conversion']].merge(cumulativeDataB[['date','conversion']], left_on='date', right_on='date', how='left', suffixes=['A', 'B'])\n",
    "\n",
    "plt.figure(figsize=(8,5))\n",
    "plt.plot(mergedCumulativeConversions['date'], mergedCumulativeConversions['conversionB']/mergedCumulativeConversions['conversionA']-1, label=\"Относительный прирост конверсии группы B относительно группы A\")\n",
    "plt.legend()\n",
    "\n",
    "plt.axhline(y=0, color='black', linestyle='--')\n",
    "plt.axhline(y=0.14, color='grey', linestyle='--')\n",
    "plt.xticks(rotation=35)\n",
    "plt.title('График относительного изменения кумулятивной конверсии группы B к группе A')\n",
    "plt.show()"
   ]
  },
  {
   "cell_type": "markdown",
   "metadata": {},
   "source": [
    "В начале теста группа B проигрывала группе A, затем вырвалась вперёд. Потом с середины было небольшое снижение но ближе к концу теста она снова растет."
   ]
  },
  {
   "cell_type": "markdown",
   "metadata": {},
   "source": [
    "## Построим точечный график количества заказов по пользователям."
   ]
  },
  {
   "cell_type": "code",
   "execution_count": 28,
   "metadata": {},
   "outputs": [
    {
     "data": {
      "text/html": [
       "<div>\n",
       "<style scoped>\n",
       "    .dataframe tbody tr th:only-of-type {\n",
       "        vertical-align: middle;\n",
       "    }\n",
       "\n",
       "    .dataframe tbody tr th {\n",
       "        vertical-align: top;\n",
       "    }\n",
       "\n",
       "    .dataframe thead th {\n",
       "        text-align: right;\n",
       "    }\n",
       "</style>\n",
       "<table border=\"1\" class=\"dataframe\">\n",
       "  <thead>\n",
       "    <tr style=\"text-align: right;\">\n",
       "      <th></th>\n",
       "      <th>user</th>\n",
       "      <th>orders</th>\n",
       "    </tr>\n",
       "  </thead>\n",
       "  <tbody>\n",
       "    <tr>\n",
       "      <th>0</th>\n",
       "      <td>5114589</td>\n",
       "      <td>1</td>\n",
       "    </tr>\n",
       "    <tr>\n",
       "      <th>1</th>\n",
       "      <td>6958315</td>\n",
       "      <td>1</td>\n",
       "    </tr>\n",
       "    <tr>\n",
       "      <th>2</th>\n",
       "      <td>8300375</td>\n",
       "      <td>2</td>\n",
       "    </tr>\n",
       "    <tr>\n",
       "      <th>3</th>\n",
       "      <td>11685486</td>\n",
       "      <td>1</td>\n",
       "    </tr>\n",
       "    <tr>\n",
       "      <th>4</th>\n",
       "      <td>39475350</td>\n",
       "      <td>1</td>\n",
       "    </tr>\n",
       "  </tbody>\n",
       "</table>\n",
       "</div>"
      ],
      "text/plain": [
       "       user  orders\n",
       "0   5114589       1\n",
       "1   6958315       1\n",
       "2   8300375       2\n",
       "3  11685486       1\n",
       "4  39475350       1"
      ]
     },
     "execution_count": 28,
     "metadata": {},
     "output_type": "execute_result"
    }
   ],
   "source": [
    "orders_users = orders.groupby('visitor_id', as_index=False).agg({'transaction_id': 'nunique'})\n",
    "orders_users.columns = ['user', 'orders']\n",
    "\n",
    "orders_users.head()"
   ]
  },
  {
   "cell_type": "code",
   "execution_count": 29,
   "metadata": {},
   "outputs": [
    {
     "data": {
      "image/png": "[encoded data removed]",
      "text/plain": [
       "<Figure size 432x288 with 1 Axes>"
      ]
     },
     "metadata": {
      "needs_background": "light"
     },
     "output_type": "display_data"
    }
   ],
   "source": [
    "x_values = pd.Series(range(0,len(orders_users['orders'])))\n",
    "plt.scatter(x_values, orders_users['orders'])\n",
    "plt.xlabel('Пользователи')\n",
    "plt.ylabel('Число заказов')\n",
    "plt.title('Число заказов на одного пользователя')\n",
    "plt.show()"
   ]
  },
  {
   "cell_type": "markdown",
   "metadata": {},
   "source": [
    "Большая часть пользователей оформляла не больше трех заказов."
   ]
  },
  {
   "cell_type": "markdown",
   "metadata": {},
   "source": [
    "## Посчитаем 95-й и 99-й перцентили количества заказов на пользователя."
   ]
  },
  {
   "cell_type": "markdown",
   "metadata": {},
   "source": [
    "Посчитаем выборочные перцентили количества заказов на одного пользователя:"
   ]
  },
  {
   "cell_type": "code",
   "execution_count": 30,
   "metadata": {},
   "outputs": [
    {
     "name": "stdout",
     "output_type": "stream",
     "text": [
      "[2. 4.]\n"
     ]
    }
   ],
   "source": [
    "print(np.percentile(orders_users['orders'], [95, 99]))"
   ]
  },
  {
   "cell_type": "markdown",
   "metadata": {},
   "source": [
    "Не более 5% пользователей оформляли больше чем 2 заказа. И 1% пользователей заказывали более 4 раз.  \n",
    "Выберем границу для определения аномальных пользователей 2 или 3 заказа на пользователей. "
   ]
  },
  {
   "cell_type": "markdown",
   "metadata": {},
   "source": [
    "## Построим точечный график стоимостей заказов."
   ]
  },
  {
   "cell_type": "code",
   "execution_count": 31,
   "metadata": {},
   "outputs": [
    {
     "data": {
      "image/png": "[encoded data removed]",
      "text/plain": [
       "<Figure size 432x288 with 1 Axes>"
      ]
     },
     "metadata": {
      "needs_background": "light"
     },
     "output_type": "display_data"
    }
   ],
   "source": [
    "x_values = pd.Series(range(0,len(orders['revenue'])))\n",
    "plt.scatter(x_values, orders['revenue'])\n",
    "plt.xlabel('Заказы')\n",
    "plt.ylabel('Сумма заказа, млн')\n",
    "plt.title('Распределение стоиомсти заказов')\n",
    "plt.show()"
   ]
  },
  {
   "cell_type": "markdown",
   "metadata": {},
   "source": [
    "Вот и выброс, который проявлялся на графиках среднего чека и кумулятивной выручки. Очень крупный заказ в десятки раз превосходящий большинство заказов. Из-за этого выброса не ясно какое распределение по стоимости заказов до 200 000. Можно изменить масштаб и поближе рассмотреть распределение сумм заказов в нижней части графика."
   ]
  },
  {
   "cell_type": "code",
   "execution_count": 32,
   "metadata": {},
   "outputs": [
    {
     "data": {
      "image/png": "[encoded data removed]",
      "text/plain": [
       "<Figure size 432x288 with 1 Axes>"
      ]
     },
     "metadata": {
      "needs_background": "light"
     },
     "output_type": "display_data"
    }
   ],
   "source": [
    "x_values = pd.Series(range(0,len(orders['revenue'])))\n",
    "plt.scatter(x_values, orders['revenue'])\n",
    "plt.ylim(0,200000)\n",
    "plt.xlabel('Заказы')\n",
    "plt.ylabel('Сумма заказа')\n",
    "plt.title('Распределение стоиомсти заказов до 200 тыс.')\n",
    "plt.show()"
   ]
  },
  {
   "cell_type": "markdown",
   "metadata": {},
   "source": [
    "Теперь мы видим что большинство сумм заказов не превышает 25-30 тыс. руб. Установим точные границы с помощью процентиля."
   ]
  },
  {
   "cell_type": "markdown",
   "metadata": {},
   "source": [
    "## Посчитаем 95-й и 99-й перцентили стоимости заказов."
   ]
  },
  {
   "cell_type": "code",
   "execution_count": 33,
   "metadata": {
    "scrolled": false
   },
   "outputs": [
    {
     "name": "stdout",
     "output_type": "stream",
     "text": [
      "[28000.  58233.2]\n"
     ]
    }
   ],
   "source": [
    "print(np.percentile(orders['revenue'], [95, 99]))"
   ]
  },
  {
   "cell_type": "markdown",
   "metadata": {},
   "source": [
    "Не более 5% заказов дороже 28 000 рублей и не более 1% дороже 58 233 рублей. Для отсечения будем использовать 99% квантиль."
   ]
  },
  {
   "cell_type": "markdown",
   "metadata": {},
   "source": [
    "## Посчитаем статистическую значимость различий в конверсии между группами по «сырым» данным."
   ]
  },
  {
   "cell_type": "markdown",
   "metadata": {},
   "source": [
    "Подготовим данные для последующих проверок. По каждой группе выведем количество заказов, выручку и количество пользователей в выбранную дату. А также все эти показатели нарастающим итогом для каждой даты."
   ]
  },
  {
   "cell_type": "code",
   "execution_count": 34,
   "metadata": {},
   "outputs": [
    {
     "name": "stdout",
     "output_type": "stream",
     "text": [
      "         date  ordersPerDateA  revenuePerDateA  ordersPerDateB  \\\n",
      "0  2019-08-01              24           148579              21   \n",
      "1  2019-08-02              20            93822              24   \n",
      "2  2019-08-03              24           112473              16   \n",
      "3  2019-08-04              16            70825              17   \n",
      "4  2019-08-05              25           124218              23   \n",
      "\n",
      "   revenuePerDateB  ordersCummulativeA  revenueCummulativeA  \\\n",
      "0           101217                  24               148579   \n",
      "1           165531                  44               242401   \n",
      "2           114248                  68               354874   \n",
      "3           108571                  84               425699   \n",
      "4            92428                 109               549917   \n",
      "\n",
      "   ordersCummulativeB  revenueCummulativeB  visitorsPerDateA  \\\n",
      "0                  21               101217               719   \n",
      "1                  45               266748               619   \n",
      "2                  61               380996               507   \n",
      "3                  78               489567               717   \n",
      "4                 101               581995               756   \n",
      "\n",
      "   visitorsPerDateB  visitorsCummulativeA  visitorsCummulativeB  \n",
      "0               713                   719                   713  \n",
      "1               581                  1338                  1294  \n",
      "2               509                  1845                  1803  \n",
      "3               770                  2562                  2573  \n",
      "4               707                  3318                  3280  \n"
     ]
    }
   ],
   "source": [
    "\n",
    "visitorsADaily = visitors[visitors['group'] == 'A'][['date', 'visitors']]\n",
    "visitorsADaily.columns = ['date', 'visitorsPerDateA']\n",
    "\n",
    "visitorsACummulative = visitorsADaily.apply(lambda x: visitorsADaily[visitorsADaily['date'] <= x['date']].agg(\n",
    "        {'date': 'max', 'visitorsPerDateA': 'sum'}), axis=1,)\n",
    "visitorsACummulative.columns = ['date', 'visitorsCummulativeA']\n",
    "\n",
    "visitorsBDaily = visitors[visitors['group'] == 'B'][['date', 'visitors']]\n",
    "visitorsBDaily.columns = ['date', 'visitorsPerDateB']\n",
    "\n",
    "visitorsBCummulative = visitorsBDaily.apply(lambda x: visitorsBDaily[visitorsBDaily['date'] <= x['date']].agg(\n",
    "        {'date': 'max', 'visitorsPerDateB': 'sum'}), axis=1,)\n",
    "visitorsBCummulative.columns = ['date', 'visitorsCummulativeB']\n",
    "\n",
    "ordersADaily = (\n",
    "    orders[orders['group'] == 'A'][['date', 'transaction_id', 'visitor_id', 'revenue']]\n",
    "    .groupby('date', as_index=False)\n",
    "    .agg({'transaction_id': pd.Series.nunique, 'revenue': 'sum'})\n",
    ")\n",
    "ordersADaily.columns = ['date', 'ordersPerDateA', 'revenuePerDateA']\n",
    "\n",
    "ordersACummulative = ordersADaily.apply(\n",
    "    lambda x: ordersADaily[ordersADaily['date'] <= x['date']].agg(\n",
    "        {'date': 'max', 'ordersPerDateA': 'sum', 'revenuePerDateA': 'sum'}\n",
    "    ),\n",
    "    axis=1,\n",
    ").sort_values(by=['date'])\n",
    "ordersACummulative.columns = [\n",
    "    'date',\n",
    "    'ordersCummulativeA',\n",
    "    'revenueCummulativeA',\n",
    "]\n",
    "\n",
    "ordersBDaily = (\n",
    "    orders[orders['group'] == 'B'][['date', 'transaction_id', 'visitor_id', 'revenue']]\n",
    "    .groupby('date', as_index=False)\n",
    "    .agg({'transaction_id': pd.Series.nunique, 'revenue': 'sum'})\n",
    ")\n",
    "ordersBDaily.columns = ['date', 'ordersPerDateB', 'revenuePerDateB']\n",
    "\n",
    "ordersBCummulative = ordersBDaily.apply(\n",
    "    lambda x: ordersBDaily[ordersBDaily['date'] <= x['date']].agg(\n",
    "        {'date': 'max', 'ordersPerDateB': 'sum', 'revenuePerDateB': 'sum'}\n",
    "    ),\n",
    "    axis=1,\n",
    ").sort_values(by=['date'])\n",
    "ordersBCummulative.columns = [\n",
    "    'date',\n",
    "    'ordersCummulativeB',\n",
    "    'revenueCummulativeB',\n",
    "]\n",
    "\n",
    "data = (\n",
    "    ordersADaily.merge(\n",
    "        ordersBDaily, left_on='date', right_on='date', how='left'\n",
    "    )\n",
    "    .merge(ordersACummulative, left_on='date', right_on='date', how='left')\n",
    "    .merge(ordersBCummulative, left_on='date', right_on='date', how='left')\n",
    "    .merge(visitorsADaily, left_on='date', right_on='date', how='left')\n",
    "    .merge(visitorsBDaily, left_on='date', right_on='date', how='left')\n",
    "    .merge(visitorsACummulative, left_on='date', right_on='date', how='left')\n",
    "    .merge(visitorsBCummulative, left_on='date', right_on='date', how='left')\n",
    ")\n",
    "\n",
    "print(data.head(5))"
   ]
  },
  {
   "cell_type": "markdown",
   "metadata": {},
   "source": [
    "Создадим переменные ordersByUsersA и ordersByUsersB со столбцами ['user_id', 'orders']. В них для пользователей, которые заказывали хотя бы 1 раз, укажем число совершённых заказов."
   ]
  },
  {
   "cell_type": "code",
   "execution_count": 35,
   "metadata": {},
   "outputs": [],
   "source": [
    "ordersByUsersA = (\n",
    "    orders[orders['group'] == 'A']\n",
    "    .groupby('visitor_id', as_index=False)\n",
    "    .agg({'transaction_id': pd.Series.nunique})\n",
    ")\n",
    "ordersByUsersA.columns = ['user_id', 'orders']\n",
    "\n",
    "ordersByUsersB = (\n",
    "    orders[orders['group'] == 'B']\n",
    "    .groupby('visitor_id', as_index=False)\n",
    "    .agg({'transaction_id': pd.Series.nunique})\n",
    ")\n",
    "ordersByUsersB.columns = ['user_id', 'orders']"
   ]
  },
  {
   "cell_type": "markdown",
   "metadata": {},
   "source": [
    "Объявим переменные sampleA и sampleB, в которых пользователям из разных групп будет соответствовать количество заказов. Тем, кто ничего не заказал, будут соответствовать нули."
   ]
  },
  {
   "cell_type": "code",
   "execution_count": 36,
   "metadata": {},
   "outputs": [],
   "source": [
    "sampleA = pd.concat([ordersByUsersA['orders'],pd.Series(0, index=np.arange(data['visitorsPerDateA'].sum() - len(ordersByUsersA['orders'])), name='orders')],axis=0)\n",
    "\n",
    "sampleB = pd.concat([ordersByUsersB['orders'],pd.Series(0, index=np.arange(data['visitorsPerDateB'].sum() - len(ordersByUsersB['orders'])), name='orders')],axis=0)"
   ]
  },
  {
   "cell_type": "markdown",
   "metadata": {},
   "source": [
    "Сформулируем гипотезы:\n",
    "$\\begin{equation*}\n",
    " \\begin{cases}\n",
    "   H_0 :\\text{Различий в конверсии между группами нет}\\\\\n",
    "   H_1 :\\text{Различия в конверсии между группами есть}\n",
    " \\end{cases}\n",
    "\\end{equation*}$\n",
    "\n",
    "\n",
    "Уровень значимости: $\\alpha = 0.05$"
   ]
  },
  {
   "cell_type": "markdown",
   "metadata": {},
   "source": [
    "Чтобы получить конверсию в группе, поделим сумму заказов на число пользователей — найдём среднее в выборке sampleA и SampleB."
   ]
  },
  {
   "cell_type": "code",
   "execution_count": 37,
   "metadata": {},
   "outputs": [
    {
     "name": "stdout",
     "output_type": "stream",
     "text": [
      "p-value = 0.017\n",
      "Относительный прирост конверсии группы B: 0.138\n"
     ]
    }
   ],
   "source": [
    "import scipy.stats as stats\n",
    "print('p-value =', \"{0:.3f}\".format(stats.mannwhitneyu(sampleA, sampleB)[1]))\n",
    "\n",
    "print('Относительный прирост конверсии группы B:', \"{0:.3f}\".format(sampleB.mean() / sampleA.mean() - 1))"
   ]
  },
  {
   "cell_type": "markdown",
   "metadata": {},
   "source": [
    "P-value меньше 0.05 Поэтому нулевую гипотезу о том, что статистически значимых различий в конверсии между группами нет, отвергаем. Относительный выигрыш группы B равен 13.8%"
   ]
  },
  {
   "cell_type": "markdown",
   "metadata": {},
   "source": [
    "## Посчитаем статистическую значимость различий в среднем чеке заказа между группами по «сырым» данным."
   ]
  },
  {
   "cell_type": "markdown",
   "metadata": {},
   "source": [
    "Сформулируем гипотезы:\n",
    "$\\begin{equation*}\n",
    " \\begin{cases}\n",
    "   H_0 :\\text{Различий в среднем чеке между группами нет}\\\\\n",
    "   H_1 :\\text{Различия в среднем чеке между группами есть}\n",
    " \\end{cases}\n",
    "\\end{equation*}$\n",
    "\n",
    "\n",
    "Уровень значимости: $\\alpha = 0.05$"
   ]
  },
  {
   "cell_type": "markdown",
   "metadata": {},
   "source": [
    "И найдём относительные различия в среднем чеке между группами:"
   ]
  },
  {
   "cell_type": "code",
   "execution_count": 38,
   "metadata": {},
   "outputs": [
    {
     "name": "stdout",
     "output_type": "stream",
     "text": [
      "p-value = 0.729\n",
      "Относительные различия в среднем чеке между группами: 0.259\n"
     ]
    }
   ],
   "source": [
    "print('p-value =','{0:.3f}'.format(stats.mannwhitneyu(orders[orders['group']=='A']['revenue'], orders[orders['group']=='B']['revenue'])[1]))\n",
    "print('Относительные различия в среднем чеке между группами:','{0:.3f}'.format(orders[orders['group']=='B']['revenue'].mean()/orders[orders['group']=='A']['revenue'].mean()-1))"
   ]
  },
  {
   "cell_type": "markdown",
   "metadata": {},
   "source": [
    "P-value значительно больше 0.05. Значит, причин отвергать нулевую гипотезу и считать, что в среднем чеке есть различия, нет. Впрочем, средний чек группы B значительно выше среднего чека группы A."
   ]
  },
  {
   "cell_type": "markdown",
   "metadata": {},
   "source": [
    "## Посчитаем статистическую значимость различий в конверсии между группами по «очищенным» данным."
   ]
  },
  {
   "cell_type": "markdown",
   "metadata": {},
   "source": [
    "Очистим данные.  \n",
    "\n",
    "Примем за аномальных пользователей тех, кто совершил от 4 заказов или совершил заказ дороже 58 233 рублей. Так мы уберём меньше 1% пользователей с наибольшим числом заказов и до 1% пользователей с дорогими заказами. Сделаем срезы пользователей с числом заказов больше 4 и пользователей, совершивших заказы дороже 58 233."
   ]
  },
  {
   "cell_type": "code",
   "execution_count": 39,
   "metadata": {},
   "outputs": [
    {
     "data": {
      "text/plain": [
       "1099     148427295\n",
       "949      887908475\n",
       "744      888512513\n",
       "1103    1164614297\n",
       "1136    1307669133\n",
       "dtype: int64"
      ]
     },
     "metadata": {},
     "output_type": "display_data"
    },
    {
     "name": "stdout",
     "output_type": "stream",
     "text": [
      "(15,)\n"
     ]
    }
   ],
   "source": [
    "usersWithManyOrders = pd.concat(\n",
    "    [ordersByUsersA[ordersByUsersA['orders'] > np.percentile(orders_users['orders'], 99)]['user_id'], ordersByUsersB[ordersByUsersB['orders'] > np.percentile(orders_users['orders'], 99)]['user_id']],\n",
    "    axis=0,\n",
    ")\n",
    "usersWithExpensiveOrders = orders[orders['revenue'] > np.percentile(orders['revenue'], 99)]['visitor_id']\n",
    "abnormalUsers = (\n",
    "    pd.concat([usersWithManyOrders, usersWithExpensiveOrders], axis=0)\n",
    "    .drop_duplicates()\n",
    "    .sort_values()\n",
    ")\n",
    "display(abnormalUsers.head(5))\n",
    "print(abnormalUsers.shape)"
   ]
  },
  {
   "cell_type": "markdown",
   "metadata": {},
   "source": [
    "Всего 15 аномальных пользователей. Узнаем, как их действия повлияли на результаты теста."
   ]
  },
  {
   "cell_type": "markdown",
   "metadata": {},
   "source": [
    "Подготовим выборки количества заказов по пользователям по группам теста:"
   ]
  },
  {
   "cell_type": "code",
   "execution_count": 40,
   "metadata": {},
   "outputs": [],
   "source": [
    "sampleAFiltered = pd.concat(\n",
    "    [\n",
    "        ordersByUsersA[\n",
    "            np.logical_not(ordersByUsersA['user_id'].isin(abnormalUsers))\n",
    "        ]['orders'],\n",
    "        pd.Series( 0,index=np.arange(\n",
    "                data['visitorsPerDateA'].sum() - len(ordersByUsersA['orders'])),\n",
    "            name='orders',),], axis=0,)\n",
    "\n",
    "sampleBFiltered = pd.concat(\n",
    "    [\n",
    "        ordersByUsersB[\n",
    "            np.logical_not(ordersByUsersB['user_id'].isin(abnormalUsers))\n",
    "        ]['orders'],\n",
    "        pd.Series( 0, index=np.arange(data['visitorsPerDateB'].sum() - len(ordersByUsersB['orders'])),\n",
    "            name='orders',), ], axis=0,)"
   ]
  },
  {
   "cell_type": "markdown",
   "metadata": {},
   "source": [
    "Применим статистический критерий Манна-Уитни к полученным выборкам:"
   ]
  },
  {
   "cell_type": "code",
   "execution_count": 41,
   "metadata": {},
   "outputs": [
    {
     "name": "stdout",
     "output_type": "stream",
     "text": [
      "p-value = 0.014\n",
      "Относительный прирост конверсии группы B: 0.153\n"
     ]
    }
   ],
   "source": [
    "print('p-value =','{0:.3f}'.format(stats.mannwhitneyu(sampleAFiltered, sampleBFiltered)[1]))\n",
    "print('Относительный прирост конверсии группы B:','{0:.3f}'.format(sampleBFiltered.mean()/sampleAFiltered.mean()-1))"
   ]
  },
  {
   "cell_type": "markdown",
   "metadata": {},
   "source": [
    "Результаты по конверсии практически не изменились."
   ]
  },
  {
   "cell_type": "markdown",
   "metadata": {},
   "source": [
    "## Посчитаем статистическую значимость различий в среднем чеке заказа между группами по «очищенным» данным."
   ]
  },
  {
   "cell_type": "code",
   "execution_count": 42,
   "metadata": {
    "scrolled": true
   },
   "outputs": [
    {
     "name": "stdout",
     "output_type": "stream",
     "text": [
      "p-value = 0.851\n",
      "Относительные различия в среднем чеке между группами: -0.006\n"
     ]
    }
   ],
   "source": [
    "print('p-value =','{0:.3f}'.format(stats.mannwhitneyu(\n",
    "    orders[np.logical_and(orders['group'] == 'A',np.logical_not(orders['visitor_id'].isin(abnormalUsers)),)]['revenue'],\n",
    "    orders[np.logical_and(orders['group'] == 'B',np.logical_not(orders['visitor_id'].isin(abnormalUsers)),)]['revenue'],\n",
    "        )[1]))\n",
    "\n",
    "print('Относительные различия в среднем чеке между группами:',\"{0:.3f}\".format(\n",
    "        orders[np.logical_and(orders['group'] == 'B', np.logical_not(orders['visitor_id'].isin(abnormalUsers)),\n",
    "            )]['revenue'].mean()\n",
    "        / orders[np.logical_and(orders['group'] == 'A', np.logical_not(orders['visitor_id'].isin(abnormalUsers)),\n",
    "            )]['revenue'].mean() - 1))"
   ]
  },
  {
   "cell_type": "markdown",
   "metadata": {},
   "source": [
    "P-value увеличился, как и в случае с \"сырыми\" данными мы не можем отвергнуть нулевую гипотезу. Но разница между группами в среднем чеке снизилась значительно, теперь группа В даже немного проигрывает, что вполне логично после того как мы убрали выбросы по стоимости заказов."
   ]
  },
  {
   "cell_type": "markdown",
   "metadata": {},
   "source": [
    "# Общий вывод:"
   ]
  },
  {
   "cell_type": "markdown",
   "metadata": {},
   "source": [
    "**Выявленные факты:**\n",
    "- Обнаружено влияние групп друг на друга, найдены пользователи, которые отнесены к двум сравниваемым группам;\n",
    "- Статистически значимое различие по конверсии между группами есть и по «сырым», и по данным после фильтрации аномалий. На имеющихся данных, на уровне значимости 5% есть основания отвергнуть нулевую гипотезу в пользу альтернативной;\n",
    "- Нет статистически значимого различия по среднему чеку между группами ни по «сырым», ни по данным после фильтрации аномалий;\n",
    "- Сравнение относительного изменения конверсии между группами показывает, что результаты группы B лучше группы A;\n",
    "- График различия среднего чека колеблется: что и позволило нам найти аномалии. Сделать из этого графика определённые выводы нельзя. "
   ]
  },
  {
   "cell_type": "markdown",
   "metadata": {},
   "source": [
    "Исходя из обнаруженных фактов, тест следует остановить и признать более успешной группу В, но с оговорками.  \n",
    "Целью изменений было повысить конверсию и средний чек заказа. Из результатов эксперимента можно говорить лишь о статичтически значимых изменениях в конверсии. На средний чек в этом эксперименте повлиять не удалось. В результате принятия успеха группы В мы можем рассчитывать на увеличение выручки за счет увеличения конверсии при том, что средний чек не измениться. Но при всем при этом стоит учитывать допущенную ошибку при делении пользователей на группы. Эта ошибка могла повлиять на статистическую значимость результата."
   ]
  }
 ],
 "metadata": {
  "ExecuteTimeLog": [
   {
    "duration": 2091,
    "start_time": "2022-03-23T15:03:06.059Z"
   },
   {
    "duration": 178,
    "start_time": "2022-03-23T15:03:08.154Z"
   },
   {
    "duration": 0,
    "start_time": "2022-03-23T15:03:08.334Z"
   },
   {
    "duration": 0,
    "start_time": "2022-03-23T15:03:08.336Z"
   },
   {
    "duration": 0,
    "start_time": "2022-03-23T15:03:08.337Z"
   },
   {
    "duration": 0,
    "start_time": "2022-03-23T15:03:08.338Z"
   },
   {
    "duration": 0,
    "start_time": "2022-03-23T15:03:08.339Z"
   },
   {
    "duration": 4,
    "start_time": "2022-03-23T15:03:32.519Z"
   },
   {
    "duration": 59,
    "start_time": "2022-03-23T15:03:32.525Z"
   },
   {
    "duration": 6,
    "start_time": "2022-03-23T15:03:32.586Z"
   },
   {
    "duration": 30,
    "start_time": "2022-03-23T15:03:32.594Z"
   },
   {
    "duration": 71,
    "start_time": "2022-03-23T15:03:32.626Z"
   },
   {
    "duration": 4,
    "start_time": "2022-03-23T15:03:32.699Z"
   },
   {
    "duration": 46,
    "start_time": "2022-03-23T15:03:32.705Z"
   },
   {
    "duration": 5,
    "start_time": "2022-03-23T15:05:40.934Z"
   },
   {
    "duration": 24,
    "start_time": "2022-03-23T15:05:40.942Z"
   },
   {
    "duration": 6,
    "start_time": "2022-03-23T15:05:40.969Z"
   },
   {
    "duration": 12,
    "start_time": "2022-03-23T15:05:40.977Z"
   },
   {
    "duration": 13,
    "start_time": "2022-03-23T15:05:40.995Z"
   },
   {
    "duration": 12,
    "start_time": "2022-03-23T15:05:41.010Z"
   },
   {
    "duration": 18,
    "start_time": "2022-03-23T15:05:41.024Z"
   },
   {
    "duration": 10,
    "start_time": "2022-03-23T15:05:55.675Z"
   },
   {
    "duration": 5,
    "start_time": "2022-03-23T15:06:09.522Z"
   },
   {
    "duration": 31,
    "start_time": "2022-03-23T15:06:09.529Z"
   },
   {
    "duration": 5,
    "start_time": "2022-03-23T15:06:09.562Z"
   },
   {
    "duration": 13,
    "start_time": "2022-03-23T15:06:09.569Z"
   },
   {
    "duration": 23,
    "start_time": "2022-03-23T15:06:09.584Z"
   },
   {
    "duration": 17,
    "start_time": "2022-03-23T15:06:09.609Z"
   },
   {
    "duration": 16,
    "start_time": "2022-03-23T15:06:09.628Z"
   },
   {
    "duration": 9,
    "start_time": "2022-03-23T15:06:22.217Z"
   },
   {
    "duration": 1236,
    "start_time": "2022-03-23T15:07:21.639Z"
   },
   {
    "duration": 23,
    "start_time": "2022-03-23T15:07:22.877Z"
   },
   {
    "duration": 4,
    "start_time": "2022-03-23T15:07:22.902Z"
   },
   {
    "duration": 21,
    "start_time": "2022-03-23T15:07:22.908Z"
   },
   {
    "duration": 68,
    "start_time": "2022-03-23T15:07:22.931Z"
   },
   {
    "duration": 5,
    "start_time": "2022-03-23T15:07:23.001Z"
   },
   {
    "duration": 27,
    "start_time": "2022-03-23T15:07:23.008Z"
   },
   {
    "duration": 37,
    "start_time": "2022-03-23T15:11:06.353Z"
   },
   {
    "duration": 9,
    "start_time": "2022-03-23T15:11:06.392Z"
   },
   {
    "duration": 9,
    "start_time": "2022-03-23T15:11:06.403Z"
   },
   {
    "duration": 9,
    "start_time": "2022-03-23T15:11:06.414Z"
   },
   {
    "duration": 20,
    "start_time": "2022-03-23T15:11:06.426Z"
   },
   {
    "duration": 10,
    "start_time": "2022-03-23T15:11:06.448Z"
   },
   {
    "duration": 17,
    "start_time": "2022-03-23T15:11:06.460Z"
   },
   {
    "duration": 42,
    "start_time": "2022-03-23T15:12:09.699Z"
   },
   {
    "duration": 9,
    "start_time": "2022-03-23T15:12:09.743Z"
   },
   {
    "duration": 10,
    "start_time": "2022-03-23T15:12:09.754Z"
   },
   {
    "duration": 21,
    "start_time": "2022-03-23T15:12:09.766Z"
   },
   {
    "duration": 15,
    "start_time": "2022-03-23T15:12:09.790Z"
   },
   {
    "duration": 12,
    "start_time": "2022-03-23T15:12:09.807Z"
   },
   {
    "duration": 13,
    "start_time": "2022-03-23T15:12:09.822Z"
   },
   {
    "duration": 1355,
    "start_time": "2022-03-23T15:13:23.634Z"
   },
   {
    "duration": 15,
    "start_time": "2022-03-23T15:13:24.991Z"
   },
   {
    "duration": 9,
    "start_time": "2022-03-23T15:13:25.008Z"
   },
   {
    "duration": 16,
    "start_time": "2022-03-23T15:13:25.019Z"
   },
   {
    "duration": 63,
    "start_time": "2022-03-23T15:13:25.038Z"
   },
   {
    "duration": 4,
    "start_time": "2022-03-23T15:13:25.103Z"
   },
   {
    "duration": 21,
    "start_time": "2022-03-23T15:13:25.109Z"
   },
   {
    "duration": 49,
    "start_time": "2022-03-23T15:16:31.906Z"
   },
   {
    "duration": 9,
    "start_time": "2022-03-23T15:16:31.957Z"
   },
   {
    "duration": 26,
    "start_time": "2022-03-23T15:16:31.967Z"
   },
   {
    "duration": 18,
    "start_time": "2022-03-23T15:16:31.995Z"
   },
   {
    "duration": 24,
    "start_time": "2022-03-23T15:16:32.016Z"
   },
   {
    "duration": 153,
    "start_time": "2022-03-23T15:16:32.042Z"
   },
   {
    "duration": 0,
    "start_time": "2022-03-23T15:16:32.197Z"
   },
   {
    "duration": 12,
    "start_time": "2022-03-23T15:19:40.540Z"
   },
   {
    "duration": 3,
    "start_time": "2022-03-23T15:55:54.522Z"
   },
   {
    "duration": 11,
    "start_time": "2022-03-23T15:55:58.350Z"
   },
   {
    "duration": 3,
    "start_time": "2022-03-23T15:56:38.834Z"
   },
   {
    "duration": 14,
    "start_time": "2022-03-23T15:56:41.610Z"
   },
   {
    "duration": 4,
    "start_time": "2022-03-23T15:57:00.211Z"
   },
   {
    "duration": 16,
    "start_time": "2022-03-23T15:57:03.292Z"
   },
   {
    "duration": 17,
    "start_time": "2022-03-23T15:58:17.891Z"
   },
   {
    "duration": 110,
    "start_time": "2022-03-23T16:09:16.079Z"
   },
   {
    "duration": 6,
    "start_time": "2022-03-23T16:09:43.900Z"
   },
   {
    "duration": 6,
    "start_time": "2022-03-23T16:10:32.287Z"
   },
   {
    "duration": 7,
    "start_time": "2022-03-23T16:24:38.910Z"
   },
   {
    "duration": 11,
    "start_time": "2022-03-23T16:26:38.145Z"
   },
   {
    "duration": 12,
    "start_time": "2022-03-23T16:40:08.338Z"
   },
   {
    "duration": 2417,
    "start_time": "2022-03-23T17:14:22.186Z"
   },
   {
    "duration": 2642,
    "start_time": "2022-03-23T17:15:09.505Z"
   },
   {
    "duration": 6,
    "start_time": "2022-03-23T17:16:18.530Z"
   },
   {
    "duration": 54,
    "start_time": "2022-03-23T17:16:28.465Z"
   },
   {
    "duration": 42,
    "start_time": "2022-03-23T17:17:14.273Z"
   },
   {
    "duration": 41,
    "start_time": "2022-03-23T17:17:37.384Z"
   },
   {
    "duration": 9,
    "start_time": "2022-03-23T17:19:46.716Z"
   },
   {
    "duration": 6,
    "start_time": "2022-03-23T17:19:51.367Z"
   },
   {
    "duration": 30,
    "start_time": "2022-03-23T17:19:53.495Z"
   },
   {
    "duration": 7,
    "start_time": "2022-03-23T17:20:08.576Z"
   },
   {
    "duration": 12,
    "start_time": "2022-03-23T17:20:25.631Z"
   },
   {
    "duration": 6,
    "start_time": "2022-03-23T17:20:39.920Z"
   },
   {
    "duration": 4,
    "start_time": "2022-03-23T19:18:04.495Z"
   },
   {
    "duration": 26,
    "start_time": "2022-03-23T19:18:04.502Z"
   },
   {
    "duration": 17,
    "start_time": "2022-03-23T19:18:04.530Z"
   },
   {
    "duration": 40,
    "start_time": "2022-03-23T19:18:04.549Z"
   },
   {
    "duration": 27,
    "start_time": "2022-03-23T19:18:04.591Z"
   },
   {
    "duration": 21,
    "start_time": "2022-03-23T19:18:04.620Z"
   },
   {
    "duration": 21,
    "start_time": "2022-03-23T19:18:04.643Z"
   },
   {
    "duration": 26,
    "start_time": "2022-03-23T19:18:04.666Z"
   },
   {
    "duration": 40,
    "start_time": "2022-03-23T19:18:04.695Z"
   },
   {
    "duration": 17,
    "start_time": "2022-03-23T19:18:04.738Z"
   },
   {
    "duration": 41,
    "start_time": "2022-03-23T19:18:04.757Z"
   },
   {
    "duration": 32,
    "start_time": "2022-03-23T19:18:04.801Z"
   },
   {
    "duration": 20,
    "start_time": "2022-03-23T19:18:04.835Z"
   },
   {
    "duration": 18,
    "start_time": "2022-03-23T19:18:04.857Z"
   },
   {
    "duration": 8,
    "start_time": "2022-03-23T19:18:04.877Z"
   },
   {
    "duration": 27,
    "start_time": "2022-03-23T19:18:04.887Z"
   },
   {
    "duration": 13,
    "start_time": "2022-03-23T19:18:04.916Z"
   },
   {
    "duration": 22,
    "start_time": "2022-03-23T19:18:04.931Z"
   },
   {
    "duration": 5,
    "start_time": "2022-03-23T19:19:48.588Z"
   },
   {
    "duration": 7,
    "start_time": "2022-03-23T19:21:54.902Z"
   },
   {
    "duration": 5,
    "start_time": "2022-03-23T19:21:56.463Z"
   },
   {
    "duration": 3,
    "start_time": "2022-03-23T19:22:53.419Z"
   },
   {
    "duration": 133,
    "start_time": "2022-03-23T19:22:53.424Z"
   },
   {
    "duration": 61,
    "start_time": "2022-03-23T19:22:53.559Z"
   },
   {
    "duration": 127,
    "start_time": "2022-03-23T19:22:53.622Z"
   },
   {
    "duration": 117,
    "start_time": "2022-03-23T19:22:53.752Z"
   },
   {
    "duration": 87,
    "start_time": "2022-03-23T19:22:53.871Z"
   },
   {
    "duration": 213,
    "start_time": "2022-03-23T19:22:53.959Z"
   },
   {
    "duration": 223,
    "start_time": "2022-03-23T19:22:54.174Z"
   },
   {
    "duration": 175,
    "start_time": "2022-03-23T19:22:54.399Z"
   },
   {
    "duration": 136,
    "start_time": "2022-03-23T19:22:54.577Z"
   },
   {
    "duration": 99,
    "start_time": "2022-03-23T19:22:54.715Z"
   },
   {
    "duration": 461,
    "start_time": "2022-03-23T19:22:54.816Z"
   },
   {
    "duration": 354,
    "start_time": "2022-03-23T19:22:55.280Z"
   },
   {
    "duration": 151,
    "start_time": "2022-03-23T19:22:55.636Z"
   },
   {
    "duration": 88,
    "start_time": "2022-03-23T19:22:55.789Z"
   },
   {
    "duration": 68,
    "start_time": "2022-03-23T19:22:55.879Z"
   },
   {
    "duration": 196,
    "start_time": "2022-03-23T19:22:55.950Z"
   },
   {
    "duration": 113,
    "start_time": "2022-03-23T19:22:56.149Z"
   },
   {
    "duration": 137,
    "start_time": "2022-03-23T19:22:56.264Z"
   },
   {
    "duration": 8,
    "start_time": "2022-03-23T19:26:35.574Z"
   },
   {
    "duration": 5,
    "start_time": "2022-03-23T19:26:36.414Z"
   },
   {
    "duration": 8,
    "start_time": "2022-03-23T19:46:58.947Z"
   },
   {
    "duration": 406,
    "start_time": "2022-03-23T19:46:58.957Z"
   },
   {
    "duration": 0,
    "start_time": "2022-03-23T19:46:59.365Z"
   },
   {
    "duration": 0,
    "start_time": "2022-03-23T19:46:59.366Z"
   },
   {
    "duration": 0,
    "start_time": "2022-03-23T19:46:59.368Z"
   },
   {
    "duration": 189,
    "start_time": "2022-03-23T19:49:52.243Z"
   },
   {
    "duration": 293,
    "start_time": "2022-03-23T19:49:52.435Z"
   },
   {
    "duration": 309,
    "start_time": "2022-03-23T19:49:52.730Z"
   },
   {
    "duration": 541,
    "start_time": "2022-03-23T19:49:53.041Z"
   },
   {
    "duration": 194,
    "start_time": "2022-03-23T19:50:55.920Z"
   },
   {
    "duration": 197,
    "start_time": "2022-03-23T19:51:49.265Z"
   },
   {
    "duration": 238,
    "start_time": "2022-03-23T19:52:05.046Z"
   },
   {
    "duration": 182,
    "start_time": "2022-03-23T19:57:38.025Z"
   },
   {
    "duration": 299,
    "start_time": "2022-03-23T20:01:59.374Z"
   },
   {
    "duration": 1425,
    "start_time": "2022-03-24T14:23:32.049Z"
   },
   {
    "duration": 22,
    "start_time": "2022-03-24T14:23:33.477Z"
   },
   {
    "duration": 14,
    "start_time": "2022-03-24T14:23:33.501Z"
   },
   {
    "duration": 10,
    "start_time": "2022-03-24T14:23:33.517Z"
   },
   {
    "duration": 21,
    "start_time": "2022-03-24T14:23:33.530Z"
   },
   {
    "duration": 56,
    "start_time": "2022-03-24T14:23:33.553Z"
   },
   {
    "duration": 11,
    "start_time": "2022-03-24T14:23:33.611Z"
   },
   {
    "duration": 6,
    "start_time": "2022-03-24T14:23:33.623Z"
   },
   {
    "duration": 33,
    "start_time": "2022-03-24T14:23:33.631Z"
   },
   {
    "duration": 17,
    "start_time": "2022-03-24T14:23:33.666Z"
   },
   {
    "duration": 21,
    "start_time": "2022-03-24T14:23:33.686Z"
   },
   {
    "duration": 6,
    "start_time": "2022-03-24T14:23:33.709Z"
   },
   {
    "duration": 21,
    "start_time": "2022-03-24T14:23:33.717Z"
   },
   {
    "duration": 24,
    "start_time": "2022-03-24T14:23:33.741Z"
   },
   {
    "duration": 24,
    "start_time": "2022-03-24T14:23:33.767Z"
   },
   {
    "duration": 8,
    "start_time": "2022-03-24T14:23:33.793Z"
   },
   {
    "duration": 10,
    "start_time": "2022-03-24T14:23:33.802Z"
   },
   {
    "duration": 13,
    "start_time": "2022-03-24T14:23:33.814Z"
   },
   {
    "duration": 142,
    "start_time": "2022-03-24T14:23:33.828Z"
   },
   {
    "duration": 0,
    "start_time": "2022-03-24T14:23:33.971Z"
   },
   {
    "duration": 0,
    "start_time": "2022-03-24T14:23:33.973Z"
   },
   {
    "duration": 0,
    "start_time": "2022-03-24T14:23:33.975Z"
   },
   {
    "duration": 0,
    "start_time": "2022-03-24T14:23:33.976Z"
   },
   {
    "duration": 0,
    "start_time": "2022-03-24T14:23:33.977Z"
   },
   {
    "duration": 0,
    "start_time": "2022-03-24T14:23:33.978Z"
   },
   {
    "duration": 0,
    "start_time": "2022-03-24T14:23:33.979Z"
   },
   {
    "duration": 0,
    "start_time": "2022-03-24T14:23:33.980Z"
   },
   {
    "duration": 8,
    "start_time": "2022-03-24T14:24:05.904Z"
   },
   {
    "duration": 7,
    "start_time": "2022-03-24T14:24:29.458Z"
   },
   {
    "duration": 185,
    "start_time": "2022-03-24T14:24:29.468Z"
   },
   {
    "duration": 133,
    "start_time": "2022-03-24T14:24:29.655Z"
   },
   {
    "duration": 23,
    "start_time": "2022-03-24T14:24:29.790Z"
   },
   {
    "duration": 294,
    "start_time": "2022-03-24T14:24:29.815Z"
   },
   {
    "duration": 215,
    "start_time": "2022-03-24T14:24:30.111Z"
   },
   {
    "duration": 311,
    "start_time": "2022-03-24T14:24:30.328Z"
   },
   {
    "duration": 215,
    "start_time": "2022-03-24T14:24:30.641Z"
   },
   {
    "duration": 317,
    "start_time": "2022-03-24T14:26:32.644Z"
   },
   {
    "duration": 217,
    "start_time": "2022-03-24T14:34:23.198Z"
   },
   {
    "duration": 187,
    "start_time": "2022-03-24T14:37:25.192Z"
   },
   {
    "duration": 379,
    "start_time": "2022-03-24T14:48:23.545Z"
   },
   {
    "duration": 353,
    "start_time": "2022-03-24T14:50:24.379Z"
   },
   {
    "duration": 5,
    "start_time": "2022-03-24T14:58:03.957Z"
   },
   {
    "duration": 4,
    "start_time": "2022-03-24T14:59:24.121Z"
   },
   {
    "duration": 16,
    "start_time": "2022-03-24T15:11:14.748Z"
   },
   {
    "duration": 12,
    "start_time": "2022-03-24T15:12:01.910Z"
   },
   {
    "duration": 14,
    "start_time": "2022-03-24T15:13:33.130Z"
   },
   {
    "duration": 13,
    "start_time": "2022-03-24T15:13:43.276Z"
   },
   {
    "duration": 106,
    "start_time": "2022-03-24T15:14:28.028Z"
   },
   {
    "duration": 118,
    "start_time": "2022-03-24T15:26:27.373Z"
   },
   {
    "duration": 124,
    "start_time": "2022-03-24T15:29:23.470Z"
   },
   {
    "duration": 7,
    "start_time": "2022-03-24T15:55:42.756Z"
   },
   {
    "duration": 136,
    "start_time": "2022-03-24T16:23:08.474Z"
   },
   {
    "duration": 5,
    "start_time": "2022-03-24T17:05:02.871Z"
   },
   {
    "duration": 5,
    "start_time": "2022-03-24T17:05:37.214Z"
   },
   {
    "duration": 6,
    "start_time": "2022-03-24T17:05:55.355Z"
   },
   {
    "duration": 153,
    "start_time": "2022-03-24T17:14:48.928Z"
   },
   {
    "duration": 152,
    "start_time": "2022-03-24T17:15:01.451Z"
   },
   {
    "duration": 141,
    "start_time": "2022-03-24T17:46:17.720Z"
   },
   {
    "duration": 317,
    "start_time": "2022-03-24T17:47:39.862Z"
   },
   {
    "duration": 176,
    "start_time": "2022-03-24T17:57:30.754Z"
   },
   {
    "duration": 7,
    "start_time": "2022-03-24T17:57:33.013Z"
   },
   {
    "duration": 10,
    "start_time": "2022-03-24T17:57:36.229Z"
   },
   {
    "duration": 27,
    "start_time": "2022-03-24T17:58:30.965Z"
   },
   {
    "duration": 13,
    "start_time": "2022-03-24T18:21:08.692Z"
   },
   {
    "duration": 2604,
    "start_time": "2022-03-24T18:38:59.621Z"
   },
   {
    "duration": 2348,
    "start_time": "2022-03-24T18:39:34.314Z"
   },
   {
    "duration": 2734,
    "start_time": "2022-03-24T19:02:57.113Z"
   },
   {
    "duration": 9,
    "start_time": "2022-03-24T19:04:58.462Z"
   },
   {
    "duration": 8,
    "start_time": "2022-03-24T19:05:27.756Z"
   },
   {
    "duration": 2473,
    "start_time": "2022-03-24T19:06:37.486Z"
   },
   {
    "duration": 2737,
    "start_time": "2022-03-24T19:07:43.525Z"
   },
   {
    "duration": 10,
    "start_time": "2022-03-24T19:08:12.288Z"
   },
   {
    "duration": 10,
    "start_time": "2022-03-24T19:13:12.793Z"
   },
   {
    "duration": 41,
    "start_time": "2022-03-24T19:13:19.683Z"
   },
   {
    "duration": 133,
    "start_time": "2022-03-24T19:17:19.114Z"
   },
   {
    "duration": 16,
    "start_time": "2022-03-24T19:20:17.806Z"
   },
   {
    "duration": 2308,
    "start_time": "2022-03-25T18:02:17.662Z"
   },
   {
    "duration": 33,
    "start_time": "2022-03-25T18:02:19.975Z"
   },
   {
    "duration": 24,
    "start_time": "2022-03-25T18:02:20.011Z"
   },
   {
    "duration": 13,
    "start_time": "2022-03-25T18:02:20.038Z"
   },
   {
    "duration": 11,
    "start_time": "2022-03-25T18:02:20.055Z"
   },
   {
    "duration": 128,
    "start_time": "2022-03-25T18:02:20.069Z"
   },
   {
    "duration": 24,
    "start_time": "2022-03-25T18:02:20.200Z"
   },
   {
    "duration": 2356,
    "start_time": "2022-03-25T18:27:03.369Z"
   },
   {
    "duration": 4,
    "start_time": "2022-03-25T18:27:05.729Z"
   },
   {
    "duration": 42,
    "start_time": "2022-03-25T18:27:05.735Z"
   },
   {
    "duration": 22,
    "start_time": "2022-03-25T18:27:05.780Z"
   },
   {
    "duration": 9,
    "start_time": "2022-03-25T18:27:05.805Z"
   },
   {
    "duration": 21,
    "start_time": "2022-03-25T18:27:05.844Z"
   },
   {
    "duration": 6,
    "start_time": "2022-03-25T18:27:33.282Z"
   },
   {
    "duration": 6,
    "start_time": "2022-03-25T18:27:46.864Z"
   },
   {
    "duration": 6,
    "start_time": "2022-03-25T18:30:11.760Z"
   },
   {
    "duration": 5,
    "start_time": "2022-03-25T19:12:58.365Z"
   },
   {
    "duration": 14,
    "start_time": "2022-03-25T19:13:11.317Z"
   },
   {
    "duration": 13,
    "start_time": "2022-03-25T19:16:28.392Z"
   },
   {
    "duration": 9,
    "start_time": "2022-03-25T19:42:59.520Z"
   },
   {
    "duration": 276,
    "start_time": "2022-03-25T19:42:59.533Z"
   },
   {
    "duration": 212,
    "start_time": "2022-03-25T19:42:59.812Z"
   },
   {
    "duration": 36,
    "start_time": "2022-03-25T19:43:00.028Z"
   },
   {
    "duration": 461,
    "start_time": "2022-03-25T19:43:00.067Z"
   },
   {
    "duration": 291,
    "start_time": "2022-03-25T19:48:18.993Z"
   },
   {
    "duration": 334,
    "start_time": "2022-03-25T19:54:22.398Z"
   },
   {
    "duration": 585,
    "start_time": "2022-03-25T20:28:13.076Z"
   },
   {
    "duration": 471,
    "start_time": "2022-03-25T20:31:34.952Z"
   },
   {
    "duration": 313,
    "start_time": "2022-03-25T20:31:54.115Z"
   },
   {
    "duration": 599,
    "start_time": "2022-03-25T20:36:09.376Z"
   },
   {
    "duration": 796,
    "start_time": "2022-03-25T20:36:19.458Z"
   },
   {
    "duration": 76,
    "start_time": "2022-03-26T07:05:37.103Z"
   },
   {
    "duration": 1361,
    "start_time": "2022-03-26T08:58:12.766Z"
   },
   {
    "duration": 11,
    "start_time": "2022-03-26T08:58:14.130Z"
   },
   {
    "duration": 11,
    "start_time": "2022-03-26T08:58:14.143Z"
   },
   {
    "duration": 3,
    "start_time": "2022-03-26T08:58:14.157Z"
   },
   {
    "duration": 10,
    "start_time": "2022-03-26T08:58:14.162Z"
   },
   {
    "duration": 11,
    "start_time": "2022-03-26T08:58:14.174Z"
   },
   {
    "duration": 32,
    "start_time": "2022-03-26T08:58:14.187Z"
   },
   {
    "duration": 30,
    "start_time": "2022-03-26T08:58:14.220Z"
   },
   {
    "duration": 3,
    "start_time": "2022-03-26T08:58:14.251Z"
   },
   {
    "duration": 18,
    "start_time": "2022-03-26T08:58:14.257Z"
   },
   {
    "duration": 15,
    "start_time": "2022-03-26T08:58:14.276Z"
   },
   {
    "duration": 5,
    "start_time": "2022-03-26T08:58:14.309Z"
   },
   {
    "duration": 9,
    "start_time": "2022-03-26T08:58:14.316Z"
   },
   {
    "duration": 7,
    "start_time": "2022-03-26T08:58:14.326Z"
   },
   {
    "duration": 11,
    "start_time": "2022-03-26T08:58:14.334Z"
   },
   {
    "duration": 9,
    "start_time": "2022-03-26T08:58:14.346Z"
   },
   {
    "duration": 9,
    "start_time": "2022-03-26T08:58:14.357Z"
   },
   {
    "duration": 42,
    "start_time": "2022-03-26T08:58:14.368Z"
   },
   {
    "duration": 166,
    "start_time": "2022-03-26T08:58:14.412Z"
   },
   {
    "duration": 121,
    "start_time": "2022-03-26T08:58:14.579Z"
   },
   {
    "duration": 16,
    "start_time": "2022-03-26T08:58:14.708Z"
   },
   {
    "duration": 304,
    "start_time": "2022-03-26T08:58:14.725Z"
   },
   {
    "duration": 211,
    "start_time": "2022-03-26T08:58:15.031Z"
   },
   {
    "duration": 350,
    "start_time": "2022-03-26T08:58:15.243Z"
   },
   {
    "duration": 214,
    "start_time": "2022-03-26T08:58:15.595Z"
   },
   {
    "duration": 336,
    "start_time": "2022-03-26T08:58:15.810Z"
   },
   {
    "duration": 10,
    "start_time": "2022-03-26T08:58:16.148Z"
   },
   {
    "duration": 143,
    "start_time": "2022-03-26T08:58:16.162Z"
   },
   {
    "duration": 4,
    "start_time": "2022-03-26T08:58:16.309Z"
   },
   {
    "duration": 154,
    "start_time": "2022-03-26T08:58:16.315Z"
   },
   {
    "duration": 164,
    "start_time": "2022-03-26T08:58:16.470Z"
   },
   {
    "duration": 4,
    "start_time": "2022-03-26T08:58:16.636Z"
   },
   {
    "duration": 308,
    "start_time": "2022-03-26T08:58:16.641Z"
   },
   {
    "duration": 161,
    "start_time": "2022-03-26T08:58:16.952Z"
   },
   {
    "duration": 6,
    "start_time": "2022-03-26T08:58:17.115Z"
   },
   {
    "duration": 31,
    "start_time": "2022-03-26T08:58:17.122Z"
   },
   {
    "duration": 10,
    "start_time": "2022-03-26T08:58:17.155Z"
   },
   {
    "duration": 11,
    "start_time": "2022-03-26T08:58:17.167Z"
   },
   {
    "duration": 35,
    "start_time": "2022-03-26T08:58:17.179Z"
   },
   {
    "duration": 23,
    "start_time": "2022-03-26T08:58:17.216Z"
   },
   {
    "duration": 13,
    "start_time": "2022-03-26T08:58:17.240Z"
   },
   {
    "duration": 7,
    "start_time": "2022-03-26T09:14:34.877Z"
   },
   {
    "duration": 1198,
    "start_time": "2022-03-26T09:36:55.802Z"
   },
   {
    "duration": 16,
    "start_time": "2022-03-26T09:36:57.002Z"
   },
   {
    "duration": 12,
    "start_time": "2022-03-26T09:36:57.020Z"
   },
   {
    "duration": 3,
    "start_time": "2022-03-26T09:36:57.033Z"
   },
   {
    "duration": 5,
    "start_time": "2022-03-26T09:36:57.039Z"
   },
   {
    "duration": 9,
    "start_time": "2022-03-26T09:36:57.045Z"
   },
   {
    "duration": 10,
    "start_time": "2022-03-26T09:36:57.056Z"
   },
   {
    "duration": 54,
    "start_time": "2022-03-26T09:36:57.068Z"
   },
   {
    "duration": 4,
    "start_time": "2022-03-26T09:36:57.124Z"
   },
   {
    "duration": 24,
    "start_time": "2022-03-26T09:36:57.130Z"
   },
   {
    "duration": 16,
    "start_time": "2022-03-26T09:36:57.156Z"
   },
   {
    "duration": 4,
    "start_time": "2022-03-26T09:36:57.174Z"
   },
   {
    "duration": 10,
    "start_time": "2022-03-26T09:36:57.180Z"
   },
   {
    "duration": 14,
    "start_time": "2022-03-26T09:36:57.208Z"
   },
   {
    "duration": 7,
    "start_time": "2022-03-26T09:36:57.224Z"
   },
   {
    "duration": 10,
    "start_time": "2022-03-26T09:36:57.233Z"
   },
   {
    "duration": 9,
    "start_time": "2022-03-26T09:36:57.245Z"
   },
   {
    "duration": 9,
    "start_time": "2022-03-26T09:36:57.256Z"
   },
   {
    "duration": 5,
    "start_time": "2022-03-26T09:36:57.266Z"
   },
   {
    "duration": 205,
    "start_time": "2022-03-26T09:36:57.273Z"
   },
   {
    "duration": 132,
    "start_time": "2022-03-26T09:36:57.480Z"
   },
   {
    "duration": 14,
    "start_time": "2022-03-26T09:36:57.614Z"
   },
   {
    "duration": 307,
    "start_time": "2022-03-26T09:36:57.630Z"
   },
   {
    "duration": 227,
    "start_time": "2022-03-26T09:36:57.939Z"
   },
   {
    "duration": 323,
    "start_time": "2022-03-26T09:36:58.168Z"
   },
   {
    "duration": 227,
    "start_time": "2022-03-26T09:36:58.493Z"
   },
   {
    "duration": 361,
    "start_time": "2022-03-26T09:36:58.722Z"
   },
   {
    "duration": 13,
    "start_time": "2022-03-26T09:36:59.085Z"
   },
   {
    "duration": 150,
    "start_time": "2022-03-26T09:36:59.100Z"
   },
   {
    "duration": 5,
    "start_time": "2022-03-26T09:36:59.252Z"
   },
   {
    "duration": 160,
    "start_time": "2022-03-26T09:36:59.258Z"
   },
   {
    "duration": 171,
    "start_time": "2022-03-26T09:36:59.420Z"
   },
   {
    "duration": 5,
    "start_time": "2022-03-26T09:36:59.593Z"
   },
   {
    "duration": 292,
    "start_time": "2022-03-26T09:36:59.608Z"
   },
   {
    "duration": 160,
    "start_time": "2022-03-26T09:36:59.901Z"
   },
   {
    "duration": 8,
    "start_time": "2022-03-26T09:37:00.063Z"
   },
   {
    "duration": 51,
    "start_time": "2022-03-26T09:37:00.072Z"
   },
   {
    "duration": 15,
    "start_time": "2022-03-26T09:37:00.125Z"
   },
   {
    "duration": 22,
    "start_time": "2022-03-26T09:37:00.142Z"
   },
   {
    "duration": 9,
    "start_time": "2022-03-26T09:37:00.165Z"
   },
   {
    "duration": 47,
    "start_time": "2022-03-26T09:37:00.178Z"
   },
   {
    "duration": 14,
    "start_time": "2022-03-26T09:37:00.227Z"
   },
   {
    "duration": 1758,
    "start_time": "2022-03-27T07:53:14.016Z"
   },
   {
    "duration": 17,
    "start_time": "2022-03-27T07:53:15.777Z"
   },
   {
    "duration": 16,
    "start_time": "2022-03-27T07:53:15.796Z"
   },
   {
    "duration": 4,
    "start_time": "2022-03-27T07:53:15.814Z"
   },
   {
    "duration": 8,
    "start_time": "2022-03-27T07:53:15.821Z"
   },
   {
    "duration": 43,
    "start_time": "2022-03-27T07:53:15.831Z"
   },
   {
    "duration": 15,
    "start_time": "2022-03-27T07:53:15.877Z"
   },
   {
    "duration": 29,
    "start_time": "2022-03-27T07:53:15.894Z"
   },
   {
    "duration": 4,
    "start_time": "2022-03-27T07:53:15.925Z"
   },
   {
    "duration": 47,
    "start_time": "2022-03-27T07:53:15.931Z"
   },
   {
    "duration": 21,
    "start_time": "2022-03-27T07:53:15.980Z"
   },
   {
    "duration": 8,
    "start_time": "2022-03-27T07:53:16.004Z"
   },
   {
    "duration": 9,
    "start_time": "2022-03-27T07:53:16.015Z"
   },
   {
    "duration": 51,
    "start_time": "2022-03-27T07:53:16.028Z"
   },
   {
    "duration": 7,
    "start_time": "2022-03-27T07:53:16.081Z"
   },
   {
    "duration": 14,
    "start_time": "2022-03-27T07:53:16.090Z"
   },
   {
    "duration": 12,
    "start_time": "2022-03-27T07:53:16.106Z"
   },
   {
    "duration": 14,
    "start_time": "2022-03-27T07:53:16.120Z"
   },
   {
    "duration": 8,
    "start_time": "2022-03-27T07:53:16.135Z"
   },
   {
    "duration": 298,
    "start_time": "2022-03-27T07:53:16.145Z"
   },
   {
    "duration": 199,
    "start_time": "2022-03-27T07:53:16.445Z"
   },
   {
    "duration": 29,
    "start_time": "2022-03-27T07:53:16.646Z"
   },
   {
    "duration": 580,
    "start_time": "2022-03-27T07:53:16.677Z"
   },
   {
    "duration": 309,
    "start_time": "2022-03-27T07:53:17.259Z"
   },
   {
    "duration": 418,
    "start_time": "2022-03-27T07:53:17.573Z"
   },
   {
    "duration": 324,
    "start_time": "2022-03-27T07:53:17.993Z"
   },
   {
    "duration": 477,
    "start_time": "2022-03-27T07:53:18.319Z"
   },
   {
    "duration": 16,
    "start_time": "2022-03-27T07:53:18.798Z"
   },
   {
    "duration": 212,
    "start_time": "2022-03-27T07:53:18.816Z"
   },
   {
    "duration": 5,
    "start_time": "2022-03-27T07:53:19.031Z"
   },
   {
    "duration": 238,
    "start_time": "2022-03-27T07:53:19.038Z"
   },
   {
    "duration": 236,
    "start_time": "2022-03-27T07:53:19.278Z"
   },
   {
    "duration": 6,
    "start_time": "2022-03-27T07:53:33.584Z"
   },
   {
    "duration": 440,
    "start_time": "2022-03-27T07:59:26.353Z"
   },
   {
    "duration": 286,
    "start_time": "2022-03-27T07:59:26.796Z"
   },
   {
    "duration": 9,
    "start_time": "2022-03-27T07:59:27.084Z"
   },
   {
    "duration": 34,
    "start_time": "2022-03-27T07:59:27.095Z"
   },
   {
    "duration": 46,
    "start_time": "2022-03-27T07:59:27.133Z"
   },
   {
    "duration": 16,
    "start_time": "2022-03-27T07:59:27.181Z"
   },
   {
    "duration": 11,
    "start_time": "2022-03-27T07:59:27.199Z"
   },
   {
    "duration": 71,
    "start_time": "2022-03-27T07:59:27.213Z"
   },
   {
    "duration": 22,
    "start_time": "2022-03-27T07:59:27.287Z"
   },
   {
    "duration": 1473,
    "start_time": "2022-03-27T08:17:56.457Z"
   },
   {
    "duration": 12,
    "start_time": "2022-03-27T08:17:57.933Z"
   },
   {
    "duration": 28,
    "start_time": "2022-03-27T08:17:57.947Z"
   },
   {
    "duration": 4,
    "start_time": "2022-03-27T08:17:57.977Z"
   },
   {
    "duration": 9,
    "start_time": "2022-03-27T08:17:57.985Z"
   },
   {
    "duration": 15,
    "start_time": "2022-03-27T08:17:57.996Z"
   },
   {
    "duration": 15,
    "start_time": "2022-03-27T08:17:58.013Z"
   },
   {
    "duration": 52,
    "start_time": "2022-03-27T08:17:58.030Z"
   },
   {
    "duration": 4,
    "start_time": "2022-03-27T08:17:58.084Z"
   },
   {
    "duration": 26,
    "start_time": "2022-03-27T08:17:58.090Z"
   },
   {
    "duration": 22,
    "start_time": "2022-03-27T08:17:58.118Z"
   },
   {
    "duration": 8,
    "start_time": "2022-03-27T08:17:58.173Z"
   },
   {
    "duration": 10,
    "start_time": "2022-03-27T08:17:58.184Z"
   },
   {
    "duration": 14,
    "start_time": "2022-03-27T08:17:58.199Z"
   },
   {
    "duration": 6,
    "start_time": "2022-03-27T08:17:58.215Z"
   },
   {
    "duration": 15,
    "start_time": "2022-03-27T08:17:58.223Z"
   },
   {
    "duration": 13,
    "start_time": "2022-03-27T08:17:58.275Z"
   },
   {
    "duration": 15,
    "start_time": "2022-03-27T08:17:58.290Z"
   },
   {
    "duration": 7,
    "start_time": "2022-03-27T08:17:58.308Z"
   },
   {
    "duration": 309,
    "start_time": "2022-03-27T08:17:58.317Z"
   },
   {
    "duration": 207,
    "start_time": "2022-03-27T08:17:58.629Z"
   },
   {
    "duration": 36,
    "start_time": "2022-03-27T08:17:58.839Z"
   },
   {
    "duration": 455,
    "start_time": "2022-03-27T08:17:58.878Z"
   },
   {
    "duration": 314,
    "start_time": "2022-03-27T08:17:59.335Z"
   },
   {
    "duration": 404,
    "start_time": "2022-03-27T08:17:59.652Z"
   },
   {
    "duration": 329,
    "start_time": "2022-03-27T08:18:00.059Z"
   },
   {
    "duration": 419,
    "start_time": "2022-03-27T08:18:00.390Z"
   },
   {
    "duration": 16,
    "start_time": "2022-03-27T08:18:00.811Z"
   },
   {
    "duration": 216,
    "start_time": "2022-03-27T08:18:00.829Z"
   },
   {
    "duration": 5,
    "start_time": "2022-03-27T08:18:01.047Z"
   },
   {
    "duration": 229,
    "start_time": "2022-03-27T08:18:01.054Z"
   },
   {
    "duration": 242,
    "start_time": "2022-03-27T08:18:01.285Z"
   },
   {
    "duration": 5,
    "start_time": "2022-03-27T08:18:01.530Z"
   },
   {
    "duration": 465,
    "start_time": "2022-03-27T08:18:01.538Z"
   },
   {
    "duration": 304,
    "start_time": "2022-03-27T08:18:02.005Z"
   },
   {
    "duration": 9,
    "start_time": "2022-03-27T08:18:02.311Z"
   },
   {
    "duration": 53,
    "start_time": "2022-03-27T08:18:02.321Z"
   },
   {
    "duration": 13,
    "start_time": "2022-03-27T08:18:02.377Z"
   },
   {
    "duration": 16,
    "start_time": "2022-03-27T08:18:02.392Z"
   },
   {
    "duration": 13,
    "start_time": "2022-03-27T08:18:02.411Z"
   },
   {
    "duration": 69,
    "start_time": "2022-03-27T08:18:02.431Z"
   },
   {
    "duration": 19,
    "start_time": "2022-03-27T08:18:02.502Z"
   }
  ],
  "kernelspec": {
   "display_name": "Python 3 (ipykernel)",
   "language": "python",
   "name": "python3"
  },
  "language_info": {
   "codemirror_mode": {
    "name": "ipython",
    "version": 3
   },
   "file_extension": ".py",
   "mimetype": "text/x-python",
   "name": "python",
   "nbconvert_exporter": "python",
   "pygments_lexer": "ipython3",
   "version": "3.9.7"
  },
  "toc": {
   "base_numbering": 1,
   "nav_menu": {},
   "number_sections": true,
   "sideBar": true,
   "skip_h1_title": false,
   "title_cell": "Table of Contents",
   "title_sidebar": "Contents",
   "toc_cell": false,
   "toc_position": {
    "height": "calc(100% - 180px)",
    "left": "10px",
    "top": "150px",
    "width": "324.903px"
   },
   "toc_section_display": true,
   "toc_window_display": false
  }
 },
 "nbformat": 4,
 "nbformat_minor": 2
}
