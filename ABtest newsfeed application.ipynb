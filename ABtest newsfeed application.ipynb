{
 "cells": [
  {
   "cell_type": "markdown",
   "id": "96ac7a47-68df-4d55-9d7c-4a7accde433c",
   "metadata": {},
   "source": [
    "# Анализ А/В теста"
   ]
  },
  {
   "cell_type": "markdown",
   "id": "fb470d4b-4fb3-49ea-96d2-db5a32d46dae",
   "metadata": {},
   "source": [
    "**Описание теста:**\n",
    "- Тестируется новый метод рекомендации постов;\n",
    "- Время проведения эксперимента с `\"2022-05-24\"` по `\"2022-05-30\"` включительно;\n",
    "- В группе `2` был использован один из новых алгоритмов рекомендации постов, группа `1` использовалась в качестве контроля;\n",
    "- Основная гипотеза заключается в том, что новый алгоритм во 2-й группе приведет к увеличению CTR."
   ]
  },
  {
   "cell_type": "markdown",
   "id": "7a45f1b3-d2ee-4c24-838c-418610492d97",
   "metadata": {},
   "source": [
    "## Загрузим данные по экспериментальным группам"
   ]
  },
  {
   "cell_type": "code",
   "execution_count": 1,
   "id": "79e635f8-df24-4a97-8e5f-d5c8299b1e8b",
   "metadata": {},
   "outputs": [
    {
     "data": {
      "text/html": [
       "<div>\n",
       "<style scoped>\n",
       "    .dataframe tbody tr th:only-of-type {\n",
       "        vertical-align: middle;\n",
       "    }\n",
       "\n",
       "    .dataframe tbody tr th {\n",
       "        vertical-align: top;\n",
       "    }\n",
       "\n",
       "    .dataframe thead th {\n",
       "        text-align: right;\n",
       "    }\n",
       "</style>\n",
       "<table border=\"1\" class=\"dataframe\">\n",
       "  <thead>\n",
       "    <tr style=\"text-align: right;\">\n",
       "      <th></th>\n",
       "      <th>exp_group</th>\n",
       "      <th>user_id</th>\n",
       "      <th>likes</th>\n",
       "      <th>views</th>\n",
       "      <th>ctr</th>\n",
       "    </tr>\n",
       "  </thead>\n",
       "  <tbody>\n",
       "    <tr>\n",
       "      <th>0</th>\n",
       "      <td>1</td>\n",
       "      <td>109963</td>\n",
       "      <td>3</td>\n",
       "      <td>15</td>\n",
       "      <td>0.200000</td>\n",
       "    </tr>\n",
       "    <tr>\n",
       "      <th>1</th>\n",
       "      <td>1</td>\n",
       "      <td>26117</td>\n",
       "      <td>32</td>\n",
       "      <td>141</td>\n",
       "      <td>0.226950</td>\n",
       "    </tr>\n",
       "    <tr>\n",
       "      <th>2</th>\n",
       "      <td>1</td>\n",
       "      <td>138232</td>\n",
       "      <td>18</td>\n",
       "      <td>73</td>\n",
       "      <td>0.246575</td>\n",
       "    </tr>\n",
       "    <tr>\n",
       "      <th>3</th>\n",
       "      <td>1</td>\n",
       "      <td>26295</td>\n",
       "      <td>33</td>\n",
       "      <td>122</td>\n",
       "      <td>0.270492</td>\n",
       "    </tr>\n",
       "    <tr>\n",
       "      <th>4</th>\n",
       "      <td>1</td>\n",
       "      <td>18392</td>\n",
       "      <td>7</td>\n",
       "      <td>32</td>\n",
       "      <td>0.218750</td>\n",
       "    </tr>\n",
       "  </tbody>\n",
       "</table>\n",
       "</div>"
      ],
      "text/plain": [
       "   exp_group  user_id  likes  views       ctr\n",
       "0          1   109963      3     15  0.200000\n",
       "1          1    26117     32    141  0.226950\n",
       "2          1   138232     18     73  0.246575\n",
       "3          1    26295     33    122  0.270492\n",
       "4          1    18392      7     32  0.218750"
      ]
     },
     "execution_count": 1,
     "metadata": {},
     "output_type": "execute_result"
    }
   ],
   "source": [
    "import pandas as pd\n",
    "import pandahouse as ph\n",
    "import numpy as np\n",
    "import seaborn as sns\n",
    "import matplotlib.pyplot as plt\n",
    "from scipy import stats\n",
    "import hashlib\n",
    "import warnings\n",
    "warnings.filterwarnings(\"ignore\")\n",
    "\n",
    "connection = {'host': 'https://clickhouse.lab.karpov.courses',\n",
    "                      'database':'simulator_20220620',\n",
    "                      'user':'student', \n",
    "                      'password':'dpo_python_2020'\n",
    "                     }\n",
    "\n",
    "q = \"\"\"\n",
    "SELECT exp_group,\n",
    "user_id,\n",
    "sum(action = 'like') as likes,\n",
    "sum(action = 'view') as views,\n",
    "likes/views as ctr\n",
    "FROM {db}.feed_actions\n",
    "WHERE toDate(time) between '2022-05-24' and '2022-05-30'\n",
    "and exp_group in (2,1)\n",
    "GROUP BY exp_group, user_id\n",
    "\"\"\"\n",
    "df = ph.read_clickhouse(q, connection=connection)\n",
    "df.head()"
   ]
  },
  {
   "cell_type": "code",
   "execution_count": 2,
   "id": "c01ae869-0630-46eb-ba12-db55a409f384",
   "metadata": {},
   "outputs": [
    {
     "data": {
      "text/plain": [
       "exp_group\n",
       "1    10079\n",
       "2     9952\n",
       "Name: user_id, dtype: int64"
      ]
     },
     "execution_count": 2,
     "metadata": {},
     "output_type": "execute_result"
    }
   ],
   "source": [
    "df.groupby('exp_group').user_id.count()"
   ]
  },
  {
   "cell_type": "markdown",
   "id": "1decf7c5-559f-469a-9744-fc8c0df4fb5c",
   "metadata": {},
   "source": [
    "Количество пользователей в группах отличается не значительно."
   ]
  },
  {
   "cell_type": "markdown",
   "id": "a3d75263-9082-4582-9747-5a3de04a4f1a",
   "metadata": {},
   "source": [
    "**Сравним распределения CTR по группам**"
   ]
  },
  {
   "cell_type": "code",
   "execution_count": 3,
   "id": "a3f3227c-1d2d-4830-a030-e888e1cefc27",
   "metadata": {},
   "outputs": [
    {
     "data": {
      "image/png": "[encoded data removed]",
      "text/plain": [
       "<Figure size 842.4x595.44 with 1 Axes>"
      ]
     },
     "metadata": {},
     "output_type": "display_data"
    }
   ],
   "source": [
    "sns.set(rc={'figure.figsize':(11.7,8.27)})\n",
    "\n",
    "sns.histplot(data = df, x='ctr', hue='exp_group', palette = ['r', 'b'], alpha=0.5, kde=False);"
   ]
  },
  {
   "cell_type": "markdown",
   "id": "30466dd9-485c-4f68-8fbf-a2e45698b1ad",
   "metadata": {},
   "source": [
    "Форма распределения метрики для группы 2 значительно отличается от распределения этого показателя для группы 1. Если для группы 1 распределение больше напоминает нормальное: унимодальное и симметричное, то распределение для группы 2 бимодальное. Такое распределение для 2 группы может говорить о том, что новый алгоритм рекомендаций постов вызвал противоположный эффект у экспериментальной группы, т.е. новый алгоритм для одной части пользователей \"снизил\" интерес к постам, а для остальной части наоборот \"повысил\" интерес к постам. Либо такое распределение может говорить об ошибках разбиения пользователей.  Но мы проверяли нашу систему сплитования, она должна работать корректно."
   ]
  },
  {
   "cell_type": "markdown",
   "id": "5c70c42b-7aea-4453-aeb1-16b86ab25bf2",
   "metadata": {},
   "source": [
    "Глядя на график мы можем сделать предположение, что CTR в наших группах отличается. Проверим это утверждение с помощью статистических тестов."
   ]
  },
  {
   "cell_type": "markdown",
   "id": "65ad7c72-8cfc-4f51-9ce5-de92e7537bd2",
   "metadata": {},
   "source": [
    "## Выбор метода тестирования"
   ]
  },
  {
   "cell_type": "markdown",
   "id": "e9fbb059-98fb-4e3c-bb22-c8f218e48c45",
   "metadata": {},
   "source": [
    "- **Тест t-критерий Стьюдента** в данном случе нам не подойдет т.к. распределение 2 группы бимодально и имеет достаточно много выбросов.  \n",
    "- **Тест Манна-Уитни** можно использовать т.к. не сильно привязан к распределению метрики.  \n",
    "- **t-тест на сглаженном CTR** следует применять с осторожностью , т.к. не имеет теоретической обоснованности.   \n",
    "- **Пуассоновский бутстреп** тоже вполне подходит, выборки достаточно большие и есть достаточный разброс значений.  \n",
    "- **Бакетное преобразование** можно использовать на наших данных."
   ]
  },
  {
   "cell_type": "markdown",
   "id": "7067bb38-8742-4430-8a07-1b0089b5c687",
   "metadata": {},
   "source": [
    "## Проведем сравнения всеми указанными тестами"
   ]
  },
  {
   "cell_type": "markdown",
   "id": "cad5d388-6fed-4b83-9814-f280b8e5b358",
   "metadata": {
    "tags": []
   },
   "source": [
    "### Тест t-критерий Стьюдента"
   ]
  },
  {
   "cell_type": "markdown",
   "id": "4e362848-e47a-490b-88bd-5973363a26ff",
   "metadata": {},
   "source": [
    "Сформулируем гипотезы:\n",
    "$\\begin{equation*}\n",
    " \\begin{cases}\n",
    "   H_0 :\\text{Различий в среднем CTR между группами нет}\\\\\n",
    "   H_1 :\\text{Различия в среднем CTR между группами есть}\n",
    " \\end{cases}\n",
    "\\end{equation*}$\n",
    "\n",
    "Уровень значимости: $\\alpha = 0.05$"
   ]
  },
  {
   "cell_type": "code",
   "execution_count": 4,
   "id": "ccce5a3f-fc4a-41f9-ba25-557234b9f25a",
   "metadata": {},
   "outputs": [
    {
     "name": "stdout",
     "output_type": "stream",
     "text": [
      "p-значение:  0.4780623130874935\n",
      "Не получилось отвергнуть нулевую гипотезу\n"
     ]
    }
   ],
   "source": [
    "alpha = .05\n",
    "\n",
    "results = stats.ttest_ind(df[df.exp_group == 1].ctr,\n",
    "                df[df.exp_group == 2].ctr,\n",
    "                equal_var=False)\n",
    "\n",
    "print('p-значение: ', results.pvalue)\n",
    "\n",
    "if results.pvalue < alpha:\n",
    "    print(\"Отвергаем нулевую гипотезу\")\n",
    "else:\n",
    "    print(\"Не получилось отвергнуть нулевую гипотезу\")"
   ]
  },
  {
   "cell_type": "markdown",
   "id": "f76cb25d-8f58-418d-8d90-3dedf9aaf414",
   "metadata": {},
   "source": [
    "**Вывод:**  \n",
    "На анализируемых данных t-критерий Стьюдента не выявил статистически значимых различий. Но мы должны относится к этому результату скептически, так как распределение показателя группы имело достаточное количество выбросов справа, что повлияло на результаты."
   ]
  },
  {
   "cell_type": "markdown",
   "id": "d05ef60d-c1ba-4261-a5a5-644a2b5f5d3f",
   "metadata": {},
   "source": [
    "### Тест Манна-Уитни"
   ]
  },
  {
   "cell_type": "markdown",
   "id": "581571b7-90f4-488d-977d-36a75b18f50a",
   "metadata": {},
   "source": [
    "Сформулируем гипотезы:\n",
    "$\\begin{equation*}\n",
    " \\begin{cases}\n",
    "   H_0 :\\text{Распределение CTR в первой выборке соответствует распределению CTR во второй выборке}\\\\\n",
    "   H_1 :\\text{Распределение CTR в первой выборке НЕ соответствует распределению CTR во второй выборке}\n",
    " \\end{cases}\n",
    "\\end{equation*}$\n",
    "\n",
    "\n",
    "Уровень значимости: $\\alpha = 0.05$"
   ]
  },
  {
   "cell_type": "code",
   "execution_count": 5,
   "id": "4b85e146-40f4-44ca-b6f2-02ad2182391c",
   "metadata": {},
   "outputs": [
    {
     "name": "stdout",
     "output_type": "stream",
     "text": [
      "p-значение:  6.0376484617779035e-56\n",
      "Отвергаем нулевую гипотезу\n"
     ]
    }
   ],
   "source": [
    "alpha = .05\n",
    "\n",
    "results = stats.mannwhitneyu(df[df.exp_group == 1].ctr, df[df.exp_group == 2].ctr)\n",
    "\n",
    "print('p-значение: ', results.pvalue)\n",
    "\n",
    "if results.pvalue < alpha:\n",
    "    print(\"Отвергаем нулевую гипотезу\")\n",
    "else:\n",
    "    print(\"Не получилось отвергнуть нулевую гипотезу\")"
   ]
  },
  {
   "cell_type": "markdown",
   "id": "c1bc9534-a400-4339-8ca8-fb3e6e934e37",
   "metadata": {},
   "source": [
    "**Вывод:**  \n",
    "Тест Манна-Уитни в свою очередь выявил статистически значимое отличие в группах. Не смотря на то что отличия в средних нет (как показал т-тест), различия в распределениях тест Манна-Уитни обнаружил. Действительно распределения на графике отличаются."
   ]
  },
  {
   "cell_type": "markdown",
   "id": "8edb0271-40a2-45e6-b3ed-38703673dd01",
   "metadata": {},
   "source": [
    "### t-тест на сглаженном CTR"
   ]
  },
  {
   "cell_type": "markdown",
   "id": "b62558aa-9269-4b68-af85-156ccca75d3b",
   "metadata": {},
   "source": [
    "Сгладим оценки CTR:"
   ]
  },
  {
   "cell_type": "code",
   "execution_count": 6,
   "id": "ab4cc00e-b716-4a54-bccf-171a388f0b2a",
   "metadata": {},
   "outputs": [],
   "source": [
    "def get_smothed_ctr(user_likes, user_views, global_ctr, alpha):\n",
    "    smothed_ctr = (user_likes + alpha * global_ctr) / (user_views + alpha)\n",
    "    return smothed_ctr"
   ]
  },
  {
   "cell_type": "code",
   "execution_count": 7,
   "id": "753ccb70-93de-4eb5-860c-fbfa8f757a3a",
   "metadata": {},
   "outputs": [],
   "source": [
    "global_ctr_1 = df[df.exp_group == 1].likes.sum()/df[df.exp_group == 1].views.sum()\n",
    "global_ctr_2 = df[df.exp_group == 2].likes.sum()/df[df.exp_group == 2].views.sum()"
   ]
  },
  {
   "cell_type": "code",
   "execution_count": 8,
   "id": "fcc6b89f-81c3-453d-a3a6-fe849a5e2269",
   "metadata": {},
   "outputs": [],
   "source": [
    "group1 = df[df.exp_group == 1].copy()\n",
    "group2 = df[df.exp_group == 2].copy()"
   ]
  },
  {
   "cell_type": "code",
   "execution_count": 9,
   "id": "2bf2cc56-ee47-4b49-bfba-e97cc599bc1a",
   "metadata": {},
   "outputs": [
    {
     "data": {
      "image/png": "[encoded data removed]",
      "text/plain": [
       "<Figure size 842.4x595.44 with 1 Axes>"
      ]
     },
     "metadata": {},
     "output_type": "display_data"
    }
   ],
   "source": [
    "# применим функцию к каждому юзеру группы функцию, установим значение гиперпарамметра - \"5\".\n",
    "group1['smothed_ctr'] = df.apply(lambda x: get_smothed_ctr(x['likes'], x['views'], global_ctr_1, 5), axis=1)\n",
    "sns.histplot(group1['smothed_ctr']); # построим распределение поюзерного сглаженного CTR"
   ]
  },
  {
   "cell_type": "markdown",
   "id": "3b299476-7434-4ae4-a682-f55c71a7dd85",
   "metadata": {},
   "source": [
    "Повторим все тоже самое для второй группы:"
   ]
  },
  {
   "cell_type": "code",
   "execution_count": 10,
   "id": "47428d42-3cbe-4686-a58d-abb572ed4c99",
   "metadata": {},
   "outputs": [
    {
     "data": {
      "image/png": "[encoded data removed]",
      "text/plain": [
       "<Figure size 842.4x595.44 with 1 Axes>"
      ]
     },
     "metadata": {},
     "output_type": "display_data"
    }
   ],
   "source": [
    "group2['smothed_ctr'] = df.apply(lambda x: get_smothed_ctr(x['likes'], x['views'], global_ctr_2, 5), axis=1)\n",
    "sns.histplot(group2['smothed_ctr']);"
   ]
  },
  {
   "cell_type": "markdown",
   "id": "e0c82fbf-fadf-4cd5-ab19-d96bccd9a076",
   "metadata": {},
   "source": [
    "**А теперь проверим с помощью t-теста полученные данные:**"
   ]
  },
  {
   "cell_type": "code",
   "execution_count": 11,
   "id": "1fdeeba6-ea88-4077-9b7a-ea095618da12",
   "metadata": {},
   "outputs": [
    {
     "name": "stdout",
     "output_type": "stream",
     "text": [
      "p-значение:  0.0223769815558559\n",
      "Отвергаем нулевую гипотезу\n"
     ]
    }
   ],
   "source": [
    "alpha = .05\n",
    "\n",
    "results = stats.ttest_ind(group1['smothed_ctr'],\n",
    "                group2['smothed_ctr'],\n",
    "                equal_var=False)\n",
    "\n",
    "print('p-значение: ', results.pvalue)\n",
    "\n",
    "if results.pvalue < alpha:\n",
    "    print(\"Отвергаем нулевую гипотезу\")\n",
    "else:\n",
    "    print(\"Не получилось отвергнуть нулевую гипотезу\")"
   ]
  },
  {
   "cell_type": "markdown",
   "id": "68c46529-b1b8-47ef-addb-a32b33abb4f6",
   "metadata": {},
   "source": [
    "**Вывод:**  \n",
    "На сглаженном CTR t-тест показал другой результат. В этом случае мы отвергаем Нулевую гипотезу."
   ]
  },
  {
   "cell_type": "markdown",
   "id": "1e9cc605-334d-4f0e-8f0f-96759392cbba",
   "metadata": {},
   "source": [
    "### Пуассоновский бутстреп"
   ]
  },
  {
   "cell_type": "markdown",
   "id": "aad1b15d-6fa2-4fb0-9b61-8748420964fc",
   "metadata": {},
   "source": [
    "Обьявим функцию для расчета глобального CTR для каждой повыборки"
   ]
  },
  {
   "cell_type": "code",
   "execution_count": 12,
   "id": "e8dbbba6-a5ed-4ddd-b225-19056e433200",
   "metadata": {},
   "outputs": [],
   "source": [
    "def bootstrap(likes1, views1, likes2, views2, n_bootstrap=2000):\n",
    "    poisson_bootstraps1 = stats.poisson(1).rvs((n_bootstrap, len(likes1))).astype(np.int64)\n",
    "    poisson_bootstraps2 = stats.poisson(1).rvs((n_bootstrap, len(likes2))).astype(np.int64)\n",
    "    globalCTR1 = (poisson_bootstraps1*likes1).sum(axis=1)/(poisson_bootstraps1*views1).sum(axis=1)\n",
    "    globalCTR2 = (poisson_bootstraps2*likes2).sum(axis=1)/(poisson_bootstraps2*views2).sum(axis=1)\n",
    "    return globalCTR1, globalCTR2"
   ]
  },
  {
   "cell_type": "code",
   "execution_count": 13,
   "id": "ecf3cf75-a6d1-4f51-abf3-4d5df4fe3fc1",
   "metadata": {},
   "outputs": [],
   "source": [
    "likes1 = df[df.exp_group == 1].likes.to_numpy()\n",
    "views1 = df[df.exp_group == 1].views.to_numpy()\n",
    "likes2 = df[df.exp_group == 2].likes.to_numpy()\n",
    "views2 = df[df.exp_group == 2].views.to_numpy()"
   ]
  },
  {
   "cell_type": "code",
   "execution_count": 14,
   "id": "4b02e4c2-e12b-42e9-b453-399f45fac090",
   "metadata": {},
   "outputs": [],
   "source": [
    "ctr1, ctr2 = bootstrap(likes1, views1, likes2, views2)"
   ]
  },
  {
   "cell_type": "code",
   "execution_count": 15,
   "id": "b16d5bf9-73d2-44ea-982b-3d0474151509",
   "metadata": {},
   "outputs": [
    {
     "data": {
      "image/png": "[encoded data removed]",
      "text/plain": [
       "<Figure size 842.4x595.44 with 1 Axes>"
      ]
     },
     "metadata": {},
     "output_type": "display_data"
    }
   ],
   "source": [
    "sns.histplot(ctr1)\n",
    "sns.histplot(ctr2, color=\"red\");"
   ]
  },
  {
   "cell_type": "markdown",
   "id": "324e3cc5-46dd-4bc4-bc73-392fc2008957",
   "metadata": {},
   "source": [
    "Мы видим что в результате сравнения групповой CTR в тестовой группе оказался ниже, чем в контрольной. Распределния достаточно близки, но не пересекаются."
   ]
  },
  {
   "cell_type": "markdown",
   "id": "9639f7fc-028b-4849-97bd-261de71ab3ea",
   "metadata": {},
   "source": [
    "Построим распределение разницы между глобальными CTR"
   ]
  },
  {
   "cell_type": "code",
   "execution_count": 16,
   "id": "53cd8d83-67dd-4616-a92f-4a1092fd764f",
   "metadata": {},
   "outputs": [
    {
     "data": {
      "image/png": "[encoded data removed]",
      "text/plain": [
       "<Figure size 842.4x595.44 with 1 Axes>"
      ]
     },
     "metadata": {},
     "output_type": "display_data"
    }
   ],
   "source": [
    "sns.histplot(ctr2 - ctr1);"
   ]
  },
  {
   "cell_type": "markdown",
   "id": "39cb1e88-cc33-49a6-8cbd-e0c154e2d07e",
   "metadata": {},
   "source": [
    "**Вывод:**  \n",
    "Распределение разницы лежит слева от нуля, что позволяет нам сказать что CTR группы `2` меньше CTR группы `1`."
   ]
  },
  {
   "cell_type": "markdown",
   "id": "a8813b3a-ed76-41f4-b084-cce6bc017a0c",
   "metadata": {},
   "source": [
    "### Бакетное преобразование"
   ]
  },
  {
   "cell_type": "markdown",
   "id": "17905cab-91be-4b05-88fe-32cdf7fc0ff5",
   "metadata": {},
   "source": [
    "Применим бакетное преобразование к нашим выборкам. Разделимнаши выборки на 50 корзин, и для каждой корзины посчитаем CTR."
   ]
  },
  {
   "cell_type": "code",
   "execution_count": 17,
   "id": "052f1275-e798-4e90-ae61-a8d8726a230b",
   "metadata": {},
   "outputs": [
    {
     "data": {
      "text/html": [
       "<div>\n",
       "<style scoped>\n",
       "    .dataframe tbody tr th:only-of-type {\n",
       "        vertical-align: middle;\n",
       "    }\n",
       "\n",
       "    .dataframe tbody tr th {\n",
       "        vertical-align: top;\n",
       "    }\n",
       "\n",
       "    .dataframe thead th {\n",
       "        text-align: right;\n",
       "    }\n",
       "</style>\n",
       "<table border=\"1\" class=\"dataframe\">\n",
       "  <thead>\n",
       "    <tr style=\"text-align: right;\">\n",
       "      <th></th>\n",
       "      <th>exp_group</th>\n",
       "      <th>bucket</th>\n",
       "      <th>bucket_ctr</th>\n",
       "    </tr>\n",
       "  </thead>\n",
       "  <tbody>\n",
       "    <tr>\n",
       "      <th>0</th>\n",
       "      <td>1</td>\n",
       "      <td>0</td>\n",
       "      <td>0.196481</td>\n",
       "    </tr>\n",
       "    <tr>\n",
       "      <th>1</th>\n",
       "      <td>2</td>\n",
       "      <td>0</td>\n",
       "      <td>0.194262</td>\n",
       "    </tr>\n",
       "    <tr>\n",
       "      <th>2</th>\n",
       "      <td>1</td>\n",
       "      <td>1</td>\n",
       "      <td>0.211887</td>\n",
       "    </tr>\n",
       "    <tr>\n",
       "      <th>3</th>\n",
       "      <td>2</td>\n",
       "      <td>1</td>\n",
       "      <td>0.215328</td>\n",
       "    </tr>\n",
       "    <tr>\n",
       "      <th>4</th>\n",
       "      <td>1</td>\n",
       "      <td>2</td>\n",
       "      <td>0.206271</td>\n",
       "    </tr>\n",
       "  </tbody>\n",
       "</table>\n",
       "</div>"
      ],
      "text/plain": [
       "   exp_group  bucket  bucket_ctr\n",
       "0          1       0    0.196481\n",
       "1          2       0    0.194262\n",
       "2          1       1    0.211887\n",
       "3          2       1    0.215328\n",
       "4          1       2    0.206271"
      ]
     },
     "execution_count": 17,
     "metadata": {},
     "output_type": "execute_result"
    }
   ],
   "source": [
    "q = \"\"\"\n",
    "SELECT exp_group, bucket,\n",
    "    sum(likes)/sum(views) as bucket_ctr    \n",
    "    FROM (SELECT exp_group,\n",
    "    xxHash64(user_id)%50 as bucket,\n",
    "    user_id,\n",
    "    sum(action = 'like') as likes,\n",
    "    sum(action = 'view') as views,\n",
    "    likes/views as ctr\n",
    "FROM {db}.feed_actions\n",
    "WHERE toDate(time) between '2022-05-24' and '2022-05-30'\n",
    "and exp_group in (1,2)\n",
    "GROUP BY exp_group, bucket, user_id)\n",
    "GROUP BY exp_group, bucket\n",
    "\"\"\"\n",
    "dfb = ph.read_clickhouse(q, connection=connection)\n",
    "dfb.head()"
   ]
  },
  {
   "cell_type": "markdown",
   "id": "24d66ca6-6c7e-4a1b-b9a3-a300724091a3",
   "metadata": {},
   "source": [
    "**Поверх такого преобразования применим тест Манна-Уитни:**"
   ]
  },
  {
   "cell_type": "code",
   "execution_count": 18,
   "id": "56547859-60d1-4175-a967-0a36ab3951c9",
   "metadata": {},
   "outputs": [
    {
     "name": "stdout",
     "output_type": "stream",
     "text": [
      "p-значение:  1.9203931776114523e-05\n",
      "Отвергаем нулевую гипотезу\n"
     ]
    }
   ],
   "source": [
    "alpha = .05\n",
    "\n",
    "results = stats.mannwhitneyu(dfb[dfb.exp_group == 1].bucket_ctr, dfb[df.exp_group == 2].bucket_ctr, alternative = 'two-sided')\n",
    "\n",
    "print('p-значение: ', results.pvalue)\n",
    "\n",
    "if results.pvalue < alpha:\n",
    "    print(\"Отвергаем нулевую гипотезу\")\n",
    "else:\n",
    "    print(\"Не получилось отвергнуть нулевую гипотезу\")"
   ]
  },
  {
   "cell_type": "markdown",
   "id": "8e64ea7f-43ee-4d8c-a13e-1fcde87e9b77",
   "metadata": {},
   "source": [
    "Посмотрим на распределение бакетного CTR в подвыборках:"
   ]
  },
  {
   "cell_type": "code",
   "execution_count": 19,
   "id": "811cefbd-b9d6-4ae9-8ccb-9187c2d0ccc9",
   "metadata": {},
   "outputs": [
    {
     "data": {
      "image/png": "[encoded data removed]",
      "text/plain": [
       "<Figure size 842.4x595.44 with 1 Axes>"
      ]
     },
     "metadata": {},
     "output_type": "display_data"
    }
   ],
   "source": [
    "sns.histplot(dfb[dfb.exp_group == 1].bucket_ctr);"
   ]
  },
  {
   "cell_type": "code",
   "execution_count": 20,
   "id": "db8672b8-79cc-46bb-a07f-9a96419d29cf",
   "metadata": {},
   "outputs": [
    {
     "data": {
      "image/png": "[encoded data removed]",
      "text/plain": [
       "<Figure size 842.4x595.44 with 1 Axes>"
      ]
     },
     "metadata": {},
     "output_type": "display_data"
    }
   ],
   "source": [
    "sns.histplot(dfb[dfb.exp_group == 2].bucket_ctr);"
   ]
  },
  {
   "cell_type": "markdown",
   "id": "a1d8b483-6f42-428a-9cbb-d426491b5575",
   "metadata": {},
   "source": [
    "Распределения метрик стали немного напоминать нормальное распределение. Можно попробовать приметить Тест t-критерий Стьюдента."
   ]
  },
  {
   "cell_type": "code",
   "execution_count": 21,
   "id": "24ae2981-fba0-4ed6-98ee-611599ecc6a7",
   "metadata": {},
   "outputs": [
    {
     "name": "stdout",
     "output_type": "stream",
     "text": [
      "p-значение:  3.4455951649945907e-07\n",
      "Отвергаем нулевую гипотезу\n"
     ]
    }
   ],
   "source": [
    "alpha = .05\n",
    "\n",
    "results = stats.ttest_ind(dfb[dfb.exp_group == 1].bucket_ctr, dfb[dfb.exp_group == 2].bucket_ctr, equal_var = False)\n",
    "\n",
    "print('p-значение: ', results.pvalue)\n",
    "\n",
    "if results.pvalue < alpha:\n",
    "    print(\"Отвергаем нулевую гипотезу\")\n",
    "else:\n",
    "    print(\"Не получилось отвергнуть нулевую гипотезу\")"
   ]
  },
  {
   "cell_type": "markdown",
   "id": "3d195295-205e-4a71-abaa-3ec936acab3e",
   "metadata": {},
   "source": [
    "**Вывод:**  \n",
    "И t-тест и тест Манна-Уитни после бакетного преобразования определили статистически значимые различия."
   ]
  },
  {
   "cell_type": "code",
   "execution_count": 22,
   "id": "17ee1346-aee2-41e3-8f8c-a3652d65905e",
   "metadata": {},
   "outputs": [
    {
     "data": {
      "image/png": "[encoded data removed]",
      "text/plain": [
       "<Figure size 842.4x595.44 with 1 Axes>"
      ]
     },
     "metadata": {},
     "output_type": "display_data"
    }
   ],
   "source": [
    "sns.histplot(dfb[dfb.exp_group == 1].bucket_ctr)\n",
    "sns.histplot(dfb[dfb.exp_group == 2].bucket_ctr, color='r');"
   ]
  },
  {
   "cell_type": "markdown",
   "id": "2b15cece-4f8d-4747-9372-ea03ca07e221",
   "metadata": {},
   "source": [
    "Распределение бакетного CTR тестовой группы расположено левее ближе к нулю. Чтоговорит о том что показатель 2-йгруппы меньше, чем у 1-й."
   ]
  },
  {
   "cell_type": "markdown",
   "id": "b825b837-04d7-44f5-bf58-075c8f27acee",
   "metadata": {
    "tags": []
   },
   "source": [
    "## Общий вывод"
   ]
  },
  {
   "cell_type": "markdown",
   "id": "ba368265-4f34-464a-8aa3-2fc2ff875741",
   "metadata": {},
   "source": [
    "Мы провели анализ результатов А/В теста разными тестами, и почти все тесты указали на наличие значимой разницы. Основываясь на результатах тестов и построенных графиках можно сказать, что новая система рекомендаций во 2-й группе не привела к увеличению CTR. И если мы посмотрим на результаты Пауссоновского Бутстрепа, то можем сказать, что CTR во 2-группе снизился.   \n",
    "Мы видим, что для определенной части пользователей новая система \"повысила\" интерес к постам, но в целом для группы эффект оказался отрицательным. Определенно стоит дополнительно исследовать новую систему рекомендаций и понять за счет чего для части пользователей она оказалась более эффективной. Но не стоит раскатывать новый алгоритм в этом виде на всех новых пользователей."
   ]
  }
 ],
 "metadata": {
  "kernelspec": {
   "display_name": "Python 3 (ipykernel)",
   "language": "python",
   "name": "python3"
  },
  "language_info": {
   "codemirror_mode": {
    "name": "ipython",
    "version": 3
   },
   "file_extension": ".py",
   "mimetype": "text/x-python",
   "name": "python",
   "nbconvert_exporter": "python",
   "pygments_lexer": "ipython3",
   "version": "3.8.10"
  },
  "toc-autonumbering": false
 },
 "nbformat": 4,
 "nbformat_minor": 5
}
