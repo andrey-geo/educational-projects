{
 "cells": [
  {
   "cell_type": "markdown",
   "metadata": {},
   "source": [
    "# Исследование компьютерных игр\n",
    "\n",
    "_____\n",
    "**Описание исследования.**\n",
    "Для интернет-магазина «Стримчик», который продаёт по всему миру компьютерные игры, нужно провести исследования компьютерных игр.\n",
    "\n",
    "_____\n",
    "**Цель исследования.**\n",
    "    \n",
    "Из открытых источников доступны исторические данные о продажах игр, оценки пользователей и экспертов, жанры и платформы (например, Xboxили PlayStation). Нам необходимо выявить определяющие успешность игры закономерности. Это позволит сделать ставку на потенциально популярный продукт и спланировать рекламные кампании.\n",
    "    \n",
    "_____\n",
    "**Задачи исследования.**\n",
    "\n",
    "- Изучить как менялись продажи по платформам. Определить платформы с наибольшими суммарными продажами и постройте распределение по годам;\n",
    "- Понять какие платформы лидируют по продажам. Выбрать несколько потенциально прибыльных платформ;\n",
    "- Определить как влияют на продажи внутри одной популярной платформы отзывы пользователей и критиков;\n",
    "- Изучить общее распределение игр по жанрам;\n",
    "- Составить портрет пользователя каждого региона;\n",
    "- Проверить гипотезы:\n",
    " * Средние пользовательские рейтинги платформ Xbox One и PC одинаковые;\n",
    " * Средние пользовательские рейтинги жанров Action (англ. «действие», экшен-игры) и Sports (англ. «спортивные соревнования») разные.\n",
    "\n",
    "_____\n",
    "**Исходные данные.**\n",
    "    \n",
    "- Таблица с информацией о продажах игр."
   ]
  },
  {
   "cell_type": "markdown",
   "metadata": {},
   "source": [
    "## Изучение данных из файла"
   ]
  },
  {
   "cell_type": "code",
   "execution_count": 1,
   "metadata": {},
   "outputs": [],
   "source": [
    "import pandas as pd\n",
    "import matplotlib.pyplot as plt\n",
    "import seaborn as sns\n",
    "from scipy import stats as st\n",
    "import numpy as np\n",
    "\n",
    "pd.set_option('display.float_format', '{:.2f}'.format)\n",
    "import warnings\n",
    "warnings.filterwarnings(\"ignore\")\n",
    "\n",
    "data = pd.read_csv('games.csv')"
   ]
  },
  {
   "cell_type": "code",
   "execution_count": 2,
   "metadata": {},
   "outputs": [
    {
     "data": {
      "text/html": [
       "<div>\n",
       "<style scoped>\n",
       "    .dataframe tbody tr th:only-of-type {\n",
       "        vertical-align: middle;\n",
       "    }\n",
       "\n",
       "    .dataframe tbody tr th {\n",
       "        vertical-align: top;\n",
       "    }\n",
       "\n",
       "    .dataframe thead th {\n",
       "        text-align: right;\n",
       "    }\n",
       "</style>\n",
       "<table border=\"1\" class=\"dataframe\">\n",
       "  <thead>\n",
       "    <tr style=\"text-align: right;\">\n",
       "      <th></th>\n",
       "      <th>Name</th>\n",
       "      <th>Platform</th>\n",
       "      <th>Year_of_Release</th>\n",
       "      <th>Genre</th>\n",
       "      <th>NA_sales</th>\n",
       "      <th>EU_sales</th>\n",
       "      <th>JP_sales</th>\n",
       "      <th>Other_sales</th>\n",
       "      <th>Critic_Score</th>\n",
       "      <th>User_Score</th>\n",
       "      <th>Rating</th>\n",
       "    </tr>\n",
       "  </thead>\n",
       "  <tbody>\n",
       "    <tr>\n",
       "      <th>0</th>\n",
       "      <td>Wii Sports</td>\n",
       "      <td>Wii</td>\n",
       "      <td>2006.00</td>\n",
       "      <td>Sports</td>\n",
       "      <td>41.36</td>\n",
       "      <td>28.96</td>\n",
       "      <td>3.77</td>\n",
       "      <td>8.45</td>\n",
       "      <td>76.00</td>\n",
       "      <td>8</td>\n",
       "      <td>E</td>\n",
       "    </tr>\n",
       "    <tr>\n",
       "      <th>1</th>\n",
       "      <td>Super Mario Bros.</td>\n",
       "      <td>NES</td>\n",
       "      <td>1985.00</td>\n",
       "      <td>Platform</td>\n",
       "      <td>29.08</td>\n",
       "      <td>3.58</td>\n",
       "      <td>6.81</td>\n",
       "      <td>0.77</td>\n",
       "      <td>NaN</td>\n",
       "      <td>NaN</td>\n",
       "      <td>NaN</td>\n",
       "    </tr>\n",
       "    <tr>\n",
       "      <th>2</th>\n",
       "      <td>Mario Kart Wii</td>\n",
       "      <td>Wii</td>\n",
       "      <td>2008.00</td>\n",
       "      <td>Racing</td>\n",
       "      <td>15.68</td>\n",
       "      <td>12.76</td>\n",
       "      <td>3.79</td>\n",
       "      <td>3.29</td>\n",
       "      <td>82.00</td>\n",
       "      <td>8.3</td>\n",
       "      <td>E</td>\n",
       "    </tr>\n",
       "    <tr>\n",
       "      <th>3</th>\n",
       "      <td>Wii Sports Resort</td>\n",
       "      <td>Wii</td>\n",
       "      <td>2009.00</td>\n",
       "      <td>Sports</td>\n",
       "      <td>15.61</td>\n",
       "      <td>10.93</td>\n",
       "      <td>3.28</td>\n",
       "      <td>2.95</td>\n",
       "      <td>80.00</td>\n",
       "      <td>8</td>\n",
       "      <td>E</td>\n",
       "    </tr>\n",
       "    <tr>\n",
       "      <th>4</th>\n",
       "      <td>Pokemon Red/Pokemon Blue</td>\n",
       "      <td>GB</td>\n",
       "      <td>1996.00</td>\n",
       "      <td>Role-Playing</td>\n",
       "      <td>11.27</td>\n",
       "      <td>8.89</td>\n",
       "      <td>10.22</td>\n",
       "      <td>1.00</td>\n",
       "      <td>NaN</td>\n",
       "      <td>NaN</td>\n",
       "      <td>NaN</td>\n",
       "    </tr>\n",
       "  </tbody>\n",
       "</table>\n",
       "</div>"
      ],
      "text/plain": [
       "                       Name Platform  Year_of_Release         Genre  NA_sales  \\\n",
       "0                Wii Sports      Wii          2006.00        Sports     41.36   \n",
       "1         Super Mario Bros.      NES          1985.00      Platform     29.08   \n",
       "2            Mario Kart Wii      Wii          2008.00        Racing     15.68   \n",
       "3         Wii Sports Resort      Wii          2009.00        Sports     15.61   \n",
       "4  Pokemon Red/Pokemon Blue       GB          1996.00  Role-Playing     11.27   \n",
       "\n",
       "   EU_sales  JP_sales  Other_sales  Critic_Score User_Score Rating  \n",
       "0     28.96      3.77         8.45         76.00          8      E  \n",
       "1      3.58      6.81         0.77           NaN        NaN    NaN  \n",
       "2     12.76      3.79         3.29         82.00        8.3      E  \n",
       "3     10.93      3.28         2.95         80.00          8      E  \n",
       "4      8.89     10.22         1.00           NaN        NaN    NaN  "
      ]
     },
     "execution_count": 2,
     "metadata": {},
     "output_type": "execute_result"
    }
   ],
   "source": [
    "data.head()"
   ]
  },
  {
   "cell_type": "code",
   "execution_count": 3,
   "metadata": {},
   "outputs": [
    {
     "name": "stdout",
     "output_type": "stream",
     "text": [
      "<class 'pandas.core.frame.DataFrame'>\n",
      "RangeIndex: 16715 entries, 0 to 16714\n",
      "Data columns (total 11 columns):\n",
      " #   Column           Non-Null Count  Dtype  \n",
      "---  ------           --------------  -----  \n",
      " 0   Name             16713 non-null  object \n",
      " 1   Platform         16715 non-null  object \n",
      " 2   Year_of_Release  16446 non-null  float64\n",
      " 3   Genre            16713 non-null  object \n",
      " 4   NA_sales         16715 non-null  float64\n",
      " 5   EU_sales         16715 non-null  float64\n",
      " 6   JP_sales         16715 non-null  float64\n",
      " 7   Other_sales      16715 non-null  float64\n",
      " 8   Critic_Score     8137 non-null   float64\n",
      " 9   User_Score       10014 non-null  object \n",
      " 10  Rating           9949 non-null   object \n",
      "dtypes: float64(6), object(5)\n",
      "memory usage: 1.4+ MB\n"
     ]
    }
   ],
   "source": [
    "data.info()"
   ]
  },
  {
   "cell_type": "markdown",
   "metadata": {},
   "source": [
    "### Вывод"
   ]
  },
  {
   "cell_type": "markdown",
   "metadata": {},
   "source": [
    "Описание данных:  \n",
    "- Name — название игры\n",
    "- Platform — платформа\n",
    "- Year_of_Release — год выпуска\n",
    "- Genre — жанр игры\n",
    "- NA_sales — продажи в Северной Америке (миллионы проданных копий)\n",
    "- EU_sales — продажи в Европе (миллионы проданных копий)\n",
    "- JP_sales — продажи в Японии (миллионы проданных копий)\n",
    "- Other_sales — продажи в других странах (миллионы проданных копий)\n",
    "- Critic_Score — оценка критиков (максимум 100)\n",
    "- User_Score — оценка пользователей (максимум 10)\n",
    "- Rating — рейтинг от организации ESRB (англ. Entertainment Software Rating\n",
    "- Board). Эта ассоциация определяет рейтинг компьютерных игр и присваивает\n",
    "им подходящую возрастную категорию.\n",
    "\n",
    "\n",
    "В столбце оценка пользователей встречается значение `tbd`: TBD - аббревиатура от английского To Be Determined (будет определено) или To Be Decided (будет решено). Используется, если какая-то информация еще не определена или решение по вопросу не принято."
   ]
  },
  {
   "cell_type": "markdown",
   "metadata": {},
   "source": [
    "## Предобработка данных"
   ]
  },
  {
   "cell_type": "markdown",
   "metadata": {},
   "source": [
    "### Заменим названия столбцов (приведем к нижнему регистру):"
   ]
  },
  {
   "cell_type": "code",
   "execution_count": 4,
   "metadata": {},
   "outputs": [
    {
     "data": {
      "text/plain": [
       "Index(['name', 'platform', 'year_of_release', 'genre', 'na_sales', 'eu_sales',\n",
       "       'jp_sales', 'other_sales', 'critic_score', 'user_score', 'rating'],\n",
       "      dtype='object')"
      ]
     },
     "execution_count": 4,
     "metadata": {},
     "output_type": "execute_result"
    }
   ],
   "source": [
    "data.columns = data.columns.str.lower()\n",
    "data.columns"
   ]
  },
  {
   "cell_type": "markdown",
   "metadata": {},
   "source": [
    "### Заполним пропуски"
   ]
  },
  {
   "cell_type": "code",
   "execution_count": 5,
   "metadata": {},
   "outputs": [
    {
     "data": {
      "text/plain": [
       "name                  2\n",
       "platform              0\n",
       "year_of_release     269\n",
       "genre                 2\n",
       "na_sales              0\n",
       "eu_sales              0\n",
       "jp_sales              0\n",
       "other_sales           0\n",
       "critic_score       8578\n",
       "user_score         6701\n",
       "rating             6766\n",
       "dtype: int64"
      ]
     },
     "execution_count": 5,
     "metadata": {},
     "output_type": "execute_result"
    }
   ],
   "source": [
    "data.isna().sum()"
   ]
  },
  {
   "cell_type": "markdown",
   "metadata": {},
   "source": [
    " У нас есть два пропуска в столбце название игры и жанр игры. Их очень мало оставим эти пропуски.  \n",
    " А пропуски в столбце год выпуска заполним нулем. При необходимости будем фильтровать по значению."
   ]
  },
  {
   "cell_type": "code",
   "execution_count": 6,
   "metadata": {},
   "outputs": [
    {
     "data": {
      "text/plain": [
       "('Пропуски после:', 0)"
      ]
     },
     "execution_count": 6,
     "metadata": {},
     "output_type": "execute_result"
    }
   ],
   "source": [
    "data['year_of_release'] = data['year_of_release'].fillna(0)\n",
    "'Пропуски после:', data['year_of_release'].isna().sum()"
   ]
  },
  {
   "cell_type": "markdown",
   "metadata": {},
   "source": [
    "Пропуски в столбцах с рейтингом игр, оценками пользователей и критиков заполнить не получиться. Оценки игр это субъективные данные. А рейтинг игры это значение, присваиваемое конкретной организацией, которое должно быть точно определено."
   ]
  },
  {
   "cell_type": "markdown",
   "metadata": {},
   "source": [
    "В столбце рейтинг ESRB заменим пропуски на значение \"unknown\" (неизвестно), так как в данном случае значения категориальные, а пропуски полностью случайные. "
   ]
  },
  {
   "cell_type": "code",
   "execution_count": 7,
   "metadata": {},
   "outputs": [],
   "source": [
    "data['rating'] = data['rating'].fillna(\"unknown\")"
   ]
  },
  {
   "cell_type": "code",
   "execution_count": 8,
   "metadata": {},
   "outputs": [
    {
     "data": {
      "text/plain": [
       "unknown    6766\n",
       "E          3990\n",
       "T          2961\n",
       "M          1563\n",
       "E10+       1420\n",
       "EC            8\n",
       "K-A           3\n",
       "RP            3\n",
       "AO            1\n",
       "Name: rating, dtype: int64"
      ]
     },
     "execution_count": 8,
     "metadata": {},
     "output_type": "execute_result"
    }
   ],
   "source": [
    "data['rating'].value_counts()"
   ]
  },
  {
   "cell_type": "markdown",
   "metadata": {},
   "source": [
    "### Замена типа данных"
   ]
  },
  {
   "cell_type": "code",
   "execution_count": 9,
   "metadata": {},
   "outputs": [
    {
     "data": {
      "text/plain": [
       "name                object\n",
       "platform            object\n",
       "year_of_release    float64\n",
       "genre               object\n",
       "na_sales           float64\n",
       "eu_sales           float64\n",
       "jp_sales           float64\n",
       "other_sales        float64\n",
       "critic_score       float64\n",
       "user_score          object\n",
       "rating              object\n",
       "dtype: object"
      ]
     },
     "execution_count": 9,
     "metadata": {},
     "output_type": "execute_result"
    }
   ],
   "source": [
    "data.dtypes"
   ]
  },
  {
   "cell_type": "markdown",
   "metadata": {},
   "source": [
    "В столбце оценка пользователей встречается значение `tbd`. То есть для части игр оценка пользователя еще не определена."
   ]
  },
  {
   "cell_type": "code",
   "execution_count": 10,
   "metadata": {},
   "outputs": [
    {
     "data": {
      "text/plain": [
       "tbd    2424\n",
       "7.8     324\n",
       "8       290\n",
       "8.2     282\n",
       "8.3     254\n",
       "       ... \n",
       "1.1       2\n",
       "1.9       2\n",
       "9.6       2\n",
       "0         1\n",
       "9.7       1\n",
       "Name: user_score, Length: 96, dtype: int64"
      ]
     },
     "execution_count": 10,
     "metadata": {},
     "output_type": "execute_result"
    }
   ],
   "source": [
    "data['user_score'].value_counts()"
   ]
  },
  {
   "cell_type": "markdown",
   "metadata": {},
   "source": [
    "Чтобы преобразовать данные в столбце в числовые нам необходимо заменить текстовые значения на число. Так как оценка пользователей не может быть меньше нуля, то заменим текстовые значения на \"-1\". В дальнейшем при необходимости сможем фильтровать эти значения."
   ]
  },
  {
   "cell_type": "code",
   "execution_count": 11,
   "metadata": {},
   "outputs": [],
   "source": [
    "data.loc[data['user_score'] == 'tbd', 'user_score'] = np.nan\n",
    "data['user_score'] = data['user_score'].astype('float')"
   ]
  },
  {
   "cell_type": "markdown",
   "metadata": {},
   "source": [
    "Год выпуска игры должен быть целым числом. Заменим также тип данных в этом солбце."
   ]
  },
  {
   "cell_type": "code",
   "execution_count": 12,
   "metadata": {},
   "outputs": [],
   "source": [
    "data['year_of_release'] = data['year_of_release'].astype('int')"
   ]
  },
  {
   "cell_type": "code",
   "execution_count": 13,
   "metadata": {},
   "outputs": [
    {
     "data": {
      "text/plain": [
       "name                object\n",
       "platform            object\n",
       "year_of_release      int32\n",
       "genre               object\n",
       "na_sales           float64\n",
       "eu_sales           float64\n",
       "jp_sales           float64\n",
       "other_sales        float64\n",
       "critic_score       float64\n",
       "user_score         float64\n",
       "rating              object\n",
       "dtype: object"
      ]
     },
     "execution_count": 13,
     "metadata": {},
     "output_type": "execute_result"
    }
   ],
   "source": [
    "data.dtypes"
   ]
  },
  {
   "cell_type": "markdown",
   "metadata": {},
   "source": [
    "### Поиск дубликатов"
   ]
  },
  {
   "cell_type": "markdown",
   "metadata": {},
   "source": [
    "Посмотрим есть ли дубликаты по строкам таблицы."
   ]
  },
  {
   "cell_type": "code",
   "execution_count": 14,
   "metadata": {},
   "outputs": [
    {
     "data": {
      "text/plain": [
       "0"
      ]
     },
     "execution_count": 14,
     "metadata": {},
     "output_type": "execute_result"
    }
   ],
   "source": [
    "data.duplicated().sum()"
   ]
  },
  {
   "cell_type": "markdown",
   "metadata": {},
   "source": [
    "Проверим дубликаты в названии игр."
   ]
  },
  {
   "cell_type": "code",
   "execution_count": 15,
   "metadata": {},
   "outputs": [
    {
     "data": {
      "text/plain": [
       "Need for Speed: Most Wanted                         12\n",
       "Ratatouille                                          9\n",
       "LEGO Marvel Super Heroes                             9\n",
       "FIFA 14                                              9\n",
       "Madden NFL 07                                        9\n",
       "                                                    ..\n",
       "Jewels of the Tropical Lost Island                   1\n",
       "Sherlock Holmes and the Mystery of Osborne House     1\n",
       "The King of Fighters '95 (CD)                        1\n",
       "Megamind: Mega Team Unite                            1\n",
       "Haitaka no Psychedelica                              1\n",
       "Name: name, Length: 11559, dtype: int64"
      ]
     },
     "execution_count": 15,
     "metadata": {},
     "output_type": "execute_result"
    }
   ],
   "source": [
    "data['name'].value_counts()"
   ]
  },
  {
   "cell_type": "code",
   "execution_count": 16,
   "metadata": {},
   "outputs": [
    {
     "data": {
      "text/html": [
       "<div>\n",
       "<style scoped>\n",
       "    .dataframe tbody tr th:only-of-type {\n",
       "        vertical-align: middle;\n",
       "    }\n",
       "\n",
       "    .dataframe tbody tr th {\n",
       "        vertical-align: top;\n",
       "    }\n",
       "\n",
       "    .dataframe thead th {\n",
       "        text-align: right;\n",
       "    }\n",
       "</style>\n",
       "<table border=\"1\" class=\"dataframe\">\n",
       "  <thead>\n",
       "    <tr style=\"text-align: right;\">\n",
       "      <th></th>\n",
       "      <th>name</th>\n",
       "      <th>platform</th>\n",
       "      <th>year_of_release</th>\n",
       "      <th>genre</th>\n",
       "      <th>na_sales</th>\n",
       "      <th>eu_sales</th>\n",
       "      <th>jp_sales</th>\n",
       "      <th>other_sales</th>\n",
       "      <th>critic_score</th>\n",
       "      <th>user_score</th>\n",
       "      <th>rating</th>\n",
       "    </tr>\n",
       "  </thead>\n",
       "  <tbody>\n",
       "    <tr>\n",
       "      <th>126</th>\n",
       "      <td>FIFA 14</td>\n",
       "      <td>PS3</td>\n",
       "      <td>2013</td>\n",
       "      <td>Sports</td>\n",
       "      <td>0.78</td>\n",
       "      <td>4.24</td>\n",
       "      <td>0.07</td>\n",
       "      <td>1.37</td>\n",
       "      <td>86.00</td>\n",
       "      <td>4.30</td>\n",
       "      <td>E</td>\n",
       "    </tr>\n",
       "    <tr>\n",
       "      <th>271</th>\n",
       "      <td>FIFA 14</td>\n",
       "      <td>X360</td>\n",
       "      <td>2013</td>\n",
       "      <td>Sports</td>\n",
       "      <td>0.92</td>\n",
       "      <td>2.89</td>\n",
       "      <td>0.01</td>\n",
       "      <td>0.40</td>\n",
       "      <td>84.00</td>\n",
       "      <td>4.20</td>\n",
       "      <td>E</td>\n",
       "    </tr>\n",
       "    <tr>\n",
       "      <th>469</th>\n",
       "      <td>FIFA 14</td>\n",
       "      <td>PS4</td>\n",
       "      <td>2013</td>\n",
       "      <td>Sports</td>\n",
       "      <td>0.61</td>\n",
       "      <td>1.85</td>\n",
       "      <td>0.11</td>\n",
       "      <td>0.44</td>\n",
       "      <td>87.00</td>\n",
       "      <td>6.30</td>\n",
       "      <td>E</td>\n",
       "    </tr>\n",
       "    <tr>\n",
       "      <th>1753</th>\n",
       "      <td>FIFA 14</td>\n",
       "      <td>XOne</td>\n",
       "      <td>2013</td>\n",
       "      <td>Sports</td>\n",
       "      <td>0.41</td>\n",
       "      <td>0.66</td>\n",
       "      <td>0.00</td>\n",
       "      <td>0.09</td>\n",
       "      <td>88.00</td>\n",
       "      <td>5.80</td>\n",
       "      <td>E</td>\n",
       "    </tr>\n",
       "    <tr>\n",
       "      <th>4699</th>\n",
       "      <td>FIFA 14</td>\n",
       "      <td>PSV</td>\n",
       "      <td>2013</td>\n",
       "      <td>Sports</td>\n",
       "      <td>0.08</td>\n",
       "      <td>0.23</td>\n",
       "      <td>0.01</td>\n",
       "      <td>0.09</td>\n",
       "      <td>NaN</td>\n",
       "      <td>1.80</td>\n",
       "      <td>E</td>\n",
       "    </tr>\n",
       "    <tr>\n",
       "      <th>4809</th>\n",
       "      <td>FIFA 14</td>\n",
       "      <td>PC</td>\n",
       "      <td>2013</td>\n",
       "      <td>Sports</td>\n",
       "      <td>0.01</td>\n",
       "      <td>0.36</td>\n",
       "      <td>0.00</td>\n",
       "      <td>0.03</td>\n",
       "      <td>87.00</td>\n",
       "      <td>4.60</td>\n",
       "      <td>E</td>\n",
       "    </tr>\n",
       "    <tr>\n",
       "      <th>4985</th>\n",
       "      <td>FIFA 14</td>\n",
       "      <td>Wii</td>\n",
       "      <td>2013</td>\n",
       "      <td>Sports</td>\n",
       "      <td>0.00</td>\n",
       "      <td>0.36</td>\n",
       "      <td>0.00</td>\n",
       "      <td>0.02</td>\n",
       "      <td>NaN</td>\n",
       "      <td>4.30</td>\n",
       "      <td>E</td>\n",
       "    </tr>\n",
       "    <tr>\n",
       "      <th>6871</th>\n",
       "      <td>FIFA 14</td>\n",
       "      <td>3DS</td>\n",
       "      <td>2013</td>\n",
       "      <td>Sports</td>\n",
       "      <td>0.00</td>\n",
       "      <td>0.22</td>\n",
       "      <td>0.00</td>\n",
       "      <td>0.01</td>\n",
       "      <td>NaN</td>\n",
       "      <td>NaN</td>\n",
       "      <td>unknown</td>\n",
       "    </tr>\n",
       "    <tr>\n",
       "      <th>7875</th>\n",
       "      <td>FIFA 14</td>\n",
       "      <td>PSP</td>\n",
       "      <td>2013</td>\n",
       "      <td>Sports</td>\n",
       "      <td>0.00</td>\n",
       "      <td>0.15</td>\n",
       "      <td>0.00</td>\n",
       "      <td>0.04</td>\n",
       "      <td>NaN</td>\n",
       "      <td>3.40</td>\n",
       "      <td>E</td>\n",
       "    </tr>\n",
       "  </tbody>\n",
       "</table>\n",
       "</div>"
      ],
      "text/plain": [
       "         name platform  year_of_release   genre  na_sales  eu_sales  jp_sales  \\\n",
       "126   FIFA 14      PS3             2013  Sports      0.78      4.24      0.07   \n",
       "271   FIFA 14     X360             2013  Sports      0.92      2.89      0.01   \n",
       "469   FIFA 14      PS4             2013  Sports      0.61      1.85      0.11   \n",
       "1753  FIFA 14     XOne             2013  Sports      0.41      0.66      0.00   \n",
       "4699  FIFA 14      PSV             2013  Sports      0.08      0.23      0.01   \n",
       "4809  FIFA 14       PC             2013  Sports      0.01      0.36      0.00   \n",
       "4985  FIFA 14      Wii             2013  Sports      0.00      0.36      0.00   \n",
       "6871  FIFA 14      3DS             2013  Sports      0.00      0.22      0.00   \n",
       "7875  FIFA 14      PSP             2013  Sports      0.00      0.15      0.00   \n",
       "\n",
       "      other_sales  critic_score  user_score   rating  \n",
       "126          1.37         86.00        4.30        E  \n",
       "271          0.40         84.00        4.20        E  \n",
       "469          0.44         87.00        6.30        E  \n",
       "1753         0.09         88.00        5.80        E  \n",
       "4699         0.09           NaN        1.80        E  \n",
       "4809         0.03         87.00        4.60        E  \n",
       "4985         0.02           NaN        4.30        E  \n",
       "6871         0.01           NaN         NaN  unknown  \n",
       "7875         0.04           NaN        3.40        E  "
      ]
     },
     "execution_count": 16,
     "metadata": {},
     "output_type": "execute_result"
    }
   ],
   "source": [
    "data.query('name == \"FIFA 14\"')"
   ]
  },
  {
   "cell_type": "markdown",
   "metadata": {},
   "source": [
    "Мы видим что одна игра может выпускаться на разных платформах и также могут выходит дополнительные релизы в другие годы."
   ]
  },
  {
   "cell_type": "markdown",
   "metadata": {},
   "source": [
    "Проверим дубликаты в столбцах Платформа и Жанр игры."
   ]
  },
  {
   "cell_type": "code",
   "execution_count": 17,
   "metadata": {},
   "outputs": [
    {
     "data": {
      "text/plain": [
       "array(['Wii', 'NES', 'GB', 'DS', 'X360', 'PS3', 'PS2', 'SNES', 'GBA',\n",
       "       'PS4', '3DS', 'N64', 'PS', 'XB', 'PC', '2600', 'PSP', 'XOne',\n",
       "       'WiiU', 'GC', 'GEN', 'DC', 'PSV', 'SAT', 'SCD', 'WS', 'NG', 'TG16',\n",
       "       '3DO', 'GG', 'PCFX'], dtype=object)"
      ]
     },
     "execution_count": 17,
     "metadata": {},
     "output_type": "execute_result"
    }
   ],
   "source": [
    "data['platform'].unique()"
   ]
  },
  {
   "cell_type": "code",
   "execution_count": 18,
   "metadata": {},
   "outputs": [
    {
     "data": {
      "text/plain": [
       "array(['Sports', 'Platform', 'Racing', 'Role-Playing', 'Puzzle', 'Misc',\n",
       "       'Shooter', 'Simulation', 'Action', 'Fighting', 'Adventure',\n",
       "       'Strategy', nan], dtype=object)"
      ]
     },
     "execution_count": 18,
     "metadata": {},
     "output_type": "execute_result"
    }
   ],
   "source": [
    "data['genre'].unique()"
   ]
  },
  {
   "cell_type": "markdown",
   "metadata": {},
   "source": [
    "Проверим есть ли дубликаты по столбцам название игры, платформа и год выпуска. "
   ]
  },
  {
   "cell_type": "code",
   "execution_count": 19,
   "metadata": {},
   "outputs": [
    {
     "data": {
      "text/html": [
       "<div>\n",
       "<style scoped>\n",
       "    .dataframe tbody tr th:only-of-type {\n",
       "        vertical-align: middle;\n",
       "    }\n",
       "\n",
       "    .dataframe tbody tr th {\n",
       "        vertical-align: top;\n",
       "    }\n",
       "\n",
       "    .dataframe thead th {\n",
       "        text-align: right;\n",
       "    }\n",
       "</style>\n",
       "<table border=\"1\" class=\"dataframe\">\n",
       "  <thead>\n",
       "    <tr style=\"text-align: right;\">\n",
       "      <th></th>\n",
       "      <th>name</th>\n",
       "      <th>platform</th>\n",
       "      <th>year_of_release</th>\n",
       "      <th>genre</th>\n",
       "      <th>na_sales</th>\n",
       "      <th>eu_sales</th>\n",
       "      <th>jp_sales</th>\n",
       "      <th>other_sales</th>\n",
       "      <th>critic_score</th>\n",
       "      <th>user_score</th>\n",
       "      <th>rating</th>\n",
       "    </tr>\n",
       "  </thead>\n",
       "  <tbody>\n",
       "    <tr>\n",
       "      <th>14244</th>\n",
       "      <td>NaN</td>\n",
       "      <td>GEN</td>\n",
       "      <td>1993</td>\n",
       "      <td>NaN</td>\n",
       "      <td>0.00</td>\n",
       "      <td>0.00</td>\n",
       "      <td>0.03</td>\n",
       "      <td>0.00</td>\n",
       "      <td>NaN</td>\n",
       "      <td>NaN</td>\n",
       "      <td>unknown</td>\n",
       "    </tr>\n",
       "    <tr>\n",
       "      <th>16230</th>\n",
       "      <td>Madden NFL 13</td>\n",
       "      <td>PS3</td>\n",
       "      <td>2012</td>\n",
       "      <td>Sports</td>\n",
       "      <td>0.00</td>\n",
       "      <td>0.01</td>\n",
       "      <td>0.00</td>\n",
       "      <td>0.00</td>\n",
       "      <td>83.00</td>\n",
       "      <td>5.50</td>\n",
       "      <td>E</td>\n",
       "    </tr>\n",
       "  </tbody>\n",
       "</table>\n",
       "</div>"
      ],
      "text/plain": [
       "                name platform  year_of_release   genre  na_sales  eu_sales  \\\n",
       "14244            NaN      GEN             1993     NaN      0.00      0.00   \n",
       "16230  Madden NFL 13      PS3             2012  Sports      0.00      0.01   \n",
       "\n",
       "       jp_sales  other_sales  critic_score  user_score   rating  \n",
       "14244      0.03         0.00           NaN         NaN  unknown  \n",
       "16230      0.00         0.00         83.00        5.50        E  "
      ]
     },
     "execution_count": 19,
     "metadata": {},
     "output_type": "execute_result"
    }
   ],
   "source": [
    "data[data.duplicated(subset=['name', 'platform', 'year_of_release'])]"
   ]
  },
  {
   "cell_type": "markdown",
   "metadata": {},
   "source": [
    "Нашлось две строки. Удалим дубликаты."
   ]
  },
  {
   "cell_type": "code",
   "execution_count": 20,
   "metadata": {},
   "outputs": [],
   "source": [
    "data = data.drop_duplicates(subset=['name', 'platform', 'year_of_release'])"
   ]
  },
  {
   "cell_type": "markdown",
   "metadata": {},
   "source": [
    "### Посчитаем суммарные продажи во всех регионах и запишим их в отдельный столбец"
   ]
  },
  {
   "cell_type": "code",
   "execution_count": 21,
   "metadata": {},
   "outputs": [],
   "source": [
    "data['total_sales'] = data['na_sales'] + data['eu_sales'] + data['jp_sales'] + data['other_sales']"
   ]
  },
  {
   "cell_type": "markdown",
   "metadata": {},
   "source": [
    "## Исследовательский анализ данных"
   ]
  },
  {
   "cell_type": "markdown",
   "metadata": {},
   "source": [
    "**Посмотрим, сколько игр выпускалось в разные годы.**"
   ]
  },
  {
   "cell_type": "code",
   "execution_count": 22,
   "metadata": {},
   "outputs": [
    {
     "data": {
      "image/png": "[encoded data removed]",
      "text/plain": [
       "<Figure size 1008x288 with 1 Axes>"
      ]
     },
     "metadata": {
      "needs_background": "light"
     },
     "output_type": "display_data"
    }
   ],
   "source": [
    "count_ears = data.query('year_of_release != 0').groupby('year_of_release')['year_of_release'].count()\n",
    "plt.figure(figsize=(14,4))\n",
    "plt.bar(count_ears.index,count_ears)\n",
    "plt.title('Выпуск игр по годам')\n",
    "plt.show()"
   ]
  },
  {
   "cell_type": "markdown",
   "metadata": {},
   "source": [
    "Мы видим что пик выпуска игр приходится на период с 2002 по 2011 года. Возможно, спад в индустрии связан с ростом популярности онлайн игр, а также мобильных игр.  \n",
    "  \n",
    "  \n",
    "Выберем платформы с наибольшими суммарными продажами."
   ]
  },
  {
   "cell_type": "code",
   "execution_count": 23,
   "metadata": {},
   "outputs": [
    {
     "data": {
      "text/plain": [
       "platform\n",
       "PS2    1255.77\n",
       "X360    971.42\n",
       "PS3     939.64\n",
       "Wii     907.51\n",
       "DS      806.12\n",
       "Name: total_sales, dtype: float64"
      ]
     },
     "execution_count": 23,
     "metadata": {},
     "output_type": "execute_result"
    }
   ],
   "source": [
    "data.groupby('platform')['total_sales'].sum().sort_values(ascending = False).head(5)"
   ]
  },
  {
   "cell_type": "markdown",
   "metadata": {},
   "source": [
    "Посмотрим как менялись продажи по этим платформам по годам."
   ]
  },
  {
   "cell_type": "code",
   "execution_count": 24,
   "metadata": {},
   "outputs": [],
   "source": [
    "top_platforms = data.groupby('platform')['total_sales'].sum().sort_values(ascending = False).head(5).index"
   ]
  },
  {
   "cell_type": "code",
   "execution_count": 25,
   "metadata": {},
   "outputs": [
    {
     "data": {
      "text/html": [
       "<div>\n",
       "<style scoped>\n",
       "    .dataframe tbody tr th:only-of-type {\n",
       "        vertical-align: middle;\n",
       "    }\n",
       "\n",
       "    .dataframe tbody tr th {\n",
       "        vertical-align: top;\n",
       "    }\n",
       "\n",
       "    .dataframe thead th {\n",
       "        text-align: right;\n",
       "    }\n",
       "</style>\n",
       "<table border=\"1\" class=\"dataframe\">\n",
       "  <thead>\n",
       "    <tr style=\"text-align: right;\">\n",
       "      <th></th>\n",
       "      <th>platform</th>\n",
       "      <th>year_of_release</th>\n",
       "      <th>total_sales</th>\n",
       "    </tr>\n",
       "  </thead>\n",
       "  <tbody>\n",
       "    <tr>\n",
       "      <th>0</th>\n",
       "      <td>DS</td>\n",
       "      <td>1985</td>\n",
       "      <td>0.02</td>\n",
       "    </tr>\n",
       "    <tr>\n",
       "      <th>1</th>\n",
       "      <td>DS</td>\n",
       "      <td>2004</td>\n",
       "      <td>17.27</td>\n",
       "    </tr>\n",
       "    <tr>\n",
       "      <th>2</th>\n",
       "      <td>DS</td>\n",
       "      <td>2005</td>\n",
       "      <td>130.14</td>\n",
       "    </tr>\n",
       "    <tr>\n",
       "      <th>3</th>\n",
       "      <td>DS</td>\n",
       "      <td>2006</td>\n",
       "      <td>119.81</td>\n",
       "    </tr>\n",
       "    <tr>\n",
       "      <th>4</th>\n",
       "      <td>DS</td>\n",
       "      <td>2007</td>\n",
       "      <td>146.94</td>\n",
       "    </tr>\n",
       "  </tbody>\n",
       "</table>\n",
       "</div>"
      ],
      "text/plain": [
       "  platform  year_of_release  total_sales\n",
       "0       DS             1985         0.02\n",
       "1       DS             2004        17.27\n",
       "2       DS             2005       130.14\n",
       "3       DS             2006       119.81\n",
       "4       DS             2007       146.94"
      ]
     },
     "execution_count": 25,
     "metadata": {},
     "output_type": "execute_result"
    }
   ],
   "source": [
    "df_sales = data.query('platform in @top_platforms and year_of_release != 0').pivot_table(index=['platform', 'year_of_release'], \n",
    "                                                                values='total_sales', aggfunc='sum').reset_index()\n",
    "df_sales.head(5) #построим сводную таблицу продаж платформ по годам"
   ]
  },
  {
   "cell_type": "code",
   "execution_count": 26,
   "metadata": {},
   "outputs": [
    {
     "data": {
      "image/png": "[encoded data removed]",
      "text/plain": [
       "<Figure size 1008x288 with 1 Axes>"
      ]
     },
     "metadata": {
      "needs_background": "light"
     },
     "output_type": "display_data"
    },
    {
     "data": {
      "image/png": "[encoded data removed]",
      "text/plain": [
       "<Figure size 1008x288 with 1 Axes>"
      ]
     },
     "metadata": {
      "needs_background": "light"
     },
     "output_type": "display_data"
    },
    {
     "data": {
      "image/png": "[encoded data removed]",
      "text/plain": [
       "<Figure size 1008x288 with 1 Axes>"
      ]
     },
     "metadata": {
      "needs_background": "light"
     },
     "output_type": "display_data"
    },
    {
     "data": {
      "image/png": "[encoded data removed]",
      "text/plain": [
       "<Figure size 1008x288 with 1 Axes>"
      ]
     },
     "metadata": {
      "needs_background": "light"
     },
     "output_type": "display_data"
    },
    {
     "data": {
      "image/png": "[encoded data removed]",
      "text/plain": [
       "<Figure size 1008x288 with 1 Axes>"
      ]
     },
     "metadata": {
      "needs_background": "light"
     },
     "output_type": "display_data"
    }
   ],
   "source": [
    "for platform in top_platforms:\n",
    "    line = df_sales[df_sales['platform'] == platform].groupby('year_of_release')['total_sales'].sum()\n",
    "    fig, ax = plt.subplots(figsize=(14,4))\n",
    "    ax.bar(line.index, line) \n",
    "    ax.set(title = f'Продажи платформы {platform}')\n",
    "    plt.show()"
   ]
  },
  {
   "cell_type": "markdown",
   "metadata": {},
   "source": [
    "Посчитаем средний срок продаж по каждой платформе"
   ]
  },
  {
   "cell_type": "code",
   "execution_count": 27,
   "metadata": {},
   "outputs": [
    {
     "data": {
      "text/plain": [
       "11.4"
      ]
     },
     "execution_count": 27,
     "metadata": {},
     "output_type": "execute_result"
    }
   ],
   "source": [
    "df_sales.groupby('platform')['year_of_release'].count().mean()  #query('total_sales isna')"
   ]
  },
  {
   "cell_type": "markdown",
   "metadata": {},
   "source": [
    "Мы видим что каждая платформа переживает рост и падение. И в среднем живет около 11 лет. Активный рост длится примерно 4-6 лет.  \n",
    "  \n",
    "Для построения прогноза мы возьмем срок 5 лет, то есть определим актуальный период с 2012 по 2016 включительно.  "
   ]
  },
  {
   "cell_type": "code",
   "execution_count": 28,
   "metadata": {},
   "outputs": [],
   "source": [
    "df = data.query('year_of_release > 2011')"
   ]
  },
  {
   "cell_type": "markdown",
   "metadata": {},
   "source": [
    "Выделим какие платформы лидируют по продажам за актуальный период."
   ]
  },
  {
   "cell_type": "code",
   "execution_count": 29,
   "metadata": {},
   "outputs": [
    {
     "data": {
      "text/plain": [
       "platform\n",
       "PS4    314.14\n",
       "PS3    288.78\n",
       "X360   236.54\n",
       "3DS    194.61\n",
       "XOne   159.32\n",
       "Name: total_sales, dtype: float64"
      ]
     },
     "execution_count": 29,
     "metadata": {},
     "output_type": "execute_result"
    }
   ],
   "source": [
    "df.groupby('platform')['total_sales'].sum().sort_values(ascending = False).head(5)"
   ]
  },
  {
   "cell_type": "code",
   "execution_count": 30,
   "metadata": {},
   "outputs": [],
   "source": [
    "top_platforms_last = df.groupby('platform')['total_sales'].sum().sort_values(ascending = False).head(5).index"
   ]
  },
  {
   "cell_type": "markdown",
   "metadata": {},
   "source": [
    "Посмотрим на динамику продаж платформ за 5 лет."
   ]
  },
  {
   "cell_type": "code",
   "execution_count": 31,
   "metadata": {},
   "outputs": [
    {
     "data": {
      "text/html": [
       "<div>\n",
       "<style scoped>\n",
       "    .dataframe tbody tr th:only-of-type {\n",
       "        vertical-align: middle;\n",
       "    }\n",
       "\n",
       "    .dataframe tbody tr th {\n",
       "        vertical-align: top;\n",
       "    }\n",
       "\n",
       "    .dataframe thead th {\n",
       "        text-align: right;\n",
       "    }\n",
       "</style>\n",
       "<table border=\"1\" class=\"dataframe\">\n",
       "  <thead>\n",
       "    <tr style=\"text-align: right;\">\n",
       "      <th></th>\n",
       "      <th>platform</th>\n",
       "      <th>year_of_release</th>\n",
       "      <th>total_sales</th>\n",
       "    </tr>\n",
       "  </thead>\n",
       "  <tbody>\n",
       "    <tr>\n",
       "      <th>0</th>\n",
       "      <td>3DS</td>\n",
       "      <td>2012</td>\n",
       "      <td>51.36</td>\n",
       "    </tr>\n",
       "    <tr>\n",
       "      <th>1</th>\n",
       "      <td>3DS</td>\n",
       "      <td>2013</td>\n",
       "      <td>56.57</td>\n",
       "    </tr>\n",
       "    <tr>\n",
       "      <th>2</th>\n",
       "      <td>3DS</td>\n",
       "      <td>2014</td>\n",
       "      <td>43.76</td>\n",
       "    </tr>\n",
       "    <tr>\n",
       "      <th>3</th>\n",
       "      <td>3DS</td>\n",
       "      <td>2015</td>\n",
       "      <td>27.78</td>\n",
       "    </tr>\n",
       "    <tr>\n",
       "      <th>4</th>\n",
       "      <td>3DS</td>\n",
       "      <td>2016</td>\n",
       "      <td>15.14</td>\n",
       "    </tr>\n",
       "  </tbody>\n",
       "</table>\n",
       "</div>"
      ],
      "text/plain": [
       "  platform  year_of_release  total_sales\n",
       "0      3DS             2012        51.36\n",
       "1      3DS             2013        56.57\n",
       "2      3DS             2014        43.76\n",
       "3      3DS             2015        27.78\n",
       "4      3DS             2016        15.14"
      ]
     },
     "execution_count": 31,
     "metadata": {},
     "output_type": "execute_result"
    }
   ],
   "source": [
    "df_sales_last = df.query('platform in @top_platforms_last').pivot_table(index=['platform', 'year_of_release'], \n",
    "                                                                values='total_sales', aggfunc='sum').reset_index()\n",
    "df_sales_last.head() #построим сводную таблицу продаж платформ по годам"
   ]
  },
  {
   "cell_type": "code",
   "execution_count": 32,
   "metadata": {},
   "outputs": [
    {
     "data": {
      "image/png": "[encoded data removed]",
      "text/plain": [
       "<Figure size 1008x288 with 1 Axes>"
      ]
     },
     "metadata": {
      "needs_background": "light"
     },
     "output_type": "display_data"
    }
   ],
   "source": [
    "plt.figure(figsize=(14,4))\n",
    "sns.lineplot(x='year_of_release', y='total_sales', hue='platform', data=df_sales_last)\n",
    "plt.grid()\n",
    "plt.title('Продажи топ 5 платформ с 2012 по 2016 гг')\n",
    "plt.show()"
   ]
  },
  {
   "cell_type": "markdown",
   "metadata": {},
   "source": [
    "По всем платформам идет снижение продаж. Но снижение продаж по платформам PS4 и XOne началось только после 2015 года, а продажи по другим платформам снижаются с 2013 года."
   ]
  },
  {
   "cell_type": "markdown",
   "metadata": {},
   "source": [
    "Построим график «ящик с усами» по глобальным продажам игр в разбивке по платформам."
   ]
  },
  {
   "cell_type": "code",
   "execution_count": 33,
   "metadata": {},
   "outputs": [
    {
     "data": {
      "image/png": "[encoded data removed]",
      "text/plain": [
       "<Figure size 864x432 with 1 Axes>"
      ]
     },
     "metadata": {
      "needs_background": "light"
     },
     "output_type": "display_data"
    }
   ],
   "source": [
    "plt.figure(figsize=(12,6))\n",
    "with sns.axes_style(style='whitegrid'):\n",
    "    sns.boxplot(x='platform', y='total_sales', data=df.query('platform in @top_platforms_last'))\n",
    "    sns.despine(bottom=True)\n",
    "plt.ylim(0, 2)\n",
    "plt.title('Распределения продаж топ 5 платформ в период с 2012 по 2016 гг')\n",
    "plt.show()"
   ]
  },
  {
   "cell_type": "markdown",
   "metadata": {},
   "source": [
    "Мы видим что распределение глобальных продаж платформы Х360 выделяется на фоне остальных платформ. А именно 75% значений продаж этой платформы выше остальных и медиана больше. Мы можем выделить платформы X360, PS4, XOne как потенциально прибыльные.  \n",
    "мы можем говорить, что самые популярные игры за этот период в основном продавались на платформах X360, PS4, XOne. На остальных платформах менее продоваемые игры."
   ]
  },
  {
   "cell_type": "markdown",
   "metadata": {},
   "source": [
    "**Посмотрим, как влияют на продажи внутри одной популярной платформы отзывы пользователей и критиков. Построим диаграмму рассеяния и посчитаем корреляцию между отзывами и продажами.**"
   ]
  },
  {
   "cell_type": "code",
   "execution_count": 34,
   "metadata": {},
   "outputs": [
    {
     "data": {
      "image/png": "[encoded data removed]",
      "text/plain": [
       "<Figure size 1008x288 with 2 Axes>"
      ]
     },
     "metadata": {
      "needs_background": "light"
     },
     "output_type": "display_data"
    }
   ],
   "source": [
    "fig = plt.figure(figsize=(14,4))\n",
    "ax1 = fig.add_subplot(1, 2, 1)\n",
    "ax2 = fig.add_subplot(1, 2, 2)\n",
    "df.query('platform == \"PS4\"').plot(x='critic_score', y='total_sales', kind='scatter', ax=ax1)\n",
    "df.query('platform == \"PS4\" and user_score > 0').plot(x='user_score', y='total_sales', kind='scatter', ax=ax2)\n",
    "ax1.set(title = 'Зависимость продаж от оценки критиков на платформе PS4')\n",
    "ax2.set(title = 'Зависимость продаж от оценки пользователей на платформе PS4')\n",
    "plt.show()"
   ]
  },
  {
   "cell_type": "code",
   "execution_count": 35,
   "metadata": {},
   "outputs": [
    {
     "data": {
      "text/plain": [
       "critic_score    0.41\n",
       "user_score     -0.03\n",
       "dtype: float64"
      ]
     },
     "execution_count": 35,
     "metadata": {},
     "output_type": "execute_result"
    }
   ],
   "source": [
    "df.loc[(data['platform'] == \"PS4\") & (data['user_score'] > 0),['critic_score', 'user_score']].corrwith(data['total_sales'])"
   ]
  },
  {
   "cell_type": "markdown",
   "metadata": {},
   "source": [
    "Как видно на графике и судя по коэффициенту корреляции связь между оценкой критиков и продажами слабая. А влияние оценки пользователей на продажи практически отсутсвует, связь очень слабая."
   ]
  },
  {
   "cell_type": "markdown",
   "metadata": {},
   "source": [
    "А теперь посмотрим как влияют оценки на продажи в целом по всем платформам."
   ]
  },
  {
   "cell_type": "code",
   "execution_count": 36,
   "metadata": {},
   "outputs": [
    {
     "data": {
      "image/png": "[encoded data removed]",
      "text/plain": [
       "<Figure size 1008x288 with 2 Axes>"
      ]
     },
     "metadata": {
      "needs_background": "light"
     },
     "output_type": "display_data"
    }
   ],
   "source": [
    "fig = plt.figure(figsize=(14,4))\n",
    "ax1 = fig.add_subplot(1, 2, 1)\n",
    "ax2 = fig.add_subplot(1, 2, 2)\n",
    "df.plot(x='critic_score', y='total_sales', kind='scatter', ax=ax1)\n",
    "df.query('user_score > 0').plot(x='user_score', y='total_sales', kind='scatter', ax=ax2)\n",
    "ax1.set(title = 'Зависимость продаж от оценки критиков на всех платформах')\n",
    "ax2.set(title = 'Зависимость продаж от оценки пользователей на всех платформах')\n",
    "plt.show()"
   ]
  },
  {
   "cell_type": "code",
   "execution_count": 37,
   "metadata": {},
   "outputs": [
    {
     "data": {
      "text/plain": [
       "critic_score   0.31\n",
       "user_score     0.00\n",
       "dtype: float64"
      ]
     },
     "execution_count": 37,
     "metadata": {},
     "output_type": "execute_result"
    }
   ],
   "source": [
    "df.loc[data['user_score'] > 0,['critic_score', 'user_score']].corrwith(data['total_sales'])"
   ]
  },
  {
   "cell_type": "markdown",
   "metadata": {},
   "source": [
    "По всем остальным платформам картина аналогичная влияние оценок на продажи слабое."
   ]
  },
  {
   "cell_type": "markdown",
   "metadata": {},
   "source": [
    "**Рассмотрим распределение игр по жанрам**"
   ]
  },
  {
   "cell_type": "code",
   "execution_count": 38,
   "metadata": {},
   "outputs": [
    {
     "data": {
      "text/html": [
       "<div>\n",
       "<style scoped>\n",
       "    .dataframe tbody tr th:only-of-type {\n",
       "        vertical-align: middle;\n",
       "    }\n",
       "\n",
       "    .dataframe tbody tr th {\n",
       "        vertical-align: top;\n",
       "    }\n",
       "\n",
       "    .dataframe thead th {\n",
       "        text-align: right;\n",
       "    }\n",
       "</style>\n",
       "<table border=\"1\" class=\"dataframe\">\n",
       "  <thead>\n",
       "    <tr style=\"text-align: right;\">\n",
       "      <th></th>\n",
       "      <th>genre</th>\n",
       "      <th>sum_sales</th>\n",
       "      <th>games_count</th>\n",
       "    </tr>\n",
       "  </thead>\n",
       "  <tbody>\n",
       "    <tr>\n",
       "      <th>0</th>\n",
       "      <td>Action</td>\n",
       "      <td>441.12</td>\n",
       "      <td>1031</td>\n",
       "    </tr>\n",
       "    <tr>\n",
       "      <th>8</th>\n",
       "      <td>Shooter</td>\n",
       "      <td>304.73</td>\n",
       "      <td>235</td>\n",
       "    </tr>\n",
       "    <tr>\n",
       "      <th>7</th>\n",
       "      <td>Role-Playing</td>\n",
       "      <td>192.80</td>\n",
       "      <td>370</td>\n",
       "    </tr>\n",
       "    <tr>\n",
       "      <th>10</th>\n",
       "      <td>Sports</td>\n",
       "      <td>181.06</td>\n",
       "      <td>267</td>\n",
       "    </tr>\n",
       "    <tr>\n",
       "      <th>3</th>\n",
       "      <td>Misc</td>\n",
       "      <td>85.04</td>\n",
       "      <td>192</td>\n",
       "    </tr>\n",
       "    <tr>\n",
       "      <th>4</th>\n",
       "      <td>Platform</td>\n",
       "      <td>61.00</td>\n",
       "      <td>85</td>\n",
       "    </tr>\n",
       "    <tr>\n",
       "      <th>6</th>\n",
       "      <td>Racing</td>\n",
       "      <td>53.50</td>\n",
       "      <td>115</td>\n",
       "    </tr>\n",
       "    <tr>\n",
       "      <th>2</th>\n",
       "      <td>Fighting</td>\n",
       "      <td>44.49</td>\n",
       "      <td>109</td>\n",
       "    </tr>\n",
       "    <tr>\n",
       "      <th>9</th>\n",
       "      <td>Simulation</td>\n",
       "      <td>35.12</td>\n",
       "      <td>80</td>\n",
       "    </tr>\n",
       "    <tr>\n",
       "      <th>1</th>\n",
       "      <td>Adventure</td>\n",
       "      <td>29.43</td>\n",
       "      <td>302</td>\n",
       "    </tr>\n",
       "    <tr>\n",
       "      <th>11</th>\n",
       "      <td>Strategy</td>\n",
       "      <td>13.34</td>\n",
       "      <td>71</td>\n",
       "    </tr>\n",
       "    <tr>\n",
       "      <th>5</th>\n",
       "      <td>Puzzle</td>\n",
       "      <td>4.89</td>\n",
       "      <td>28</td>\n",
       "    </tr>\n",
       "  </tbody>\n",
       "</table>\n",
       "</div>"
      ],
      "text/plain": [
       "           genre  sum_sales  games_count\n",
       "0         Action     441.12         1031\n",
       "8        Shooter     304.73          235\n",
       "7   Role-Playing     192.80          370\n",
       "10        Sports     181.06          267\n",
       "3           Misc      85.04          192\n",
       "4       Platform      61.00           85\n",
       "6         Racing      53.50          115\n",
       "2       Fighting      44.49          109\n",
       "9     Simulation      35.12           80\n",
       "1      Adventure      29.43          302\n",
       "11      Strategy      13.34           71\n",
       "5         Puzzle       4.89           28"
      ]
     },
     "execution_count": 38,
     "metadata": {},
     "output_type": "execute_result"
    }
   ],
   "source": [
    "df_genre = df.pivot_table(index='genre', values='total_sales', aggfunc=['sum', 'count']).reset_index()\n",
    "df_genre.columns = ['genre','sum_sales', 'games_count']\n",
    "df_genre = df_genre.sort_values(by='sum_sales', ascending = False)\n",
    "df_genre"
   ]
  },
  {
   "cell_type": "code",
   "execution_count": 39,
   "metadata": {},
   "outputs": [
    {
     "data": {
      "image/png": "[encoded data removed]",
      "text/plain": [
       "<Figure size 1008x432 with 1 Axes>"
      ]
     },
     "metadata": {
      "needs_background": "light"
     },
     "output_type": "display_data"
    }
   ],
   "source": [
    "plt.figure(figsize=(14,6))\n",
    "plt.bar(df_genre['genre'], df_genre['sum_sales'])\n",
    "plt.title('Продажи игр по жанрам')\n",
    "plt.show()"
   ]
  },
  {
   "cell_type": "markdown",
   "metadata": {},
   "source": [
    "Самый популярный и прибыльный жанр Action. Также пользуются спросом Shooter, Role-Playing, Sports. Доля 4 популярных жанров составляет 77% всех продаж. Остальные жанры занимают долю не больше 6%. Наименее продаваемый жанр Puzzle его продажи почти в 100 раз меньше, чем продажи жанра Action."
   ]
  },
  {
   "cell_type": "markdown",
   "metadata": {},
   "source": [
    "## Портрет пользователя каждого региона"
   ]
  },
  {
   "cell_type": "markdown",
   "metadata": {},
   "source": [
    "Определим для пользователя каждого региона (NA, EU, JP): самые популярные платформы и жанры игр (топ-5)."
   ]
  },
  {
   "cell_type": "code",
   "execution_count": 40,
   "metadata": {},
   "outputs": [
    {
     "data": {
      "image/png": "[encoded data removed]",
      "text/plain": [
       "<Figure size 1008x288 with 2 Axes>"
      ]
     },
     "metadata": {
      "needs_background": "light"
     },
     "output_type": "display_data"
    },
    {
     "data": {
      "image/png": "[encoded data removed]",
      "text/plain": [
       "<Figure size 1008x288 with 2 Axes>"
      ]
     },
     "metadata": {
      "needs_background": "light"
     },
     "output_type": "display_data"
    },
    {
     "data": {
      "image/png": "[encoded data removed]",
      "text/plain": [
       "<Figure size 1008x288 with 2 Axes>"
      ]
     },
     "metadata": {
      "needs_background": "light"
     },
     "output_type": "display_data"
    }
   ],
   "source": [
    "regions = {'eu_sales': 'Европа', 'na_sales': 'Америка', 'jp_sales':'Япония'}\n",
    "for region in regions:\n",
    "    genre_sal = df.pivot_table(index='genre', values=region, aggfunc='sum').reset_index().sort_values(by=region, ascending = False).head().sort_values(by=region)\n",
    "    platform_sal = df.pivot_table(index='platform', values=region, aggfunc='sum').reset_index().sort_values(by=region, ascending = False).head().sort_values(by=region)\n",
    "    \n",
    "    fig = plt.figure(figsize=(14,4))\n",
    "    ax1 = fig.add_subplot(1, 2, 1)\n",
    "    ax2 = fig.add_subplot(1, 2, 2)\n",
    "    ax1.set_yticklabels(genre_sal['genre'], fontsize=12)\n",
    "    ax2.set_yticklabels(platform_sal['platform'], fontsize=12)\n",
    "    ax1.barh(genre_sal['genre'], genre_sal[region])\n",
    "    ax2.barh(platform_sal['platform'], platform_sal[region])\n",
    "    \n",
    "    ax1.set(title = f'Топ 5 жанров в регионе {regions[region]}')\n",
    "    ax2.set(title = f'Топ 5 платформ в регионе {regions[region]}')\n",
    "    plt.show()"
   ]
  },
  {
   "cell_type": "markdown",
   "metadata": {},
   "source": [
    "Мы видим, что пользователи северной Америки и Европы похожи. Они предпочитают практически одни и те же жанры игр. А также в этих регионах предпочитают одни и те же платформы, только в северной Америке на первом месте Х360, а в Европе PS4. А вот в Японии пользователи отличаются. Если в Европе и сев. Америке на первом месте Action, Shooter, Sports, то в Японии на первом месте жанр Role-Playing и Action. А вот жанры Shooter, Sports в Японии не популярны, их нет в топ 5. В Японии предпочитают играть на платформе 3DS."
   ]
  },
  {
   "cell_type": "code",
   "execution_count": 41,
   "metadata": {},
   "outputs": [
    {
     "data": {
      "image/png": "[encoded data removed]",
      "text/plain": [
       "<Figure size 1152x360 with 3 Axes>"
      ]
     },
     "metadata": {},
     "output_type": "display_data"
    }
   ],
   "source": [
    "eu_platform = df.pivot_table(index='platform', values='eu_sales', aggfunc='sum').reset_index().sort_values(by='eu_sales', ascending = False).head()\n",
    "na_platform = df.pivot_table(index='platform', values='na_sales', aggfunc='sum').reset_index().sort_values(by='na_sales', ascending = False).head()\n",
    "jp_platform = df.pivot_table(index='platform', values='jp_sales', aggfunc='sum').reset_index().sort_values(by='jp_sales', ascending = False).head()\n",
    "fig = plt.figure(figsize=(16,5))\n",
    "ax1 = fig.add_subplot(1, 3, 1)\n",
    "ax2 = fig.add_subplot(1, 3, 2)\n",
    "ax3 = fig.add_subplot(1, 3, 3)\n",
    "ax1.pie(eu_platform['eu_sales'], labels = eu_platform['platform'],autopct='%.0f%%')\n",
    "ax2.pie(na_platform['na_sales'], labels = na_platform['platform'], autopct='%.0f%%')\n",
    "ax3.pie(jp_platform['jp_sales'], labels = jp_platform['platform'], autopct='%.0f%%')\n",
    "ax1.title.set_text('Европа')\n",
    "ax2.title.set_text('Америка')\n",
    "ax3.title.set_text('Япония')\n",
    "fig.suptitle('Топ 5 платформ в регионах:')\n",
    "plt.show()"
   ]
  },
  {
   "cell_type": "markdown",
   "metadata": {},
   "source": [
    "Если посмотрим на доли продаж по платформам в 3-х регионах, то заметим что в Японии платформа 3DS занимает более 50% продаж. В то время как в сев.Америке и Европе доли платформ распределены более равномерно, т.е. конкуренция платформ здесь выше."
   ]
  },
  {
   "cell_type": "markdown",
   "metadata": {},
   "source": [
    "**Посмотрим влияет ли рейтинг ESRB на продажи в отдельном регионе.**"
   ]
  },
  {
   "cell_type": "code",
   "execution_count": 42,
   "metadata": {},
   "outputs": [
    {
     "data": {
      "image/png": "[encoded data removed]",
      "text/plain": [
       "<Figure size 720x288 with 1 Axes>"
      ]
     },
     "metadata": {
      "needs_background": "light"
     },
     "output_type": "display_data"
    }
   ],
   "source": [
    "plt.figure(figsize=(10,4))\n",
    "for region in regions:\n",
    "    ax = sns.lineplot(x='rating', y=region, data=df)        \n",
    "ax.set_ylabel('Продажи')\n",
    "ax.set_title('Продажи игр по рейтингу ESRB в регионах')\n",
    "ax.legend(['Европа', 'Америка','Япония'])\n",
    "plt.grid()\n",
    "plt.show()"
   ]
  },
  {
   "cell_type": "markdown",
   "metadata": {},
   "source": [
    "На графике мы видим, что продажи игр с рейтингом `М` (для взрослых) в Европе и сев.Америке выше, чем продажи игр с другими рейтингами. В Японии продажи игр с разными рейтингами так сильно не отличаются."
   ]
  },
  {
   "cell_type": "markdown",
   "metadata": {},
   "source": [
    "## Проверка гипотез"
   ]
  },
  {
   "cell_type": "markdown",
   "metadata": {},
   "source": [
    "### Двустороняя проверка: Средние пользовательские рейтинги платформ Xbox One и PC одинаковые."
   ]
  },
  {
   "cell_type": "markdown",
   "metadata": {},
   "source": [
    "<p>Введем основную и альтернативные гипотезы:</p>\n",
    "\n",
    "$\\begin{equation*}\n",
    " \\begin{cases}\n",
    "   H_0 :\\text{Средние пользовательские рейтинги платформ Xbox One и PC одинаковы}\\\\\n",
    "   H_1 :\\text{Средние пользовательские рейтинги платформ Xbox One и PC отличаются}\n",
    " \\end{cases}\n",
    "\\end{equation*}$\n",
    "\n",
    "Уровень значимости: $\\alpha = 0.05$\n",
    "\n",
    "Посчитаем p-value, используя ttest из библиотеки scipy для сравнения средних двух выборок.\n",
    "\n",
    "Если p-value будет меньше выбранного уровня значимости $\\alpha = 0.05$, то нулевую гипотезу о равенстве средних отвергнем. Иначе сделаем вывод, что данные не позволили нам отвергнуть нулевую гипотезу."
   ]
  },
  {
   "cell_type": "markdown",
   "metadata": {},
   "source": [
    "Подготовим две выборки. Пользовательские рейтинги платформ Xbox One и PC"
   ]
  },
  {
   "cell_type": "code",
   "execution_count": 43,
   "metadata": {},
   "outputs": [],
   "source": [
    "score_xone = df.query('platform == \"XOne\" and user_score > 0')['user_score']\n",
    "score_pc = df.query('platform == \"PC\" and user_score > 0')['user_score']"
   ]
  },
  {
   "cell_type": "code",
   "execution_count": 44,
   "metadata": {},
   "outputs": [
    {
     "name": "stdout",
     "output_type": "stream",
     "text": [
      "p-значение:  0.5535080500643661\n",
      "Не получилось отвергнуть нулевую гипотезу\n"
     ]
    }
   ],
   "source": [
    "alpha = .05\n",
    "\n",
    "results = st.ttest_ind(score_xone, score_pc)\n",
    "\n",
    "print('p-значение: ', results.pvalue)\n",
    "\n",
    "if results.pvalue < alpha:\n",
    "    print(\"Отвергаем нулевую гипотезу\")\n",
    "else:\n",
    "    print(\"Не получилось отвергнуть нулевую гипотезу\")"
   ]
  },
  {
   "cell_type": "markdown",
   "metadata": {},
   "source": [
    "Можно сделать вывод, что средние пользовательские рейтинги платформ Xbox One и PC принципиально не отличаются."
   ]
  },
  {
   "cell_type": "markdown",
   "metadata": {},
   "source": [
    "### Двустороння проверка: Средние пользовательские рейтинги жанров Action (англ. «действие», экшен-игры) и Sports (англ. «спортивные соревнования») разные."
   ]
  },
  {
   "cell_type": "markdown",
   "metadata": {},
   "source": [
    "<p>Введем основную и альтернативные гипотезы:</p>\n",
    "\n",
    "$\\begin{equation*}\n",
    " \\begin{cases}\n",
    "   H_0 :\\text{Средние пользовательские рейтинги жанров Action и Sports одинаковы}\\\\\n",
    "   H_1 :\\text{Средние пользовательские рейтинги жанров Action и Sports отличаются}\n",
    " \\end{cases}\n",
    "\\end{equation*}$\n",
    "\n",
    "Уровень значимости: $\\alpha = 0.05$\n",
    "\n",
    "Посчитаем p-value, используя ttest из библиотеки scipy для сравнения средних двух выборок.\n",
    "\n",
    "Если p-value будет меньше выбранного уровня значимости $\\alpha = 0.05$, то нулевую гипотезу о равенстве средних отвергнем. Иначе сделаем вывод, что данные не позволили нам отвергнуть нулевую гипотезу."
   ]
  },
  {
   "cell_type": "markdown",
   "metadata": {},
   "source": [
    "Подготовим две выборки. Пользовательские рейтинги жанров Action и Sports."
   ]
  },
  {
   "cell_type": "code",
   "execution_count": 45,
   "metadata": {},
   "outputs": [],
   "source": [
    "score_action = df.query('genre == \"Action\" and user_score > 0')['user_score']\n",
    "score_sports = df.query('genre == \"Sports\" and user_score > 0')['user_score']"
   ]
  },
  {
   "cell_type": "code",
   "execution_count": 46,
   "metadata": {},
   "outputs": [
    {
     "name": "stdout",
     "output_type": "stream",
     "text": [
      "p-значение:  4.804523380462917e-26\n",
      "Отвергаем нулевую гипотезу\n"
     ]
    }
   ],
   "source": [
    "alpha = .05\n",
    "\n",
    "results = st.ttest_ind(score_action, score_sports)\n",
    "\n",
    "print('p-значение: ', results.pvalue)\n",
    "\n",
    "if results.pvalue < alpha:\n",
    "    print(\"Отвергаем нулевую гипотезу\")\n",
    "else:\n",
    "    print(\"Не получилось отвергнуть нулевую гипотезу\")"
   ]
  },
  {
   "cell_type": "markdown",
   "metadata": {},
   "source": [
    "Вероятность что средние пользовательские рейтинги жанров равны слишком мала. Поэтому можем сказать что средние оценки пользователей жанров Action и Sports разные."
   ]
  },
  {
   "cell_type": "markdown",
   "metadata": {},
   "source": [
    "## Общий вывод"
   ]
  },
  {
   "cell_type": "markdown",
   "metadata": {},
   "source": [
    "Мы проанализировали исторические данные (до 2016 года) о продажах игр, оценки пользователей и экспертов, жанры и платформы.   \n",
    "Анализ позволяет сделать следующие выводы.  \n",
    "За последние 5 лет по глобальным продажм лидируют следующие платформы PS4, PS3, X360, 3DS, XOne. Среди жанров выделяются Action, Shooter, Role-Playing, Sports. Следует отметить, что в Японии предпочтения пользователей отличаются от общемировых. В этом регионе доминирует платформа 3DS, а самые популярные жанры Role-Playing и Action. \n",
    "Также мы выяснили что оценки критиков и пользователей практически не влияют на продажи, вне зависимости от платформ.  \n",
    "Определили что средние пользовательские рейтинги платформ Xbox One и PC принципиально не отличаются. А средние оценки пользователей жанров Action и Sports разные.  \n",
    "Таким образом мы можем направить свое внимание на выделенные платформы и игры определенных выше жанров, но с учетом региональных оссобенностей."
   ]
  }
 ],
 "metadata": {
  "ExecuteTimeLog": [
   {
    "duration": 115,
    "start_time": "2022-02-12T18:30:57.061Z"
   },
   {
    "duration": 1950,
    "start_time": "2022-02-12T18:33:21.927Z"
   },
   {
    "duration": 24,
    "start_time": "2022-02-12T18:33:32.087Z"
   },
   {
    "duration": 20,
    "start_time": "2022-02-12T18:34:46.544Z"
   },
   {
    "duration": 5,
    "start_time": "2022-02-12T18:37:28.717Z"
   },
   {
    "duration": 6,
    "start_time": "2022-02-12T18:37:30.014Z"
   },
   {
    "duration": 14,
    "start_time": "2022-02-12T18:43:08.820Z"
   },
   {
    "duration": 15,
    "start_time": "2022-02-12T19:04:37.269Z"
   },
   {
    "duration": 10,
    "start_time": "2022-02-12T19:21:27.515Z"
   },
   {
    "duration": 1552,
    "start_time": "2022-02-13T13:28:28.091Z"
   },
   {
    "duration": 21,
    "start_time": "2022-02-13T13:28:29.646Z"
   },
   {
    "duration": 15,
    "start_time": "2022-02-13T13:28:29.670Z"
   },
   {
    "duration": 7,
    "start_time": "2022-02-13T13:28:29.687Z"
   },
   {
    "duration": 44,
    "start_time": "2022-02-13T13:28:29.696Z"
   },
   {
    "duration": 8,
    "start_time": "2022-02-13T13:28:29.743Z"
   },
   {
    "duration": 8,
    "start_time": "2022-02-13T13:28:29.753Z"
   },
   {
    "duration": 408,
    "start_time": "2022-02-13T13:42:22.021Z"
   },
   {
    "duration": 249,
    "start_time": "2022-02-13T13:42:31.727Z"
   },
   {
    "duration": 503,
    "start_time": "2022-02-13T13:44:12.849Z"
   },
   {
    "duration": 512,
    "start_time": "2022-02-13T13:47:02.023Z"
   },
   {
    "duration": 11,
    "start_time": "2022-02-13T13:48:37.023Z"
   },
   {
    "duration": 198,
    "start_time": "2022-02-13T13:48:39.975Z"
   },
   {
    "duration": 8,
    "start_time": "2022-02-13T14:02:03.392Z"
   },
   {
    "duration": 208,
    "start_time": "2022-02-13T14:02:06.627Z"
   },
   {
    "duration": 6,
    "start_time": "2022-02-13T14:13:02.117Z"
   },
   {
    "duration": 11,
    "start_time": "2022-02-13T14:13:03.425Z"
   },
   {
    "duration": 7,
    "start_time": "2022-02-13T14:26:49.279Z"
   },
   {
    "duration": 96,
    "start_time": "2022-02-13T14:28:58.983Z"
   },
   {
    "duration": 6,
    "start_time": "2022-02-13T14:29:30.413Z"
   },
   {
    "duration": 7,
    "start_time": "2022-02-13T14:29:32.319Z"
   },
   {
    "duration": 25,
    "start_time": "2022-02-13T14:33:57.391Z"
   },
   {
    "duration": 12,
    "start_time": "2022-02-13T14:34:49.862Z"
   },
   {
    "duration": 10,
    "start_time": "2022-02-13T14:35:01.926Z"
   },
   {
    "duration": 11,
    "start_time": "2022-02-13T14:36:38.717Z"
   },
   {
    "duration": 24,
    "start_time": "2022-02-13T14:38:15.980Z"
   },
   {
    "duration": 7,
    "start_time": "2022-02-13T14:45:10.012Z"
   },
   {
    "duration": 24,
    "start_time": "2022-02-13T14:47:40.210Z"
   },
   {
    "duration": 24,
    "start_time": "2022-02-13T14:47:51.058Z"
   },
   {
    "duration": 7,
    "start_time": "2022-02-13T14:50:06.497Z"
   },
   {
    "duration": 21,
    "start_time": "2022-02-13T14:50:45.207Z"
   },
   {
    "duration": 14,
    "start_time": "2022-02-13T14:57:31.022Z"
   },
   {
    "duration": 22,
    "start_time": "2022-02-13T14:58:01.426Z"
   },
   {
    "duration": 21,
    "start_time": "2022-02-13T15:00:07.709Z"
   },
   {
    "duration": 19,
    "start_time": "2022-02-13T15:01:00.740Z"
   },
   {
    "duration": 15,
    "start_time": "2022-02-13T15:11:46.866Z"
   },
   {
    "duration": 22,
    "start_time": "2022-02-13T15:12:20.776Z"
   },
   {
    "duration": 15,
    "start_time": "2022-02-13T15:16:35.143Z"
   },
   {
    "duration": 21,
    "start_time": "2022-02-13T15:16:45.024Z"
   },
   {
    "duration": 22,
    "start_time": "2022-02-13T15:16:48.559Z"
   },
   {
    "duration": 6,
    "start_time": "2022-02-13T15:25:29.562Z"
   },
   {
    "duration": 414,
    "start_time": "2022-02-13T15:27:06.268Z"
   },
   {
    "duration": 12,
    "start_time": "2022-02-13T15:33:00.379Z"
   },
   {
    "duration": 8,
    "start_time": "2022-02-13T15:43:43.150Z"
   },
   {
    "duration": 34,
    "start_time": "2022-02-13T15:45:26.766Z"
   },
   {
    "duration": 30,
    "start_time": "2022-02-13T15:48:29.315Z"
   },
   {
    "duration": 2003,
    "start_time": "2022-02-13T15:48:41.508Z"
   },
   {
    "duration": 10,
    "start_time": "2022-02-13T15:57:35.257Z"
   },
   {
    "duration": 11,
    "start_time": "2022-02-13T15:57:36.898Z"
   },
   {
    "duration": 8,
    "start_time": "2022-02-13T16:02:14.508Z"
   },
   {
    "duration": 28,
    "start_time": "2022-02-13T16:02:16.291Z"
   },
   {
    "duration": 25,
    "start_time": "2022-02-13T16:02:48.774Z"
   },
   {
    "duration": 669,
    "start_time": "2022-02-13T16:30:46.139Z"
   },
   {
    "duration": 589,
    "start_time": "2022-02-13T16:31:26.920Z"
   },
   {
    "duration": 255,
    "start_time": "2022-02-13T16:40:29.075Z"
   },
   {
    "duration": 563,
    "start_time": "2022-02-13T16:45:32.202Z"
   },
   {
    "duration": 252,
    "start_time": "2022-02-13T16:49:18.889Z"
   },
   {
    "duration": 541,
    "start_time": "2022-02-13T16:55:10.391Z"
   },
   {
    "duration": 529,
    "start_time": "2022-02-13T16:55:43.070Z"
   },
   {
    "duration": 849,
    "start_time": "2022-02-13T16:56:31.005Z"
   },
   {
    "duration": 768,
    "start_time": "2022-02-13T17:10:56.789Z"
   },
   {
    "duration": 418,
    "start_time": "2022-02-13T17:48:36.064Z"
   },
   {
    "duration": 450,
    "start_time": "2022-02-13T17:54:52.728Z"
   },
   {
    "duration": 437,
    "start_time": "2022-02-13T17:55:18.991Z"
   },
   {
    "duration": 447,
    "start_time": "2022-02-13T17:56:40.800Z"
   },
   {
    "duration": 539,
    "start_time": "2022-02-13T18:42:44.054Z"
   },
   {
    "duration": 1941,
    "start_time": "2022-02-13T18:43:57.063Z"
   },
   {
    "duration": 1448,
    "start_time": "2022-02-13T18:44:48.325Z"
   },
   {
    "duration": 1393,
    "start_time": "2022-02-13T18:45:16.711Z"
   },
   {
    "duration": 1395,
    "start_time": "2022-02-13T18:47:39.958Z"
   },
   {
    "duration": 1374,
    "start_time": "2022-02-13T18:48:00.854Z"
   },
   {
    "duration": 1419,
    "start_time": "2022-02-13T18:48:18.616Z"
   },
   {
    "duration": 546,
    "start_time": "2022-02-13T18:55:00.042Z"
   },
   {
    "duration": 317,
    "start_time": "2022-02-13T18:56:00.010Z"
   },
   {
    "duration": 765,
    "start_time": "2022-02-13T19:20:46.492Z"
   },
   {
    "duration": 777,
    "start_time": "2022-02-13T19:23:09.909Z"
   },
   {
    "duration": 732,
    "start_time": "2022-02-13T19:23:39.462Z"
   },
   {
    "duration": 15,
    "start_time": "2022-02-13T19:26:36.335Z"
   },
   {
    "duration": 13,
    "start_time": "2022-02-13T19:26:46.694Z"
   },
   {
    "duration": 13,
    "start_time": "2022-02-13T19:26:55.652Z"
   },
   {
    "duration": 13,
    "start_time": "2022-02-13T19:27:12.447Z"
   },
   {
    "duration": 45,
    "start_time": "2022-02-13T19:27:51.893Z"
   },
   {
    "duration": 16,
    "start_time": "2022-02-13T19:27:51.942Z"
   },
   {
    "duration": 14,
    "start_time": "2022-02-13T19:27:51.961Z"
   },
   {
    "duration": 7,
    "start_time": "2022-02-13T19:27:51.978Z"
   },
   {
    "duration": 48,
    "start_time": "2022-02-13T19:27:51.987Z"
   },
   {
    "duration": 7,
    "start_time": "2022-02-13T19:27:52.038Z"
   },
   {
    "duration": 8,
    "start_time": "2022-02-13T19:27:52.047Z"
   },
   {
    "duration": 10,
    "start_time": "2022-02-13T19:27:52.059Z"
   },
   {
    "duration": 8,
    "start_time": "2022-02-13T19:27:52.072Z"
   },
   {
    "duration": 52,
    "start_time": "2022-02-13T19:27:52.082Z"
   },
   {
    "duration": 11,
    "start_time": "2022-02-13T19:27:52.137Z"
   },
   {
    "duration": 5,
    "start_time": "2022-02-13T19:27:52.150Z"
   },
   {
    "duration": 10,
    "start_time": "2022-02-13T19:27:52.158Z"
   },
   {
    "duration": 24,
    "start_time": "2022-02-13T19:27:52.171Z"
   },
   {
    "duration": 18,
    "start_time": "2022-02-13T19:27:52.232Z"
   },
   {
    "duration": 24,
    "start_time": "2022-02-13T19:27:52.253Z"
   },
   {
    "duration": 6,
    "start_time": "2022-02-13T19:27:52.279Z"
   },
   {
    "duration": 46,
    "start_time": "2022-02-13T19:27:52.288Z"
   },
   {
    "duration": 25,
    "start_time": "2022-02-13T19:27:52.337Z"
   },
   {
    "duration": 12,
    "start_time": "2022-02-13T19:27:52.365Z"
   },
   {
    "duration": 6,
    "start_time": "2022-02-13T19:27:52.380Z"
   },
   {
    "duration": 449,
    "start_time": "2022-02-13T19:27:52.388Z"
   },
   {
    "duration": 10,
    "start_time": "2022-02-13T19:27:52.842Z"
   },
   {
    "duration": 7,
    "start_time": "2022-02-13T19:27:52.855Z"
   },
   {
    "duration": 31,
    "start_time": "2022-02-13T19:27:52.865Z"
   },
   {
    "duration": 1846,
    "start_time": "2022-02-13T19:27:52.933Z"
   },
   {
    "duration": 8,
    "start_time": "2022-02-13T19:27:54.781Z"
   },
   {
    "duration": 12,
    "start_time": "2022-02-13T19:27:54.792Z"
   },
   {
    "duration": 29,
    "start_time": "2022-02-13T19:27:54.806Z"
   },
   {
    "duration": 28,
    "start_time": "2022-02-13T19:27:54.837Z"
   },
   {
    "duration": 569,
    "start_time": "2022-02-13T19:27:54.867Z"
   },
   {
    "duration": 461,
    "start_time": "2022-02-13T19:27:55.439Z"
   },
   {
    "duration": 783,
    "start_time": "2022-02-13T19:27:55.903Z"
   },
   {
    "duration": 16,
    "start_time": "2022-02-13T19:27:56.688Z"
   },
   {
    "duration": 31,
    "start_time": "2022-02-13T19:28:01.660Z"
   },
   {
    "duration": 30,
    "start_time": "2022-02-13T19:28:50.910Z"
   },
   {
    "duration": 20,
    "start_time": "2022-02-13T19:29:23.709Z"
   },
   {
    "duration": 719,
    "start_time": "2022-02-13T19:30:40.140Z"
   },
   {
    "duration": 707,
    "start_time": "2022-02-13T19:30:58.757Z"
   },
   {
    "duration": 1126,
    "start_time": "2022-02-13T19:32:35.708Z"
   },
   {
    "duration": 23,
    "start_time": "2022-02-13T19:34:38.037Z"
   },
   {
    "duration": 913,
    "start_time": "2022-02-13T19:51:53.309Z"
   },
   {
    "duration": 18,
    "start_time": "2022-02-13T19:54:14.270Z"
   },
   {
    "duration": 49,
    "start_time": "2022-02-13T19:59:26.764Z"
   },
   {
    "duration": 105,
    "start_time": "2022-02-13T20:11:00.758Z"
   },
   {
    "duration": 181,
    "start_time": "2022-02-13T20:11:55.334Z"
   },
   {
    "duration": 245,
    "start_time": "2022-02-13T20:28:21.616Z"
   },
   {
    "duration": 194,
    "start_time": "2022-02-13T20:30:54.807Z"
   },
   {
    "duration": 1397,
    "start_time": "2022-02-13T20:51:56.745Z"
   },
   {
    "duration": 228,
    "start_time": "2022-02-13T20:55:48.832Z"
   },
   {
    "duration": 278,
    "start_time": "2022-02-13T20:57:08.742Z"
   },
   {
    "duration": 220,
    "start_time": "2022-02-13T20:57:43.814Z"
   },
   {
    "duration": 361,
    "start_time": "2022-02-13T20:58:28.189Z"
   },
   {
    "duration": 958,
    "start_time": "2022-02-13T21:00:29.036Z"
   },
   {
    "duration": 1175,
    "start_time": "2022-02-13T21:01:11.493Z"
   },
   {
    "duration": 1146,
    "start_time": "2022-02-13T21:03:59.724Z"
   },
   {
    "duration": 991,
    "start_time": "2022-02-13T21:06:11.341Z"
   },
   {
    "duration": 1002,
    "start_time": "2022-02-13T21:06:29.196Z"
   },
   {
    "duration": 1014,
    "start_time": "2022-02-13T21:06:40.931Z"
   },
   {
    "duration": 973,
    "start_time": "2022-02-13T21:12:26.050Z"
   },
   {
    "duration": 734,
    "start_time": "2022-02-13T21:20:07.854Z"
   },
   {
    "duration": 1001,
    "start_time": "2022-02-13T21:20:47.437Z"
   },
   {
    "duration": 27517,
    "start_time": "2022-02-13T21:24:42.770Z"
   },
   {
    "duration": 263,
    "start_time": "2022-02-13T21:26:42.731Z"
   },
   {
    "duration": 1449,
    "start_time": "2022-02-13T21:27:07.140Z"
   },
   {
    "duration": 1286,
    "start_time": "2022-02-14T13:46:59.333Z"
   },
   {
    "duration": 16,
    "start_time": "2022-02-14T13:47:00.621Z"
   },
   {
    "duration": 14,
    "start_time": "2022-02-14T13:47:00.640Z"
   },
   {
    "duration": 15,
    "start_time": "2022-02-14T13:47:00.656Z"
   },
   {
    "duration": 20,
    "start_time": "2022-02-14T13:47:00.674Z"
   },
   {
    "duration": 59,
    "start_time": "2022-02-14T13:47:00.697Z"
   },
   {
    "duration": 24,
    "start_time": "2022-02-14T13:47:00.758Z"
   },
   {
    "duration": 43,
    "start_time": "2022-02-14T13:47:00.785Z"
   },
   {
    "duration": 24,
    "start_time": "2022-02-14T13:47:00.830Z"
   },
   {
    "duration": 27,
    "start_time": "2022-02-14T13:47:00.856Z"
   },
   {
    "duration": 25,
    "start_time": "2022-02-14T13:47:00.885Z"
   },
   {
    "duration": 26,
    "start_time": "2022-02-14T13:47:00.912Z"
   },
   {
    "duration": 37,
    "start_time": "2022-02-14T13:47:00.941Z"
   },
   {
    "duration": 57,
    "start_time": "2022-02-14T13:47:00.980Z"
   },
   {
    "duration": 16,
    "start_time": "2022-02-14T13:47:01.039Z"
   },
   {
    "duration": 31,
    "start_time": "2022-02-14T13:47:01.057Z"
   },
   {
    "duration": 19,
    "start_time": "2022-02-14T13:47:01.089Z"
   },
   {
    "duration": 25,
    "start_time": "2022-02-14T13:47:01.110Z"
   },
   {
    "duration": 44,
    "start_time": "2022-02-14T13:47:01.137Z"
   },
   {
    "duration": 15,
    "start_time": "2022-02-14T13:47:01.184Z"
   },
   {
    "duration": 15,
    "start_time": "2022-02-14T13:47:01.201Z"
   },
   {
    "duration": 467,
    "start_time": "2022-02-14T13:47:01.219Z"
   },
   {
    "duration": 20,
    "start_time": "2022-02-14T13:47:01.691Z"
   },
   {
    "duration": 13,
    "start_time": "2022-02-14T13:47:01.715Z"
   },
   {
    "duration": 43,
    "start_time": "2022-02-14T13:47:01.731Z"
   },
   {
    "duration": 1190,
    "start_time": "2022-02-14T13:47:01.776Z"
   },
   {
    "duration": 6,
    "start_time": "2022-02-14T13:47:02.969Z"
   },
   {
    "duration": 40,
    "start_time": "2022-02-14T13:47:02.977Z"
   },
   {
    "duration": 28,
    "start_time": "2022-02-14T13:47:03.020Z"
   },
   {
    "duration": 46,
    "start_time": "2022-02-14T13:47:03.050Z"
   },
   {
    "duration": 443,
    "start_time": "2022-02-14T13:47:03.099Z"
   },
   {
    "duration": 304,
    "start_time": "2022-02-14T13:47:03.544Z"
   },
   {
    "duration": 636,
    "start_time": "2022-02-14T13:47:03.850Z"
   },
   {
    "duration": 22,
    "start_time": "2022-02-14T13:47:04.488Z"
   },
   {
    "duration": 755,
    "start_time": "2022-02-14T13:47:04.513Z"
   },
   {
    "duration": 15,
    "start_time": "2022-02-14T13:47:05.270Z"
   },
   {
    "duration": 82,
    "start_time": "2022-02-14T13:47:05.287Z"
   },
   {
    "duration": 232,
    "start_time": "2022-02-14T13:47:05.371Z"
   },
   {
    "duration": 1028,
    "start_time": "2022-02-14T13:47:05.605Z"
   },
   {
    "duration": 341,
    "start_time": "2022-02-14T13:47:06.635Z"
   },
   {
    "duration": 799,
    "start_time": "2022-02-14T13:47:06.979Z"
   },
   {
    "duration": 682,
    "start_time": "2022-02-14T14:23:26.641Z"
   },
   {
    "duration": 89,
    "start_time": "2022-02-14T14:24:28.933Z"
   },
   {
    "duration": 255,
    "start_time": "2022-02-14T14:24:45.890Z"
   },
   {
    "duration": 898,
    "start_time": "2022-02-14T14:24:52.836Z"
   },
   {
    "duration": 655,
    "start_time": "2022-02-14T14:25:06.436Z"
   },
   {
    "duration": 654,
    "start_time": "2022-02-14T14:26:51.498Z"
   },
   {
    "duration": 734,
    "start_time": "2022-02-14T14:27:44.827Z"
   },
   {
    "duration": 745,
    "start_time": "2022-02-14T14:28:00.842Z"
   },
   {
    "duration": 652,
    "start_time": "2022-02-14T14:28:46.873Z"
   },
   {
    "duration": 720,
    "start_time": "2022-02-14T14:30:55.595Z"
   },
   {
    "duration": 692,
    "start_time": "2022-02-14T14:31:19.759Z"
   },
   {
    "duration": 537,
    "start_time": "2022-02-14T14:33:32.960Z"
   },
   {
    "duration": 697,
    "start_time": "2022-02-14T14:33:53.785Z"
   },
   {
    "duration": 729,
    "start_time": "2022-02-14T14:34:12.128Z"
   },
   {
    "duration": 689,
    "start_time": "2022-02-14T14:35:22.959Z"
   },
   {
    "duration": 1056,
    "start_time": "2022-02-14T14:40:17.911Z"
   },
   {
    "duration": 688,
    "start_time": "2022-02-14T14:41:02.805Z"
   },
   {
    "duration": 694,
    "start_time": "2022-02-14T14:42:39.884Z"
   },
   {
    "duration": 762,
    "start_time": "2022-02-14T14:42:54.036Z"
   },
   {
    "duration": 728,
    "start_time": "2022-02-14T14:43:21.437Z"
   },
   {
    "duration": 927,
    "start_time": "2022-02-14T14:44:36.421Z"
   },
   {
    "duration": 727,
    "start_time": "2022-02-14T14:45:17.861Z"
   },
   {
    "duration": 809,
    "start_time": "2022-02-14T14:52:09.986Z"
   },
   {
    "duration": 697,
    "start_time": "2022-02-14T15:00:47.703Z"
   },
   {
    "duration": 10,
    "start_time": "2022-02-14T15:09:49.203Z"
   },
   {
    "duration": 6,
    "start_time": "2022-02-14T15:09:51.093Z"
   },
   {
    "duration": 11,
    "start_time": "2022-02-14T15:16:51.946Z"
   },
   {
    "duration": 6,
    "start_time": "2022-02-14T15:17:04.440Z"
   },
   {
    "duration": 38,
    "start_time": "2022-02-14T15:27:08.852Z"
   },
   {
    "duration": 13,
    "start_time": "2022-02-14T15:27:08.892Z"
   },
   {
    "duration": 42,
    "start_time": "2022-02-14T15:27:08.907Z"
   },
   {
    "duration": 38,
    "start_time": "2022-02-14T15:27:08.952Z"
   },
   {
    "duration": 24,
    "start_time": "2022-02-14T15:27:08.992Z"
   },
   {
    "duration": 9,
    "start_time": "2022-02-14T15:27:09.018Z"
   },
   {
    "duration": 7,
    "start_time": "2022-02-14T15:27:09.029Z"
   },
   {
    "duration": 21,
    "start_time": "2022-02-14T15:27:09.039Z"
   },
   {
    "duration": 22,
    "start_time": "2022-02-14T15:27:09.063Z"
   },
   {
    "duration": 24,
    "start_time": "2022-02-14T15:27:09.087Z"
   },
   {
    "duration": 26,
    "start_time": "2022-02-14T15:27:09.114Z"
   },
   {
    "duration": 5,
    "start_time": "2022-02-14T15:27:09.143Z"
   },
   {
    "duration": 15,
    "start_time": "2022-02-14T15:27:09.150Z"
   },
   {
    "duration": 25,
    "start_time": "2022-02-14T15:27:09.168Z"
   },
   {
    "duration": 30,
    "start_time": "2022-02-14T15:27:09.195Z"
   },
   {
    "duration": 18,
    "start_time": "2022-02-14T15:27:09.227Z"
   },
   {
    "duration": 5,
    "start_time": "2022-02-14T15:27:09.247Z"
   },
   {
    "duration": 7,
    "start_time": "2022-02-14T15:27:09.253Z"
   },
   {
    "duration": 77,
    "start_time": "2022-02-14T15:27:09.263Z"
   },
   {
    "duration": 17,
    "start_time": "2022-02-14T15:27:09.343Z"
   },
   {
    "duration": 7,
    "start_time": "2022-02-14T15:27:09.363Z"
   },
   {
    "duration": 323,
    "start_time": "2022-02-14T15:27:09.372Z"
   },
   {
    "duration": 14,
    "start_time": "2022-02-14T15:27:09.700Z"
   },
   {
    "duration": 10,
    "start_time": "2022-02-14T15:27:09.716Z"
   },
   {
    "duration": 35,
    "start_time": "2022-02-14T15:27:09.729Z"
   },
   {
    "duration": 1949,
    "start_time": "2022-02-14T15:27:09.767Z"
   },
   {
    "duration": 8,
    "start_time": "2022-02-14T15:27:11.718Z"
   },
   {
    "duration": 11,
    "start_time": "2022-02-14T15:27:11.729Z"
   },
   {
    "duration": 10,
    "start_time": "2022-02-14T15:27:11.743Z"
   },
   {
    "duration": 53,
    "start_time": "2022-02-14T15:27:11.756Z"
   },
   {
    "duration": 403,
    "start_time": "2022-02-14T15:27:11.811Z"
   },
   {
    "duration": 351,
    "start_time": "2022-02-14T15:27:12.216Z"
   },
   {
    "duration": 798,
    "start_time": "2022-02-14T15:27:12.569Z"
   },
   {
    "duration": 15,
    "start_time": "2022-02-14T15:27:13.369Z"
   },
   {
    "duration": 849,
    "start_time": "2022-02-14T15:27:13.386Z"
   },
   {
    "duration": 12,
    "start_time": "2022-02-14T15:27:14.237Z"
   },
   {
    "duration": 28,
    "start_time": "2022-02-14T15:27:14.251Z"
   },
   {
    "duration": 181,
    "start_time": "2022-02-14T15:27:14.281Z"
   },
   {
    "duration": 996,
    "start_time": "2022-02-14T15:27:14.465Z"
   },
   {
    "duration": 293,
    "start_time": "2022-02-14T15:27:15.464Z"
   },
   {
    "duration": 742,
    "start_time": "2022-02-14T15:27:15.759Z"
   },
   {
    "duration": 12,
    "start_time": "2022-02-14T15:27:16.503Z"
   },
   {
    "duration": 10,
    "start_time": "2022-02-14T15:27:16.517Z"
   },
   {
    "duration": 19,
    "start_time": "2022-02-14T15:27:16.529Z"
   },
   {
    "duration": 27,
    "start_time": "2022-02-14T15:27:16.550Z"
   },
   {
    "duration": 1186,
    "start_time": "2022-02-21T14:29:06.531Z"
   },
   {
    "duration": 12,
    "start_time": "2022-02-21T14:29:07.719Z"
   },
   {
    "duration": 8,
    "start_time": "2022-02-21T14:29:07.733Z"
   },
   {
    "duration": 4,
    "start_time": "2022-02-21T14:29:07.743Z"
   },
   {
    "duration": 10,
    "start_time": "2022-02-21T14:29:07.748Z"
   },
   {
    "duration": 4,
    "start_time": "2022-02-21T14:29:07.759Z"
   },
   {
    "duration": 4,
    "start_time": "2022-02-21T14:29:07.765Z"
   },
   {
    "duration": 8,
    "start_time": "2022-02-21T14:29:07.772Z"
   },
   {
    "duration": 6,
    "start_time": "2022-02-21T14:29:07.782Z"
   },
   {
    "duration": 11,
    "start_time": "2022-02-21T14:29:07.790Z"
   },
   {
    "duration": 10,
    "start_time": "2022-02-21T14:29:07.802Z"
   },
   {
    "duration": 32,
    "start_time": "2022-02-21T14:29:07.814Z"
   },
   {
    "duration": 7,
    "start_time": "2022-02-21T14:29:07.847Z"
   },
   {
    "duration": 16,
    "start_time": "2022-02-21T14:29:07.855Z"
   },
   {
    "duration": 10,
    "start_time": "2022-02-21T14:29:07.872Z"
   },
   {
    "duration": 15,
    "start_time": "2022-02-21T14:29:07.883Z"
   },
   {
    "duration": 4,
    "start_time": "2022-02-21T14:29:07.899Z"
   },
   {
    "duration": 6,
    "start_time": "2022-02-21T14:29:07.904Z"
   },
   {
    "duration": 37,
    "start_time": "2022-02-21T14:29:07.912Z"
   },
   {
    "duration": 10,
    "start_time": "2022-02-21T14:29:07.951Z"
   },
   {
    "duration": 5,
    "start_time": "2022-02-21T14:29:07.962Z"
   },
   {
    "duration": 253,
    "start_time": "2022-02-21T14:29:07.968Z"
   },
   {
    "duration": 6,
    "start_time": "2022-02-21T14:29:08.224Z"
   },
   {
    "duration": 15,
    "start_time": "2022-02-21T14:29:08.231Z"
   },
   {
    "duration": 17,
    "start_time": "2022-02-21T14:29:08.247Z"
   },
   {
    "duration": 975,
    "start_time": "2022-02-21T14:29:08.266Z"
   },
   {
    "duration": 6,
    "start_time": "2022-02-21T14:29:09.246Z"
   },
   {
    "duration": 8,
    "start_time": "2022-02-21T14:29:09.253Z"
   },
   {
    "duration": 6,
    "start_time": "2022-02-21T14:29:09.262Z"
   },
   {
    "duration": 18,
    "start_time": "2022-02-21T14:29:09.269Z"
   },
   {
    "duration": 371,
    "start_time": "2022-02-21T14:29:09.289Z"
   },
   {
    "duration": 259,
    "start_time": "2022-02-21T14:29:09.662Z"
   },
   {
    "duration": 549,
    "start_time": "2022-02-21T14:29:09.923Z"
   },
   {
    "duration": 11,
    "start_time": "2022-02-21T14:29:10.473Z"
   },
   {
    "duration": 482,
    "start_time": "2022-02-21T14:29:10.485Z"
   },
   {
    "duration": 9,
    "start_time": "2022-02-21T14:29:10.969Z"
   },
   {
    "duration": 19,
    "start_time": "2022-02-21T14:29:10.980Z"
   },
   {
    "duration": 137,
    "start_time": "2022-02-21T14:29:11.001Z"
   },
   {
    "duration": 774,
    "start_time": "2022-02-21T14:29:11.139Z"
   },
   {
    "duration": 234,
    "start_time": "2022-02-21T14:29:11.914Z"
   },
   {
    "duration": 667,
    "start_time": "2022-02-21T14:29:12.150Z"
   },
   {
    "duration": 9,
    "start_time": "2022-02-21T14:29:12.818Z"
   },
   {
    "duration": 6,
    "start_time": "2022-02-21T14:29:12.828Z"
   },
   {
    "duration": 7,
    "start_time": "2022-02-21T14:29:12.846Z"
   },
   {
    "duration": 4,
    "start_time": "2022-02-21T14:29:12.854Z"
   },
   {
    "duration": 1798,
    "start_time": "2022-02-22T11:56:24.954Z"
   },
   {
    "duration": 27,
    "start_time": "2022-02-22T11:56:26.755Z"
   },
   {
    "duration": 27,
    "start_time": "2022-02-22T11:56:26.787Z"
   },
   {
    "duration": 9,
    "start_time": "2022-02-22T11:56:26.818Z"
   },
   {
    "duration": 15,
    "start_time": "2022-02-22T11:56:26.829Z"
   },
   {
    "duration": 48,
    "start_time": "2022-02-22T11:56:26.846Z"
   },
   {
    "duration": 8,
    "start_time": "2022-02-22T11:56:26.898Z"
   },
   {
    "duration": 16,
    "start_time": "2022-02-22T11:56:26.911Z"
   },
   {
    "duration": 10,
    "start_time": "2022-02-22T11:56:26.931Z"
   },
   {
    "duration": 13,
    "start_time": "2022-02-22T11:56:26.944Z"
   },
   {
    "duration": 11,
    "start_time": "2022-02-22T11:56:26.994Z"
   },
   {
    "duration": 19,
    "start_time": "2022-02-22T11:56:27.008Z"
   },
   {
    "duration": 14,
    "start_time": "2022-02-22T11:56:27.029Z"
   },
   {
    "duration": 49,
    "start_time": "2022-02-22T11:56:27.046Z"
   },
   {
    "duration": 18,
    "start_time": "2022-02-22T11:56:27.098Z"
   },
   {
    "duration": 29,
    "start_time": "2022-02-22T11:56:27.119Z"
   },
   {
    "duration": 7,
    "start_time": "2022-02-22T11:56:27.150Z"
   },
   {
    "duration": 7,
    "start_time": "2022-02-22T11:56:27.193Z"
   },
   {
    "duration": 24,
    "start_time": "2022-02-22T11:56:27.203Z"
   },
   {
    "duration": 19,
    "start_time": "2022-02-22T11:56:27.231Z"
   },
   {
    "duration": 7,
    "start_time": "2022-02-22T11:56:27.295Z"
   },
   {
    "duration": 445,
    "start_time": "2022-02-22T11:56:27.304Z"
   },
   {
    "duration": 10,
    "start_time": "2022-02-22T11:56:27.754Z"
   },
   {
    "duration": 29,
    "start_time": "2022-02-22T11:56:27.767Z"
   },
   {
    "duration": 31,
    "start_time": "2022-02-22T11:56:27.798Z"
   },
   {
    "duration": 2052,
    "start_time": "2022-02-22T11:56:27.832Z"
   },
   {
    "duration": 18,
    "start_time": "2022-02-22T11:56:29.895Z"
   },
   {
    "duration": 17,
    "start_time": "2022-02-22T11:56:29.916Z"
   },
   {
    "duration": 8,
    "start_time": "2022-02-22T11:56:29.936Z"
   },
   {
    "duration": 57,
    "start_time": "2022-02-22T11:56:29.947Z"
   },
   {
    "duration": 646,
    "start_time": "2022-02-22T11:56:30.007Z"
   },
   {
    "duration": 488,
    "start_time": "2022-02-22T11:56:30.656Z"
   },
   {
    "duration": 819,
    "start_time": "2022-02-22T11:56:31.146Z"
   },
   {
    "duration": 30,
    "start_time": "2022-02-22T11:56:31.969Z"
   },
   {
    "duration": 1045,
    "start_time": "2022-02-22T11:56:32.002Z"
   },
   {
    "duration": 17,
    "start_time": "2022-02-22T11:56:33.050Z"
   },
   {
    "duration": 51,
    "start_time": "2022-02-22T11:56:33.070Z"
   },
   {
    "duration": 609,
    "start_time": "2022-02-22T11:56:33.124Z"
   },
   {
    "duration": 1769,
    "start_time": "2022-02-22T11:56:33.736Z"
   },
   {
    "duration": 545,
    "start_time": "2022-02-22T11:56:35.508Z"
   },
   {
    "duration": 1342,
    "start_time": "2022-02-22T11:56:36.056Z"
   },
   {
    "duration": 13,
    "start_time": "2022-02-22T11:56:37.401Z"
   },
   {
    "duration": 10,
    "start_time": "2022-02-22T11:56:37.417Z"
   },
   {
    "duration": 21,
    "start_time": "2022-02-22T11:56:37.431Z"
   },
   {
    "duration": 11,
    "start_time": "2022-02-22T11:56:37.492Z"
   }
  ],
  "kernelspec": {
   "display_name": "Python 3 (ipykernel)",
   "language": "python",
   "name": "python3"
  },
  "language_info": {
   "codemirror_mode": {
    "name": "ipython",
    "version": 3
   },
   "file_extension": ".py",
   "mimetype": "text/x-python",
   "name": "python",
   "nbconvert_exporter": "python",
   "pygments_lexer": "ipython3",
   "version": "3.9.7"
  },
  "toc": {
   "base_numbering": 1,
   "nav_menu": {},
   "number_sections": true,
   "sideBar": true,
   "skip_h1_title": true,
   "title_cell": "Table of Contents",
   "title_sidebar": "Contents",
   "toc_cell": false,
   "toc_position": {
    "height": "calc(100% - 180px)",
    "left": "10px",
    "top": "150px",
    "width": "289.6px"
   },
   "toc_section_display": true,
   "toc_window_display": true
  }
 },
 "nbformat": 4,
 "nbformat_minor": 2
}
