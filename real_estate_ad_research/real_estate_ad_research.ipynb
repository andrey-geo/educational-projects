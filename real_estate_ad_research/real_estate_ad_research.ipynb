{
 "cells": [
  {
   "cell_type": "markdown",
   "metadata": {
    "toc": true
   },
   "source": [
    "<h1>Содержание<span class=\"tocSkip\"></span></h1>\n",
    "<div class=\"toc\"><ul class=\"toc-item\"><li><span><a href=\"#Изучение-данных-из-файла\" data-toc-modified-id=\"Изучение-данных-из-файла-1\"><span class=\"toc-item-num\">1&nbsp;&nbsp;</span>Изучение данных из файла</a></span><ul class=\"toc-item\"><li><span><a href=\"#Вывод\" data-toc-modified-id=\"Вывод-1.1\"><span class=\"toc-item-num\">1.1&nbsp;&nbsp;</span>Вывод</a></span></li></ul></li><li><span><a href=\"#Предобработка-данных\" data-toc-modified-id=\"Предобработка-данных-2\"><span class=\"toc-item-num\">2&nbsp;&nbsp;</span>Предобработка данных</a></span><ul class=\"toc-item\"><li><span><a href=\"#Заполним-пропуски\" data-toc-modified-id=\"Заполним-пропуски-2.1\"><span class=\"toc-item-num\">2.1&nbsp;&nbsp;</span>Заполним пропуски</a></span></li><li><span><a href=\"#Замена-типа-данных\" data-toc-modified-id=\"Замена-типа-данных-2.2\"><span class=\"toc-item-num\">2.2&nbsp;&nbsp;</span>Замена типа данных</a></span></li><li><span><a href=\"#Обработка-дубликатов\" data-toc-modified-id=\"Обработка-дубликатов-2.3\"><span class=\"toc-item-num\">2.3&nbsp;&nbsp;</span>Обработка дубликатов</a></span></li></ul></li><li><span><a href=\"#Расчёты-и-добавление-результатов-в-таблицу\" data-toc-modified-id=\"Расчёты-и-добавление-результатов-в-таблицу-3\"><span class=\"toc-item-num\">3&nbsp;&nbsp;</span>Расчёты и добавление результатов в таблицу</a></span></li><li><span><a href=\"#Исследовательский-анализ-данных\" data-toc-modified-id=\"Исследовательский-анализ-данных-4\"><span class=\"toc-item-num\">4&nbsp;&nbsp;</span>Исследовательский анализ данных</a></span><ul class=\"toc-item\"><li><span><a href=\"#Изучим-следующие-параметры:-площадь,-цена,-число-комнат,-высота-потолков.-Построим-гистограммы-для-каждого-параметра.\" data-toc-modified-id=\"Изучим-следующие-параметры:-площадь,-цена,-число-комнат,-высота-потолков.-Построим-гистограммы-для-каждого-параметра.-4.1\"><span class=\"toc-item-num\">4.1&nbsp;&nbsp;</span>Изучим следующие параметры: площадь, цена, число комнат, высота потолков. Построим гистограммы для каждого параметра.</a></span></li><li><span><a href=\"#Изучим-время-продажи-квартиры.\" data-toc-modified-id=\"Изучим-время-продажи-квартиры.-4.2\"><span class=\"toc-item-num\">4.2&nbsp;&nbsp;</span>Изучим время продажи квартиры.</a></span></li><li><span><a href=\"#Уберем-редкие-и-выбивающиеся-значения.\" data-toc-modified-id=\"Уберем-редкие-и-выбивающиеся-значения.-4.3\"><span class=\"toc-item-num\">4.3&nbsp;&nbsp;</span>Уберем редкие и выбивающиеся значения.</a></span></li><li><span><a href=\"#Определим-какие-факторы-больше-всего-влияют-на-стоимость-квартиры.\" data-toc-modified-id=\"Определим-какие-факторы-больше-всего-влияют-на-стоимость-квартиры.-4.4\"><span class=\"toc-item-num\">4.4&nbsp;&nbsp;</span>Определим какие факторы больше всего влияют на стоимость квартиры.</a></span></li><li><span><a href=\"#Изучим-предложения-квартир-в-Санкт-Петербурге.-Определим-какая-область-входит-в-центр.\" data-toc-modified-id=\"Изучим-предложения-квартир-в-Санкт-Петербурге.-Определим-какая-область-входит-в-центр.-4.5\"><span class=\"toc-item-num\">4.5&nbsp;&nbsp;</span>Изучим предложения квартир в Санкт-Петербурге. Определим какая область входит в центр.</a></span></li><li><span><a href=\"#Изучим-квартиры-в-центре.\" data-toc-modified-id=\"Изучим-квартиры-в-центре.-4.6\"><span class=\"toc-item-num\">4.6&nbsp;&nbsp;</span>Изучим квартиры в центре.</a></span></li></ul></li><li><span><a href=\"#Общий-вывод\" data-toc-modified-id=\"Общий-вывод-5\"><span class=\"toc-item-num\">5&nbsp;&nbsp;</span>Общий вывод</a></span></li><li><span><a href=\"#Чек-лист-готовности-проекта\" data-toc-modified-id=\"Чек-лист-готовности-проекта-6\"><span class=\"toc-item-num\">6&nbsp;&nbsp;</span>Чек-лист готовности проекта</a></span></li></ul></div>"
   ]
  },
  {
   "cell_type": "markdown",
   "metadata": {},
   "source": [
    "# Исследование объявлений о продаже квартир\n",
    "\n",
    "В вашем распоряжении данные сервиса Яндекс.Недвижимость — архив объявлений о продаже квартир в Санкт-Петербурге и соседних населённых пунктах за несколько лет. Нужно научиться определять рыночную стоимость объектов недвижимости. Ваша задача — установить параметры. Это позволит построить автоматизированную систему: она отследит аномалии и мошенническую деятельность. \n",
    "\n",
    "По каждой квартире на продажу доступны два вида данных. Первые вписаны пользователем, вторые получены автоматически на основе картографических данных. Например, расстояние до центра, аэропорта, ближайшего парка и водоёма. "
   ]
  },
  {
   "cell_type": "markdown",
   "metadata": {},
   "source": [
    "## Изучение данных из файла"
   ]
  },
  {
   "cell_type": "code",
   "execution_count": 1,
   "metadata": {},
   "outputs": [],
   "source": [
    "import pandas as pd\n",
    "data = pd.read_csv('/datasets/real_estate_data.csv', sep='\\t')\n",
    "pd.set_option('display.float_format', '{:.2f}'.format)\n",
    "\n",
    "import matplotlib.pyplot as plt\n",
    "\n",
    "import warnings\n",
    "warnings.filterwarnings(\"ignore\")"
   ]
  },
  {
   "cell_type": "code",
   "execution_count": 2,
   "metadata": {},
   "outputs": [
    {
     "data": {
      "text/html": [
       "<div>\n",
       "<style scoped>\n",
       "    .dataframe tbody tr th:only-of-type {\n",
       "        vertical-align: middle;\n",
       "    }\n",
       "\n",
       "    .dataframe tbody tr th {\n",
       "        vertical-align: top;\n",
       "    }\n",
       "\n",
       "    .dataframe thead th {\n",
       "        text-align: right;\n",
       "    }\n",
       "</style>\n",
       "<table border=\"1\" class=\"dataframe\">\n",
       "  <thead>\n",
       "    <tr style=\"text-align: right;\">\n",
       "      <th></th>\n",
       "      <th>total_images</th>\n",
       "      <th>last_price</th>\n",
       "      <th>total_area</th>\n",
       "      <th>first_day_exposition</th>\n",
       "      <th>rooms</th>\n",
       "      <th>ceiling_height</th>\n",
       "      <th>floors_total</th>\n",
       "      <th>living_area</th>\n",
       "      <th>floor</th>\n",
       "      <th>is_apartment</th>\n",
       "      <th>...</th>\n",
       "      <th>kitchen_area</th>\n",
       "      <th>balcony</th>\n",
       "      <th>locality_name</th>\n",
       "      <th>airports_nearest</th>\n",
       "      <th>cityCenters_nearest</th>\n",
       "      <th>parks_around3000</th>\n",
       "      <th>parks_nearest</th>\n",
       "      <th>ponds_around3000</th>\n",
       "      <th>ponds_nearest</th>\n",
       "      <th>days_exposition</th>\n",
       "    </tr>\n",
       "  </thead>\n",
       "  <tbody>\n",
       "    <tr>\n",
       "      <td>0</td>\n",
       "      <td>20</td>\n",
       "      <td>13000000.00</td>\n",
       "      <td>108.00</td>\n",
       "      <td>2019-03-07T00:00:00</td>\n",
       "      <td>3</td>\n",
       "      <td>2.70</td>\n",
       "      <td>16.00</td>\n",
       "      <td>51.00</td>\n",
       "      <td>8</td>\n",
       "      <td>NaN</td>\n",
       "      <td>...</td>\n",
       "      <td>25.00</td>\n",
       "      <td>nan</td>\n",
       "      <td>Санкт-Петербург</td>\n",
       "      <td>18863.00</td>\n",
       "      <td>16028.00</td>\n",
       "      <td>1.00</td>\n",
       "      <td>482.00</td>\n",
       "      <td>2.00</td>\n",
       "      <td>755.00</td>\n",
       "      <td>nan</td>\n",
       "    </tr>\n",
       "    <tr>\n",
       "      <td>1</td>\n",
       "      <td>7</td>\n",
       "      <td>3350000.00</td>\n",
       "      <td>40.40</td>\n",
       "      <td>2018-12-04T00:00:00</td>\n",
       "      <td>1</td>\n",
       "      <td>nan</td>\n",
       "      <td>11.00</td>\n",
       "      <td>18.60</td>\n",
       "      <td>1</td>\n",
       "      <td>NaN</td>\n",
       "      <td>...</td>\n",
       "      <td>11.00</td>\n",
       "      <td>2.00</td>\n",
       "      <td>посёлок Шушары</td>\n",
       "      <td>12817.00</td>\n",
       "      <td>18603.00</td>\n",
       "      <td>0.00</td>\n",
       "      <td>nan</td>\n",
       "      <td>0.00</td>\n",
       "      <td>nan</td>\n",
       "      <td>81.00</td>\n",
       "    </tr>\n",
       "    <tr>\n",
       "      <td>2</td>\n",
       "      <td>10</td>\n",
       "      <td>5196000.00</td>\n",
       "      <td>56.00</td>\n",
       "      <td>2015-08-20T00:00:00</td>\n",
       "      <td>2</td>\n",
       "      <td>nan</td>\n",
       "      <td>5.00</td>\n",
       "      <td>34.30</td>\n",
       "      <td>4</td>\n",
       "      <td>NaN</td>\n",
       "      <td>...</td>\n",
       "      <td>8.30</td>\n",
       "      <td>0.00</td>\n",
       "      <td>Санкт-Петербург</td>\n",
       "      <td>21741.00</td>\n",
       "      <td>13933.00</td>\n",
       "      <td>1.00</td>\n",
       "      <td>90.00</td>\n",
       "      <td>2.00</td>\n",
       "      <td>574.00</td>\n",
       "      <td>558.00</td>\n",
       "    </tr>\n",
       "    <tr>\n",
       "      <td>3</td>\n",
       "      <td>0</td>\n",
       "      <td>64900000.00</td>\n",
       "      <td>159.00</td>\n",
       "      <td>2015-07-24T00:00:00</td>\n",
       "      <td>3</td>\n",
       "      <td>nan</td>\n",
       "      <td>14.00</td>\n",
       "      <td>nan</td>\n",
       "      <td>9</td>\n",
       "      <td>NaN</td>\n",
       "      <td>...</td>\n",
       "      <td>nan</td>\n",
       "      <td>0.00</td>\n",
       "      <td>Санкт-Петербург</td>\n",
       "      <td>28098.00</td>\n",
       "      <td>6800.00</td>\n",
       "      <td>2.00</td>\n",
       "      <td>84.00</td>\n",
       "      <td>3.00</td>\n",
       "      <td>234.00</td>\n",
       "      <td>424.00</td>\n",
       "    </tr>\n",
       "    <tr>\n",
       "      <td>4</td>\n",
       "      <td>2</td>\n",
       "      <td>10000000.00</td>\n",
       "      <td>100.00</td>\n",
       "      <td>2018-06-19T00:00:00</td>\n",
       "      <td>2</td>\n",
       "      <td>3.03</td>\n",
       "      <td>14.00</td>\n",
       "      <td>32.00</td>\n",
       "      <td>13</td>\n",
       "      <td>NaN</td>\n",
       "      <td>...</td>\n",
       "      <td>41.00</td>\n",
       "      <td>nan</td>\n",
       "      <td>Санкт-Петербург</td>\n",
       "      <td>31856.00</td>\n",
       "      <td>8098.00</td>\n",
       "      <td>2.00</td>\n",
       "      <td>112.00</td>\n",
       "      <td>1.00</td>\n",
       "      <td>48.00</td>\n",
       "      <td>121.00</td>\n",
       "    </tr>\n",
       "  </tbody>\n",
       "</table>\n",
       "<p>5 rows × 22 columns</p>\n",
       "</div>"
      ],
      "text/plain": [
       "   total_images  last_price  total_area first_day_exposition  rooms  \\\n",
       "0            20 13000000.00      108.00  2019-03-07T00:00:00      3   \n",
       "1             7  3350000.00       40.40  2018-12-04T00:00:00      1   \n",
       "2            10  5196000.00       56.00  2015-08-20T00:00:00      2   \n",
       "3             0 64900000.00      159.00  2015-07-24T00:00:00      3   \n",
       "4             2 10000000.00      100.00  2018-06-19T00:00:00      2   \n",
       "\n",
       "   ceiling_height  floors_total  living_area  floor is_apartment  ...  \\\n",
       "0            2.70         16.00        51.00      8          NaN  ...   \n",
       "1             nan         11.00        18.60      1          NaN  ...   \n",
       "2             nan          5.00        34.30      4          NaN  ...   \n",
       "3             nan         14.00          nan      9          NaN  ...   \n",
       "4            3.03         14.00        32.00     13          NaN  ...   \n",
       "\n",
       "   kitchen_area  balcony    locality_name  airports_nearest  \\\n",
       "0         25.00      nan  Санкт-Петербург          18863.00   \n",
       "1         11.00     2.00   посёлок Шушары          12817.00   \n",
       "2          8.30     0.00  Санкт-Петербург          21741.00   \n",
       "3           nan     0.00  Санкт-Петербург          28098.00   \n",
       "4         41.00      nan  Санкт-Петербург          31856.00   \n",
       "\n",
       "  cityCenters_nearest  parks_around3000  parks_nearest  ponds_around3000  \\\n",
       "0            16028.00              1.00         482.00              2.00   \n",
       "1            18603.00              0.00            nan              0.00   \n",
       "2            13933.00              1.00          90.00              2.00   \n",
       "3             6800.00              2.00          84.00              3.00   \n",
       "4             8098.00              2.00         112.00              1.00   \n",
       "\n",
       "   ponds_nearest  days_exposition  \n",
       "0         755.00              nan  \n",
       "1            nan            81.00  \n",
       "2         574.00           558.00  \n",
       "3         234.00           424.00  \n",
       "4          48.00           121.00  \n",
       "\n",
       "[5 rows x 22 columns]"
      ]
     },
     "execution_count": 2,
     "metadata": {},
     "output_type": "execute_result"
    }
   ],
   "source": [
    "data.head()"
   ]
  },
  {
   "cell_type": "code",
   "execution_count": 3,
   "metadata": {},
   "outputs": [
    {
     "name": "stdout",
     "output_type": "stream",
     "text": [
      "<class 'pandas.core.frame.DataFrame'>\n",
      "RangeIndex: 23699 entries, 0 to 23698\n",
      "Data columns (total 22 columns):\n",
      "total_images            23699 non-null int64\n",
      "last_price              23699 non-null float64\n",
      "total_area              23699 non-null float64\n",
      "first_day_exposition    23699 non-null object\n",
      "rooms                   23699 non-null int64\n",
      "ceiling_height          14504 non-null float64\n",
      "floors_total            23613 non-null float64\n",
      "living_area             21796 non-null float64\n",
      "floor                   23699 non-null int64\n",
      "is_apartment            2775 non-null object\n",
      "studio                  23699 non-null bool\n",
      "open_plan               23699 non-null bool\n",
      "kitchen_area            21421 non-null float64\n",
      "balcony                 12180 non-null float64\n",
      "locality_name           23650 non-null object\n",
      "airports_nearest        18157 non-null float64\n",
      "cityCenters_nearest     18180 non-null float64\n",
      "parks_around3000        18181 non-null float64\n",
      "parks_nearest           8079 non-null float64\n",
      "ponds_around3000        18181 non-null float64\n",
      "ponds_nearest           9110 non-null float64\n",
      "days_exposition         20518 non-null float64\n",
      "dtypes: bool(2), float64(14), int64(3), object(3)\n",
      "memory usage: 3.7+ MB\n"
     ]
    }
   ],
   "source": [
    "data.info()"
   ]
  },
  {
   "cell_type": "code",
   "execution_count": 4,
   "metadata": {
    "scrolled": true
   },
   "outputs": [
    {
     "data": {
      "text/html": [
       "<div>\n",
       "<style scoped>\n",
       "    .dataframe tbody tr th:only-of-type {\n",
       "        vertical-align: middle;\n",
       "    }\n",
       "\n",
       "    .dataframe tbody tr th {\n",
       "        vertical-align: top;\n",
       "    }\n",
       "\n",
       "    .dataframe thead th {\n",
       "        text-align: right;\n",
       "    }\n",
       "</style>\n",
       "<table border=\"1\" class=\"dataframe\">\n",
       "  <thead>\n",
       "    <tr style=\"text-align: right;\">\n",
       "      <th></th>\n",
       "      <th>total_images</th>\n",
       "      <th>last_price</th>\n",
       "      <th>total_area</th>\n",
       "      <th>rooms</th>\n",
       "      <th>ceiling_height</th>\n",
       "      <th>floors_total</th>\n",
       "      <th>living_area</th>\n",
       "      <th>floor</th>\n",
       "      <th>kitchen_area</th>\n",
       "      <th>balcony</th>\n",
       "      <th>airports_nearest</th>\n",
       "      <th>cityCenters_nearest</th>\n",
       "      <th>parks_around3000</th>\n",
       "      <th>parks_nearest</th>\n",
       "      <th>ponds_around3000</th>\n",
       "      <th>ponds_nearest</th>\n",
       "      <th>days_exposition</th>\n",
       "    </tr>\n",
       "  </thead>\n",
       "  <tbody>\n",
       "    <tr>\n",
       "      <td>count</td>\n",
       "      <td>23699.00</td>\n",
       "      <td>23699.00</td>\n",
       "      <td>23699.00</td>\n",
       "      <td>23699.00</td>\n",
       "      <td>14504.00</td>\n",
       "      <td>23613.00</td>\n",
       "      <td>21796.00</td>\n",
       "      <td>23699.00</td>\n",
       "      <td>21421.00</td>\n",
       "      <td>12180.00</td>\n",
       "      <td>18157.00</td>\n",
       "      <td>18180.00</td>\n",
       "      <td>18181.00</td>\n",
       "      <td>8079.00</td>\n",
       "      <td>18181.00</td>\n",
       "      <td>9110.00</td>\n",
       "      <td>20518.00</td>\n",
       "    </tr>\n",
       "    <tr>\n",
       "      <td>mean</td>\n",
       "      <td>9.86</td>\n",
       "      <td>6541548.77</td>\n",
       "      <td>60.35</td>\n",
       "      <td>2.07</td>\n",
       "      <td>2.77</td>\n",
       "      <td>10.67</td>\n",
       "      <td>34.46</td>\n",
       "      <td>5.89</td>\n",
       "      <td>10.57</td>\n",
       "      <td>1.15</td>\n",
       "      <td>28793.67</td>\n",
       "      <td>14191.28</td>\n",
       "      <td>0.61</td>\n",
       "      <td>490.80</td>\n",
       "      <td>0.77</td>\n",
       "      <td>517.98</td>\n",
       "      <td>180.89</td>\n",
       "    </tr>\n",
       "    <tr>\n",
       "      <td>std</td>\n",
       "      <td>5.68</td>\n",
       "      <td>10887013.27</td>\n",
       "      <td>35.65</td>\n",
       "      <td>1.08</td>\n",
       "      <td>1.26</td>\n",
       "      <td>6.60</td>\n",
       "      <td>22.03</td>\n",
       "      <td>4.89</td>\n",
       "      <td>5.91</td>\n",
       "      <td>1.07</td>\n",
       "      <td>12630.88</td>\n",
       "      <td>8608.39</td>\n",
       "      <td>0.80</td>\n",
       "      <td>342.32</td>\n",
       "      <td>0.94</td>\n",
       "      <td>277.72</td>\n",
       "      <td>219.73</td>\n",
       "    </tr>\n",
       "    <tr>\n",
       "      <td>min</td>\n",
       "      <td>0.00</td>\n",
       "      <td>12190.00</td>\n",
       "      <td>12.00</td>\n",
       "      <td>0.00</td>\n",
       "      <td>1.00</td>\n",
       "      <td>1.00</td>\n",
       "      <td>2.00</td>\n",
       "      <td>1.00</td>\n",
       "      <td>1.30</td>\n",
       "      <td>0.00</td>\n",
       "      <td>0.00</td>\n",
       "      <td>181.00</td>\n",
       "      <td>0.00</td>\n",
       "      <td>1.00</td>\n",
       "      <td>0.00</td>\n",
       "      <td>13.00</td>\n",
       "      <td>1.00</td>\n",
       "    </tr>\n",
       "    <tr>\n",
       "      <td>25%</td>\n",
       "      <td>6.00</td>\n",
       "      <td>3400000.00</td>\n",
       "      <td>40.00</td>\n",
       "      <td>1.00</td>\n",
       "      <td>2.52</td>\n",
       "      <td>5.00</td>\n",
       "      <td>18.60</td>\n",
       "      <td>2.00</td>\n",
       "      <td>7.00</td>\n",
       "      <td>0.00</td>\n",
       "      <td>18585.00</td>\n",
       "      <td>9238.00</td>\n",
       "      <td>0.00</td>\n",
       "      <td>288.00</td>\n",
       "      <td>0.00</td>\n",
       "      <td>294.00</td>\n",
       "      <td>45.00</td>\n",
       "    </tr>\n",
       "    <tr>\n",
       "      <td>50%</td>\n",
       "      <td>9.00</td>\n",
       "      <td>4650000.00</td>\n",
       "      <td>52.00</td>\n",
       "      <td>2.00</td>\n",
       "      <td>2.65</td>\n",
       "      <td>9.00</td>\n",
       "      <td>30.00</td>\n",
       "      <td>4.00</td>\n",
       "      <td>9.10</td>\n",
       "      <td>1.00</td>\n",
       "      <td>26726.00</td>\n",
       "      <td>13098.50</td>\n",
       "      <td>0.00</td>\n",
       "      <td>455.00</td>\n",
       "      <td>1.00</td>\n",
       "      <td>502.00</td>\n",
       "      <td>95.00</td>\n",
       "    </tr>\n",
       "    <tr>\n",
       "      <td>75%</td>\n",
       "      <td>14.00</td>\n",
       "      <td>6800000.00</td>\n",
       "      <td>69.90</td>\n",
       "      <td>3.00</td>\n",
       "      <td>2.80</td>\n",
       "      <td>16.00</td>\n",
       "      <td>42.30</td>\n",
       "      <td>8.00</td>\n",
       "      <td>12.00</td>\n",
       "      <td>2.00</td>\n",
       "      <td>37273.00</td>\n",
       "      <td>16293.00</td>\n",
       "      <td>1.00</td>\n",
       "      <td>612.00</td>\n",
       "      <td>1.00</td>\n",
       "      <td>729.00</td>\n",
       "      <td>232.00</td>\n",
       "    </tr>\n",
       "    <tr>\n",
       "      <td>max</td>\n",
       "      <td>50.00</td>\n",
       "      <td>763000000.00</td>\n",
       "      <td>900.00</td>\n",
       "      <td>19.00</td>\n",
       "      <td>100.00</td>\n",
       "      <td>60.00</td>\n",
       "      <td>409.70</td>\n",
       "      <td>33.00</td>\n",
       "      <td>112.00</td>\n",
       "      <td>5.00</td>\n",
       "      <td>84869.00</td>\n",
       "      <td>65968.00</td>\n",
       "      <td>3.00</td>\n",
       "      <td>3190.00</td>\n",
       "      <td>3.00</td>\n",
       "      <td>1344.00</td>\n",
       "      <td>1580.00</td>\n",
       "    </tr>\n",
       "  </tbody>\n",
       "</table>\n",
       "</div>"
      ],
      "text/plain": [
       "       total_images   last_price  total_area    rooms  ceiling_height  \\\n",
       "count      23699.00     23699.00    23699.00 23699.00        14504.00   \n",
       "mean           9.86   6541548.77       60.35     2.07            2.77   \n",
       "std            5.68  10887013.27       35.65     1.08            1.26   \n",
       "min            0.00     12190.00       12.00     0.00            1.00   \n",
       "25%            6.00   3400000.00       40.00     1.00            2.52   \n",
       "50%            9.00   4650000.00       52.00     2.00            2.65   \n",
       "75%           14.00   6800000.00       69.90     3.00            2.80   \n",
       "max           50.00 763000000.00      900.00    19.00          100.00   \n",
       "\n",
       "       floors_total  living_area    floor  kitchen_area  balcony  \\\n",
       "count      23613.00     21796.00 23699.00      21421.00 12180.00   \n",
       "mean          10.67        34.46     5.89         10.57     1.15   \n",
       "std            6.60        22.03     4.89          5.91     1.07   \n",
       "min            1.00         2.00     1.00          1.30     0.00   \n",
       "25%            5.00        18.60     2.00          7.00     0.00   \n",
       "50%            9.00        30.00     4.00          9.10     1.00   \n",
       "75%           16.00        42.30     8.00         12.00     2.00   \n",
       "max           60.00       409.70    33.00        112.00     5.00   \n",
       "\n",
       "       airports_nearest  cityCenters_nearest  parks_around3000  parks_nearest  \\\n",
       "count          18157.00             18180.00          18181.00        8079.00   \n",
       "mean           28793.67             14191.28              0.61         490.80   \n",
       "std            12630.88              8608.39              0.80         342.32   \n",
       "min                0.00               181.00              0.00           1.00   \n",
       "25%            18585.00              9238.00              0.00         288.00   \n",
       "50%            26726.00             13098.50              0.00         455.00   \n",
       "75%            37273.00             16293.00              1.00         612.00   \n",
       "max            84869.00             65968.00              3.00        3190.00   \n",
       "\n",
       "       ponds_around3000  ponds_nearest  days_exposition  \n",
       "count          18181.00        9110.00         20518.00  \n",
       "mean               0.77         517.98           180.89  \n",
       "std                0.94         277.72           219.73  \n",
       "min                0.00          13.00             1.00  \n",
       "25%                0.00         294.00            45.00  \n",
       "50%                1.00         502.00            95.00  \n",
       "75%                1.00         729.00           232.00  \n",
       "max                3.00        1344.00          1580.00  "
      ]
     },
     "execution_count": 4,
     "metadata": {},
     "output_type": "execute_result"
    }
   ],
   "source": [
    "data.describe()"
   ]
  },
  {
   "cell_type": "markdown",
   "metadata": {},
   "source": [
    "### Вывод"
   ]
  },
  {
   "cell_type": "markdown",
   "metadata": {},
   "source": [
    "В таблице 22 столбца. В столбцах встречаются различные типы данных: bool, int64, float64, object.  \n",
    "В каждой строке таблицы — данные объявления о продаже квартиры.  \n",
    "\n",
    " Описание данных:\n",
    "- airports_nearest — расстояние до ближайшего аэропорта в метрах (м)\n",
    "- balcony — число балконов\n",
    "- ceiling_height — высота потолков (м)\n",
    "- cityCenters_nearest — расстояние до центра города (м)\n",
    "- days_exposition — сколько дней было размещено объявление (от публикации до снятия)\n",
    "- first_day_exposition — дата публикации\n",
    "- floor — этаж\n",
    "- floors_total — всего этажей в доме\n",
    "- is_apartment — апартаменты (булев тип)\n",
    "- kitchen_area — площадь кухни в квадратных метрах (м²)\n",
    "- last_price — цена на момент снятия с публикации\n",
    "- living_area — жилая площадь в квадратных метрах (м²)\n",
    "- locality_name — название населённого пункта\n",
    "- open_plan — свободная планировка (булев тип)\n",
    "- parks_around3000 — число парков в радиусе 3 км\n",
    "- parks_nearest — расстояние до ближайшего парка (м)\n",
    "- ponds_around3000 — число водоёмов в радиусе 3 км\n",
    "- ponds_nearest — расстояние до ближайшего водоёма (м)\n",
    "- rooms — число комнат\n",
    "- studio — квартира-студия (булев тип)\n",
    "- total_area — площадь квартиры в квадратных метрах (м²)\n",
    "- total_images — число фотографий квартиры в объявлении"
   ]
  },
  {
   "cell_type": "markdown",
   "metadata": {},
   "source": [
    "Как видно в данных большое количество пропусков. В некоторых столбцах необходимо изменить тип данных, обработать дубликаты."
   ]
  },
  {
   "cell_type": "markdown",
   "metadata": {},
   "source": [
    "## Предобработка данных"
   ]
  },
  {
   "cell_type": "markdown",
   "metadata": {},
   "source": [
    "### Заполним пропуски"
   ]
  },
  {
   "cell_type": "markdown",
   "metadata": {},
   "source": [
    "Подробное посмотрим в каких столбцах есть пропуски и их количество:"
   ]
  },
  {
   "cell_type": "code",
   "execution_count": 5,
   "metadata": {},
   "outputs": [
    {
     "data": {
      "text/plain": [
       "total_images                0\n",
       "last_price                  0\n",
       "total_area                  0\n",
       "first_day_exposition        0\n",
       "rooms                       0\n",
       "ceiling_height           9195\n",
       "floors_total               86\n",
       "living_area              1903\n",
       "floor                       0\n",
       "is_apartment            20924\n",
       "studio                      0\n",
       "open_plan                   0\n",
       "kitchen_area             2278\n",
       "balcony                 11519\n",
       "locality_name              49\n",
       "airports_nearest         5542\n",
       "cityCenters_nearest      5519\n",
       "parks_around3000         5518\n",
       "parks_nearest           15620\n",
       "ponds_around3000         5518\n",
       "ponds_nearest           14589\n",
       "days_exposition          3181\n",
       "dtype: int64"
      ]
     },
     "execution_count": 5,
     "metadata": {},
     "output_type": "execute_result"
    }
   ],
   "source": [
    "data.isna().sum()"
   ]
  },
  {
   "cell_type": "markdown",
   "metadata": {},
   "source": [
    "**Заполним пропуски в столбце высота потолков (ceiling_height)**"
   ]
  },
  {
   "cell_type": "markdown",
   "metadata": {},
   "source": [
    "Пропуск параметра высота потолка скорее всего носит случайный характер. Часть людей просто не заполняли эти данные в объявлении. "
   ]
  },
  {
   "cell_type": "code",
   "execution_count": 6,
   "metadata": {},
   "outputs": [
    {
     "data": {
      "text/plain": [
       "count   14504.00\n",
       "mean        2.77\n",
       "std         1.26\n",
       "min         1.00\n",
       "25%         2.52\n",
       "50%         2.65\n",
       "75%         2.80\n",
       "max       100.00\n",
       "Name: ceiling_height, dtype: float64"
      ]
     },
     "execution_count": 6,
     "metadata": {},
     "output_type": "execute_result"
    }
   ],
   "source": [
    "data['ceiling_height'].describe()"
   ]
  },
  {
   "cell_type": "markdown",
   "metadata": {},
   "source": [
    "Так как речь идет о квартирах, то высота потолка не должна сильно варьироваться. Заполним пропуски медианой по столбцу."
   ]
  },
  {
   "cell_type": "markdown",
   "metadata": {},
   "source": [
    "<div class=\"alert alert-success\">\n",
    "\n",
    "**✅Комментарий ревьюера**\n",
    "\n",
    "Лучше конкретное число заменить вычисляемым. Это же по сути медиана, ее легко посчитать методом `median`</div>"
   ]
  },
  {
   "cell_type": "code",
   "execution_count": 7,
   "metadata": {},
   "outputs": [
    {
     "data": {
      "text/plain": [
       "('Пропуски после:', 0)"
      ]
     },
     "execution_count": 7,
     "metadata": {},
     "output_type": "execute_result"
    }
   ],
   "source": [
    "data['ceiling_height'] = data['ceiling_height'].fillna(data['ceiling_height'].median())\n",
    "'Пропуски после:', data['ceiling_height'].isna().sum()"
   ]
  },
  {
   "cell_type": "markdown",
   "metadata": {},
   "source": [
    "**Пропуски в столбце количество этажей в доме (floors_total)**"
   ]
  },
  {
   "cell_type": "code",
   "execution_count": 8,
   "metadata": {},
   "outputs": [
    {
     "data": {
      "text/plain": [
       "\"Доля пропусков в столбце 'floors_total': 0.36%\""
      ]
     },
     "execution_count": 8,
     "metadata": {},
     "output_type": "execute_result"
    }
   ],
   "source": [
    "f\"Доля пропусков в столбце 'floors_total': {data['floors_total'].isnull().sum() / len(data):.2%}\""
   ]
  },
  {
   "cell_type": "markdown",
   "metadata": {},
   "source": [
    "Количество этажей в доме нам понадобиться для отнесения этажа квартиры к категории этажа: *последний или другой*. Категорию *первый* определим по этажу. Этажность дома точно определить ориентируясь на этаж не получиться. Так как доля пропусков совсем небольшая, эти пропуски не окажут сильного влияния на распределение. Но необходимо будет менять тип данных в столбце, поэтому необходимо поставить числовое значение. Если заменим пропуски на значения из столбца этаж, то все эти строки кроме первого этажа будут отнесены к категории *последний*. Большинство квартир по логике должны относится к категории *другой*. Заменим пропуски на \"0\"."
   ]
  },
  {
   "cell_type": "code",
   "execution_count": 9,
   "metadata": {},
   "outputs": [
    {
     "data": {
      "text/plain": [
       "('Пропуски после:', 0)"
      ]
     },
     "execution_count": 9,
     "metadata": {},
     "output_type": "execute_result"
    }
   ],
   "source": [
    "data['floors_total'] = data['floors_total'].fillna(0) \n",
    "'Пропуски после:', data['floors_total'].isnull().sum()"
   ]
  },
  {
   "cell_type": "markdown",
   "metadata": {},
   "source": [
    "**Пропуски в столбцах жилая площадь (living_area) и площадь кухни (kitchen_area)**"
   ]
  },
  {
   "cell_type": "markdown",
   "metadata": {},
   "source": [
    "Количество пропусков в данных столбцах достаточно большое и данные нам понадобятся для дальнейшего анализа. "
   ]
  },
  {
   "cell_type": "code",
   "execution_count": 10,
   "metadata": {},
   "outputs": [
    {
     "name": "stdout",
     "output_type": "stream",
     "text": [
      "Доля пропусков в столбце 'living_area': 8.03%\n",
      "Доля пропусков в столбце 'kitchen_area': 9.61%\n"
     ]
    }
   ],
   "source": [
    "print(f\"Доля пропусков в столбце 'living_area': {data['living_area'].isna().sum() / len(data):.2%}\")\n",
    "print(f\"Доля пропусков в столбце 'kitchen_area': {data['kitchen_area'].isna().sum() / len(data):.2%}\")"
   ]
  },
  {
   "cell_type": "markdown",
   "metadata": {},
   "source": [
    "Для заполнения пропусков будем ориентироваться на общую площадь квартиры. Посчитаем долю жилой площади и долю площади кухни от общей площади. И возьмем медиану этих значений для заполнения пропусков. Доля жилой площади, как правило, не должна сильно меняться от значения общей площади. А вот доля площади кухни может уменьшаться с увеличением общей площади. Размер кухни перестанет расти вместе с ростом общей площади. Поэтому можно разбить общую площадь на категории и в зависимости от этой категории заполнять пропуски в столбце площадь кухни.  "
   ]
  },
  {
   "cell_type": "markdown",
   "metadata": {},
   "source": [
    "Выделим категории для общей площади:"
   ]
  },
  {
   "cell_type": "code",
   "execution_count": 11,
   "metadata": {},
   "outputs": [
    {
     "data": {
      "text/plain": [
       "count   23699.00\n",
       "mean       60.35\n",
       "std        35.65\n",
       "min        12.00\n",
       "25%        40.00\n",
       "50%        52.00\n",
       "75%        69.90\n",
       "max       900.00\n",
       "Name: total_area, dtype: float64"
      ]
     },
     "execution_count": 11,
     "metadata": {},
     "output_type": "execute_result"
    }
   ],
   "source": [
    "data['total_area'].describe() # посмотрим распределение общей площади"
   ]
  },
  {
   "cell_type": "code",
   "execution_count": 12,
   "metadata": {},
   "outputs": [],
   "source": [
    "def area_group(area): # объявлем функцию, которая возвращает группу по площади \n",
    "    if area <= 45:        \n",
    "        return 'до_45'\n",
    "    if area <= 80:\n",
    "        return 'от_45_до_80'\n",
    "    if area <= 120:\n",
    "        return 'от_80_до_120'\n",
    "    return 'выше_120'"
   ]
  },
  {
   "cell_type": "code",
   "execution_count": 13,
   "metadata": {},
   "outputs": [
    {
     "data": {
      "text/html": [
       "<div>\n",
       "<style scoped>\n",
       "    .dataframe tbody tr th:only-of-type {\n",
       "        vertical-align: middle;\n",
       "    }\n",
       "\n",
       "    .dataframe tbody tr th {\n",
       "        vertical-align: top;\n",
       "    }\n",
       "\n",
       "    .dataframe thead th {\n",
       "        text-align: right;\n",
       "    }\n",
       "</style>\n",
       "<table border=\"1\" class=\"dataframe\">\n",
       "  <thead>\n",
       "    <tr style=\"text-align: right;\">\n",
       "      <th></th>\n",
       "      <th>total_area</th>\n",
       "      <th>area_group</th>\n",
       "    </tr>\n",
       "  </thead>\n",
       "  <tbody>\n",
       "    <tr>\n",
       "      <td>0</td>\n",
       "      <td>108.00</td>\n",
       "      <td>от_80_до_120</td>\n",
       "    </tr>\n",
       "    <tr>\n",
       "      <td>1</td>\n",
       "      <td>40.40</td>\n",
       "      <td>до_45</td>\n",
       "    </tr>\n",
       "    <tr>\n",
       "      <td>2</td>\n",
       "      <td>56.00</td>\n",
       "      <td>от_45_до_80</td>\n",
       "    </tr>\n",
       "    <tr>\n",
       "      <td>3</td>\n",
       "      <td>159.00</td>\n",
       "      <td>выше_120</td>\n",
       "    </tr>\n",
       "    <tr>\n",
       "      <td>4</td>\n",
       "      <td>100.00</td>\n",
       "      <td>от_80_до_120</td>\n",
       "    </tr>\n",
       "  </tbody>\n",
       "</table>\n",
       "</div>"
      ],
      "text/plain": [
       "   total_area    area_group\n",
       "0      108.00  от_80_до_120\n",
       "1       40.40         до_45\n",
       "2       56.00   от_45_до_80\n",
       "3      159.00      выше_120\n",
       "4      100.00  от_80_до_120"
      ]
     },
     "execution_count": 13,
     "metadata": {},
     "output_type": "execute_result"
    }
   ],
   "source": [
    "data['area_group'] = data['total_area'].apply(area_group) # добавляем новый столбец\n",
    "data.loc[:, ['total_area', 'area_group']].head() # проверим как прошло добавление"
   ]
  },
  {
   "cell_type": "markdown",
   "metadata": {},
   "source": [
    "Построим сводную таблицу для расчета доли жилой площади и доли площади кухни от общей площади:"
   ]
  },
  {
   "cell_type": "code",
   "execution_count": 14,
   "metadata": {
    "scrolled": false
   },
   "outputs": [
    {
     "data": {
      "text/html": [
       "<div>\n",
       "<style scoped>\n",
       "    .dataframe tbody tr th:only-of-type {\n",
       "        vertical-align: middle;\n",
       "    }\n",
       "\n",
       "    .dataframe tbody tr th {\n",
       "        vertical-align: top;\n",
       "    }\n",
       "\n",
       "    .dataframe thead th {\n",
       "        text-align: right;\n",
       "    }\n",
       "</style>\n",
       "<table border=\"1\" class=\"dataframe\">\n",
       "  <thead>\n",
       "    <tr style=\"text-align: right;\">\n",
       "      <th></th>\n",
       "      <th>area_group</th>\n",
       "      <th>total_area</th>\n",
       "      <th>living_area</th>\n",
       "      <th>kitchen_area</th>\n",
       "      <th>last_price</th>\n",
       "      <th>ratio_la</th>\n",
       "      <th>ratio_ka</th>\n",
       "    </tr>\n",
       "  </thead>\n",
       "  <tbody>\n",
       "    <tr>\n",
       "      <td>0</td>\n",
       "      <td>выше_120</td>\n",
       "      <td>120.10</td>\n",
       "      <td>63.70</td>\n",
       "      <td>32.30</td>\n",
       "      <td>1</td>\n",
       "      <td>0.53</td>\n",
       "      <td>0.27</td>\n",
       "    </tr>\n",
       "    <tr>\n",
       "      <td>1</td>\n",
       "      <td>выше_120</td>\n",
       "      <td>120.10</td>\n",
       "      <td>73.40</td>\n",
       "      <td>11.00</td>\n",
       "      <td>1</td>\n",
       "      <td>0.61</td>\n",
       "      <td>0.09</td>\n",
       "    </tr>\n",
       "    <tr>\n",
       "      <td>2</td>\n",
       "      <td>выше_120</td>\n",
       "      <td>120.40</td>\n",
       "      <td>63.90</td>\n",
       "      <td>25.20</td>\n",
       "      <td>1</td>\n",
       "      <td>0.53</td>\n",
       "      <td>0.21</td>\n",
       "    </tr>\n",
       "    <tr>\n",
       "      <td>3</td>\n",
       "      <td>выше_120</td>\n",
       "      <td>120.40</td>\n",
       "      <td>67.20</td>\n",
       "      <td>18.30</td>\n",
       "      <td>1</td>\n",
       "      <td>0.56</td>\n",
       "      <td>0.15</td>\n",
       "    </tr>\n",
       "    <tr>\n",
       "      <td>4</td>\n",
       "      <td>выше_120</td>\n",
       "      <td>120.40</td>\n",
       "      <td>70.48</td>\n",
       "      <td>17.59</td>\n",
       "      <td>1</td>\n",
       "      <td>0.59</td>\n",
       "      <td>0.15</td>\n",
       "    </tr>\n",
       "    <tr>\n",
       "      <td>...</td>\n",
       "      <td>...</td>\n",
       "      <td>...</td>\n",
       "      <td>...</td>\n",
       "      <td>...</td>\n",
       "      <td>...</td>\n",
       "      <td>...</td>\n",
       "      <td>...</td>\n",
       "    </tr>\n",
       "    <tr>\n",
       "      <td>18023</td>\n",
       "      <td>от_80_до_120</td>\n",
       "      <td>120.00</td>\n",
       "      <td>81.00</td>\n",
       "      <td>11.00</td>\n",
       "      <td>1</td>\n",
       "      <td>0.68</td>\n",
       "      <td>0.09</td>\n",
       "    </tr>\n",
       "    <tr>\n",
       "      <td>18024</td>\n",
       "      <td>от_80_до_120</td>\n",
       "      <td>120.00</td>\n",
       "      <td>81.50</td>\n",
       "      <td>11.50</td>\n",
       "      <td>1</td>\n",
       "      <td>0.68</td>\n",
       "      <td>0.10</td>\n",
       "    </tr>\n",
       "    <tr>\n",
       "      <td>18025</td>\n",
       "      <td>от_80_до_120</td>\n",
       "      <td>120.00</td>\n",
       "      <td>85.00</td>\n",
       "      <td>11.00</td>\n",
       "      <td>1</td>\n",
       "      <td>0.71</td>\n",
       "      <td>0.09</td>\n",
       "    </tr>\n",
       "    <tr>\n",
       "      <td>18026</td>\n",
       "      <td>от_80_до_120</td>\n",
       "      <td>120.00</td>\n",
       "      <td>91.70</td>\n",
       "      <td>10.40</td>\n",
       "      <td>1</td>\n",
       "      <td>0.76</td>\n",
       "      <td>0.09</td>\n",
       "    </tr>\n",
       "    <tr>\n",
       "      <td>18027</td>\n",
       "      <td>от_80_до_120</td>\n",
       "      <td>120.00</td>\n",
       "      <td>96.00</td>\n",
       "      <td>18.00</td>\n",
       "      <td>1</td>\n",
       "      <td>0.80</td>\n",
       "      <td>0.15</td>\n",
       "    </tr>\n",
       "  </tbody>\n",
       "</table>\n",
       "<p>18028 rows × 7 columns</p>\n",
       "</div>"
      ],
      "text/plain": [
       "         area_group  total_area  living_area  kitchen_area  last_price  \\\n",
       "0          выше_120      120.10        63.70         32.30           1   \n",
       "1          выше_120      120.10        73.40         11.00           1   \n",
       "2          выше_120      120.40        63.90         25.20           1   \n",
       "3          выше_120      120.40        67.20         18.30           1   \n",
       "4          выше_120      120.40        70.48         17.59           1   \n",
       "...             ...         ...          ...           ...         ...   \n",
       "18023  от_80_до_120      120.00        81.00         11.00           1   \n",
       "18024  от_80_до_120      120.00        81.50         11.50           1   \n",
       "18025  от_80_до_120      120.00        85.00         11.00           1   \n",
       "18026  от_80_до_120      120.00        91.70         10.40           1   \n",
       "18027  от_80_до_120      120.00        96.00         18.00           1   \n",
       "\n",
       "       ratio_la  ratio_ka  \n",
       "0          0.53      0.27  \n",
       "1          0.61      0.09  \n",
       "2          0.53      0.21  \n",
       "3          0.56      0.15  \n",
       "4          0.59      0.15  \n",
       "...         ...       ...  \n",
       "18023      0.68      0.09  \n",
       "18024      0.68      0.10  \n",
       "18025      0.71      0.09  \n",
       "18026      0.76      0.09  \n",
       "18027      0.80      0.15  \n",
       "\n",
       "[18028 rows x 7 columns]"
      ]
     },
     "execution_count": 14,
     "metadata": {},
     "output_type": "execute_result"
    }
   ],
   "source": [
    "data_area = data.pivot_table(index=['area_group', 'total_area', 'living_area', 'kitchen_area'], values='last_price', aggfunc='count')\n",
    "data_area_ri = data_area.reset_index()\n",
    "data_area_ri['ratio_la'] = data_area_ri['living_area'] / data_area_ri['total_area'] # доля жилой площади от общей площади\n",
    "data_area_ri['ratio_ka'] = data_area_ri['kitchen_area'] / data_area_ri['total_area'] # доля площади кухни от общей площади\n",
    "data_area_ri "
   ]
  },
  {
   "cell_type": "code",
   "execution_count": 15,
   "metadata": {},
   "outputs": [
    {
     "name": "stdout",
     "output_type": "stream",
     "text": [
      "Медиана доли жилой площади 56.72%\n",
      "Медиана доли площади кухни 17.04%\n"
     ]
    }
   ],
   "source": [
    "median_ratio_la = data_area_ri['ratio_la'].median()\n",
    "median_ratio_ka = data_area_ri['ratio_ka'].median()\n",
    "print('Медиана доли жилой площади', f\"{median_ratio_la:.2%}\")\n",
    "print('Медиана доли площади кухни', f\"{median_ratio_ka:.2%}\")"
   ]
  },
  {
   "cell_type": "markdown",
   "metadata": {},
   "source": [
    "Заполним сначала пропуски в столбце столбце жилая площадь:"
   ]
  },
  {
   "cell_type": "code",
   "execution_count": 16,
   "metadata": {},
   "outputs": [
    {
     "name": "stdout",
     "output_type": "stream",
     "text": [
      "Пропуски до: 1903\n",
      "Пропуски после: 0\n"
     ]
    }
   ],
   "source": [
    "print('Пропуски до:', data['living_area'].isna().sum())\n",
    "data['living_area'] = data['living_area'].fillna(median_ratio_la)\n",
    "print('Пропуски после:', data['living_area'].isna().sum()) #unique"
   ]
  },
  {
   "cell_type": "markdown",
   "metadata": {},
   "source": [
    "Для заполнения пропусков в площади кухни будем ориентироваться на категорию общей площади. Потому что мы предположили, что доля площади кухни может уменьшаться с увеличением общей площади.  \n",
    "Посмотрим как меняется медиана доли по группам плошади:"
   ]
  },
  {
   "cell_type": "code",
   "execution_count": 17,
   "metadata": {
    "scrolled": true
   },
   "outputs": [
    {
     "data": {
      "text/html": [
       "<div>\n",
       "<style scoped>\n",
       "    .dataframe tbody tr th:only-of-type {\n",
       "        vertical-align: middle;\n",
       "    }\n",
       "\n",
       "    .dataframe tbody tr th {\n",
       "        vertical-align: top;\n",
       "    }\n",
       "\n",
       "    .dataframe thead th {\n",
       "        text-align: right;\n",
       "    }\n",
       "</style>\n",
       "<table border=\"1\" class=\"dataframe\">\n",
       "  <thead>\n",
       "    <tr style=\"text-align: right;\">\n",
       "      <th></th>\n",
       "      <th>median_ka</th>\n",
       "    </tr>\n",
       "    <tr>\n",
       "      <th>area_group</th>\n",
       "      <th></th>\n",
       "    </tr>\n",
       "  </thead>\n",
       "  <tbody>\n",
       "    <tr>\n",
       "      <td>выше_120</td>\n",
       "      <td>0.12</td>\n",
       "    </tr>\n",
       "    <tr>\n",
       "      <td>до_45</td>\n",
       "      <td>0.23</td>\n",
       "    </tr>\n",
       "    <tr>\n",
       "      <td>от_45_до_80</td>\n",
       "      <td>0.15</td>\n",
       "    </tr>\n",
       "    <tr>\n",
       "      <td>от_80_до_120</td>\n",
       "      <td>0.14</td>\n",
       "    </tr>\n",
       "  </tbody>\n",
       "</table>\n",
       "</div>"
      ],
      "text/plain": [
       "              median_ka\n",
       "area_group             \n",
       "выше_120           0.12\n",
       "до_45              0.23\n",
       "от_45_до_80        0.15\n",
       "от_80_до_120       0.14"
      ]
     },
     "execution_count": 17,
     "metadata": {},
     "output_type": "execute_result"
    }
   ],
   "source": [
    "area_grouped = data_area_ri.groupby('area_group').agg({'ratio_ka':['median']}) \n",
    "area_grouped.columns = ['median_ka']\n",
    "area_grouped"
   ]
  },
  {
   "cell_type": "markdown",
   "metadata": {},
   "source": [
    "В целом доля площади кухни уменьшается при росте общей площади. Медиана доли площади кухни составляет 17.04% и не сильно разниться со значеннями по группам площади, но тем не менее заполним пропуски в столбце площадь кухни в зависимости от категории общей площади. В данном случает полученные значения более точны."
   ]
  },
  {
   "cell_type": "code",
   "execution_count": 18,
   "metadata": {
    "scrolled": true
   },
   "outputs": [
    {
     "name": "stdout",
     "output_type": "stream",
     "text": [
      "Пропуски после: 0\n"
     ]
    }
   ],
   "source": [
    "for group in area_grouped.index:\n",
    "    median_ratio = area_grouped.loc[group, 'median_ka']\n",
    "    \n",
    "    data.loc[(data['kitchen_area'].isna()) & (data['area_group'] == group), 'kitchen_area'] = median_ratio\n",
    "    \n",
    "print('Пропуски после:', data['kitchen_area'].isna().sum())"
   ]
  },
  {
   "cell_type": "markdown",
   "metadata": {},
   "source": [
    "**Пропуски в столбце апартаменты (is_apartment)**"
   ]
  },
  {
   "cell_type": "markdown",
   "metadata": {},
   "source": [
    "Самое большое количество пропусков 20924. Определить является ли квартира апартаментами опираясь на имеющиеся данные не получиться. Скорее всего люди просто не указывали этот параметр в объявлении потому что апартаменты это редкость. Вероятно большинство квартир в выборке не апартамены, но наверняка сказать о влиянии этого фактора на цену не получиться. Заменим пропуски \"False\"."
   ]
  },
  {
   "cell_type": "code",
   "execution_count": 19,
   "metadata": {},
   "outputs": [
    {
     "data": {
      "text/plain": [
       "('Пропуски после:', 0)"
      ]
     },
     "execution_count": 19,
     "metadata": {},
     "output_type": "execute_result"
    }
   ],
   "source": [
    "data['is_apartment'] = data['is_apartment'].fillna(False)\n",
    "'Пропуски после:', data['is_apartment'].isna().sum()"
   ]
  },
  {
   "cell_type": "markdown",
   "metadata": {},
   "source": [
    "**Пропуски в столбце число балконов (balcony)**"
   ]
  },
  {
   "cell_type": "markdown",
   "metadata": {},
   "source": [
    "Если человек не указал число балконов — скорее всего, их нет. Такие пропуски заменим на 0."
   ]
  },
  {
   "cell_type": "code",
   "execution_count": 20,
   "metadata": {},
   "outputs": [
    {
     "data": {
      "text/plain": [
       "('Пропуски после:', 0)"
      ]
     },
     "execution_count": 20,
     "metadata": {},
     "output_type": "execute_result"
    }
   ],
   "source": [
    "data['balcony'] = data['balcony'].fillna(0)\n",
    "'Пропуски после:', data['balcony'].isna().sum()"
   ]
  },
  {
   "cell_type": "markdown",
   "metadata": {},
   "source": [
    "**Пропуски в столбце `сколько дней размещено объявление` (days_exposition)**"
   ]
  },
  {
   "cell_type": "markdown",
   "metadata": {},
   "source": [
    "Судя по всему этот параметр рассчитывается как разница между датой публикацией и датой снятия объявления. Скорее всего пропуски связаны с техническими ошибками. Заполнить пропуски в даном столбце не получиться. Зполним пропуски на 0 чтобы изменить тип данных в столбце."
   ]
  },
  {
   "cell_type": "code",
   "execution_count": 21,
   "metadata": {},
   "outputs": [
    {
     "data": {
      "text/plain": [
       "('Пропуски после:', 0)"
      ]
     },
     "execution_count": 21,
     "metadata": {},
     "output_type": "execute_result"
    }
   ],
   "source": [
    "data['days_exposition'] = data['days_exposition'].fillna(0)\n",
    "'Пропуски после:', data['days_exposition'].isna().sum()"
   ]
  },
  {
   "cell_type": "markdown",
   "metadata": {},
   "source": [
    "**Пропуски в остальных столбцах**"
   ]
  },
  {
   "cell_type": "markdown",
   "metadata": {},
   "source": [
    "Для пропусков в столбцах где указано расстояние до различных объектов, а также количество этих объектов в радиусе 3 км нет подходящего значения на замену. Поэтому их придется оставить пустыми.\n",
    "- airports_nearest\n",
    "- cityCenters_nearest\n",
    "- parks_around3000\n",
    "- parks_nearest\n",
    "- ponds_around3000\n",
    "- ponds_nearest"
   ]
  },
  {
   "cell_type": "code",
   "execution_count": 22,
   "metadata": {
    "scrolled": false
   },
   "outputs": [
    {
     "name": "stdout",
     "output_type": "stream",
     "text": [
      "Доля пропусков в столбце 'locality_name': 0.21%\n"
     ]
    }
   ],
   "source": [
    "print(f\"Доля пропусков в столбце 'locality_name': {data['locality_name'].isna().sum() / len(data):.2%}\")"
   ]
  },
  {
   "cell_type": "markdown",
   "metadata": {},
   "source": [
    "Пропуски в столбце населенный пункт заполнить не получиться. Так как доля пропусков совсем небольшая, эти пропуски не окажут сильного влияния на распределение. Но так как нам предстоитработать с этим столбцом заполним значения строкой 'unknown'."
   ]
  },
  {
   "cell_type": "code",
   "execution_count": 23,
   "metadata": {},
   "outputs": [],
   "source": [
    "data['locality_name'] = data['locality_name'].fillna('unknown')"
   ]
  },
  {
   "cell_type": "markdown",
   "metadata": {},
   "source": [
    "### Замена типа данных"
   ]
  },
  {
   "cell_type": "code",
   "execution_count": 24,
   "metadata": {},
   "outputs": [
    {
     "data": {
      "text/plain": [
       "total_images              int64\n",
       "last_price              float64\n",
       "total_area              float64\n",
       "first_day_exposition     object\n",
       "rooms                     int64\n",
       "ceiling_height          float64\n",
       "floors_total            float64\n",
       "living_area             float64\n",
       "floor                     int64\n",
       "is_apartment               bool\n",
       "studio                     bool\n",
       "open_plan                  bool\n",
       "kitchen_area            float64\n",
       "balcony                 float64\n",
       "locality_name            object\n",
       "airports_nearest        float64\n",
       "cityCenters_nearest     float64\n",
       "parks_around3000        float64\n",
       "parks_nearest           float64\n",
       "ponds_around3000        float64\n",
       "ponds_nearest           float64\n",
       "days_exposition         float64\n",
       "area_group               object\n",
       "dtype: object"
      ]
     },
     "execution_count": 24,
     "metadata": {},
     "output_type": "execute_result"
    }
   ],
   "source": [
    "data.dtypes"
   ]
  },
  {
   "cell_type": "markdown",
   "metadata": {},
   "source": [
    "Заменим в столбцах `floors_total`, `balcony`, `last_price`, `days_exposition` тип данных вещественный float на целочисленный int. По логике количество этажей в доме должно быть целым как и количество балконов. Цена квартиры и количество дней приведем к целочисленному типу."
   ]
  },
  {
   "cell_type": "code",
   "execution_count": 25,
   "metadata": {},
   "outputs": [],
   "source": [
    "data['floors_total'] = data['floors_total'].astype('int')\n",
    "data['balcony'] = data['balcony'].astype('int') \n",
    "data['last_price'] = data['last_price'].astype('int')\n",
    "data['days_exposition'] = data['days_exposition'].astype('int')"
   ]
  },
  {
   "cell_type": "markdown",
   "metadata": {},
   "source": [
    "Переведем данные столбца `first_day_exposition` из строки в тип datetime"
   ]
  },
  {
   "cell_type": "code",
   "execution_count": 26,
   "metadata": {},
   "outputs": [],
   "source": [
    "data['first_day_exposition'] = pd.to_datetime(data['first_day_exposition'], format='%Y-%m-%dT%H:%M:%S')"
   ]
  },
  {
   "cell_type": "code",
   "execution_count": 27,
   "metadata": {},
   "outputs": [
    {
     "data": {
      "text/plain": [
       "total_images                     int64\n",
       "last_price                       int64\n",
       "total_area                     float64\n",
       "first_day_exposition    datetime64[ns]\n",
       "rooms                            int64\n",
       "ceiling_height                 float64\n",
       "floors_total                     int64\n",
       "living_area                    float64\n",
       "floor                            int64\n",
       "is_apartment                      bool\n",
       "studio                            bool\n",
       "open_plan                         bool\n",
       "kitchen_area                   float64\n",
       "balcony                          int64\n",
       "locality_name                   object\n",
       "airports_nearest               float64\n",
       "cityCenters_nearest            float64\n",
       "parks_around3000               float64\n",
       "parks_nearest                  float64\n",
       "ponds_around3000               float64\n",
       "ponds_nearest                  float64\n",
       "days_exposition                  int64\n",
       "area_group                      object\n",
       "dtype: object"
      ]
     },
     "execution_count": 27,
     "metadata": {},
     "output_type": "execute_result"
    }
   ],
   "source": [
    "data.dtypes"
   ]
  },
  {
   "cell_type": "markdown",
   "metadata": {},
   "source": [
    "### Обработка дубликатов  \n",
    "\n",
    "Проверим столбец населенный пункт"
   ]
  },
  {
   "cell_type": "code",
   "execution_count": 28,
   "metadata": {},
   "outputs": [
    {
     "data": {
      "text/plain": [
       "array(['Санкт-Петербург', 'посёлок Шушары', 'городской посёлок Янино-1',\n",
       "       'посёлок Парголово', 'посёлок Мурино', 'Ломоносов', 'Сертолово',\n",
       "       'Петергоф', 'Пушкин', 'деревня Кудрово', 'Коммунар', 'Колпино',\n",
       "       'поселок городского типа Красный Бор', 'Гатчина', 'поселок Мурино',\n",
       "       'деревня Фёдоровское', 'Выборг', 'Кронштадт', 'Кировск',\n",
       "       'деревня Новое Девяткино', 'посёлок Металлострой',\n",
       "       'посёлок городского типа Лебяжье',\n",
       "       'посёлок городского типа Сиверский', 'поселок Молодцово',\n",
       "       'поселок городского типа Кузьмоловский',\n",
       "       'садовое товарищество Новая Ропша', 'Павловск',\n",
       "       'деревня Пикколово', 'Всеволожск', 'Волхов', 'Кингисепп',\n",
       "       'Приозерск', 'Сестрорецк', 'деревня Куттузи', 'посёлок Аннино',\n",
       "       'поселок городского типа Ефимовский', 'посёлок Плодовое',\n",
       "       'деревня Заклинье', 'поселок Торковичи', 'поселок Первомайское',\n",
       "       'Красное Село', 'посёлок Понтонный', 'Сясьстрой', 'деревня Старая',\n",
       "       'деревня Лесколово', 'посёлок Новый Свет', 'Сланцы',\n",
       "       'село Путилово', 'Ивангород', 'Мурино', 'Шлиссельбург',\n",
       "       'Никольское', 'Зеленогорск', 'Сосновый Бор', 'поселок Новый Свет',\n",
       "       'деревня Оржицы', 'деревня Кальтино', 'Кудрово',\n",
       "       'поселок Романовка', 'посёлок Бугры', 'поселок Бугры',\n",
       "       'поселок городского типа Рощино', 'Кириши', 'Луга', 'Волосово',\n",
       "       'Отрадное', 'село Павлово', 'поселок Оредеж', 'село Копорье',\n",
       "       'посёлок городского типа Красный Бор', 'посёлок Молодёжное',\n",
       "       'Тихвин', 'посёлок Победа', 'деревня Нурма',\n",
       "       'поселок городского типа Синявино', 'Тосно',\n",
       "       'посёлок городского типа Кузьмоловский', 'посёлок Стрельна',\n",
       "       'Бокситогорск', 'посёлок Александровская', 'деревня Лопухинка',\n",
       "       'Пикалёво', 'поселок Терволово',\n",
       "       'поселок городского типа Советский', 'Подпорожье',\n",
       "       'посёлок Петровское', 'посёлок городского типа Токсово',\n",
       "       'поселок Сельцо', 'посёлок городского типа Вырица',\n",
       "       'деревня Кипень', 'деревня Келози', 'деревня Вартемяги',\n",
       "       'посёлок Тельмана', 'поселок Севастьяново',\n",
       "       'городской поселок Большая Ижора', 'unknown',\n",
       "       'городской посёлок Павлово', 'деревня Агалатово',\n",
       "       'посёлок Новогорелово', 'городской посёлок Лесогорский',\n",
       "       'деревня Лаголово', 'поселок Цвелодубово',\n",
       "       'поселок городского типа Рахья', 'поселок городского типа Вырица',\n",
       "       'деревня Белогорка', 'поселок Заводской',\n",
       "       'городской посёлок Новоселье', 'деревня Большие Колпаны',\n",
       "       'деревня Горбунки', 'деревня Батово', 'деревня Заневка',\n",
       "       'деревня Иссад', 'Приморск', 'городской посёлок Фёдоровское',\n",
       "       'деревня Мистолово', 'Новая Ладога', 'поселок Зимитицы',\n",
       "       'поселок Барышево', 'деревня Разметелево',\n",
       "       'поселок городского типа имени Свердлова', 'деревня Пеники',\n",
       "       'поселок Рябово', 'деревня Пудомяги', 'поселок станции Корнево',\n",
       "       'деревня Низино', 'деревня Бегуницы', 'посёлок Поляны',\n",
       "       'городской посёлок Мга', 'поселок Елизаветино',\n",
       "       'посёлок городского типа Кузнечное', 'деревня Колтуши',\n",
       "       'поселок Запорожское', 'посёлок городского типа Рощино',\n",
       "       'деревня Гостилицы', 'деревня Малое Карлино',\n",
       "       'посёлок Мичуринское', 'посёлок городского типа имени Морозова',\n",
       "       'посёлок Песочный', 'посёлок Сосново', 'деревня Аро',\n",
       "       'поселок Ильичёво', 'посёлок городского типа Тайцы',\n",
       "       'деревня Малое Верево', 'деревня Извара', 'поселок станции Вещево',\n",
       "       'село Паша', 'деревня Калитино',\n",
       "       'посёлок городского типа Ульяновка', 'деревня Чудской Бор',\n",
       "       'поселок городского типа Дубровка', 'деревня Мины',\n",
       "       'поселок Войсковицы', 'посёлок городского типа имени Свердлова',\n",
       "       'деревня Коркино', 'посёлок Ропша',\n",
       "       'поселок городского типа Приладожский', 'посёлок Щеглово',\n",
       "       'посёлок Гаврилово', 'Лодейное Поле', 'деревня Рабитицы',\n",
       "       'поселок городского типа Никольский', 'деревня Кузьмолово',\n",
       "       'деревня Малые Колпаны', 'поселок Тельмана',\n",
       "       'посёлок Петро-Славянка', 'городской посёлок Назия',\n",
       "       'посёлок Репино', 'посёлок Ильичёво', 'поселок Углово',\n",
       "       'поселок Старая Малукса', 'садовое товарищество Рахья',\n",
       "       'поселок Аннино', 'поселок Победа', 'деревня Меньково',\n",
       "       'деревня Старые Бегуницы', 'посёлок Сапёрный', 'поселок Семрино',\n",
       "       'поселок Гаврилово', 'поселок Глажево', 'поселок Кобринское',\n",
       "       'деревня Гарболово', 'деревня Юкки',\n",
       "       'поселок станции Приветнинское', 'деревня Мануйлово',\n",
       "       'деревня Пчева', 'поселок Поляны', 'поселок Цвылёво',\n",
       "       'поселок Мельниково', 'посёлок Пудость', 'посёлок Усть-Луга',\n",
       "       'Светогорск', 'Любань', 'поселок Селезнёво',\n",
       "       'поселок городского типа Рябово', 'Каменногорск', 'деревня Кривко',\n",
       "       'поселок Глебычево', 'деревня Парицы', 'поселок Жилпосёлок',\n",
       "       'посёлок городского типа Мга', 'городской поселок Янино-1',\n",
       "       'посёлок Войскорово', 'село Никольское', 'посёлок Терволово',\n",
       "       'поселок Стеклянный', 'посёлок городского типа Важины',\n",
       "       'посёлок Мыза-Ивановка', 'село Русско-Высоцкое',\n",
       "       'поселок городского типа Лебяжье',\n",
       "       'поселок городского типа Форносово', 'село Старая Ладога',\n",
       "       'поселок Житково', 'городской посёлок Виллози', 'деревня Лампово',\n",
       "       'деревня Шпаньково', 'деревня Лаврики', 'посёлок Сумино',\n",
       "       'посёлок Возрождение', 'деревня Старосиверская',\n",
       "       'посёлок Кикерино', 'поселок Возрождение',\n",
       "       'деревня Старое Хинколово', 'посёлок Пригородный',\n",
       "       'посёлок Торфяное', 'городской посёлок Будогощь',\n",
       "       'поселок Суходолье', 'поселок Красная Долина', 'деревня Хапо-Ое',\n",
       "       'поселок городского типа Дружная Горка', 'поселок Лисий Нос',\n",
       "       'деревня Яльгелево', 'посёлок Стеклянный', 'село Рождествено',\n",
       "       'деревня Старополье', 'посёлок Левашово', 'деревня Сяськелево',\n",
       "       'деревня Камышовка',\n",
       "       'садоводческое некоммерческое товарищество Лесная Поляна',\n",
       "       'деревня Хязельки', 'поселок Жилгородок',\n",
       "       'посёлок городского типа Павлово', 'деревня Ялгино',\n",
       "       'поселок Новый Учхоз', 'городской посёлок Рощино',\n",
       "       'поселок Гончарово', 'поселок Почап', 'посёлок Сапёрное',\n",
       "       'посёлок Платформа 69-й километр', 'поселок Каложицы',\n",
       "       'деревня Фалилеево', 'деревня Пельгора',\n",
       "       'поселок городского типа Лесогорский', 'деревня Торошковичи',\n",
       "       'посёлок Белоостров', 'посёлок Алексеевка', 'поселок Серебрянский',\n",
       "       'поселок Лукаши', 'поселок Петровское', 'деревня Щеглово',\n",
       "       'поселок Мичуринское', 'деревня Тарасово', 'поселок Кингисеппский',\n",
       "       'посёлок при железнодорожной станции Вещево', 'поселок Ушаки',\n",
       "       'деревня Котлы', 'деревня Сижно', 'деревня Торосово',\n",
       "       'посёлок Форт Красная Горка', 'поселок городского типа Токсово',\n",
       "       'деревня Новолисино', 'посёлок станции Громово', 'деревня Глинка',\n",
       "       'посёлок Мельниково', 'поселок городского типа Назия',\n",
       "       'деревня Старая Пустошь', 'поселок Коммунары', 'поселок Починок',\n",
       "       'посёлок городского типа Вознесенье', 'деревня Разбегаево',\n",
       "       'посёлок городского типа Рябово', 'поселок Гладкое',\n",
       "       'посёлок при железнодорожной станции Приветнинское',\n",
       "       'поселок Тёсово-4', 'посёлок Жилгородок', 'деревня Бор',\n",
       "       'посёлок Коробицыно', 'деревня Большая Вруда', 'деревня Курковицы',\n",
       "       'посёлок Лисий Нос', 'городской посёлок Советский',\n",
       "       'посёлок Кобралово', 'деревня Суоранда', 'поселок Кобралово',\n",
       "       'поселок городского типа Кондратьево',\n",
       "       'коттеджный поселок Счастье', 'поселок Любань', 'деревня Реброво',\n",
       "       'деревня Зимитицы', 'деревня Тойворово', 'поселок Семиозерье',\n",
       "       'поселок Лесное', 'поселок Совхозный', 'поселок Усть-Луга',\n",
       "       'посёлок Ленинское', 'посёлок Суйда',\n",
       "       'посёлок городского типа Форносово', 'деревня Нижние Осельки',\n",
       "       'посёлок станции Свирь', 'поселок Перово', 'Высоцк',\n",
       "       'поселок Гарболово', 'село Шум', 'поселок Котельский',\n",
       "       'поселок станции Лужайка', 'деревня Большая Пустомержа',\n",
       "       'поселок Красносельское', 'деревня Вахнова Кара', 'деревня Пижма',\n",
       "       'коттеджный поселок Кивеннапа Север', 'поселок Коробицыно',\n",
       "       'поселок Ромашки', 'посёлок Перово', 'деревня Каськово',\n",
       "       'деревня Куровицы', 'посёлок Плоское', 'поселок Сумино',\n",
       "       'поселок городского типа Большая Ижора', 'поселок Кирпичное',\n",
       "       'деревня Ям-Тесово', 'деревня Раздолье', 'деревня Терпилицы',\n",
       "       'посёлок Шугозеро', 'деревня Ваганово', 'поселок Пушное',\n",
       "       'садовое товарищество Садко', 'посёлок Усть-Ижора',\n",
       "       'деревня Выскатка', 'городской посёлок Свирьстрой',\n",
       "       'поселок Громово', 'деревня Кисельня', 'посёлок Старая Малукса',\n",
       "       'деревня Трубников Бор', 'поселок Калитино',\n",
       "       'посёлок Высокоключевой', 'садовое товарищество Приладожский',\n",
       "       'посёлок Пансионат Зелёный Бор', 'деревня Ненимяки',\n",
       "       'поселок Пансионат Зелёный Бор', 'деревня Снегирёвка',\n",
       "       'деревня Рапполово', 'деревня Пустынка', 'поселок Рабитицы',\n",
       "       'деревня Большой Сабск', 'деревня Русско', 'деревня Лупполово',\n",
       "       'деревня Большое Рейзино', 'деревня Малая Романовка',\n",
       "       'поселок Дружноселье', 'поселок Пчевжа', 'поселок Володарское',\n",
       "       'деревня Нижняя', 'коттеджный посёлок Лесное', 'деревня Тихковицы',\n",
       "       'деревня Борисова Грива', 'посёлок Дзержинского'], dtype=object)"
      ]
     },
     "execution_count": 28,
     "metadata": {},
     "output_type": "execute_result"
    }
   ],
   "source": [
    "data['locality_name'].unique()"
   ]
  },
  {
   "cell_type": "markdown",
   "metadata": {},
   "source": [
    "В столбце имеются неявные дубликаты в связи с разным написанием типа населенного пункта. Например, \"посёлок Мурино\", \"поселок Мурино\". Убирем тип населенного пункта, оставим только название.  \n",
    "Составим список типов населенного пункта:"
   ]
  },
  {
   "cell_type": "code",
   "execution_count": 29,
   "metadata": {},
   "outputs": [],
   "source": [
    "old_list = ['деревня ', 'посёлок городского типа ', 'поселок городского типа ', 'городской поселок ',\n",
    "            'городской посёлок ', 'поселок станции ', 'посёлок станции','коттеджный поселок ', 'коттеджный посёлок ', \n",
    "            'посёлок ', 'поселок ', 'садовое товарищество', 'село ']"
   ]
  },
  {
   "cell_type": "code",
   "execution_count": 30,
   "metadata": {},
   "outputs": [],
   "source": [
    "for row in old_list:\n",
    "    data['locality_name'] = data['locality_name'].str.replace(row, '')"
   ]
  },
  {
   "cell_type": "code",
   "execution_count": 31,
   "metadata": {
    "scrolled": true
   },
   "outputs": [
    {
     "data": {
      "text/plain": [
       "array(['Санкт-Петербург', 'Шушары', 'Янино-1', 'Парголово', 'Мурино',\n",
       "       'Ломоносов', 'Сертолово', 'Петергоф', 'Пушкин', 'Кудрово',\n",
       "       'Коммунар', 'Колпино', 'Красный Бор', 'Гатчина', 'Фёдоровское',\n",
       "       'Выборг', 'Кронштадт', 'Кировск', 'Новое Девяткино',\n",
       "       'Металлострой', 'Лебяжье', 'Сиверский', 'Молодцово',\n",
       "       'Кузьмоловский', ' Новая Ропша', 'Павловск', 'Пикколово',\n",
       "       'Всеволожск', 'Волхов', 'Кингисепп', 'Приозерск', 'Сестрорецк',\n",
       "       'Куттузи', 'Аннино', 'Ефимовский', 'Плодовое', 'Заклинье',\n",
       "       'Торковичи', 'Первомайское', 'Красное Село', 'Понтонный',\n",
       "       'Сясьстрой', 'Старая', 'Лесколово', 'Новый Свет', 'Сланцы',\n",
       "       'Путилово', 'Ивангород', 'Шлиссельбург', 'Никольское',\n",
       "       'Зеленогорск', 'Сосновый Бор', 'Оржицы', 'Кальтино', 'Романовка',\n",
       "       'Бугры', 'Рощино', 'Кириши', 'Луга', 'Волосово', 'Отрадное',\n",
       "       'Павлово', 'Оредеж', 'Копорье', 'Молодёжное', 'Тихвин', 'Победа',\n",
       "       'Нурма', 'Синявино', 'Тосно', 'Стрельна', 'Бокситогорск',\n",
       "       'Александровская', 'Лопухинка', 'Пикалёво', 'Терволово',\n",
       "       'Советский', 'Подпорожье', 'Петровское', 'Токсово', 'Сельцо',\n",
       "       'Вырица', 'Кипень', 'Келози', 'Вартемяги', 'Тельмана',\n",
       "       'Севастьяново', 'Большая Ижора', 'unknown', 'Агалатово',\n",
       "       'Новогорелово', 'Лесогорский', 'Лаголово', 'Цвелодубово', 'Рахья',\n",
       "       'Белогорка', 'Заводской', 'Новоселье', 'Большие Колпаны',\n",
       "       'Горбунки', 'Батово', 'Заневка', 'Иссад', 'Приморск', 'Мистолово',\n",
       "       'Новая Ладога', 'Зимитицы', 'Барышево', 'Разметелево',\n",
       "       'имени Свердлова', 'Пеники', 'Рябово', 'Пудомяги', 'Корнево',\n",
       "       'Низино', 'Бегуницы', 'Поляны', 'Мга', 'Елизаветино', 'Кузнечное',\n",
       "       'Колтуши', 'Запорожское', 'Гостилицы', 'Малое Карлино',\n",
       "       'Мичуринское', 'имени Морозова', 'Песочный', 'Сосново', 'Аро',\n",
       "       'Ильичёво', 'Тайцы', 'Малое Верево', 'Извара', 'Вещево', 'Паша',\n",
       "       'Калитино', 'Ульяновка', 'Чудской Бор', 'Дубровка', 'Мины',\n",
       "       'Войсковицы', 'Коркино', 'Ропша', 'Приладожский', 'Щеглово',\n",
       "       'Гаврилово', 'Лодейное Поле', 'Рабитицы', 'Никольский',\n",
       "       'Кузьмолово', 'Малые Колпаны', 'Петро-Славянка', 'Назия', 'Репино',\n",
       "       'Углово', 'Старая Малукса', ' Рахья', 'Меньково',\n",
       "       'Старые Бегуницы', 'Сапёрный', 'Семрино', 'Глажево', 'Кобринское',\n",
       "       'Гарболово', 'Юкки', 'Приветнинское', 'Мануйлово', 'Пчева',\n",
       "       'Цвылёво', 'Мельниково', 'Пудость', 'Усть-Луга', 'Светогорск',\n",
       "       'Любань', 'Селезнёво', 'Каменногорск', 'Кривко', 'Глебычево',\n",
       "       'Парицы', 'Жилпосёлок', 'Войскорово', 'Стеклянный', 'Важины',\n",
       "       'Мыза-Ивановка', 'Русско-Высоцкое', 'Форносово', 'Старая Ладога',\n",
       "       'Житково', 'Виллози', 'Лампово', 'Шпаньково', 'Лаврики', 'Сумино',\n",
       "       'Возрождение', 'Старосиверская', 'Кикерино', 'Старое Хинколово',\n",
       "       'Пригородный', 'Торфяное', 'Будогощь', 'Суходолье',\n",
       "       'Красная Долина', 'Хапо-Ое', 'Дружная Горка', 'Лисий Нос',\n",
       "       'Яльгелево', 'Рождествено', 'Старополье', 'Левашово', 'Сяськелево',\n",
       "       'Камышовка',\n",
       "       'садоводческое некоммерческое товарищество Лесная Поляна',\n",
       "       'Хязельки', 'Жилгородок', 'Ялгино', 'Новый Учхоз', 'Гончарово',\n",
       "       'Почап', 'Сапёрное', 'Платформа 69-й километр', 'Каложицы',\n",
       "       'Фалилеево', 'Пельгора', 'Торошковичи', 'Белоостров', 'Алексеевка',\n",
       "       'Серебрянский', 'Лукаши', 'Тарасово', 'Кингисеппский',\n",
       "       'при железнодорожной станции Вещево', 'Ушаки', 'Котлы', 'Сижно',\n",
       "       'Торосово', 'Форт Красная Горка', 'Новолисино', ' Громово',\n",
       "       'Глинка', 'Старая Пустошь', 'Коммунары', 'Починок', 'Вознесенье',\n",
       "       'Разбегаево', 'Гладкое',\n",
       "       'при железнодорожной станции Приветнинское', 'Тёсово-4', 'Бор',\n",
       "       'Коробицыно', 'Большая Вруда', 'Курковицы', 'Кобралово',\n",
       "       'Суоранда', 'Кондратьево', 'Счастье', 'Реброво', 'Тойворово',\n",
       "       'Семиозерье', 'Лесное', 'Совхозный', 'Ленинское', 'Суйда',\n",
       "       'Нижние Осельки', ' Свирь', 'Перово', 'Высоцк', 'Шум',\n",
       "       'Котельский', 'Лужайка', 'Большая Пустомержа', 'Красносельское',\n",
       "       'Вахнова Кара', 'Пижма', 'Кивеннапа Север', 'Ромашки', 'Каськово',\n",
       "       'Куровицы', 'Плоское', 'Кирпичное', 'Ям-Тесово', 'Раздолье',\n",
       "       'Терпилицы', 'Шугозеро', 'Ваганово', 'Пушное', ' Садко',\n",
       "       'Усть-Ижора', 'Выскатка', 'Свирьстрой', 'Громово', 'Кисельня',\n",
       "       'Трубников Бор', 'Высокоключевой', ' Приладожский',\n",
       "       'Пансионат Зелёный Бор', 'Ненимяки', 'Снегирёвка', 'Рапполово',\n",
       "       'Пустынка', 'Большой Сабск', 'Русско', 'Лупполово',\n",
       "       'Большое Рейзино', 'Малая Романовка', 'Дружноселье', 'Пчевжа',\n",
       "       'Володарское', 'Нижняя', 'Тихковицы', 'Борисова Грива',\n",
       "       'Дзержинского'], dtype=object)"
      ]
     },
     "execution_count": 31,
     "metadata": {},
     "output_type": "execute_result"
    }
   ],
   "source": [
    "data['locality_name'].unique()"
   ]
  },
  {
   "cell_type": "markdown",
   "metadata": {},
   "source": [
    "Большую часть населенных пунктов убрали. Теперь в столбце остались только названия населенных пунктов."
   ]
  },
  {
   "cell_type": "markdown",
   "metadata": {},
   "source": [
    "## Расчёты и добавление результатов в таблицу"
   ]
  },
  {
   "cell_type": "markdown",
   "metadata": {},
   "source": [
    "**Рассчитаем цену квадратного метра**"
   ]
  },
  {
   "cell_type": "code",
   "execution_count": 32,
   "metadata": {},
   "outputs": [],
   "source": [
    "data['price_meter'] = data['last_price'] / data['total_area']"
   ]
  },
  {
   "cell_type": "markdown",
   "metadata": {},
   "source": [
    "**Добавим в таблицу день недели, месяц и год публикации объявления**"
   ]
  },
  {
   "cell_type": "code",
   "execution_count": 33,
   "metadata": {},
   "outputs": [],
   "source": [
    "data['weekday_exposition'] = data['first_day_exposition'].dt.weekday\n",
    "data['month_exposition'] = data['first_day_exposition'].dt.month\n",
    "data['year_exposition'] = data['first_day_exposition'].dt.year"
   ]
  },
  {
   "cell_type": "markdown",
   "metadata": {},
   "source": [
    "**Добавим категории этажа: первый, последний, другой**"
   ]
  },
  {
   "cell_type": "markdown",
   "metadata": {},
   "source": [
    "Напишем функцию, которая определит категорию этажа в зависимости от этажа и этажности дома. А затем с помощью метода `apply` добавим столбец."
   ]
  },
  {
   "cell_type": "code",
   "execution_count": 34,
   "metadata": {},
   "outputs": [],
   "source": [
    "def floor_category(df): # объявлем функцию, которая возвращает категорию этажа \n",
    "    if df['floor'] == 1:        \n",
    "        return 'Первый'\n",
    "    if df['floor'] == df['floors_total']:\n",
    "        return 'Последний'\n",
    "    return 'Другой'"
   ]
  },
  {
   "cell_type": "code",
   "execution_count": 35,
   "metadata": {},
   "outputs": [],
   "source": [
    "data['floor_category'] = data.apply(floor_category, axis=1)"
   ]
  },
  {
   "cell_type": "markdown",
   "metadata": {},
   "source": [
    "Проверим как добавился столбец и сработала функция:"
   ]
  },
  {
   "cell_type": "code",
   "execution_count": 36,
   "metadata": {},
   "outputs": [
    {
     "data": {
      "text/html": [
       "<div>\n",
       "<style scoped>\n",
       "    .dataframe tbody tr th:only-of-type {\n",
       "        vertical-align: middle;\n",
       "    }\n",
       "\n",
       "    .dataframe tbody tr th {\n",
       "        vertical-align: top;\n",
       "    }\n",
       "\n",
       "    .dataframe thead th {\n",
       "        text-align: right;\n",
       "    }\n",
       "</style>\n",
       "<table border=\"1\" class=\"dataframe\">\n",
       "  <thead>\n",
       "    <tr style=\"text-align: right;\">\n",
       "      <th></th>\n",
       "      <th>floor</th>\n",
       "      <th>floors_total</th>\n",
       "      <th>floor_category</th>\n",
       "    </tr>\n",
       "  </thead>\n",
       "  <tbody>\n",
       "    <tr>\n",
       "      <td>0</td>\n",
       "      <td>8</td>\n",
       "      <td>16</td>\n",
       "      <td>Другой</td>\n",
       "    </tr>\n",
       "    <tr>\n",
       "      <td>1</td>\n",
       "      <td>1</td>\n",
       "      <td>11</td>\n",
       "      <td>Первый</td>\n",
       "    </tr>\n",
       "    <tr>\n",
       "      <td>2</td>\n",
       "      <td>4</td>\n",
       "      <td>5</td>\n",
       "      <td>Другой</td>\n",
       "    </tr>\n",
       "    <tr>\n",
       "      <td>3</td>\n",
       "      <td>9</td>\n",
       "      <td>14</td>\n",
       "      <td>Другой</td>\n",
       "    </tr>\n",
       "    <tr>\n",
       "      <td>4</td>\n",
       "      <td>13</td>\n",
       "      <td>14</td>\n",
       "      <td>Другой</td>\n",
       "    </tr>\n",
       "    <tr>\n",
       "      <td>5</td>\n",
       "      <td>5</td>\n",
       "      <td>12</td>\n",
       "      <td>Другой</td>\n",
       "    </tr>\n",
       "    <tr>\n",
       "      <td>6</td>\n",
       "      <td>6</td>\n",
       "      <td>26</td>\n",
       "      <td>Другой</td>\n",
       "    </tr>\n",
       "    <tr>\n",
       "      <td>7</td>\n",
       "      <td>22</td>\n",
       "      <td>24</td>\n",
       "      <td>Другой</td>\n",
       "    </tr>\n",
       "    <tr>\n",
       "      <td>8</td>\n",
       "      <td>26</td>\n",
       "      <td>27</td>\n",
       "      <td>Другой</td>\n",
       "    </tr>\n",
       "    <tr>\n",
       "      <td>9</td>\n",
       "      <td>7</td>\n",
       "      <td>9</td>\n",
       "      <td>Другой</td>\n",
       "    </tr>\n",
       "    <tr>\n",
       "      <td>10</td>\n",
       "      <td>3</td>\n",
       "      <td>12</td>\n",
       "      <td>Другой</td>\n",
       "    </tr>\n",
       "    <tr>\n",
       "      <td>11</td>\n",
       "      <td>4</td>\n",
       "      <td>5</td>\n",
       "      <td>Другой</td>\n",
       "    </tr>\n",
       "    <tr>\n",
       "      <td>12</td>\n",
       "      <td>5</td>\n",
       "      <td>5</td>\n",
       "      <td>Последний</td>\n",
       "    </tr>\n",
       "    <tr>\n",
       "      <td>13</td>\n",
       "      <td>5</td>\n",
       "      <td>5</td>\n",
       "      <td>Последний</td>\n",
       "    </tr>\n",
       "    <tr>\n",
       "      <td>14</td>\n",
       "      <td>1</td>\n",
       "      <td>6</td>\n",
       "      <td>Первый</td>\n",
       "    </tr>\n",
       "  </tbody>\n",
       "</table>\n",
       "</div>"
      ],
      "text/plain": [
       "    floor  floors_total floor_category\n",
       "0       8            16         Другой\n",
       "1       1            11         Первый\n",
       "2       4             5         Другой\n",
       "3       9            14         Другой\n",
       "4      13            14         Другой\n",
       "5       5            12         Другой\n",
       "6       6            26         Другой\n",
       "7      22            24         Другой\n",
       "8      26            27         Другой\n",
       "9       7             9         Другой\n",
       "10      3            12         Другой\n",
       "11      4             5         Другой\n",
       "12      5             5      Последний\n",
       "13      5             5      Последний\n",
       "14      1             6         Первый"
      ]
     },
     "execution_count": 36,
     "metadata": {},
     "output_type": "execute_result"
    }
   ],
   "source": [
    "data.loc[:, ['floor', 'floors_total', 'floor_category']].head(15)"
   ]
  },
  {
   "cell_type": "markdown",
   "metadata": {},
   "source": [
    "**Добавим в таблицу соотношение жилой и общей площади, а также отношение площади кухни к общей.**"
   ]
  },
  {
   "cell_type": "code",
   "execution_count": 37,
   "metadata": {},
   "outputs": [],
   "source": [
    "data['ratio_la'] = data['living_area'] / data['total_area'] # доля жилой площади от общей площади\n",
    "data['ratio_ka'] = data['kitchen_area'] / data['total_area'] # доля площади кухни от общей площади"
   ]
  },
  {
   "cell_type": "code",
   "execution_count": 38,
   "metadata": {},
   "outputs": [
    {
     "data": {
      "text/html": [
       "<div>\n",
       "<style scoped>\n",
       "    .dataframe tbody tr th:only-of-type {\n",
       "        vertical-align: middle;\n",
       "    }\n",
       "\n",
       "    .dataframe tbody tr th {\n",
       "        vertical-align: top;\n",
       "    }\n",
       "\n",
       "    .dataframe thead th {\n",
       "        text-align: right;\n",
       "    }\n",
       "</style>\n",
       "<table border=\"1\" class=\"dataframe\">\n",
       "  <thead>\n",
       "    <tr style=\"text-align: right;\">\n",
       "      <th></th>\n",
       "      <th>total_area</th>\n",
       "      <th>living_area</th>\n",
       "      <th>kitchen_area</th>\n",
       "      <th>ratio_la</th>\n",
       "      <th>ratio_ka</th>\n",
       "    </tr>\n",
       "  </thead>\n",
       "  <tbody>\n",
       "    <tr>\n",
       "      <td>0</td>\n",
       "      <td>108.00</td>\n",
       "      <td>51.00</td>\n",
       "      <td>25.00</td>\n",
       "      <td>0.47</td>\n",
       "      <td>0.23</td>\n",
       "    </tr>\n",
       "    <tr>\n",
       "      <td>1</td>\n",
       "      <td>40.40</td>\n",
       "      <td>18.60</td>\n",
       "      <td>11.00</td>\n",
       "      <td>0.46</td>\n",
       "      <td>0.27</td>\n",
       "    </tr>\n",
       "    <tr>\n",
       "      <td>2</td>\n",
       "      <td>56.00</td>\n",
       "      <td>34.30</td>\n",
       "      <td>8.30</td>\n",
       "      <td>0.61</td>\n",
       "      <td>0.15</td>\n",
       "    </tr>\n",
       "    <tr>\n",
       "      <td>3</td>\n",
       "      <td>159.00</td>\n",
       "      <td>0.57</td>\n",
       "      <td>0.12</td>\n",
       "      <td>0.00</td>\n",
       "      <td>0.00</td>\n",
       "    </tr>\n",
       "    <tr>\n",
       "      <td>4</td>\n",
       "      <td>100.00</td>\n",
       "      <td>32.00</td>\n",
       "      <td>41.00</td>\n",
       "      <td>0.32</td>\n",
       "      <td>0.41</td>\n",
       "    </tr>\n",
       "  </tbody>\n",
       "</table>\n",
       "</div>"
      ],
      "text/plain": [
       "   total_area  living_area  kitchen_area  ratio_la  ratio_ka\n",
       "0      108.00        51.00         25.00      0.47      0.23\n",
       "1       40.40        18.60         11.00      0.46      0.27\n",
       "2       56.00        34.30          8.30      0.61      0.15\n",
       "3      159.00         0.57          0.12      0.00      0.00\n",
       "4      100.00        32.00         41.00      0.32      0.41"
      ]
     },
     "execution_count": 38,
     "metadata": {},
     "output_type": "execute_result"
    }
   ],
   "source": [
    "data.loc[:, ['total_area', 'living_area', 'kitchen_area', 'ratio_la', 'ratio_ka']].head()"
   ]
  },
  {
   "cell_type": "markdown",
   "metadata": {},
   "source": [
    "## Исследовательский анализ данных"
   ]
  },
  {
   "cell_type": "markdown",
   "metadata": {},
   "source": [
    "### Изучим следующие параметры: площадь, цена, число комнат, высота потолков. Построим гистограммы для каждого параметра."
   ]
  },
  {
   "cell_type": "markdown",
   "metadata": {},
   "source": [
    "Гистограмма *общая площадь:*"
   ]
  },
  {
   "cell_type": "code",
   "execution_count": 39,
   "metadata": {},
   "outputs": [
    {
     "data": {
      "image/png": "[encoded data removed]",
      "text/plain": [
       "<Figure size 432x288 with 1 Axes>"
      ]
     },
     "metadata": {
      "needs_background": "light"
     },
     "output_type": "display_data"
    }
   ],
   "source": [
    "data['total_area'].hist(bins=30)\n",
    "plt.title('Распределение общая площадь')\n",
    "plt.show()"
   ]
  },
  {
   "cell_type": "markdown",
   "metadata": {},
   "source": [
    "Гистограмма *цена:*"
   ]
  },
  {
   "cell_type": "code",
   "execution_count": 40,
   "metadata": {
    "scrolled": true
   },
   "outputs": [
    {
     "data": {
      "image/png": "[encoded data removed]",
      "text/plain": [
       "<Figure size 432x288 with 1 Axes>"
      ]
     },
     "metadata": {
      "needs_background": "light"
     },
     "output_type": "display_data"
    }
   ],
   "source": [
    "data['price_meter'].hist(bins=30)\n",
    "plt.title('Распределение цена кв. метр')\n",
    "plt.show()"
   ]
  },
  {
   "cell_type": "code",
   "execution_count": 41,
   "metadata": {},
   "outputs": [
    {
     "data": {
      "image/png": "[encoded data removed]",
      "text/plain": [
       "<Figure size 432x288 with 1 Axes>"
      ]
     },
     "metadata": {
      "needs_background": "light"
     },
     "output_type": "display_data"
    }
   ],
   "source": [
    "data['last_price'].hist(bins=90)\n",
    "plt.title('Распределение цена квартиры')\n",
    "plt.show()"
   ]
  },
  {
   "cell_type": "markdown",
   "metadata": {},
   "source": [
    "Гистограмма *число комнат:*"
   ]
  },
  {
   "cell_type": "code",
   "execution_count": 42,
   "metadata": {},
   "outputs": [
    {
     "data": {
      "image/png": "[encoded data removed]",
      "text/plain": [
       "<Figure size 432x288 with 1 Axes>"
      ]
     },
     "metadata": {
      "needs_background": "light"
     },
     "output_type": "display_data"
    }
   ],
   "source": [
    "data['rooms'].hist(bins=100)\n",
    "plt.title('Распределение числа комнат')\n",
    "plt.show()"
   ]
  },
  {
   "cell_type": "markdown",
   "metadata": {},
   "source": [
    "Гистограмма *высота потолков:*"
   ]
  },
  {
   "cell_type": "code",
   "execution_count": 43,
   "metadata": {},
   "outputs": [
    {
     "data": {
      "image/png": "[encoded data removed]",
      "text/plain": [
       "<Figure size 432x288 with 1 Axes>"
      ]
     },
     "metadata": {
      "needs_background": "light"
     },
     "output_type": "display_data"
    }
   ],
   "source": [
    "data['ceiling_height'].hist(bins=100)\n",
    "plt.title('Распределение высоты потолков')\n",
    "plt.show()"
   ]
  },
  {
   "cell_type": "markdown",
   "metadata": {},
   "source": [
    "<div class=\"alert alert-success\">\n",
    "\n",
    "**✅Комментарий ревьюера**\n",
    "\n",
    "Было бы хорошо немного поиграть еще с гистограммами, где то уменьшить расстояние по оси Х, где то поиграть с числом `bins` Чтобы гистограммы стали более читаемые на глаз</div>"
   ]
  },
  {
   "cell_type": "markdown",
   "metadata": {},
   "source": [
    "Почти все параметры похожи на распределение Пуассона. Почти по всем параметрам наблюдаются выбросы."
   ]
  },
  {
   "cell_type": "markdown",
   "metadata": {},
   "source": [
    "### Изучим время продажи квартиры.   \n",
    "Построим гистограмму. "
   ]
  },
  {
   "cell_type": "code",
   "execution_count": 44,
   "metadata": {
    "scrolled": true
   },
   "outputs": [
    {
     "data": {
      "image/png": "[encoded data removed]",
      "text/plain": [
       "<Figure size 432x288 with 1 Axes>"
      ]
     },
     "metadata": {
      "needs_background": "light"
     },
     "output_type": "display_data"
    }
   ],
   "source": [
    "data['days_exposition'].hist(bins=100, range=(1, 1600)) # уберем значения 0, которыми мы заполняли пропуски\n",
    "plt.title('Распределение времени продажи')\n",
    "plt.show()"
   ]
  },
  {
   "cell_type": "code",
   "execution_count": 45,
   "metadata": {
    "scrolled": true
   },
   "outputs": [
    {
     "name": "stdout",
     "output_type": "stream",
     "text": [
      "Среднее значение времени продажи 157 дней\n",
      "Медианное значение времени продажи 74 дня\n"
     ]
    }
   ],
   "source": [
    "print('Среднее значение времени продажи', f\"{data['days_exposition'].mean():.0f}\", 'дней')\n",
    "print('Медианное значение времени продажи', f\"{data['days_exposition'].median():.0f}\", 'дня')"
   ]
  },
  {
   "cell_type": "markdown",
   "metadata": {},
   "source": [
    "В большинстве случаев продажа квартир происходит в период до 200 дней. В среднем объявления о продаже находятся в сервисе 157 дней. Но как видим есть и анамально долгие продажи от 200 до 1400 дней. А некоторые умудрялись продовать и меньше чем за месяц. Анамально быстрым сроком будет 2-3 дня судя по гистограмме \"Распределение от 1 до 40 дней\". Так как начиная с 4 дня достаточно много объявлений закрывалось."
   ]
  },
  {
   "cell_type": "code",
   "execution_count": 46,
   "metadata": {},
   "outputs": [
    {
     "data": {
      "image/png": "[encoded data removed]",
      "text/plain": [
       "<Figure size 432x288 with 1 Axes>"
      ]
     },
     "metadata": {
      "needs_background": "light"
     },
     "output_type": "display_data"
    }
   ],
   "source": [
    "data['days_exposition'].hist(bins=40, range=(1, 30))\n",
    "plt.title('Распределение времени продажи от 1 до 30 дней')\n",
    "plt.show()"
   ]
  },
  {
   "cell_type": "markdown",
   "metadata": {},
   "source": [
    "Также на гистограмме видны всплески значений в области до 100 дней.  \n",
    "Посмотрим подробнее на них."
   ]
  },
  {
   "cell_type": "code",
   "execution_count": 47,
   "metadata": {},
   "outputs": [
    {
     "data": {
      "image/png": "[encoded data removed]",
      "text/plain": [
       "<Figure size 432x288 with 1 Axes>"
      ]
     },
     "metadata": {
      "needs_background": "light"
     },
     "output_type": "display_data"
    }
   ],
   "source": [
    "data['days_exposition'].hist(bins=30, range=(1, 100))\n",
    "plt.title('Распределение времени продажи от 1 до 100 дней')\n",
    "plt.show()"
   ]
  },
  {
   "cell_type": "markdown",
   "metadata": {},
   "source": [
    "Наблюдаются пики значений в районе 45 и 60 дней. Возможно в сервисе предусмотрено автоматическое закрытие неактивных объявлений или эти сроки совпадают со сроками бесплатного размещения объявления, после которого часть пользователей не стала оплачивать дальнейшее размещение."
   ]
  },
  {
   "cell_type": "markdown",
   "metadata": {},
   "source": [
    "### Уберем редкие и выбивающиеся значения."
   ]
  },
  {
   "cell_type": "markdown",
   "metadata": {},
   "source": [
    "**Посмотрим на выбивающиеся значения параметра общая площадь.**"
   ]
  },
  {
   "cell_type": "code",
   "execution_count": 48,
   "metadata": {},
   "outputs": [
    {
     "data": {
      "text/plain": [
       "count   23699.00\n",
       "mean       60.35\n",
       "std        35.65\n",
       "min        12.00\n",
       "25%        40.00\n",
       "50%        52.00\n",
       "75%        69.90\n",
       "max       900.00\n",
       "Name: total_area, dtype: float64"
      ]
     },
     "execution_count": 48,
     "metadata": {},
     "output_type": "execute_result"
    }
   ],
   "source": [
    "data['total_area'].describe()"
   ]
  },
  {
   "cell_type": "markdown",
   "metadata": {},
   "source": [
    "Как мы видим большинство квартир имеют площадь до 70 кв. метров. Минимальное значение 12 кв. метров, что вполне реально, например, для студий. В выборке присутствует и квартира 900 кв. метров. Что является исключением. Построим еще раз гистограму и диаграмму размаха чтобы выявить слишком большие квартиры. Ограничим верхнюю границу 450."
   ]
  },
  {
   "cell_type": "code",
   "execution_count": 49,
   "metadata": {},
   "outputs": [
    {
     "data": {
      "image/png": "[encoded data removed]",
      "text/plain": [
       "<Figure size 432x288 with 1 Axes>"
      ]
     },
     "metadata": {
      "needs_background": "light"
     },
     "output_type": "display_data"
    }
   ],
   "source": [
    "data['total_area'].hist(bins=90, range=(12, 450))\n",
    "plt.title('Распределение площади квартиры')\n",
    "plt.show()"
   ]
  },
  {
   "cell_type": "code",
   "execution_count": 50,
   "metadata": {},
   "outputs": [
    {
     "data": {
      "image/png": "[encoded data removed]",
      "text/plain": [
       "<Figure size 432x288 with 1 Axes>"
      ]
     },
     "metadata": {
      "needs_background": "light"
     },
     "output_type": "display_data"
    }
   ],
   "source": [
    "data.boxplot(column='total_area')\n",
    "plt.ylim(0, 450)\n",
    "plt.title('Диаграмма размаха площади квартиры')\n",
    "plt.show()"
   ]
  },
  {
   "cell_type": "markdown",
   "metadata": {},
   "source": [
    "По диаграмме размаха выбросы начинаются примерно после 120 кв. метров. Но достаточно много квартир и после 120. Понятно что больших квартир не так много, скорей всего это квартиры премиум класса. И тем не менее они тоже должны быть представлены в выборке. Опираясь на графики определим границу в 260 кв. метров. "
   ]
  },
  {
   "cell_type": "markdown",
   "metadata": {},
   "source": [
    "**Посмотрим на редкие и выбивающиеся значения столбца *число комнат***  \n",
    "Посторим диарграмму размаха:"
   ]
  },
  {
   "cell_type": "code",
   "execution_count": 51,
   "metadata": {},
   "outputs": [
    {
     "data": {
      "image/png": "[encoded data removed]",
      "text/plain": [
       "<Figure size 432x288 with 1 Axes>"
      ]
     },
     "metadata": {
      "needs_background": "light"
     },
     "output_type": "display_data"
    }
   ],
   "source": [
    "data.boxplot(column='rooms')\n",
    "plt.ylim(-2, 15)\n",
    "plt.title('Диаграмма размаха числа комнат')\n",
    "plt.show()"
   ]
  },
  {
   "cell_type": "markdown",
   "metadata": {},
   "source": [
    "Минимальное значение ноль. Вероятно это квартиры студиии и квартиры свободной планировки. Оставим эти значения.  \n",
    "А выбросы начинаются после границы в 6 комнат."
   ]
  },
  {
   "cell_type": "markdown",
   "metadata": {},
   "source": [
    "**Посмотрим на редкие и выбивающиеся значения столбца *цена***  \n",
    "Посторим диарграмму размаха:"
   ]
  },
  {
   "cell_type": "code",
   "execution_count": 52,
   "metadata": {},
   "outputs": [
    {
     "data": {
      "text/plain": [
       "count     23699.00\n",
       "mean      99421.66\n",
       "std       50306.80\n",
       "min         111.83\n",
       "25%       76585.47\n",
       "50%       95000.00\n",
       "75%      114256.33\n",
       "max     1907500.00\n",
       "Name: price_meter, dtype: float64"
      ]
     },
     "execution_count": 52,
     "metadata": {},
     "output_type": "execute_result"
    }
   ],
   "source": [
    "data['price_meter'].describe()"
   ]
  },
  {
   "cell_type": "code",
   "execution_count": 53,
   "metadata": {},
   "outputs": [
    {
     "data": {
      "image/png": "[encoded data removed]",
      "text/plain": [
       "<Figure size 432x288 with 1 Axes>"
      ]
     },
     "metadata": {
      "needs_background": "light"
     },
     "output_type": "display_data"
    }
   ],
   "source": [
    "data.boxplot(column='price_meter')\n",
    "plt.ylim(-30000, 500000)\n",
    "plt.title('Диаграмма цены квадратного метра')\n",
    "plt.show()"
   ]
  },
  {
   "cell_type": "markdown",
   "metadata": {},
   "source": [
    "Выбросы присутствуют по нижней и верхней границе. Изменим масштаб чтобы увидеть нижнюю границу нормального распределения. "
   ]
  },
  {
   "cell_type": "code",
   "execution_count": 54,
   "metadata": {},
   "outputs": [
    {
     "data": {
      "image/png": "[encoded data removed]",
      "text/plain": [
       "<Figure size 432x288 with 1 Axes>"
      ]
     },
     "metadata": {
      "needs_background": "light"
     },
     "output_type": "display_data"
    }
   ],
   "source": [
    "data.boxplot(column='price_meter')\n",
    "plt.ylim(-30000, 90000)\n",
    "plt.show()"
   ]
  },
  {
   "cell_type": "markdown",
   "metadata": {},
   "source": [
    "С нижней границей определились - 20 000 за кв.м.  \n",
    "\n",
    "Посмотрим на верхнюю границу. Выбросы начинаются после 170000, но после достаточно много значений. Скорей всего там цены на редкие, но элитные квартиры. Посторим гистограмму."
   ]
  },
  {
   "cell_type": "code",
   "execution_count": 55,
   "metadata": {},
   "outputs": [
    {
     "data": {
      "image/png": "[encoded data removed]",
      "text/plain": [
       "<Figure size 432x288 with 1 Axes>"
      ]
     },
     "metadata": {
      "needs_background": "light"
     },
     "output_type": "display_data"
    }
   ],
   "source": [
    "data['price_meter'].hist(bins=50, range=(100000, 500000))\n",
    "plt.show()"
   ]
  },
  {
   "cell_type": "markdown",
   "metadata": {},
   "source": [
    "После 360000 смело можно убирать значения."
   ]
  },
  {
   "cell_type": "markdown",
   "metadata": {},
   "source": [
    "**Посмотрим на выбивающиеся значения параметра *время продажи***  \n",
    "Посторим диаграмму размаха:"
   ]
  },
  {
   "cell_type": "code",
   "execution_count": 56,
   "metadata": {},
   "outputs": [
    {
     "data": {
      "image/png": "[encoded data removed]",
      "text/plain": [
       "<Figure size 432x288 with 1 Axes>"
      ]
     },
     "metadata": {
      "needs_background": "light"
     },
     "output_type": "display_data"
    }
   ],
   "source": [
    "data.boxplot(column='days_exposition')\n",
    "plt.ylim(-50, 1200)\n",
    "plt.title('Диаграмма размаха времени продажи')\n",
    "plt.show()"
   ]
  },
  {
   "cell_type": "markdown",
   "metadata": {},
   "source": [
    "Выбросы начинаются после 460 дней. Что вполне реально для продажи квартир. Но достаточно много выбросов после. Возьмем срок 3 года (1095 дней)."
   ]
  },
  {
   "cell_type": "code",
   "execution_count": 57,
   "metadata": {},
   "outputs": [
    {
     "data": {
      "image/png": "[encoded data removed]",
      "text/plain": [
       "<Figure size 432x288 with 1 Axes>"
      ]
     },
     "metadata": {
      "needs_background": "light"
     },
     "output_type": "display_data"
    }
   ],
   "source": [
    "data['days_exposition'].hist(bins=100, range=(100, 1600))\n",
    "plt.show()"
   ]
  },
  {
   "cell_type": "markdown",
   "metadata": {},
   "source": [
    "**Посмотрим на выбивающиеся значения параметра *высота потолков***  \n",
    "Посторим диарграмму размаха:"
   ]
  },
  {
   "cell_type": "code",
   "execution_count": 58,
   "metadata": {},
   "outputs": [
    {
     "data": {
      "image/png": "[encoded data removed]",
      "text/plain": [
       "<Figure size 432x288 with 1 Axes>"
      ]
     },
     "metadata": {
      "needs_background": "light"
     },
     "output_type": "display_data"
    }
   ],
   "source": [
    "data.boxplot(column='ceiling_height')\n",
    "plt.ylim(1, 5)\n",
    "plt.title(\"Диаграмма размаха 'высота потолков'\")\n",
    "plt.show()"
   ]
  },
  {
   "cell_type": "markdown",
   "metadata": {},
   "source": [
    "Высота потолка ниже 2.4 уже вызывает сомнения. Отбросим такие квартиры. А вот квартиры с высотой более 2.9 м вполне могут быть. А в двухуровневых квартирах высота может быть и 4 м. В диапозоне от 3 до 4 метров достаточно много квартир.  \n",
    "Оставим квартиры в диапазоне от 2.4 до 4 метров."
   ]
  },
  {
   "cell_type": "markdown",
   "metadata": {},
   "source": [
    "**Сделаем срез по выявленным параметрам и сохраним таблицу в новой переменной.**"
   ]
  },
  {
   "cell_type": "code",
   "execution_count": 59,
   "metadata": {
    "scrolled": true
   },
   "outputs": [
    {
     "data": {
      "text/html": [
       "<div>\n",
       "<style scoped>\n",
       "    .dataframe tbody tr th:only-of-type {\n",
       "        vertical-align: middle;\n",
       "    }\n",
       "\n",
       "    .dataframe tbody tr th {\n",
       "        vertical-align: top;\n",
       "    }\n",
       "\n",
       "    .dataframe thead th {\n",
       "        text-align: right;\n",
       "    }\n",
       "</style>\n",
       "<table border=\"1\" class=\"dataframe\">\n",
       "  <thead>\n",
       "    <tr style=\"text-align: right;\">\n",
       "      <th></th>\n",
       "      <th>total_images</th>\n",
       "      <th>last_price</th>\n",
       "      <th>total_area</th>\n",
       "      <th>first_day_exposition</th>\n",
       "      <th>rooms</th>\n",
       "      <th>ceiling_height</th>\n",
       "      <th>floors_total</th>\n",
       "      <th>living_area</th>\n",
       "      <th>floor</th>\n",
       "      <th>is_apartment</th>\n",
       "      <th>...</th>\n",
       "      <th>ponds_nearest</th>\n",
       "      <th>days_exposition</th>\n",
       "      <th>area_group</th>\n",
       "      <th>price_meter</th>\n",
       "      <th>weekday_exposition</th>\n",
       "      <th>month_exposition</th>\n",
       "      <th>year_exposition</th>\n",
       "      <th>floor_category</th>\n",
       "      <th>ratio_la</th>\n",
       "      <th>ratio_ka</th>\n",
       "    </tr>\n",
       "  </thead>\n",
       "  <tbody>\n",
       "    <tr>\n",
       "      <td>1</td>\n",
       "      <td>7</td>\n",
       "      <td>3350000</td>\n",
       "      <td>40.40</td>\n",
       "      <td>2018-12-04</td>\n",
       "      <td>1</td>\n",
       "      <td>2.65</td>\n",
       "      <td>11</td>\n",
       "      <td>18.60</td>\n",
       "      <td>1</td>\n",
       "      <td>False</td>\n",
       "      <td>...</td>\n",
       "      <td>nan</td>\n",
       "      <td>81</td>\n",
       "      <td>до_45</td>\n",
       "      <td>82920.79</td>\n",
       "      <td>1</td>\n",
       "      <td>12</td>\n",
       "      <td>2018</td>\n",
       "      <td>Первый</td>\n",
       "      <td>0.46</td>\n",
       "      <td>0.27</td>\n",
       "    </tr>\n",
       "    <tr>\n",
       "      <td>2</td>\n",
       "      <td>10</td>\n",
       "      <td>5196000</td>\n",
       "      <td>56.00</td>\n",
       "      <td>2015-08-20</td>\n",
       "      <td>2</td>\n",
       "      <td>2.65</td>\n",
       "      <td>5</td>\n",
       "      <td>34.30</td>\n",
       "      <td>4</td>\n",
       "      <td>False</td>\n",
       "      <td>...</td>\n",
       "      <td>574.00</td>\n",
       "      <td>558</td>\n",
       "      <td>от_45_до_80</td>\n",
       "      <td>92785.71</td>\n",
       "      <td>3</td>\n",
       "      <td>8</td>\n",
       "      <td>2015</td>\n",
       "      <td>Другой</td>\n",
       "      <td>0.61</td>\n",
       "      <td>0.15</td>\n",
       "    </tr>\n",
       "    <tr>\n",
       "      <td>4</td>\n",
       "      <td>2</td>\n",
       "      <td>10000000</td>\n",
       "      <td>100.00</td>\n",
       "      <td>2018-06-19</td>\n",
       "      <td>2</td>\n",
       "      <td>3.03</td>\n",
       "      <td>14</td>\n",
       "      <td>32.00</td>\n",
       "      <td>13</td>\n",
       "      <td>False</td>\n",
       "      <td>...</td>\n",
       "      <td>48.00</td>\n",
       "      <td>121</td>\n",
       "      <td>от_80_до_120</td>\n",
       "      <td>100000.00</td>\n",
       "      <td>1</td>\n",
       "      <td>6</td>\n",
       "      <td>2018</td>\n",
       "      <td>Другой</td>\n",
       "      <td>0.32</td>\n",
       "      <td>0.41</td>\n",
       "    </tr>\n",
       "    <tr>\n",
       "      <td>5</td>\n",
       "      <td>10</td>\n",
       "      <td>2890000</td>\n",
       "      <td>30.40</td>\n",
       "      <td>2018-09-10</td>\n",
       "      <td>1</td>\n",
       "      <td>2.65</td>\n",
       "      <td>12</td>\n",
       "      <td>14.40</td>\n",
       "      <td>5</td>\n",
       "      <td>False</td>\n",
       "      <td>...</td>\n",
       "      <td>nan</td>\n",
       "      <td>55</td>\n",
       "      <td>до_45</td>\n",
       "      <td>95065.79</td>\n",
       "      <td>0</td>\n",
       "      <td>9</td>\n",
       "      <td>2018</td>\n",
       "      <td>Другой</td>\n",
       "      <td>0.47</td>\n",
       "      <td>0.30</td>\n",
       "    </tr>\n",
       "    <tr>\n",
       "      <td>6</td>\n",
       "      <td>6</td>\n",
       "      <td>3700000</td>\n",
       "      <td>37.30</td>\n",
       "      <td>2017-11-02</td>\n",
       "      <td>1</td>\n",
       "      <td>2.65</td>\n",
       "      <td>26</td>\n",
       "      <td>10.60</td>\n",
       "      <td>6</td>\n",
       "      <td>False</td>\n",
       "      <td>...</td>\n",
       "      <td>nan</td>\n",
       "      <td>155</td>\n",
       "      <td>до_45</td>\n",
       "      <td>99195.71</td>\n",
       "      <td>3</td>\n",
       "      <td>11</td>\n",
       "      <td>2017</td>\n",
       "      <td>Другой</td>\n",
       "      <td>0.28</td>\n",
       "      <td>0.39</td>\n",
       "    </tr>\n",
       "  </tbody>\n",
       "</table>\n",
       "<p>5 rows × 30 columns</p>\n",
       "</div>"
      ],
      "text/plain": [
       "   total_images  last_price  total_area first_day_exposition  rooms  \\\n",
       "1             7     3350000       40.40           2018-12-04      1   \n",
       "2            10     5196000       56.00           2015-08-20      2   \n",
       "4             2    10000000      100.00           2018-06-19      2   \n",
       "5            10     2890000       30.40           2018-09-10      1   \n",
       "6             6     3700000       37.30           2017-11-02      1   \n",
       "\n",
       "   ceiling_height  floors_total  living_area  floor  is_apartment  ...  \\\n",
       "1            2.65            11        18.60      1         False  ...   \n",
       "2            2.65             5        34.30      4         False  ...   \n",
       "4            3.03            14        32.00     13         False  ...   \n",
       "5            2.65            12        14.40      5         False  ...   \n",
       "6            2.65            26        10.60      6         False  ...   \n",
       "\n",
       "   ponds_nearest  days_exposition    area_group  price_meter  \\\n",
       "1            nan               81         до_45     82920.79   \n",
       "2         574.00              558   от_45_до_80     92785.71   \n",
       "4          48.00              121  от_80_до_120    100000.00   \n",
       "5            nan               55         до_45     95065.79   \n",
       "6            nan              155         до_45     99195.71   \n",
       "\n",
       "  weekday_exposition  month_exposition  year_exposition  floor_category  \\\n",
       "1                  1                12             2018          Первый   \n",
       "2                  3                 8             2015          Другой   \n",
       "4                  1                 6             2018          Другой   \n",
       "5                  0                 9             2018          Другой   \n",
       "6                  3                11             2017          Другой   \n",
       "\n",
       "   ratio_la  ratio_ka  \n",
       "1      0.46      0.27  \n",
       "2      0.61      0.15  \n",
       "4      0.32      0.41  \n",
       "5      0.47      0.30  \n",
       "6      0.28      0.39  \n",
       "\n",
       "[5 rows x 30 columns]"
      ]
     },
     "execution_count": 59,
     "metadata": {},
     "output_type": "execute_result"
    }
   ],
   "source": [
    "data_fin = data.query('(20000 <= price_meter <= 360000) and rooms <= 6 and total_area < 260 and (2.4 <= ceiling_height <= 4) and (days_exposition <= 1095) and days_exposition != 0')\n",
    "data_fin.head()"
   ]
  },
  {
   "cell_type": "markdown",
   "metadata": {},
   "source": [
    "### Определим какие факторы больше всего влияют на стоимость квартиры."
   ]
  },
  {
   "cell_type": "markdown",
   "metadata": {},
   "source": [
    "**Посмотрим зависит ли цена от площади, числа комнат, удалённости от центра**"
   ]
  },
  {
   "cell_type": "markdown",
   "metadata": {},
   "source": [
    "Построим графики зависимости цены квартиры от `площади`, `числа комнат`, `удалённости от центра`:"
   ]
  },
  {
   "cell_type": "code",
   "execution_count": 60,
   "metadata": {},
   "outputs": [
    {
     "data": {
      "image/png": "[encoded data removed]",
      "text/plain": [
       "<Figure size 432x288 with 1 Axes>"
      ]
     },
     "metadata": {
      "needs_background": "light"
     },
     "output_type": "display_data"
    },
    {
     "data": {
      "image/png": "[encoded data removed]",
      "text/plain": [
       "<Figure size 432x288 with 1 Axes>"
      ]
     },
     "metadata": {
      "needs_background": "light"
     },
     "output_type": "display_data"
    },
    {
     "data": {
      "image/png": "[encoded data removed]",
      "text/plain": [
       "<Figure size 432x288 with 1 Axes>"
      ]
     },
     "metadata": {
      "needs_background": "light"
     },
     "output_type": "display_data"
    }
   ],
   "source": [
    "parameters = ['total_area', 'rooms', 'cityCenters_nearest']\n",
    "\n",
    "for parameter in parameters:\n",
    "    data_fin.plot(x='last_price', y=parameter,style='o', grid=True, title=f\"Зависимость цены от {parameter}\")\n",
    "    plt.show()"
   ]
  },
  {
   "cell_type": "markdown",
   "metadata": {},
   "source": [
    "- Очевидно, что стоимость квартиры увеличивается с ростом площади. Зависимость не прямая, но достаточно тесная.  \n",
    "- При увеличении числа комнат с 0 до 3 максимальные цены растут, но уже 4 и 5 комнатные квартиры не дадут прибавку в цене. В целом зависимость слабая.\n",
    "- Самые дорогие квартиры близко к центру. Но вот недорогих квартир можно найти практически на любом расстоянии. Зависимость слабая.  "
   ]
  },
  {
   "cell_type": "markdown",
   "metadata": {},
   "source": [
    "Также вычислим коэфицент коррелияции Стоимости квартиры c данными параметрами."
   ]
  },
  {
   "cell_type": "code",
   "execution_count": 61,
   "metadata": {},
   "outputs": [
    {
     "data": {
      "text/plain": [
       "total_area             0.78\n",
       "rooms                  0.47\n",
       "cityCenters_nearest   -0.32\n",
       "dtype: float64"
      ]
     },
     "execution_count": 61,
     "metadata": {},
     "output_type": "execute_result"
    }
   ],
   "source": [
    "data_fin.loc[:,['total_area', 'rooms', 'cityCenters_nearest']].corrwith(data_fin['last_price']) "
   ]
  },
  {
   "cell_type": "markdown",
   "metadata": {},
   "source": [
    "Значения коэффицентов подтверждают выводы. Наиболее сильная зависимость цены квартиры просматривается у площади. У остальных параметров связь слабая."
   ]
  },
  {
   "cell_type": "markdown",
   "metadata": {},
   "source": [
    "**Изучим зависимость цены от того, на каком этаже расположена квартира: первом, последнем или другом**"
   ]
  },
  {
   "cell_type": "code",
   "execution_count": 62,
   "metadata": {},
   "outputs": [
    {
     "data": {
      "image/png": "[encoded data removed]",
      "text/plain": [
       "<Figure size 432x288 with 1 Axes>"
      ]
     },
     "metadata": {
      "needs_background": "light"
     },
     "output_type": "display_data"
    }
   ],
   "source": [
    "data_fin_floor = data_fin.pivot_table(index='floor_category', values='last_price', \n",
    "                                      aggfunc='median').sort_values(by='last_price')\n",
    "\n",
    "plt.bar(data_fin_floor.index, data_fin_floor['last_price'])\n",
    "plt.title('Медиана цены по категориям этажа')\n",
    "plt.show()"
   ]
  },
  {
   "cell_type": "markdown",
   "metadata": {},
   "source": [
    "Как видим на графике самая высокая медиана цены у квартир с категорией этажа \"Другой\". Самая низкая цена, как правило, у квартир на первом этаже.  \n",
    "Можно сделать вывод что Первый и Последний этаж меньше пользуются спросом и стоят, обычно, чуть дешевле."
   ]
  },
  {
   "cell_type": "markdown",
   "metadata": {},
   "source": [
    "**Изучим зависимость цены от даты размещения: дня недели, месяца и года.**"
   ]
  },
  {
   "cell_type": "code",
   "execution_count": 63,
   "metadata": {},
   "outputs": [
    {
     "data": {
      "image/png": "[encoded data removed]",
      "text/plain": [
       "<Figure size 648x216 with 1 Axes>"
      ]
     },
     "metadata": {
      "needs_background": "light"
     },
     "output_type": "display_data"
    }
   ],
   "source": [
    "data_fin.pivot_table(index='weekday_exposition', values='last_price', \n",
    "                                      aggfunc='median').plot(figsize=(9, 3), grid=True)\n",
    "plt.title('Изменение цены от дня недели')\n",
    "plt.show()"
   ]
  },
  {
   "cell_type": "markdown",
   "metadata": {},
   "source": [
    "Как видим дорогие объекты чаще размещаются во вторник. А со вторника медианная цена снижается к концу недели."
   ]
  },
  {
   "cell_type": "code",
   "execution_count": 64,
   "metadata": {},
   "outputs": [
    {
     "data": {
      "image/png": "[encoded data removed]",
      "text/plain": [
       "<Figure size 648x216 with 1 Axes>"
      ]
     },
     "metadata": {
      "needs_background": "light"
     },
     "output_type": "display_data"
    }
   ],
   "source": [
    "data_fin.pivot_table(index='month_exposition', values='last_price', \n",
    "                                      aggfunc='median').plot(figsize=(9, 3), grid=True)\n",
    "plt.title('Изменение цены в зависимости от месяца размещения')\n",
    "plt.show()"
   ]
  },
  {
   "cell_type": "markdown",
   "metadata": {},
   "source": [
    "По месяцам размещения наблюдается небольшое снижение цены в июне и рост осенью."
   ]
  },
  {
   "cell_type": "code",
   "execution_count": 65,
   "metadata": {},
   "outputs": [
    {
     "data": {
      "image/png": "[encoded data removed]",
      "text/plain": [
       "<Figure size 432x288 with 1 Axes>"
      ]
     },
     "metadata": {
      "needs_background": "light"
     },
     "output_type": "display_data"
    }
   ],
   "source": [
    "data_fin_year = data_fin.pivot_table(index='year_exposition', values='last_price',aggfunc='median')\n",
    "\n",
    "plt.bar(data_fin_year.index, data_fin_year['last_price'])\n",
    "plt.title('Медиана цены по годам размещения')\n",
    "plt.show()"
   ]
  },
  {
   "cell_type": "markdown",
   "metadata": {},
   "source": [
    "По году размещения самые высокие цены были в 2014."
   ]
  },
  {
   "cell_type": "markdown",
   "metadata": {},
   "source": [
    "Можно сказать, что день недели и месяц размещения достаточно сильно не влияют на цену, она не сильно варьируется.  \n",
    "А квартиры размещенные в 2014 году продавались по более высокой цене, чем квартиры размещенные в 2015-2019 годах."
   ]
  },
  {
   "cell_type": "markdown",
   "metadata": {},
   "source": [
    "**Найдем 10 населенный пунктов с наибольшим числом объявлений**"
   ]
  },
  {
   "cell_type": "code",
   "execution_count": 66,
   "metadata": {
    "scrolled": true
   },
   "outputs": [
    {
     "data": {
      "text/plain": [
       "Санкт-Петербург    13300\n",
       "Мурино               547\n",
       "Кудрово              438\n",
       "Шушары               407\n",
       "Всеволожск           335\n",
       "Колпино              306\n",
       "Пушкин               300\n",
       "Парголово            300\n",
       "Гатчина              264\n",
       "Выборг               204\n",
       "Name: locality_name, dtype: int64"
      ]
     },
     "execution_count": 66,
     "metadata": {},
     "output_type": "execute_result"
    }
   ],
   "source": [
    "top_locality = data_fin['locality_name'].value_counts().head(10)\n",
    "name = top_locality.index\n",
    "top_locality"
   ]
  },
  {
   "cell_type": "markdown",
   "metadata": {},
   "source": [
    "Посчитаем среднюю цену квадратного метра в этих населённых пунктах:"
   ]
  },
  {
   "cell_type": "code",
   "execution_count": 67,
   "metadata": {},
   "outputs": [
    {
     "data": {
      "text/html": [
       "<div>\n",
       "<style scoped>\n",
       "    .dataframe tbody tr th:only-of-type {\n",
       "        vertical-align: middle;\n",
       "    }\n",
       "\n",
       "    .dataframe tbody tr th {\n",
       "        vertical-align: top;\n",
       "    }\n",
       "\n",
       "    .dataframe thead th {\n",
       "        text-align: right;\n",
       "    }\n",
       "</style>\n",
       "<table border=\"1\" class=\"dataframe\">\n",
       "  <thead>\n",
       "    <tr style=\"text-align: right;\">\n",
       "      <th></th>\n",
       "      <th>price_meter</th>\n",
       "    </tr>\n",
       "    <tr>\n",
       "      <th>locality_name</th>\n",
       "      <th></th>\n",
       "    </tr>\n",
       "  </thead>\n",
       "  <tbody>\n",
       "    <tr>\n",
       "      <td>Выборг</td>\n",
       "      <td>57312.26</td>\n",
       "    </tr>\n",
       "    <tr>\n",
       "      <td>Всеволожск</td>\n",
       "      <td>66828.71</td>\n",
       "    </tr>\n",
       "    <tr>\n",
       "      <td>Гатчина</td>\n",
       "      <td>68560.86</td>\n",
       "    </tr>\n",
       "    <tr>\n",
       "      <td>Колпино</td>\n",
       "      <td>74736.74</td>\n",
       "    </tr>\n",
       "    <tr>\n",
       "      <td>Шушары</td>\n",
       "      <td>77963.58</td>\n",
       "    </tr>\n",
       "    <tr>\n",
       "      <td>Мурино</td>\n",
       "      <td>85776.62</td>\n",
       "    </tr>\n",
       "    <tr>\n",
       "      <td>Парголово</td>\n",
       "      <td>89591.39</td>\n",
       "    </tr>\n",
       "    <tr>\n",
       "      <td>Кудрово</td>\n",
       "      <td>94392.72</td>\n",
       "    </tr>\n",
       "    <tr>\n",
       "      <td>Пушкин</td>\n",
       "      <td>102033.98</td>\n",
       "    </tr>\n",
       "    <tr>\n",
       "      <td>Санкт-Петербург</td>\n",
       "      <td>109703.78</td>\n",
       "    </tr>\n",
       "  </tbody>\n",
       "</table>\n",
       "</div>"
      ],
      "text/plain": [
       "                 price_meter\n",
       "locality_name               \n",
       "Выборг              57312.26\n",
       "Всеволожск          66828.71\n",
       "Гатчина             68560.86\n",
       "Колпино             74736.74\n",
       "Шушары              77963.58\n",
       "Мурино              85776.62\n",
       "Парголово           89591.39\n",
       "Кудрово             94392.72\n",
       "Пушкин             102033.98\n",
       "Санкт-Петербург    109703.78"
      ]
     },
     "execution_count": 67,
     "metadata": {},
     "output_type": "execute_result"
    }
   ],
   "source": [
    "data_fin.query('locality_name in @name').pivot_table(index='locality_name', values='price_meter').sort_values(by='price_meter')"
   ]
  },
  {
   "cell_type": "markdown",
   "metadata": {},
   "source": [
    "Самая низкая цена в Выборге, а самая высокая, как не удивительно, в Санкт-Петербурге."
   ]
  },
  {
   "cell_type": "markdown",
   "metadata": {},
   "source": [
    "### Изучим предложения квартир в Санкт-Петербурге. Определим какая область входит в центр."
   ]
  },
  {
   "cell_type": "markdown",
   "metadata": {},
   "source": [
    "**Создадим столбец с расстоянием до центра в километрах:**"
   ]
  },
  {
   "cell_type": "code",
   "execution_count": 68,
   "metadata": {
    "scrolled": true
   },
   "outputs": [],
   "source": [
    "data_fin['cityCenters_nearest_km'] = (data_fin['cityCenters_nearest'] / 1000).round() # округлим значения километров до целого"
   ]
  },
  {
   "cell_type": "markdown",
   "metadata": {},
   "source": [
    "Проверим как добавился столбец:"
   ]
  },
  {
   "cell_type": "code",
   "execution_count": 69,
   "metadata": {},
   "outputs": [
    {
     "data": {
      "text/html": [
       "<div>\n",
       "<style scoped>\n",
       "    .dataframe tbody tr th:only-of-type {\n",
       "        vertical-align: middle;\n",
       "    }\n",
       "\n",
       "    .dataframe tbody tr th {\n",
       "        vertical-align: top;\n",
       "    }\n",
       "\n",
       "    .dataframe thead th {\n",
       "        text-align: right;\n",
       "    }\n",
       "</style>\n",
       "<table border=\"1\" class=\"dataframe\">\n",
       "  <thead>\n",
       "    <tr style=\"text-align: right;\">\n",
       "      <th></th>\n",
       "      <th>cityCenters_nearest</th>\n",
       "      <th>cityCenters_nearest_km</th>\n",
       "    </tr>\n",
       "  </thead>\n",
       "  <tbody>\n",
       "    <tr>\n",
       "      <td>1</td>\n",
       "      <td>18603.00</td>\n",
       "      <td>19.00</td>\n",
       "    </tr>\n",
       "    <tr>\n",
       "      <td>2</td>\n",
       "      <td>13933.00</td>\n",
       "      <td>14.00</td>\n",
       "    </tr>\n",
       "    <tr>\n",
       "      <td>4</td>\n",
       "      <td>8098.00</td>\n",
       "      <td>8.00</td>\n",
       "    </tr>\n",
       "    <tr>\n",
       "      <td>5</td>\n",
       "      <td>nan</td>\n",
       "      <td>nan</td>\n",
       "    </tr>\n",
       "    <tr>\n",
       "      <td>6</td>\n",
       "      <td>19143.00</td>\n",
       "      <td>19.00</td>\n",
       "    </tr>\n",
       "    <tr>\n",
       "      <td>8</td>\n",
       "      <td>nan</td>\n",
       "      <td>nan</td>\n",
       "    </tr>\n",
       "    <tr>\n",
       "      <td>9</td>\n",
       "      <td>15008.00</td>\n",
       "      <td>15.00</td>\n",
       "    </tr>\n",
       "    <tr>\n",
       "      <td>10</td>\n",
       "      <td>13878.00</td>\n",
       "      <td>14.00</td>\n",
       "    </tr>\n",
       "    <tr>\n",
       "      <td>11</td>\n",
       "      <td>51677.00</td>\n",
       "      <td>52.00</td>\n",
       "    </tr>\n",
       "    <tr>\n",
       "      <td>12</td>\n",
       "      <td>nan</td>\n",
       "      <td>nan</td>\n",
       "    </tr>\n",
       "  </tbody>\n",
       "</table>\n",
       "</div>"
      ],
      "text/plain": [
       "    cityCenters_nearest  cityCenters_nearest_km\n",
       "1              18603.00                   19.00\n",
       "2              13933.00                   14.00\n",
       "4               8098.00                    8.00\n",
       "5                   nan                     nan\n",
       "6              19143.00                   19.00\n",
       "8                   nan                     nan\n",
       "9              15008.00                   15.00\n",
       "10             13878.00                   14.00\n",
       "11             51677.00                   52.00\n",
       "12                  nan                     nan"
      ]
     },
     "execution_count": 69,
     "metadata": {},
     "output_type": "execute_result"
    }
   ],
   "source": [
    "data_fin.loc[:,['cityCenters_nearest', 'cityCenters_nearest_km']].head(10)"
   ]
  },
  {
   "cell_type": "markdown",
   "metadata": {},
   "source": [
    "Построим график средней цены за кв.м по километрам в Санкт-Петербурге:"
   ]
  },
  {
   "cell_type": "code",
   "execution_count": 70,
   "metadata": {},
   "outputs": [
    {
     "data": {
      "image/png": "[encoded data removed]",
      "text/plain": [
       "<Figure size 576x288 with 1 Axes>"
      ]
     },
     "metadata": {
      "needs_background": "light"
     },
     "output_type": "display_data"
    }
   ],
   "source": [
    "data_fin.query('locality_name == \"Санкт-Петербург\"').pivot_table(index='cityCenters_nearest_km', \n",
    "                                                                values='price_meter').plot(style='o-',\n",
    "                                                                figsize=(8, 4),grid=True)\n",
    "plt.title('Средняя цена кв.метра по удалённости от центра(км) в Санкт-Петербурге')\n",
    "plt.show()"
   ]
  },
  {
   "cell_type": "markdown",
   "metadata": {},
   "source": [
    "Можно сделать вывод, что область центра ограничивается 7 км. После 7 км средняя цена начинает резко снижаться. Есть достаточно резкое снижение в районе 3 км. Возможно это старый жилой фонд в центре города."
   ]
  },
  {
   "cell_type": "markdown",
   "metadata": {},
   "source": [
    "### Изучим квартиры в центре."
   ]
  },
  {
   "cell_type": "markdown",
   "metadata": {},
   "source": [
    "**Изучим центр города, посмотрим следующие параметры: площадь, цена, число комнат, высота потолков.**"
   ]
  },
  {
   "cell_type": "code",
   "execution_count": 71,
   "metadata": {},
   "outputs": [
    {
     "data": {
      "image/png": "[encoded data removed]",
      "text/plain": [
       "<Figure size 432x288 with 1 Axes>"
      ]
     },
     "metadata": {
      "needs_background": "light"
     },
     "output_type": "display_data"
    },
    {
     "data": {
      "image/png": "[encoded data removed]",
      "text/plain": [
       "<Figure size 432x288 with 1 Axes>"
      ]
     },
     "metadata": {
      "needs_background": "light"
     },
     "output_type": "display_data"
    },
    {
     "data": {
      "image/png": "[encoded data removed]",
      "text/plain": [
       "<Figure size 432x288 with 1 Axes>"
      ]
     },
     "metadata": {
      "needs_background": "light"
     },
     "output_type": "display_data"
    },
    {
     "data": {
      "image/png": "[encoded data removed]",
      "text/plain": [
       "<Figure size 432x288 with 1 Axes>"
      ]
     },
     "metadata": {
      "needs_background": "light"
     },
     "output_type": "display_data"
    }
   ],
   "source": [
    "arguments = ['total_area', 'rooms', 'last_price', 'ceiling_height']\n",
    "\n",
    "for argument in arguments:\n",
    "    data_fin.query('locality_name == \"Санкт-Петербург\" and cityCenters_nearest_km < 7').plot(kind='hist', y=argument, \n",
    "                                                    grid=True,title=f\"Распределение параметра {argument} в центре горада\")\n",
    "    plt.show()"
   ]
  },
  {
   "cell_type": "markdown",
   "metadata": {},
   "source": [
    "<div class=\"alert alert-success\">\n",
    "\n",
    "**✅Комментарий ревьюера**\n",
    "\n",
    "Было бы здорово наложить гистограммы по центральной части и по всему городу друг на друга. Так нагляднее может быть видно, чем и как они отличаются</div>"
   ]
  },
  {
   "cell_type": "markdown",
   "metadata": {},
   "source": [
    "Распределение параметров площадь, цена, высота потолков похожи на распределение Пуассона. А число комнат больше стремиться к нормальному распределению."
   ]
  },
  {
   "cell_type": "markdown",
   "metadata": {},
   "source": [
    "Видим, что в центре популярны квартиры площадью от 40 до 110 кв.метров, чаще это 2 или 3 комнатные со стандартной высотой потолка 2.6 м. Популярная цена находится в категории до 10 млн."
   ]
  },
  {
   "cell_type": "markdown",
   "metadata": {},
   "source": [
    "**Выделим факторы, которые влияют на стоимость квартиры: число комнат, этаж, удалённость от центра, дата размещения объявления.**"
   ]
  },
  {
   "cell_type": "markdown",
   "metadata": {},
   "source": [
    "Построим графики зависимости цены квартиры от `этажа`, `числа комнат`, `удалённости от центра`, `даты размещения объявления`:"
   ]
  },
  {
   "cell_type": "code",
   "execution_count": 72,
   "metadata": {},
   "outputs": [
    {
     "data": {
      "image/png": "[encoded data removed]",
      "text/plain": [
       "<Figure size 432x288 with 1 Axes>"
      ]
     },
     "metadata": {
      "needs_background": "light"
     },
     "output_type": "display_data"
    },
    {
     "data": {
      "image/png": "[encoded data removed]",
      "text/plain": [
       "<Figure size 432x288 with 1 Axes>"
      ]
     },
     "metadata": {
      "needs_background": "light"
     },
     "output_type": "display_data"
    },
    {
     "data": {
      "image/png": "[encoded data removed]",
      "text/plain": [
       "<Figure size 432x288 with 1 Axes>"
      ]
     },
     "metadata": {
      "needs_background": "light"
     },
     "output_type": "display_data"
    }
   ],
   "source": [
    "indicators = ['rooms', 'cityCenters_nearest', 'first_day_exposition']  \n",
    "\n",
    "for indicator in indicators:\n",
    "    data_fin.query('locality_name == \"Санкт-Петербург\" and cityCenters_nearest_km < 7').plot(x='last_price', y=indicator,\n",
    "                                                    style='o', grid=True, title=f\"Зависимость цены от {indicator} в центре\")\n",
    "    plt.show()"
   ]
  },
  {
   "cell_type": "markdown",
   "metadata": {},
   "source": [
    "Максимальные цены на 3,4,5 комнатные квартиры, но явной зависимости цены от количества комнат не просматривается.  \n",
    "Расстояние в центре также не оказывает сильного влияния на цены. Чуть больше предложений в диапазоне 4-6 км.  \n",
    "В зависимости от даты размещения цена сильно не меняется. Видно что в конце 2014 начале 2015 года объявлений размещалось меньше чем в последующие годы. Также видно что объявления с максимальными ценами размещались волонообразно."
   ]
  },
  {
   "cell_type": "markdown",
   "metadata": {},
   "source": [
    "Посчитаем коэфицент корреляции между ценой и числом комнат, удаленностью отцентра:"
   ]
  },
  {
   "cell_type": "code",
   "execution_count": 73,
   "metadata": {},
   "outputs": [
    {
     "data": {
      "text/plain": [
       "rooms                  0.41\n",
       "cityCenters_nearest   -0.02\n",
       "dtype: float64"
      ]
     },
     "execution_count": 73,
     "metadata": {},
     "output_type": "execute_result"
    }
   ],
   "source": [
    "data_fin.loc[(data_fin['locality_name'] == \"Санкт-Петербург\") & \n",
    "             (data_fin['cityCenters_nearest_km'] < 7),['rooms', 'cityCenters_nearest']].corrwith(data_fin['last_price'])"
   ]
  },
  {
   "cell_type": "markdown",
   "metadata": {},
   "source": [
    "Как видим связь между числом комнат и ценой слабая. А между ценой и расстоянием от центра - очень слабая."
   ]
  },
  {
   "cell_type": "markdown",
   "metadata": {},
   "source": [
    "**Для `этажа` построим столбчатую диаграмму:**"
   ]
  },
  {
   "cell_type": "code",
   "execution_count": 74,
   "metadata": {},
   "outputs": [
    {
     "data": {
      "image/png": "[encoded data removed]",
      "text/plain": [
       "<Figure size 432x288 with 1 Axes>"
      ]
     },
     "metadata": {
      "needs_background": "light"
     },
     "output_type": "display_data"
    }
   ],
   "source": [
    "data_cen_floor = data_fin.query('locality_name == \"Санкт-Петербург\" and cityCenters_nearest_km < 7').pivot_table(\n",
    "                                      index='floor_category', values='last_price', \n",
    "                                      aggfunc='median').sort_values(by='last_price')\n",
    "data_cen_floor\n",
    "plt.bar(data_cen_floor.index, data_cen_floor['last_price'])\n",
    "plt.title('Медиана цены по категориям этажа в центре Санкт-Пертербурга')\n",
    "plt.show()"
   ]
  },
  {
   "cell_type": "markdown",
   "metadata": {},
   "source": [
    "По этажам видим примерно такую же картину как и во всей выборке Первый и Последний этаж меньше пользуются спросом и стоят, обычно, чуть дешевле. Но в центре есть два отличия: Первый этаж гораздо менее популярен, а Последний не так сильно отличается от Другого по популярности."
   ]
  },
  {
   "cell_type": "markdown",
   "metadata": {},
   "source": [
    "## Общий вывод"
   ]
  },
  {
   "cell_type": "markdown",
   "metadata": {},
   "source": [
    "На рыночную стоимость объектов недвижимости влияет множество факторов. Каждый фактор в отдельности не оказывает сильного влияния. Но в совокупности они определяют стоимость квартиры.  \n",
    "В исследовании мы проанализировали выборку объявлений о продаже квартир в Санкт-Петербурге и соседних населённых пунктах за несколько лет. Можно сказать что в данном регионе популярны 1,2 комнатные квартиры площадью до 70 кв.метров ценой в среднем 100 000 руб за кв.метр. Обычно продажа квартиры занимает 6-7 месяцев. Встречаются и интересные квартиры, например площадью 900 кв. метров и стоимостью 420 млн. руб.  \n",
    "В центре Санкт-Петербурга больше популярны 2 и 3 комнатные квартиры и естественно там самые дорогие квартиры. Но в том же центральном районе можно найти вполне дешевую квартиру.  \n",
    "На стоимость квартиры, естественно оказывает влияние ее площадь. Немного дешевле будет квартира, расположенная на первом этаже. Остальные факторы (число комнат, удаленность от центра, время размещения объявления) принципиального влияния не оказывают."
   ]
  }
 ],
 "metadata": {
  "ExecuteTimeLog": [
   {
    "duration": 99,
    "start_time": "2022-01-07T07:05:12.486Z"
   },
   {
    "duration": 790,
    "start_time": "2022-01-07T07:05:47.372Z"
   },
   {
    "duration": 113,
    "start_time": "2022-01-07T07:06:38.311Z"
   },
   {
    "duration": 15,
    "start_time": "2022-01-07T07:08:10.351Z"
   },
   {
    "duration": 103,
    "start_time": "2022-01-07T07:28:20.531Z"
   },
   {
    "duration": 97,
    "start_time": "2022-01-07T07:29:18.609Z"
   },
   {
    "duration": 91,
    "start_time": "2022-01-07T07:29:31.330Z"
   },
   {
    "duration": 11,
    "start_time": "2022-01-07T07:32:17.144Z"
   },
   {
    "duration": 9,
    "start_time": "2022-01-07T07:33:09.526Z"
   },
   {
    "duration": 11,
    "start_time": "2022-01-07T07:34:08.845Z"
   },
   {
    "duration": 12,
    "start_time": "2022-01-07T08:14:52.768Z"
   },
   {
    "duration": 11,
    "start_time": "2022-01-07T08:15:11.432Z"
   },
   {
    "duration": 11,
    "start_time": "2022-01-07T08:15:19.090Z"
   },
   {
    "duration": 80,
    "start_time": "2022-01-07T08:15:49.612Z"
   },
   {
    "duration": 11,
    "start_time": "2022-01-07T08:15:57.002Z"
   },
   {
    "duration": 10,
    "start_time": "2022-01-07T08:24:52.792Z"
   },
   {
    "duration": 8,
    "start_time": "2022-01-07T08:25:51.790Z"
   },
   {
    "duration": 8,
    "start_time": "2022-01-07T08:26:23.808Z"
   },
   {
    "duration": 464,
    "start_time": "2022-01-07T08:35:37.019Z"
   },
   {
    "duration": 28,
    "start_time": "2022-01-07T08:35:56.361Z"
   },
   {
    "duration": 39,
    "start_time": "2022-01-07T08:38:27.082Z"
   },
   {
    "duration": 37,
    "start_time": "2022-01-07T08:39:11.289Z"
   },
   {
    "duration": 324,
    "start_time": "2022-01-07T08:40:58.822Z"
   },
   {
    "duration": 597,
    "start_time": "2022-01-07T08:41:27.257Z"
   },
   {
    "duration": 374,
    "start_time": "2022-01-07T08:41:40.241Z"
   },
   {
    "duration": 38,
    "start_time": "2022-01-07T08:42:35.530Z"
   },
   {
    "duration": 8,
    "start_time": "2022-01-07T08:43:32.277Z"
   },
   {
    "duration": 16,
    "start_time": "2022-01-07T08:43:49.652Z"
   },
   {
    "duration": 6,
    "start_time": "2022-01-07T08:45:06.599Z"
   },
   {
    "duration": 34,
    "start_time": "2022-01-07T08:46:00.797Z"
   },
   {
    "duration": 21,
    "start_time": "2022-01-07T08:47:25.438Z"
   },
   {
    "duration": 286,
    "start_time": "2022-01-07T08:48:56.126Z"
   },
   {
    "duration": 19,
    "start_time": "2022-01-07T08:49:12.060Z"
   },
   {
    "duration": 19,
    "start_time": "2022-01-07T08:51:01.893Z"
   },
   {
    "duration": 21,
    "start_time": "2022-01-07T08:51:07.316Z"
   },
   {
    "duration": 38,
    "start_time": "2022-01-07T08:52:12.899Z"
   },
   {
    "duration": 46,
    "start_time": "2022-01-07T08:52:40.565Z"
   },
   {
    "duration": 39,
    "start_time": "2022-01-07T08:59:05.617Z"
   },
   {
    "duration": 32,
    "start_time": "2022-01-07T09:11:38.797Z"
   },
   {
    "duration": 359,
    "start_time": "2022-01-07T09:14:00.857Z"
   },
   {
    "duration": 53,
    "start_time": "2022-01-07T09:14:36.844Z"
   },
   {
    "duration": 38,
    "start_time": "2022-01-07T09:15:49.991Z"
   },
   {
    "duration": 405,
    "start_time": "2022-01-08T07:04:53.658Z"
   },
   {
    "duration": 905,
    "start_time": "2022-01-08T07:05:01.504Z"
   },
   {
    "duration": 12,
    "start_time": "2022-01-08T07:05:10.979Z"
   },
   {
    "duration": 45,
    "start_time": "2022-01-08T07:25:19.013Z"
   },
   {
    "duration": 348,
    "start_time": "2022-01-08T07:27:01.161Z"
   },
   {
    "duration": 9,
    "start_time": "2022-01-08T07:28:11.777Z"
   },
   {
    "duration": 12,
    "start_time": "2022-01-08T08:07:29.821Z"
   },
   {
    "duration": 8,
    "start_time": "2022-01-08T08:17:05.176Z"
   },
   {
    "duration": 12,
    "start_time": "2022-01-08T08:18:03.006Z"
   },
   {
    "duration": 106,
    "start_time": "2022-01-08T08:20:27.246Z"
   },
   {
    "duration": 15,
    "start_time": "2022-01-08T08:20:27.354Z"
   },
   {
    "duration": 111,
    "start_time": "2022-01-08T08:20:27.371Z"
   },
   {
    "duration": 10,
    "start_time": "2022-01-08T08:20:27.485Z"
   },
   {
    "duration": 27,
    "start_time": "2022-01-08T08:20:27.498Z"
   },
   {
    "duration": 8,
    "start_time": "2022-01-08T08:20:27.527Z"
   },
   {
    "duration": 53,
    "start_time": "2022-01-08T08:27:17.667Z"
   },
   {
    "duration": 10,
    "start_time": "2022-01-08T08:30:24.994Z"
   },
   {
    "duration": 10,
    "start_time": "2022-01-08T08:32:50.448Z"
   },
   {
    "duration": 6,
    "start_time": "2022-01-08T08:34:14.569Z"
   },
   {
    "duration": 6,
    "start_time": "2022-01-08T08:34:18.647Z"
   },
   {
    "duration": 6,
    "start_time": "2022-01-08T08:34:20.157Z"
   },
   {
    "duration": 318,
    "start_time": "2022-01-08T08:35:34.383Z"
   },
   {
    "duration": 7,
    "start_time": "2022-01-08T08:35:42.750Z"
   },
   {
    "duration": 7,
    "start_time": "2022-01-08T08:35:46.950Z"
   },
   {
    "duration": 78,
    "start_time": "2022-01-08T08:39:14.877Z"
   },
   {
    "duration": 10,
    "start_time": "2022-01-08T08:49:13.202Z"
   },
   {
    "duration": 336,
    "start_time": "2022-01-08T08:52:05.145Z"
   },
   {
    "duration": 57,
    "start_time": "2022-01-08T08:52:44.936Z"
   },
   {
    "duration": 43,
    "start_time": "2022-01-08T08:53:00.744Z"
   },
   {
    "duration": 132,
    "start_time": "2022-01-08T08:55:31.318Z"
   },
   {
    "duration": 43,
    "start_time": "2022-01-08T08:57:35.828Z"
   },
   {
    "duration": 10,
    "start_time": "2022-01-08T08:58:12.957Z"
   },
   {
    "duration": 40,
    "start_time": "2022-01-08T09:06:10.940Z"
   },
   {
    "duration": 9,
    "start_time": "2022-01-08T09:26:33.012Z"
   },
   {
    "duration": 352,
    "start_time": "2022-01-08T09:26:46.171Z"
   },
   {
    "duration": 54,
    "start_time": "2022-01-08T09:26:57.922Z"
   },
   {
    "duration": 48,
    "start_time": "2022-01-08T09:33:54.988Z"
   },
   {
    "duration": 20,
    "start_time": "2022-01-08T09:37:56.184Z"
   },
   {
    "duration": 6,
    "start_time": "2022-01-08T09:38:12.829Z"
   },
   {
    "duration": 6,
    "start_time": "2022-01-08T09:39:19.792Z"
   },
   {
    "duration": 8,
    "start_time": "2022-01-08T09:40:13.805Z"
   },
   {
    "duration": 8,
    "start_time": "2022-01-08T09:40:32.656Z"
   },
   {
    "duration": 6,
    "start_time": "2022-01-08T09:42:36.901Z"
   },
   {
    "duration": 6,
    "start_time": "2022-01-08T09:44:19.485Z"
   },
   {
    "duration": 6,
    "start_time": "2022-01-08T09:44:38.455Z"
   },
   {
    "duration": 6,
    "start_time": "2022-01-08T09:45:14.165Z"
   },
   {
    "duration": 7,
    "start_time": "2022-01-08T09:45:28.387Z"
   },
   {
    "duration": 5,
    "start_time": "2022-01-08T09:50:20.513Z"
   },
   {
    "duration": 6,
    "start_time": "2022-01-08T09:51:35.378Z"
   },
   {
    "duration": 7,
    "start_time": "2022-01-08T10:18:39.533Z"
   },
   {
    "duration": 6,
    "start_time": "2022-01-08T10:19:07.955Z"
   },
   {
    "duration": 6,
    "start_time": "2022-01-08T10:21:55.579Z"
   },
   {
    "duration": 112,
    "start_time": "2022-01-08T10:25:57.722Z"
   },
   {
    "duration": 95,
    "start_time": "2022-01-08T10:27:37.642Z"
   },
   {
    "duration": 95,
    "start_time": "2022-01-08T10:32:20.984Z"
   },
   {
    "duration": 9,
    "start_time": "2022-01-08T10:33:07.526Z"
   },
   {
    "duration": 1284,
    "start_time": "2022-01-08T10:39:44.790Z"
   },
   {
    "duration": 1804,
    "start_time": "2022-01-08T10:41:18.333Z"
   },
   {
    "duration": 94,
    "start_time": "2022-01-08T10:42:25.135Z"
   },
   {
    "duration": 50,
    "start_time": "2022-01-08T10:43:23.635Z"
   },
   {
    "duration": 50,
    "start_time": "2022-01-08T10:44:38.506Z"
   },
   {
    "duration": 52,
    "start_time": "2022-01-08T10:46:47.235Z"
   },
   {
    "duration": 70,
    "start_time": "2022-01-08T10:50:19.834Z"
   },
   {
    "duration": 504,
    "start_time": "2022-01-08T10:52:26.394Z"
   },
   {
    "duration": 70,
    "start_time": "2022-01-08T10:52:49.865Z"
   },
   {
    "duration": 75,
    "start_time": "2022-01-08T10:54:07.674Z"
   },
   {
    "duration": 58,
    "start_time": "2022-01-08T10:54:42.098Z"
   },
   {
    "duration": 50,
    "start_time": "2022-01-08T10:58:39.167Z"
   },
   {
    "duration": 72,
    "start_time": "2022-01-08T10:59:11.694Z"
   },
   {
    "duration": 72,
    "start_time": "2022-01-08T11:03:26.410Z"
   },
   {
    "duration": 75,
    "start_time": "2022-01-08T11:04:10.444Z"
   },
   {
    "duration": 63,
    "start_time": "2022-01-08T11:05:38.148Z"
   },
   {
    "duration": 14,
    "start_time": "2022-01-08T11:05:45.378Z"
   },
   {
    "duration": 12,
    "start_time": "2022-01-08T11:08:34.992Z"
   },
   {
    "duration": 12,
    "start_time": "2022-01-08T11:08:55.170Z"
   },
   {
    "duration": 6,
    "start_time": "2022-01-08T11:11:45.709Z"
   },
   {
    "duration": 65,
    "start_time": "2022-01-08T11:13:31.295Z"
   },
   {
    "duration": 58,
    "start_time": "2022-01-08T11:19:23.268Z"
   },
   {
    "duration": 15,
    "start_time": "2022-01-08T11:19:27.150Z"
   },
   {
    "duration": 16,
    "start_time": "2022-01-08T11:27:36.126Z"
   },
   {
    "duration": 54,
    "start_time": "2022-01-08T11:27:48.156Z"
   },
   {
    "duration": 12,
    "start_time": "2022-01-08T12:12:40.449Z"
   },
   {
    "duration": 11,
    "start_time": "2022-01-08T12:12:59.267Z"
   },
   {
    "duration": 4,
    "start_time": "2022-01-08T12:21:35.350Z"
   },
   {
    "duration": 24,
    "start_time": "2022-01-08T12:21:37.192Z"
   },
   {
    "duration": 5,
    "start_time": "2022-01-08T12:22:15.975Z"
   },
   {
    "duration": 21,
    "start_time": "2022-01-08T12:22:17.180Z"
   },
   {
    "duration": 5,
    "start_time": "2022-01-08T12:22:26.928Z"
   },
   {
    "duration": 23,
    "start_time": "2022-01-08T12:22:28.128Z"
   },
   {
    "duration": 69,
    "start_time": "2022-01-08T12:22:54.018Z"
   },
   {
    "duration": 14,
    "start_time": "2022-01-08T12:24:58.197Z"
   },
   {
    "duration": 10,
    "start_time": "2022-01-08T12:25:19.526Z"
   },
   {
    "duration": 25,
    "start_time": "2022-01-08T12:26:26.789Z"
   },
   {
    "duration": 17,
    "start_time": "2022-01-08T12:28:50.526Z"
   },
   {
    "duration": 9,
    "start_time": "2022-01-08T12:30:19.333Z"
   },
   {
    "duration": 169,
    "start_time": "2022-01-08T12:32:41.956Z"
   },
   {
    "duration": 121,
    "start_time": "2022-01-08T12:33:10.699Z"
   },
   {
    "duration": 96,
    "start_time": "2022-01-08T12:33:19.364Z"
   },
   {
    "duration": 20,
    "start_time": "2022-01-08T12:34:34.101Z"
   },
   {
    "duration": 418,
    "start_time": "2022-01-08T12:37:26.207Z"
   },
   {
    "duration": 326,
    "start_time": "2022-01-08T12:38:17.522Z"
   },
   {
    "duration": 479,
    "start_time": "2022-01-08T12:38:21.113Z"
   },
   {
    "duration": 418,
    "start_time": "2022-01-08T12:38:33.026Z"
   },
   {
    "duration": 20,
    "start_time": "2022-01-08T12:38:44.530Z"
   },
   {
    "duration": 121,
    "start_time": "2022-01-08T12:45:34.714Z"
   },
   {
    "duration": 31,
    "start_time": "2022-01-08T12:45:56.947Z"
   },
   {
    "duration": 23,
    "start_time": "2022-01-08T12:46:35.754Z"
   },
   {
    "duration": 12,
    "start_time": "2022-01-08T12:56:36.422Z"
   },
   {
    "duration": 21,
    "start_time": "2022-01-08T13:05:50.579Z"
   },
   {
    "duration": 681,
    "start_time": "2022-01-09T08:33:08.195Z"
   },
   {
    "duration": 9,
    "start_time": "2022-01-09T08:33:08.878Z"
   },
   {
    "duration": 62,
    "start_time": "2022-01-09T08:33:08.888Z"
   },
   {
    "duration": 7,
    "start_time": "2022-01-09T08:33:08.952Z"
   },
   {
    "duration": 9,
    "start_time": "2022-01-09T08:33:08.960Z"
   },
   {
    "duration": 4,
    "start_time": "2022-01-09T08:33:08.970Z"
   },
   {
    "duration": 4,
    "start_time": "2022-01-09T08:33:08.976Z"
   },
   {
    "duration": 4,
    "start_time": "2022-01-09T08:33:08.982Z"
   },
   {
    "duration": 7,
    "start_time": "2022-01-09T08:33:08.987Z"
   },
   {
    "duration": 3,
    "start_time": "2022-01-09T08:33:08.995Z"
   },
   {
    "duration": 39,
    "start_time": "2022-01-09T08:33:08.999Z"
   },
   {
    "duration": 30,
    "start_time": "2022-01-09T08:33:09.040Z"
   },
   {
    "duration": 5,
    "start_time": "2022-01-09T08:33:09.072Z"
   },
   {
    "duration": 13,
    "start_time": "2022-01-09T08:33:09.078Z"
   },
   {
    "duration": 18,
    "start_time": "2022-01-09T08:33:15.060Z"
   },
   {
    "duration": 5,
    "start_time": "2022-01-09T08:33:52.812Z"
   },
   {
    "duration": 1303,
    "start_time": "2022-01-09T09:53:50.831Z"
   },
   {
    "duration": 10,
    "start_time": "2022-01-09T09:55:11.163Z"
   },
   {
    "duration": 13,
    "start_time": "2022-01-09T09:57:15.049Z"
   },
   {
    "duration": 11,
    "start_time": "2022-01-09T09:57:48.337Z"
   },
   {
    "duration": 17,
    "start_time": "2022-01-09T10:04:38.148Z"
   },
   {
    "duration": 13,
    "start_time": "2022-01-09T10:06:10.691Z"
   },
   {
    "duration": 9,
    "start_time": "2022-01-09T10:06:31.614Z"
   },
   {
    "duration": 9,
    "start_time": "2022-01-09T10:06:40.294Z"
   },
   {
    "duration": 9,
    "start_time": "2022-01-09T10:06:51.885Z"
   },
   {
    "duration": 18,
    "start_time": "2022-01-09T10:06:58.990Z"
   },
   {
    "duration": 8,
    "start_time": "2022-01-09T10:07:03.950Z"
   },
   {
    "duration": 20,
    "start_time": "2022-01-09T10:08:06.981Z"
   },
   {
    "duration": 5,
    "start_time": "2022-01-09T10:09:29.308Z"
   },
   {
    "duration": 21,
    "start_time": "2022-01-09T10:12:13.844Z"
   },
   {
    "duration": 328,
    "start_time": "2022-01-09T10:17:16.151Z"
   },
   {
    "duration": 8,
    "start_time": "2022-01-09T10:17:52.729Z"
   },
   {
    "duration": 8,
    "start_time": "2022-01-09T10:19:46.139Z"
   },
   {
    "duration": 19,
    "start_time": "2022-01-09T10:20:59.249Z"
   },
   {
    "duration": 21,
    "start_time": "2022-01-09T10:21:41.778Z"
   },
   {
    "duration": 28,
    "start_time": "2022-01-09T10:23:09.936Z"
   },
   {
    "duration": 20,
    "start_time": "2022-01-09T10:29:01.622Z"
   },
   {
    "duration": 20,
    "start_time": "2022-01-09T10:29:03.837Z"
   },
   {
    "duration": 7,
    "start_time": "2022-01-09T10:32:29.005Z"
   },
   {
    "duration": 25,
    "start_time": "2022-01-09T10:32:34.435Z"
   },
   {
    "duration": 7,
    "start_time": "2022-01-09T10:33:06.212Z"
   },
   {
    "duration": 5,
    "start_time": "2022-01-09T10:33:39.092Z"
   },
   {
    "duration": 11,
    "start_time": "2022-01-09T10:35:58.043Z"
   },
   {
    "duration": 9770,
    "start_time": "2022-01-09T10:36:01.395Z"
   },
   {
    "duration": 9157,
    "start_time": "2022-01-09T10:36:30.677Z"
   },
   {
    "duration": 4,
    "start_time": "2022-01-09T10:36:55.458Z"
   },
   {
    "duration": 4,
    "start_time": "2022-01-09T10:38:06.739Z"
   },
   {
    "duration": 26,
    "start_time": "2022-01-09T10:38:54.941Z"
   },
   {
    "duration": 10,
    "start_time": "2022-01-09T10:39:01.042Z"
   },
   {
    "duration": 15,
    "start_time": "2022-01-09T10:42:37.759Z"
   },
   {
    "duration": 5,
    "start_time": "2022-01-09T10:46:36.452Z"
   },
   {
    "duration": 5,
    "start_time": "2022-01-09T10:46:47.487Z"
   },
   {
    "duration": 6,
    "start_time": "2022-01-09T10:47:18.776Z"
   },
   {
    "duration": 3,
    "start_time": "2022-01-09T11:02:18.351Z"
   },
   {
    "duration": 5,
    "start_time": "2022-01-09T11:06:29.997Z"
   },
   {
    "duration": 4,
    "start_time": "2022-01-09T11:09:32.607Z"
   },
   {
    "duration": 6,
    "start_time": "2022-01-09T12:35:40.228Z"
   },
   {
    "duration": 5,
    "start_time": "2022-01-09T12:36:32.154Z"
   },
   {
    "duration": 186,
    "start_time": "2022-01-09T12:38:43.696Z"
   },
   {
    "duration": 12,
    "start_time": "2022-01-09T12:39:37.287Z"
   },
   {
    "duration": 4,
    "start_time": "2022-01-09T13:01:49.833Z"
   },
   {
    "duration": 4,
    "start_time": "2022-01-09T13:02:02.271Z"
   },
   {
    "duration": 4,
    "start_time": "2022-01-09T13:05:13.445Z"
   },
   {
    "duration": 384,
    "start_time": "2022-01-09T13:16:04.666Z"
   },
   {
    "duration": 5,
    "start_time": "2022-01-09T13:31:21.162Z"
   },
   {
    "duration": 7,
    "start_time": "2022-01-09T13:48:26.552Z"
   },
   {
    "duration": 7,
    "start_time": "2022-01-09T13:52:29.835Z"
   },
   {
    "duration": 9,
    "start_time": "2022-01-09T13:56:01.001Z"
   },
   {
    "duration": 5,
    "start_time": "2022-01-09T14:19:40.749Z"
   },
   {
    "duration": 7,
    "start_time": "2022-01-09T14:19:43.200Z"
   },
   {
    "duration": 13,
    "start_time": "2022-01-09T14:28:38.239Z"
   },
   {
    "duration": 19,
    "start_time": "2022-01-09T14:30:49.860Z"
   },
   {
    "duration": 450,
    "start_time": "2022-01-09T14:38:39.429Z"
   },
   {
    "duration": 2546,
    "start_time": "2022-01-09T14:38:58.274Z"
   },
   {
    "duration": 18,
    "start_time": "2022-01-09T14:39:36.575Z"
   },
   {
    "duration": 13,
    "start_time": "2022-01-09T14:39:51.809Z"
   },
   {
    "duration": 36,
    "start_time": "2022-01-09T14:39:54.456Z"
   },
   {
    "duration": 5,
    "start_time": "2022-01-09T14:46:03.498Z"
   },
   {
    "duration": 4,
    "start_time": "2022-01-09T14:47:49.252Z"
   },
   {
    "duration": 5,
    "start_time": "2022-01-09T14:47:52.109Z"
   },
   {
    "duration": 4,
    "start_time": "2022-01-09T15:14:59.476Z"
   },
   {
    "duration": 19,
    "start_time": "2022-01-09T15:15:04.594Z"
   },
   {
    "duration": 11,
    "start_time": "2022-01-09T15:29:12.954Z"
   },
   {
    "duration": 21,
    "start_time": "2022-01-09T15:29:16.505Z"
   },
   {
    "duration": 3,
    "start_time": "2022-01-09T16:42:52.578Z"
   },
   {
    "duration": 770,
    "start_time": "2022-01-09T16:42:56.936Z"
   },
   {
    "duration": 801,
    "start_time": "2022-01-09T16:45:29.248Z"
   },
   {
    "duration": 3,
    "start_time": "2022-01-09T16:45:46.744Z"
   },
   {
    "duration": 644,
    "start_time": "2022-01-09T16:45:49.631Z"
   },
   {
    "duration": 18,
    "start_time": "2022-01-09T16:45:52.565Z"
   },
   {
    "duration": 9,
    "start_time": "2022-01-09T16:47:11.160Z"
   },
   {
    "duration": 5,
    "start_time": "2022-01-09T17:08:20.342Z"
   },
   {
    "duration": 18,
    "start_time": "2022-01-09T17:08:21.910Z"
   },
   {
    "duration": 9,
    "start_time": "2022-01-09T17:10:24.299Z"
   },
   {
    "duration": 8,
    "start_time": "2022-01-09T17:12:30.360Z"
   },
   {
    "duration": 201,
    "start_time": "2022-01-09T17:17:29.260Z"
   },
   {
    "duration": 8,
    "start_time": "2022-01-09T17:18:56.699Z"
   },
   {
    "duration": 156,
    "start_time": "2022-01-09T17:19:40.786Z"
   },
   {
    "duration": 158,
    "start_time": "2022-01-09T17:20:08.824Z"
   },
   {
    "duration": 152,
    "start_time": "2022-01-09T17:20:21.155Z"
   },
   {
    "duration": 151,
    "start_time": "2022-01-09T17:21:20.630Z"
   },
   {
    "duration": 197,
    "start_time": "2022-01-09T17:21:33.795Z"
   },
   {
    "duration": 7,
    "start_time": "2022-01-09T17:22:55.154Z"
   },
   {
    "duration": 160,
    "start_time": "2022-01-09T17:25:07.649Z"
   },
   {
    "duration": 156,
    "start_time": "2022-01-09T17:25:29.832Z"
   },
   {
    "duration": 193,
    "start_time": "2022-01-09T17:26:00.171Z"
   },
   {
    "duration": 310,
    "start_time": "2022-01-09T17:26:12.820Z"
   },
   {
    "duration": 293,
    "start_time": "2022-01-09T17:26:39.738Z"
   },
   {
    "duration": 188,
    "start_time": "2022-01-09T17:27:08.633Z"
   },
   {
    "duration": 188,
    "start_time": "2022-01-09T17:28:26.584Z"
   },
   {
    "duration": 7,
    "start_time": "2022-01-09T17:29:00.416Z"
   },
   {
    "duration": 188,
    "start_time": "2022-01-09T17:29:34.592Z"
   },
   {
    "duration": 175,
    "start_time": "2022-01-09T17:31:06.559Z"
   },
   {
    "duration": 190,
    "start_time": "2022-01-09T17:31:34.392Z"
   },
   {
    "duration": 280,
    "start_time": "2022-01-09T17:31:50.163Z"
   },
   {
    "duration": 181,
    "start_time": "2022-01-09T17:36:34.747Z"
   },
   {
    "duration": 214,
    "start_time": "2022-01-09T17:38:12.587Z"
   },
   {
    "duration": 203,
    "start_time": "2022-01-09T17:38:28.066Z"
   },
   {
    "duration": 178,
    "start_time": "2022-01-09T17:38:42.073Z"
   },
   {
    "duration": 179,
    "start_time": "2022-01-09T17:38:58.818Z"
   },
   {
    "duration": 188,
    "start_time": "2022-01-09T17:39:07.497Z"
   },
   {
    "duration": 204,
    "start_time": "2022-01-09T17:42:44.408Z"
   },
   {
    "duration": 7,
    "start_time": "2022-01-09T17:43:18.632Z"
   },
   {
    "duration": 5,
    "start_time": "2022-01-09T17:46:08.775Z"
   },
   {
    "duration": 5,
    "start_time": "2022-01-09T17:47:05.871Z"
   },
   {
    "duration": 5,
    "start_time": "2022-01-09T17:47:34.856Z"
   },
   {
    "duration": 5,
    "start_time": "2022-01-09T17:47:54.013Z"
   },
   {
    "duration": 5,
    "start_time": "2022-01-09T17:48:48.454Z"
   },
   {
    "duration": 5,
    "start_time": "2022-01-09T17:49:17.176Z"
   },
   {
    "duration": 5,
    "start_time": "2022-01-09T17:49:49.198Z"
   },
   {
    "duration": 217,
    "start_time": "2022-01-09T17:51:02.591Z"
   },
   {
    "duration": 211,
    "start_time": "2022-01-09T17:53:36.629Z"
   },
   {
    "duration": 353,
    "start_time": "2022-01-09T17:53:49.989Z"
   },
   {
    "duration": 401,
    "start_time": "2022-01-09T17:55:59.596Z"
   },
   {
    "duration": 277,
    "start_time": "2022-01-09T17:57:52.559Z"
   },
   {
    "duration": 280,
    "start_time": "2022-01-09T17:59:55.803Z"
   },
   {
    "duration": 268,
    "start_time": "2022-01-09T18:00:25.601Z"
   },
   {
    "duration": 266,
    "start_time": "2022-01-09T18:00:47.035Z"
   },
   {
    "duration": 213,
    "start_time": "2022-01-09T18:01:06.045Z"
   },
   {
    "duration": 270,
    "start_time": "2022-01-09T18:01:11.349Z"
   },
   {
    "duration": 189,
    "start_time": "2022-01-09T18:08:46.742Z"
   },
   {
    "duration": 259,
    "start_time": "2022-01-09T18:09:07.982Z"
   },
   {
    "duration": 577,
    "start_time": "2022-01-09T18:13:59.540Z"
   },
   {
    "duration": 78,
    "start_time": "2022-01-09T18:14:43.961Z"
   },
   {
    "duration": 300,
    "start_time": "2022-01-09T18:14:57.036Z"
   },
   {
    "duration": 187,
    "start_time": "2022-01-09T18:21:39.995Z"
   },
   {
    "duration": 205,
    "start_time": "2022-01-09T18:21:47.232Z"
   },
   {
    "duration": 196,
    "start_time": "2022-01-09T18:21:52.577Z"
   },
   {
    "duration": 182,
    "start_time": "2022-01-09T18:22:19.480Z"
   },
   {
    "duration": 259,
    "start_time": "2022-01-09T18:38:04.628Z"
   },
   {
    "duration": 270,
    "start_time": "2022-01-09T18:42:06.178Z"
   },
   {
    "duration": 175,
    "start_time": "2022-01-09T18:42:16.745Z"
   },
   {
    "duration": 184,
    "start_time": "2022-01-09T18:42:26.929Z"
   },
   {
    "duration": 320,
    "start_time": "2022-01-09T18:42:43.529Z"
   },
   {
    "duration": 168,
    "start_time": "2022-01-09T18:42:54.065Z"
   },
   {
    "duration": 212,
    "start_time": "2022-01-09T18:42:58.864Z"
   },
   {
    "duration": 169,
    "start_time": "2022-01-09T18:43:04.025Z"
   },
   {
    "duration": 176,
    "start_time": "2022-01-09T18:43:31.137Z"
   },
   {
    "duration": 456,
    "start_time": "2022-01-10T16:24:52.205Z"
   },
   {
    "duration": 1063,
    "start_time": "2022-01-10T16:25:06.653Z"
   },
   {
    "duration": 16,
    "start_time": "2022-01-10T16:25:07.719Z"
   },
   {
    "duration": 340,
    "start_time": "2022-01-10T16:25:07.738Z"
   },
   {
    "duration": 148,
    "start_time": "2022-01-10T16:25:08.081Z"
   },
   {
    "duration": 241,
    "start_time": "2022-01-10T16:25:08.231Z"
   },
   {
    "duration": 334,
    "start_time": "2022-01-10T16:25:08.475Z"
   },
   {
    "duration": 331,
    "start_time": "2022-01-10T16:25:08.812Z"
   },
   {
    "duration": 224,
    "start_time": "2022-01-10T16:25:09.146Z"
   },
   {
    "duration": 256,
    "start_time": "2022-01-10T16:25:09.374Z"
   },
   {
    "duration": 238,
    "start_time": "2022-01-10T16:25:09.633Z"
   },
   {
    "duration": 248,
    "start_time": "2022-01-10T16:25:09.876Z"
   },
   {
    "duration": 310,
    "start_time": "2022-01-10T16:25:10.127Z"
   },
   {
    "duration": 368,
    "start_time": "2022-01-10T16:25:10.439Z"
   },
   {
    "duration": 391,
    "start_time": "2022-01-10T16:25:10.810Z"
   },
   {
    "duration": 271,
    "start_time": "2022-01-10T16:25:11.203Z"
   },
   {
    "duration": 247,
    "start_time": "2022-01-10T16:25:11.476Z"
   },
   {
    "duration": 238,
    "start_time": "2022-01-10T16:25:11.726Z"
   },
   {
    "duration": 198,
    "start_time": "2022-01-10T16:25:11.966Z"
   },
   {
    "duration": 233,
    "start_time": "2022-01-10T16:25:12.166Z"
   },
   {
    "duration": 222,
    "start_time": "2022-01-10T16:25:12.402Z"
   },
   {
    "duration": 180,
    "start_time": "2022-01-10T16:25:12.627Z"
   },
   {
    "duration": 237,
    "start_time": "2022-01-10T16:25:12.809Z"
   },
   {
    "duration": 231,
    "start_time": "2022-01-10T16:25:13.048Z"
   },
   {
    "duration": 312,
    "start_time": "2022-01-10T16:25:13.282Z"
   },
   {
    "duration": 249,
    "start_time": "2022-01-10T16:25:13.596Z"
   },
   {
    "duration": 206,
    "start_time": "2022-01-10T16:25:13.848Z"
   },
   {
    "duration": 238,
    "start_time": "2022-01-10T16:25:14.058Z"
   },
   {
    "duration": 211,
    "start_time": "2022-01-10T16:25:14.299Z"
   },
   {
    "duration": 1257,
    "start_time": "2022-01-10T16:25:14.512Z"
   },
   {
    "duration": 16,
    "start_time": "2022-01-10T16:25:15.771Z"
   },
   {
    "duration": 325,
    "start_time": "2022-01-10T16:25:15.789Z"
   },
   {
    "duration": 272,
    "start_time": "2022-01-10T16:25:16.117Z"
   },
   {
    "duration": 410,
    "start_time": "2022-01-10T16:25:25.683Z"
   },
   {
    "duration": 852,
    "start_time": "2022-01-10T16:29:03.788Z"
   },
   {
    "duration": 353,
    "start_time": "2022-01-10T16:29:56.628Z"
   },
   {
    "duration": 539,
    "start_time": "2022-01-10T16:33:08.986Z"
   },
   {
    "duration": 333,
    "start_time": "2022-01-10T16:33:16.000Z"
   },
   {
    "duration": 365,
    "start_time": "2022-01-10T16:33:23.714Z"
   },
   {
    "duration": 388,
    "start_time": "2022-01-10T16:33:37.979Z"
   },
   {
    "duration": 386,
    "start_time": "2022-01-10T16:34:19.496Z"
   },
   {
    "duration": 423,
    "start_time": "2022-01-10T16:34:26.147Z"
   },
   {
    "duration": 360,
    "start_time": "2022-01-10T16:34:38.796Z"
   },
   {
    "duration": 651,
    "start_time": "2022-01-10T16:36:05.753Z"
   },
   {
    "duration": 384,
    "start_time": "2022-01-10T16:36:34.424Z"
   },
   {
    "duration": 547,
    "start_time": "2022-01-10T16:36:42.616Z"
   },
   {
    "duration": 538,
    "start_time": "2022-01-10T16:37:05.930Z"
   },
   {
    "duration": 361,
    "start_time": "2022-01-10T16:37:29.209Z"
   },
   {
    "duration": 11,
    "start_time": "2022-01-10T16:37:48.160Z"
   },
   {
    "duration": 12,
    "start_time": "2022-01-10T16:38:05.063Z"
   },
   {
    "duration": 13,
    "start_time": "2022-01-10T16:38:41.749Z"
   },
   {
    "duration": 11,
    "start_time": "2022-01-10T16:39:11.856Z"
   },
   {
    "duration": 374,
    "start_time": "2022-01-10T16:55:22.290Z"
   },
   {
    "duration": 370,
    "start_time": "2022-01-10T16:55:39.875Z"
   },
   {
    "duration": 350,
    "start_time": "2022-01-10T17:16:53.004Z"
   },
   {
    "duration": 452,
    "start_time": "2022-01-10T17:17:10.530Z"
   },
   {
    "duration": 369,
    "start_time": "2022-01-10T17:17:18.898Z"
   },
   {
    "duration": 364,
    "start_time": "2022-01-10T17:17:24.249Z"
   },
   {
    "duration": 416,
    "start_time": "2022-01-10T17:17:32.009Z"
   },
   {
    "duration": 359,
    "start_time": "2022-01-10T17:17:37.684Z"
   },
   {
    "duration": 384,
    "start_time": "2022-01-10T17:17:54.643Z"
   },
   {
    "duration": 398,
    "start_time": "2022-01-10T17:18:03.930Z"
   },
   {
    "duration": 286,
    "start_time": "2022-01-10T17:40:37.756Z"
   },
   {
    "duration": 309,
    "start_time": "2022-01-10T17:40:49.112Z"
   },
   {
    "duration": 1569,
    "start_time": "2022-01-10T17:42:12.498Z"
   },
   {
    "duration": 201,
    "start_time": "2022-01-10T17:44:07.999Z"
   },
   {
    "duration": 330,
    "start_time": "2022-01-10T17:45:29.465Z"
   },
   {
    "duration": 216,
    "start_time": "2022-01-10T17:45:42.736Z"
   },
   {
    "duration": 13,
    "start_time": "2022-01-10T17:46:41.135Z"
   },
   {
    "duration": 231,
    "start_time": "2022-01-10T17:47:02.598Z"
   },
   {
    "duration": 241,
    "start_time": "2022-01-10T17:47:20.062Z"
   },
   {
    "duration": 221,
    "start_time": "2022-01-10T17:59:04.787Z"
   },
   {
    "duration": 225,
    "start_time": "2022-01-10T17:59:15.115Z"
   },
   {
    "duration": 221,
    "start_time": "2022-01-10T17:59:39.267Z"
   },
   {
    "duration": 226,
    "start_time": "2022-01-10T17:59:47.858Z"
   },
   {
    "duration": 253,
    "start_time": "2022-01-10T18:00:05.994Z"
   },
   {
    "duration": 211,
    "start_time": "2022-01-10T18:00:17.858Z"
   },
   {
    "duration": 281,
    "start_time": "2022-01-10T18:00:29.819Z"
   },
   {
    "duration": 269,
    "start_time": "2022-01-10T18:00:37.441Z"
   },
   {
    "duration": 356,
    "start_time": "2022-01-10T18:00:53.801Z"
   },
   {
    "duration": 368,
    "start_time": "2022-01-10T18:01:45.354Z"
   },
   {
    "duration": 280,
    "start_time": "2022-01-10T18:03:46.266Z"
   },
   {
    "duration": 303,
    "start_time": "2022-01-10T18:04:19.432Z"
   },
   {
    "duration": 246,
    "start_time": "2022-01-10T18:04:34.393Z"
   },
   {
    "duration": 59,
    "start_time": "2022-01-10T18:14:15.220Z"
   },
   {
    "duration": 101,
    "start_time": "2022-01-10T18:18:10.725Z"
   },
   {
    "duration": 207,
    "start_time": "2022-01-10T18:26:20.632Z"
   },
   {
    "duration": 362,
    "start_time": "2022-01-10T18:26:31.121Z"
   },
   {
    "duration": 219,
    "start_time": "2022-01-10T18:26:55.464Z"
   },
   {
    "duration": 249,
    "start_time": "2022-01-10T18:28:13.216Z"
   },
   {
    "duration": 223,
    "start_time": "2022-01-10T18:28:45.223Z"
   },
   {
    "duration": 330,
    "start_time": "2022-01-10T18:29:19.000Z"
   },
   {
    "duration": 1007,
    "start_time": "2022-01-11T14:10:27.201Z"
   },
   {
    "duration": 17,
    "start_time": "2022-01-11T14:10:28.210Z"
   },
   {
    "duration": 124,
    "start_time": "2022-01-11T14:10:28.230Z"
   },
   {
    "duration": 19,
    "start_time": "2022-01-11T14:10:28.357Z"
   },
   {
    "duration": 11,
    "start_time": "2022-01-11T14:10:28.378Z"
   },
   {
    "duration": 8,
    "start_time": "2022-01-11T14:10:28.391Z"
   },
   {
    "duration": 11,
    "start_time": "2022-01-11T14:10:28.401Z"
   },
   {
    "duration": 51,
    "start_time": "2022-01-11T14:10:28.417Z"
   },
   {
    "duration": 6,
    "start_time": "2022-01-11T14:10:28.472Z"
   },
   {
    "duration": 25,
    "start_time": "2022-01-11T14:10:28.480Z"
   },
   {
    "duration": 31,
    "start_time": "2022-01-11T14:10:28.507Z"
   },
   {
    "duration": 72,
    "start_time": "2022-01-11T14:10:28.540Z"
   },
   {
    "duration": 88,
    "start_time": "2022-01-11T14:10:28.614Z"
   },
   {
    "duration": 128,
    "start_time": "2022-01-11T14:10:28.705Z"
   },
   {
    "duration": 127,
    "start_time": "2022-01-11T14:10:28.837Z"
   },
   {
    "duration": 81,
    "start_time": "2022-01-11T14:10:28.967Z"
   },
   {
    "duration": 104,
    "start_time": "2022-01-11T14:10:29.051Z"
   },
   {
    "duration": 156,
    "start_time": "2022-01-11T14:10:29.158Z"
   },
   {
    "duration": 149,
    "start_time": "2022-01-11T14:10:29.316Z"
   },
   {
    "duration": 243,
    "start_time": "2022-01-11T14:10:29.468Z"
   },
   {
    "duration": 89,
    "start_time": "2022-01-11T14:10:29.714Z"
   },
   {
    "duration": 91,
    "start_time": "2022-01-11T14:10:29.805Z"
   },
   {
    "duration": 55,
    "start_time": "2022-01-11T14:10:29.901Z"
   },
   {
    "duration": 301,
    "start_time": "2022-01-11T14:10:29.959Z"
   },
   {
    "duration": 120,
    "start_time": "2022-01-11T14:10:30.263Z"
   },
   {
    "duration": 177,
    "start_time": "2022-01-11T14:10:30.385Z"
   },
   {
    "duration": 180,
    "start_time": "2022-01-11T14:10:30.565Z"
   },
   {
    "duration": 173,
    "start_time": "2022-01-11T14:10:30.748Z"
   },
   {
    "duration": 1235,
    "start_time": "2022-01-11T14:10:30.923Z"
   },
   {
    "duration": 20,
    "start_time": "2022-01-11T14:10:32.161Z"
   },
   {
    "duration": 13,
    "start_time": "2022-01-11T14:10:32.184Z"
   },
   {
    "duration": 19,
    "start_time": "2022-01-11T14:10:32.200Z"
   },
   {
    "duration": 445,
    "start_time": "2022-01-11T14:10:32.222Z"
   },
   {
    "duration": 372,
    "start_time": "2022-01-11T14:10:32.669Z"
   },
   {
    "duration": 390,
    "start_time": "2022-01-11T14:10:33.043Z"
   },
   {
    "duration": 396,
    "start_time": "2022-01-11T14:10:33.436Z"
   },
   {
    "duration": 566,
    "start_time": "2022-01-11T14:10:33.834Z"
   },
   {
    "duration": 7,
    "start_time": "2022-01-11T14:10:34.402Z"
   },
   {
    "duration": 374,
    "start_time": "2022-01-11T14:10:34.412Z"
   },
   {
    "duration": 12,
    "start_time": "2022-01-11T14:10:34.788Z"
   },
   {
    "duration": 518,
    "start_time": "2022-01-11T14:12:23.335Z"
   },
   {
    "duration": 546,
    "start_time": "2022-01-11T14:21:31.775Z"
   },
   {
    "duration": 708,
    "start_time": "2022-01-11T14:21:49.215Z"
   },
   {
    "duration": 221,
    "start_time": "2022-01-11T14:22:28.277Z"
   },
   {
    "duration": 244,
    "start_time": "2022-01-11T14:22:39.303Z"
   },
   {
    "duration": 59,
    "start_time": "2022-01-11T14:27:43.488Z"
   },
   {
    "duration": 61,
    "start_time": "2022-01-11T14:28:32.853Z"
   },
   {
    "duration": 61,
    "start_time": "2022-01-11T14:37:05.568Z"
   },
   {
    "duration": 65,
    "start_time": "2022-01-11T14:38:06.618Z"
   },
   {
    "duration": 539,
    "start_time": "2022-01-11T14:39:54.752Z"
   },
   {
    "duration": 524,
    "start_time": "2022-01-11T14:40:05.825Z"
   },
   {
    "duration": 60,
    "start_time": "2022-01-11T14:40:13.169Z"
   },
   {
    "duration": 58,
    "start_time": "2022-01-11T14:40:24.352Z"
   },
   {
    "duration": 59,
    "start_time": "2022-01-11T14:52:29.746Z"
   },
   {
    "duration": 225,
    "start_time": "2022-01-11T14:54:39.931Z"
   },
   {
    "duration": 217,
    "start_time": "2022-01-11T14:54:51.268Z"
   },
   {
    "duration": 208,
    "start_time": "2022-01-11T14:55:01.884Z"
   },
   {
    "duration": 281,
    "start_time": "2022-01-11T14:55:12.868Z"
   },
   {
    "duration": 381,
    "start_time": "2022-01-11T14:56:02.853Z"
   },
   {
    "duration": 432,
    "start_time": "2022-01-11T14:56:19.926Z"
   },
   {
    "duration": 38,
    "start_time": "2022-01-11T14:57:24.209Z"
   },
   {
    "duration": 239,
    "start_time": "2022-01-11T14:58:36.859Z"
   },
   {
    "duration": 226,
    "start_time": "2022-01-11T14:58:52.547Z"
   },
   {
    "duration": 44,
    "start_time": "2022-01-11T15:01:11.043Z"
   },
   {
    "duration": 377,
    "start_time": "2022-01-11T15:02:41.146Z"
   },
   {
    "duration": 56,
    "start_time": "2022-01-11T15:02:58.616Z"
   },
   {
    "duration": 77,
    "start_time": "2022-01-11T15:03:24.129Z"
   },
   {
    "duration": 65,
    "start_time": "2022-01-11T15:03:29.737Z"
   },
   {
    "duration": 279,
    "start_time": "2022-01-11T15:07:23.409Z"
   },
   {
    "duration": 56,
    "start_time": "2022-01-11T15:08:15.559Z"
   },
   {
    "duration": 37,
    "start_time": "2022-01-11T15:08:44.648Z"
   },
   {
    "duration": 36,
    "start_time": "2022-01-11T15:09:42.735Z"
   },
   {
    "duration": 360,
    "start_time": "2022-01-11T15:11:56.318Z"
   },
   {
    "duration": 343,
    "start_time": "2022-01-11T15:12:14.149Z"
   },
   {
    "duration": 360,
    "start_time": "2022-01-11T15:12:37.741Z"
   },
   {
    "duration": 339,
    "start_time": "2022-01-11T15:12:53.333Z"
   },
   {
    "duration": 356,
    "start_time": "2022-01-11T15:13:07.598Z"
   },
   {
    "duration": 412,
    "start_time": "2022-01-11T15:13:18.685Z"
   },
   {
    "duration": 295,
    "start_time": "2022-01-11T15:15:11.614Z"
   },
   {
    "duration": 238,
    "start_time": "2022-01-11T15:15:44.772Z"
   },
   {
    "duration": 57,
    "start_time": "2022-01-11T15:18:02.353Z"
   },
   {
    "duration": 66,
    "start_time": "2022-01-11T15:20:46.827Z"
   },
   {
    "duration": 74,
    "start_time": "2022-01-11T15:25:53.399Z"
   },
   {
    "duration": 14,
    "start_time": "2022-01-11T15:27:31.265Z"
   },
   {
    "duration": 14,
    "start_time": "2022-01-11T15:28:18.032Z"
   },
   {
    "duration": 14,
    "start_time": "2022-01-11T15:30:10.791Z"
   },
   {
    "duration": 16,
    "start_time": "2022-01-11T15:36:30.508Z"
   },
   {
    "duration": 250,
    "start_time": "2022-01-11T15:37:13.517Z"
   },
   {
    "duration": 328,
    "start_time": "2022-01-11T15:37:30.001Z"
   },
   {
    "duration": 244,
    "start_time": "2022-01-11T15:38:01.988Z"
   },
   {
    "duration": 226,
    "start_time": "2022-01-11T15:38:26.389Z"
   },
   {
    "duration": 519,
    "start_time": "2022-01-11T15:40:50.293Z"
   },
   {
    "duration": 436,
    "start_time": "2022-01-11T15:41:49.076Z"
   },
   {
    "duration": 406,
    "start_time": "2022-01-11T15:50:57.574Z"
   },
   {
    "duration": 214,
    "start_time": "2022-01-11T15:52:28.295Z"
   },
   {
    "duration": 27,
    "start_time": "2022-01-11T15:55:12.703Z"
   },
   {
    "duration": 58,
    "start_time": "2022-01-11T15:55:35.595Z"
   },
   {
    "duration": 217,
    "start_time": "2022-01-11T16:00:34.603Z"
   },
   {
    "duration": 516,
    "start_time": "2022-01-11T16:02:10.179Z"
   },
   {
    "duration": 64,
    "start_time": "2022-01-11T16:03:40.352Z"
   },
   {
    "duration": 63,
    "start_time": "2022-01-11T16:03:58.251Z"
   },
   {
    "duration": 58,
    "start_time": "2022-01-11T16:05:11.028Z"
   },
   {
    "duration": 71,
    "start_time": "2022-01-11T16:10:23.718Z"
   },
   {
    "duration": 248,
    "start_time": "2022-01-11T16:16:55.541Z"
   },
   {
    "duration": 221,
    "start_time": "2022-01-11T16:22:26.091Z"
   },
   {
    "duration": 226,
    "start_time": "2022-01-11T16:22:46.447Z"
   },
   {
    "duration": 243,
    "start_time": "2022-01-11T16:23:11.259Z"
   },
   {
    "duration": 67,
    "start_time": "2022-01-11T16:24:39.384Z"
   },
   {
    "duration": 582,
    "start_time": "2022-01-11T16:26:50.035Z"
   },
   {
    "duration": 61,
    "start_time": "2022-01-11T16:27:40.203Z"
   },
   {
    "duration": 70,
    "start_time": "2022-01-11T16:28:23.625Z"
   },
   {
    "duration": 620,
    "start_time": "2022-01-11T16:29:35.409Z"
   },
   {
    "duration": 77,
    "start_time": "2022-01-11T16:30:14.130Z"
   },
   {
    "duration": 217,
    "start_time": "2022-01-11T16:41:10.701Z"
   },
   {
    "duration": 221,
    "start_time": "2022-01-11T16:41:25.683Z"
   },
   {
    "duration": 59,
    "start_time": "2022-01-11T16:48:38.596Z"
   },
   {
    "duration": 34,
    "start_time": "2022-01-11T16:49:41.853Z"
   },
   {
    "duration": 11,
    "start_time": "2022-01-11T16:50:09.290Z"
   },
   {
    "duration": 9,
    "start_time": "2022-01-11T16:50:30.011Z"
   },
   {
    "duration": 1698,
    "start_time": "2022-01-12T10:15:53.640Z"
   },
   {
    "duration": 11,
    "start_time": "2022-01-12T10:15:55.340Z"
   },
   {
    "duration": 82,
    "start_time": "2022-01-12T10:15:55.353Z"
   },
   {
    "duration": 14,
    "start_time": "2022-01-12T10:15:55.436Z"
   },
   {
    "duration": 8,
    "start_time": "2022-01-12T10:15:55.452Z"
   },
   {
    "duration": 6,
    "start_time": "2022-01-12T10:15:55.461Z"
   },
   {
    "duration": 5,
    "start_time": "2022-01-12T10:15:55.469Z"
   },
   {
    "duration": 23,
    "start_time": "2022-01-12T10:15:55.476Z"
   },
   {
    "duration": 6,
    "start_time": "2022-01-12T10:15:55.501Z"
   },
   {
    "duration": 17,
    "start_time": "2022-01-12T10:15:55.509Z"
   },
   {
    "duration": 8,
    "start_time": "2022-01-12T10:15:55.528Z"
   },
   {
    "duration": 28,
    "start_time": "2022-01-12T10:15:55.538Z"
   },
   {
    "duration": 49,
    "start_time": "2022-01-12T10:15:55.568Z"
   },
   {
    "duration": 4,
    "start_time": "2022-01-12T10:15:55.619Z"
   },
   {
    "duration": 11,
    "start_time": "2022-01-12T10:15:55.625Z"
   },
   {
    "duration": 22,
    "start_time": "2022-01-12T10:15:55.638Z"
   },
   {
    "duration": 24,
    "start_time": "2022-01-12T10:15:55.661Z"
   },
   {
    "duration": 6,
    "start_time": "2022-01-12T10:16:36.357Z"
   },
   {
    "duration": 8,
    "start_time": "2022-01-12T10:16:51.381Z"
   },
   {
    "duration": 6,
    "start_time": "2022-01-12T10:16:55.006Z"
   },
   {
    "duration": 6,
    "start_time": "2022-01-12T10:18:26.880Z"
   },
   {
    "duration": 11,
    "start_time": "2022-01-12T10:18:26.887Z"
   },
   {
    "duration": 5,
    "start_time": "2022-01-12T10:18:26.900Z"
   },
   {
    "duration": 4,
    "start_time": "2022-01-12T10:18:26.907Z"
   },
   {
    "duration": 12,
    "start_time": "2022-01-12T10:18:26.913Z"
   },
   {
    "duration": 17,
    "start_time": "2022-01-12T10:18:26.927Z"
   },
   {
    "duration": 9,
    "start_time": "2022-01-12T10:18:26.946Z"
   },
   {
    "duration": 4,
    "start_time": "2022-01-12T10:18:26.957Z"
   },
   {
    "duration": 37,
    "start_time": "2022-01-12T10:18:26.963Z"
   },
   {
    "duration": 5,
    "start_time": "2022-01-12T10:18:27.002Z"
   },
   {
    "duration": 15,
    "start_time": "2022-01-12T10:18:27.009Z"
   },
   {
    "duration": 3,
    "start_time": "2022-01-12T10:18:27.026Z"
   },
   {
    "duration": 612,
    "start_time": "2022-01-12T10:18:27.031Z"
   },
   {
    "duration": 10,
    "start_time": "2022-01-12T10:18:27.647Z"
   },
   {
    "duration": 6,
    "start_time": "2022-01-12T10:18:27.659Z"
   },
   {
    "duration": 13,
    "start_time": "2022-01-12T10:18:27.666Z"
   },
   {
    "duration": 284,
    "start_time": "2022-01-12T10:18:27.699Z"
   },
   {
    "duration": 282,
    "start_time": "2022-01-12T10:18:27.985Z"
   },
   {
    "duration": 299,
    "start_time": "2022-01-12T10:18:28.269Z"
   },
   {
    "duration": 267,
    "start_time": "2022-01-12T10:18:28.570Z"
   },
   {
    "duration": 378,
    "start_time": "2022-01-12T10:18:28.839Z"
   },
   {
    "duration": 6,
    "start_time": "2022-01-12T10:18:29.219Z"
   },
   {
    "duration": 241,
    "start_time": "2022-01-12T10:18:29.226Z"
   },
   {
    "duration": 9,
    "start_time": "2022-01-12T10:18:29.469Z"
   },
   {
    "duration": 352,
    "start_time": "2022-01-12T10:18:29.480Z"
   },
   {
    "duration": 165,
    "start_time": "2022-01-12T10:18:29.834Z"
   },
   {
    "duration": 172,
    "start_time": "2022-01-12T10:18:30.001Z"
   },
   {
    "duration": 8,
    "start_time": "2022-01-12T10:18:30.174Z"
   },
   {
    "duration": 226,
    "start_time": "2022-01-12T10:18:30.183Z"
   },
   {
    "duration": 154,
    "start_time": "2022-01-12T10:18:30.411Z"
   },
   {
    "duration": 301,
    "start_time": "2022-01-12T10:18:30.567Z"
   },
   {
    "duration": 155,
    "start_time": "2022-01-12T10:18:30.870Z"
   },
   {
    "duration": 405,
    "start_time": "2022-01-12T10:18:31.027Z"
   },
   {
    "duration": 6,
    "start_time": "2022-01-12T10:18:31.433Z"
   },
   {
    "duration": 36,
    "start_time": "2022-01-12T10:18:31.441Z"
   },
   {
    "duration": 156,
    "start_time": "2022-01-12T10:20:57.788Z"
   },
   {
    "duration": 141,
    "start_time": "2022-01-12T10:21:09.627Z"
   },
   {
    "duration": 160,
    "start_time": "2022-01-12T10:21:55.580Z"
   },
   {
    "duration": 7,
    "start_time": "2022-01-12T10:23:00.582Z"
   },
   {
    "duration": 35,
    "start_time": "2022-01-12T10:23:25.752Z"
   },
   {
    "duration": 36,
    "start_time": "2022-01-12T10:27:40.510Z"
   },
   {
    "duration": 30,
    "start_time": "2022-01-12T10:31:33.508Z"
   },
   {
    "duration": 33,
    "start_time": "2022-01-12T10:33:45.388Z"
   },
   {
    "duration": 148,
    "start_time": "2022-01-12T10:34:15.550Z"
   },
   {
    "duration": 144,
    "start_time": "2022-01-12T10:34:57.965Z"
   },
   {
    "duration": 28,
    "start_time": "2022-01-12T10:35:16.343Z"
   },
   {
    "duration": 217,
    "start_time": "2022-01-12T10:35:43.606Z"
   },
   {
    "duration": 26,
    "start_time": "2022-01-12T10:40:07.953Z"
   },
   {
    "duration": 32,
    "start_time": "2022-01-12T10:43:31.595Z"
   },
   {
    "duration": 28,
    "start_time": "2022-01-12T10:44:43.229Z"
   },
   {
    "duration": 155,
    "start_time": "2022-01-12T10:46:40.665Z"
   },
   {
    "duration": 149,
    "start_time": "2022-01-12T10:48:52.366Z"
   },
   {
    "duration": 7,
    "start_time": "2022-01-12T10:49:53.701Z"
   },
   {
    "duration": 590,
    "start_time": "2022-01-12T11:48:01.216Z"
   },
   {
    "duration": 6,
    "start_time": "2022-01-12T11:50:31.602Z"
   },
   {
    "duration": 39,
    "start_time": "2022-01-12T12:16:46.615Z"
   },
   {
    "duration": 49,
    "start_time": "2022-01-12T12:18:02.269Z"
   },
   {
    "duration": 521,
    "start_time": "2022-01-12T12:18:32.209Z"
   },
   {
    "duration": 5,
    "start_time": "2022-01-12T12:18:53.498Z"
   },
   {
    "duration": 5,
    "start_time": "2022-01-12T12:24:51.666Z"
   },
   {
    "duration": 6,
    "start_time": "2022-01-12T12:25:32.535Z"
   },
   {
    "duration": 10,
    "start_time": "2022-01-12T12:28:46.931Z"
   },
   {
    "duration": 11,
    "start_time": "2022-01-12T12:31:47.993Z"
   },
   {
    "duration": 12,
    "start_time": "2022-01-12T12:38:56.149Z"
   },
   {
    "duration": 215,
    "start_time": "2022-01-12T12:40:17.480Z"
   },
   {
    "duration": 222,
    "start_time": "2022-01-12T12:43:56.437Z"
   },
   {
    "duration": 7664,
    "start_time": "2022-01-12T12:44:18.015Z"
   },
   {
    "duration": 218,
    "start_time": "2022-01-12T12:44:41.738Z"
   },
   {
    "duration": 181,
    "start_time": "2022-01-12T12:45:36.330Z"
   },
   {
    "duration": 273,
    "start_time": "2022-01-12T12:47:12.267Z"
   },
   {
    "duration": 277,
    "start_time": "2022-01-12T12:50:20.094Z"
   },
   {
    "duration": 7133,
    "start_time": "2022-01-12T12:53:52.943Z"
   },
   {
    "duration": 13,
    "start_time": "2022-01-12T12:54:28.823Z"
   },
   {
    "duration": 7424,
    "start_time": "2022-01-12T12:55:00.434Z"
   },
   {
    "duration": 11,
    "start_time": "2022-01-12T12:55:38.274Z"
   },
   {
    "duration": 134,
    "start_time": "2022-01-12T12:56:02.547Z"
   },
   {
    "duration": 130,
    "start_time": "2022-01-12T12:59:48.827Z"
   },
   {
    "duration": 199,
    "start_time": "2022-01-12T13:00:22.395Z"
   },
   {
    "duration": 656,
    "start_time": "2022-01-12T13:46:33.828Z"
   },
   {
    "duration": 4,
    "start_time": "2022-01-12T13:48:27.548Z"
   },
   {
    "duration": 8436,
    "start_time": "2022-01-12T13:48:36.160Z"
   },
   {
    "duration": 7479,
    "start_time": "2022-01-12T13:50:46.184Z"
   },
   {
    "duration": 4685,
    "start_time": "2022-01-12T13:52:18.334Z"
   },
   {
    "duration": 9,
    "start_time": "2022-01-12T14:01:08.362Z"
   },
   {
    "duration": 606,
    "start_time": "2022-01-12T14:05:26.217Z"
   },
   {
    "duration": 12,
    "start_time": "2022-01-12T14:07:43.812Z"
   },
   {
    "duration": 11,
    "start_time": "2022-01-12T14:08:29.058Z"
   },
   {
    "duration": 179,
    "start_time": "2022-01-12T14:10:05.618Z"
   },
   {
    "duration": 170,
    "start_time": "2022-01-12T14:10:49.459Z"
   },
   {
    "duration": 175,
    "start_time": "2022-01-12T14:13:10.067Z"
   },
   {
    "duration": 177,
    "start_time": "2022-01-12T14:16:46.344Z"
   },
   {
    "duration": 201,
    "start_time": "2022-01-12T14:17:25.377Z"
   },
   {
    "duration": 186,
    "start_time": "2022-01-12T14:17:38.162Z"
   },
   {
    "duration": 182,
    "start_time": "2022-01-12T14:17:52.184Z"
   },
   {
    "duration": 175,
    "start_time": "2022-01-12T14:18:54.264Z"
   },
   {
    "duration": 204,
    "start_time": "2022-01-12T14:19:59.441Z"
   },
   {
    "duration": 189,
    "start_time": "2022-01-12T14:21:12.920Z"
   },
   {
    "duration": 201,
    "start_time": "2022-01-12T14:21:46.435Z"
   },
   {
    "duration": 440,
    "start_time": "2022-01-12T14:22:46.772Z"
   },
   {
    "duration": 202,
    "start_time": "2022-01-12T14:23:36.951Z"
   },
   {
    "duration": 192,
    "start_time": "2022-01-12T14:23:54.571Z"
   },
   {
    "duration": 306,
    "start_time": "2022-01-12T14:24:21.952Z"
   },
   {
    "duration": 199,
    "start_time": "2022-01-12T14:25:29.720Z"
   },
   {
    "duration": 222,
    "start_time": "2022-01-12T14:25:43.998Z"
   },
   {
    "duration": 237,
    "start_time": "2022-01-12T14:26:23.142Z"
   },
   {
    "duration": 208,
    "start_time": "2022-01-12T14:29:53.860Z"
   },
   {
    "duration": 214,
    "start_time": "2022-01-12T14:30:05.725Z"
   },
   {
    "duration": 211,
    "start_time": "2022-01-12T14:30:20.807Z"
   },
   {
    "duration": 205,
    "start_time": "2022-01-12T14:32:08.285Z"
   },
   {
    "duration": 295,
    "start_time": "2022-01-12T15:31:49.222Z"
   },
   {
    "duration": 9,
    "start_time": "2022-01-12T15:31:57.182Z"
   },
   {
    "duration": 14,
    "start_time": "2022-01-12T15:32:15.698Z"
   },
   {
    "duration": 8,
    "start_time": "2022-01-12T15:32:42.293Z"
   },
   {
    "duration": 6,
    "start_time": "2022-01-12T15:34:47.258Z"
   },
   {
    "duration": 17,
    "start_time": "2022-01-12T15:45:53.126Z"
   },
   {
    "duration": 79,
    "start_time": "2022-01-12T16:03:45.228Z"
   },
   {
    "duration": 6,
    "start_time": "2022-01-12T16:06:00.326Z"
   },
   {
    "duration": 79,
    "start_time": "2022-01-12T16:12:50.811Z"
   },
   {
    "duration": 15,
    "start_time": "2022-01-12T16:12:50.891Z"
   },
   {
    "duration": 70,
    "start_time": "2022-01-12T16:12:50.908Z"
   },
   {
    "duration": 19,
    "start_time": "2022-01-12T16:12:50.980Z"
   },
   {
    "duration": 8,
    "start_time": "2022-01-12T16:12:51.001Z"
   },
   {
    "duration": 15,
    "start_time": "2022-01-12T16:12:51.010Z"
   },
   {
    "duration": 26,
    "start_time": "2022-01-12T16:12:51.026Z"
   },
   {
    "duration": 20,
    "start_time": "2022-01-12T16:12:51.054Z"
   },
   {
    "duration": 16,
    "start_time": "2022-01-12T16:12:51.077Z"
   },
   {
    "duration": 18,
    "start_time": "2022-01-12T16:12:51.095Z"
   },
   {
    "duration": 12,
    "start_time": "2022-01-12T16:12:51.115Z"
   },
   {
    "duration": 20,
    "start_time": "2022-01-12T16:12:51.128Z"
   },
   {
    "duration": 50,
    "start_time": "2022-01-12T16:12:51.149Z"
   },
   {
    "duration": 5,
    "start_time": "2022-01-12T16:12:51.201Z"
   },
   {
    "duration": 14,
    "start_time": "2022-01-12T16:12:51.207Z"
   },
   {
    "duration": 25,
    "start_time": "2022-01-12T16:12:51.222Z"
   },
   {
    "duration": 30,
    "start_time": "2022-01-12T16:12:51.249Z"
   },
   {
    "duration": 7,
    "start_time": "2022-01-12T16:12:51.281Z"
   },
   {
    "duration": 29,
    "start_time": "2022-01-12T16:12:51.289Z"
   },
   {
    "duration": 11,
    "start_time": "2022-01-12T16:12:51.319Z"
   },
   {
    "duration": 13,
    "start_time": "2022-01-12T16:12:51.332Z"
   },
   {
    "duration": 30,
    "start_time": "2022-01-12T16:12:51.347Z"
   },
   {
    "duration": 15,
    "start_time": "2022-01-12T16:12:51.378Z"
   },
   {
    "duration": 15,
    "start_time": "2022-01-12T16:12:51.395Z"
   },
   {
    "duration": 22,
    "start_time": "2022-01-12T16:12:51.411Z"
   },
   {
    "duration": 15,
    "start_time": "2022-01-12T16:12:51.434Z"
   },
   {
    "duration": 20,
    "start_time": "2022-01-12T16:12:51.451Z"
   },
   {
    "duration": 1125,
    "start_time": "2022-01-12T16:12:51.473Z"
   },
   {
    "duration": -842,
    "start_time": "2022-01-12T16:12:53.442Z"
   },
   {
    "duration": -843,
    "start_time": "2022-01-12T16:12:53.445Z"
   },
   {
    "duration": 5,
    "start_time": "2022-01-12T16:17:14.099Z"
   },
   {
    "duration": 367,
    "start_time": "2022-01-12T16:17:33.604Z"
   },
   {
    "duration": 5,
    "start_time": "2022-01-12T16:18:05.874Z"
   },
   {
    "duration": 4,
    "start_time": "2022-01-12T16:18:11.986Z"
   },
   {
    "duration": 5,
    "start_time": "2022-01-12T16:18:28.737Z"
   },
   {
    "duration": 268,
    "start_time": "2022-01-12T16:19:13.294Z"
   },
   {
    "duration": 269,
    "start_time": "2022-01-12T16:19:29.490Z"
   },
   {
    "duration": 262,
    "start_time": "2022-01-12T16:19:40.122Z"
   },
   {
    "duration": 6,
    "start_time": "2022-01-12T16:19:44.129Z"
   },
   {
    "duration": 5,
    "start_time": "2022-01-12T16:31:30.714Z"
   },
   {
    "duration": 2639,
    "start_time": "2022-01-12T16:31:50.375Z"
   },
   {
    "duration": 15,
    "start_time": "2022-01-12T16:32:02.709Z"
   },
   {
    "duration": 22,
    "start_time": "2022-01-12T16:32:04.311Z"
   },
   {
    "duration": 45,
    "start_time": "2022-01-12T16:33:43.155Z"
   },
   {
    "duration": 273,
    "start_time": "2022-01-12T17:02:44.786Z"
   },
   {
    "duration": 2,
    "start_time": "2022-01-12T17:02:54.411Z"
   },
   {
    "duration": 262,
    "start_time": "2022-01-12T17:02:57.850Z"
   },
   {
    "duration": 99,
    "start_time": "2022-01-12T17:03:57.714Z"
   },
   {
    "duration": 7,
    "start_time": "2022-01-12T17:04:02.218Z"
   },
   {
    "duration": 102,
    "start_time": "2022-01-12T17:06:46.257Z"
   },
   {
    "duration": 6,
    "start_time": "2022-01-12T17:06:47.867Z"
   },
   {
    "duration": 265,
    "start_time": "2022-01-12T17:12:36.374Z"
   },
   {
    "duration": 200035,
    "start_time": "2022-01-12T17:14:58.590Z"
   },
   {
    "duration": 6,
    "start_time": "2022-01-12T17:18:18.627Z"
   },
   {
    "duration": 15,
    "start_time": "2022-01-12T17:20:55.540Z"
   },
   {
    "duration": 6,
    "start_time": "2022-01-12T17:20:57.708Z"
   },
   {
    "duration": 14,
    "start_time": "2022-01-12T17:21:06.885Z"
   },
   {
    "duration": 7,
    "start_time": "2022-01-12T17:21:21.867Z"
   },
   {
    "duration": 5,
    "start_time": "2022-01-12T17:21:31.267Z"
   },
   {
    "duration": 2,
    "start_time": "2022-01-12T17:22:44.748Z"
   },
   {
    "duration": 102,
    "start_time": "2022-01-12T17:22:46.986Z"
   },
   {
    "duration": 5,
    "start_time": "2022-01-12T17:22:48.987Z"
   },
   {
    "duration": 96,
    "start_time": "2022-01-12T17:24:12.325Z"
   },
   {
    "duration": 10,
    "start_time": "2022-01-12T17:24:12.423Z"
   },
   {
    "duration": 77,
    "start_time": "2022-01-12T17:24:12.434Z"
   },
   {
    "duration": 8,
    "start_time": "2022-01-12T17:24:12.513Z"
   },
   {
    "duration": 9,
    "start_time": "2022-01-12T17:24:12.523Z"
   },
   {
    "duration": 6,
    "start_time": "2022-01-12T17:24:12.533Z"
   },
   {
    "duration": 5,
    "start_time": "2022-01-12T17:24:12.541Z"
   },
   {
    "duration": 6,
    "start_time": "2022-01-12T17:24:12.549Z"
   },
   {
    "duration": 41,
    "start_time": "2022-01-12T17:24:12.557Z"
   },
   {
    "duration": 9,
    "start_time": "2022-01-12T17:24:12.600Z"
   },
   {
    "duration": 3,
    "start_time": "2022-01-12T17:24:12.610Z"
   },
   {
    "duration": 21,
    "start_time": "2022-01-12T17:24:12.614Z"
   },
   {
    "duration": 35,
    "start_time": "2022-01-12T17:24:12.636Z"
   },
   {
    "duration": 29,
    "start_time": "2022-01-12T17:24:12.673Z"
   },
   {
    "duration": 6,
    "start_time": "2022-01-12T17:24:12.703Z"
   },
   {
    "duration": 12,
    "start_time": "2022-01-12T17:24:12.711Z"
   },
   {
    "duration": 18,
    "start_time": "2022-01-12T17:24:12.725Z"
   },
   {
    "duration": 7,
    "start_time": "2022-01-12T17:24:12.744Z"
   },
   {
    "duration": 10,
    "start_time": "2022-01-12T17:24:12.753Z"
   },
   {
    "duration": 6,
    "start_time": "2022-01-12T17:24:12.798Z"
   },
   {
    "duration": 6,
    "start_time": "2022-01-12T17:24:12.805Z"
   },
   {
    "duration": 6,
    "start_time": "2022-01-12T17:24:12.812Z"
   },
   {
    "duration": 6,
    "start_time": "2022-01-12T17:24:12.822Z"
   },
   {
    "duration": 9,
    "start_time": "2022-01-12T17:24:12.830Z"
   },
   {
    "duration": 9,
    "start_time": "2022-01-12T17:24:12.841Z"
   },
   {
    "duration": 48,
    "start_time": "2022-01-12T17:24:12.851Z"
   },
   {
    "duration": 5,
    "start_time": "2022-01-12T17:24:12.901Z"
   },
   {
    "duration": 10,
    "start_time": "2022-01-12T17:24:12.907Z"
   },
   {
    "duration": 3,
    "start_time": "2022-01-12T17:25:00.651Z"
   },
   {
    "duration": 7,
    "start_time": "2022-01-12T17:25:07.819Z"
   },
   {
    "duration": 106,
    "start_time": "2022-01-12T17:25:16.698Z"
   },
   {
    "duration": 6,
    "start_time": "2022-01-12T17:25:18.433Z"
   },
   {
    "duration": 68,
    "start_time": "2022-01-12T17:28:40.777Z"
   },
   {
    "duration": 13,
    "start_time": "2022-01-12T17:28:40.847Z"
   },
   {
    "duration": 95,
    "start_time": "2022-01-12T17:28:40.862Z"
   },
   {
    "duration": 10,
    "start_time": "2022-01-12T17:28:40.960Z"
   },
   {
    "duration": 11,
    "start_time": "2022-01-12T17:28:40.972Z"
   },
   {
    "duration": 7,
    "start_time": "2022-01-12T17:28:40.998Z"
   },
   {
    "duration": 5,
    "start_time": "2022-01-12T17:28:41.008Z"
   },
   {
    "duration": 17,
    "start_time": "2022-01-12T17:28:41.017Z"
   },
   {
    "duration": 12,
    "start_time": "2022-01-12T17:28:41.037Z"
   },
   {
    "duration": 25,
    "start_time": "2022-01-12T17:28:41.051Z"
   },
   {
    "duration": 20,
    "start_time": "2022-01-12T17:28:41.078Z"
   },
   {
    "duration": 19,
    "start_time": "2022-01-12T17:28:41.101Z"
   },
   {
    "duration": 42,
    "start_time": "2022-01-12T17:28:41.121Z"
   },
   {
    "duration": 7,
    "start_time": "2022-01-12T17:28:41.165Z"
   },
   {
    "duration": 28,
    "start_time": "2022-01-12T17:28:41.174Z"
   },
   {
    "duration": 11,
    "start_time": "2022-01-12T17:28:41.204Z"
   },
   {
    "duration": 140,
    "start_time": "2022-01-12T17:28:41.217Z"
   },
   {
    "duration": 8,
    "start_time": "2022-01-12T17:28:41.358Z"
   },
   {
    "duration": 13,
    "start_time": "2022-01-12T17:28:41.368Z"
   },
   {
    "duration": 25,
    "start_time": "2022-01-12T17:28:41.382Z"
   },
   {
    "duration": 7,
    "start_time": "2022-01-12T17:28:41.409Z"
   },
   {
    "duration": 7,
    "start_time": "2022-01-12T17:28:41.418Z"
   },
   {
    "duration": 9,
    "start_time": "2022-01-12T17:28:41.428Z"
   },
   {
    "duration": 13,
    "start_time": "2022-01-12T17:28:41.439Z"
   },
   {
    "duration": 10,
    "start_time": "2022-01-12T17:28:41.454Z"
   },
   {
    "duration": 6,
    "start_time": "2022-01-12T17:28:41.465Z"
   },
   {
    "duration": 26,
    "start_time": "2022-01-12T17:28:41.473Z"
   },
   {
    "duration": 6,
    "start_time": "2022-01-12T17:28:41.501Z"
   },
   {
    "duration": 4,
    "start_time": "2022-01-12T17:28:41.509Z"
   },
   {
    "duration": 7,
    "start_time": "2022-01-12T17:28:47.737Z"
   },
   {
    "duration": 98,
    "start_time": "2022-01-12T17:30:19.386Z"
   },
   {
    "duration": 6,
    "start_time": "2022-01-12T17:30:22.185Z"
   },
   {
    "duration": 85,
    "start_time": "2022-01-12T17:37:04.103Z"
   },
   {
    "duration": 17,
    "start_time": "2022-01-12T17:37:04.190Z"
   },
   {
    "duration": 67,
    "start_time": "2022-01-12T17:37:04.209Z"
   },
   {
    "duration": 9,
    "start_time": "2022-01-12T17:37:04.299Z"
   },
   {
    "duration": 7,
    "start_time": "2022-01-12T17:37:04.310Z"
   },
   {
    "duration": 4,
    "start_time": "2022-01-12T17:37:04.319Z"
   },
   {
    "duration": 5,
    "start_time": "2022-01-12T17:37:04.324Z"
   },
   {
    "duration": 4,
    "start_time": "2022-01-12T17:37:04.332Z"
   },
   {
    "duration": 4,
    "start_time": "2022-01-12T17:37:04.338Z"
   },
   {
    "duration": 9,
    "start_time": "2022-01-12T17:37:04.343Z"
   },
   {
    "duration": 3,
    "start_time": "2022-01-12T17:37:04.354Z"
   },
   {
    "duration": 54,
    "start_time": "2022-01-12T17:37:04.358Z"
   },
   {
    "duration": 52,
    "start_time": "2022-01-12T17:37:04.414Z"
   },
   {
    "duration": 6,
    "start_time": "2022-01-12T17:37:04.467Z"
   },
   {
    "duration": 7,
    "start_time": "2022-01-12T17:37:04.474Z"
   },
   {
    "duration": 23,
    "start_time": "2022-01-12T17:37:04.482Z"
   },
   {
    "duration": 17,
    "start_time": "2022-01-12T17:37:04.506Z"
   },
   {
    "duration": 7,
    "start_time": "2022-01-12T17:37:04.525Z"
   },
   {
    "duration": 7,
    "start_time": "2022-01-12T17:37:04.533Z"
   },
   {
    "duration": 6,
    "start_time": "2022-01-12T17:37:04.542Z"
   },
   {
    "duration": 5,
    "start_time": "2022-01-12T17:37:04.551Z"
   },
   {
    "duration": 48,
    "start_time": "2022-01-12T17:37:04.558Z"
   },
   {
    "duration": 6,
    "start_time": "2022-01-12T17:37:04.608Z"
   },
   {
    "duration": 9,
    "start_time": "2022-01-12T17:37:04.615Z"
   },
   {
    "duration": 8,
    "start_time": "2022-01-12T17:37:04.626Z"
   },
   {
    "duration": 4,
    "start_time": "2022-01-12T17:37:04.635Z"
   },
   {
    "duration": 8,
    "start_time": "2022-01-12T17:37:04.640Z"
   },
   {
    "duration": 17,
    "start_time": "2022-01-12T17:37:04.649Z"
   },
   {
    "duration": 2,
    "start_time": "2022-01-12T17:37:04.668Z"
   },
   {
    "duration": 7,
    "start_time": "2022-01-12T17:37:10.885Z"
   },
   {
    "duration": 114,
    "start_time": "2022-01-12T17:39:34.109Z"
   },
   {
    "duration": 10,
    "start_time": "2022-01-12T17:39:37.186Z"
   },
   {
    "duration": 78,
    "start_time": "2022-01-12T17:45:07.041Z"
   },
   {
    "duration": 13,
    "start_time": "2022-01-12T17:45:07.121Z"
   },
   {
    "duration": 94,
    "start_time": "2022-01-12T17:45:07.137Z"
   },
   {
    "duration": 10,
    "start_time": "2022-01-12T17:45:07.233Z"
   },
   {
    "duration": 10,
    "start_time": "2022-01-12T17:45:07.244Z"
   },
   {
    "duration": 6,
    "start_time": "2022-01-12T17:45:07.256Z"
   },
   {
    "duration": 36,
    "start_time": "2022-01-12T17:45:07.264Z"
   },
   {
    "duration": 6,
    "start_time": "2022-01-12T17:45:07.303Z"
   },
   {
    "duration": 6,
    "start_time": "2022-01-12T17:45:07.311Z"
   },
   {
    "duration": 12,
    "start_time": "2022-01-12T17:45:07.318Z"
   },
   {
    "duration": 3,
    "start_time": "2022-01-12T17:45:07.331Z"
   },
   {
    "duration": 16,
    "start_time": "2022-01-12T17:45:07.336Z"
   },
   {
    "duration": 69,
    "start_time": "2022-01-12T17:45:07.354Z"
   },
   {
    "duration": 5,
    "start_time": "2022-01-12T17:45:07.425Z"
   },
   {
    "duration": 6,
    "start_time": "2022-01-12T17:45:07.432Z"
   },
   {
    "duration": 11,
    "start_time": "2022-01-12T17:45:07.439Z"
   },
   {
    "duration": 50,
    "start_time": "2022-01-12T17:45:07.452Z"
   },
   {
    "duration": 7,
    "start_time": "2022-01-12T17:45:07.504Z"
   },
   {
    "duration": 9,
    "start_time": "2022-01-12T17:45:07.513Z"
   },
   {
    "duration": 6,
    "start_time": "2022-01-12T17:45:07.524Z"
   },
   {
    "duration": 5,
    "start_time": "2022-01-12T17:45:07.532Z"
   },
   {
    "duration": 6,
    "start_time": "2022-01-12T17:45:07.539Z"
   },
   {
    "duration": 7,
    "start_time": "2022-01-12T17:45:07.549Z"
   },
   {
    "duration": 43,
    "start_time": "2022-01-12T17:45:07.558Z"
   },
   {
    "duration": 15,
    "start_time": "2022-01-12T17:45:07.602Z"
   },
   {
    "duration": 5,
    "start_time": "2022-01-12T17:45:07.619Z"
   },
   {
    "duration": 7,
    "start_time": "2022-01-12T17:45:07.625Z"
   },
   {
    "duration": 8,
    "start_time": "2022-01-12T17:45:07.634Z"
   },
   {
    "duration": 3,
    "start_time": "2022-01-12T17:45:15.283Z"
   },
   {
    "duration": 120,
    "start_time": "2022-01-12T17:45:17.762Z"
   },
   {
    "duration": 6,
    "start_time": "2022-01-12T17:45:19.531Z"
   },
   {
    "duration": 78,
    "start_time": "2022-01-12T17:47:53.447Z"
   },
   {
    "duration": 10,
    "start_time": "2022-01-12T17:47:53.527Z"
   },
   {
    "duration": 77,
    "start_time": "2022-01-12T17:47:53.539Z"
   },
   {
    "duration": 9,
    "start_time": "2022-01-12T17:47:53.617Z"
   },
   {
    "duration": 8,
    "start_time": "2022-01-12T17:47:53.627Z"
   },
   {
    "duration": 5,
    "start_time": "2022-01-12T17:47:53.636Z"
   },
   {
    "duration": 4,
    "start_time": "2022-01-12T17:47:53.642Z"
   },
   {
    "duration": 9,
    "start_time": "2022-01-12T17:47:53.648Z"
   },
   {
    "duration": 4,
    "start_time": "2022-01-12T17:47:53.659Z"
   },
   {
    "duration": 7,
    "start_time": "2022-01-12T17:47:53.699Z"
   },
   {
    "duration": 5,
    "start_time": "2022-01-12T17:47:53.708Z"
   },
   {
    "duration": 19,
    "start_time": "2022-01-12T17:47:53.714Z"
   },
   {
    "duration": 35,
    "start_time": "2022-01-12T17:47:53.734Z"
   },
   {
    "duration": 28,
    "start_time": "2022-01-12T17:47:53.771Z"
   },
   {
    "duration": 7,
    "start_time": "2022-01-12T17:47:53.800Z"
   },
   {
    "duration": 13,
    "start_time": "2022-01-12T17:47:53.808Z"
   },
   {
    "duration": 16,
    "start_time": "2022-01-12T17:47:53.823Z"
   },
   {
    "duration": 7,
    "start_time": "2022-01-12T17:47:53.841Z"
   },
   {
    "duration": 6,
    "start_time": "2022-01-12T17:47:53.850Z"
   },
   {
    "duration": 42,
    "start_time": "2022-01-12T17:47:53.858Z"
   },
   {
    "duration": 6,
    "start_time": "2022-01-12T17:47:53.901Z"
   },
   {
    "duration": 8,
    "start_time": "2022-01-12T17:47:53.909Z"
   },
   {
    "duration": 5,
    "start_time": "2022-01-12T17:47:53.920Z"
   },
   {
    "duration": 8,
    "start_time": "2022-01-12T17:47:53.927Z"
   },
   {
    "duration": 8,
    "start_time": "2022-01-12T17:47:53.937Z"
   },
   {
    "duration": 6,
    "start_time": "2022-01-12T17:47:53.946Z"
   },
   {
    "duration": 7,
    "start_time": "2022-01-12T17:47:53.953Z"
   },
   {
    "duration": 38,
    "start_time": "2022-01-12T17:47:53.962Z"
   },
   {
    "duration": 3,
    "start_time": "2022-01-12T17:48:18.537Z"
   },
   {
    "duration": 113,
    "start_time": "2022-01-12T17:48:20.330Z"
   },
   {
    "duration": 7,
    "start_time": "2022-01-12T17:48:21.434Z"
   },
   {
    "duration": 78,
    "start_time": "2022-01-12T17:49:08.890Z"
   },
   {
    "duration": 31,
    "start_time": "2022-01-12T17:49:08.970Z"
   },
   {
    "duration": 69,
    "start_time": "2022-01-12T17:49:09.004Z"
   },
   {
    "duration": 28,
    "start_time": "2022-01-12T17:49:09.075Z"
   },
   {
    "duration": 11,
    "start_time": "2022-01-12T17:49:09.105Z"
   },
   {
    "duration": 6,
    "start_time": "2022-01-12T17:49:09.118Z"
   },
   {
    "duration": 5,
    "start_time": "2022-01-12T17:49:09.125Z"
   },
   {
    "duration": 7,
    "start_time": "2022-01-12T17:49:09.131Z"
   },
   {
    "duration": 5,
    "start_time": "2022-01-12T17:49:09.141Z"
   },
   {
    "duration": 51,
    "start_time": "2022-01-12T17:49:09.148Z"
   },
   {
    "duration": 3,
    "start_time": "2022-01-12T17:49:09.201Z"
   },
   {
    "duration": 17,
    "start_time": "2022-01-12T17:49:09.205Z"
   },
   {
    "duration": 34,
    "start_time": "2022-01-12T17:49:09.224Z"
   },
   {
    "duration": 5,
    "start_time": "2022-01-12T17:49:09.260Z"
   },
   {
    "duration": 32,
    "start_time": "2022-01-12T17:49:09.266Z"
   },
   {
    "duration": 15,
    "start_time": "2022-01-12T17:49:09.300Z"
   },
   {
    "duration": 18,
    "start_time": "2022-01-12T17:49:09.316Z"
   },
   {
    "duration": 7,
    "start_time": "2022-01-12T17:49:09.335Z"
   },
   {
    "duration": 7,
    "start_time": "2022-01-12T17:49:09.344Z"
   },
   {
    "duration": 7,
    "start_time": "2022-01-12T17:49:09.353Z"
   },
   {
    "duration": 9,
    "start_time": "2022-01-12T17:49:09.361Z"
   },
   {
    "duration": 30,
    "start_time": "2022-01-12T17:49:09.371Z"
   },
   {
    "duration": 7,
    "start_time": "2022-01-12T17:49:09.403Z"
   },
   {
    "duration": 9,
    "start_time": "2022-01-12T17:49:09.412Z"
   },
   {
    "duration": 8,
    "start_time": "2022-01-12T17:49:09.423Z"
   },
   {
    "duration": 7,
    "start_time": "2022-01-12T17:49:09.432Z"
   },
   {
    "duration": 8,
    "start_time": "2022-01-12T17:49:09.442Z"
   },
   {
    "duration": 10,
    "start_time": "2022-01-12T17:49:09.451Z"
   },
   {
    "duration": 7,
    "start_time": "2022-01-12T17:49:09.462Z"
   },
   {
    "duration": 118,
    "start_time": "2022-01-12T17:49:17.570Z"
   },
   {
    "duration": 6,
    "start_time": "2022-01-12T17:49:18.946Z"
   },
   {
    "duration": 77,
    "start_time": "2022-01-12T17:56:12.212Z"
   },
   {
    "duration": 16,
    "start_time": "2022-01-12T17:56:12.290Z"
   },
   {
    "duration": 93,
    "start_time": "2022-01-12T17:56:12.308Z"
   },
   {
    "duration": 9,
    "start_time": "2022-01-12T17:56:12.403Z"
   },
   {
    "duration": 12,
    "start_time": "2022-01-12T17:56:12.413Z"
   },
   {
    "duration": 5,
    "start_time": "2022-01-12T17:56:12.427Z"
   },
   {
    "duration": 5,
    "start_time": "2022-01-12T17:56:12.433Z"
   },
   {
    "duration": 13,
    "start_time": "2022-01-12T17:56:12.441Z"
   },
   {
    "duration": 7,
    "start_time": "2022-01-12T17:56:12.457Z"
   },
   {
    "duration": 35,
    "start_time": "2022-01-12T17:56:12.466Z"
   },
   {
    "duration": 4,
    "start_time": "2022-01-12T17:56:12.503Z"
   },
   {
    "duration": 17,
    "start_time": "2022-01-12T17:56:12.509Z"
   },
   {
    "duration": 70,
    "start_time": "2022-01-12T17:56:12.528Z"
   },
   {
    "duration": 6,
    "start_time": "2022-01-12T17:56:12.600Z"
   },
   {
    "duration": 6,
    "start_time": "2022-01-12T17:56:12.608Z"
   },
   {
    "duration": 17,
    "start_time": "2022-01-12T17:56:12.615Z"
   },
   {
    "duration": 18,
    "start_time": "2022-01-12T17:56:12.634Z"
   },
   {
    "duration": 8,
    "start_time": "2022-01-12T17:56:12.654Z"
   },
   {
    "duration": 37,
    "start_time": "2022-01-12T17:56:12.663Z"
   },
   {
    "duration": 8,
    "start_time": "2022-01-12T17:56:12.702Z"
   },
   {
    "duration": 5,
    "start_time": "2022-01-12T17:56:12.712Z"
   },
   {
    "duration": 8,
    "start_time": "2022-01-12T17:56:12.719Z"
   },
   {
    "duration": 5,
    "start_time": "2022-01-12T17:56:12.732Z"
   },
   {
    "duration": 8,
    "start_time": "2022-01-12T17:56:12.740Z"
   },
   {
    "duration": 9,
    "start_time": "2022-01-12T17:56:12.750Z"
   },
   {
    "duration": 38,
    "start_time": "2022-01-12T17:56:12.761Z"
   },
   {
    "duration": 7,
    "start_time": "2022-01-12T17:56:12.801Z"
   },
   {
    "duration": 8,
    "start_time": "2022-01-12T17:56:12.810Z"
   },
   {
    "duration": 3,
    "start_time": "2022-01-12T17:56:12.820Z"
   },
   {
    "duration": 164,
    "start_time": "2022-01-12T17:56:12.825Z"
   },
   {
    "duration": 11,
    "start_time": "2022-01-12T17:56:12.991Z"
   },
   {
    "duration": 4,
    "start_time": "2022-01-12T17:56:13.004Z"
   },
   {
    "duration": 17,
    "start_time": "2022-01-12T17:56:13.010Z"
   },
   {
    "duration": 3,
    "start_time": "2022-01-12T17:56:13.028Z"
   },
   {
    "duration": 616,
    "start_time": "2022-01-12T17:56:13.033Z"
   },
   {
    "duration": 10,
    "start_time": "2022-01-12T17:56:13.651Z"
   },
   {
    "duration": 6,
    "start_time": "2022-01-12T17:56:13.663Z"
   },
   {
    "duration": 28,
    "start_time": "2022-01-12T17:56:13.670Z"
   },
   {
    "duration": 243,
    "start_time": "2022-01-12T17:56:13.700Z"
   },
   {
    "duration": 274,
    "start_time": "2022-01-12T17:56:13.945Z"
   },
   {
    "duration": 304,
    "start_time": "2022-01-12T17:56:14.220Z"
   },
   {
    "duration": 248,
    "start_time": "2022-01-12T17:56:14.525Z"
   },
   {
    "duration": 389,
    "start_time": "2022-01-12T17:56:14.775Z"
   },
   {
    "duration": 7,
    "start_time": "2022-01-12T17:56:15.166Z"
   },
   {
    "duration": 246,
    "start_time": "2022-01-12T17:56:15.175Z"
   },
   {
    "duration": 10,
    "start_time": "2022-01-12T17:56:15.423Z"
   },
   {
    "duration": 448,
    "start_time": "2022-01-12T17:56:15.435Z"
   },
   {
    "duration": 175,
    "start_time": "2022-01-12T17:56:15.886Z"
   },
   {
    "duration": 159,
    "start_time": "2022-01-12T17:56:16.063Z"
   },
   {
    "duration": 10,
    "start_time": "2022-01-12T17:56:16.224Z"
   },
   {
    "duration": 164,
    "start_time": "2022-01-12T17:56:16.236Z"
   },
   {
    "duration": 151,
    "start_time": "2022-01-12T17:56:16.403Z"
   },
   {
    "duration": 298,
    "start_time": "2022-01-12T17:56:16.557Z"
   },
   {
    "duration": 157,
    "start_time": "2022-01-12T17:56:16.857Z"
   },
   {
    "duration": 378,
    "start_time": "2022-01-12T17:56:17.016Z"
   },
   {
    "duration": 162,
    "start_time": "2022-01-12T17:56:17.398Z"
   },
   {
    "duration": 55,
    "start_time": "2022-01-12T17:56:17.561Z"
   },
   {
    "duration": 5708,
    "start_time": "2022-01-12T17:56:17.618Z"
   },
   {
    "duration": 12,
    "start_time": "2022-01-12T17:56:23.328Z"
   },
   {
    "duration": 181,
    "start_time": "2022-01-12T17:56:23.342Z"
   },
   {
    "duration": 248,
    "start_time": "2022-01-12T17:56:23.524Z"
   },
   {
    "duration": 239,
    "start_time": "2022-01-12T17:56:23.774Z"
   },
   {
    "duration": 224,
    "start_time": "2022-01-12T17:56:24.015Z"
   },
   {
    "duration": 3,
    "start_time": "2022-01-12T17:56:24.241Z"
   },
   {
    "duration": 8,
    "start_time": "2022-01-12T17:56:45.895Z"
   },
   {
    "duration": 15,
    "start_time": "2022-01-12T17:59:35.686Z"
   },
   {
    "duration": 8,
    "start_time": "2022-01-12T18:00:40.977Z"
   },
   {
    "duration": 257,
    "start_time": "2022-01-12T18:03:04.765Z"
   },
   {
    "duration": 6,
    "start_time": "2022-01-12T18:03:09.852Z"
   },
   {
    "duration": 286,
    "start_time": "2022-01-12T18:03:17.723Z"
   },
   {
    "duration": 297,
    "start_time": "2022-01-12T18:06:25.077Z"
   },
   {
    "duration": 6,
    "start_time": "2022-01-12T18:07:39.759Z"
   },
   {
    "duration": 295,
    "start_time": "2022-01-12T18:07:51.556Z"
   },
   {
    "duration": 19,
    "start_time": "2022-01-12T18:09:07.292Z"
   },
   {
    "duration": 9,
    "start_time": "2022-01-12T18:09:34.915Z"
   },
   {
    "duration": 87,
    "start_time": "2022-01-12T18:11:14.434Z"
   },
   {
    "duration": 19,
    "start_time": "2022-01-12T18:11:23.385Z"
   },
   {
    "duration": 94,
    "start_time": "2022-01-12T18:15:44.945Z"
   },
   {
    "duration": 4,
    "start_time": "2022-01-12T18:32:59.633Z"
   },
   {
    "duration": 11,
    "start_time": "2022-01-12T18:33:01.034Z"
   },
   {
    "duration": 5,
    "start_time": "2022-01-12T18:33:28.002Z"
   },
   {
    "duration": 12,
    "start_time": "2022-01-12T18:33:45.913Z"
   },
   {
    "duration": 86,
    "start_time": "2022-01-12T18:35:51.464Z"
   },
   {
    "duration": 11,
    "start_time": "2022-01-12T18:35:51.552Z"
   },
   {
    "duration": 79,
    "start_time": "2022-01-12T18:35:51.565Z"
   },
   {
    "duration": 9,
    "start_time": "2022-01-12T18:35:51.646Z"
   },
   {
    "duration": 9,
    "start_time": "2022-01-12T18:35:51.657Z"
   },
   {
    "duration": 5,
    "start_time": "2022-01-12T18:35:51.667Z"
   },
   {
    "duration": 6,
    "start_time": "2022-01-12T18:35:51.698Z"
   },
   {
    "duration": 20,
    "start_time": "2022-01-12T18:35:51.705Z"
   },
   {
    "duration": 25,
    "start_time": "2022-01-12T18:35:51.728Z"
   },
   {
    "duration": 9,
    "start_time": "2022-01-12T18:35:51.756Z"
   },
   {
    "duration": 13,
    "start_time": "2022-01-12T18:35:51.766Z"
   },
   {
    "duration": 42,
    "start_time": "2022-01-12T18:35:51.780Z"
   },
   {
    "duration": 43,
    "start_time": "2022-01-12T18:35:51.823Z"
   },
   {
    "duration": 7,
    "start_time": "2022-01-12T18:35:51.868Z"
   },
   {
    "duration": 5,
    "start_time": "2022-01-12T18:35:51.877Z"
   },
   {
    "duration": 12,
    "start_time": "2022-01-12T18:35:51.898Z"
   },
   {
    "duration": 18,
    "start_time": "2022-01-12T18:35:51.911Z"
   },
   {
    "duration": 8,
    "start_time": "2022-01-12T18:35:51.931Z"
   },
   {
    "duration": 10,
    "start_time": "2022-01-12T18:35:51.940Z"
   },
   {
    "duration": 6,
    "start_time": "2022-01-12T18:35:51.951Z"
   },
   {
    "duration": 42,
    "start_time": "2022-01-12T18:35:51.958Z"
   },
   {
    "duration": 5,
    "start_time": "2022-01-12T18:35:52.001Z"
   },
   {
    "duration": 7,
    "start_time": "2022-01-12T18:35:52.008Z"
   },
   {
    "duration": 12,
    "start_time": "2022-01-12T18:35:52.017Z"
   },
   {
    "duration": 9,
    "start_time": "2022-01-12T18:35:52.030Z"
   },
   {
    "duration": 6,
    "start_time": "2022-01-12T18:35:52.040Z"
   },
   {
    "duration": 6,
    "start_time": "2022-01-12T18:35:52.050Z"
   },
   {
    "duration": 10,
    "start_time": "2022-01-12T18:35:52.058Z"
   },
   {
    "duration": 3,
    "start_time": "2022-01-12T18:35:52.099Z"
   },
   {
    "duration": 185,
    "start_time": "2022-01-12T18:35:52.104Z"
   },
   {
    "duration": 8,
    "start_time": "2022-01-12T18:35:52.291Z"
   },
   {
    "duration": 4,
    "start_time": "2022-01-12T18:35:52.301Z"
   },
   {
    "duration": 16,
    "start_time": "2022-01-12T18:35:52.307Z"
   },
   {
    "duration": 3,
    "start_time": "2022-01-12T18:35:52.325Z"
   },
   {
    "duration": 742,
    "start_time": "2022-01-12T18:35:52.330Z"
   },
   {
    "duration": 12,
    "start_time": "2022-01-12T18:35:53.074Z"
   },
   {
    "duration": 13,
    "start_time": "2022-01-12T18:35:53.088Z"
   },
   {
    "duration": 11,
    "start_time": "2022-01-12T18:35:53.103Z"
   },
   {
    "duration": 281,
    "start_time": "2022-01-12T18:35:53.116Z"
   },
   {
    "duration": 305,
    "start_time": "2022-01-12T18:35:53.400Z"
   },
   {
    "duration": 315,
    "start_time": "2022-01-12T18:35:53.707Z"
   },
   {
    "duration": 266,
    "start_time": "2022-01-12T18:35:54.024Z"
   },
   {
    "duration": 396,
    "start_time": "2022-01-12T18:35:54.292Z"
   },
   {
    "duration": 11,
    "start_time": "2022-01-12T18:35:54.690Z"
   },
   {
    "duration": 256,
    "start_time": "2022-01-12T18:35:54.703Z"
   },
   {
    "duration": 8,
    "start_time": "2022-01-12T18:35:54.961Z"
   },
   {
    "duration": 366,
    "start_time": "2022-01-12T18:35:54.971Z"
   },
   {
    "duration": 277,
    "start_time": "2022-01-12T18:35:55.339Z"
   },
   {
    "duration": 153,
    "start_time": "2022-01-12T18:35:55.617Z"
   },
   {
    "duration": 9,
    "start_time": "2022-01-12T18:35:55.771Z"
   },
   {
    "duration": 166,
    "start_time": "2022-01-12T18:35:55.782Z"
   },
   {
    "duration": 166,
    "start_time": "2022-01-12T18:35:55.949Z"
   },
   {
    "duration": 302,
    "start_time": "2022-01-12T18:35:56.117Z"
   },
   {
    "duration": 158,
    "start_time": "2022-01-12T18:35:56.420Z"
   },
   {
    "duration": 405,
    "start_time": "2022-01-12T18:35:56.579Z"
   },
   {
    "duration": 166,
    "start_time": "2022-01-12T18:35:56.986Z"
   },
   {
    "duration": 62,
    "start_time": "2022-01-12T18:35:57.154Z"
   },
   {
    "duration": 5150,
    "start_time": "2022-01-12T18:35:57.219Z"
   },
   {
    "duration": 10,
    "start_time": "2022-01-12T18:36:02.371Z"
   },
   {
    "duration": 174,
    "start_time": "2022-01-12T18:36:02.383Z"
   },
   {
    "duration": 235,
    "start_time": "2022-01-12T18:36:02.559Z"
   },
   {
    "duration": 232,
    "start_time": "2022-01-12T18:36:02.795Z"
   },
   {
    "duration": 207,
    "start_time": "2022-01-12T18:36:03.029Z"
   },
   {
    "duration": 9,
    "start_time": "2022-01-12T18:36:03.237Z"
   },
   {
    "duration": 21,
    "start_time": "2022-01-12T18:36:03.248Z"
   },
   {
    "duration": 5,
    "start_time": "2022-01-12T18:36:03.270Z"
   },
   {
    "duration": 5,
    "start_time": "2022-01-12T18:42:31.983Z"
   },
   {
    "duration": 10,
    "start_time": "2022-01-12T18:42:35.775Z"
   },
   {
    "duration": 15,
    "start_time": "2022-01-12T18:44:00.365Z"
   },
   {
    "duration": 223,
    "start_time": "2022-01-12T18:44:20.622Z"
   },
   {
    "duration": 222,
    "start_time": "2022-01-12T18:45:38.517Z"
   },
   {
    "duration": 236,
    "start_time": "2022-01-12T18:46:28.901Z"
   },
   {
    "duration": 8,
    "start_time": "2022-01-12T18:48:33.364Z"
   },
   {
    "duration": 3,
    "start_time": "2022-01-12T18:50:30.450Z"
   },
   {
    "duration": 4,
    "start_time": "2022-01-12T18:50:31.834Z"
   },
   {
    "duration": 232,
    "start_time": "2022-01-12T19:02:24.615Z"
   },
   {
    "duration": 230,
    "start_time": "2022-01-12T19:02:46.008Z"
   },
   {
    "duration": 219,
    "start_time": "2022-01-12T19:07:54.277Z"
   },
   {
    "duration": 220,
    "start_time": "2022-01-12T19:08:54.556Z"
   },
   {
    "duration": 33,
    "start_time": "2022-01-12T19:09:49.867Z"
   },
   {
    "duration": 37,
    "start_time": "2022-01-12T19:13:35.587Z"
   },
   {
    "duration": 31,
    "start_time": "2022-01-12T19:13:44.117Z"
   },
   {
    "duration": 231,
    "start_time": "2022-01-12T19:15:30.530Z"
   },
   {
    "duration": 219,
    "start_time": "2022-01-12T19:15:54.675Z"
   },
   {
    "duration": 223,
    "start_time": "2022-01-12T19:16:12.753Z"
   },
   {
    "duration": 340,
    "start_time": "2022-01-12T19:17:15.337Z"
   },
   {
    "duration": 227,
    "start_time": "2022-01-12T19:17:48.593Z"
   },
   {
    "duration": 227,
    "start_time": "2022-01-12T19:19:03.232Z"
   },
   {
    "duration": 38,
    "start_time": "2022-01-12T19:22:21.008Z"
   },
   {
    "duration": 36,
    "start_time": "2022-01-12T19:23:13.312Z"
   },
   {
    "duration": 37,
    "start_time": "2022-01-12T19:30:34.983Z"
   },
   {
    "duration": 224,
    "start_time": "2022-01-12T19:32:01.300Z"
   },
   {
    "duration": 35,
    "start_time": "2022-01-12T19:33:15.235Z"
   },
   {
    "duration": 219,
    "start_time": "2022-01-12T19:35:28.763Z"
   },
   {
    "duration": 278,
    "start_time": "2022-01-12T19:48:47.102Z"
   },
   {
    "duration": 10,
    "start_time": "2022-01-12T19:48:57.399Z"
   },
   {
    "duration": 763,
    "start_time": "2022-01-13T07:34:25.869Z"
   },
   {
    "duration": 20,
    "start_time": "2022-01-13T07:34:26.634Z"
   },
   {
    "duration": 11,
    "start_time": "2022-01-13T07:34:26.656Z"
   },
   {
    "duration": 100,
    "start_time": "2022-01-13T07:34:26.669Z"
   },
   {
    "duration": 26,
    "start_time": "2022-01-13T07:34:26.771Z"
   },
   {
    "duration": 16,
    "start_time": "2022-01-13T07:34:26.800Z"
   },
   {
    "duration": 6,
    "start_time": "2022-01-13T07:34:26.817Z"
   },
   {
    "duration": 6,
    "start_time": "2022-01-13T07:34:26.826Z"
   },
   {
    "duration": 5,
    "start_time": "2022-01-13T07:34:26.834Z"
   },
   {
    "duration": 6,
    "start_time": "2022-01-13T07:34:26.841Z"
   },
   {
    "duration": 45,
    "start_time": "2022-01-13T07:34:26.849Z"
   },
   {
    "duration": 3,
    "start_time": "2022-01-13T07:34:26.897Z"
   },
   {
    "duration": 28,
    "start_time": "2022-01-13T07:34:26.903Z"
   },
   {
    "duration": 39,
    "start_time": "2022-01-13T07:34:26.933Z"
   },
   {
    "duration": 8,
    "start_time": "2022-01-13T07:34:26.992Z"
   },
   {
    "duration": 8,
    "start_time": "2022-01-13T07:34:27.002Z"
   },
   {
    "duration": 13,
    "start_time": "2022-01-13T07:34:27.012Z"
   },
   {
    "duration": 18,
    "start_time": "2022-01-13T07:34:27.027Z"
   },
   {
    "duration": 50,
    "start_time": "2022-01-13T07:34:27.047Z"
   },
   {
    "duration": 7,
    "start_time": "2022-01-13T07:34:27.099Z"
   },
   {
    "duration": 6,
    "start_time": "2022-01-13T07:34:27.108Z"
   },
   {
    "duration": 5,
    "start_time": "2022-01-13T07:34:27.116Z"
   },
   {
    "duration": 4,
    "start_time": "2022-01-13T07:34:27.126Z"
   },
   {
    "duration": 6,
    "start_time": "2022-01-13T07:34:27.133Z"
   },
   {
    "duration": 56,
    "start_time": "2022-01-13T07:34:27.141Z"
   },
   {
    "duration": 10,
    "start_time": "2022-01-13T07:34:27.199Z"
   },
   {
    "duration": 5,
    "start_time": "2022-01-13T07:34:27.211Z"
   },
   {
    "duration": 7,
    "start_time": "2022-01-13T07:34:27.218Z"
   },
   {
    "duration": 9,
    "start_time": "2022-01-13T07:34:27.226Z"
   },
   {
    "duration": 4,
    "start_time": "2022-01-13T07:34:27.237Z"
   },
   {
    "duration": 172,
    "start_time": "2022-01-13T07:34:27.242Z"
   },
   {
    "duration": 8,
    "start_time": "2022-01-13T07:34:27.416Z"
   },
   {
    "duration": 5,
    "start_time": "2022-01-13T07:34:27.427Z"
   },
   {
    "duration": 17,
    "start_time": "2022-01-13T07:34:27.433Z"
   },
   {
    "duration": 4,
    "start_time": "2022-01-13T07:34:27.451Z"
   },
   {
    "duration": 595,
    "start_time": "2022-01-13T07:34:27.457Z"
   },
   {
    "duration": 11,
    "start_time": "2022-01-13T07:34:28.054Z"
   },
   {
    "duration": 5,
    "start_time": "2022-01-13T07:34:28.067Z"
   },
   {
    "duration": 27,
    "start_time": "2022-01-13T07:34:28.074Z"
   },
   {
    "duration": 275,
    "start_time": "2022-01-13T07:34:28.103Z"
   },
   {
    "duration": 262,
    "start_time": "2022-01-13T07:34:28.380Z"
   },
   {
    "duration": 273,
    "start_time": "2022-01-13T07:34:28.643Z"
   },
   {
    "duration": 223,
    "start_time": "2022-01-13T07:34:28.917Z"
   },
   {
    "duration": 346,
    "start_time": "2022-01-13T07:34:29.141Z"
   },
   {
    "duration": 6,
    "start_time": "2022-01-13T07:34:29.491Z"
   },
   {
    "duration": 235,
    "start_time": "2022-01-13T07:34:29.499Z"
   },
   {
    "duration": 9,
    "start_time": "2022-01-13T07:34:29.736Z"
   },
   {
    "duration": 343,
    "start_time": "2022-01-13T07:34:29.747Z"
   },
   {
    "duration": 162,
    "start_time": "2022-01-13T07:34:30.092Z"
   },
   {
    "duration": 150,
    "start_time": "2022-01-13T07:34:30.257Z"
   },
   {
    "duration": 10,
    "start_time": "2022-01-13T07:34:30.410Z"
   },
   {
    "duration": 235,
    "start_time": "2022-01-13T07:34:30.422Z"
   },
   {
    "duration": 147,
    "start_time": "2022-01-13T07:34:30.659Z"
   },
   {
    "duration": 266,
    "start_time": "2022-01-13T07:34:30.807Z"
   },
   {
    "duration": 146,
    "start_time": "2022-01-13T07:34:31.075Z"
   },
   {
    "duration": 369,
    "start_time": "2022-01-13T07:34:31.223Z"
   },
   {
    "duration": 156,
    "start_time": "2022-01-13T07:34:31.594Z"
   },
   {
    "duration": 60,
    "start_time": "2022-01-13T07:34:31.751Z"
   },
   {
    "duration": 4613,
    "start_time": "2022-01-13T07:34:31.812Z"
   },
   {
    "duration": 11,
    "start_time": "2022-01-13T07:34:36.428Z"
   },
   {
    "duration": 11,
    "start_time": "2022-01-13T07:34:47.943Z"
   },
   {
    "duration": 666,
    "start_time": "2022-01-13T07:45:13.905Z"
   },
   {
    "duration": 293,
    "start_time": "2022-01-13T07:45:48.299Z"
   },
   {
    "duration": 296,
    "start_time": "2022-01-13T07:46:41.327Z"
   },
   {
    "duration": 300,
    "start_time": "2022-01-13T07:46:53.379Z"
   },
   {
    "duration": 284,
    "start_time": "2022-01-13T07:47:10.687Z"
   },
   {
    "duration": 291,
    "start_time": "2022-01-13T07:47:29.560Z"
   },
   {
    "duration": 303,
    "start_time": "2022-01-13T07:50:57.010Z"
   },
   {
    "duration": 85,
    "start_time": "2022-01-13T08:00:39.928Z"
   },
   {
    "duration": 883,
    "start_time": "2022-01-13T08:01:55.002Z"
   },
   {
    "duration": 59,
    "start_time": "2022-01-13T08:03:17.072Z"
   },
   {
    "duration": 851,
    "start_time": "2022-01-13T08:06:32.061Z"
   },
   {
    "duration": 4,
    "start_time": "2022-01-13T08:07:46.826Z"
   },
   {
    "duration": 831,
    "start_time": "2022-01-13T08:08:01.835Z"
   },
   {
    "duration": 4,
    "start_time": "2022-01-13T08:09:15.266Z"
   },
   {
    "duration": 840,
    "start_time": "2022-01-13T08:09:45.714Z"
   },
   {
    "duration": 29,
    "start_time": "2022-01-13T08:10:39.101Z"
   },
   {
    "duration": 60,
    "start_time": "2022-01-13T08:11:39.995Z"
   },
   {
    "duration": 30,
    "start_time": "2022-01-13T08:12:02.472Z"
   },
   {
    "duration": 838,
    "start_time": "2022-01-13T08:18:35.268Z"
   },
   {
    "duration": 10,
    "start_time": "2022-01-13T08:19:43.303Z"
   },
   {
    "duration": 130,
    "start_time": "2022-01-13T09:01:39.234Z"
   },
   {
    "duration": 192,
    "start_time": "2022-01-13T09:14:52.799Z"
   },
   {
    "duration": 208,
    "start_time": "2022-01-13T09:15:09.990Z"
   },
   {
    "duration": 202,
    "start_time": "2022-01-13T09:15:28.026Z"
   },
   {
    "duration": 195,
    "start_time": "2022-01-13T09:18:09.159Z"
   },
   {
    "duration": 199,
    "start_time": "2022-01-13T09:18:17.623Z"
   },
   {
    "duration": 4913,
    "start_time": "2022-01-13T09:18:59.358Z"
   },
   {
    "duration": 191,
    "start_time": "2022-01-13T09:19:10.600Z"
   },
   {
    "duration": 215,
    "start_time": "2022-01-13T09:31:22.685Z"
   },
   {
    "duration": 199,
    "start_time": "2022-01-13T09:32:01.141Z"
   },
   {
    "duration": 9,
    "start_time": "2022-01-13T09:52:35.571Z"
   },
   {
    "duration": 19,
    "start_time": "2022-01-13T09:52:57.568Z"
   },
   {
    "duration": 4,
    "start_time": "2022-01-13T09:53:13.276Z"
   },
   {
    "duration": 9,
    "start_time": "2022-01-13T09:54:58.912Z"
   },
   {
    "duration": 273,
    "start_time": "2022-01-13T10:04:13.235Z"
   },
   {
    "duration": 405,
    "start_time": "2022-01-13T11:12:12.138Z"
   },
   {
    "duration": 210,
    "start_time": "2022-01-13T11:12:38.802Z"
   },
   {
    "duration": 789,
    "start_time": "2022-01-13T11:18:06.096Z"
   },
   {
    "duration": 205,
    "start_time": "2022-01-13T11:28:21.021Z"
   },
   {
    "duration": 236,
    "start_time": "2022-01-13T11:29:01.264Z"
   },
   {
    "duration": 214,
    "start_time": "2022-01-13T11:30:05.528Z"
   },
   {
    "duration": 208,
    "start_time": "2022-01-13T11:30:19.748Z"
   },
   {
    "duration": 205,
    "start_time": "2022-01-13T11:30:28.515Z"
   },
   {
    "duration": 281,
    "start_time": "2022-01-13T11:30:40.422Z"
   },
   {
    "duration": 208,
    "start_time": "2022-01-13T11:31:15.983Z"
   },
   {
    "duration": 211,
    "start_time": "2022-01-13T11:33:42.446Z"
   },
   {
    "duration": 225,
    "start_time": "2022-01-13T11:34:04.300Z"
   },
   {
    "duration": 215,
    "start_time": "2022-01-13T11:34:23.416Z"
   },
   {
    "duration": 63,
    "start_time": "2022-01-13T11:37:03.944Z"
   },
   {
    "duration": 61,
    "start_time": "2022-01-13T11:37:27.829Z"
   },
   {
    "duration": 74,
    "start_time": "2022-01-13T11:37:33.298Z"
   },
   {
    "duration": 4,
    "start_time": "2022-01-13T11:37:44.453Z"
   },
   {
    "duration": 4546,
    "start_time": "2022-01-13T11:37:54.993Z"
   },
   {
    "duration": 848,
    "start_time": "2022-01-13T11:38:23.560Z"
   },
   {
    "duration": 936,
    "start_time": "2022-01-13T11:39:23.200Z"
   },
   {
    "duration": 854,
    "start_time": "2022-01-13T11:47:34.931Z"
   },
   {
    "duration": 794,
    "start_time": "2022-01-13T11:48:36.654Z"
   },
   {
    "duration": 212,
    "start_time": "2022-01-13T12:14:14.113Z"
   },
   {
    "duration": 765,
    "start_time": "2022-01-13T12:16:00.425Z"
   },
   {
    "duration": 4344,
    "start_time": "2022-01-13T12:28:18.661Z"
   },
   {
    "duration": 10,
    "start_time": "2022-01-13T12:29:32.199Z"
   },
   {
    "duration": 18,
    "start_time": "2022-01-13T13:00:20.640Z"
   },
   {
    "duration": 134,
    "start_time": "2022-01-13T13:00:40.563Z"
   },
   {
    "duration": 135,
    "start_time": "2022-01-13T13:01:34.256Z"
   },
   {
    "duration": 14,
    "start_time": "2022-01-13T13:57:11.248Z"
   },
   {
    "duration": 14,
    "start_time": "2022-01-13T15:34:28.239Z"
   },
   {
    "duration": 12,
    "start_time": "2022-01-13T16:35:34.088Z"
   },
   {
    "duration": 209,
    "start_time": "2022-01-13T16:36:43.073Z"
   },
   {
    "duration": 185,
    "start_time": "2022-01-13T16:38:49.883Z"
   },
   {
    "duration": 15,
    "start_time": "2022-01-13T16:38:59.284Z"
   },
   {
    "duration": 15,
    "start_time": "2022-01-13T16:39:28.305Z"
   },
   {
    "duration": 192,
    "start_time": "2022-01-13T16:41:23.211Z"
   },
   {
    "duration": 200,
    "start_time": "2022-01-13T16:43:03.148Z"
   },
   {
    "duration": 218,
    "start_time": "2022-01-13T16:43:27.705Z"
   },
   {
    "duration": 188,
    "start_time": "2022-01-13T16:44:23.729Z"
   },
   {
    "duration": 15,
    "start_time": "2022-01-13T16:44:52.241Z"
   },
   {
    "duration": 514,
    "start_time": "2022-01-13T16:55:36.891Z"
   },
   {
    "duration": 573,
    "start_time": "2022-01-13T16:58:26.053Z"
   },
   {
    "duration": 383,
    "start_time": "2022-01-13T16:58:44.645Z"
   },
   {
    "duration": 253,
    "start_time": "2022-01-13T17:01:28.956Z"
   },
   {
    "duration": 299,
    "start_time": "2022-01-13T17:01:48.171Z"
   },
   {
    "duration": 349,
    "start_time": "2022-01-13T17:02:05.442Z"
   },
   {
    "duration": 277,
    "start_time": "2022-01-13T17:02:15.700Z"
   },
   {
    "duration": 258,
    "start_time": "2022-01-13T17:02:42.474Z"
   },
   {
    "duration": 290,
    "start_time": "2022-01-13T17:02:51.146Z"
   },
   {
    "duration": 264,
    "start_time": "2022-01-13T17:04:00.530Z"
   },
   {
    "duration": 263,
    "start_time": "2022-01-13T17:04:07.425Z"
   },
   {
    "duration": 311,
    "start_time": "2022-01-13T17:04:40.194Z"
   },
   {
    "duration": 216,
    "start_time": "2022-01-13T17:05:40.442Z"
   },
   {
    "duration": 269,
    "start_time": "2022-01-13T17:06:03.481Z"
   },
   {
    "duration": 340,
    "start_time": "2022-01-13T17:06:17.433Z"
   },
   {
    "duration": 268,
    "start_time": "2022-01-13T17:06:30.681Z"
   },
   {
    "duration": 229,
    "start_time": "2022-01-13T17:06:38.601Z"
   },
   {
    "duration": 353,
    "start_time": "2022-01-13T17:06:44.609Z"
   },
   {
    "duration": 292,
    "start_time": "2022-01-13T17:07:09.088Z"
   },
   {
    "duration": 248,
    "start_time": "2022-01-13T17:07:19.232Z"
   },
   {
    "duration": 353,
    "start_time": "2022-01-13T17:07:25.816Z"
   },
   {
    "duration": 370,
    "start_time": "2022-01-13T17:07:35.184Z"
   },
   {
    "duration": 312,
    "start_time": "2022-01-13T17:07:51.137Z"
   },
   {
    "duration": 333,
    "start_time": "2022-01-13T17:08:44.433Z"
   },
   {
    "duration": 360,
    "start_time": "2022-01-13T17:08:59.392Z"
   },
   {
    "duration": 348,
    "start_time": "2022-01-13T17:13:24.039Z"
   },
   {
    "duration": 66,
    "start_time": "2022-01-13T17:14:10.586Z"
   },
   {
    "duration": 39,
    "start_time": "2022-01-13T17:14:10.654Z"
   },
   {
    "duration": 11,
    "start_time": "2022-01-13T17:14:10.695Z"
   },
   {
    "duration": 88,
    "start_time": "2022-01-13T17:14:10.708Z"
   },
   {
    "duration": 8,
    "start_time": "2022-01-13T17:14:10.798Z"
   },
   {
    "duration": 33,
    "start_time": "2022-01-13T17:14:10.807Z"
   },
   {
    "duration": 16,
    "start_time": "2022-01-13T17:14:10.842Z"
   },
   {
    "duration": 27,
    "start_time": "2022-01-13T17:14:10.860Z"
   },
   {
    "duration": 20,
    "start_time": "2022-01-13T17:14:10.889Z"
   },
   {
    "duration": 33,
    "start_time": "2022-01-13T17:14:10.910Z"
   },
   {
    "duration": 17,
    "start_time": "2022-01-13T17:14:10.945Z"
   },
   {
    "duration": 14,
    "start_time": "2022-01-13T17:14:10.964Z"
   },
   {
    "duration": 16,
    "start_time": "2022-01-13T17:14:10.980Z"
   },
   {
    "duration": 35,
    "start_time": "2022-01-13T17:14:10.999Z"
   },
   {
    "duration": 6,
    "start_time": "2022-01-13T17:14:11.036Z"
   },
   {
    "duration": 16,
    "start_time": "2022-01-13T17:14:11.044Z"
   },
   {
    "duration": 36,
    "start_time": "2022-01-13T17:14:11.062Z"
   },
   {
    "duration": 18,
    "start_time": "2022-01-13T17:14:11.100Z"
   },
   {
    "duration": 7,
    "start_time": "2022-01-13T17:14:11.120Z"
   },
   {
    "duration": 7,
    "start_time": "2022-01-13T17:14:11.128Z"
   },
   {
    "duration": 5,
    "start_time": "2022-01-13T17:14:11.136Z"
   },
   {
    "duration": 5,
    "start_time": "2022-01-13T17:14:11.142Z"
   },
   {
    "duration": 4,
    "start_time": "2022-01-13T17:14:11.192Z"
   },
   {
    "duration": 6,
    "start_time": "2022-01-13T17:14:11.200Z"
   },
   {
    "duration": 10,
    "start_time": "2022-01-13T17:14:11.208Z"
   },
   {
    "duration": 8,
    "start_time": "2022-01-13T17:14:11.220Z"
   },
   {
    "duration": 7,
    "start_time": "2022-01-13T17:14:11.229Z"
   },
   {
    "duration": 9,
    "start_time": "2022-01-13T17:14:11.238Z"
   },
   {
    "duration": 5,
    "start_time": "2022-01-13T17:14:11.249Z"
   },
   {
    "duration": 159,
    "start_time": "2022-01-13T17:14:11.256Z"
   },
   {
    "duration": 8,
    "start_time": "2022-01-13T17:14:11.417Z"
   },
   {
    "duration": 5,
    "start_time": "2022-01-13T17:14:11.426Z"
   },
   {
    "duration": 16,
    "start_time": "2022-01-13T17:14:11.433Z"
   },
   {
    "duration": 3,
    "start_time": "2022-01-13T17:14:11.450Z"
   },
   {
    "duration": 656,
    "start_time": "2022-01-13T17:14:11.455Z"
   },
   {
    "duration": 10,
    "start_time": "2022-01-13T17:14:12.113Z"
   },
   {
    "duration": 5,
    "start_time": "2022-01-13T17:14:12.124Z"
   },
   {
    "duration": 11,
    "start_time": "2022-01-13T17:14:12.131Z"
   },
   {
    "duration": 236,
    "start_time": "2022-01-13T17:14:12.144Z"
   },
   {
    "duration": 347,
    "start_time": "2022-01-13T17:14:12.381Z"
   },
   {
    "duration": 365,
    "start_time": "2022-01-13T17:14:12.730Z"
   },
   {
    "duration": 372,
    "start_time": "2022-01-13T17:14:13.097Z"
   },
   {
    "duration": 358,
    "start_time": "2022-01-13T17:14:13.471Z"
   },
   {
    "duration": 360,
    "start_time": "2022-01-13T17:14:13.831Z"
   },
   {
    "duration": 356,
    "start_time": "2022-01-13T17:14:14.193Z"
   },
   {
    "duration": 4,
    "start_time": "2022-01-13T17:14:14.551Z"
   },
   {
    "duration": 316,
    "start_time": "2022-01-13T17:14:14.557Z"
   },
   {
    "duration": 18,
    "start_time": "2022-01-13T17:14:14.874Z"
   },
   {
    "duration": 323,
    "start_time": "2022-01-13T17:14:14.894Z"
   },
   {
    "duration": 154,
    "start_time": "2022-01-13T17:14:15.218Z"
   },
   {
    "duration": 164,
    "start_time": "2022-01-13T17:14:15.373Z"
   },
   {
    "duration": 9,
    "start_time": "2022-01-13T17:14:15.539Z"
   },
   {
    "duration": 156,
    "start_time": "2022-01-13T17:14:15.550Z"
   },
   {
    "duration": 142,
    "start_time": "2022-01-13T17:14:15.708Z"
   },
   {
    "duration": 273,
    "start_time": "2022-01-13T17:14:15.852Z"
   },
   {
    "duration": 140,
    "start_time": "2022-01-13T17:14:16.127Z"
   },
   {
    "duration": 347,
    "start_time": "2022-01-13T17:14:16.269Z"
   },
   {
    "duration": 231,
    "start_time": "2022-01-13T17:14:16.617Z"
   },
   {
    "duration": 29,
    "start_time": "2022-01-13T17:14:16.849Z"
   },
   {
    "duration": 801,
    "start_time": "2022-01-13T17:14:16.891Z"
   },
   {
    "duration": 9,
    "start_time": "2022-01-13T17:14:17.694Z"
   },
   {
    "duration": 145,
    "start_time": "2022-01-13T17:14:17.704Z"
   },
   {
    "duration": 211,
    "start_time": "2022-01-13T17:14:17.851Z"
   },
   {
    "duration": 199,
    "start_time": "2022-01-13T17:14:18.064Z"
   },
   {
    "duration": 187,
    "start_time": "2022-01-13T17:14:18.265Z"
   },
   {
    "duration": 8,
    "start_time": "2022-01-13T17:14:18.454Z"
   },
   {
    "duration": 35,
    "start_time": "2022-01-13T17:14:18.464Z"
   },
   {
    "duration": 5,
    "start_time": "2022-01-13T17:14:18.504Z"
   },
   {
    "duration": 12,
    "start_time": "2022-01-13T17:14:18.510Z"
   },
   {
    "duration": 236,
    "start_time": "2022-01-13T17:14:18.523Z"
   },
   {
    "duration": 933,
    "start_time": "2022-01-13T17:14:18.760Z"
   },
   {
    "duration": 702,
    "start_time": "2022-01-13T17:14:19.695Z"
   },
   {
    "duration": 14,
    "start_time": "2022-01-13T17:14:20.398Z"
   },
   {
    "duration": 155,
    "start_time": "2022-01-13T17:14:20.413Z"
   },
   {
    "duration": 159,
    "start_time": "2022-01-13T17:22:30.844Z"
   },
   {
    "duration": 175,
    "start_time": "2022-01-13T17:25:43.459Z"
   },
   {
    "duration": 156,
    "start_time": "2022-01-13T17:28:57.826Z"
   },
   {
    "duration": 213,
    "start_time": "2022-01-13T17:37:15.534Z"
   },
   {
    "duration": 146,
    "start_time": "2022-01-13T17:39:02.451Z"
   },
   {
    "duration": 66,
    "start_time": "2022-01-13T17:39:55.657Z"
   },
   {
    "duration": 25,
    "start_time": "2022-01-13T17:39:55.725Z"
   },
   {
    "duration": 44,
    "start_time": "2022-01-13T17:39:55.752Z"
   },
   {
    "duration": 175,
    "start_time": "2022-01-13T17:39:55.799Z"
   },
   {
    "duration": 20,
    "start_time": "2022-01-13T17:39:55.976Z"
   },
   {
    "duration": 8,
    "start_time": "2022-01-13T17:39:55.998Z"
   },
   {
    "duration": 5,
    "start_time": "2022-01-13T17:39:56.008Z"
   },
   {
    "duration": 3,
    "start_time": "2022-01-13T17:39:56.016Z"
   },
   {
    "duration": 5,
    "start_time": "2022-01-13T17:39:56.021Z"
   },
   {
    "duration": 4,
    "start_time": "2022-01-13T17:39:56.028Z"
   },
   {
    "duration": 10,
    "start_time": "2022-01-13T17:39:56.033Z"
   },
   {
    "duration": 51,
    "start_time": "2022-01-13T17:39:56.045Z"
   },
   {
    "duration": 16,
    "start_time": "2022-01-13T17:39:56.098Z"
   },
   {
    "duration": 38,
    "start_time": "2022-01-13T17:39:56.116Z"
   },
   {
    "duration": 5,
    "start_time": "2022-01-13T17:39:56.156Z"
   },
   {
    "duration": 30,
    "start_time": "2022-01-13T17:39:56.163Z"
   },
   {
    "duration": 13,
    "start_time": "2022-01-13T17:39:56.196Z"
   },
   {
    "duration": 18,
    "start_time": "2022-01-13T17:39:56.210Z"
   },
   {
    "duration": 8,
    "start_time": "2022-01-13T17:39:56.229Z"
   },
   {
    "duration": 6,
    "start_time": "2022-01-13T17:39:56.238Z"
   },
   {
    "duration": 5,
    "start_time": "2022-01-13T17:39:56.245Z"
   },
   {
    "duration": 43,
    "start_time": "2022-01-13T17:39:56.252Z"
   },
   {
    "duration": 5,
    "start_time": "2022-01-13T17:39:56.300Z"
   },
   {
    "duration": 6,
    "start_time": "2022-01-13T17:39:56.308Z"
   },
   {
    "duration": 9,
    "start_time": "2022-01-13T17:39:56.316Z"
   },
   {
    "duration": 13,
    "start_time": "2022-01-13T17:39:56.327Z"
   },
   {
    "duration": 6,
    "start_time": "2022-01-13T17:39:56.342Z"
   },
   {
    "duration": 49,
    "start_time": "2022-01-13T17:39:56.350Z"
   },
   {
    "duration": 4,
    "start_time": "2022-01-13T17:39:56.401Z"
   },
   {
    "duration": 156,
    "start_time": "2022-01-13T17:39:56.407Z"
   },
   {
    "duration": 8,
    "start_time": "2022-01-13T17:39:56.565Z"
   },
   {
    "duration": 18,
    "start_time": "2022-01-13T17:39:56.575Z"
   },
   {
    "duration": 22,
    "start_time": "2022-01-13T17:39:56.595Z"
   },
   {
    "duration": 3,
    "start_time": "2022-01-13T17:39:56.618Z"
   },
   {
    "duration": 601,
    "start_time": "2022-01-13T17:39:56.624Z"
   },
   {
    "duration": 11,
    "start_time": "2022-01-13T17:39:57.227Z"
   },
   {
    "duration": 6,
    "start_time": "2022-01-13T17:39:57.240Z"
   },
   {
    "duration": 10,
    "start_time": "2022-01-13T17:39:57.248Z"
   },
   {
    "duration": 252,
    "start_time": "2022-01-13T17:39:57.260Z"
   },
   {
    "duration": 255,
    "start_time": "2022-01-13T17:39:57.514Z"
   },
   {
    "duration": 354,
    "start_time": "2022-01-13T17:39:57.771Z"
   },
   {
    "duration": 375,
    "start_time": "2022-01-13T17:39:58.127Z"
   },
   {
    "duration": 424,
    "start_time": "2022-01-13T17:39:58.504Z"
   },
   {
    "duration": 453,
    "start_time": "2022-01-13T17:39:58.930Z"
   },
   {
    "duration": 9,
    "start_time": "2022-01-13T17:39:59.385Z"
   },
   {
    "duration": 235,
    "start_time": "2022-01-13T17:39:59.396Z"
   },
   {
    "duration": 9,
    "start_time": "2022-01-13T17:39:59.633Z"
   },
   {
    "duration": 338,
    "start_time": "2022-01-13T17:39:59.643Z"
   },
   {
    "duration": 177,
    "start_time": "2022-01-13T17:39:59.983Z"
   },
   {
    "duration": 162,
    "start_time": "2022-01-13T17:40:00.162Z"
   },
   {
    "duration": 9,
    "start_time": "2022-01-13T17:40:00.326Z"
   },
   {
    "duration": 161,
    "start_time": "2022-01-13T17:40:00.336Z"
   },
   {
    "duration": 145,
    "start_time": "2022-01-13T17:40:00.499Z"
   },
   {
    "duration": 271,
    "start_time": "2022-01-13T17:40:00.646Z"
   },
   {
    "duration": 155,
    "start_time": "2022-01-13T17:40:00.919Z"
   },
   {
    "duration": 469,
    "start_time": "2022-01-13T17:40:01.076Z"
   },
   {
    "duration": 173,
    "start_time": "2022-01-13T17:40:01.548Z"
   },
   {
    "duration": 35,
    "start_time": "2022-01-13T17:40:01.723Z"
   },
   {
    "duration": 871,
    "start_time": "2022-01-13T17:40:01.760Z"
   },
   {
    "duration": 10,
    "start_time": "2022-01-13T17:40:02.633Z"
   },
   {
    "duration": 192,
    "start_time": "2022-01-13T17:40:02.645Z"
   },
   {
    "duration": 257,
    "start_time": "2022-01-13T17:40:02.838Z"
   },
   {
    "duration": 209,
    "start_time": "2022-01-13T17:40:03.097Z"
   },
   {
    "duration": 197,
    "start_time": "2022-01-13T17:40:03.308Z"
   },
   {
    "duration": 8,
    "start_time": "2022-01-13T17:40:03.507Z"
   },
   {
    "duration": 21,
    "start_time": "2022-01-13T17:40:03.517Z"
   },
   {
    "duration": 3,
    "start_time": "2022-01-13T17:40:03.540Z"
   },
   {
    "duration": 9,
    "start_time": "2022-01-13T17:40:03.548Z"
   },
   {
    "duration": 251,
    "start_time": "2022-01-13T17:40:03.559Z"
   },
   {
    "duration": 1000,
    "start_time": "2022-01-13T17:40:03.812Z"
   },
   {
    "duration": 770,
    "start_time": "2022-01-13T17:40:04.814Z"
   },
   {
    "duration": 15,
    "start_time": "2022-01-13T17:40:05.586Z"
   },
   {
    "duration": 161,
    "start_time": "2022-01-13T17:40:05.603Z"
   },
   {
    "duration": 66,
    "start_time": "2022-01-13T18:15:00.397Z"
   },
   {
    "duration": 36,
    "start_time": "2022-01-13T18:15:00.465Z"
   },
   {
    "duration": 11,
    "start_time": "2022-01-13T18:15:00.503Z"
   },
   {
    "duration": 102,
    "start_time": "2022-01-13T18:15:00.516Z"
   },
   {
    "duration": 8,
    "start_time": "2022-01-13T18:15:00.620Z"
   },
   {
    "duration": 9,
    "start_time": "2022-01-13T18:15:00.630Z"
   },
   {
    "duration": 6,
    "start_time": "2022-01-13T18:15:00.641Z"
   },
   {
    "duration": 5,
    "start_time": "2022-01-13T18:15:00.649Z"
   },
   {
    "duration": 36,
    "start_time": "2022-01-13T18:15:00.656Z"
   },
   {
    "duration": 5,
    "start_time": "2022-01-13T18:15:00.694Z"
   },
   {
    "duration": 29,
    "start_time": "2022-01-13T18:15:00.700Z"
   },
   {
    "duration": 11,
    "start_time": "2022-01-13T18:15:00.731Z"
   },
   {
    "duration": 23,
    "start_time": "2022-01-13T18:15:00.743Z"
   },
   {
    "duration": 34,
    "start_time": "2022-01-13T18:15:00.767Z"
   },
   {
    "duration": 5,
    "start_time": "2022-01-13T18:15:00.803Z"
   },
   {
    "duration": 12,
    "start_time": "2022-01-13T18:15:00.809Z"
   },
   {
    "duration": 14,
    "start_time": "2022-01-13T18:15:00.823Z"
   },
   {
    "duration": 35,
    "start_time": "2022-01-13T18:15:00.839Z"
   },
   {
    "duration": 10,
    "start_time": "2022-01-13T18:15:00.876Z"
   },
   {
    "duration": 16,
    "start_time": "2022-01-13T18:15:00.892Z"
   },
   {
    "duration": 16,
    "start_time": "2022-01-13T18:15:00.910Z"
   },
   {
    "duration": 11,
    "start_time": "2022-01-13T18:15:00.928Z"
   },
   {
    "duration": 15,
    "start_time": "2022-01-13T18:15:00.943Z"
   },
   {
    "duration": 18,
    "start_time": "2022-01-13T18:15:00.960Z"
   },
   {
    "duration": 16,
    "start_time": "2022-01-13T18:15:00.980Z"
   },
   {
    "duration": 15,
    "start_time": "2022-01-13T18:15:00.998Z"
   },
   {
    "duration": 8,
    "start_time": "2022-01-13T18:15:01.015Z"
   },
   {
    "duration": 9,
    "start_time": "2022-01-13T18:15:01.025Z"
   },
   {
    "duration": 8,
    "start_time": "2022-01-13T18:15:01.035Z"
   },
   {
    "duration": 149,
    "start_time": "2022-01-13T18:15:01.045Z"
   },
   {
    "duration": 6,
    "start_time": "2022-01-13T18:15:01.196Z"
   },
   {
    "duration": 11,
    "start_time": "2022-01-13T18:15:01.204Z"
   },
   {
    "duration": 29,
    "start_time": "2022-01-13T18:15:01.217Z"
   },
   {
    "duration": 4,
    "start_time": "2022-01-13T18:15:01.248Z"
   },
   {
    "duration": 629,
    "start_time": "2022-01-13T18:15:01.254Z"
   },
   {
    "duration": 12,
    "start_time": "2022-01-13T18:15:01.885Z"
   },
   {
    "duration": 24,
    "start_time": "2022-01-13T18:15:01.898Z"
   },
   {
    "duration": 23,
    "start_time": "2022-01-13T18:15:01.924Z"
   },
   {
    "duration": 224,
    "start_time": "2022-01-13T18:15:01.948Z"
   },
   {
    "duration": 263,
    "start_time": "2022-01-13T18:15:02.174Z"
   },
   {
    "duration": 363,
    "start_time": "2022-01-13T18:15:02.439Z"
   },
   {
    "duration": 370,
    "start_time": "2022-01-13T18:15:02.805Z"
   },
   {
    "duration": 358,
    "start_time": "2022-01-13T18:15:03.177Z"
   },
   {
    "duration": 362,
    "start_time": "2022-01-13T18:15:03.537Z"
   },
   {
    "duration": 5,
    "start_time": "2022-01-13T18:15:03.901Z"
   },
   {
    "duration": 231,
    "start_time": "2022-01-13T18:15:03.908Z"
   },
   {
    "duration": 9,
    "start_time": "2022-01-13T18:15:04.141Z"
   },
   {
    "duration": 439,
    "start_time": "2022-01-13T18:15:04.151Z"
   },
   {
    "duration": 170,
    "start_time": "2022-01-13T18:15:04.592Z"
   },
   {
    "duration": 158,
    "start_time": "2022-01-13T18:15:04.764Z"
   },
   {
    "duration": 10,
    "start_time": "2022-01-13T18:15:04.924Z"
   },
   {
    "duration": 180,
    "start_time": "2022-01-13T18:15:04.936Z"
   },
   {
    "duration": 144,
    "start_time": "2022-01-13T18:15:05.118Z"
   },
   {
    "duration": 285,
    "start_time": "2022-01-13T18:15:05.264Z"
   },
   {
    "duration": 169,
    "start_time": "2022-01-13T18:15:05.551Z"
   },
   {
    "duration": 369,
    "start_time": "2022-01-13T18:15:05.722Z"
   },
   {
    "duration": 164,
    "start_time": "2022-01-13T18:15:06.094Z"
   },
   {
    "duration": 40,
    "start_time": "2022-01-13T18:15:06.260Z"
   },
   {
    "duration": 905,
    "start_time": "2022-01-13T18:15:06.302Z"
   },
   {
    "duration": 9,
    "start_time": "2022-01-13T18:15:07.209Z"
   },
   {
    "duration": 155,
    "start_time": "2022-01-13T18:15:07.220Z"
   },
   {
    "duration": 224,
    "start_time": "2022-01-13T18:15:07.377Z"
   },
   {
    "duration": 217,
    "start_time": "2022-01-13T18:15:07.602Z"
   },
   {
    "duration": 202,
    "start_time": "2022-01-13T18:15:07.820Z"
   },
   {
    "duration": 8,
    "start_time": "2022-01-13T18:15:08.023Z"
   },
   {
    "duration": 20,
    "start_time": "2022-01-13T18:15:08.033Z"
   },
   {
    "duration": 4,
    "start_time": "2022-01-13T18:15:08.055Z"
   },
   {
    "duration": 34,
    "start_time": "2022-01-13T18:15:08.063Z"
   },
   {
    "duration": 232,
    "start_time": "2022-01-13T18:15:08.099Z"
   },
   {
    "duration": 968,
    "start_time": "2022-01-13T18:15:08.333Z"
   },
   {
    "duration": 708,
    "start_time": "2022-01-13T18:15:09.302Z"
   },
   {
    "duration": 15,
    "start_time": "2022-01-13T18:15:10.011Z"
   },
   {
    "duration": 163,
    "start_time": "2022-01-13T18:15:10.028Z"
   },
   {
    "duration": 214,
    "start_time": "2022-01-13T18:17:14.429Z"
   },
   {
    "duration": 64,
    "start_time": "2022-01-13T18:19:17.243Z"
   },
   {
    "duration": 18,
    "start_time": "2022-01-13T18:19:17.309Z"
   },
   {
    "duration": 12,
    "start_time": "2022-01-13T18:19:17.330Z"
   },
   {
    "duration": 104,
    "start_time": "2022-01-13T18:19:17.344Z"
   },
   {
    "duration": 12,
    "start_time": "2022-01-13T18:19:17.450Z"
   },
   {
    "duration": 36,
    "start_time": "2022-01-13T18:19:17.464Z"
   },
   {
    "duration": 7,
    "start_time": "2022-01-13T18:19:17.502Z"
   },
   {
    "duration": 5,
    "start_time": "2022-01-13T18:19:17.512Z"
   },
   {
    "duration": 6,
    "start_time": "2022-01-13T18:19:17.519Z"
   },
   {
    "duration": 5,
    "start_time": "2022-01-13T18:19:17.527Z"
   },
   {
    "duration": 9,
    "start_time": "2022-01-13T18:19:17.534Z"
   },
   {
    "duration": 3,
    "start_time": "2022-01-13T18:19:17.544Z"
   },
   {
    "duration": 59,
    "start_time": "2022-01-13T18:19:17.549Z"
   },
   {
    "duration": 35,
    "start_time": "2022-01-13T18:19:17.609Z"
   },
   {
    "duration": 5,
    "start_time": "2022-01-13T18:19:17.646Z"
   },
   {
    "duration": 6,
    "start_time": "2022-01-13T18:19:17.653Z"
   },
   {
    "duration": 38,
    "start_time": "2022-01-13T18:19:17.660Z"
   },
   {
    "duration": 18,
    "start_time": "2022-01-13T18:19:17.699Z"
   },
   {
    "duration": 7,
    "start_time": "2022-01-13T18:19:17.719Z"
   },
   {
    "duration": 9,
    "start_time": "2022-01-13T18:19:17.728Z"
   },
   {
    "duration": 5,
    "start_time": "2022-01-13T18:19:17.739Z"
   },
   {
    "duration": 5,
    "start_time": "2022-01-13T18:19:17.746Z"
   },
   {
    "duration": 5,
    "start_time": "2022-01-13T18:19:17.792Z"
   },
   {
    "duration": 8,
    "start_time": "2022-01-13T18:19:17.800Z"
   },
   {
    "duration": 8,
    "start_time": "2022-01-13T18:19:17.809Z"
   },
   {
    "duration": 9,
    "start_time": "2022-01-13T18:19:17.819Z"
   },
   {
    "duration": 7,
    "start_time": "2022-01-13T18:19:17.830Z"
   },
   {
    "duration": 17,
    "start_time": "2022-01-13T18:19:17.838Z"
   },
   {
    "duration": 3,
    "start_time": "2022-01-13T18:19:17.857Z"
   },
   {
    "duration": 154,
    "start_time": "2022-01-13T18:19:17.861Z"
   },
   {
    "duration": 6,
    "start_time": "2022-01-13T18:19:18.017Z"
   },
   {
    "duration": 11,
    "start_time": "2022-01-13T18:19:18.025Z"
   },
   {
    "duration": 30,
    "start_time": "2022-01-13T18:19:18.037Z"
   },
   {
    "duration": 18,
    "start_time": "2022-01-13T18:19:18.069Z"
   },
   {
    "duration": 579,
    "start_time": "2022-01-13T18:19:18.089Z"
   },
   {
    "duration": 11,
    "start_time": "2022-01-13T18:19:18.670Z"
   },
   {
    "duration": 4,
    "start_time": "2022-01-13T18:19:18.692Z"
   },
   {
    "duration": 11,
    "start_time": "2022-01-13T18:19:18.698Z"
   },
   {
    "duration": 238,
    "start_time": "2022-01-13T18:19:18.711Z"
   },
   {
    "duration": 250,
    "start_time": "2022-01-13T18:19:18.951Z"
   },
   {
    "duration": 427,
    "start_time": "2022-01-13T18:19:19.202Z"
   },
   {
    "duration": 388,
    "start_time": "2022-01-13T18:19:19.631Z"
   },
   {
    "duration": 383,
    "start_time": "2022-01-13T18:19:20.021Z"
   },
   {
    "duration": 376,
    "start_time": "2022-01-13T18:19:20.406Z"
   },
   {
    "duration": 11,
    "start_time": "2022-01-13T18:19:20.784Z"
   },
   {
    "duration": 272,
    "start_time": "2022-01-13T18:19:20.797Z"
   },
   {
    "duration": 21,
    "start_time": "2022-01-13T18:19:21.072Z"
   },
   {
    "duration": 376,
    "start_time": "2022-01-13T18:19:21.095Z"
   },
   {
    "duration": 277,
    "start_time": "2022-01-13T18:19:21.474Z"
   },
   {
    "duration": 167,
    "start_time": "2022-01-13T18:19:21.754Z"
   },
   {
    "duration": 10,
    "start_time": "2022-01-13T18:19:21.923Z"
   },
   {
    "duration": 171,
    "start_time": "2022-01-13T18:19:21.935Z"
   },
   {
    "duration": 147,
    "start_time": "2022-01-13T18:19:22.108Z"
   },
   {
    "duration": 287,
    "start_time": "2022-01-13T18:19:22.257Z"
   },
   {
    "duration": 167,
    "start_time": "2022-01-13T18:19:22.546Z"
   },
   {
    "duration": 385,
    "start_time": "2022-01-13T18:19:22.715Z"
   },
   {
    "duration": 169,
    "start_time": "2022-01-13T18:19:23.102Z"
   },
   {
    "duration": 36,
    "start_time": "2022-01-13T18:19:23.273Z"
   },
   {
    "duration": 881,
    "start_time": "2022-01-13T18:19:23.310Z"
   },
   {
    "duration": 9,
    "start_time": "2022-01-13T18:19:24.193Z"
   },
   {
    "duration": 150,
    "start_time": "2022-01-13T18:19:24.204Z"
   },
   {
    "duration": 215,
    "start_time": "2022-01-13T18:19:24.356Z"
   },
   {
    "duration": 213,
    "start_time": "2022-01-13T18:19:24.573Z"
   },
   {
    "duration": 207,
    "start_time": "2022-01-13T18:19:24.791Z"
   },
   {
    "duration": 9,
    "start_time": "2022-01-13T18:19:25.000Z"
   },
   {
    "duration": 20,
    "start_time": "2022-01-13T18:19:25.011Z"
   },
   {
    "duration": 5,
    "start_time": "2022-01-13T18:19:25.033Z"
   },
   {
    "duration": 10,
    "start_time": "2022-01-13T18:19:25.043Z"
   },
   {
    "duration": 250,
    "start_time": "2022-01-13T18:19:25.055Z"
   },
   {
    "duration": 920,
    "start_time": "2022-01-13T18:19:25.307Z"
   },
   {
    "duration": 770,
    "start_time": "2022-01-13T18:19:26.229Z"
   },
   {
    "duration": 14,
    "start_time": "2022-01-13T18:19:27.000Z"
   },
   {
    "duration": 165,
    "start_time": "2022-01-13T18:19:27.016Z"
   },
   {
    "duration": 675,
    "start_time": "2022-01-15T18:27:31.860Z"
   },
   {
    "duration": 22,
    "start_time": "2022-01-15T18:27:32.537Z"
   },
   {
    "duration": 11,
    "start_time": "2022-01-15T18:27:32.561Z"
   },
   {
    "duration": 81,
    "start_time": "2022-01-15T18:27:32.574Z"
   },
   {
    "duration": 8,
    "start_time": "2022-01-15T18:27:32.656Z"
   },
   {
    "duration": 8,
    "start_time": "2022-01-15T18:27:32.666Z"
   },
   {
    "duration": 27,
    "start_time": "2022-01-15T18:27:32.676Z"
   },
   {
    "duration": 5,
    "start_time": "2022-01-15T18:27:32.706Z"
   },
   {
    "duration": 8,
    "start_time": "2022-01-15T18:27:32.713Z"
   },
   {
    "duration": 6,
    "start_time": "2022-01-15T18:27:32.723Z"
   },
   {
    "duration": 10,
    "start_time": "2022-01-15T18:27:32.731Z"
   },
   {
    "duration": 3,
    "start_time": "2022-01-15T18:27:32.742Z"
   },
   {
    "duration": 21,
    "start_time": "2022-01-15T18:27:32.747Z"
   },
   {
    "duration": 63,
    "start_time": "2022-01-15T18:27:32.770Z"
   },
   {
    "duration": 6,
    "start_time": "2022-01-15T18:27:32.835Z"
   },
   {
    "duration": 8,
    "start_time": "2022-01-15T18:27:32.843Z"
   },
   {
    "duration": 13,
    "start_time": "2022-01-15T18:27:32.853Z"
   },
   {
    "duration": 45,
    "start_time": "2022-01-15T18:27:32.867Z"
   },
   {
    "duration": 7,
    "start_time": "2022-01-15T18:27:32.913Z"
   },
   {
    "duration": 7,
    "start_time": "2022-01-15T18:27:32.922Z"
   },
   {
    "duration": 5,
    "start_time": "2022-01-15T18:27:32.930Z"
   },
   {
    "duration": 5,
    "start_time": "2022-01-15T18:27:32.937Z"
   },
   {
    "duration": 5,
    "start_time": "2022-01-15T18:27:32.945Z"
   },
   {
    "duration": 7,
    "start_time": "2022-01-15T18:27:32.952Z"
   },
   {
    "duration": 10,
    "start_time": "2022-01-15T18:27:32.999Z"
   },
   {
    "duration": 8,
    "start_time": "2022-01-15T18:27:33.010Z"
   },
   {
    "duration": 6,
    "start_time": "2022-01-15T18:27:33.020Z"
   },
   {
    "duration": 8,
    "start_time": "2022-01-15T18:27:33.028Z"
   },
   {
    "duration": 2,
    "start_time": "2022-01-15T18:27:33.038Z"
   },
   {
    "duration": 162,
    "start_time": "2022-01-15T18:27:33.042Z"
   },
   {
    "duration": 7,
    "start_time": "2022-01-15T18:27:33.206Z"
   },
   {
    "duration": 6,
    "start_time": "2022-01-15T18:27:33.214Z"
   },
   {
    "duration": 17,
    "start_time": "2022-01-15T18:27:33.221Z"
   },
   {
    "duration": 2,
    "start_time": "2022-01-15T18:27:33.240Z"
   },
   {
    "duration": 591,
    "start_time": "2022-01-15T18:27:33.244Z"
   },
   {
    "duration": 10,
    "start_time": "2022-01-15T18:27:33.837Z"
   },
   {
    "duration": 10,
    "start_time": "2022-01-15T18:27:33.849Z"
   },
   {
    "duration": 11,
    "start_time": "2022-01-15T18:27:33.861Z"
   },
   {
    "duration": 276,
    "start_time": "2022-01-15T18:27:33.873Z"
   },
   {
    "duration": 268,
    "start_time": "2022-01-15T18:27:34.150Z"
   },
   {
    "duration": 380,
    "start_time": "2022-01-15T18:27:34.420Z"
   },
   {
    "duration": 373,
    "start_time": "2022-01-15T18:27:34.802Z"
   },
   {
    "duration": 373,
    "start_time": "2022-01-15T18:27:35.177Z"
   },
   {
    "duration": 361,
    "start_time": "2022-01-15T18:27:35.551Z"
   },
   {
    "duration": 5,
    "start_time": "2022-01-15T18:27:35.913Z"
   },
   {
    "duration": 242,
    "start_time": "2022-01-15T18:27:35.920Z"
   },
   {
    "duration": 10,
    "start_time": "2022-01-15T18:27:36.164Z"
   },
   {
    "duration": 426,
    "start_time": "2022-01-15T18:27:36.176Z"
   },
   {
    "duration": 173,
    "start_time": "2022-01-15T18:27:36.605Z"
   },
   {
    "duration": 162,
    "start_time": "2022-01-15T18:27:36.781Z"
   },
   {
    "duration": 10,
    "start_time": "2022-01-15T18:27:36.945Z"
   },
   {
    "duration": 172,
    "start_time": "2022-01-15T18:27:36.957Z"
   },
   {
    "duration": 173,
    "start_time": "2022-01-15T18:27:37.131Z"
   },
   {
    "duration": 285,
    "start_time": "2022-01-15T18:27:37.306Z"
   },
   {
    "duration": 165,
    "start_time": "2022-01-15T18:27:37.593Z"
   },
   {
    "duration": 387,
    "start_time": "2022-01-15T18:27:37.760Z"
   },
   {
    "duration": 172,
    "start_time": "2022-01-15T18:27:38.148Z"
   },
   {
    "duration": 99,
    "start_time": "2022-01-15T18:27:38.321Z"
   },
   {
    "duration": 803,
    "start_time": "2022-01-15T18:27:38.422Z"
   },
   {
    "duration": 10,
    "start_time": "2022-01-15T18:27:39.227Z"
   },
   {
    "duration": 158,
    "start_time": "2022-01-15T18:27:39.238Z"
   },
   {
    "duration": 223,
    "start_time": "2022-01-15T18:27:39.398Z"
   },
   {
    "duration": 215,
    "start_time": "2022-01-15T18:27:39.623Z"
   },
   {
    "duration": 239,
    "start_time": "2022-01-15T18:27:39.840Z"
   },
   {
    "duration": 17,
    "start_time": "2022-01-15T18:27:40.081Z"
   },
   {
    "duration": 18,
    "start_time": "2022-01-15T18:27:40.100Z"
   },
   {
    "duration": 4,
    "start_time": "2022-01-15T18:27:40.119Z"
   },
   {
    "duration": 11,
    "start_time": "2022-01-15T18:27:40.127Z"
   },
   {
    "duration": 251,
    "start_time": "2022-01-15T18:27:40.140Z"
   },
   {
    "duration": 957,
    "start_time": "2022-01-15T18:27:40.392Z"
   },
   {
    "duration": 693,
    "start_time": "2022-01-15T18:27:41.351Z"
   },
   {
    "duration": 13,
    "start_time": "2022-01-15T18:27:42.045Z"
   },
   {
    "duration": 160,
    "start_time": "2022-01-15T18:27:42.060Z"
   },
   {
    "duration": 1347,
    "start_time": "2022-01-15T18:35:46.813Z"
   },
   {
    "duration": 68,
    "start_time": "2022-01-15T18:39:42.719Z"
   },
   {
    "duration": 52,
    "start_time": "2022-01-15T18:40:41.738Z"
   },
   {
    "duration": 30,
    "start_time": "2022-01-15T18:41:20.849Z"
   },
   {
    "duration": 61,
    "start_time": "2022-01-15T18:43:36.733Z"
   },
   {
    "duration": 57,
    "start_time": "2022-01-15T18:44:37.558Z"
   },
   {
    "duration": 933,
    "start_time": "2022-01-17T15:59:01.286Z"
   },
   {
    "duration": 20,
    "start_time": "2022-01-17T15:59:02.227Z"
   },
   {
    "duration": 15,
    "start_time": "2022-01-17T15:59:02.249Z"
   },
   {
    "duration": 78,
    "start_time": "2022-01-17T15:59:02.265Z"
   },
   {
    "duration": 8,
    "start_time": "2022-01-17T15:59:02.344Z"
   },
   {
    "duration": 9,
    "start_time": "2022-01-17T15:59:02.353Z"
   },
   {
    "duration": 4,
    "start_time": "2022-01-17T15:59:02.364Z"
   },
   {
    "duration": 5,
    "start_time": "2022-01-17T15:59:02.371Z"
   },
   {
    "duration": 9,
    "start_time": "2022-01-17T15:59:02.378Z"
   },
   {
    "duration": 17,
    "start_time": "2022-01-17T15:59:02.388Z"
   },
   {
    "duration": 27,
    "start_time": "2022-01-17T15:59:02.406Z"
   },
   {
    "duration": 2,
    "start_time": "2022-01-17T15:59:02.435Z"
   },
   {
    "duration": 15,
    "start_time": "2022-01-17T15:59:02.439Z"
   },
   {
    "duration": 32,
    "start_time": "2022-01-17T15:59:02.455Z"
   },
   {
    "duration": 5,
    "start_time": "2022-01-17T15:59:02.488Z"
   },
   {
    "duration": 33,
    "start_time": "2022-01-17T15:59:02.495Z"
   },
   {
    "duration": 12,
    "start_time": "2022-01-17T15:59:02.529Z"
   },
   {
    "duration": 15,
    "start_time": "2022-01-17T15:59:02.542Z"
   },
   {
    "duration": 10,
    "start_time": "2022-01-17T15:59:02.559Z"
   },
   {
    "duration": 8,
    "start_time": "2022-01-17T15:59:02.570Z"
   },
   {
    "duration": 6,
    "start_time": "2022-01-17T15:59:02.580Z"
   },
   {
    "duration": 4,
    "start_time": "2022-01-17T15:59:02.587Z"
   },
   {
    "duration": 4,
    "start_time": "2022-01-17T15:59:02.627Z"
   },
   {
    "duration": 7,
    "start_time": "2022-01-17T15:59:02.633Z"
   },
   {
    "duration": 9,
    "start_time": "2022-01-17T15:59:02.642Z"
   },
   {
    "duration": 7,
    "start_time": "2022-01-17T15:59:02.652Z"
   },
   {
    "duration": 5,
    "start_time": "2022-01-17T15:59:02.661Z"
   },
   {
    "duration": 7,
    "start_time": "2022-01-17T15:59:02.667Z"
   },
   {
    "duration": 2,
    "start_time": "2022-01-17T15:59:02.676Z"
   },
   {
    "duration": 149,
    "start_time": "2022-01-17T15:59:02.679Z"
   },
   {
    "duration": 6,
    "start_time": "2022-01-17T15:59:02.830Z"
   },
   {
    "duration": 3,
    "start_time": "2022-01-17T15:59:02.837Z"
   },
   {
    "duration": 12,
    "start_time": "2022-01-17T15:59:02.842Z"
   },
   {
    "duration": 3,
    "start_time": "2022-01-17T15:59:02.856Z"
   },
   {
    "duration": 546,
    "start_time": "2022-01-17T15:59:02.860Z"
   },
   {
    "duration": 20,
    "start_time": "2022-01-17T15:59:03.408Z"
   },
   {
    "duration": 4,
    "start_time": "2022-01-17T15:59:03.429Z"
   },
   {
    "duration": 11,
    "start_time": "2022-01-17T15:59:03.435Z"
   },
   {
    "duration": 233,
    "start_time": "2022-01-17T15:59:03.447Z"
   },
   {
    "duration": 207,
    "start_time": "2022-01-17T15:59:03.682Z"
   },
   {
    "duration": 358,
    "start_time": "2022-01-17T15:59:03.891Z"
   },
   {
    "duration": 334,
    "start_time": "2022-01-17T15:59:04.251Z"
   },
   {
    "duration": 312,
    "start_time": "2022-01-17T15:59:04.586Z"
   },
   {
    "duration": 306,
    "start_time": "2022-01-17T15:59:04.899Z"
   },
   {
    "duration": 4,
    "start_time": "2022-01-17T15:59:05.207Z"
   },
   {
    "duration": 213,
    "start_time": "2022-01-17T15:59:05.212Z"
   },
   {
    "duration": 250,
    "start_time": "2022-01-17T15:59:05.427Z"
   },
   {
    "duration": 7,
    "start_time": "2022-01-17T15:59:05.679Z"
   },
   {
    "duration": 276,
    "start_time": "2022-01-17T15:59:05.687Z"
   },
   {
    "duration": 136,
    "start_time": "2022-01-17T15:59:05.965Z"
   },
   {
    "duration": 127,
    "start_time": "2022-01-17T15:59:06.103Z"
   },
   {
    "duration": 7,
    "start_time": "2022-01-17T15:59:06.231Z"
   },
   {
    "duration": 132,
    "start_time": "2022-01-17T15:59:06.239Z"
   },
   {
    "duration": 114,
    "start_time": "2022-01-17T15:59:06.373Z"
   },
   {
    "duration": 220,
    "start_time": "2022-01-17T15:59:06.488Z"
   },
   {
    "duration": 133,
    "start_time": "2022-01-17T15:59:06.710Z"
   },
   {
    "duration": 308,
    "start_time": "2022-01-17T15:59:06.844Z"
   },
   {
    "duration": 193,
    "start_time": "2022-01-17T15:59:07.153Z"
   },
   {
    "duration": 27,
    "start_time": "2022-01-17T15:59:07.348Z"
   },
   {
    "duration": 691,
    "start_time": "2022-01-17T15:59:07.376Z"
   },
   {
    "duration": 9,
    "start_time": "2022-01-17T15:59:08.068Z"
   },
   {
    "duration": 132,
    "start_time": "2022-01-17T15:59:08.079Z"
   },
   {
    "duration": 173,
    "start_time": "2022-01-17T15:59:08.213Z"
   },
   {
    "duration": 168,
    "start_time": "2022-01-17T15:59:08.387Z"
   },
   {
    "duration": 163,
    "start_time": "2022-01-17T15:59:08.557Z"
   },
   {
    "duration": 12,
    "start_time": "2022-01-17T15:59:08.721Z"
   },
   {
    "duration": 32,
    "start_time": "2022-01-17T15:59:08.734Z"
   },
   {
    "duration": 4,
    "start_time": "2022-01-17T15:59:08.770Z"
   },
   {
    "duration": 15,
    "start_time": "2022-01-17T15:59:08.775Z"
   },
   {
    "duration": 179,
    "start_time": "2022-01-17T15:59:08.792Z"
   },
   {
    "duration": 780,
    "start_time": "2022-01-17T15:59:08.973Z"
   },
   {
    "duration": 675,
    "start_time": "2022-01-17T15:59:09.755Z"
   },
   {
    "duration": 11,
    "start_time": "2022-01-17T15:59:10.431Z"
   },
   {
    "duration": 138,
    "start_time": "2022-01-17T15:59:10.444Z"
   }
  ],
  "kernelspec": {
   "display_name": "Python 3 (ipykernel)",
   "language": "python",
   "name": "python3"
  },
  "language_info": {
   "codemirror_mode": {
    "name": "ipython",
    "version": 3
   },
   "file_extension": ".py",
   "mimetype": "text/x-python",
   "name": "python",
   "nbconvert_exporter": "python",
   "pygments_lexer": "ipython3",
   "version": "3.9.7"
  },
  "toc": {
   "base_numbering": 1,
   "nav_menu": {},
   "number_sections": true,
   "sideBar": true,
   "skip_h1_title": true,
   "title_cell": "Содержание",
   "title_sidebar": "Contents",
   "toc_cell": true,
   "toc_position": {
    "height": "calc(100% - 180px)",
    "left": "10px",
    "top": "150px",
    "width": "165px"
   },
   "toc_section_display": true,
   "toc_window_display": false
  }
 },
 "nbformat": 4,
 "nbformat_minor": 2
}
